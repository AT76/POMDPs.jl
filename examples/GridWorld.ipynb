{
 "cells": [
  {
   "cell_type": "markdown",
   "metadata": {
    "slideshow": {
     "slide_type": "slide"
    }
   },
   "source": [
    "# Grid World Tutorial: POMDPs.jl for Complete Beginners"
   ]
  },
  {
   "cell_type": "markdown",
   "metadata": {
    "slideshow": {
     "slide_type": "slide"
    }
   },
   "source": [
    "In this tutorial, we try to provide a simple example of how to define a Markov decision process (MDP) problem using the [POMDPs.jl](https://github.com/sisl/POMDPs.jl) interface. After defining the problem in this way, you will be able to use the solvers that the interface supports. In this tutorial, we will show you how to use the value iteration and the Monte Carlo Tree Search solvers that the POMDPs.jl interface supports. We assume that you have some knowledge of basic programming, but are not necessarily familiar with all the features that exist in Julia. We try to cover the many language specific features used in POMDPs.jl in this tutorial. We do assume that you know the grid world problem, and are familiar with the formal defintion of the MDP.  Let's get started!"
   ]
  },
  {
   "cell_type": "markdown",
   "metadata": {},
   "source": [
    "## Dependencies\n",
    "You need to install a few modules in order to use this notebook. If you have all the modules below installed, great! If not run the following commands:\n"
   ]
  },
  {
   "cell_type": "code",
   "execution_count": 7,
   "metadata": {
    "collapsed": false
   },
   "outputs": [
    {
     "name": "stderr",
     "output_type": "stream",
     "text": [
      "\u001b[1m\u001b[36mINFO: \u001b[39m\u001b[22m\u001b[36mPackage POMDPs is already installed\n",
      "\u001b[39m\u001b[1m\u001b[36mINFO: \u001b[39m\u001b[22m\u001b[36mPackage POMDPToolbox is already installed\n",
      "\u001b[39m"
     ]
    },
    {
     "name": "stdout",
     "output_type": "stream",
     "text": [
      "Package already installed\n",
      "Package already installed\n"
     ]
    },
    {
     "name": "stderr",
     "output_type": "stream",
     "text": [
      "\u001b[1m\u001b[36mINFO: \u001b[39m\u001b[22m\u001b[36mCloning DiscreteValueIteration from https://github.com/JuliaPOMDP/DiscreteValueIteration.jl\n",
      "\u001b[39m\u001b[1m\u001b[36mINFO: \u001b[39m\u001b[22m\u001b[36mCloning MCTS from https://github.com/JuliaPOMDP/MCTS.jl\n",
      "\u001b[39m"
     ]
    }
   ],
   "source": [
    "# install the POMDPs.jl interface\n",
    "Pkg.add(\"POMDPs\")\n",
    "Pkg.add(\"POMDPToolbox\")\n",
    "\n",
    "using POMDPs # we'll use the POMDPs.add function to install packages that are part of JuliaPOMDP\n",
    "\n",
    "# install the Value Iteration solver\n",
    "POMDPs.add(\"DiscreteValueIteration\")\n",
    "\n",
    "# install the MCTS solver\n",
    "POMDPs.add(\"MCTS\")"
   ]
  },
  {
   "cell_type": "markdown",
   "metadata": {},
   "source": [
    "If you already have all of the modules above, make sure you have the most recent versions. Many of these are still under heavy development, so update before starting by running\n",
    "\n",
    "```julia\n",
    "Pkg.update()\n",
    "```"
   ]
  },
  {
   "cell_type": "code",
   "execution_count": 8,
   "metadata": {
    "collapsed": false,
    "slideshow": {
     "slide_type": "slide"
    }
   },
   "outputs": [],
   "source": [
    "# first import the POMDPs.jl interface\n",
    "using POMDPs\n",
    "\n",
    "# import our helper Distributions.jl module\n",
    "using Distributions\n",
    "\n",
    "# POMDPToolbox has some glue code to help us use Distributions.jl\n",
    "using POMDPToolbox"
   ]
  },
  {
   "cell_type": "markdown",
   "metadata": {},
   "source": [
    "## Problem Overview\n",
    "In Grid World, we are trying to control an agent who has trouble moving in the desired direction. In our problem, we have a four reward states on a $10\\times 10$ grid. Each position on the grid represents a state, and the positive reward states are terminal (the agent stops recieveing reward after reaching them). The agent has four actions to choose from: up, down, left, right. The agent moves in the desired direction with a probability of 0.7, and with a probability of 0.1 in each of the remaining three directions. The problem has the following form:\n",
    "![example](http://artint.info/figures/ch09/gridworldc.gif)"
   ]
  },
  {
   "cell_type": "markdown",
   "metadata": {},
   "source": [
    "## MDP Type\n",
    "\n",
    "In POMDPs.jl, an MDP is defined by creating a subtype of the `MDP` abstract type. The types of the states and actions for the MDP are declared as [parameters](https://docs.julialang.org/en/stable/manual/types/#Parametric-Types-1) of the `MDP` type.  For example, if our states and actions are both represented by integers we can define our MDP type in the following way:\n",
    "```julia\n",
    "type MyMDP <: MDP{Int64, Int64} # MDP{StateType, ActionType}\n",
    "\n",
    "end\n",
    "```\n",
    "`MyMDP` is a subtype from an abstract MDP type defined in POMDPs.jl. Let's first define types to represent grid worls states and actions, and then we'll go through defining our Grid World MDP type. "
   ]
  },
  {
   "cell_type": "markdown",
   "metadata": {
    "slideshow": {
     "slide_type": "slide"
    }
   },
   "source": [
    "## States\n",
    "The data container below represents the state of the agent in the grid world."
   ]
  },
  {
   "cell_type": "code",
   "execution_count": 9,
   "metadata": {
    "collapsed": true
   },
   "outputs": [],
   "source": [
    "struct GridWorldState \n",
    "    x::Int64 # x position\n",
    "    y::Int64 # y position\n",
    "    done::Bool # are we in a terminal state?\n",
    "end"
   ]
  },
  {
   "cell_type": "markdown",
   "metadata": {},
   "source": [
    "Below are some convenience functions for working with the GridWorldState. "
   ]
  },
  {
   "cell_type": "code",
   "execution_count": 10,
   "metadata": {
    "collapsed": false
   },
   "outputs": [
    {
     "data": {
      "text/plain": [
       "posequal (generic function with 1 method)"
      ]
     },
     "execution_count": 10,
     "metadata": {},
     "output_type": "execute_result"
    }
   ],
   "source": [
    "# initial state constructor\n",
    "GridWorldState(x::Int64, y::Int64) = GridWorldState(x,y,false)\n",
    "# checks if the position of two states are the same\n",
    "posequal(s1::GridWorldState, s2::GridWorldState) = s1.x == s2.x && s1.y == s2.y"
   ]
  },
  {
   "cell_type": "markdown",
   "metadata": {},
   "source": [
    "## Actions\n",
    "Since our action is simply the direction the agent chooses to go (i.e. up, down, left, right), we can use a Symbol to represent it. Symbols are essentially the same as strings, but they typically consist of only one word and literals begin with \"`:`\". See [this page](https://stackoverflow.com/questions/23480722/what-is-a-symbol-in-julia) for a techincal discussion of what they are. Note that in this case, we will not define a custom type for our action, instead we represent it directly with a symbol. So that our action looks like:\n",
    "```julia\n",
    "action = :up # can also be :down, :left, :right\n",
    "```"
   ]
  },
  {
   "cell_type": "markdown",
   "metadata": {},
   "source": [
    "## MDP\n",
    "The GridWorld data container is defined below. It holds all the information we need to define the MDP tuple $$(\\mathcal{S}, \\mathcal{A}, T, R).$$"
   ]
  },
  {
   "cell_type": "code",
   "execution_count": 11,
   "metadata": {
    "collapsed": true
   },
   "outputs": [],
   "source": [
    "# the grid world mdp type\n",
    "type GridWorld <: MDP{GridWorldState, Symbol} # Note that our MDP is parametarized by the state and the action\n",
    "    size_x::Int64 # x size of the grid\n",
    "    size_y::Int64 # y size of the grid\n",
    "    reward_states::Vector{GridWorldState} # the states in which agent recieves reward\n",
    "    reward_values::Vector{Float64} # reward values for those states\n",
    "    tprob::Float64 # probability of transitioning to the desired state\n",
    "    discount_factor::Float64 # disocunt factor\n",
    "end"
   ]
  },
  {
   "cell_type": "markdown",
   "metadata": {},
   "source": [
    "Before moving on, I want to create a constructor for GridWorld for convenience. Currently, if I want to create an instance of GridWorld, I have to pass in all of fields inside the GridWorld container (size_x, size_y, etc). The function below will return a GridWorld type with all the fields filled with some default values."
   ]
  },
  {
   "cell_type": "code",
   "execution_count": 12,
   "metadata": {
    "collapsed": false
   },
   "outputs": [
    {
     "data": {
      "text/plain": [
       "4-element Array{GridWorldState,1}:\n",
       " GridWorldState(4, 3, false)\n",
       " GridWorldState(4, 6, false)\n",
       " GridWorldState(9, 3, false)\n",
       " GridWorldState(8, 8, false)"
      ]
     },
     "execution_count": 12,
     "metadata": {},
     "output_type": "execute_result"
    }
   ],
   "source": [
    "# we use key worded arguments so we can change any of the values we pass in \n",
    "function GridWorld(;sx::Int64=10, # size_x\n",
    "                    sy::Int64=10, # size_y\n",
    "                    rs::Vector{GridWorldState}=[GridWorldState(4,3), GridWorldState(4,6), GridWorldState(9,3), GridWorldState(8,8)], # reward states\n",
    "                    rv::Vector{Float64}=rv = [-10.,-5,10,3], # reward values\n",
    "                    tp::Float64=0.7, # tprob\n",
    "                    discount_factor::Float64=0.9)\n",
    "    return GridWorld(sx, sy, rs, rv, tp, discount_factor)\n",
    "end\n",
    "\n",
    "# we can now create a GridWorld mdp instance like this:\n",
    "mdp = GridWorld()\n",
    "mdp.reward_states # mdp contains all the defualt values from the constructor"
   ]
  },
  {
   "cell_type": "markdown",
   "metadata": {},
   "source": [
    "## Spaces\n",
    "Let's look at how we can define the state and action spaces for our problem."
   ]
  },
  {
   "cell_type": "markdown",
   "metadata": {},
   "source": [
    "### State Space\n",
    "The state space in an MDP represents all the states in the problem. There are two primary functionalities that we want our spaces to support. We want to be able to iterate over the state space (for Value Iteration for example), and sometimes we want to be able to sample form the state space (used in some POMDP solvers). In this notebook, we will only look at iterable state spaces. "
   ]
  },
  {
   "cell_type": "markdown",
   "metadata": {},
   "source": [
    "Since we can iterate over elements of an array, and our problem is small, we can store all of our states in an array. If your problem is very large (tens of millions of states), it might be worthwhile to create a custom type to define the problem's state space. See [this](http://stackoverflow.com/questions/25028539/how-to-implement-an-iterator-in-julia) post on stackoverflow on making simple iterators. "
   ]
  },
  {
   "cell_type": "code",
   "execution_count": 13,
   "metadata": {
    "collapsed": true
   },
   "outputs": [],
   "source": [
    "function POMDPs.states(mdp::GridWorld)\n",
    "    s = GridWorldState[] # initialize an array of GridWorldStates\n",
    "    # loop over all our states, remeber there are two binary variables:\n",
    "    # done (d)\n",
    "    for d = 0:1, y = 1:mdp.size_y, x = 1:mdp.size_x\n",
    "        push!(s, GridWorldState(x,y,d))\n",
    "    end\n",
    "    return s\n",
    "end;"
   ]
  },
  {
   "cell_type": "markdown",
   "metadata": {},
   "source": [
    "Here, the code: ```function POMDPs.states(mdp::GridWorld)``` means that we want to take the function called ```states(...)``` from the POMDPs.jl module and add another method to it. The ```states(...)``` function in POMDPs.jl doesn't know about our GridWorld type. However, now when ```states(...)``` is called with GridWorld it will dispatch the function we defined above! This is the awesome thing about multiple-dispatch, and one of the features that should make working with MDP/POMDPs easier in Julia. \n",
    "\n",
    "The solvers that support the POMDPs.jl interface know that a function called ```states(...)``` exists in the interface. However, they do not know the behavior of that function for GridWorld. That means in order for the solvers to use this behavior all we have to do is pass an instance of our GridWorld type into the solver. When ```states(...)``` is called in the solver with the GridWorld type, the function above will be called.   "
   ]
  },
  {
   "cell_type": "code",
   "execution_count": 14,
   "metadata": {
    "collapsed": false
   },
   "outputs": [
    {
     "data": {
      "text/plain": [
       "GridWorldState(1, 1, false)"
      ]
     },
     "execution_count": 14,
     "metadata": {},
     "output_type": "execute_result"
    }
   ],
   "source": [
    "mdp = GridWorld()\n",
    "state_space = states(mdp);\n",
    "state_space[1]"
   ]
  },
  {
   "cell_type": "markdown",
   "metadata": {},
   "source": [
    "### Action Space"
   ]
  },
  {
   "cell_type": "markdown",
   "metadata": {},
   "source": [
    "The action space is the set of all actions availiable to the agent. In the grid world problem the action space consists of up, down, left, and right. We can define the action space by implementing a new method of the `actions` function."
   ]
  },
  {
   "cell_type": "code",
   "execution_count": 15,
   "metadata": {
    "collapsed": true
   },
   "outputs": [],
   "source": [
    "POMDPs.actions(mdp::GridWorld) = [:up, :down, :left, :right];"
   ]
  },
  {
   "cell_type": "markdown",
   "metadata": {},
   "source": [
    "Now that we've defined our state and action spaces, we are half-way thorugh our MDP tuple:\n",
    "$$\n",
    "(\\mathcal{S}, \\mathcal{A}, T, R)\n",
    "$$"
   ]
  },
  {
   "cell_type": "markdown",
   "metadata": {},
   "source": [
    "## Distributions"
   ]
  },
  {
   "cell_type": "markdown",
   "metadata": {},
   "source": [
    "Since MDPs are probabilistic models, we have to deal with probability distributions. In this section, we outline how to define probability distriubtions, and what tools are availiable to help you with the task."
   ]
  },
  {
   "cell_type": "markdown",
   "metadata": {},
   "source": [
    "### Transition Distribution "
   ]
  },
  {
   "cell_type": "markdown",
   "metadata": {},
   "source": [
    "If you are familiar with MDPs, you know that the transition function $T(s' \\mid s, a)$ captures the dynamics of the system. Specifically, $T(s' \\mid s, a)$ is a real value that defines the probabiltiy of transitioning to state $s'$ given that you took action $a$ in state $s$. The transition distirubtion $T(\\cdot \\mid s, a)$ is a slightly different construct. This is the actual distribution over the states that our agent can reach given that its in state $s$ and took action $a$. In other words this is the distribution over $s'$. \n",
    "\n",
    "For this grid world example there are only a few states that the agent can transition to, so there are only a few states that have nonzero probability in $T(\\cdot \\mid s, a)$. Thus, we will use the sparse [categorical distribution](https://en.wikipedia.org/wiki/Categorical_distribution) (`SparseCat`) from POMDPToolbox. [Distributions.jl](https://github.com/JuliaStats/Distributions.jl) also contains some distributions, but in many cases, a custom distribution type will need to be defined - see [the source code for `SparseCat`](https://github.com/JuliaPOMDP/POMDPToolbox.jl/blob/master/src/distributions/sparse_cat.jl) for an example.\n",
    "\n",
    "A `SparseCat` object contains a vector of states and an associated vector of their probabilities. The probabilities of all other states are implied to be zero."
   ]
  },
  {
   "cell_type": "markdown",
   "metadata": {},
   "source": [
    "## Transition Model"
   ]
  },
  {
   "cell_type": "markdown",
   "metadata": {},
   "source": [
    "In this section we will define the system dynamics of the gird world MDP. In POMDPs.jl, we work with transition distirbution functions $T(s' \\mid s, a)$, so we want to write a function that can generate the transition distributions over $s'$ for us given an $(s, a)$ pair. "
   ]
  },
  {
   "cell_type": "markdown",
   "metadata": {},
   "source": [
    "In grid world, the dynamics of the system are fairly simple. We move in the specified direction with some pre-defined probability. This is the `tprob` parameter in our GridWorld MDP (it is set to 0.7 in the DMU book example). If we get to state with a positive reward, we've reached a terminal state and can no longer accumulate reward."
   ]
  },
  {
   "cell_type": "markdown",
   "metadata": {},
   "source": [
    "In the transition function we want to fill the neighbors in our distribution d with the reachable states from the state, action pair. We want to fill the probs in our distirbution d with the probabilities of reaching that neighbor. "
   ]
  },
  {
   "cell_type": "code",
   "execution_count": 16,
   "metadata": {
    "collapsed": true
   },
   "outputs": [],
   "source": [
    "# transition helpers\n",
    "function inbounds(mdp::GridWorld,x::Int64,y::Int64)\n",
    "    if 1 <= x <= mdp.size_x && 1 <= y <= mdp.size_y\n",
    "        return true\n",
    "    else\n",
    "        return false\n",
    "    end\n",
    "end\n",
    "\n",
    "inbounds(mdp::GridWorld, state::GridWorldState) = inbounds(mdp, state.x, state.y);"
   ]
  },
  {
   "cell_type": "code",
   "execution_count": 17,
   "metadata": {
    "collapsed": true
   },
   "outputs": [],
   "source": [
    "function POMDPs.transition(mdp::GridWorld, state::GridWorldState, action::Symbol)\n",
    "    a = action\n",
    "    x = state.x\n",
    "    y = state.y\n",
    "    \n",
    "    if state.done\n",
    "        return SparseCat([GridWorldState(x, y, true)], [1.0])\n",
    "    elseif state in mdp.reward_states\n",
    "        return SparseCat([GridWorldState(x, y, true)], [1.0])\n",
    "    end\n",
    "\n",
    "    neighbors = [\n",
    "        GridWorldState(x+1, y, false), # right\n",
    "        GridWorldState(x-1, y, false), # left\n",
    "        GridWorldState(x, y-1, false), # down\n",
    "        GridWorldState(x, y+1, false), # up\n",
    "        ] # See Performance Note below\n",
    "    \n",
    "    targets = Dict(:right=>1, :left=>2, :down=>3, :up=>4) # See Performance Note below\n",
    "    target = targets[a]\n",
    "    \n",
    "    probability = fill(0.0, 4)\n",
    "\n",
    "    if !inbounds(mdp, neighbors[target])\n",
    "        # If would transition out of bounds, stay in\n",
    "        # same cell with probability 1\n",
    "        return SparseCat([GridWorldState(x, y)], [1.0])\n",
    "    else\n",
    "        probability[target] = mdp.tprob\n",
    "\n",
    "        oob_count = sum(!inbounds(mdp, n) for n in neighbors) # number of out of bounds neighbors\n",
    "\n",
    "        new_probability = (1.0 - mdp.tprob)/(3-oob_count)\n",
    "\n",
    "        for i = 1:4 # do not include neighbor 5\n",
    "            if inbounds(mdp, neighbors[i]) && i != target\n",
    "                probability[i] = new_probability\n",
    "            end\n",
    "        end\n",
    "    end\n",
    "\n",
    "    return SparseCat(neighbors, probability)\n",
    "end;"
   ]
  },
  {
   "cell_type": "markdown",
   "metadata": {},
   "source": [
    "> Performance Note: It is inefficient to create mutable objects like dictionaries and vectors in low-level code like the `transition` function because it requires dynamic memory allocation. This code is written for clarity rather than speed. Better speed could be realized by putting the Dict in the mdp object or using if statements instead, and replacing the vector with a [`StaticArrays.Svector`](https://github.com/JuliaArrays/StaticArrays.jl). However, a much more important consideration for performance is [type stability](https://en.wikibooks.org/wiki/Introducing_Julia/Types#Type_stability), which this function maintains because it always returns a `SparseCat{Vector{GridWorldState},Vector{Float64}}` object."
   ]
  },
  {
   "cell_type": "markdown",
   "metadata": {},
   "source": [
    "## Reward Model\n",
    "The reward model $R(s,a,s')$ is a function that returns the reward of being in state $s$, taking an action $a$ from that state, and ending up in state $s'$. In our problem, we are rewarded for reaching a terimanl reward state (this could be positive or negative)."
   ]
  },
  {
   "cell_type": "code",
   "execution_count": 18,
   "metadata": {
    "collapsed": true
   },
   "outputs": [],
   "source": [
    "function POMDPs.reward(mdp::GridWorld, state::GridWorldState, action::Symbol, statep::GridWorldState) #deleted action\n",
    "    if state.done\n",
    "        return 0.0\n",
    "    end\n",
    "    r = 0.0\n",
    "    n = length(mdp.reward_states)\n",
    "    for i = 1:n\n",
    "        if posequal(state, mdp.reward_states[i])\n",
    "            r += mdp.reward_values[i]\n",
    "        end\n",
    "    end\n",
    "    return r\n",
    "end;\n"
   ]
  },
  {
   "cell_type": "markdown",
   "metadata": {},
   "source": [
    "## Miscallenous Functions\n",
    "We are almost done! Just a few simple functions left. First let's implement two functions that return the sizes of our state and action spaces."
   ]
  },
  {
   "cell_type": "code",
   "execution_count": 19,
   "metadata": {
    "collapsed": true
   },
   "outputs": [],
   "source": [
    "POMDPs.n_states(mdp::GridWorld) = 2*mdp.size_x*mdp.size_y\n",
    "POMDPs.n_actions(mdp::GridWorld) = 4"
   ]
  },
  {
   "cell_type": "markdown",
   "metadata": {},
   "source": [
    "Now, we implement the discount function."
   ]
  },
  {
   "cell_type": "code",
   "execution_count": 20,
   "metadata": {
    "collapsed": true
   },
   "outputs": [],
   "source": [
    "POMDPs.discount(mdp::GridWorld) = mdp.discount_factor;"
   ]
  },
  {
   "cell_type": "markdown",
   "metadata": {},
   "source": [
    "The last thing we need is indexing functions. This allows us to index between the discrete utility array and the states and actions in our problem. We will use the ```sub2ind()``` function from Julia base to help us here."
   ]
  },
  {
   "cell_type": "code",
   "execution_count": 21,
   "metadata": {
    "collapsed": true
   },
   "outputs": [],
   "source": [
    "function POMDPs.state_index(mdp::GridWorld, state::GridWorldState)\n",
    "    sd = Int(state.done + 1)\n",
    "    return sub2ind((mdp.size_x, mdp.size_y, 2), state.x, state.y, sd)\n",
    "end\n",
    "function POMDPs.action_index(mdp::GridWorld, act::Symbol)\n",
    "    if act==:up\n",
    "        return 1\n",
    "    elseif act==:down\n",
    "        return 2\n",
    "    elseif act==:left\n",
    "        return 3\n",
    "    elseif act==:right\n",
    "        return 4\n",
    "    end\n",
    "    error(\"Invalid GridWorld action: $act\")\n",
    "end;"
   ]
  },
  {
   "cell_type": "markdown",
   "metadata": {},
   "source": [
    "Finally let's define a function that checks if a state is terminal."
   ]
  },
  {
   "cell_type": "code",
   "execution_count": 22,
   "metadata": {
    "collapsed": true
   },
   "outputs": [],
   "source": [
    "POMDPs.isterminal(mdp::GridWorld, s::GridWorldState) = s.done"
   ]
  },
  {
   "cell_type": "markdown",
   "metadata": {},
   "source": [
    "# Simulations\n",
    "\n",
    "Now that we have defined the problem, we should simulate it to see it working. The funcion `sim(::MDP)` from `POMDPToolbox` provides a convenient `do` block syntax for exploring the behavior of the mdp. The `do` block receives the state as the argument and should return an action. In this way it acts as a \"hook\" into the simulation and allows quick ad-hoc policies to be defined."
   ]
  },
  {
   "cell_type": "code",
   "execution_count": 23,
   "metadata": {
    "collapsed": false
   },
   "outputs": [
    {
     "name": "stdout",
     "output_type": "stream",
     "text": [
      "state is: GridWorldState(4, 1, false)\n",
      "moving right\n",
      "state is: GridWorldState(5, 1, false)\n",
      "moving right\n",
      "state is: GridWorldState(6, 1, false)\n",
      "moving right\n",
      "state is: GridWorldState(7, 1, false)\n",
      "moving right\n",
      "state is: GridWorldState(8, 1, false)\n",
      "moving right\n",
      "state is: GridWorldState(9, 1, false)\n",
      "moving right\n",
      "state is: GridWorldState(10, 1, false)\n",
      "moving right\n",
      "state is: GridWorldState(10, 1, false)\n",
      "moving right\n",
      "state is: GridWorldState(10, 1, false)\n",
      "moving right\n",
      "state is: GridWorldState(10, 1, false)\n",
      "moving right\n"
     ]
    }
   ],
   "source": [
    "mdp = GridWorld()\n",
    "mdp.tprob=1.0\n",
    "sim(mdp, GridWorldState(4,1), max_steps=10) do s\n",
    "    println(\"state is: $s\")\n",
    "    a = :right\n",
    "    println(\"moving $a\")\n",
    "    return a\n",
    "end;"
   ]
  },
  {
   "cell_type": "markdown",
   "metadata": {},
   "source": [
    "## Value Iteration Solver"
   ]
  },
  {
   "cell_type": "markdown",
   "metadata": {},
   "source": [
    "Value iteration is a dynamic porgramming apporach for solving MDPs. See the [wikipedia](https://en.wikipedia.org/wiki/Markov_decision_process#Value_iteration) article for a brief explanation. The solver can be found [here](https://github.com/JuliaPOMDP/DiscreteValueIteration.jl). If you haven't isntalled the solver yet, you can run the following from the Julia REPL\n",
    "```julia\n",
    "using POMDPs\n",
    "POMDPs.add(\"DiscreteValueIteration\")\n",
    "```\n",
    "to download the module."
   ]
  },
  {
   "cell_type": "markdown",
   "metadata": {},
   "source": [
    "Each POMDPs.jl solver provides two data types for you to interface with. The first is the Solver type which contains solver parameters. The second is the Policy type. Let's see hwo we can use them to get an optimal action at a given state."
   ]
  },
  {
   "cell_type": "code",
   "execution_count": 24,
   "metadata": {
    "collapsed": false,
    "scrolled": false
   },
   "outputs": [
    {
     "name": "stderr",
     "output_type": "stream",
     "text": [
      "\u001b[1m\u001b[36mINFO: \u001b[39m\u001b[22m\u001b[36mRecompiling stale cache file /home/zach/.julia/lib/v0.6/DiscreteValueIteration.ji for module DiscreteValueIteration.\n",
      "\u001b[39m"
     ]
    },
    {
     "name": "stdout",
     "output_type": "stream",
     "text": [
      "[Iteration 1   ] residual:         10 | iteration runtime:      0.454 ms, (  0.000454 s total)\n",
      "[Iteration 2   ] residual:        6.3 | iteration runtime:      0.407 ms, (  0.000861 s total)\n",
      "[Iteration 3   ] residual:       4.54 | iteration runtime:      0.401 ms, (   0.00126 s total)\n",
      "[Iteration 4   ] residual:       3.39 | iteration runtime:      0.398 ms, (   0.00166 s total)\n",
      "[Iteration 5   ] residual:       2.57 | iteration runtime:      0.421 ms, (   0.00208 s total)\n",
      "[Iteration 6   ] residual:       1.92 | iteration runtime:      0.392 ms, (   0.00247 s total)\n",
      "[Iteration 7   ] residual:       1.39 | iteration runtime:      0.396 ms, (   0.00287 s total)\n",
      "[Iteration 8   ] residual:       1.07 | iteration runtime:      0.389 ms, (   0.00326 s total)\n",
      "[Iteration 9   ] residual:      0.861 | iteration runtime:      0.388 ms, (   0.00365 s total)\n",
      "[Iteration 10  ] residual:      0.662 | iteration runtime:      0.402 ms, (   0.00405 s total)\n",
      "[Iteration 11  ] residual:      0.489 | iteration runtime:      0.433 ms, (   0.00448 s total)\n",
      "[Iteration 12  ] residual:      0.405 | iteration runtime:      0.410 ms, (   0.00489 s total)\n",
      "[Iteration 13  ] residual:      0.341 | iteration runtime:      0.426 ms, (   0.00532 s total)\n",
      "[Iteration 14  ] residual:      0.244 | iteration runtime:      0.423 ms, (   0.00574 s total)\n",
      "[Iteration 15  ] residual:      0.166 | iteration runtime:      0.488 ms, (   0.00623 s total)\n",
      "[Iteration 16  ] residual:      0.106 | iteration runtime:      0.414 ms, (   0.00664 s total)\n",
      "[Iteration 17  ] residual:     0.0638 | iteration runtime:      0.422 ms, (   0.00706 s total)\n",
      "[Iteration 18  ] residual:     0.0369 | iteration runtime:      0.421 ms, (   0.00749 s total)\n",
      "[Iteration 19  ] residual:     0.0208 | iteration runtime:      0.434 ms, (   0.00792 s total)\n",
      "[Iteration 20  ] residual:     0.0115 | iteration runtime:      0.467 ms, (   0.00839 s total)\n",
      "[Iteration 21  ] residual:    0.00621 | iteration runtime:      0.500 ms, (   0.00889 s total)\n",
      "[Iteration 22  ] residual:    0.00333 | iteration runtime:      0.501 ms, (   0.00939 s total)\n",
      "[Iteration 23  ] residual:    0.00177 | iteration runtime:      0.494 ms, (   0.00988 s total)\n",
      "[Iteration 24  ] residual:   0.000934 | iteration runtime:      0.503 ms, (    0.0104 s total)\n"
     ]
    }
   ],
   "source": [
    "# first let's load the value iteration module\n",
    "using DiscreteValueIteration\n",
    "\n",
    "# initialize the problem\n",
    "mdp = GridWorld()\n",
    "\n",
    "# initialize the solver\n",
    "# max_iterations: maximum number of iterations value iteration runs for (default is 100)\n",
    "# belres: the value of Bellman residual used in the solver (defualt is 1e-3)\n",
    "solver = ValueIterationSolver(max_iterations=100, belres=1e-3)\n",
    "\n",
    "# initialize the policy by passing in your problem\n",
    "policy = ValueIterationPolicy(mdp) \n",
    "\n",
    "# solve for an optimal policy\n",
    "# if verbose=false, the text output will be supressed (false by default)\n",
    "solve(solver, mdp, policy, verbose=true);"
   ]
  },
  {
   "cell_type": "markdown",
   "metadata": {},
   "source": [
    "Now, we can use the policy along with the ```action(...)``` function to get the optimal action in a given state."
   ]
  },
  {
   "cell_type": "code",
   "execution_count": 25,
   "metadata": {
    "collapsed": false
   },
   "outputs": [
    {
     "data": {
      "text/plain": [
       ":up"
      ]
     },
     "execution_count": 25,
     "metadata": {},
     "output_type": "execute_result"
    }
   ],
   "source": [
    "# say we are in state (9,2)\n",
    "s = GridWorldState(9,2)\n",
    "a = action(policy, s)"
   ]
  },
  {
   "cell_type": "markdown",
   "metadata": {},
   "source": [
    "Remeber that the state (9,3) has an immediate reward of +10.0, so the policy we found is moving up as expected!"
   ]
  },
  {
   "cell_type": "code",
   "execution_count": 26,
   "metadata": {
    "collapsed": false
   },
   "outputs": [
    {
     "data": {
      "text/plain": [
       ":right"
      ]
     },
     "execution_count": 26,
     "metadata": {},
     "output_type": "execute_result"
    }
   ],
   "source": [
    "s = GridWorldState(8,3)\n",
    "a = action(policy, s)"
   ]
  },
  {
   "cell_type": "markdown",
   "metadata": {},
   "source": [
    "![description](files/gw.jpg)"
   ]
  },
  {
   "cell_type": "markdown",
   "metadata": {},
   "source": [
    "## Monte-Carlo Tree Search Solver\n",
    "Monte-Carlo Tree Search (MCTS) is another MDP solver. It is an online method that looks for the best action from only the current state by building a search tree. A nice overview of MCTS can be found [here](http://pubs.doc.ic.ac.uk/survey-mcts-methods/survey-mcts-methods.pdf). Run the following command to donwload the module:\n",
    "```julia\n",
    "using POMDPs\n",
    "POMDPs.add(\"MCTS\")\n",
    "```\n",
    "Let's quickly run through an example of using the solver:"
   ]
  },
  {
   "cell_type": "code",
   "execution_count": 27,
   "metadata": {
    "collapsed": false,
    "scrolled": true
   },
   "outputs": [
    {
     "name": "stderr",
     "output_type": "stream",
     "text": [
      "\u001b[1m\u001b[36mINFO: \u001b[39m\u001b[22m\u001b[36mRecompiling stale cache file /home/zach/.julia/lib/v0.6/MCTS.ji for module MCTS.\n",
      "\u001b[39m\u001b[1m\u001b[36mINFO: \u001b[39m\u001b[22m\u001b[36mLoading HttpServer methods...\n",
      "\u001b[39m"
     ]
    },
    {
     "data": {
      "text/plain": [
       ":up"
      ]
     },
     "execution_count": 27,
     "metadata": {},
     "output_type": "execute_result"
    }
   ],
   "source": [
    "using MCTS\n",
    "\n",
    "# initialize the problem\n",
    "mdp = GridWorld()\n",
    "\n",
    "# initialize the solver with hyper parameters\n",
    "# n_iterations: the number of iterations that each search runs for\n",
    "# depth: the depth of the tree (how far away from the current state the algorithm explores)\n",
    "# exploration constant: this is how much weight to put into exploratory actions. \n",
    "# A good rule of thumb is to set the exploration constant to what you expect the upper bound on your average expected reward to be.\n",
    "solver = MCTSSolver(n_iterations=1000,\n",
    "                    depth=20,\n",
    "                    exploration_constant=10.0,\n",
    "                    enable_tree_vis=true)\n",
    "\n",
    "# initialize the planner by calling the `solve` function. For online solvers, the \n",
    "planner = solve(solver, mdp)\n",
    "\n",
    "# to get the action:\n",
    "s = GridWorldState(9,2)\n",
    "a = action(planner, s)"
   ]
  },
  {
   "cell_type": "markdown",
   "metadata": {
    "collapsed": true
   },
   "source": [
    "Let's simulate using the planner to determine a good action at each timestep."
   ]
  },
  {
   "cell_type": "code",
   "execution_count": 28,
   "metadata": {
    "collapsed": false
   },
   "outputs": [
    {
     "name": "stdout",
     "output_type": "stream",
     "text": [
      "Total discounted reward: -6.561000000000002\n"
     ]
    }
   ],
   "source": [
    "# we'll use POMDPToolbox for simulation\n",
    "using POMDPToolbox # if you don't have this module install it by running POMDPs.add(\"POMDPToolbox\")\n",
    "\n",
    "s = GridWorldState(4,1) # this is our starting state\n",
    "hist = HistoryRecorder(max_steps=1000)\n",
    "\n",
    "hist = simulate(hist, mdp, policy, s)\n",
    "\n",
    "println(\"Total discounted reward: $(discounted_reward(hist))\")"
   ]
  },
  {
   "cell_type": "markdown",
   "metadata": {},
   "source": [
    "Now we can view the state-action history using the `eachstep` funciton."
   ]
  },
  {
   "cell_type": "code",
   "execution_count": 29,
   "metadata": {
    "collapsed": false
   },
   "outputs": [
    {
     "name": "stdout",
     "output_type": "stream",
     "text": [
      "s: GridWorldState(4, 1, false)  a: right   s': GridWorldState(3, 1, false)\n",
      "s: GridWorldState(3, 1, false)  a: right   s': GridWorldState(4, 1, false)\n",
      "s: GridWorldState(4, 1, false)  a: right   s': GridWorldState(4, 2, false)\n",
      "s: GridWorldState(4, 2, false)  a: right   s': GridWorldState(4, 3, false)\n",
      "s: GridWorldState(4, 3, false)  a: up      s': GridWorldState(4, 3, true)\n"
     ]
    }
   ],
   "source": [
    "for (s, a, sp) in eachstep(hist, \"s,a,sp\")\n",
    "    @printf(\"s: %-26s  a: %-6s  s': %-26s\\n\", s, a, sp)\n",
    "end"
   ]
  },
  {
   "cell_type": "markdown",
   "metadata": {},
   "source": [
    "To see what the planner is doing, we can look at the tree created when it plans at a particular state, for example, the first state in the history."
   ]
  },
  {
   "cell_type": "code",
   "execution_count": 30,
   "metadata": {
    "collapsed": false
   },
   "outputs": [
    {
     "data": {
      "text/html": [
       "    <!DOCTYPE html>\n",
       "    <html>\n",
       "    <head>\n",
       "        <meta charset=\"UTF-8\">\n",
       "        <title>MCTS tree</title>\n",
       "    </head>\n",
       "    <body>\n",
       "    <div id=\"treevisu0X9AGgb\">\n",
       "    <style>\n",
       "        \n",
       ".node {\n",
       "    cursor: pointer;\n",
       "}\n",
       "\n",
       ".node circle {\n",
       "\t  fill: #fff;\n",
       "\t  stroke: steelblue;\n",
       "\t  stroke-width: 3px;\n",
       "      r: 10;\n",
       "}\n",
       "\n",
       ".node rect {\n",
       "\t  fill: #fff;\n",
       "\t  stroke: steelblue;\n",
       "\t  stroke-width: 3px;\n",
       "      x: -10;\n",
       "      y: -10;\n",
       "      width: 20;\n",
       "      height: 20;\n",
       "}\n",
       "\n",
       ".node path {\n",
       "    fill: #ffffff;\n",
       "    /* stroke: steelblue; */\n",
       "    stroke-width: 2px;\n",
       "}\n",
       ".node text {\n",
       "    font-family: Arial, Helvetica, sans-serif;\n",
       "    font-style: normal;\n",
       "    font-size: 12px;\n",
       "}\n",
       ".link /* path */ {\n",
       "    fill: none;\n",
       "    stroke: #cccccc;\n",
       "    stroke-width: 2px;\n",
       "}\n",
       ".link text {\n",
       "    font-family: Arial, Helvetica, sans-serif;\n",
       "    font-style: normal;\n",
       "    font-size: 12px;\n",
       "}\n",
       ".hover text{\n",
       "    font-family: Arial, Helvetica, sans-serif;\n",
       "    font-style: normal;\n",
       "    font-size: 12px;\n",
       "}\n",
       "\n",
       "/*\n",
       ".svg-container {\n",
       "    display: inline-block;\n",
       "    position: relative;\n",
       "    width: 100%;\n",
       "    padding-bottom: 100%;\n",
       "    vertical-align: top;\n",
       "    overflow: hidden;\n",
       "}\n",
       ".svg-content-responsive {\n",
       "    display: inline-block;\n",
       "    position: absolute;\n",
       "    top: 10px;\n",
       "    left: 0;\n",
       "}\n",
       "*/\n",
       "\n",
       "    </style>\n",
       "    <script>\n",
       "       (function(){\n",
       "        var treeData = {\"children\":[[257,258,259,260],[3,4,5,6],[356,132,112,27],[112,132,356,27],[112,132,356,27],[27,132,112,356],[8,9,10,11],[137],[341,57],[7],[341,137,57],[13,14,15,16],[271,157,247],[271,212,157,247],[271,212,247],[271,212,157,247],[18,19,20,21],[311],[316],[311],[316],[23,24,25,26],[296,147,142,72],[142,296,147,72],[147,296,142,72],[147,296,142,72],[28,29,30,31],[281,2,232,127],[281,2,232,127],[232,127],[281,2,232,127],[33,34,35,36],[346],[197,346],[102],[291],[38,39,40,41],[266],[],[],[],[43,44,45,46],[326,62,117],[42],[326,62,117],[326,62,117],[48,49,50,51],[281,1,117],[47],[281,1,117],[281,1,117],[53,54,55,56],[336,62,242],[52],[336,62],[336,62,242],[58,59,60,61],[331,7],[331,7,217],[57],[7,217],[63,64,65,66],[42,107,52],[62],[42,107,52],[42,107,52],[68,69,70,71],[187,152,192],[187,152,192],[152,217],[187,152,217],[73,74,75,76],[227,22,192,162],[227,22,192,162],[227,22,192,162],[227,22,192,162],[78,79,80,81],[252],[252],[351],[351],[83,84,85,86],[],[],[],[],[88,89,90,91],[],[],[],[],[93,94,95,96],[276,247,172],[212,247,172],[276,247,172],[247],[98,99,100,101],[286,252],[202,252],[286,252],[97],[103,104,105,106],[361],[362],[363],[364],[108,109,110,111],[326,157,62,242],[326,62,242,157],[326,62,157,242],[326,62,242,157],[113,114,115,116],[2,127,212,276],[2,127,212,276],[2,127],[2,127,212,276],[118,119,120,121],[47,42,356],[117],[47,42,356],[42,47,356],[123,124,125,126],[202,306,167],[202,306,167],[202,306,167],[122],[128,129,130,131],[197,152,112],[197,152,112,27],[152,112,27],[197,152,112,27],[133,134,135,136],[2,326,212,157],[2,326,157],[2,212],[2,326,212,157],[138,139,140,141],[301],[17,7],[],[],[143,144,145,146],[227,22,207],[142],[227,22,207],[227,22,207],[148,149,150,151],[331,22,207],[331,22,207],[147],[331,22,207],[153,154,155,156],[237,127,67],[232],[237,127,67],[232,127],[158,159,160,161],[132,107,12],[107,12],[132,107,12,167],[132,107,12,167],[163,164,165,166],[1,232,72],[281,1,232,72],[281,1,232,72],[281,1,232,72],[168,169,170,171],[365],[366],[367],[368],[173,174,175,176],[321],[92],[321],[],[178,179,180,181],[],[],[],[],[183,184,185,186],[222],[],[],[],[188,189,190,191],[67,316],[67],[341],[237,316],[193,194,195,196],[296,232,67,72],[296,232,67,72],[296,232,72],[296,232,67,72],[198,199,200,201],[32,127,276],[237,127,276],[237,127,276],[32,237,276],[203,204,205,206],[122,271,97],[122,271,97],[271],[202],[208,209,210,211],[147,142],[207],[207],[142,147],[213,214,215,216],[132,112,92],[132,12,112,92],[132,12,112],[12,112,92],[218,219,220,221],[296,341,57],[296,341,67],[341,67,57],[296,67],[223,224,225,226],[],[],[],[],[228,229,230,231],[142,1,72],[227],[142,1,72],[142,1,72],[233,234,235,236],[369],[370],[371],[372],[238,239,240,241],[187,102],[197,152],[187,102],[197,102],[243,244,245,246],[107,52,167,306],[107,52,167,306],[107,306,167,52],[306,107,167,52],[248,249,250,251],[351,92],[252,12],[252,92],[252,92],[253,254,255,256],[247,77],[271,77,97],[247,77],[97],[227,47,162],[1],[227,47,162],[227,47,162],[262,263,264,265],[],[],[],[],[267,268,269,270],[],[],[],[],[272,273,274,275],[202,252,12],[202,252,12,167],[252,12],[202,12],[277,278,279,280],[197,291,112],[112],[197,291],[291,112,92],[282,283,284,285],[47,162,356,27],[47,162,356,27],[47,162,356,27],[47,162,356,27],[287,288,289,290],[261],[97],[77],[],[292,293,294,295],[82],[32,276],[32],[276],[297,298,299,300],[331,22,192,217],[331,22,192],[331,22,192,217],[331,22,192,217],[302,303,304,305],[],[],[],[],[307,308,309,310],[122,336,242],[122,336,242],[122,336,242],[306],[312,313,314,315],[177],[],[],[],[317,318,319,320],[87],[17],[17],[102],[322,323,324,325],[37],[],[],[],[327,328,329,330],[42,132,107,356],[42,132,107,356],[42,132,107,356],[42,132,107,356],[332,333,334,335],[147,296,57],[296,147,57],[331],[296,147,57],[337,338,339,340],[306,52],[336],[306,52],[336],[342,343,344,345],[17,187,7],[17,187],[7,217],[17,187],[347,348,349,350],[182],[182],[],[],[352,353,354,355],[37],[247],[77],[],[357,358,359,360],[281,2,326,117],[281,2,326,117],[281,2,326,117],[281,2,326,117],[],[],[],[],[],[],[],[],[],[],[],[]],\"text\":[\"GridWorldState(4, 1, false)\\nN:   1780\\n\",\"GridWorldState(6, 3, false)\\nN:    287\\n\",\"                       up\\nQ:   1.20\\nN:     31\\n\",\"                     down\\nQ:   0.61\\nN:     25\\n\",\"                     left\\nQ:  -1.86\\nN:     14\\n\",\"                    right\\nQ:   4.06\\nN:    217\\n\",\"GridWorldState(1, 5, false)\\nN:     25\\n\",\"                       up\\nQ:   0.00\\nN:      8\\n\",\"                     down\\nQ:  -1.36\\nN:      4\\n\",\"                     left\\nQ:   0.00\\nN:      8\\n\",\"                    right\\nQ:   0.00\\nN:      5\\n\",\"GridWorldState(8, 4, false)\\nN:     91\\n\",\"                       up\\nQ:   0.00\\nN:      7\\n\",\"                     down\\nQ:   4.80\\nN:     38\\n\",\"                     left\\nQ:   2.16\\nN:     13\\n\",\"                    right\\nQ:   4.86\\nN:     33\\n\",\"GridWorldState(2, 6, false)\\nN:      4\\n\",\"                       up\\nQ:   0.00\\nN:      1\\n\",\"                     down\\nQ:   0.00\\nN:      1\\n\",\"                     left\\nQ:   0.00\\nN:      1\\n\",\"                    right\\nQ:  -4.05\\nN:      1\\n\",\"GridWorldState(2, 2, false)\\nN:    186\\n\",\"                       up\\nQ:  -0.82\\nN:     33\\n\",\"                     down\\nQ:  -0.05\\nN:     55\\n\",\"                     left\\nQ:   0.09\\nN:     57\\n\",\"                    right\\nQ:  -0.58\\nN:     41\\n\",\"GridWorldState(5, 3, false)\\nN:    133\\n\",\"                       up\\nQ:  -1.17\\nN:     26\\n\",\"                     down\\nQ:  -2.89\\nN:     17\\n\",\"                     left\\nQ:  -8.66\\nN:      5\\n\",\"                    right\\nQ:   1.17\\nN:     85\\n\",\"GridWorldState(5, 6, false)\\nN:     10\\n\",\"                       up\\nQ:   0.00\\nN:      2\\n\",\"                     down\\nQ:   0.00\\nN:      5\\n\",\"                     left\\nQ:  -4.50\\nN:      1\\n\",\"                    right\\nQ:   0.00\\nN:      2\\n\",\"GridWorldState(8, 7, false)\\nN:      1\\n\",\"                       up\\nQ:   0.00\\nN:      1\\n\",\"                     down\\nQ:   0.00\\nN:      0\\n\",\"                     left\\nQ:   0.00\\nN:      0\\n\",\"                    right\\nQ:   0.00\\nN:      0\\n\",\"GridWorldState(7, 1, false)\\nN:    759\\n\",\"                       up\\nQ:   3.12\\nN:    116\\n\",\"                     down\\nQ:   0.00\\nN:     26\\n\",\"                     left\\nQ:   2.15\\nN:     67\\n\",\"                    right\\nQ:   4.31\\nN:    550\\n\",\"GridWorldState(5, 1, false)\\nN:   1465\\n\",\"                       up\\nQ:   2.04\\nN:    365\\n\",\"                     down\\nQ:   0.00\\nN:     66\\n\",\"                     left\\nQ:   0.80\\nN:    107\\n\",\"                    right\\nQ:   2.75\\nN:    927\\n\",\"GridWorldState(9, 1, false)\\nN:    594\\n\",\"                       up\\nQ:   6.22\\nN:    518\\n\",\"                     down\\nQ:   0.00\\nN:     19\\n\",\"                     left\\nQ:  -0.50\\nN:     14\\n\",\"                    right\\nQ:   3.03\\nN:     43\\n\",\"GridWorldState(1, 4, false)\\nN:     41\\n\",\"                       up\\nQ:  -0.73\\nN:     10\\n\",\"                     down\\nQ:   0.00\\nN:      9\\n\",\"                     left\\nQ:   0.00\\nN:     14\\n\",\"                    right\\nQ:   0.00\\nN:      8\\n\",\"GridWorldState(8, 1, false)\\nN:    595\\n\",\"                       up\\nQ:   4.72\\nN:    203\\n\",\"                     down\\nQ:   0.00\\nN:     18\\n\",\"                     left\\nQ:   1.54\\nN:     29\\n\",\"                    right\\nQ:   5.21\\nN:    345\\n\",\"GridWorldState(3, 4, false)\\nN:     39\\n\",\"                       up\\nQ:  -3.06\\nN:      7\\n\",\"                     down\\nQ:  -1.39\\nN:     10\\n\",\"                     left\\nQ:  -5.30\\nN:      4\\n\",\"                    right\\nQ:   0.64\\nN:     18\\n\",\"GridWorldState(3, 2, false)\\nN:    228\\n\",\"                       up\\nQ:  -3.44\\nN:     23\\n\",\"                     down\\nQ:  -0.81\\nN:     53\\n\",\"                     left\\nQ:  -0.05\\nN:     88\\n\",\"                    right\\nQ:  -0.48\\nN:     64\\n\",\"GridWorldState(9, 6, false)\\nN:      5\\n\",\"                       up\\nQ:   0.00\\nN:      1\\n\",\"                     down\\nQ:   0.00\\nN:      2\\n\",\"                     left\\nQ:   0.00\\nN:      1\\n\",\"                    right\\nQ:   0.00\\nN:      1\\n\",\"GridWorldState(6, 7, false)\\nN:      0\\n\",\"                       up\\nQ:   0.00\\nN:      0\\n\",\"                     down\\nQ:   0.00\\nN:      0\\n\",\"                     left\\nQ:   0.00\\nN:      0\\n\",\"                    right\\nQ:   0.00\\nN:      0\\n\",\"GridWorldState(3, 7, false)\\nN:      0\\n\",\"                       up\\nQ:   0.00\\nN:      0\\n\",\"                     down\\nQ:   0.00\\nN:      0\\n\",\"                     left\\nQ:   0.00\\nN:      0\\n\",\"                    right\\nQ:   0.00\\nN:      0\\n\",\"GridWorldState(7, 5, false)\\nN:     32\\n\",\"                       up\\nQ:   0.33\\nN:      6\\n\",\"                     down\\nQ:   1.80\\nN:      9\\n\",\"                     left\\nQ:   1.48\\nN:      8\\n\",\"                    right\\nQ:   1.80\\nN:      9\\n\",\"GridWorldState(10, 5, false)\\nN:     20\\n\",\"                       up\\nQ:   0.00\\nN:      3\\n\",\"                     down\\nQ:   0.00\\nN:      3\\n\",\"                     left\\nQ:   0.00\\nN:      4\\n\",\"                    right\\nQ:   0.00\\nN:     10\\n\",\"GridWorldState(4, 6, false)\\nN:      6\\n\",\"                       up\\nQ:  -5.00\\nN:      2\\n\",\"                     down\\nQ:  -5.00\\nN:      2\\n\",\"                     left\\nQ:  -5.00\\nN:      1\\n\",\"                    right\\nQ:  -5.00\\nN:      1\\n\",\"GridWorldState(8, 2, false)\\nN:    742\\n\",\"                       up\\nQ:   5.70\\nN:    154\\n\",\"                     down\\nQ:   3.25\\nN:     39\\n\",\"                     left\\nQ:   2.54\\nN:     33\\n\",\"                    right\\nQ:   6.21\\nN:    516\\n\",\"GridWorldState(6, 4, false)\\nN:     95\\n\",\"                       up\\nQ:   0.00\\nN:     17\\n\",\"                     down\\nQ:   0.38\\nN:     18\\n\",\"                     left\\nQ:  -0.99\\nN:     12\\n\",\"                    right\\nQ:   2.10\\nN:     48\\n\",\"GridWorldState(6, 1, false)\\nN:    994\\n\",\"                       up\\nQ:   1.40\\nN:     79\\n\",\"                     down\\nQ:   0.00\\nN:     36\\n\",\"                     left\\nQ:   1.66\\nN:    100\\n\",\"                    right\\nQ:   3.52\\nN:    779\\n\",\"GridWorldState(10, 3, false)\\nN:    100\\n\",\"                       up\\nQ:   6.25\\nN:     21\\n\",\"                     down\\nQ:   3.39\\nN:     14\\n\",\"                     left\\nQ:   7.95\\nN:     47\\n\",\"                    right\\nQ:   0.00\\nN:     18\\n\",\"GridWorldState(5, 4, false)\\nN:     53\\n\",\"                       up\\nQ:  -0.76\\nN:     16\\n\",\"                     down\\nQ:  -0.90\\nN:     12\\n\",\"                     left\\nQ:  -1.11\\nN:     13\\n\",\"                    right\\nQ:  -1.32\\nN:     12\\n\",\"GridWorldState(7, 3, false)\\nN:    359\\n\",\"                       up\\nQ:   0.73\\nN:     17\\n\",\"                     down\\nQ:   1.94\\nN:     29\\n\",\"                     left\\nQ:  -0.57\\nN:     11\\n\",\"                    right\\nQ:   5.47\\nN:    302\\n\",\"GridWorldState(1, 6, false)\\nN:      7\\n\",\"                       up\\nQ:   0.00\\nN:      1\\n\",\"                     down\\nQ:   0.00\\nN:      6\\n\",\"                     left\\nQ:   0.00\\nN:      0\\n\",\"                    right\\nQ:   0.00\\nN:      0\\n\",\"GridWorldState(2, 1, false)\\nN:    286\\n\",\"                       up\\nQ:  -0.00\\nN:     70\\n\",\"                     down\\nQ:   0.00\\nN:     86\\n\",\"                     left\\nQ:  -0.28\\nN:     60\\n\",\"                    right\\nQ:   0.08\\nN:     70\\n\",\"GridWorldState(1, 2, false)\\nN:    166\\n\",\"                       up\\nQ:  -0.07\\nN:     39\\n\",\"                     down\\nQ:   0.06\\nN:     43\\n\",\"                     left\\nQ:   0.00\\nN:     49\\n\",\"                    right\\nQ:  -0.27\\nN:     35\\n\",\"GridWorldState(4, 4, false)\\nN:     35\\n\",\"                       up\\nQ:  -1.01\\nN:     12\\n\",\"                     down\\nQ:  -9.00\\nN:      2\\n\",\"                     left\\nQ:   0.53\\nN:     18\\n\",\"                    right\\nQ:  -7.40\\nN:      3\\n\",\"GridWorldState(8, 3, false)\\nN:    408\\n\",\"                       up\\nQ:   1.14\\nN:     10\\n\",\"                     down\\nQ:   0.00\\nN:      8\\n\",\"                     left\\nQ:   2.62\\nN:     25\\n\",\"                    right\\nQ:   7.63\\nN:    365\\n\",\"GridWorldState(4, 2, false)\\nN:    404\\n\",\"                       up\\nQ:  -7.26\\nN:      8\\n\",\"                     down\\nQ:   0.45\\nN:    271\\n\",\"                     left\\nQ:  -1.50\\nN:     55\\n\",\"                    right\\nQ:  -1.18\\nN:     70\\n\",\"GridWorldState(9, 3, false)\\nN:   1601\\n\",\"                       up\\nQ:  10.00\\nN:    401\\n\",\"                     down\\nQ:  10.00\\nN:    400\\n\",\"                     left\\nQ:  10.00\\nN:    400\\n\",\"                    right\\nQ:  10.00\\nN:    400\\n\",\"GridWorldState(7, 6, false)\\nN:      5\\n\",\"                       up\\nQ:   2.19\\nN:      1\\n\",\"                     down\\nQ:   0.00\\nN:      3\\n\",\"                     left\\nQ:   0.00\\nN:      1\\n\",\"                    right\\nQ:   0.00\\nN:      0\\n\",\"GridWorldState(2, 8, false)\\nN:      0\\n\",\"                       up\\nQ:   0.00\\nN:      0\\n\",\"                     down\\nQ:   0.00\\nN:      0\\n\",\"                     left\\nQ:   0.00\\nN:      0\\n\",\"                    right\\nQ:   0.00\\nN:      0\\n\",\"GridWorldState(5, 8, false)\\nN:      1\\n\",\"                       up\\nQ:   0.00\\nN:      1\\n\",\"                     down\\nQ:   0.00\\nN:      0\\n\",\"                     left\\nQ:   0.00\\nN:      0\\n\",\"                    right\\nQ:   0.00\\nN:      0\\n\",\"GridWorldState(3, 5, false)\\nN:     15\\n\",\"                       up\\nQ:   0.00\\nN:      4\\n\",\"                     down\\nQ:  -0.82\\nN:      4\\n\",\"                     left\\nQ:  -0.82\\nN:      4\\n\",\"                    right\\nQ:  -2.70\\nN:      3\\n\",\"GridWorldState(3, 3, false)\\nN:     69\\n\",\"                       up\\nQ:  -2.38\\nN:     21\\n\",\"                     down\\nQ:  -2.13\\nN:     28\\n\",\"                     left\\nQ:  -3.72\\nN:     12\\n\",\"                    right\\nQ:  -5.63\\nN:      8\\n\",\"GridWorldState(5, 5, false)\\nN:     32\\n\",\"                       up\\nQ:  -0.40\\nN:     10\\n\",\"                     down\\nQ:   0.00\\nN:      6\\n\",\"                     left\\nQ:  -0.51\\nN:      8\\n\",\"                    right\\nQ:   0.86\\nN:      8\\n\",\"GridWorldState(10, 4, false)\\nN:     44\\n\",\"                       up\\nQ:   0.83\\nN:      5\\n\",\"                     down\\nQ:   5.34\\nN:     14\\n\",\"                     left\\nQ:   1.61\\nN:      8\\n\",\"                    right\\nQ:   0.00\\nN:     17\\n\",\"GridWorldState(1, 1, false)\\nN:    205\\n\",\"                       up\\nQ:  -0.10\\nN:     49\\n\",\"                     down\\nQ:   0.00\\nN:     54\\n\",\"                     left\\nQ:   0.00\\nN:     54\\n\",\"                    right\\nQ:  -0.12\\nN:     48\\n\",\"GridWorldState(7, 4, false)\\nN:     97\\n\",\"                       up\\nQ:   1.82\\nN:     15\\n\",\"                     down\\nQ:   3.09\\nN:     28\\n\",\"                     left\\nQ:   2.62\\nN:     21\\n\",\"                    right\\nQ:   3.80\\nN:     33\\n\",\"GridWorldState(2, 4, false)\\nN:     30\\n\",\"                       up\\nQ:   0.00\\nN:      9\\n\",\"                     down\\nQ:   0.58\\nN:     10\\n\",\"                     left\\nQ:   0.00\\nN:      8\\n\",\"                    right\\nQ:  -4.85\\nN:      3\\n\",\"GridWorldState(5, 9, false)\\nN:      0\\n\",\"                       up\\nQ:   0.00\\nN:      0\\n\",\"                     down\\nQ:   0.00\\nN:      0\\n\",\"                     left\\nQ:   0.00\\nN:      0\\n\",\"                    right\\nQ:   0.00\\nN:      0\\n\",\"GridWorldState(3, 1, false)\\nN:    532\\n\",\"                       up\\nQ:  -0.80\\nN:     72\\n\",\"                     down\\nQ:   0.00\\nN:    118\\n\",\"                     left\\nQ:   0.02\\nN:    121\\n\",\"                    right\\nQ:   0.70\\nN:    221\\n\",\"GridWorldState(4, 3, false)\\nN:     69\\n\",\"                       up\\nQ: -10.00\\nN:     18\\n\",\"                     down\\nQ: -10.00\\nN:     17\\n\",\"                     left\\nQ: -10.00\\nN:     17\\n\",\"                    right\\nQ: -10.00\\nN:     17\\n\",\"GridWorldState(4, 5, false)\\nN:     17\\n\",\"                       up\\nQ:  -3.00\\nN:      3\\n\",\"                     down\\nQ:   0.00\\nN:      6\\n\",\"                     left\\nQ:  -2.25\\nN:      4\\n\",\"                    right\\nQ:  -1.13\\nN:      4\\n\",\"GridWorldState(9, 2, false)\\nN:   1898\\n\",\"                       up\\nQ:   7.96\\nN:   1821\\n\",\"                     down\\nQ:   2.14\\nN:     24\\n\",\"                     left\\nQ:   2.70\\nN:     27\\n\",\"                    right\\nQ:   2.34\\nN:     26\\n\",\"GridWorldState(8, 5, false)\\nN:     20\\n\",\"                       up\\nQ:   0.00\\nN:      3\\n\",\"                     down\\nQ:   2.43\\nN:      6\\n\",\"                     left\\nQ:   2.25\\nN:      8\\n\",\"                    right\\nQ:   0.00\\nN:      3\\n\",\"GridWorldState(9, 5, false)\\nN:     19\\n\",\"                       up\\nQ:   0.00\\nN:      5\\n\",\"                     down\\nQ:   1.35\\nN:      6\\n\",\"                     left\\nQ:   0.00\\nN:      4\\n\",\"                    right\\nQ:   0.00\\nN:      4\\n\",\"                       up\\nQ:  -0.83\\nN:     76\\n\",\"                     down\\nQ:   0.00\\nN:    140\\n\",\"                     left\\nQ:  -0.12\\nN:    128\\n\",\"                    right\\nQ:   1.82\\nN:   1436\\n\",\"GridWorldState(10, 7, false)\\nN:      0\\n\",\"                       up\\nQ:   0.00\\nN:      0\\n\",\"                     down\\nQ:   0.00\\nN:      0\\n\",\"                     left\\nQ:   0.00\\nN:      0\\n\",\"                    right\\nQ:   0.00\\nN:      0\\n\",\"GridWorldState(9, 7, false)\\nN:      0\\n\",\"                       up\\nQ:   0.00\\nN:      0\\n\",\"                     down\\nQ:   0.00\\nN:      0\\n\",\"                     left\\nQ:   0.00\\nN:      0\\n\",\"                    right\\nQ:   0.00\\nN:      0\\n\",\"GridWorldState(9, 4, false)\\nN:     41\\n\",\"                       up\\nQ:   1.17\\nN:      6\\n\",\"                     down\\nQ:   7.42\\nN:     26\\n\",\"                     left\\nQ:   0.00\\nN:      3\\n\",\"                    right\\nQ:   1.21\\nN:      6\\n\",\"GridWorldState(6, 5, false)\\nN:     30\\n\",\"                       up\\nQ:   0.00\\nN:      6\\n\",\"                     down\\nQ:   0.74\\nN:      8\\n\",\"                     left\\nQ:   0.00\\nN:      6\\n\",\"                    right\\nQ:   0.77\\nN:     10\\n\",\"GridWorldState(5, 2, false)\\nN:    640\\n\",\"                       up\\nQ:  -0.94\\nN:     38\\n\",\"                     down\\nQ:   1.28\\nN:    134\\n\",\"                     left\\nQ:  -2.15\\nN:     21\\n\",\"                    right\\nQ:   2.65\\nN:    447\\n\",\"GridWorldState(10, 6, false)\\nN:      3\\n\",\"                       up\\nQ:   0.00\\nN:      1\\n\",\"                     down\\nQ:   0.00\\nN:      1\\n\",\"                     left\\nQ:   0.00\\nN:      1\\n\",\"                    right\\nQ:   0.00\\nN:      0\\n\",\"GridWorldState(6, 6, false)\\nN:      6\\n\",\"                       up\\nQ:   0.00\\nN:      1\\n\",\"                     down\\nQ:   0.00\\nN:      3\\n\",\"                     left\\nQ:   0.00\\nN:      1\\n\",\"                    right\\nQ:   0.00\\nN:      1\\n\",\"GridWorldState(2, 3, false)\\nN:     76\\n\",\"                       up\\nQ:  -0.19\\nN:     25\\n\",\"                     down\\nQ:  -3.51\\nN:      8\\n\",\"                     left\\nQ:  -0.46\\nN:     24\\n\",\"                    right\\nQ:  -1.13\\nN:     19\\n\",\"GridWorldState(1, 7, false)\\nN:      0\\n\",\"                       up\\nQ:   0.00\\nN:      0\\n\",\"                     down\\nQ:   0.00\\nN:      0\\n\",\"                     left\\nQ:   0.00\\nN:      0\\n\",\"                    right\\nQ:   0.00\\nN:      0\\n\",\"GridWorldState(10, 2, false)\\nN:    324\\n\",\"                       up\\nQ:   4.80\\nN:     58\\n\",\"                     down\\nQ:   3.89\\nN:     49\\n\",\"                     left\\nQ:   6.27\\nN:    198\\n\",\"                    right\\nQ:   0.00\\nN:     19\\n\",\"GridWorldState(2, 7, false)\\nN:      1\\n\",\"                       up\\nQ:   0.00\\nN:      1\\n\",\"                     down\\nQ:   0.00\\nN:      0\\n\",\"                     left\\nQ:   0.00\\nN:      0\\n\",\"                    right\\nQ:   0.00\\nN:      0\\n\",\"GridWorldState(3, 6, false)\\nN:      4\\n\",\"                       up\\nQ:   0.00\\nN:      1\\n\",\"                     down\\nQ:   0.00\\nN:      1\\n\",\"                     left\\nQ:   0.00\\nN:      1\\n\",\"                    right\\nQ:  -4.50\\nN:      1\\n\",\"GridWorldState(7, 7, false)\\nN:      1\\n\",\"                       up\\nQ:   0.00\\nN:      1\\n\",\"                     down\\nQ:   0.00\\nN:      0\\n\",\"                     left\\nQ:   0.00\\nN:      0\\n\",\"                    right\\nQ:   0.00\\nN:      0\\n\",\"GridWorldState(7, 2, false)\\nN:    585\\n\",\"                       up\\nQ:   3.36\\nN:     87\\n\",\"                     down\\nQ:   2.99\\nN:     55\\n\",\"                     left\\nQ:   0.38\\nN:     19\\n\",\"                    right\\nQ:   5.05\\nN:    424\\n\",\"GridWorldState(1, 3, false)\\nN:     92\\n\",\"                       up\\nQ:  -0.21\\nN:     21\\n\",\"                     down\\nQ:   0.00\\nN:     22\\n\",\"                     left\\nQ:   0.00\\nN:     26\\n\",\"                    right\\nQ:   0.00\\nN:     23\\n\",\"GridWorldState(10, 1, false)\\nN:    190\\n\",\"                       up\\nQ:   3.16\\nN:     35\\n\",\"                     down\\nQ:   0.00\\nN:     14\\n\",\"                     left\\nQ:   4.98\\nN:    123\\n\",\"                    right\\nQ:   0.00\\nN:     18\\n\",\"GridWorldState(2, 5, false)\\nN:     13\\n\",\"                       up\\nQ:  -1.22\\nN:      3\\n\",\"                     down\\nQ:   0.00\\nN:      3\\n\",\"                     left\\nQ:   0.00\\nN:      5\\n\",\"                    right\\nQ:  -1.82\\nN:      2\\n\",\"GridWorldState(5, 7, false)\\nN:      2\\n\",\"                       up\\nQ:   0.00\\nN:      1\\n\",\"                     down\\nQ:   0.00\\nN:      1\\n\",\"                     left\\nQ:   0.00\\nN:      0\\n\",\"                    right\\nQ:   0.00\\nN:      0\\n\",\"GridWorldState(8, 6, false)\\nN:      3\\n\",\"                       up\\nQ:   0.00\\nN:      1\\n\",\"                     down\\nQ:   0.00\\nN:      1\\n\",\"                     left\\nQ:   0.00\\nN:      1\\n\",\"                    right\\nQ:   0.00\\nN:      0\\n\",\"GridWorldState(6, 2, false)\\nN:    661\\n\",\"                       up\\nQ:   2.96\\nN:    164\\n\",\"                     down\\nQ:   2.11\\nN:     83\\n\",\"                     left\\nQ:   0.64\\nN:     36\\n\",\"                    right\\nQ:   3.83\\nN:    378\\n\",\"GridWorldState(4, 6, true)\\nN:      0\\n\",\"GridWorldState(4, 6, true)\\nN:      0\\n\",\"GridWorldState(4, 6, true)\\nN:      0\\n\",\"GridWorldState(4, 6, true)\\nN:      0\\n\",\"GridWorldState(9, 3, true)\\nN:      0\\n\",\"GridWorldState(9, 3, true)\\nN:      0\\n\",\"GridWorldState(9, 3, true)\\nN:      0\\n\",\"GridWorldState(9, 3, true)\\nN:      0\\n\",\"GridWorldState(4, 3, true)\\nN:      0\\n\",\"GridWorldState(4, 3, true)\\nN:      0\\n\",\"GridWorldState(4, 3, true)\\nN:      0\\n\",\"GridWorldState(4, 3, true)\\nN:      0\\n\"],\"tooltip\":[\"GridWorldState(4, 1, false)\\nN: 1780\\n\",\"GridWorldState(6, 3, false)\\nN: 287\\n\",\"up\\nQ: 1.2005670180918224\\nN: 31\\n\",\"down\\nQ: 0.60808633956\\nN: 25\\n\",\"left\\nQ: -1.8627164999999999\\nN: 14\\n\",\"right\\nQ: 4.059477482729126\\nN: 217\\n\",\"GridWorldState(1, 5, false)\\nN: 25\\n\",\"up\\nQ: 0.0\\nN: 8\\n\",\"down\\nQ: -1.3582090125\\nN: 4\\n\",\"left\\nQ: 0.0\\nN: 8\\n\",\"right\\nQ: 0.0\\nN: 5\\n\",\"GridWorldState(8, 4, false)\\nN: 91\\n\",\"up\\nQ: 0.0\\nN: 7\\n\",\"down\\nQ: 4.798960318421053\\nN: 38\\n\",\"left\\nQ: 2.1581147769230773\\nN: 13\\n\",\"right\\nQ: 4.861850972727272\\nN: 33\\n\",\"GridWorldState(2, 6, false)\\nN: 4\\n\",\"up\\nQ: 0.0\\nN: 1\\n\",\"down\\nQ: 0.0\\nN: 1\\n\",\"left\\nQ: 0.0\\nN: 1\\n\",\"right\\nQ: -4.05\\nN: 1\\n\",\"GridWorldState(2, 2, false)\\nN: 186\\n\",\"up\\nQ: -0.8175555316228231\\nN: 33\\n\",\"down\\nQ: -0.04621574233325452\\nN: 55\\n\",\"left\\nQ: 0.08522435135917891\\nN: 57\\n\",\"right\\nQ: -0.5849484531585368\\nN: 41\\n\",\"GridWorldState(5, 3, false)\\nN: 133\\n\",\"up\\nQ: -1.1652421135153845\\nN: 26\\n\",\"down\\nQ: -2.8925158235294117\\nN: 17\\n\",\"left\\nQ: -8.658\\nN: 5\\n\",\"right\\nQ: 1.1690713668133377\\nN: 85\\n\",\"GridWorldState(5, 6, false)\\nN: 10\\n\",\"up\\nQ: 0.0\\nN: 2\\n\",\"down\\nQ: 0.0\\nN: 5\\n\",\"left\\nQ: -4.5\\nN: 1\\n\",\"right\\nQ: 0.0\\nN: 2\\n\",\"GridWorldState(8, 7, false)\\nN: 1\\n\",\"up\\nQ: 0.0\\nN: 1\\n\",\"down\\nQ: 0.0\\nN: 0\\n\",\"left\\nQ: 0.0\\nN: 0\\n\",\"right\\nQ: 0.0\\nN: 0\\n\",\"GridWorldState(7, 1, false)\\nN: 759\\n\",\"up\\nQ: 3.1166874380682152\\nN: 116\\n\",\"down\\nQ: 0.0\\nN: 26\\n\",\"left\\nQ: 2.1485866559139133\\nN: 67\\n\",\"right\\nQ: 4.30585119333628\\nN: 550\\n\",\"GridWorldState(5, 1, false)\\nN: 1465\\n\",\"up\\nQ: 2.0391496329801253\\nN: 365\\n\",\"down\\nQ: 0.0\\nN: 66\\n\",\"left\\nQ: 0.7967600285236803\\nN: 107\\n\",\"right\\nQ: 2.7535653635070028\\nN: 927\\n\",\"GridWorldState(9, 1, false)\\nN: 594\\n\",\"up\\nQ: 6.21667420340382\\nN: 518\\n\",\"down\\nQ: 0.0\\nN: 19\\n\",\"left\\nQ: -0.5007686882403921\\nN: 14\\n\",\"right\\nQ: 3.0328691395813947\\nN: 43\\n\",\"GridWorldState(1, 4, false)\\nN: 41\\n\",\"up\\nQ: -0.7281036945000001\\nN: 10\\n\",\"down\\nQ: 0.0\\nN: 9\\n\",\"left\\nQ: 0.0\\nN: 14\\n\",\"right\\nQ: 0.0\\nN: 8\\n\",\"GridWorldState(8, 1, false)\\nN: 595\\n\",\"up\\nQ: 4.722652073403659\\nN: 203\\n\",\"down\\nQ: 0.0\\nN: 18\\n\",\"left\\nQ: 1.5389944137931035\\nN: 29\\n\",\"right\\nQ: 5.212265264245302\\nN: 345\\n\",\"GridWorldState(3, 4, false)\\nN: 39\\n\",\"up\\nQ: -3.0621612715714286\\nN: 7\\n\",\"down\\nQ: -1.3878486945000001\\nN: 10\\n\",\"left\\nQ: -5.301466625250001\\nN: 4\\n\",\"right\\nQ: 0.64019038298715\\nN: 18\\n\",\"GridWorldState(3, 2, false)\\nN: 228\\n\",\"up\\nQ: -3.441934827293087\\nN: 23\\n\",\"down\\nQ: -0.8057996483703319\\nN: 53\\n\",\"left\\nQ: -0.051666874638524665\\nN: 88\\n\",\"right\\nQ: -0.47956150092064503\\nN: 64\\n\",\"GridWorldState(9, 6, false)\\nN: 5\\n\",\"up\\nQ: 0.0\\nN: 1\\n\",\"down\\nQ: 0.0\\nN: 2\\n\",\"left\\nQ: 0.0\\nN: 1\\n\",\"right\\nQ: 0.0\\nN: 1\\n\",\"GridWorldState(6, 7, false)\\nN: 0\\n\",\"up\\nQ: 0.0\\nN: 0\\n\",\"down\\nQ: 0.0\\nN: 0\\n\",\"left\\nQ: 0.0\\nN: 0\\n\",\"right\\nQ: 0.0\\nN: 0\\n\",\"GridWorldState(3, 7, false)\\nN: 0\\n\",\"up\\nQ: 0.0\\nN: 0\\n\",\"down\\nQ: 0.0\\nN: 0\\n\",\"left\\nQ: 0.0\\nN: 0\\n\",\"right\\nQ: 0.0\\nN: 0\\n\",\"GridWorldState(7, 5, false)\\nN: 32\\n\",\"up\\nQ: 0.32805000000000006\\nN: 6\\n\",\"down\\nQ: 1.7977869\\nN: 9\\n\",\"left\\nQ: 1.48442625\\nN: 8\\n\",\"right\\nQ: 1.7977869\\nN: 9\\n\",\"GridWorldState(10, 5, false)\\nN: 20\\n\",\"up\\nQ: 0.0\\nN: 3\\n\",\"down\\nQ: 0.0\\nN: 3\\n\",\"left\\nQ: 0.0\\nN: 4\\n\",\"right\\nQ: 0.0\\nN: 10\\n\",\"GridWorldState(4, 6, false)\\nN: 6\\n\",\"up\\nQ: -5.0\\nN: 2\\n\",\"down\\nQ: -5.0\\nN: 2\\n\",\"left\\nQ: -5.0\\nN: 1\\n\",\"right\\nQ: -5.0\\nN: 1\\n\",\"GridWorldState(8, 2, false)\\nN: 742\\n\",\"up\\nQ: 5.701639385289741\\nN: 154\\n\",\"down\\nQ: 3.249239253064919\\nN: 39\\n\",\"left\\nQ: 2.5390434450646593\\nN: 33\\n\",\"right\\nQ: 6.20750435820111\\nN: 516\\n\",\"GridWorldState(6, 4, false)\\nN: 95\\n\",\"up\\nQ: 0.0\\nN: 17\\n\",\"down\\nQ: 0.37702721254500016\\nN: 18\\n\",\"left\\nQ: -0.9911047207499998\\nN: 12\\n\",\"right\\nQ: 2.1025641521250003\\nN: 48\\n\",\"GridWorldState(6, 1, false)\\nN: 994\\n\",\"up\\nQ: 1.399408664947228\\nN: 79\\n\",\"down\\nQ: 0.0\\nN: 36\\n\",\"left\\nQ: 1.6578296750759036\\nN: 100\\n\",\"right\\nQ: 3.516219230628919\\nN: 779\\n\",\"GridWorldState(10, 3, false)\\nN: 100\\n\",\"up\\nQ: 6.246359034206144\\nN: 21\\n\",\"down\\nQ: 3.3917785714285715\\nN: 14\\n\",\"left\\nQ: 7.953753818955598\\nN: 47\\n\",\"right\\nQ: 0.0\\nN: 18\\n\",\"GridWorldState(5, 4, false)\\nN: 53\\n\",\"up\\nQ: -0.7555087687500001\\nN: 16\\n\",\"down\\nQ: -0.8972574592499999\\nN: 12\\n\",\"left\\nQ: -1.1134880030076924\\nN: 13\\n\",\"right\\nQ: -1.323994248675\\nN: 12\\n\",\"GridWorldState(7, 3, false)\\nN: 359\\n\",\"up\\nQ: 0.7296865941176474\\nN: 17\\n\",\"down\\nQ: 1.9364240237879948\\nN: 29\\n\",\"left\\nQ: -0.5705647201636365\\nN: 11\\n\",\"right\\nQ: 5.47065906056928\\nN: 302\\n\",\"GridWorldState(1, 6, false)\\nN: 7\\n\",\"up\\nQ: 0.0\\nN: 1\\n\",\"down\\nQ: 0.0\\nN: 6\\n\",\"left\\nQ: 0.0\\nN: 0\\n\",\"right\\nQ: 0.0\\nN: 0\\n\",\"GridWorldState(2, 1, false)\\nN: 286\\n\",\"up\\nQ: -0.0020704183095856983\\nN: 70\\n\",\"down\\nQ: 0.0\\nN: 86\\n\",\"left\\nQ: -0.27827598357087074\\nN: 60\\n\",\"right\\nQ: 0.08092509500316294\\nN: 70\\n\",\"GridWorldState(1, 2, false)\\nN: 166\\n\",\"up\\nQ: -0.0724178298669231\\nN: 39\\n\",\"down\\nQ: 0.05911315879834882\\nN: 43\\n\",\"left\\nQ: 0.0\\nN: 49\\n\",\"right\\nQ: -0.2666726906191714\\nN: 35\\n\",\"GridWorldState(4, 4, false)\\nN: 35\\n\",\"up\\nQ: -1.0125\\nN: 12\\n\",\"down\\nQ: -9.0\\nN: 2\\n\",\"left\\nQ: 0.5290726477635002\\nN: 18\\n\",\"right\\nQ: -7.3983\\nN: 3\\n\",\"GridWorldState(8, 3, false)\\nN: 408\\n\",\"up\\nQ: 1.1446823059966658\\nN: 10\\n\",\"down\\nQ: 0.0\\nN: 8\\n\",\"left\\nQ: 2.6185107599999995\\nN: 25\\n\",\"right\\nQ: 7.625935376299259\\nN: 365\\n\",\"GridWorldState(4, 2, false)\\nN: 404\\n\",\"up\\nQ: -7.25648497639352\\nN: 8\\n\",\"down\\nQ: 0.4536846756478542\\nN: 271\\n\",\"left\\nQ: -1.5028025970846122\\nN: 55\\n\",\"right\\nQ: -1.1788368928447208\\nN: 70\\n\",\"GridWorldState(9, 3, false)\\nN: 1601\\n\",\"up\\nQ: 10.0\\nN: 401\\n\",\"down\\nQ: 10.0\\nN: 400\\n\",\"left\\nQ: 10.0\\nN: 400\\n\",\"right\\nQ: 10.0\\nN: 400\\n\",\"GridWorldState(7, 6, false)\\nN: 5\\n\",\"up\\nQ: 2.1870000000000003\\nN: 1\\n\",\"down\\nQ: 0.0\\nN: 3\\n\",\"left\\nQ: 0.0\\nN: 1\\n\",\"right\\nQ: 0.0\\nN: 0\\n\",\"GridWorldState(2, 8, false)\\nN: 0\\n\",\"up\\nQ: 0.0\\nN: 0\\n\",\"down\\nQ: 0.0\\nN: 0\\n\",\"left\\nQ: 0.0\\nN: 0\\n\",\"right\\nQ: 0.0\\nN: 0\\n\",\"GridWorldState(5, 8, false)\\nN: 1\\n\",\"up\\nQ: 0.0\\nN: 1\\n\",\"down\\nQ: 0.0\\nN: 0\\n\",\"left\\nQ: 0.0\\nN: 0\\n\",\"right\\nQ: 0.0\\nN: 0\\n\",\"GridWorldState(3, 5, false)\\nN: 15\\n\",\"up\\nQ: 0.0\\nN: 4\\n\",\"down\\nQ: -0.820125\\nN: 4\\n\",\"left\\nQ: -0.820125\\nN: 4\\n\",\"right\\nQ: -2.6999999999999997\\nN: 3\\n\",\"GridWorldState(3, 3, false)\\nN: 69\\n\",\"up\\nQ: -2.3804570185071987\\nN: 21\\n\",\"down\\nQ: -2.1262175199964286\\nN: 28\\n\",\"left\\nQ: -3.7217170529324997\\nN: 12\\n\",\"right\\nQ: -5.625\\nN: 8\\n\",\"GridWorldState(5, 5, false)\\nN: 32\\n\",\"up\\nQ: -0.40499999999999997\\nN: 10\\n\",\"down\\nQ: 0.0\\nN: 6\\n\",\"left\\nQ: -0.5062500000000001\\nN: 8\\n\",\"right\\nQ: 0.8635916250000002\\nN: 8\\n\",\"GridWorldState(10, 4, false)\\nN: 44\\n\",\"up\\nQ: 0.8281398868695888\\nN: 5\\n\",\"down\\nQ: 5.344577292857143\\nN: 14\\n\",\"left\\nQ: 1.6090099707262504\\nN: 8\\n\",\"right\\nQ: 0.0\\nN: 17\\n\",\"GridWorldState(1, 1, false)\\nN: 205\\n\",\"up\\nQ: -0.09761161224489795\\nN: 49\\n\",\"down\\nQ: 0.0\\nN: 54\\n\",\"left\\nQ: 0.0\\nN: 54\\n\",\"right\\nQ: -0.11742899875714692\\nN: 48\\n\",\"GridWorldState(7, 4, false)\\nN: 97\\n\",\"up\\nQ: 1.8242695260000001\\nN: 15\\n\",\"down\\nQ: 3.0873171375321427\\nN: 28\\n\",\"left\\nQ: 2.619068232857143\\nN: 21\\n\",\"right\\nQ: 3.8009266936363635\\nN: 33\\n\",\"GridWorldState(2, 4, false)\\nN: 30\\n\",\"up\\nQ: 0.0\\nN: 9\\n\",\"down\\nQ: 0.57744636464961\\nN: 10\\n\",\"left\\nQ: 0.0\\nN: 8\\n\",\"right\\nQ: -4.8540246300000005\\nN: 3\\n\",\"GridWorldState(5, 9, false)\\nN: 0\\n\",\"up\\nQ: 0.0\\nN: 0\\n\",\"down\\nQ: 0.0\\nN: 0\\n\",\"left\\nQ: 0.0\\nN: 0\\n\",\"right\\nQ: 0.0\\nN: 0\\n\",\"GridWorldState(3, 1, false)\\nN: 532\\n\",\"up\\nQ: -0.7954828566681192\\nN: 72\\n\",\"down\\nQ: 0.0\\nN: 118\\n\",\"left\\nQ: 0.020758087822448004\\nN: 121\\n\",\"right\\nQ: 0.6952317410740404\\nN: 221\\n\",\"GridWorldState(4, 3, false)\\nN: 69\\n\",\"up\\nQ: -10.0\\nN: 18\\n\",\"down\\nQ: -10.0\\nN: 17\\n\",\"left\\nQ: -10.0\\nN: 17\\n\",\"right\\nQ: -10.0\\nN: 17\\n\",\"GridWorldState(4, 5, false)\\nN: 17\\n\",\"up\\nQ: -3.0\\nN: 3\\n\",\"down\\nQ: 0.0\\nN: 6\\n\",\"left\\nQ: -2.25\\nN: 4\\n\",\"right\\nQ: -1.125\\nN: 4\\n\",\"GridWorldState(9, 2, false)\\nN: 1898\\n\",\"up\\nQ: 7.96459217232331\\nN: 1821\\n\",\"down\\nQ: 2.1356614734291246\\nN: 24\\n\",\"left\\nQ: 2.697811107043537\\nN: 27\\n\",\"right\\nQ: 2.343314035899346\\nN: 26\\n\",\"GridWorldState(8, 5, false)\\nN: 20\\n\",\"up\\nQ: 0.0\\nN: 3\\n\",\"down\\nQ: 2.4299999999999997\\nN: 6\\n\",\"left\\nQ: 2.2472336250000007\\nN: 8\\n\",\"right\\nQ: 0.0\\nN: 3\\n\",\"GridWorldState(9, 5, false)\\nN: 19\\n\",\"up\\nQ: 0.0\\nN: 5\\n\",\"down\\nQ: 1.3499999999999999\\nN: 6\\n\",\"left\\nQ: 0.0\\nN: 4\\n\",\"right\\nQ: 0.0\\nN: 4\\n\",\"up\\nQ: -0.8278335816248455\\nN: 76\\n\",\"down\\nQ: 0.0\\nN: 140\\n\",\"left\\nQ: -0.12074962291874149\\nN: 128\\n\",\"right\\nQ: 1.8171288007812965\\nN: 1436\\n\",\"GridWorldState(10, 7, false)\\nN: 0\\n\",\"up\\nQ: 0.0\\nN: 0\\n\",\"down\\nQ: 0.0\\nN: 0\\n\",\"left\\nQ: 0.0\\nN: 0\\n\",\"right\\nQ: 0.0\\nN: 0\\n\",\"GridWorldState(9, 7, false)\\nN: 0\\n\",\"up\\nQ: 0.0\\nN: 0\\n\",\"down\\nQ: 0.0\\nN: 0\\n\",\"left\\nQ: 0.0\\nN: 0\\n\",\"right\\nQ: 0.0\\nN: 0\\n\",\"GridWorldState(9, 4, false)\\nN: 41\\n\",\"up\\nQ: 1.1687184751500004\\nN: 6\\n\",\"down\\nQ: 7.4180769230769235\\nN: 26\\n\",\"left\\nQ: 0.0\\nN: 3\\n\",\"right\\nQ: 1.2149999999999999\\nN: 6\\n\",\"GridWorldState(6, 5, false)\\nN: 30\\n\",\"up\\nQ: 0.0\\nN: 6\\n\",\"down\\nQ: 0.7381125000000001\\nN: 8\\n\",\"left\\nQ: 0.0\\nN: 6\\n\",\"right\\nQ: 0.7676370000000001\\nN: 10\\n\",\"GridWorldState(5, 2, false)\\nN: 640\\n\",\"up\\nQ: -0.9368752348397369\\nN: 38\\n\",\"down\\nQ: 1.2777705166373607\\nN: 134\\n\",\"left\\nQ: -2.150674311934286\\nN: 21\\n\",\"right\\nQ: 2.653504370312116\\nN: 447\\n\",\"GridWorldState(10, 6, false)\\nN: 3\\n\",\"up\\nQ: 0.0\\nN: 1\\n\",\"down\\nQ: 0.0\\nN: 1\\n\",\"left\\nQ: 0.0\\nN: 1\\n\",\"right\\nQ: 0.0\\nN: 0\\n\",\"GridWorldState(6, 6, false)\\nN: 6\\n\",\"up\\nQ: 0.0\\nN: 1\\n\",\"down\\nQ: 0.0\\nN: 3\\n\",\"left\\nQ: 0.0\\nN: 1\\n\",\"right\\nQ: 0.0\\nN: 1\\n\",\"GridWorldState(2, 3, false)\\nN: 76\\n\",\"up\\nQ: -0.1866315595929804\\nN: 25\\n\",\"down\\nQ: -3.50942625\\nN: 8\\n\",\"left\\nQ: -0.4564311810525\\nN: 24\\n\",\"right\\nQ: -1.1253195497368422\\nN: 19\\n\",\"GridWorldState(1, 7, false)\\nN: 0\\n\",\"up\\nQ: 0.0\\nN: 0\\n\",\"down\\nQ: 0.0\\nN: 0\\n\",\"left\\nQ: 0.0\\nN: 0\\n\",\"right\\nQ: 0.0\\nN: 0\\n\",\"GridWorldState(10, 2, false)\\nN: 324\\n\",\"up\\nQ: 4.804772032539966\\nN: 58\\n\",\"down\\nQ: 3.893587393982642\\nN: 49\\n\",\"left\\nQ: 6.266280249000001\\nN: 198\\n\",\"right\\nQ: 0.0\\nN: 19\\n\",\"GridWorldState(2, 7, false)\\nN: 1\\n\",\"up\\nQ: 0.0\\nN: 1\\n\",\"down\\nQ: 0.0\\nN: 0\\n\",\"left\\nQ: 0.0\\nN: 0\\n\",\"right\\nQ: 0.0\\nN: 0\\n\",\"GridWorldState(3, 6, false)\\nN: 4\\n\",\"up\\nQ: 0.0\\nN: 1\\n\",\"down\\nQ: 0.0\\nN: 1\\n\",\"left\\nQ: 0.0\\nN: 1\\n\",\"right\\nQ: -4.5\\nN: 1\\n\",\"GridWorldState(7, 7, false)\\nN: 1\\n\",\"up\\nQ: 0.0\\nN: 1\\n\",\"down\\nQ: 0.0\\nN: 0\\n\",\"left\\nQ: 0.0\\nN: 0\\n\",\"right\\nQ: 0.0\\nN: 0\\n\",\"GridWorldState(7, 2, false)\\nN: 585\\n\",\"up\\nQ: 3.3636701563572418\\nN: 87\\n\",\"down\\nQ: 2.9865230407164463\\nN: 55\\n\",\"left\\nQ: 0.3836842105263158\\nN: 19\\n\",\"right\\nQ: 5.0481967249189665\\nN: 424\\n\",\"GridWorldState(1, 3, false)\\nN: 92\\n\",\"up\\nQ: -0.20955224764285718\\nN: 21\\n\",\"down\\nQ: 0.0\\nN: 22\\n\",\"left\\nQ: 0.0\\nN: 26\\n\",\"right\\nQ: 0.0\\nN: 23\\n\",\"GridWorldState(10, 1, false)\\nN: 190\\n\",\"up\\nQ: 3.159096423180676\\nN: 35\\n\",\"down\\nQ: 0.0\\nN: 14\\n\",\"left\\nQ: 4.978689035860975\\nN: 123\\n\",\"right\\nQ: 0.0\\nN: 18\\n\",\"GridWorldState(2, 5, false)\\nN: 13\\n\",\"up\\nQ: -1.215\\nN: 3\\n\",\"down\\nQ: 0.0\\nN: 3\\n\",\"left\\nQ: 0.0\\nN: 5\\n\",\"right\\nQ: -1.8225\\nN: 2\\n\",\"GridWorldState(5, 7, false)\\nN: 2\\n\",\"up\\nQ: 0.0\\nN: 1\\n\",\"down\\nQ: 0.0\\nN: 1\\n\",\"left\\nQ: 0.0\\nN: 0\\n\",\"right\\nQ: 0.0\\nN: 0\\n\",\"GridWorldState(8, 6, false)\\nN: 3\\n\",\"up\\nQ: 0.0\\nN: 1\\n\",\"down\\nQ: 0.0\\nN: 1\\n\",\"left\\nQ: 0.0\\nN: 1\\n\",\"right\\nQ: 0.0\\nN: 0\\n\",\"GridWorldState(6, 2, false)\\nN: 661\\n\",\"up\\nQ: 2.9569458939723425\\nN: 164\\n\",\"down\\nQ: 2.111717325101379\\nN: 83\\n\",\"left\\nQ: 0.6400028669807252\\nN: 36\\n\",\"right\\nQ: 3.8338029551712527\\nN: 378\\n\",\"GridWorldState(4, 6, true)\\nN: 0\\n\",\"GridWorldState(4, 6, true)\\nN: 0\\n\",\"GridWorldState(4, 6, true)\\nN: 0\\n\",\"GridWorldState(4, 6, true)\\nN: 0\\n\",\"GridWorldState(9, 3, true)\\nN: 0\\n\",\"GridWorldState(9, 3, true)\\nN: 0\\n\",\"GridWorldState(9, 3, true)\\nN: 0\\n\",\"GridWorldState(9, 3, true)\\nN: 0\\n\",\"GridWorldState(4, 3, true)\\nN: 0\\n\",\"GridWorldState(4, 3, true)\\nN: 0\\n\",\"GridWorldState(4, 3, true)\\nN: 0\\n\",\"GridWorldState(4, 3, true)\\nN: 0\\n\"],\"style\":[\"\",\"\",\"stroke:#704800\",\"stroke:#784400\",\"stroke:#973400\",\"stroke:#4C5A00\",\"\",\"stroke:#7F4000\",\"stroke:#913700\",\"stroke:#7F4000\",\"stroke:#7F4000\",\"\",\"stroke:#7F4000\",\"stroke:#425F00\",\"stroke:#644E00\",\"stroke:#425F00\",\"\",\"stroke:#7F4000\",\"stroke:#7F4000\",\"stroke:#7F4000\",\"stroke:#B32600\",\"\",\"stroke:#8A3B00\",\"stroke:#804000\",\"stroke:#7E4100\",\"stroke:#873C00\",\"\",\"stroke:#8E3900\",\"stroke:#A42E00\",\"stroke:#EE0900\",\"stroke:#714700\",\"\",\"stroke:#7F4000\",\"stroke:#7F4000\",\"stroke:#B92300\",\"stroke:#7F4000\",\"\",\"stroke:#7F4000\",\"stroke:#7F4000\",\"stroke:#7F4000\",\"stroke:#7F4000\",\"\",\"stroke:#585400\",\"stroke:#7F4000\",\"stroke:#644E00\",\"stroke:#495B00\",\"\",\"stroke:#664D00\",\"stroke:#7F4000\",\"stroke:#754500\",\"stroke:#5C5200\",\"\",\"stroke:#306800\",\"stroke:#7F4000\",\"stroke:#863D00\",\"stroke:#595300\",\"\",\"stroke:#893B00\",\"stroke:#7F4000\",\"stroke:#7F4000\",\"stroke:#7F4000\",\"\",\"stroke:#435E00\",\"stroke:#7F4000\",\"stroke:#6C4A00\",\"stroke:#3D6100\",\"\",\"stroke:#A72C00\",\"stroke:#913700\",\"stroke:#C31E00\",\"stroke:#774400\",\"\",\"stroke:#AB2A00\",\"stroke:#8A3B00\",\"stroke:#804000\",\"stroke:#863D00\",\"\",\"stroke:#7F4000\",\"stroke:#7F4000\",\"stroke:#7F4000\",\"stroke:#7F4000\",\"\",\"stroke:#7F4000\",\"stroke:#7F4000\",\"stroke:#7F4000\",\"stroke:#7F4000\",\"\",\"stroke:#7F4000\",\"stroke:#7F4000\",\"stroke:#7F4000\",\"stroke:#7F4000\",\"\",\"stroke:#7B4200\",\"stroke:#694B00\",\"stroke:#6D4900\",\"stroke:#694B00\",\"\",\"stroke:#7F4000\",\"stroke:#7F4000\",\"stroke:#7F4000\",\"stroke:#7F4000\",\"\",\"stroke:#BF2000\",\"stroke:#BF2000\",\"stroke:#BF2000\",\"stroke:#BF2000\",\"\",\"stroke:#376400\",\"stroke:#565500\",\"stroke:#5F5000\",\"stroke:#306800\",\"\",\"stroke:#7F4000\",\"stroke:#7B4200\",\"stroke:#8C3A00\",\"stroke:#654D00\",\"\",\"stroke:#6E4900\",\"stroke:#7F4000\",\"stroke:#6A4B00\",\"stroke:#535600\",\"\",\"stroke:#306800\",\"stroke:#545600\",\"stroke:#1A7300\",\"stroke:#7F4000\",\"\",\"stroke:#893B00\",\"stroke:#8B3A00\",\"stroke:#8E3900\",\"stroke:#903800\",\"\",\"stroke:#764500\",\"stroke:#674C00\",\"stroke:#873C00\",\"stroke:#3A6300\",\"\",\"stroke:#7F4000\",\"stroke:#7F4000\",\"stroke:#7F4000\",\"stroke:#7F4000\",\"\",\"stroke:#804000\",\"stroke:#7F4000\",\"stroke:#833E00\",\"stroke:#7E4100\",\"\",\"stroke:#804000\",\"stroke:#7F4000\",\"stroke:#7F4000\",\"stroke:#833E00\",\"\",\"stroke:#8C3A00\",\"stroke:#F20700\",\"stroke:#794300\",\"stroke:#DE1100\",\"\",\"stroke:#714700\",\"stroke:#7F4000\",\"stroke:#5E5100\",\"stroke:#1E7100\",\"\",\"stroke:#DC1200\",\"stroke:#7A4300\",\"stroke:#933600\",\"stroke:#8F3800\",\"\",\"stroke:#008000\",\"stroke:#008000\",\"stroke:#008000\",\"stroke:#008000\",\"\",\"stroke:#644E00\",\"stroke:#7F4000\",\"stroke:#7F4000\",\"stroke:#7F4000\",\"\",\"stroke:#7F4000\",\"stroke:#7F4000\",\"stroke:#7F4000\",\"stroke:#7F4000\",\"\",\"stroke:#7F4000\",\"stroke:#7F4000\",\"stroke:#7F4000\",\"stroke:#7F4000\",\"\",\"stroke:#7F4000\",\"stroke:#8A3B00\",\"stroke:#8A3B00\",\"stroke:#A22F00\",\"\",\"stroke:#9E3100\",\"stroke:#9B3200\",\"stroke:#AF2800\",\"stroke:#C71C00\",\"\",\"stroke:#853D00\",\"stroke:#7F4000\",\"stroke:#863D00\",\"stroke:#744600\",\"\",\"stroke:#754500\",\"stroke:#3B6200\",\"stroke:#6B4A00\",\"stroke:#7F4000\",\"\",\"stroke:#813F00\",\"stroke:#7F4000\",\"stroke:#7F4000\",\"stroke:#813F00\",\"\",\"stroke:#684C00\",\"stroke:#585400\",\"stroke:#5E5100\",\"stroke:#4F5800\",\"\",\"stroke:#7F4000\",\"stroke:#784400\",\"stroke:#7F4000\",\"stroke:#BD2100\",\"\",\"stroke:#7F4000\",\"stroke:#7F4000\",\"stroke:#7F4000\",\"stroke:#7F4000\",\"\",\"stroke:#8A3B00\",\"stroke:#7F4000\",\"stroke:#7F4000\",\"stroke:#774400\",\"\",\"stroke:#FF0000\",\"stroke:#FF0000\",\"stroke:#FF0000\",\"stroke:#FF0000\",\"\",\"stroke:#A62D00\",\"stroke:#7F4000\",\"stroke:#9C3200\",\"stroke:#8E3900\",\"\",\"stroke:#1A7300\",\"stroke:#644E00\",\"stroke:#5D5100\",\"stroke:#624F00\",\"\",\"stroke:#7F4000\",\"stroke:#614F00\",\"stroke:#634E00\",\"stroke:#7F4000\",\"\",\"stroke:#7F4000\",\"stroke:#6E4900\",\"stroke:#7F4000\",\"stroke:#7F4000\",\"stroke:#8A3B00\",\"stroke:#7F4000\",\"stroke:#813F00\",\"stroke:#684C00\",\"\",\"stroke:#7F4000\",\"stroke:#7F4000\",\"stroke:#7F4000\",\"stroke:#7F4000\",\"\",\"stroke:#7F4000\",\"stroke:#7F4000\",\"stroke:#7F4000\",\"stroke:#7F4000\",\"\",\"stroke:#714700\",\"stroke:#216F00\",\"stroke:#7F4000\",\"stroke:#704800\",\"\",\"stroke:#7F4000\",\"stroke:#764500\",\"stroke:#7F4000\",\"stroke:#764500\",\"\",\"stroke:#8B3A00\",\"stroke:#6F4800\",\"stroke:#9B3200\",\"stroke:#5E5100\",\"\",\"stroke:#7F4000\",\"stroke:#7F4000\",\"stroke:#7F4000\",\"stroke:#7F4000\",\"\",\"stroke:#7F4000\",\"stroke:#7F4000\",\"stroke:#7F4000\",\"stroke:#7F4000\",\"\",\"stroke:#823F00\",\"stroke:#AC2A00\",\"stroke:#853D00\",\"stroke:#8E3900\",\"\",\"stroke:#7F4000\",\"stroke:#7F4000\",\"stroke:#7F4000\",\"stroke:#7F4000\",\"\",\"stroke:#425F00\",\"stroke:#4E5900\",\"stroke:#306800\",\"stroke:#7F4000\",\"\",\"stroke:#7F4000\",\"stroke:#7F4000\",\"stroke:#7F4000\",\"stroke:#7F4000\",\"\",\"stroke:#7F4000\",\"stroke:#7F4000\",\"stroke:#7F4000\",\"stroke:#B92300\",\"\",\"stroke:#7F4000\",\"stroke:#7F4000\",\"stroke:#7F4000\",\"stroke:#7F4000\",\"\",\"stroke:#555500\",\"stroke:#595300\",\"stroke:#7B4200\",\"stroke:#3F6000\",\"\",\"stroke:#823F00\",\"stroke:#7F4000\",\"stroke:#7F4000\",\"stroke:#7F4000\",\"\",\"stroke:#575400\",\"stroke:#7F4000\",\"stroke:#406000\",\"stroke:#7F4000\",\"\",\"stroke:#8F3800\",\"stroke:#7F4000\",\"stroke:#7F4000\",\"stroke:#973400\",\"\",\"stroke:#7F4000\",\"stroke:#7F4000\",\"stroke:#7F4000\",\"stroke:#7F4000\",\"\",\"stroke:#7F4000\",\"stroke:#7F4000\",\"stroke:#7F4000\",\"stroke:#7F4000\",\"\",\"stroke:#5A5300\",\"stroke:#654D00\",\"stroke:#774400\",\"stroke:#4F5800\",\"\",\"\",\"\",\"\",\"\",\"\",\"\",\"\",\"\",\"\",\"\",\"\"],\"link_style\":[\"\",\"\",\"stroke-width:7.559289460184544px\",\"stroke-width:6.788442333021306px\",\"stroke-width:5.08000508000762px\",\"stroke-width:20.0px\",\"\",\"stroke-width:20.0px\",\"stroke-width:14.142135623730951px\",\"stroke-width:20.0px\",\"stroke-width:15.811388300841898px\",\"\",\"stroke-width:8.583950752789521px\",\"stroke-width:20.0px\",\"stroke-width:11.697953037312036px\",\"stroke-width:18.637822325921867px\",\"\",\"stroke-width:20.0px\",\"stroke-width:20.0px\",\"stroke-width:20.0px\",\"stroke-width:20.0px\",\"\",\"stroke-width:15.217718205053643px\",\"stroke-width:19.645989725150063px\",\"stroke-width:20.0px\",\"stroke-width:16.962290477574484px\",\"\",\"stroke-width:11.061326375099442px\",\"stroke-width:8.94427190999916px\",\"stroke-width:4.85071250072666px\",\"stroke-width:20.0px\",\"\",\"stroke-width:12.649110640673518px\",\"stroke-width:20.0px\",\"stroke-width:8.94427190999916px\",\"stroke-width:12.649110640673518px\",\"\",\"stroke-width:20.0px\",\"stroke-width:0.0px\",\"stroke-width:0.0px\",\"stroke-width:0.0px\",\"\",\"stroke-width:9.184967956592793px\",\"stroke-width:4.348458452036872px\",\"stroke-width:6.980492298346351px\",\"stroke-width:20.0px\",\"\",\"stroke-width:12.549792951613627px\",\"stroke-width:5.336568598012631px\",\"stroke-width:6.794883537408653px\",\"stroke-width:20.0px\",\"\",\"stroke-width:20.0px\",\"stroke-width:3.8303804865593536px\",\"stroke-width:3.287979746107146px\",\"stroke-width:5.762346154530567px\",\"\",\"stroke-width:16.903085094570333px\",\"stroke-width:16.035674514745462px\",\"stroke-width:20.0px\",\"stroke-width:15.118578920369089px\",\"\",\"stroke-width:15.34152270280169px\",\"stroke-width:4.5683219257612855px\",\"stroke-width:5.798550543523536px\",\"stroke-width:20.0px\",\"\",\"stroke-width:12.47219128924647px\",\"stroke-width:14.907119849998598px\",\"stroke-width:9.428090415820634px\",\"stroke-width:20.0px\",\"\",\"stroke-width:10.224747162910901px\",\"stroke-width:15.521246435421702px\",\"stroke-width:20.0px\",\"stroke-width:17.056057308448835px\",\"\",\"stroke-width:14.142135623730951px\",\"stroke-width:20.0px\",\"stroke-width:14.142135623730951px\",\"stroke-width:14.142135623730951px\",\"\",\"stroke-width:NaNpx\",\"stroke-width:NaNpx\",\"stroke-width:NaNpx\",\"stroke-width:NaNpx\",\"\",\"stroke-width:NaNpx\",\"stroke-width:NaNpx\",\"stroke-width:NaNpx\",\"stroke-width:NaNpx\",\"\",\"stroke-width:16.32993161855452px\",\"stroke-width:20.0px\",\"stroke-width:18.856180831641268px\",\"stroke-width:20.0px\",\"\",\"stroke-width:10.95445115010332px\",\"stroke-width:10.95445115010332px\",\"stroke-width:12.649110640673518px\",\"stroke-width:20.0px\",\"\",\"stroke-width:20.0px\",\"stroke-width:20.0px\",\"stroke-width:14.142135623730951px\",\"stroke-width:14.142135623730951px\",\"\",\"stroke-width:10.926108408817859px\",\"stroke-width:5.498414147691576px\",\"stroke-width:5.057805388588732px\",\"stroke-width:20.0px\",\"\",\"stroke-width:11.902380714238083px\",\"stroke-width:12.24744871391589px\",\"stroke-width:10.0px\",\"stroke-width:20.0px\",\"\",\"stroke-width:6.369052260807615px\",\"stroke-width:4.299446183400112px\",\"stroke-width:7.165743639000186px\",\"stroke-width:20.0px\",\"\",\"stroke-width:13.368747295663837px\",\"stroke-width:10.915536458196307px\",\"stroke-width:20.0px\",\"stroke-width:12.37705495510552px\",\"\",\"stroke-width:20.0px\",\"stroke-width:17.32050807568877px\",\"stroke-width:18.027756377319946px\",\"stroke-width:17.32050807568877px\",\"\",\"stroke-width:4.745161355674929px\",\"stroke-width:6.197628258171837px\",\"stroke-width:3.8170062121826653px\",\"stroke-width:20.0px\",\"\",\"stroke-width:8.16496580927726px\",\"stroke-width:20.0px\",\"stroke-width:0.0px\",\"stroke-width:0.0px\",\"\",\"stroke-width:18.043874177926348px\",\"stroke-width:20.0px\",\"stroke-width:16.705381391691137px\",\"stroke-width:18.043874177926348px\",\"\",\"stroke-width:17.842851423995423px\",\"stroke-width:18.73553864086286px\",\"stroke-width:20.0px\",\"stroke-width:16.903085094570333px\",\"\",\"stroke-width:16.32993161855452px\",\"stroke-width:6.666666666666666px\",\"stroke-width:20.0px\",\"stroke-width:8.16496580927726px\",\"\",\"stroke-width:3.310423554409472px\",\"stroke-width:2.960932840790421px\",\"stroke-width:5.234239225902137px\",\"stroke-width:20.0px\",\"\",\"stroke-width:3.436294236700462px\",\"stroke-width:20.0px\",\"stroke-width:9.010039500918856px\",\"stroke-width:10.164695431262665px\",\"\",\"stroke-width:20.0px\",\"stroke-width:19.975046777556894px\",\"stroke-width:19.975046777556894px\",\"stroke-width:19.975046777556894px\",\"\",\"stroke-width:11.547005383792515px\",\"stroke-width:20.0px\",\"stroke-width:11.547005383792515px\",\"stroke-width:0.0px\",\"\",\"stroke-width:NaNpx\",\"stroke-width:NaNpx\",\"stroke-width:NaNpx\",\"stroke-width:NaNpx\",\"\",\"stroke-width:20.0px\",\"stroke-width:0.0px\",\"stroke-width:0.0px\",\"stroke-width:0.0px\",\"\",\"stroke-width:20.0px\",\"stroke-width:20.0px\",\"stroke-width:20.0px\",\"stroke-width:17.32050807568877px\",\"\",\"stroke-width:17.32050807568877px\",\"stroke-width:20.0px\",\"stroke-width:13.09307341415954px\",\"stroke-width:10.690449676496975px\",\"\",\"stroke-width:20.0px\",\"stroke-width:15.491933384829668px\",\"stroke-width:17.88854381999832px\",\"stroke-width:17.88854381999832px\",\"\",\"stroke-width:10.846522890932809px\",\"stroke-width:18.149704259460602px\",\"stroke-width:13.719886811400707px\",\"stroke-width:20.0px\",\"\",\"stroke-width:19.051586888313608px\",\"stroke-width:20.0px\",\"stroke-width:20.0px\",\"stroke-width:18.856180831641268px\",\"\",\"stroke-width:13.48399724926484px\",\"stroke-width:18.42264745887353px\",\"stroke-width:15.954480704349312px\",\"stroke-width:20.0px\",\"\",\"stroke-width:18.973665961010276px\",\"stroke-width:20.0px\",\"stroke-width:17.88854381999832px\",\"stroke-width:10.95445115010332px\",\"\",\"stroke-width:NaNpx\",\"stroke-width:NaNpx\",\"stroke-width:NaNpx\",\"stroke-width:NaNpx\",\"\",\"stroke-width:11.415635859707859px\",\"stroke-width:14.614193807168569px\",\"stroke-width:14.798801467918874px\",\"stroke-width:20.0px\",\"\",\"stroke-width:20.0px\",\"stroke-width:19.436506316151px\",\"stroke-width:19.436506316151px\",\"stroke-width:19.436506316151px\",\"\",\"stroke-width:14.142135623730951px\",\"stroke-width:20.0px\",\"stroke-width:16.32993161855452px\",\"stroke-width:16.32993161855452px\",\"\",\"stroke-width:20.0px\",\"stroke-width:2.296046311721166px\",\"stroke-width:2.435324875404597px\",\"stroke-width:2.389800770154784px\",\"\",\"stroke-width:12.24744871391589px\",\"stroke-width:17.32050807568877px\",\"stroke-width:20.0px\",\"stroke-width:12.24744871391589px\",\"\",\"stroke-width:18.257418583505537px\",\"stroke-width:20.0px\",\"stroke-width:16.32993161855452px\",\"stroke-width:16.32993161855452px\",\"stroke-width:4.601077747065397px\",\"stroke-width:6.244774974703225px\",\"stroke-width:5.971146966896608px\",\"stroke-width:20.0px\",\"\",\"stroke-width:NaNpx\",\"stroke-width:NaNpx\",\"stroke-width:NaNpx\",\"stroke-width:NaNpx\",\"\",\"stroke-width:NaNpx\",\"stroke-width:NaNpx\",\"stroke-width:NaNpx\",\"stroke-width:NaNpx\",\"\",\"stroke-width:9.607689228305228px\",\"stroke-width:20.0px\",\"stroke-width:6.793662204867575px\",\"stroke-width:9.607689228305228px\",\"\",\"stroke-width:15.491933384829668px\",\"stroke-width:17.88854381999832px\",\"stroke-width:15.491933384829668px\",\"stroke-width:20.0px\",\"\",\"stroke-width:5.8313355479624605px\",\"stroke-width:10.950365954678729px\",\"stroke-width:4.3349678555584275px\",\"stroke-width:20.0px\",\"\",\"stroke-width:20.0px\",\"stroke-width:20.0px\",\"stroke-width:20.0px\",\"stroke-width:0.0px\",\"\",\"stroke-width:11.547005383792515px\",\"stroke-width:20.0px\",\"stroke-width:11.547005383792515px\",\"stroke-width:11.547005383792515px\",\"\",\"stroke-width:20.0px\",\"stroke-width:11.31370849898476px\",\"stroke-width:19.595917942265423px\",\"stroke-width:17.435595774162692px\",\"\",\"stroke-width:NaNpx\",\"stroke-width:NaNpx\",\"stroke-width:NaNpx\",\"stroke-width:NaNpx\",\"\",\"stroke-width:10.824588545146517px\",\"stroke-width:9.949366763261821px\",\"stroke-width:20.0px\",\"stroke-width:6.195469181897234px\",\"\",\"stroke-width:20.0px\",\"stroke-width:0.0px\",\"stroke-width:0.0px\",\"stroke-width:0.0px\",\"\",\"stroke-width:20.0px\",\"stroke-width:20.0px\",\"stroke-width:20.0px\",\"stroke-width:20.0px\",\"\",\"stroke-width:20.0px\",\"stroke-width:0.0px\",\"stroke-width:0.0px\",\"stroke-width:0.0px\",\"\",\"stroke-width:9.059551407112451px\",\"stroke-width:7.203248742951349px\",\"stroke-width:4.233736919305071px\",\"stroke-width:20.0px\",\"\",\"stroke-width:17.974340685458344px\",\"stroke-width:18.397324220155998px\",\"stroke-width:20.0px\",\"stroke-width:18.810798862519206px\",\"\",\"stroke-width:10.668698993381625px\",\"stroke-width:6.747477697966318px\",\"stroke-width:20.0px\",\"stroke-width:7.6509205567600596px\",\"\",\"stroke-width:15.491933384829668px\",\"stroke-width:15.491933384829668px\",\"stroke-width:20.0px\",\"stroke-width:12.649110640673518px\",\"\",\"stroke-width:20.0px\",\"stroke-width:20.0px\",\"stroke-width:0.0px\",\"stroke-width:0.0px\",\"\",\"stroke-width:20.0px\",\"stroke-width:20.0px\",\"stroke-width:20.0px\",\"stroke-width:0.0px\",\"\",\"stroke-width:13.173646934124717px\",\"stroke-width:9.371802805793974px\",\"stroke-width:6.172133998483677px\",\"stroke-width:20.0px\",\"\",\"\",\"\",\"\",\"\",\"\",\"\",\"\",\"\",\"\",\"\",\"\"],\"title\":\"MCTS tree\",\"options\":{\"tooltip\":[\"GridWorldState(4, 1, false)\\nN: 1780\\n\",\"GridWorldState(6, 3, false)\\nN: 287\\n\",\"up\\nQ: 1.2005670180918224\\nN: 31\\n\",\"down\\nQ: 0.60808633956\\nN: 25\\n\",\"left\\nQ: -1.8627164999999999\\nN: 14\\n\",\"right\\nQ: 4.059477482729126\\nN: 217\\n\",\"GridWorldState(1, 5, false)\\nN: 25\\n\",\"up\\nQ: 0.0\\nN: 8\\n\",\"down\\nQ: -1.3582090125\\nN: 4\\n\",\"left\\nQ: 0.0\\nN: 8\\n\",\"right\\nQ: 0.0\\nN: 5\\n\",\"GridWorldState(8, 4, false)\\nN: 91\\n\",\"up\\nQ: 0.0\\nN: 7\\n\",\"down\\nQ: 4.798960318421053\\nN: 38\\n\",\"left\\nQ: 2.1581147769230773\\nN: 13\\n\",\"right\\nQ: 4.861850972727272\\nN: 33\\n\",\"GridWorldState(2, 6, false)\\nN: 4\\n\",\"up\\nQ: 0.0\\nN: 1\\n\",\"down\\nQ: 0.0\\nN: 1\\n\",\"left\\nQ: 0.0\\nN: 1\\n\",\"right\\nQ: -4.05\\nN: 1\\n\",\"GridWorldState(2, 2, false)\\nN: 186\\n\",\"up\\nQ: -0.8175555316228231\\nN: 33\\n\",\"down\\nQ: -0.04621574233325452\\nN: 55\\n\",\"left\\nQ: 0.08522435135917891\\nN: 57\\n\",\"right\\nQ: -0.5849484531585368\\nN: 41\\n\",\"GridWorldState(5, 3, false)\\nN: 133\\n\",\"up\\nQ: -1.1652421135153845\\nN: 26\\n\",\"down\\nQ: -2.8925158235294117\\nN: 17\\n\",\"left\\nQ: -8.658\\nN: 5\\n\",\"right\\nQ: 1.1690713668133377\\nN: 85\\n\",\"GridWorldState(5, 6, false)\\nN: 10\\n\",\"up\\nQ: 0.0\\nN: 2\\n\",\"down\\nQ: 0.0\\nN: 5\\n\",\"left\\nQ: -4.5\\nN: 1\\n\",\"right\\nQ: 0.0\\nN: 2\\n\",\"GridWorldState(8, 7, false)\\nN: 1\\n\",\"up\\nQ: 0.0\\nN: 1\\n\",\"down\\nQ: 0.0\\nN: 0\\n\",\"left\\nQ: 0.0\\nN: 0\\n\",\"right\\nQ: 0.0\\nN: 0\\n\",\"GridWorldState(7, 1, false)\\nN: 759\\n\",\"up\\nQ: 3.1166874380682152\\nN: 116\\n\",\"down\\nQ: 0.0\\nN: 26\\n\",\"left\\nQ: 2.1485866559139133\\nN: 67\\n\",\"right\\nQ: 4.30585119333628\\nN: 550\\n\",\"GridWorldState(5, 1, false)\\nN: 1465\\n\",\"up\\nQ: 2.0391496329801253\\nN: 365\\n\",\"down\\nQ: 0.0\\nN: 66\\n\",\"left\\nQ: 0.7967600285236803\\nN: 107\\n\",\"right\\nQ: 2.7535653635070028\\nN: 927\\n\",\"GridWorldState(9, 1, false)\\nN: 594\\n\",\"up\\nQ: 6.21667420340382\\nN: 518\\n\",\"down\\nQ: 0.0\\nN: 19\\n\",\"left\\nQ: -0.5007686882403921\\nN: 14\\n\",\"right\\nQ: 3.0328691395813947\\nN: 43\\n\",\"GridWorldState(1, 4, false)\\nN: 41\\n\",\"up\\nQ: -0.7281036945000001\\nN: 10\\n\",\"down\\nQ: 0.0\\nN: 9\\n\",\"left\\nQ: 0.0\\nN: 14\\n\",\"right\\nQ: 0.0\\nN: 8\\n\",\"GridWorldState(8, 1, false)\\nN: 595\\n\",\"up\\nQ: 4.722652073403659\\nN: 203\\n\",\"down\\nQ: 0.0\\nN: 18\\n\",\"left\\nQ: 1.5389944137931035\\nN: 29\\n\",\"right\\nQ: 5.212265264245302\\nN: 345\\n\",\"GridWorldState(3, 4, false)\\nN: 39\\n\",\"up\\nQ: -3.0621612715714286\\nN: 7\\n\",\"down\\nQ: -1.3878486945000001\\nN: 10\\n\",\"left\\nQ: -5.301466625250001\\nN: 4\\n\",\"right\\nQ: 0.64019038298715\\nN: 18\\n\",\"GridWorldState(3, 2, false)\\nN: 228\\n\",\"up\\nQ: -3.441934827293087\\nN: 23\\n\",\"down\\nQ: -0.8057996483703319\\nN: 53\\n\",\"left\\nQ: -0.051666874638524665\\nN: 88\\n\",\"right\\nQ: -0.47956150092064503\\nN: 64\\n\",\"GridWorldState(9, 6, false)\\nN: 5\\n\",\"up\\nQ: 0.0\\nN: 1\\n\",\"down\\nQ: 0.0\\nN: 2\\n\",\"left\\nQ: 0.0\\nN: 1\\n\",\"right\\nQ: 0.0\\nN: 1\\n\",\"GridWorldState(6, 7, false)\\nN: 0\\n\",\"up\\nQ: 0.0\\nN: 0\\n\",\"down\\nQ: 0.0\\nN: 0\\n\",\"left\\nQ: 0.0\\nN: 0\\n\",\"right\\nQ: 0.0\\nN: 0\\n\",\"GridWorldState(3, 7, false)\\nN: 0\\n\",\"up\\nQ: 0.0\\nN: 0\\n\",\"down\\nQ: 0.0\\nN: 0\\n\",\"left\\nQ: 0.0\\nN: 0\\n\",\"right\\nQ: 0.0\\nN: 0\\n\",\"GridWorldState(7, 5, false)\\nN: 32\\n\",\"up\\nQ: 0.32805000000000006\\nN: 6\\n\",\"down\\nQ: 1.7977869\\nN: 9\\n\",\"left\\nQ: 1.48442625\\nN: 8\\n\",\"right\\nQ: 1.7977869\\nN: 9\\n\",\"GridWorldState(10, 5, false)\\nN: 20\\n\",\"up\\nQ: 0.0\\nN: 3\\n\",\"down\\nQ: 0.0\\nN: 3\\n\",\"left\\nQ: 0.0\\nN: 4\\n\",\"right\\nQ: 0.0\\nN: 10\\n\",\"GridWorldState(4, 6, false)\\nN: 6\\n\",\"up\\nQ: -5.0\\nN: 2\\n\",\"down\\nQ: -5.0\\nN: 2\\n\",\"left\\nQ: -5.0\\nN: 1\\n\",\"right\\nQ: -5.0\\nN: 1\\n\",\"GridWorldState(8, 2, false)\\nN: 742\\n\",\"up\\nQ: 5.701639385289741\\nN: 154\\n\",\"down\\nQ: 3.249239253064919\\nN: 39\\n\",\"left\\nQ: 2.5390434450646593\\nN: 33\\n\",\"right\\nQ: 6.20750435820111\\nN: 516\\n\",\"GridWorldState(6, 4, false)\\nN: 95\\n\",\"up\\nQ: 0.0\\nN: 17\\n\",\"down\\nQ: 0.37702721254500016\\nN: 18\\n\",\"left\\nQ: -0.9911047207499998\\nN: 12\\n\",\"right\\nQ: 2.1025641521250003\\nN: 48\\n\",\"GridWorldState(6, 1, false)\\nN: 994\\n\",\"up\\nQ: 1.399408664947228\\nN: 79\\n\",\"down\\nQ: 0.0\\nN: 36\\n\",\"left\\nQ: 1.6578296750759036\\nN: 100\\n\",\"right\\nQ: 3.516219230628919\\nN: 779\\n\",\"GridWorldState(10, 3, false)\\nN: 100\\n\",\"up\\nQ: 6.246359034206144\\nN: 21\\n\",\"down\\nQ: 3.3917785714285715\\nN: 14\\n\",\"left\\nQ: 7.953753818955598\\nN: 47\\n\",\"right\\nQ: 0.0\\nN: 18\\n\",\"GridWorldState(5, 4, false)\\nN: 53\\n\",\"up\\nQ: -0.7555087687500001\\nN: 16\\n\",\"down\\nQ: -0.8972574592499999\\nN: 12\\n\",\"left\\nQ: -1.1134880030076924\\nN: 13\\n\",\"right\\nQ: -1.323994248675\\nN: 12\\n\",\"GridWorldState(7, 3, false)\\nN: 359\\n\",\"up\\nQ: 0.7296865941176474\\nN: 17\\n\",\"down\\nQ: 1.9364240237879948\\nN: 29\\n\",\"left\\nQ: -0.5705647201636365\\nN: 11\\n\",\"right\\nQ: 5.47065906056928\\nN: 302\\n\",\"GridWorldState(1, 6, false)\\nN: 7\\n\",\"up\\nQ: 0.0\\nN: 1\\n\",\"down\\nQ: 0.0\\nN: 6\\n\",\"left\\nQ: 0.0\\nN: 0\\n\",\"right\\nQ: 0.0\\nN: 0\\n\",\"GridWorldState(2, 1, false)\\nN: 286\\n\",\"up\\nQ: -0.0020704183095856983\\nN: 70\\n\",\"down\\nQ: 0.0\\nN: 86\\n\",\"left\\nQ: -0.27827598357087074\\nN: 60\\n\",\"right\\nQ: 0.08092509500316294\\nN: 70\\n\",\"GridWorldState(1, 2, false)\\nN: 166\\n\",\"up\\nQ: -0.0724178298669231\\nN: 39\\n\",\"down\\nQ: 0.05911315879834882\\nN: 43\\n\",\"left\\nQ: 0.0\\nN: 49\\n\",\"right\\nQ: -0.2666726906191714\\nN: 35\\n\",\"GridWorldState(4, 4, false)\\nN: 35\\n\",\"up\\nQ: -1.0125\\nN: 12\\n\",\"down\\nQ: -9.0\\nN: 2\\n\",\"left\\nQ: 0.5290726477635002\\nN: 18\\n\",\"right\\nQ: -7.3983\\nN: 3\\n\",\"GridWorldState(8, 3, false)\\nN: 408\\n\",\"up\\nQ: 1.1446823059966658\\nN: 10\\n\",\"down\\nQ: 0.0\\nN: 8\\n\",\"left\\nQ: 2.6185107599999995\\nN: 25\\n\",\"right\\nQ: 7.625935376299259\\nN: 365\\n\",\"GridWorldState(4, 2, false)\\nN: 404\\n\",\"up\\nQ: -7.25648497639352\\nN: 8\\n\",\"down\\nQ: 0.4536846756478542\\nN: 271\\n\",\"left\\nQ: -1.5028025970846122\\nN: 55\\n\",\"right\\nQ: -1.1788368928447208\\nN: 70\\n\",\"GridWorldState(9, 3, false)\\nN: 1601\\n\",\"up\\nQ: 10.0\\nN: 401\\n\",\"down\\nQ: 10.0\\nN: 400\\n\",\"left\\nQ: 10.0\\nN: 400\\n\",\"right\\nQ: 10.0\\nN: 400\\n\",\"GridWorldState(7, 6, false)\\nN: 5\\n\",\"up\\nQ: 2.1870000000000003\\nN: 1\\n\",\"down\\nQ: 0.0\\nN: 3\\n\",\"left\\nQ: 0.0\\nN: 1\\n\",\"right\\nQ: 0.0\\nN: 0\\n\",\"GridWorldState(2, 8, false)\\nN: 0\\n\",\"up\\nQ: 0.0\\nN: 0\\n\",\"down\\nQ: 0.0\\nN: 0\\n\",\"left\\nQ: 0.0\\nN: 0\\n\",\"right\\nQ: 0.0\\nN: 0\\n\",\"GridWorldState(5, 8, false)\\nN: 1\\n\",\"up\\nQ: 0.0\\nN: 1\\n\",\"down\\nQ: 0.0\\nN: 0\\n\",\"left\\nQ: 0.0\\nN: 0\\n\",\"right\\nQ: 0.0\\nN: 0\\n\",\"GridWorldState(3, 5, false)\\nN: 15\\n\",\"up\\nQ: 0.0\\nN: 4\\n\",\"down\\nQ: -0.820125\\nN: 4\\n\",\"left\\nQ: -0.820125\\nN: 4\\n\",\"right\\nQ: -2.6999999999999997\\nN: 3\\n\",\"GridWorldState(3, 3, false)\\nN: 69\\n\",\"up\\nQ: -2.3804570185071987\\nN: 21\\n\",\"down\\nQ: -2.1262175199964286\\nN: 28\\n\",\"left\\nQ: -3.7217170529324997\\nN: 12\\n\",\"right\\nQ: -5.625\\nN: 8\\n\",\"GridWorldState(5, 5, false)\\nN: 32\\n\",\"up\\nQ: -0.40499999999999997\\nN: 10\\n\",\"down\\nQ: 0.0\\nN: 6\\n\",\"left\\nQ: -0.5062500000000001\\nN: 8\\n\",\"right\\nQ: 0.8635916250000002\\nN: 8\\n\",\"GridWorldState(10, 4, false)\\nN: 44\\n\",\"up\\nQ: 0.8281398868695888\\nN: 5\\n\",\"down\\nQ: 5.344577292857143\\nN: 14\\n\",\"left\\nQ: 1.6090099707262504\\nN: 8\\n\",\"right\\nQ: 0.0\\nN: 17\\n\",\"GridWorldState(1, 1, false)\\nN: 205\\n\",\"up\\nQ: -0.09761161224489795\\nN: 49\\n\",\"down\\nQ: 0.0\\nN: 54\\n\",\"left\\nQ: 0.0\\nN: 54\\n\",\"right\\nQ: -0.11742899875714692\\nN: 48\\n\",\"GridWorldState(7, 4, false)\\nN: 97\\n\",\"up\\nQ: 1.8242695260000001\\nN: 15\\n\",\"down\\nQ: 3.0873171375321427\\nN: 28\\n\",\"left\\nQ: 2.619068232857143\\nN: 21\\n\",\"right\\nQ: 3.8009266936363635\\nN: 33\\n\",\"GridWorldState(2, 4, false)\\nN: 30\\n\",\"up\\nQ: 0.0\\nN: 9\\n\",\"down\\nQ: 0.57744636464961\\nN: 10\\n\",\"left\\nQ: 0.0\\nN: 8\\n\",\"right\\nQ: -4.8540246300000005\\nN: 3\\n\",\"GridWorldState(5, 9, false)\\nN: 0\\n\",\"up\\nQ: 0.0\\nN: 0\\n\",\"down\\nQ: 0.0\\nN: 0\\n\",\"left\\nQ: 0.0\\nN: 0\\n\",\"right\\nQ: 0.0\\nN: 0\\n\",\"GridWorldState(3, 1, false)\\nN: 532\\n\",\"up\\nQ: -0.7954828566681192\\nN: 72\\n\",\"down\\nQ: 0.0\\nN: 118\\n\",\"left\\nQ: 0.020758087822448004\\nN: 121\\n\",\"right\\nQ: 0.6952317410740404\\nN: 221\\n\",\"GridWorldState(4, 3, false)\\nN: 69\\n\",\"up\\nQ: -10.0\\nN: 18\\n\",\"down\\nQ: -10.0\\nN: 17\\n\",\"left\\nQ: -10.0\\nN: 17\\n\",\"right\\nQ: -10.0\\nN: 17\\n\",\"GridWorldState(4, 5, false)\\nN: 17\\n\",\"up\\nQ: -3.0\\nN: 3\\n\",\"down\\nQ: 0.0\\nN: 6\\n\",\"left\\nQ: -2.25\\nN: 4\\n\",\"right\\nQ: -1.125\\nN: 4\\n\",\"GridWorldState(9, 2, false)\\nN: 1898\\n\",\"up\\nQ: 7.96459217232331\\nN: 1821\\n\",\"down\\nQ: 2.1356614734291246\\nN: 24\\n\",\"left\\nQ: 2.697811107043537\\nN: 27\\n\",\"right\\nQ: 2.343314035899346\\nN: 26\\n\",\"GridWorldState(8, 5, false)\\nN: 20\\n\",\"up\\nQ: 0.0\\nN: 3\\n\",\"down\\nQ: 2.4299999999999997\\nN: 6\\n\",\"left\\nQ: 2.2472336250000007\\nN: 8\\n\",\"right\\nQ: 0.0\\nN: 3\\n\",\"GridWorldState(9, 5, false)\\nN: 19\\n\",\"up\\nQ: 0.0\\nN: 5\\n\",\"down\\nQ: 1.3499999999999999\\nN: 6\\n\",\"left\\nQ: 0.0\\nN: 4\\n\",\"right\\nQ: 0.0\\nN: 4\\n\",\"up\\nQ: -0.8278335816248455\\nN: 76\\n\",\"down\\nQ: 0.0\\nN: 140\\n\",\"left\\nQ: -0.12074962291874149\\nN: 128\\n\",\"right\\nQ: 1.8171288007812965\\nN: 1436\\n\",\"GridWorldState(10, 7, false)\\nN: 0\\n\",\"up\\nQ: 0.0\\nN: 0\\n\",\"down\\nQ: 0.0\\nN: 0\\n\",\"left\\nQ: 0.0\\nN: 0\\n\",\"right\\nQ: 0.0\\nN: 0\\n\",\"GridWorldState(9, 7, false)\\nN: 0\\n\",\"up\\nQ: 0.0\\nN: 0\\n\",\"down\\nQ: 0.0\\nN: 0\\n\",\"left\\nQ: 0.0\\nN: 0\\n\",\"right\\nQ: 0.0\\nN: 0\\n\",\"GridWorldState(9, 4, false)\\nN: 41\\n\",\"up\\nQ: 1.1687184751500004\\nN: 6\\n\",\"down\\nQ: 7.4180769230769235\\nN: 26\\n\",\"left\\nQ: 0.0\\nN: 3\\n\",\"right\\nQ: 1.2149999999999999\\nN: 6\\n\",\"GridWorldState(6, 5, false)\\nN: 30\\n\",\"up\\nQ: 0.0\\nN: 6\\n\",\"down\\nQ: 0.7381125000000001\\nN: 8\\n\",\"left\\nQ: 0.0\\nN: 6\\n\",\"right\\nQ: 0.7676370000000001\\nN: 10\\n\",\"GridWorldState(5, 2, false)\\nN: 640\\n\",\"up\\nQ: -0.9368752348397369\\nN: 38\\n\",\"down\\nQ: 1.2777705166373607\\nN: 134\\n\",\"left\\nQ: -2.150674311934286\\nN: 21\\n\",\"right\\nQ: 2.653504370312116\\nN: 447\\n\",\"GridWorldState(10, 6, false)\\nN: 3\\n\",\"up\\nQ: 0.0\\nN: 1\\n\",\"down\\nQ: 0.0\\nN: 1\\n\",\"left\\nQ: 0.0\\nN: 1\\n\",\"right\\nQ: 0.0\\nN: 0\\n\",\"GridWorldState(6, 6, false)\\nN: 6\\n\",\"up\\nQ: 0.0\\nN: 1\\n\",\"down\\nQ: 0.0\\nN: 3\\n\",\"left\\nQ: 0.0\\nN: 1\\n\",\"right\\nQ: 0.0\\nN: 1\\n\",\"GridWorldState(2, 3, false)\\nN: 76\\n\",\"up\\nQ: -0.1866315595929804\\nN: 25\\n\",\"down\\nQ: -3.50942625\\nN: 8\\n\",\"left\\nQ: -0.4564311810525\\nN: 24\\n\",\"right\\nQ: -1.1253195497368422\\nN: 19\\n\",\"GridWorldState(1, 7, false)\\nN: 0\\n\",\"up\\nQ: 0.0\\nN: 0\\n\",\"down\\nQ: 0.0\\nN: 0\\n\",\"left\\nQ: 0.0\\nN: 0\\n\",\"right\\nQ: 0.0\\nN: 0\\n\",\"GridWorldState(10, 2, false)\\nN: 324\\n\",\"up\\nQ: 4.804772032539966\\nN: 58\\n\",\"down\\nQ: 3.893587393982642\\nN: 49\\n\",\"left\\nQ: 6.266280249000001\\nN: 198\\n\",\"right\\nQ: 0.0\\nN: 19\\n\",\"GridWorldState(2, 7, false)\\nN: 1\\n\",\"up\\nQ: 0.0\\nN: 1\\n\",\"down\\nQ: 0.0\\nN: 0\\n\",\"left\\nQ: 0.0\\nN: 0\\n\",\"right\\nQ: 0.0\\nN: 0\\n\",\"GridWorldState(3, 6, false)\\nN: 4\\n\",\"up\\nQ: 0.0\\nN: 1\\n\",\"down\\nQ: 0.0\\nN: 1\\n\",\"left\\nQ: 0.0\\nN: 1\\n\",\"right\\nQ: -4.5\\nN: 1\\n\",\"GridWorldState(7, 7, false)\\nN: 1\\n\",\"up\\nQ: 0.0\\nN: 1\\n\",\"down\\nQ: 0.0\\nN: 0\\n\",\"left\\nQ: 0.0\\nN: 0\\n\",\"right\\nQ: 0.0\\nN: 0\\n\",\"GridWorldState(7, 2, false)\\nN: 585\\n\",\"up\\nQ: 3.3636701563572418\\nN: 87\\n\",\"down\\nQ: 2.9865230407164463\\nN: 55\\n\",\"left\\nQ: 0.3836842105263158\\nN: 19\\n\",\"right\\nQ: 5.0481967249189665\\nN: 424\\n\",\"GridWorldState(1, 3, false)\\nN: 92\\n\",\"up\\nQ: -0.20955224764285718\\nN: 21\\n\",\"down\\nQ: 0.0\\nN: 22\\n\",\"left\\nQ: 0.0\\nN: 26\\n\",\"right\\nQ: 0.0\\nN: 23\\n\",\"GridWorldState(10, 1, false)\\nN: 190\\n\",\"up\\nQ: 3.159096423180676\\nN: 35\\n\",\"down\\nQ: 0.0\\nN: 14\\n\",\"left\\nQ: 4.978689035860975\\nN: 123\\n\",\"right\\nQ: 0.0\\nN: 18\\n\",\"GridWorldState(2, 5, false)\\nN: 13\\n\",\"up\\nQ: -1.215\\nN: 3\\n\",\"down\\nQ: 0.0\\nN: 3\\n\",\"left\\nQ: 0.0\\nN: 5\\n\",\"right\\nQ: -1.8225\\nN: 2\\n\",\"GridWorldState(5, 7, false)\\nN: 2\\n\",\"up\\nQ: 0.0\\nN: 1\\n\",\"down\\nQ: 0.0\\nN: 1\\n\",\"left\\nQ: 0.0\\nN: 0\\n\",\"right\\nQ: 0.0\\nN: 0\\n\",\"GridWorldState(8, 6, false)\\nN: 3\\n\",\"up\\nQ: 0.0\\nN: 1\\n\",\"down\\nQ: 0.0\\nN: 1\\n\",\"left\\nQ: 0.0\\nN: 1\\n\",\"right\\nQ: 0.0\\nN: 0\\n\",\"GridWorldState(6, 2, false)\\nN: 661\\n\",\"up\\nQ: 2.9569458939723425\\nN: 164\\n\",\"down\\nQ: 2.111717325101379\\nN: 83\\n\",\"left\\nQ: 0.6400028669807252\\nN: 36\\n\",\"right\\nQ: 3.8338029551712527\\nN: 378\\n\",\"GridWorldState(4, 6, true)\\nN: 0\\n\",\"GridWorldState(4, 6, true)\\nN: 0\\n\",\"GridWorldState(4, 6, true)\\nN: 0\\n\",\"GridWorldState(4, 6, true)\\nN: 0\\n\",\"GridWorldState(9, 3, true)\\nN: 0\\n\",\"GridWorldState(9, 3, true)\\nN: 0\\n\",\"GridWorldState(9, 3, true)\\nN: 0\\n\",\"GridWorldState(9, 3, true)\\nN: 0\\n\",\"GridWorldState(4, 3, true)\\nN: 0\\n\",\"GridWorldState(4, 3, true)\\nN: 0\\n\",\"GridWorldState(4, 3, true)\\nN: 0\\n\",\"GridWorldState(4, 3, true)\\nN: 0\\n\"],\"link_style\":[\"\",\"\",\"stroke-width:7.559289460184544px\",\"stroke-width:6.788442333021306px\",\"stroke-width:5.08000508000762px\",\"stroke-width:20.0px\",\"\",\"stroke-width:20.0px\",\"stroke-width:14.142135623730951px\",\"stroke-width:20.0px\",\"stroke-width:15.811388300841898px\",\"\",\"stroke-width:8.583950752789521px\",\"stroke-width:20.0px\",\"stroke-width:11.697953037312036px\",\"stroke-width:18.637822325921867px\",\"\",\"stroke-width:20.0px\",\"stroke-width:20.0px\",\"stroke-width:20.0px\",\"stroke-width:20.0px\",\"\",\"stroke-width:15.217718205053643px\",\"stroke-width:19.645989725150063px\",\"stroke-width:20.0px\",\"stroke-width:16.962290477574484px\",\"\",\"stroke-width:11.061326375099442px\",\"stroke-width:8.94427190999916px\",\"stroke-width:4.85071250072666px\",\"stroke-width:20.0px\",\"\",\"stroke-width:12.649110640673518px\",\"stroke-width:20.0px\",\"stroke-width:8.94427190999916px\",\"stroke-width:12.649110640673518px\",\"\",\"stroke-width:20.0px\",\"stroke-width:0.0px\",\"stroke-width:0.0px\",\"stroke-width:0.0px\",\"\",\"stroke-width:9.184967956592793px\",\"stroke-width:4.348458452036872px\",\"stroke-width:6.980492298346351px\",\"stroke-width:20.0px\",\"\",\"stroke-width:12.549792951613627px\",\"stroke-width:5.336568598012631px\",\"stroke-width:6.794883537408653px\",\"stroke-width:20.0px\",\"\",\"stroke-width:20.0px\",\"stroke-width:3.8303804865593536px\",\"stroke-width:3.287979746107146px\",\"stroke-width:5.762346154530567px\",\"\",\"stroke-width:16.903085094570333px\",\"stroke-width:16.035674514745462px\",\"stroke-width:20.0px\",\"stroke-width:15.118578920369089px\",\"\",\"stroke-width:15.34152270280169px\",\"stroke-width:4.5683219257612855px\",\"stroke-width:5.798550543523536px\",\"stroke-width:20.0px\",\"\",\"stroke-width:12.47219128924647px\",\"stroke-width:14.907119849998598px\",\"stroke-width:9.428090415820634px\",\"stroke-width:20.0px\",\"\",\"stroke-width:10.224747162910901px\",\"stroke-width:15.521246435421702px\",\"stroke-width:20.0px\",\"stroke-width:17.056057308448835px\",\"\",\"stroke-width:14.142135623730951px\",\"stroke-width:20.0px\",\"stroke-width:14.142135623730951px\",\"stroke-width:14.142135623730951px\",\"\",\"stroke-width:NaNpx\",\"stroke-width:NaNpx\",\"stroke-width:NaNpx\",\"stroke-width:NaNpx\",\"\",\"stroke-width:NaNpx\",\"stroke-width:NaNpx\",\"stroke-width:NaNpx\",\"stroke-width:NaNpx\",\"\",\"stroke-width:16.32993161855452px\",\"stroke-width:20.0px\",\"stroke-width:18.856180831641268px\",\"stroke-width:20.0px\",\"\",\"stroke-width:10.95445115010332px\",\"stroke-width:10.95445115010332px\",\"stroke-width:12.649110640673518px\",\"stroke-width:20.0px\",\"\",\"stroke-width:20.0px\",\"stroke-width:20.0px\",\"stroke-width:14.142135623730951px\",\"stroke-width:14.142135623730951px\",\"\",\"stroke-width:10.926108408817859px\",\"stroke-width:5.498414147691576px\",\"stroke-width:5.057805388588732px\",\"stroke-width:20.0px\",\"\",\"stroke-width:11.902380714238083px\",\"stroke-width:12.24744871391589px\",\"stroke-width:10.0px\",\"stroke-width:20.0px\",\"\",\"stroke-width:6.369052260807615px\",\"stroke-width:4.299446183400112px\",\"stroke-width:7.165743639000186px\",\"stroke-width:20.0px\",\"\",\"stroke-width:13.368747295663837px\",\"stroke-width:10.915536458196307px\",\"stroke-width:20.0px\",\"stroke-width:12.37705495510552px\",\"\",\"stroke-width:20.0px\",\"stroke-width:17.32050807568877px\",\"stroke-width:18.027756377319946px\",\"stroke-width:17.32050807568877px\",\"\",\"stroke-width:4.745161355674929px\",\"stroke-width:6.197628258171837px\",\"stroke-width:3.8170062121826653px\",\"stroke-width:20.0px\",\"\",\"stroke-width:8.16496580927726px\",\"stroke-width:20.0px\",\"stroke-width:0.0px\",\"stroke-width:0.0px\",\"\",\"stroke-width:18.043874177926348px\",\"stroke-width:20.0px\",\"stroke-width:16.705381391691137px\",\"stroke-width:18.043874177926348px\",\"\",\"stroke-width:17.842851423995423px\",\"stroke-width:18.73553864086286px\",\"stroke-width:20.0px\",\"stroke-width:16.903085094570333px\",\"\",\"stroke-width:16.32993161855452px\",\"stroke-width:6.666666666666666px\",\"stroke-width:20.0px\",\"stroke-width:8.16496580927726px\",\"\",\"stroke-width:3.310423554409472px\",\"stroke-width:2.960932840790421px\",\"stroke-width:5.234239225902137px\",\"stroke-width:20.0px\",\"\",\"stroke-width:3.436294236700462px\",\"stroke-width:20.0px\",\"stroke-width:9.010039500918856px\",\"stroke-width:10.164695431262665px\",\"\",\"stroke-width:20.0px\",\"stroke-width:19.975046777556894px\",\"stroke-width:19.975046777556894px\",\"stroke-width:19.975046777556894px\",\"\",\"stroke-width:11.547005383792515px\",\"stroke-width:20.0px\",\"stroke-width:11.547005383792515px\",\"stroke-width:0.0px\",\"\",\"stroke-width:NaNpx\",\"stroke-width:NaNpx\",\"stroke-width:NaNpx\",\"stroke-width:NaNpx\",\"\",\"stroke-width:20.0px\",\"stroke-width:0.0px\",\"stroke-width:0.0px\",\"stroke-width:0.0px\",\"\",\"stroke-width:20.0px\",\"stroke-width:20.0px\",\"stroke-width:20.0px\",\"stroke-width:17.32050807568877px\",\"\",\"stroke-width:17.32050807568877px\",\"stroke-width:20.0px\",\"stroke-width:13.09307341415954px\",\"stroke-width:10.690449676496975px\",\"\",\"stroke-width:20.0px\",\"stroke-width:15.491933384829668px\",\"stroke-width:17.88854381999832px\",\"stroke-width:17.88854381999832px\",\"\",\"stroke-width:10.846522890932809px\",\"stroke-width:18.149704259460602px\",\"stroke-width:13.719886811400707px\",\"stroke-width:20.0px\",\"\",\"stroke-width:19.051586888313608px\",\"stroke-width:20.0px\",\"stroke-width:20.0px\",\"stroke-width:18.856180831641268px\",\"\",\"stroke-width:13.48399724926484px\",\"stroke-width:18.42264745887353px\",\"stroke-width:15.954480704349312px\",\"stroke-width:20.0px\",\"\",\"stroke-width:18.973665961010276px\",\"stroke-width:20.0px\",\"stroke-width:17.88854381999832px\",\"stroke-width:10.95445115010332px\",\"\",\"stroke-width:NaNpx\",\"stroke-width:NaNpx\",\"stroke-width:NaNpx\",\"stroke-width:NaNpx\",\"\",\"stroke-width:11.415635859707859px\",\"stroke-width:14.614193807168569px\",\"stroke-width:14.798801467918874px\",\"stroke-width:20.0px\",\"\",\"stroke-width:20.0px\",\"stroke-width:19.436506316151px\",\"stroke-width:19.436506316151px\",\"stroke-width:19.436506316151px\",\"\",\"stroke-width:14.142135623730951px\",\"stroke-width:20.0px\",\"stroke-width:16.32993161855452px\",\"stroke-width:16.32993161855452px\",\"\",\"stroke-width:20.0px\",\"stroke-width:2.296046311721166px\",\"stroke-width:2.435324875404597px\",\"stroke-width:2.389800770154784px\",\"\",\"stroke-width:12.24744871391589px\",\"stroke-width:17.32050807568877px\",\"stroke-width:20.0px\",\"stroke-width:12.24744871391589px\",\"\",\"stroke-width:18.257418583505537px\",\"stroke-width:20.0px\",\"stroke-width:16.32993161855452px\",\"stroke-width:16.32993161855452px\",\"stroke-width:4.601077747065397px\",\"stroke-width:6.244774974703225px\",\"stroke-width:5.971146966896608px\",\"stroke-width:20.0px\",\"\",\"stroke-width:NaNpx\",\"stroke-width:NaNpx\",\"stroke-width:NaNpx\",\"stroke-width:NaNpx\",\"\",\"stroke-width:NaNpx\",\"stroke-width:NaNpx\",\"stroke-width:NaNpx\",\"stroke-width:NaNpx\",\"\",\"stroke-width:9.607689228305228px\",\"stroke-width:20.0px\",\"stroke-width:6.793662204867575px\",\"stroke-width:9.607689228305228px\",\"\",\"stroke-width:15.491933384829668px\",\"stroke-width:17.88854381999832px\",\"stroke-width:15.491933384829668px\",\"stroke-width:20.0px\",\"\",\"stroke-width:5.8313355479624605px\",\"stroke-width:10.950365954678729px\",\"stroke-width:4.3349678555584275px\",\"stroke-width:20.0px\",\"\",\"stroke-width:20.0px\",\"stroke-width:20.0px\",\"stroke-width:20.0px\",\"stroke-width:0.0px\",\"\",\"stroke-width:11.547005383792515px\",\"stroke-width:20.0px\",\"stroke-width:11.547005383792515px\",\"stroke-width:11.547005383792515px\",\"\",\"stroke-width:20.0px\",\"stroke-width:11.31370849898476px\",\"stroke-width:19.595917942265423px\",\"stroke-width:17.435595774162692px\",\"\",\"stroke-width:NaNpx\",\"stroke-width:NaNpx\",\"stroke-width:NaNpx\",\"stroke-width:NaNpx\",\"\",\"stroke-width:10.824588545146517px\",\"stroke-width:9.949366763261821px\",\"stroke-width:20.0px\",\"stroke-width:6.195469181897234px\",\"\",\"stroke-width:20.0px\",\"stroke-width:0.0px\",\"stroke-width:0.0px\",\"stroke-width:0.0px\",\"\",\"stroke-width:20.0px\",\"stroke-width:20.0px\",\"stroke-width:20.0px\",\"stroke-width:20.0px\",\"\",\"stroke-width:20.0px\",\"stroke-width:0.0px\",\"stroke-width:0.0px\",\"stroke-width:0.0px\",\"\",\"stroke-width:9.059551407112451px\",\"stroke-width:7.203248742951349px\",\"stroke-width:4.233736919305071px\",\"stroke-width:20.0px\",\"\",\"stroke-width:17.974340685458344px\",\"stroke-width:18.397324220155998px\",\"stroke-width:20.0px\",\"stroke-width:18.810798862519206px\",\"\",\"stroke-width:10.668698993381625px\",\"stroke-width:6.747477697966318px\",\"stroke-width:20.0px\",\"stroke-width:7.6509205567600596px\",\"\",\"stroke-width:15.491933384829668px\",\"stroke-width:15.491933384829668px\",\"stroke-width:20.0px\",\"stroke-width:12.649110640673518px\",\"\",\"stroke-width:20.0px\",\"stroke-width:20.0px\",\"stroke-width:0.0px\",\"stroke-width:0.0px\",\"\",\"stroke-width:20.0px\",\"stroke-width:20.0px\",\"stroke-width:20.0px\",\"stroke-width:0.0px\",\"\",\"stroke-width:13.173646934124717px\",\"stroke-width:9.371802805793974px\",\"stroke-width:6.172133998483677px\",\"stroke-width:20.0px\",\"\",\"\",\"\",\"\",\"\",\"\",\"\",\"\",\"\",\"\",\"\",\"\"],\"title\":\"MCTS tree\",\"text\":[\"GridWorldState(4, 1, false)\\nN:   1780\\n\",\"GridWorldState(6, 3, false)\\nN:    287\\n\",\"                       up\\nQ:   1.20\\nN:     31\\n\",\"                     down\\nQ:   0.61\\nN:     25\\n\",\"                     left\\nQ:  -1.86\\nN:     14\\n\",\"                    right\\nQ:   4.06\\nN:    217\\n\",\"GridWorldState(1, 5, false)\\nN:     25\\n\",\"                       up\\nQ:   0.00\\nN:      8\\n\",\"                     down\\nQ:  -1.36\\nN:      4\\n\",\"                     left\\nQ:   0.00\\nN:      8\\n\",\"                    right\\nQ:   0.00\\nN:      5\\n\",\"GridWorldState(8, 4, false)\\nN:     91\\n\",\"                       up\\nQ:   0.00\\nN:      7\\n\",\"                     down\\nQ:   4.80\\nN:     38\\n\",\"                     left\\nQ:   2.16\\nN:     13\\n\",\"                    right\\nQ:   4.86\\nN:     33\\n\",\"GridWorldState(2, 6, false)\\nN:      4\\n\",\"                       up\\nQ:   0.00\\nN:      1\\n\",\"                     down\\nQ:   0.00\\nN:      1\\n\",\"                     left\\nQ:   0.00\\nN:      1\\n\",\"                    right\\nQ:  -4.05\\nN:      1\\n\",\"GridWorldState(2, 2, false)\\nN:    186\\n\",\"                       up\\nQ:  -0.82\\nN:     33\\n\",\"                     down\\nQ:  -0.05\\nN:     55\\n\",\"                     left\\nQ:   0.09\\nN:     57\\n\",\"                    right\\nQ:  -0.58\\nN:     41\\n\",\"GridWorldState(5, 3, false)\\nN:    133\\n\",\"                       up\\nQ:  -1.17\\nN:     26\\n\",\"                     down\\nQ:  -2.89\\nN:     17\\n\",\"                     left\\nQ:  -8.66\\nN:      5\\n\",\"                    right\\nQ:   1.17\\nN:     85\\n\",\"GridWorldState(5, 6, false)\\nN:     10\\n\",\"                       up\\nQ:   0.00\\nN:      2\\n\",\"                     down\\nQ:   0.00\\nN:      5\\n\",\"                     left\\nQ:  -4.50\\nN:      1\\n\",\"                    right\\nQ:   0.00\\nN:      2\\n\",\"GridWorldState(8, 7, false)\\nN:      1\\n\",\"                       up\\nQ:   0.00\\nN:      1\\n\",\"                     down\\nQ:   0.00\\nN:      0\\n\",\"                     left\\nQ:   0.00\\nN:      0\\n\",\"                    right\\nQ:   0.00\\nN:      0\\n\",\"GridWorldState(7, 1, false)\\nN:    759\\n\",\"                       up\\nQ:   3.12\\nN:    116\\n\",\"                     down\\nQ:   0.00\\nN:     26\\n\",\"                     left\\nQ:   2.15\\nN:     67\\n\",\"                    right\\nQ:   4.31\\nN:    550\\n\",\"GridWorldState(5, 1, false)\\nN:   1465\\n\",\"                       up\\nQ:   2.04\\nN:    365\\n\",\"                     down\\nQ:   0.00\\nN:     66\\n\",\"                     left\\nQ:   0.80\\nN:    107\\n\",\"                    right\\nQ:   2.75\\nN:    927\\n\",\"GridWorldState(9, 1, false)\\nN:    594\\n\",\"                       up\\nQ:   6.22\\nN:    518\\n\",\"                     down\\nQ:   0.00\\nN:     19\\n\",\"                     left\\nQ:  -0.50\\nN:     14\\n\",\"                    right\\nQ:   3.03\\nN:     43\\n\",\"GridWorldState(1, 4, false)\\nN:     41\\n\",\"                       up\\nQ:  -0.73\\nN:     10\\n\",\"                     down\\nQ:   0.00\\nN:      9\\n\",\"                     left\\nQ:   0.00\\nN:     14\\n\",\"                    right\\nQ:   0.00\\nN:      8\\n\",\"GridWorldState(8, 1, false)\\nN:    595\\n\",\"                       up\\nQ:   4.72\\nN:    203\\n\",\"                     down\\nQ:   0.00\\nN:     18\\n\",\"                     left\\nQ:   1.54\\nN:     29\\n\",\"                    right\\nQ:   5.21\\nN:    345\\n\",\"GridWorldState(3, 4, false)\\nN:     39\\n\",\"                       up\\nQ:  -3.06\\nN:      7\\n\",\"                     down\\nQ:  -1.39\\nN:     10\\n\",\"                     left\\nQ:  -5.30\\nN:      4\\n\",\"                    right\\nQ:   0.64\\nN:     18\\n\",\"GridWorldState(3, 2, false)\\nN:    228\\n\",\"                       up\\nQ:  -3.44\\nN:     23\\n\",\"                     down\\nQ:  -0.81\\nN:     53\\n\",\"                     left\\nQ:  -0.05\\nN:     88\\n\",\"                    right\\nQ:  -0.48\\nN:     64\\n\",\"GridWorldState(9, 6, false)\\nN:      5\\n\",\"                       up\\nQ:   0.00\\nN:      1\\n\",\"                     down\\nQ:   0.00\\nN:      2\\n\",\"                     left\\nQ:   0.00\\nN:      1\\n\",\"                    right\\nQ:   0.00\\nN:      1\\n\",\"GridWorldState(6, 7, false)\\nN:      0\\n\",\"                       up\\nQ:   0.00\\nN:      0\\n\",\"                     down\\nQ:   0.00\\nN:      0\\n\",\"                     left\\nQ:   0.00\\nN:      0\\n\",\"                    right\\nQ:   0.00\\nN:      0\\n\",\"GridWorldState(3, 7, false)\\nN:      0\\n\",\"                       up\\nQ:   0.00\\nN:      0\\n\",\"                     down\\nQ:   0.00\\nN:      0\\n\",\"                     left\\nQ:   0.00\\nN:      0\\n\",\"                    right\\nQ:   0.00\\nN:      0\\n\",\"GridWorldState(7, 5, false)\\nN:     32\\n\",\"                       up\\nQ:   0.33\\nN:      6\\n\",\"                     down\\nQ:   1.80\\nN:      9\\n\",\"                     left\\nQ:   1.48\\nN:      8\\n\",\"                    right\\nQ:   1.80\\nN:      9\\n\",\"GridWorldState(10, 5, false)\\nN:     20\\n\",\"                       up\\nQ:   0.00\\nN:      3\\n\",\"                     down\\nQ:   0.00\\nN:      3\\n\",\"                     left\\nQ:   0.00\\nN:      4\\n\",\"                    right\\nQ:   0.00\\nN:     10\\n\",\"GridWorldState(4, 6, false)\\nN:      6\\n\",\"                       up\\nQ:  -5.00\\nN:      2\\n\",\"                     down\\nQ:  -5.00\\nN:      2\\n\",\"                     left\\nQ:  -5.00\\nN:      1\\n\",\"                    right\\nQ:  -5.00\\nN:      1\\n\",\"GridWorldState(8, 2, false)\\nN:    742\\n\",\"                       up\\nQ:   5.70\\nN:    154\\n\",\"                     down\\nQ:   3.25\\nN:     39\\n\",\"                     left\\nQ:   2.54\\nN:     33\\n\",\"                    right\\nQ:   6.21\\nN:    516\\n\",\"GridWorldState(6, 4, false)\\nN:     95\\n\",\"                       up\\nQ:   0.00\\nN:     17\\n\",\"                     down\\nQ:   0.38\\nN:     18\\n\",\"                     left\\nQ:  -0.99\\nN:     12\\n\",\"                    right\\nQ:   2.10\\nN:     48\\n\",\"GridWorldState(6, 1, false)\\nN:    994\\n\",\"                       up\\nQ:   1.40\\nN:     79\\n\",\"                     down\\nQ:   0.00\\nN:     36\\n\",\"                     left\\nQ:   1.66\\nN:    100\\n\",\"                    right\\nQ:   3.52\\nN:    779\\n\",\"GridWorldState(10, 3, false)\\nN:    100\\n\",\"                       up\\nQ:   6.25\\nN:     21\\n\",\"                     down\\nQ:   3.39\\nN:     14\\n\",\"                     left\\nQ:   7.95\\nN:     47\\n\",\"                    right\\nQ:   0.00\\nN:     18\\n\",\"GridWorldState(5, 4, false)\\nN:     53\\n\",\"                       up\\nQ:  -0.76\\nN:     16\\n\",\"                     down\\nQ:  -0.90\\nN:     12\\n\",\"                     left\\nQ:  -1.11\\nN:     13\\n\",\"                    right\\nQ:  -1.32\\nN:     12\\n\",\"GridWorldState(7, 3, false)\\nN:    359\\n\",\"                       up\\nQ:   0.73\\nN:     17\\n\",\"                     down\\nQ:   1.94\\nN:     29\\n\",\"                     left\\nQ:  -0.57\\nN:     11\\n\",\"                    right\\nQ:   5.47\\nN:    302\\n\",\"GridWorldState(1, 6, false)\\nN:      7\\n\",\"                       up\\nQ:   0.00\\nN:      1\\n\",\"                     down\\nQ:   0.00\\nN:      6\\n\",\"                     left\\nQ:   0.00\\nN:      0\\n\",\"                    right\\nQ:   0.00\\nN:      0\\n\",\"GridWorldState(2, 1, false)\\nN:    286\\n\",\"                       up\\nQ:  -0.00\\nN:     70\\n\",\"                     down\\nQ:   0.00\\nN:     86\\n\",\"                     left\\nQ:  -0.28\\nN:     60\\n\",\"                    right\\nQ:   0.08\\nN:     70\\n\",\"GridWorldState(1, 2, false)\\nN:    166\\n\",\"                       up\\nQ:  -0.07\\nN:     39\\n\",\"                     down\\nQ:   0.06\\nN:     43\\n\",\"                     left\\nQ:   0.00\\nN:     49\\n\",\"                    right\\nQ:  -0.27\\nN:     35\\n\",\"GridWorldState(4, 4, false)\\nN:     35\\n\",\"                       up\\nQ:  -1.01\\nN:     12\\n\",\"                     down\\nQ:  -9.00\\nN:      2\\n\",\"                     left\\nQ:   0.53\\nN:     18\\n\",\"                    right\\nQ:  -7.40\\nN:      3\\n\",\"GridWorldState(8, 3, false)\\nN:    408\\n\",\"                       up\\nQ:   1.14\\nN:     10\\n\",\"                     down\\nQ:   0.00\\nN:      8\\n\",\"                     left\\nQ:   2.62\\nN:     25\\n\",\"                    right\\nQ:   7.63\\nN:    365\\n\",\"GridWorldState(4, 2, false)\\nN:    404\\n\",\"                       up\\nQ:  -7.26\\nN:      8\\n\",\"                     down\\nQ:   0.45\\nN:    271\\n\",\"                     left\\nQ:  -1.50\\nN:     55\\n\",\"                    right\\nQ:  -1.18\\nN:     70\\n\",\"GridWorldState(9, 3, false)\\nN:   1601\\n\",\"                       up\\nQ:  10.00\\nN:    401\\n\",\"                     down\\nQ:  10.00\\nN:    400\\n\",\"                     left\\nQ:  10.00\\nN:    400\\n\",\"                    right\\nQ:  10.00\\nN:    400\\n\",\"GridWorldState(7, 6, false)\\nN:      5\\n\",\"                       up\\nQ:   2.19\\nN:      1\\n\",\"                     down\\nQ:   0.00\\nN:      3\\n\",\"                     left\\nQ:   0.00\\nN:      1\\n\",\"                    right\\nQ:   0.00\\nN:      0\\n\",\"GridWorldState(2, 8, false)\\nN:      0\\n\",\"                       up\\nQ:   0.00\\nN:      0\\n\",\"                     down\\nQ:   0.00\\nN:      0\\n\",\"                     left\\nQ:   0.00\\nN:      0\\n\",\"                    right\\nQ:   0.00\\nN:      0\\n\",\"GridWorldState(5, 8, false)\\nN:      1\\n\",\"                       up\\nQ:   0.00\\nN:      1\\n\",\"                     down\\nQ:   0.00\\nN:      0\\n\",\"                     left\\nQ:   0.00\\nN:      0\\n\",\"                    right\\nQ:   0.00\\nN:      0\\n\",\"GridWorldState(3, 5, false)\\nN:     15\\n\",\"                       up\\nQ:   0.00\\nN:      4\\n\",\"                     down\\nQ:  -0.82\\nN:      4\\n\",\"                     left\\nQ:  -0.82\\nN:      4\\n\",\"                    right\\nQ:  -2.70\\nN:      3\\n\",\"GridWorldState(3, 3, false)\\nN:     69\\n\",\"                       up\\nQ:  -2.38\\nN:     21\\n\",\"                     down\\nQ:  -2.13\\nN:     28\\n\",\"                     left\\nQ:  -3.72\\nN:     12\\n\",\"                    right\\nQ:  -5.63\\nN:      8\\n\",\"GridWorldState(5, 5, false)\\nN:     32\\n\",\"                       up\\nQ:  -0.40\\nN:     10\\n\",\"                     down\\nQ:   0.00\\nN:      6\\n\",\"                     left\\nQ:  -0.51\\nN:      8\\n\",\"                    right\\nQ:   0.86\\nN:      8\\n\",\"GridWorldState(10, 4, false)\\nN:     44\\n\",\"                       up\\nQ:   0.83\\nN:      5\\n\",\"                     down\\nQ:   5.34\\nN:     14\\n\",\"                     left\\nQ:   1.61\\nN:      8\\n\",\"                    right\\nQ:   0.00\\nN:     17\\n\",\"GridWorldState(1, 1, false)\\nN:    205\\n\",\"                       up\\nQ:  -0.10\\nN:     49\\n\",\"                     down\\nQ:   0.00\\nN:     54\\n\",\"                     left\\nQ:   0.00\\nN:     54\\n\",\"                    right\\nQ:  -0.12\\nN:     48\\n\",\"GridWorldState(7, 4, false)\\nN:     97\\n\",\"                       up\\nQ:   1.82\\nN:     15\\n\",\"                     down\\nQ:   3.09\\nN:     28\\n\",\"                     left\\nQ:   2.62\\nN:     21\\n\",\"                    right\\nQ:   3.80\\nN:     33\\n\",\"GridWorldState(2, 4, false)\\nN:     30\\n\",\"                       up\\nQ:   0.00\\nN:      9\\n\",\"                     down\\nQ:   0.58\\nN:     10\\n\",\"                     left\\nQ:   0.00\\nN:      8\\n\",\"                    right\\nQ:  -4.85\\nN:      3\\n\",\"GridWorldState(5, 9, false)\\nN:      0\\n\",\"                       up\\nQ:   0.00\\nN:      0\\n\",\"                     down\\nQ:   0.00\\nN:      0\\n\",\"                     left\\nQ:   0.00\\nN:      0\\n\",\"                    right\\nQ:   0.00\\nN:      0\\n\",\"GridWorldState(3, 1, false)\\nN:    532\\n\",\"                       up\\nQ:  -0.80\\nN:     72\\n\",\"                     down\\nQ:   0.00\\nN:    118\\n\",\"                     left\\nQ:   0.02\\nN:    121\\n\",\"                    right\\nQ:   0.70\\nN:    221\\n\",\"GridWorldState(4, 3, false)\\nN:     69\\n\",\"                       up\\nQ: -10.00\\nN:     18\\n\",\"                     down\\nQ: -10.00\\nN:     17\\n\",\"                     left\\nQ: -10.00\\nN:     17\\n\",\"                    right\\nQ: -10.00\\nN:     17\\n\",\"GridWorldState(4, 5, false)\\nN:     17\\n\",\"                       up\\nQ:  -3.00\\nN:      3\\n\",\"                     down\\nQ:   0.00\\nN:      6\\n\",\"                     left\\nQ:  -2.25\\nN:      4\\n\",\"                    right\\nQ:  -1.13\\nN:      4\\n\",\"GridWorldState(9, 2, false)\\nN:   1898\\n\",\"                       up\\nQ:   7.96\\nN:   1821\\n\",\"                     down\\nQ:   2.14\\nN:     24\\n\",\"                     left\\nQ:   2.70\\nN:     27\\n\",\"                    right\\nQ:   2.34\\nN:     26\\n\",\"GridWorldState(8, 5, false)\\nN:     20\\n\",\"                       up\\nQ:   0.00\\nN:      3\\n\",\"                     down\\nQ:   2.43\\nN:      6\\n\",\"                     left\\nQ:   2.25\\nN:      8\\n\",\"                    right\\nQ:   0.00\\nN:      3\\n\",\"GridWorldState(9, 5, false)\\nN:     19\\n\",\"                       up\\nQ:   0.00\\nN:      5\\n\",\"                     down\\nQ:   1.35\\nN:      6\\n\",\"                     left\\nQ:   0.00\\nN:      4\\n\",\"                    right\\nQ:   0.00\\nN:      4\\n\",\"                       up\\nQ:  -0.83\\nN:     76\\n\",\"                     down\\nQ:   0.00\\nN:    140\\n\",\"                     left\\nQ:  -0.12\\nN:    128\\n\",\"                    right\\nQ:   1.82\\nN:   1436\\n\",\"GridWorldState(10, 7, false)\\nN:      0\\n\",\"                       up\\nQ:   0.00\\nN:      0\\n\",\"                     down\\nQ:   0.00\\nN:      0\\n\",\"                     left\\nQ:   0.00\\nN:      0\\n\",\"                    right\\nQ:   0.00\\nN:      0\\n\",\"GridWorldState(9, 7, false)\\nN:      0\\n\",\"                       up\\nQ:   0.00\\nN:      0\\n\",\"                     down\\nQ:   0.00\\nN:      0\\n\",\"                     left\\nQ:   0.00\\nN:      0\\n\",\"                    right\\nQ:   0.00\\nN:      0\\n\",\"GridWorldState(9, 4, false)\\nN:     41\\n\",\"                       up\\nQ:   1.17\\nN:      6\\n\",\"                     down\\nQ:   7.42\\nN:     26\\n\",\"                     left\\nQ:   0.00\\nN:      3\\n\",\"                    right\\nQ:   1.21\\nN:      6\\n\",\"GridWorldState(6, 5, false)\\nN:     30\\n\",\"                       up\\nQ:   0.00\\nN:      6\\n\",\"                     down\\nQ:   0.74\\nN:      8\\n\",\"                     left\\nQ:   0.00\\nN:      6\\n\",\"                    right\\nQ:   0.77\\nN:     10\\n\",\"GridWorldState(5, 2, false)\\nN:    640\\n\",\"                       up\\nQ:  -0.94\\nN:     38\\n\",\"                     down\\nQ:   1.28\\nN:    134\\n\",\"                     left\\nQ:  -2.15\\nN:     21\\n\",\"                    right\\nQ:   2.65\\nN:    447\\n\",\"GridWorldState(10, 6, false)\\nN:      3\\n\",\"                       up\\nQ:   0.00\\nN:      1\\n\",\"                     down\\nQ:   0.00\\nN:      1\\n\",\"                     left\\nQ:   0.00\\nN:      1\\n\",\"                    right\\nQ:   0.00\\nN:      0\\n\",\"GridWorldState(6, 6, false)\\nN:      6\\n\",\"                       up\\nQ:   0.00\\nN:      1\\n\",\"                     down\\nQ:   0.00\\nN:      3\\n\",\"                     left\\nQ:   0.00\\nN:      1\\n\",\"                    right\\nQ:   0.00\\nN:      1\\n\",\"GridWorldState(2, 3, false)\\nN:     76\\n\",\"                       up\\nQ:  -0.19\\nN:     25\\n\",\"                     down\\nQ:  -3.51\\nN:      8\\n\",\"                     left\\nQ:  -0.46\\nN:     24\\n\",\"                    right\\nQ:  -1.13\\nN:     19\\n\",\"GridWorldState(1, 7, false)\\nN:      0\\n\",\"                       up\\nQ:   0.00\\nN:      0\\n\",\"                     down\\nQ:   0.00\\nN:      0\\n\",\"                     left\\nQ:   0.00\\nN:      0\\n\",\"                    right\\nQ:   0.00\\nN:      0\\n\",\"GridWorldState(10, 2, false)\\nN:    324\\n\",\"                       up\\nQ:   4.80\\nN:     58\\n\",\"                     down\\nQ:   3.89\\nN:     49\\n\",\"                     left\\nQ:   6.27\\nN:    198\\n\",\"                    right\\nQ:   0.00\\nN:     19\\n\",\"GridWorldState(2, 7, false)\\nN:      1\\n\",\"                       up\\nQ:   0.00\\nN:      1\\n\",\"                     down\\nQ:   0.00\\nN:      0\\n\",\"                     left\\nQ:   0.00\\nN:      0\\n\",\"                    right\\nQ:   0.00\\nN:      0\\n\",\"GridWorldState(3, 6, false)\\nN:      4\\n\",\"                       up\\nQ:   0.00\\nN:      1\\n\",\"                     down\\nQ:   0.00\\nN:      1\\n\",\"                     left\\nQ:   0.00\\nN:      1\\n\",\"                    right\\nQ:  -4.50\\nN:      1\\n\",\"GridWorldState(7, 7, false)\\nN:      1\\n\",\"                       up\\nQ:   0.00\\nN:      1\\n\",\"                     down\\nQ:   0.00\\nN:      0\\n\",\"                     left\\nQ:   0.00\\nN:      0\\n\",\"                    right\\nQ:   0.00\\nN:      0\\n\",\"GridWorldState(7, 2, false)\\nN:    585\\n\",\"                       up\\nQ:   3.36\\nN:     87\\n\",\"                     down\\nQ:   2.99\\nN:     55\\n\",\"                     left\\nQ:   0.38\\nN:     19\\n\",\"                    right\\nQ:   5.05\\nN:    424\\n\",\"GridWorldState(1, 3, false)\\nN:     92\\n\",\"                       up\\nQ:  -0.21\\nN:     21\\n\",\"                     down\\nQ:   0.00\\nN:     22\\n\",\"                     left\\nQ:   0.00\\nN:     26\\n\",\"                    right\\nQ:   0.00\\nN:     23\\n\",\"GridWorldState(10, 1, false)\\nN:    190\\n\",\"                       up\\nQ:   3.16\\nN:     35\\n\",\"                     down\\nQ:   0.00\\nN:     14\\n\",\"                     left\\nQ:   4.98\\nN:    123\\n\",\"                    right\\nQ:   0.00\\nN:     18\\n\",\"GridWorldState(2, 5, false)\\nN:     13\\n\",\"                       up\\nQ:  -1.22\\nN:      3\\n\",\"                     down\\nQ:   0.00\\nN:      3\\n\",\"                     left\\nQ:   0.00\\nN:      5\\n\",\"                    right\\nQ:  -1.82\\nN:      2\\n\",\"GridWorldState(5, 7, false)\\nN:      2\\n\",\"                       up\\nQ:   0.00\\nN:      1\\n\",\"                     down\\nQ:   0.00\\nN:      1\\n\",\"                     left\\nQ:   0.00\\nN:      0\\n\",\"                    right\\nQ:   0.00\\nN:      0\\n\",\"GridWorldState(8, 6, false)\\nN:      3\\n\",\"                       up\\nQ:   0.00\\nN:      1\\n\",\"                     down\\nQ:   0.00\\nN:      1\\n\",\"                     left\\nQ:   0.00\\nN:      1\\n\",\"                    right\\nQ:   0.00\\nN:      0\\n\",\"GridWorldState(6, 2, false)\\nN:    661\\n\",\"                       up\\nQ:   2.96\\nN:    164\\n\",\"                     down\\nQ:   2.11\\nN:     83\\n\",\"                     left\\nQ:   0.64\\nN:     36\\n\",\"                    right\\nQ:   3.83\\nN:    378\\n\",\"GridWorldState(4, 6, true)\\nN:      0\\n\",\"GridWorldState(4, 6, true)\\nN:      0\\n\",\"GridWorldState(4, 6, true)\\nN:      0\\n\",\"GridWorldState(4, 6, true)\\nN:      0\\n\",\"GridWorldState(9, 3, true)\\nN:      0\\n\",\"GridWorldState(9, 3, true)\\nN:      0\\n\",\"GridWorldState(9, 3, true)\\nN:      0\\n\",\"GridWorldState(9, 3, true)\\nN:      0\\n\",\"GridWorldState(4, 3, true)\\nN:      0\\n\",\"GridWorldState(4, 3, true)\\nN:      0\\n\",\"GridWorldState(4, 3, true)\\nN:      0\\n\",\"GridWorldState(4, 3, true)\\nN:      0\\n\"],\"style\":[\"\",\"\",\"stroke:#704800\",\"stroke:#784400\",\"stroke:#973400\",\"stroke:#4C5A00\",\"\",\"stroke:#7F4000\",\"stroke:#913700\",\"stroke:#7F4000\",\"stroke:#7F4000\",\"\",\"stroke:#7F4000\",\"stroke:#425F00\",\"stroke:#644E00\",\"stroke:#425F00\",\"\",\"stroke:#7F4000\",\"stroke:#7F4000\",\"stroke:#7F4000\",\"stroke:#B32600\",\"\",\"stroke:#8A3B00\",\"stroke:#804000\",\"stroke:#7E4100\",\"stroke:#873C00\",\"\",\"stroke:#8E3900\",\"stroke:#A42E00\",\"stroke:#EE0900\",\"stroke:#714700\",\"\",\"stroke:#7F4000\",\"stroke:#7F4000\",\"stroke:#B92300\",\"stroke:#7F4000\",\"\",\"stroke:#7F4000\",\"stroke:#7F4000\",\"stroke:#7F4000\",\"stroke:#7F4000\",\"\",\"stroke:#585400\",\"stroke:#7F4000\",\"stroke:#644E00\",\"stroke:#495B00\",\"\",\"stroke:#664D00\",\"stroke:#7F4000\",\"stroke:#754500\",\"stroke:#5C5200\",\"\",\"stroke:#306800\",\"stroke:#7F4000\",\"stroke:#863D00\",\"stroke:#595300\",\"\",\"stroke:#893B00\",\"stroke:#7F4000\",\"stroke:#7F4000\",\"stroke:#7F4000\",\"\",\"stroke:#435E00\",\"stroke:#7F4000\",\"stroke:#6C4A00\",\"stroke:#3D6100\",\"\",\"stroke:#A72C00\",\"stroke:#913700\",\"stroke:#C31E00\",\"stroke:#774400\",\"\",\"stroke:#AB2A00\",\"stroke:#8A3B00\",\"stroke:#804000\",\"stroke:#863D00\",\"\",\"stroke:#7F4000\",\"stroke:#7F4000\",\"stroke:#7F4000\",\"stroke:#7F4000\",\"\",\"stroke:#7F4000\",\"stroke:#7F4000\",\"stroke:#7F4000\",\"stroke:#7F4000\",\"\",\"stroke:#7F4000\",\"stroke:#7F4000\",\"stroke:#7F4000\",\"stroke:#7F4000\",\"\",\"stroke:#7B4200\",\"stroke:#694B00\",\"stroke:#6D4900\",\"stroke:#694B00\",\"\",\"stroke:#7F4000\",\"stroke:#7F4000\",\"stroke:#7F4000\",\"stroke:#7F4000\",\"\",\"stroke:#BF2000\",\"stroke:#BF2000\",\"stroke:#BF2000\",\"stroke:#BF2000\",\"\",\"stroke:#376400\",\"stroke:#565500\",\"stroke:#5F5000\",\"stroke:#306800\",\"\",\"stroke:#7F4000\",\"stroke:#7B4200\",\"stroke:#8C3A00\",\"stroke:#654D00\",\"\",\"stroke:#6E4900\",\"stroke:#7F4000\",\"stroke:#6A4B00\",\"stroke:#535600\",\"\",\"stroke:#306800\",\"stroke:#545600\",\"stroke:#1A7300\",\"stroke:#7F4000\",\"\",\"stroke:#893B00\",\"stroke:#8B3A00\",\"stroke:#8E3900\",\"stroke:#903800\",\"\",\"stroke:#764500\",\"stroke:#674C00\",\"stroke:#873C00\",\"stroke:#3A6300\",\"\",\"stroke:#7F4000\",\"stroke:#7F4000\",\"stroke:#7F4000\",\"stroke:#7F4000\",\"\",\"stroke:#804000\",\"stroke:#7F4000\",\"stroke:#833E00\",\"stroke:#7E4100\",\"\",\"stroke:#804000\",\"stroke:#7F4000\",\"stroke:#7F4000\",\"stroke:#833E00\",\"\",\"stroke:#8C3A00\",\"stroke:#F20700\",\"stroke:#794300\",\"stroke:#DE1100\",\"\",\"stroke:#714700\",\"stroke:#7F4000\",\"stroke:#5E5100\",\"stroke:#1E7100\",\"\",\"stroke:#DC1200\",\"stroke:#7A4300\",\"stroke:#933600\",\"stroke:#8F3800\",\"\",\"stroke:#008000\",\"stroke:#008000\",\"stroke:#008000\",\"stroke:#008000\",\"\",\"stroke:#644E00\",\"stroke:#7F4000\",\"stroke:#7F4000\",\"stroke:#7F4000\",\"\",\"stroke:#7F4000\",\"stroke:#7F4000\",\"stroke:#7F4000\",\"stroke:#7F4000\",\"\",\"stroke:#7F4000\",\"stroke:#7F4000\",\"stroke:#7F4000\",\"stroke:#7F4000\",\"\",\"stroke:#7F4000\",\"stroke:#8A3B00\",\"stroke:#8A3B00\",\"stroke:#A22F00\",\"\",\"stroke:#9E3100\",\"stroke:#9B3200\",\"stroke:#AF2800\",\"stroke:#C71C00\",\"\",\"stroke:#853D00\",\"stroke:#7F4000\",\"stroke:#863D00\",\"stroke:#744600\",\"\",\"stroke:#754500\",\"stroke:#3B6200\",\"stroke:#6B4A00\",\"stroke:#7F4000\",\"\",\"stroke:#813F00\",\"stroke:#7F4000\",\"stroke:#7F4000\",\"stroke:#813F00\",\"\",\"stroke:#684C00\",\"stroke:#585400\",\"stroke:#5E5100\",\"stroke:#4F5800\",\"\",\"stroke:#7F4000\",\"stroke:#784400\",\"stroke:#7F4000\",\"stroke:#BD2100\",\"\",\"stroke:#7F4000\",\"stroke:#7F4000\",\"stroke:#7F4000\",\"stroke:#7F4000\",\"\",\"stroke:#8A3B00\",\"stroke:#7F4000\",\"stroke:#7F4000\",\"stroke:#774400\",\"\",\"stroke:#FF0000\",\"stroke:#FF0000\",\"stroke:#FF0000\",\"stroke:#FF0000\",\"\",\"stroke:#A62D00\",\"stroke:#7F4000\",\"stroke:#9C3200\",\"stroke:#8E3900\",\"\",\"stroke:#1A7300\",\"stroke:#644E00\",\"stroke:#5D5100\",\"stroke:#624F00\",\"\",\"stroke:#7F4000\",\"stroke:#614F00\",\"stroke:#634E00\",\"stroke:#7F4000\",\"\",\"stroke:#7F4000\",\"stroke:#6E4900\",\"stroke:#7F4000\",\"stroke:#7F4000\",\"stroke:#8A3B00\",\"stroke:#7F4000\",\"stroke:#813F00\",\"stroke:#684C00\",\"\",\"stroke:#7F4000\",\"stroke:#7F4000\",\"stroke:#7F4000\",\"stroke:#7F4000\",\"\",\"stroke:#7F4000\",\"stroke:#7F4000\",\"stroke:#7F4000\",\"stroke:#7F4000\",\"\",\"stroke:#714700\",\"stroke:#216F00\",\"stroke:#7F4000\",\"stroke:#704800\",\"\",\"stroke:#7F4000\",\"stroke:#764500\",\"stroke:#7F4000\",\"stroke:#764500\",\"\",\"stroke:#8B3A00\",\"stroke:#6F4800\",\"stroke:#9B3200\",\"stroke:#5E5100\",\"\",\"stroke:#7F4000\",\"stroke:#7F4000\",\"stroke:#7F4000\",\"stroke:#7F4000\",\"\",\"stroke:#7F4000\",\"stroke:#7F4000\",\"stroke:#7F4000\",\"stroke:#7F4000\",\"\",\"stroke:#823F00\",\"stroke:#AC2A00\",\"stroke:#853D00\",\"stroke:#8E3900\",\"\",\"stroke:#7F4000\",\"stroke:#7F4000\",\"stroke:#7F4000\",\"stroke:#7F4000\",\"\",\"stroke:#425F00\",\"stroke:#4E5900\",\"stroke:#306800\",\"stroke:#7F4000\",\"\",\"stroke:#7F4000\",\"stroke:#7F4000\",\"stroke:#7F4000\",\"stroke:#7F4000\",\"\",\"stroke:#7F4000\",\"stroke:#7F4000\",\"stroke:#7F4000\",\"stroke:#B92300\",\"\",\"stroke:#7F4000\",\"stroke:#7F4000\",\"stroke:#7F4000\",\"stroke:#7F4000\",\"\",\"stroke:#555500\",\"stroke:#595300\",\"stroke:#7B4200\",\"stroke:#3F6000\",\"\",\"stroke:#823F00\",\"stroke:#7F4000\",\"stroke:#7F4000\",\"stroke:#7F4000\",\"\",\"stroke:#575400\",\"stroke:#7F4000\",\"stroke:#406000\",\"stroke:#7F4000\",\"\",\"stroke:#8F3800\",\"stroke:#7F4000\",\"stroke:#7F4000\",\"stroke:#973400\",\"\",\"stroke:#7F4000\",\"stroke:#7F4000\",\"stroke:#7F4000\",\"stroke:#7F4000\",\"\",\"stroke:#7F4000\",\"stroke:#7F4000\",\"stroke:#7F4000\",\"stroke:#7F4000\",\"\",\"stroke:#5A5300\",\"stroke:#654D00\",\"stroke:#774400\",\"stroke:#4F5800\",\"\",\"\",\"\",\"\",\"\",\"\",\"\",\"\",\"\",\"\",\"\",\"\"]}};\n",
       "        var rootID = 1-1;\n",
       "        var div = \"treevisu0X9AGgb\";\n",
       "        var initExpand = 0\n",
       "        var initDuration = 750\n",
       "        var svgHeight = 600\n",
       "        if (typeof $ === 'undefined') {\n",
       "    loadScript(\"https://code.jquery.com/jquery-3.1.1.min.js\", run);\n",
       "} else {\n",
       "    run();\n",
       "}\n",
       "\n",
       "function run() {\n",
       "    if (typeof d3 === 'undefined') {\n",
       "        loadScript(\"https://d3js.org/d3.v3.js\", showTree);\n",
       "    } else {\n",
       "        showTree();\n",
       "    }\n",
       "}\n",
       "\n",
       "function loadScript(url, callback)\n",
       "{\n",
       "    console.log(\"starting script load...\")\n",
       "    // Adding the script tag to the head as suggested before\n",
       "    var head = document.getElementsByTagName('head')[0];\n",
       "    var script = document.createElement('script');\n",
       "    script.type = 'text/javascript';\n",
       "    script.src = url;\n",
       "\n",
       "    // Then bind the event to the callback function.\n",
       "    // There are several events for cross browser compatibility.\n",
       "    script.onreadystatechange = callback;\n",
       "    script.onload = callback;\n",
       "\n",
       "    // Fire the loading\n",
       "    head.appendChild(script);\n",
       "}\n",
       "\n",
       "function showTree() {\n",
       "        \n",
       "    // var margin = {top: 20, right: 120, bottom: 20, left: 120},\n",
       "    var margin = {top: 20, right: 120, bottom: 80, left: 120},\n",
       "        width = $(\"#\"+div).width() - margin.right - margin.left,\n",
       "        height = svgHeight - margin.top - margin.bottom;\n",
       "        // TODO make height a parameter of TreeVisualizer\n",
       "\n",
       "    var i = 0,\n",
       "        root;\n",
       "\n",
       "    var tree = d3.layout.tree()\n",
       "        .size([width, height]);\n",
       "\n",
       "    var diagonal = d3.svg.diagonal();\n",
       "        //.projection(function(d) { return [d.y, d.x]; });\n",
       "        // uncomment above to make the tree go horizontally\n",
       "\n",
       "    // see http://stackoverflow.com/questions/16265123/resize-svg-when-window-is-resized-in-d3-js\n",
       "    if (d3.select(\"#\"+div+\"_svg\").empty()) {\n",
       "        $(\".d3twarn\").remove();\n",
       "        d3.select(\"#\"+div).append(\"svg\")\n",
       "            .attr(\"id\", div+\"_svg\")\n",
       "            .attr(\"width\", width + margin.right + margin.left)\n",
       "            .attr(\"height\", height + margin.top + margin.bottom);\n",
       "    }\n",
       "\n",
       "    d3.select(\"#\"+div+\"_svg\").selectAll(\"*\").remove();\n",
       "\n",
       "    var svg = d3.select(\"#\"+div+\"_svg\")\n",
       "        .append(\"g\")\n",
       "            .attr(\"transform\", \"translate(\" + margin.left + \",\" + margin.top + \")\");\n",
       "\n",
       "    // console.log(\"tree data:\");\n",
       "    // console.log(treeData[rootID]);\n",
       "    root = createDisplayNode(rootID, initExpand);\n",
       "    root.x0 = width / 2;\n",
       "    root.y0 = 0;\n",
       "\n",
       "    update(root, initDuration);\n",
       "    console.log(\"tree should appear\");\n",
       "\n",
       "    function createDisplayNode(id, expandLevel) {\n",
       "      var dnode = {\"dataID\":id,\n",
       "                   \"children\": null,\n",
       "                   \"_children\":null};\n",
       "      if (expandLevel > 0) {\n",
       "        initializeChildren(dnode, expandLevel);\n",
       "      }\n",
       "      return dnode;\n",
       "    }\n",
       "\n",
       "    function initializeChildren(d, expandLevel) {\n",
       "      // create children\n",
       "      var children = treeData.children[d.dataID];\n",
       "      d.children = [];\n",
       "      if (children) {\n",
       "        for (var i = 0; i < children.length; i++) {\n",
       "          var cid = children[i]-1;\n",
       "          d.children.push(createDisplayNode(cid, expandLevel-1));\n",
       "        }\n",
       "      }\n",
       "    }\n",
       "\n",
       "    /**\n",
       "     * Recursively called to update each node in the tree.\n",
       "     * \n",
       "     * source is a d3 node that has position, etc.\n",
       "    */\n",
       "    function update(source, duration) {\n",
       "\n",
       "      width = $(\"#\"+div).width() - margin.right - margin.left,\n",
       "      height = $(\"#\"+div).height() - margin.top - margin.bottom;\n",
       "\n",
       "      tree.size([width,height]);\n",
       "      d3.select(\"#\"+div).attr(\"width\", width + margin.right + margin.left)\n",
       "            .attr(\"height\", height + margin.top + margin.bottom);\n",
       "      d3.select(\"#\"+div+\"_svg\").attr(\"width\", width + margin.right + margin.left)\n",
       "             .attr(\"height\", height + margin.top + margin.bottom);\n",
       "\n",
       "\n",
       "      // Compute the new tree layout.\n",
       "      var nodes = tree.nodes(root).reverse(),\n",
       "          links = tree.links(nodes);\n",
       "\n",
       "\n",
       "      // Update the nodes…\n",
       "      var node = svg.selectAll(\"g.node\")\n",
       "          .data(nodes, function(d) { return d.id || (d.id = ++i); });\n",
       "\n",
       "      // Enter any new nodes at the parent's previous position.\n",
       "      var nodeEnter = node.enter().append(\"g\")\n",
       "          .attr(\"class\", \"node\")\n",
       "          .attr(\"transform\", function(d) { return \"translate(\" + source.x0 + \",\" + source.y0 + \")\"; })\n",
       "          .on(\"click\", click)\n",
       "\n",
       "      nodeEnter.append(\"circle\")\n",
       "          .attr(\"r\", \"10px\")\n",
       "          .attr(\"style\", function(d) { return treeData.style[d.dataID]; } )\n",
       "\n",
       "      var tbox = nodeEnter.append(\"text\")\n",
       "          .attr(\"y\", 25)\n",
       "          .attr(\"text-anchor\", \"middle\")\n",
       "          //.text( function(d) { return treeData.text[d.dataID]; } )\n",
       "          .style(\"fill-opacity\", 1e-6);\n",
       "\n",
       "      tbox.each( function(d) {\n",
       "          var el = d3.select(this)\n",
       "          var text = treeData.text[d.dataID];\n",
       "          var lines = text.split('\\n');\n",
       "          for (var i = 0; i < lines.length; i++) {\n",
       "              var tspan = el.append(\"tspan\").text(lines[i]);\n",
       "              if (i > 0) {\n",
       "                  tspan.attr(\"x\", 0).attr(\"dy\", \"1.2em\");\n",
       "              }\n",
       "          }\n",
       "      });\n",
       "\n",
       "      //tooltip\n",
       "      nodeEnter.append(\"title\").text( function(d) { return treeData.tooltip[d.dataID];} );\n",
       "\n",
       "      // Transition nodes to their new position.\n",
       "      var nodeUpdate = node.transition()\n",
       "          .duration(duration)\n",
       "          .attr(\"transform\", function(d) { return \"translate(\" + d.x + \",\" + d.y + \")\"; });\n",
       "\n",
       "      nodeUpdate.select(\"text\")\n",
       "          .style(\"fill-opacity\", 1);\n",
       "\n",
       "      // Transition exiting nodes to the parent's new position.\n",
       "      var nodeExit = node.exit().transition()\n",
       "          .duration(duration)\n",
       "          .attr(\"transform\", function(d) { return \"translate(\" + source.x + \",\" + source.y + \")\"; })\n",
       "          .remove();\n",
       "\n",
       "      nodeExit.select(\"text\")\n",
       "          .style(\"fill-opacity\", 1e-6);\n",
       "\n",
       "      // Update the links…\n",
       "      var link = svg.selectAll(\"path.link\")\n",
       "          .data(links, function(d) { return d.target.id; });\n",
       "\n",
       "      // Enter any new links at the parent's previous position.\n",
       "      // XXX link width should be based on transition data, not node data\n",
       "      link.enter().insert(\"path\", \"g\")\n",
       "          .attr(\"class\", \"link\")\n",
       "          .attr(\"style\", function(d) {\n",
       "              var ls = treeData.link_style[d.target.dataID];\n",
       "              return ls;\n",
       "          } )\n",
       "          .attr(\"d\", function(d) {\n",
       "            var o = {x: source.x0, y: source.y0};\n",
       "            return diagonal({source: o, target: o});\n",
       "          });\n",
       "\n",
       "      // Transition links to their new position.\n",
       "      link.transition()\n",
       "          .duration(duration)\n",
       "          .attr(\"d\", diagonal);\n",
       "\n",
       "      // Transition exiting nodes to the parent's new position.\n",
       "      link.exit().transition()\n",
       "          .duration(duration)\n",
       "          .attr(\"d\", function(d) {\n",
       "            var o = {x: source.x, y: source.y};\n",
       "            return diagonal({source: o, target: o});\n",
       "          })\n",
       "          .remove();\n",
       "\n",
       "      // Stash the old positions for transition.\n",
       "      nodes.forEach(function(d) {\n",
       "        d.x0 = d.x;\n",
       "        d.y0 = d.y;\n",
       "      });\n",
       "    }\n",
       "\n",
       "    // Toggle children on click.\n",
       "    function click(d) {\n",
       "      if (d.children) {\n",
       "        d._children = d.children;\n",
       "        d.children = null;\n",
       "      } else if (d._children) {\n",
       "        d.children = d._children;\n",
       "        d._children = null;\n",
       "      } else {\n",
       "        initializeChildren(d, 1);\n",
       "      }\n",
       "      update(d, 750);\n",
       "    }\n",
       "\n",
       "}\n",
       "\n",
       "        })();\n",
       "    </script>\n",
       "    <p class=\"d3twarn\">\n",
       "    Attempting to display the tree. If the tree is large, this may take some time.\n",
       "    </p>\n",
       "    <p class=\"d3twarn\">\n",
       "    Note: D3Trees.jl requires an internet connection. If no tree appears, please check your connection. To help fix this, please see <a href=\"https://github.com/sisl/D3Trees.jl/issues/10\">this issue</a>. You may also diagnose errors with the javascript console (Ctrl-Shift-J in chrome).\n",
       "    </p>\n",
       "    </div>\n",
       "    </body>\n",
       "    </html>\n",
       "\n"
      ],
      "text/plain": [
       "GridWorldState(4, 1, false)\n",
       "N:   1780\n",
       "\n",
       "├──                       up\n",
       "│  Q:  -0.83\n",
       "│  N:     76\n",
       "\n",
       "│  ├──GridWorldState(3, 1, false)\n",
       "│  │  N:    532\n",
       "\n",
       "│  │  ├──                       up\n",
       "│  │  │  Q:  -0.80\n",
       "│  │  │  N:     72\n",
       " (3 children)\n",
       "│  │  ├──                     down\n",
       "│  │  │  Q:   0.00\n",
       "│  │  │  N:    118\n",
       " (1 children)\n",
       "│  │  ├──                     left\n",
       "│  │  │  Q:   0.02\n",
       "│  │  │  N:    121\n",
       " (3 children)\n",
       "│  │  └──                    right\n",
       "│  │     Q:   0.70\n",
       "│  │     N:    221\n",
       " (3 children)\n",
       "│  ├──GridWorldState(5, 1, false)\n",
       "│  │  N:   1465\n",
       "\n",
       "│  │  ├──                       up\n",
       "│  │  │  Q:   2.04\n",
       "│  │  │  N:    365\n",
       " (3 children)\n",
       "│  │  ├──                     down\n",
       "│  │  │  Q:   0.00\n",
       "│  │  │  N:     66\n",
       " (1 children)\n",
       "│  │  ├──                     left\n",
       "│  │  │  Q:   0.80\n",
       "│  │  │  N:    107\n",
       " (3 children)\n",
       "│  │  └──                    right\n",
       "│  │     Q:   2.75\n",
       "│  │     N:    927\n",
       " (3 children)\n",
       "│  └──GridWorldState(4, 2, false)\n",
       "│     N:    404\n",
       "\n",
       "│     ├──                       up\n",
       "│     │  Q:  -7.26\n",
       "│     │  N:      8\n",
       " (3 children)\n",
       "│     ├──                     down\n",
       "│     │  Q:   0.45\n",
       "│     │  N:    271\n",
       " (4 children)\n",
       "│     ├──                     left\n",
       "│     │  Q:  -1.50\n",
       "│     │  N:     55\n",
       " (4 children)\n",
       "│     └──                    right\n",
       "│        Q:  -1.18\n",
       "│        N:     70\n",
       " (4 children)\n",
       "├──                     down\n",
       "│  Q:   0.00\n",
       "│  N:    140\n",
       "\n",
       "│  └──GridWorldState(4, 1, false)\n",
       "│     N:   1780\n",
       "\n",
       "│     ├──                       up\n",
       "│     │  Q:  -0.83\n",
       "│     │  N:     76\n",
       " (3 children)\n",
       "│     ├──                     down\n",
       "│     │  Q:   0.00\n",
       "│     │  N:    140\n",
       " (1 children)\n",
       "│     ├──                     left\n",
       "│     │  Q:  -0.12\n",
       "│     │  N:    128\n",
       " (3 children)\n",
       "│     └──                    right\n",
       "│        Q:   1.82\n",
       "│        N:   1436\n",
       " (3 children)\n",
       "├──                     left\n",
       "│  Q:  -0.12\n",
       "│  N:    128\n",
       "\n",
       "│  ├──GridWorldState(3, 1, false)\n",
       "│  │  N:    532\n",
       "\n",
       "│  │  ├──                       up\n",
       "│  │  │  Q:  -0.80\n",
       "│  │  │  N:     72\n",
       " (3 children)\n",
       "│  │  ├──                     down\n",
       "│  │  │  Q:   0.00\n",
       "│  │  │  N:    118\n",
       " (1 children)\n",
       "│  │  ├──                     left\n",
       "│  │  │  Q:   0.02\n",
       "│  │  │  N:    121\n",
       " (3 children)\n",
       "│  │  └──                    right\n",
       "│  │     Q:   0.70\n",
       "│  │     N:    221\n",
       " (3 children)\n",
       "│  ├──GridWorldState(5, 1, false)\n",
       "│  │  N:   1465\n",
       "\n",
       "│  │  ├──                       up\n",
       "│  │  │  Q:   2.04\n",
       "│  │  │  N:    365\n",
       " (3 children)\n",
       "│  │  ├──                     down\n",
       "│  │  │  Q:   0.00\n",
       "│  │  │  N:     66\n",
       " (1 children)\n",
       "│  │  ├──                     left\n",
       "│  │  │  Q:   0.80\n",
       "│  │  │  N:    107\n",
       " (3 children)\n",
       "│  │  └──                    right\n",
       "│  │     Q:   2.75\n",
       "│  │     N:    927\n",
       " (3 children)\n",
       "│  └──GridWorldState(4, 2, false)\n",
       "│     N:    404\n",
       "\n",
       "│     ├──                       up\n",
       "│     │  Q:  -7.26\n",
       "│     │  N:      8\n",
       " (3 children)\n",
       "│     ├──                     down\n",
       "│     │  Q:   0.45\n",
       "│     │  N:    271\n",
       " (4 children)\n",
       "│     ├──                     left\n",
       "│     │  Q:  -1.50\n",
       "│     │  N:     55\n",
       " (4 children)\n",
       "│     └──                    right\n",
       "│        Q:  -1.18\n",
       "│        N:     70\n",
       " (4 children)\n",
       "└──                    right\n",
       "   Q:   1.82\n",
       "   N:   1436\n",
       "\n",
       "   ├──GridWorldState(3, 1, false)\n",
       "   │  N:    532\n",
       "\n",
       "   │  ├──                       up\n",
       "   │  │  Q:  -0.80\n",
       "   │  │  N:     72\n",
       " (3 children)\n",
       "   │  ├──                     down\n",
       "   │  │  Q:   0.00\n",
       "   │  │  N:    118\n",
       " (1 children)\n",
       "   │  ├──                     left\n",
       "   │  │  Q:   0.02\n",
       "   │  │  N:    121\n",
       " (3 children)\n",
       "   │  └──                    right\n",
       "   │     Q:   0.70\n",
       "   │     N:    221\n",
       " (3 children)\n",
       "   ├──GridWorldState(5, 1, false)\n",
       "   │  N:   1465\n",
       "\n",
       "   │  ├──                       up\n",
       "   │  │  Q:   2.04\n",
       "   │  │  N:    365\n",
       " (3 children)\n",
       "   │  ├──                     down\n",
       "   │  │  Q:   0.00\n",
       "   │  │  N:     66\n",
       " (1 children)\n",
       "   │  ├──                     left\n",
       "   │  │  Q:   0.80\n",
       "   │  │  N:    107\n",
       " (3 children)\n",
       "   │  └──                    right\n",
       "   │     Q:   2.75\n",
       "   │     N:    927\n",
       " (3 children)\n",
       "   └──GridWorldState(4, 2, false)\n",
       "      N:    404\n",
       "\n",
       "      ├──                       up\n",
       "      │  Q:  -7.26\n",
       "      │  N:      8\n",
       " (3 children)\n",
       "      ├──                     down\n",
       "      │  Q:   0.45\n",
       "      │  N:    271\n",
       " (4 children)\n",
       "      ├──                     left\n",
       "      │  Q:  -1.50\n",
       "      │  N:     55\n",
       " (4 children)\n",
       "      └──                    right\n",
       "         Q:  -1.18\n",
       "         N:     70\n",
       " (4 children)\n"
      ]
     },
     "execution_count": 30,
     "metadata": {},
     "output_type": "execute_result"
    }
   ],
   "source": [
    "using D3Trees\n",
    "\n",
    "# first, run the planner on the state\n",
    "s = state_hist(hist)[1]\n",
    "a = action(planner, s)\n",
    "\n",
    "# show the tree (click the node to expand)\n",
    "D3Tree(planner, s)"
   ]
  },
  {
   "cell_type": "code",
   "execution_count": null,
   "metadata": {
    "collapsed": true
   },
   "outputs": [],
   "source": []
  }
 ],
 "metadata": {
  "anaconda-cloud": {},
  "kernelspec": {
   "display_name": "Julia 0.6.2",
   "language": "julia",
   "name": "julia-0.6"
  },
  "language_info": {
   "file_extension": ".jl",
   "mimetype": "application/julia",
   "name": "julia",
   "version": "0.6.2"
  }
 },
 "nbformat": 4,
 "nbformat_minor": 1
}
