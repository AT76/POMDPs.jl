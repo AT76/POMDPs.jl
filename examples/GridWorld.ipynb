{
 "cells": [
  {
   "cell_type": "markdown",
   "metadata": {
    "slideshow": {
     "slide_type": "slide"
    }
   },
   "source": [
    "# Grid World Tutorial: POMDPs.jl for Complete Beginners"
   ]
  },
  {
   "cell_type": "markdown",
   "metadata": {
    "slideshow": {
     "slide_type": "slide"
    }
   },
   "source": [
    "In this tutorial, we try to provide a simple example of how to define a Markov decision process (MDP) problem using the [POMDPs.jl](https://github.com/sisl/POMDPs.jl) interface. After defining the problem in this way, you will be able to use the solvers that the interface supports. In this tutorial, we will show you how to use the value iteration and the Monte Carlo Tree Search solvers that the POMDPs.jl interface supports. We assume that you have some knowledge of basic programming, but are not necessarily familiar with all the features that exist in Julia. We try to cover the many language specific features used in POMDPs.jl in this tutorial. We do assume that you know the grid world problem, and are familiar with the formal defintion of the MDP.  Let's get started!"
   ]
  },
  {
   "cell_type": "markdown",
   "metadata": {},
   "source": [
    "## Dependencies\n",
    "You need to install a few modules in order to use this notebook. If you have all the modules below installed, great! If not run the following commands:\n",
    "```julia\n",
    "# install the POMDPs.jl interface\n",
    "Pkg.clone(\"https://github.com/JuliaPOMDP/POMDPs.jl.git\")\n",
    "\n",
    "using POMDPs # we'll use the POMDPs.add function to install packages that are part of JuliaPOMDP\n",
    "\n",
    "# install the Value Iteration solver\n",
    "POMDPs.add(\"DiscreteValueIteration\")\n",
    "\n",
    "# install the MCTS solver\n",
    "POMDPs.add(\"MCTS\")\n",
    "\n",
    "# install support tools we'll use for simulation\n",
    "POMDPs.add(\"POMDPToolbox\")\n",
    "```"
   ]
  },
  {
   "cell_type": "code",
   "execution_count": 1,
   "metadata": {
    "collapsed": false,
    "slideshow": {
     "slide_type": "slide"
    }
   },
   "outputs": [],
   "source": [
    "# first import the POMDPs.jl interface\n",
    "using POMDPs\n",
    "\n",
    "# import our helper Distributions.jl module\n",
    "using Distributions\n",
    "\n",
    "# POMDPToolbox has some glue code to help us use Distributions.jl\n",
    "using POMDPToolbox"
   ]
  },
  {
   "cell_type": "markdown",
   "metadata": {},
   "source": [
    "## Problem Overview\n",
    "In Grid World, we are trying to control an agent who has trouble moving in the desired direction. In our problem, we have a four reward states on a $10\\times 10$ grid. Each position on the grid represents a state, and the positive reward states are terminal (the agent stops recieveing reward after reaching them). The agent has four actions to choose from: up, down, left, right. The agent moves in the desired direction with a probability of 0.7, and with a probability of 0.1 in each of the remaining three directions. The problem has the following form:\n",
    "![example](http://artint.info/figures/ch09/gridworldc.gif)"
   ]
  },
  {
   "cell_type": "markdown",
   "metadata": {},
   "source": [
    "## MDP Type\n",
    "An MDP must contain a state space and an action space. In POMDPs.jl, we define an MDP type by parametarizing it (to read more about parametric types look [here](http://docs.julialang.org/en/release-0.4/manual/types/#man-parametric-types)) with states and actions both of which are their own types. For example, if our states and actions are both represented by integers we can define our MDP type in the following way:\n",
    "```julia\n",
    "type MyMDP <: MDP{Int64, Int64} # MDP{StateType, ActionType}\n",
    "\n",
    "end\n",
    "```\n",
    "The MyMDP type is inheriting from an abstract MDP type define in POMDPs.jl. If you are interested in in learning more about the type system and inheritance in Jullia check out [this](http://chrisvoncsefalvay.com/2015/02/04/types-and-inheritance-in-julia/) blog post. Let's first define our states and actions, and then we'll go through defining our Grid World MDP type. "
   ]
  },
  {
   "cell_type": "markdown",
   "metadata": {
    "slideshow": {
     "slide_type": "slide"
    }
   },
   "source": [
    "## States\n",
    "The data container below represents the state of the agent in the grid world."
   ]
  },
  {
   "cell_type": "code",
   "execution_count": 2,
   "metadata": {
    "collapsed": false
   },
   "outputs": [],
   "source": [
    "type GridWorldState \n",
    "    x::Int64 # x position\n",
    "    y::Int64 # y position\n",
    "    bumped::Bool # did we bump the wall?\n",
    "    done::Bool # are we in a terminal state?\n",
    "end"
   ]
  },
  {
   "cell_type": "markdown",
   "metadata": {},
   "source": [
    "Below are some convenience functions for working with the GridWorldState. "
   ]
  },
  {
   "cell_type": "code",
   "execution_count": 3,
   "metadata": {
    "collapsed": false
   },
   "outputs": [],
   "source": [
    "# initial state constructor\n",
    "GridWorldState(x::Int64, y::Int64) = GridWorldState(x,y,false,false)\n",
    "GridWorldState(x::Int64, y::Int64, bumped::Bool) = GridWorldState(x,y,bumped,false)\n",
    "# checks if the position of two states are the same\n",
    "posequal(s1::GridWorldState, s2::GridWorldState) = s1.x == s2.x && s1.y == s2.y\n",
    "# copies state s2 to s2\n",
    "function Base.copy!(s1::GridWorldState, s2::GridWorldState) \n",
    "    s1.x = s2.x\n",
    "    s1.y = s2.y\n",
    "    s1.bumped = s2.bumped\n",
    "    s1.done = s2.done\n",
    "    s1\n",
    "end\n",
    "# if you want to use Monte Carlo Tree Search, you will need to define the functions below\n",
    "Base.hash(s::GridWorldState, h::UInt64 = zero(UInt64)) = hash(s.x, hash(s.y, hash(s.bumped, hash(s.done, h))))\n",
    "Base.:(==)(s1::GridWorldState,s2::GridWorldState) = s1.x == s2.x && s1.y == s2.y && s1.bumped == s2.bumped && s1.done == s2.done;"
   ]
  },
  {
   "cell_type": "markdown",
   "metadata": {},
   "source": [
    "## Actions\n",
    "Since our action is simply the direction the agent chooses to go (i.e. up, down, left, right), we can use a Symbol to represent it. Symbols are special types in Julia that allow for nice represntation of complex data. However, in our case a string could serve the same purpose as the symbol or even and integer, so feel free to use what you're most comfortable with. Note that in this case, we will not define a type for our action, instead we represent it directly with a symbol. So that our action looks like:\n",
    "```julia\n",
    "action = :up # can also be :down, :left, :right\n",
    "```"
   ]
  },
  {
   "cell_type": "markdown",
   "metadata": {},
   "source": [
    "## MDP\n",
    "The GridWorld data container is defined below. It holds all the information we need to define the MDP tuple $$(\\mathcal{S}, \\mathcal{A}, T, R).$$"
   ]
  },
  {
   "cell_type": "code",
   "execution_count": 4,
   "metadata": {
    "collapsed": false
   },
   "outputs": [],
   "source": [
    "# the grid world mdp type\n",
    "type GridWorld <: MDP{GridWorldState, Symbol} # Note that our MDP is parametarized by the state and the action\n",
    "    size_x::Int64 # x size of the grid\n",
    "    size_y::Int64 # y size of the grid\n",
    "    reward_states::Vector{GridWorldState} # the states in which agent recieves reward\n",
    "    reward_values::Vector{Float64} # reward values for those states\n",
    "    bounds_penalty::Float64 # penalty for bumping the wall\n",
    "    tprob::Float64 # probability of transitioning to the desired state\n",
    "    discount_factor::Float64 # disocunt factor\n",
    "end"
   ]
  },
  {
   "cell_type": "markdown",
   "metadata": {},
   "source": [
    "Before moving on, I want to create a constructor for GridWorld for convenience. Currently, if I want to create an instance of GridWorld, I have to pass in all of fields inside the GridWorld container (size_x, size_y, etc). The function below will return a GridWorld type with all the fields filled with some default values."
   ]
  },
  {
   "cell_type": "code",
   "execution_count": 5,
   "metadata": {
    "collapsed": false
   },
   "outputs": [
    {
     "data": {
      "text/plain": [
       "4-element Array{GridWorldState,1}:\n",
       " GridWorldState(4,3,false,false)\n",
       " GridWorldState(4,6,false,false)\n",
       " GridWorldState(9,3,false,false)\n",
       " GridWorldState(8,8,false,false)"
      ]
     },
     "execution_count": 5,
     "metadata": {},
     "output_type": "execute_result"
    }
   ],
   "source": [
    "# we use key worded arguments so we can change any of the values we pass in \n",
    "function GridWorld(;sx::Int64=10, # size_x\n",
    "                    sy::Int64=10, # size_y\n",
    "                    rs::Vector{GridWorldState}=[GridWorldState(4,3), GridWorldState(4,6), GridWorldState(9,3), GridWorldState(8,8)], # reward states\n",
    "                    rv::Vector{Float64}=rv = [-10.,-5,10,3], # reward values\n",
    "                    penalty::Float64=-1.0, # bounds penalty\n",
    "                    tp::Float64=0.7, # tprob\n",
    "                    discount_factor::Float64=0.9)\n",
    "    return GridWorld(sx, sy, rs, rv, penalty, tp, discount_factor)\n",
    "end\n",
    "\n",
    "# we can now create a GridWorld mdp instance like this:\n",
    "mdp = GridWorld()\n",
    "mdp.reward_states # mdp contains all the defualt values from the constructor"
   ]
  },
  {
   "cell_type": "markdown",
   "metadata": {},
   "source": [
    "## Spaces\n",
    "Let's look at how we can define the state and action spaces for our problem."
   ]
  },
  {
   "cell_type": "markdown",
   "metadata": {},
   "source": [
    "### State Space\n",
    "The state space in an MDP represents all the states in the problem. There are two primary functionalities that we want our spaces to support. We want to be able to iterate over the state space (for Value Iteration for example), and sometimes we want to be able to sample form the state space (used in some POMDP solvers). In this notebook, we will only look at iterable state spaces. "
   ]
  },
  {
   "cell_type": "markdown",
   "metadata": {},
   "source": [
    "Since we can iterate over elements of an array, and our problem is small, we can store all of our states in an array. If your problem is very large (tens of millions of states), it might be worthwhile to create a custom type to define the problem's state space. See [this](http://stackoverflow.com/questions/25028539/how-to-implement-an-iterator-in-julia) post on stackoverflow on making simple iterators. "
   ]
  },
  {
   "cell_type": "code",
   "execution_count": 6,
   "metadata": {
    "collapsed": false
   },
   "outputs": [],
   "source": [
    "function POMDPs.states(mdp::GridWorld)\n",
    "    s = GridWorldState[] # initialize an array of GridWorldStates\n",
    "    # loop over all our states, remeber there are two binary variables:\n",
    "    # done (d) and bumped(b)\n",
    "    for d = 0:1, b = 0:1, y = 1:mdp.size_y, x = 1:mdp.size_x\n",
    "        push!(s, GridWorldState(x,y,b,d))\n",
    "    end\n",
    "    return s\n",
    "end;"
   ]
  },
  {
   "cell_type": "markdown",
   "metadata": {},
   "source": [
    "Here, the code: ```function POMDPs.states(mdp::GridWorld)``` means that we want to take the function called ```states(...)``` from the POMDPs.jl module and add another method to it. The ```states(...)``` function in POMDPs.jl doesn't know about our GridWorld type. However, now when ```states(...)``` is called with GridWorld it will dispatch the function we defined above! This is the awesome thing about multiple-dispatch, and one of the features that should make working with MDP/POMDPs easier in Julia. \n",
    "\n",
    "The solvers that suppor the POMDPs.jl interface know that a function called ```states(...)``` exists in the interface. However, they do not know the behavior of that function for GridWorld. That means in order for the solvers to use this behavior all we have to do is pass an instance of our GridWorld type into the solver. When ```states(...)``` is called in the solver with the GridWorld type, the function above will be called.   "
   ]
  },
  {
   "cell_type": "code",
   "execution_count": 7,
   "metadata": {
    "collapsed": false
   },
   "outputs": [
    {
     "data": {
      "text/plain": [
       "GridWorldState(1,1,false,false)"
      ]
     },
     "execution_count": 7,
     "metadata": {},
     "output_type": "execute_result"
    }
   ],
   "source": [
    "# let's use the constructor for GridWorld we defined earlier\n",
    "mdp = GridWorld()\n",
    "state_space = states(mdp);\n",
    "state_space[1]"
   ]
  },
  {
   "cell_type": "markdown",
   "metadata": {},
   "source": [
    "In Julia, a method may only work on a specific type. It is up to the program writer to specify what type a given function will work on. This might seem tedious at first, but the Julia type system adds a lot of flexibility to large software frameworks, and allows us to easily extend functionality of any type. \n",
    "\n",
    "So what happens if we pass something else to ```states(...)```? "
   ]
  },
  {
   "cell_type": "code",
   "execution_count": 8,
   "metadata": {
    "collapsed": false
   },
   "outputs": [
    {
     "ename": "LoadError",
     "evalue": "MethodError: no method matching states(::TestMDP)\u001b[0m\nClosest candidates are:\n  states{S,A}(::Union{POMDPs.MDP{S,A},POMDPs.POMDP{S,A,O}}, \u001b[1m\u001b[31m::S\u001b[0m) at /home/zach/.julia/v0.5/POMDPs/src/space.jl:26\n  states(\u001b[1m\u001b[31m::GridWorld\u001b[0m) at In[6]:2\n  states(\u001b[1m\u001b[31m::POMDPs.MDP{Bool,A}\u001b[0m) at /home/zach/.julia/v0.5/POMDPToolbox/src/convenience/implementations.jl:20\n  ...\u001b[0m",
     "output_type": "error",
     "traceback": [
      "MethodError: no method matching states(::TestMDP)\u001b[0m\nClosest candidates are:\n  states{S,A}(::Union{POMDPs.MDP{S,A},POMDPs.POMDP{S,A,O}}, \u001b[1m\u001b[31m::S\u001b[0m) at /home/zach/.julia/v0.5/POMDPs/src/space.jl:26\n  states(\u001b[1m\u001b[31m::GridWorld\u001b[0m) at In[6]:2\n  states(\u001b[1m\u001b[31m::POMDPs.MDP{Bool,A}\u001b[0m) at /home/zach/.julia/v0.5/POMDPToolbox/src/convenience/implementations.jl:20\n  ...\u001b[0m",
      ""
     ]
    }
   ],
   "source": [
    "type TestMDP <: MDP{Int64, Int64}\n",
    "    x::Int64\n",
    "end\n",
    "tmdp = TestMDP(1)\n",
    "states(tmdp)"
   ]
  },
  {
   "cell_type": "markdown",
   "metadata": {},
   "source": [
    "The interface in POMDPs.jl defines the function names (API) that the supported MDP/POMDP solvers are allowed to call. In Julia, the functions do not belong to a specific type, but  are dispatched based on the type passed in (i.e. functions are generic). Once we define the ```states(mdp::TestMDP)``` function, the solvers will be able to call it. If you forget to define a function that a solver requires, an error like the one above will be thrown. "
   ]
  },
  {
   "cell_type": "markdown",
   "metadata": {
    "collapsed": true
   },
   "source": [
    "In value iteration, for example, the solver will iterrate over your state space by doing the following:"
   ]
  },
  {
   "cell_type": "code",
   "execution_count": 9,
   "metadata": {
    "collapsed": false
   },
   "outputs": [],
   "source": [
    "mdp = GridWorld()\n",
    "state_space = states(mdp);\n",
    "for s in iterator(state_space)\n",
    "    # value iteration applies the bellman operator to your state s\n",
    "end"
   ]
  },
  {
   "cell_type": "markdown",
   "metadata": {},
   "source": [
    "Note that, since we used a vector for the state space, the `rand(::AbstractRNG, ::AbstractVector)` method is already defined and we can use it to sample from the space."
   ]
  },
  {
   "cell_type": "code",
   "execution_count": 10,
   "metadata": {
    "collapsed": false
   },
   "outputs": [
    {
     "data": {
      "text/plain": [
       "GridWorldState(10,10,false,false)"
      ]
     },
     "execution_count": 10,
     "metadata": {},
     "output_type": "execute_result"
    }
   ],
   "source": [
    "rand(Base.GLOBAL_RNG, state_space)"
   ]
  },
  {
   "cell_type": "markdown",
   "metadata": {},
   "source": [
    "### Action Space"
   ]
  },
  {
   "cell_type": "markdown",
   "metadata": {},
   "source": [
    "The action space is the set of all actions availiable to the agent. In the grid world problem the action space consists of up, down, left, and right. We can define the action space by implementing a new method of the `actions` function."
   ]
  },
  {
   "cell_type": "code",
   "execution_count": 11,
   "metadata": {
    "collapsed": false
   },
   "outputs": [],
   "source": [
    "POMDPs.actions(mdp::GridWorld) = [:up, :down, :left, :right];"
   ]
  },
  {
   "cell_type": "markdown",
   "metadata": {},
   "source": [
    "Now that we've defined our state and action spaces, we are half-way thorugh our MDP tuple:\n",
    "$$\n",
    "(\\mathcal{S}, \\mathcal{A}, T, R)\n",
    "$$"
   ]
  },
  {
   "cell_type": "markdown",
   "metadata": {},
   "source": [
    "## Distributions"
   ]
  },
  {
   "cell_type": "markdown",
   "metadata": {},
   "source": [
    "Since MDPs are probabilistic models, we have to deal with probability distributions. In this section, we outline how to define probability distriubtions, and what tools are availiable to help you with the task."
   ]
  },
  {
   "cell_type": "markdown",
   "metadata": {},
   "source": [
    "### Transition Distribution "
   ]
  },
  {
   "cell_type": "markdown",
   "metadata": {},
   "source": [
    "If you are familiar with MDPs, you know that the transition function $T(s' \\mid s, a)$ captures the dynamics of the system. Specifically, $T(s' \\mid s, a)$ is a real value that defines the probabiltiy of transitioning to state $s'$ given that you took action $a$ in state $s$. The transition distirubtion $T(\\cdot \\mid s, a)$ is a slightly different construct. This is the actual distribution over the states that our agent can reach given that its in state $s$ and took action $a$. In other words this is the distribution over $s'$. "
   ]
  },
  {
   "cell_type": "markdown",
   "metadata": {},
   "source": [
    "There are many ways to implement transition distributions for your problem. Your choice of distribution as well as how you implement it will heavily depend on your problem. [Distributions.jl](https://github.com/JuliaStats/Distributions.jl) provides support for many common univariate and multivarite distributions. Below is how we implement the one for grid world. "
   ]
  },
  {
   "cell_type": "code",
   "execution_count": 12,
   "metadata": {
    "collapsed": false
   },
   "outputs": [],
   "source": [
    "type GridWorldDistribution\n",
    "    neighbors::Array{GridWorldState} # the states s' in the distribution\n",
    "    probs::Array{Float64} # the probability corresponding to each state s'\n",
    "end"
   ]
  },
  {
   "cell_type": "code",
   "execution_count": 13,
   "metadata": {
    "collapsed": false
   },
   "outputs": [],
   "source": [
    "function create_transition_distribution(mdp::GridWorld)\n",
    "    # can have at most five neighbors in grid world\n",
    "    neighbors =  [GridWorldState(i,i) for i = 1:5]\n",
    "    probabilities = zeros(5) + 1.0/5.0\n",
    "    return GridWorldDistribution(neighbors, probabilities)\n",
    "end;"
   ]
  },
  {
   "cell_type": "markdown",
   "metadata": {},
   "source": [
    "Notice that there are a maximum of five neighboring states $s'$ that can be reached from a given state action pair. There is a neighboring grid space in each direction around us (4 in total), and the grid space we are currently in for a total of five."
   ]
  },
  {
   "cell_type": "markdown",
   "metadata": {},
   "source": [
    "The next function we want is ```iterator(...)```. For discrete state distributions, domain returns an iterator over the states in that distributions (this is just the neighbors array in our distriubtion type). The function takes on the following form:"
   ]
  },
  {
   "cell_type": "code",
   "execution_count": 14,
   "metadata": {
    "collapsed": false
   },
   "outputs": [],
   "source": [
    "function POMDPs.iterator(d::GridWorldDistribution)\n",
    "    return d.neighbors\n",
    "end;"
   ]
  },
  {
   "cell_type": "markdown",
   "metadata": {},
   "source": [
    "Let's implement the probability density function (really this is a probability mass function since the distriubtion is discrete, but we overload the pdf function name to serve as both). Below is a fairly inneficient impelemntation of pdf. For the discrete distribution in our problem, the pdf function returns the probability of drawing the state s from the distribution d. "
   ]
  },
  {
   "cell_type": "code",
   "execution_count": 15,
   "metadata": {
    "collapsed": false
   },
   "outputs": [],
   "source": [
    "function POMDPs.pdf(d::GridWorldDistribution, s::GridWorldState)\n",
    "    for (i, sp) in enumerate(d.neighbors)\n",
    "        if s == sp\n",
    "            return d.probs[i]\n",
    "        end\n",
    "    end   \n",
    "    return 0.0\n",
    "end;"
   ]
  },
  {
   "cell_type": "markdown",
   "metadata": {},
   "source": [
    "Finally, we want to implement a sampling function that can draw samples from our distribution. Once again, there are many ways to do this, but we recommend using Distributions.jl. We use POMDPDistributions which mimicks a lot of the behavior of Distributions.jl. "
   ]
  },
  {
   "cell_type": "code",
   "execution_count": 16,
   "metadata": {
    "collapsed": false
   },
   "outputs": [],
   "source": [
    "function POMDPs.rand(rng::AbstractRNG, d::GridWorldDistribution)\n",
    "    ns = d.neighbors[sample(rng, WeightVec(d.probs))] # sample a neighbor state according to the distribution c\n",
    "    return ns\n",
    "end;"
   ]
  },
  {
   "cell_type": "markdown",
   "metadata": {},
   "source": [
    "One thing that might be unfamilliar in this cell is `AbstractRNG`. What in the world is that? This is an abstract type that represents a random number generator. This could be Julia's default random number generator (`Base.GLOBAL_RNG`) or one that functions *independently* of the default RNG. This allows more control of random number seeding for reproducible simulations. Let's take a look at an example."
   ]
  },
  {
   "cell_type": "markdown",
   "metadata": {},
   "source": [
    "Below we initialize a grid world MDP, a transition distribution and a state. We also use the MeresenneTwister type as our AbstractRNG. MeresenneTwister is a Julia type used for pseudo random number generation. "
   ]
  },
  {
   "cell_type": "code",
   "execution_count": 17,
   "metadata": {
    "collapsed": false
   },
   "outputs": [
    {
     "name": "stdout",
     "output_type": "stream",
     "text": [
      "GridWorldState(2,2,false,false)\n",
      "GridWorldState(2,2,false,false)\n",
      "GridWorldState(2,2,false,false)\n",
      "GridWorldState(1,1,false,false)\n",
      "GridWorldState(3,3,false,false)\n"
     ]
    }
   ],
   "source": [
    "mdp = GridWorld()\n",
    "# the function below initializes our distriubtion d to have the states at:\n",
    "# (1,1) (2,2) (3,3) (4,4) (5,5)\n",
    "# we should expect to sample only these states from d\n",
    "d = create_transition_distribution(mdp) \n",
    "rng = MersenneTwister(1) # this is an rng type in Julia\n",
    "\n",
    "for i = 1:5\n",
    "    s = rand(rng, d)\n",
    "    println(s)\n",
    "end"
   ]
  },
  {
   "cell_type": "markdown",
   "metadata": {},
   "source": [
    "Now if we seed the MersenneTwister with the same number again, we will sample the same sequence of staes from the distribution d."
   ]
  },
  {
   "cell_type": "code",
   "execution_count": 18,
   "metadata": {
    "collapsed": false
   },
   "outputs": [
    {
     "name": "stdout",
     "output_type": "stream",
     "text": [
      "GridWorldState(2,2,false,false)\n",
      "GridWorldState(2,2,false,false)\n",
      "GridWorldState(2,2,false,false)\n",
      "GridWorldState(1,1,false,false)\n",
      "GridWorldState(3,3,false,false)\n"
     ]
    }
   ],
   "source": [
    "rng = MersenneTwister(1) \n",
    "\n",
    "for i = 1:5\n",
    "    s = rand(rng, d)\n",
    "    println(s)\n",
    "end"
   ]
  },
  {
   "cell_type": "markdown",
   "metadata": {},
   "source": [
    "If we set the MersenneTwister seed to something else, we will get a different sequence of states. "
   ]
  },
  {
   "cell_type": "code",
   "execution_count": 19,
   "metadata": {
    "collapsed": false
   },
   "outputs": [
    {
     "name": "stdout",
     "output_type": "stream",
     "text": [
      "GridWorldState(2,2,false,false)\n",
      "GridWorldState(3,3,false,false)\n",
      "GridWorldState(2,2,false,false)\n",
      "GridWorldState(5,5,false,false)\n",
      "GridWorldState(3,3,false,false)\n"
     ]
    }
   ],
   "source": [
    "rng = MersenneTwister(2) \n",
    "\n",
    "for i = 1:5\n",
    "    s = rand(rng, d)\n",
    "    println(s)\n",
    "end"
   ]
  },
  {
   "cell_type": "markdown",
   "metadata": {},
   "source": [
    "Using an AbstractRNG is very similar to setting a random seed. This type of functionality is very useful when you are trying to generate the same sequence of states in a Monte Carlo simulation for example."
   ]
  },
  {
   "cell_type": "markdown",
   "metadata": {},
   "source": [
    "To recap, there are three functionalities that we require your distirbutions to support. We want to be able to sample from them using the ```rand(...)``` function, we want to obtain the probability distribution/density using the ```pdf(...)``` function, and we want to be able to iterate through the elements with nonzero probability with `iterator(...)`."
   ]
  },
  {
   "cell_type": "markdown",
   "metadata": {},
   "source": [
    "## Transition Model"
   ]
  },
  {
   "cell_type": "markdown",
   "metadata": {},
   "source": [
    "In this section we will define the system dynamics of the gird world MDP. In POMDPs.jl, we work with transition distirbution functions $T(s' \\mid s, a)$, so we want to write a function that can generate the transition distributions over $s'$ for us given an $(s, a)$ pair. "
   ]
  },
  {
   "cell_type": "markdown",
   "metadata": {},
   "source": [
    "In grid world, the dynamics of the system are fairly simple. We move in the specified direction with some pre-defined probability. This is the tprob parameter in our GridWorld MDP (it is set to 0.7 in the DMU book example).  If we bump against a wall, we recieve a penalty. If we get to state with a positive reward, we've reached a terminal state and can no longer accumulate reward."
   ]
  },
  {
   "cell_type": "markdown",
   "metadata": {},
   "source": [
    "In the transition function we want to fill the neighbors in our distribution d with the reachable states from the state, action pair. We want to fill the probs in our distirbution d with the probabilities of reaching that neighbor. "
   ]
  },
  {
   "cell_type": "code",
   "execution_count": 20,
   "metadata": {
    "collapsed": false
   },
   "outputs": [],
   "source": [
    "# transition helpers\n",
    "function inbounds(mdp::GridWorld,x::Int64,y::Int64)\n",
    "    if 1 <= x <= mdp.size_x && 1 <= y <= mdp.size_y\n",
    "        return true\n",
    "    else\n",
    "        return false\n",
    "    end\n",
    "end\n",
    "\n",
    "function inbounds(mdp::GridWorld,state::GridWorldState)\n",
    "    x = state.x #point x of state\n",
    "    y = state.y\n",
    "    return inbounds(mdp, x, y)\n",
    "end\n",
    "\n",
    "function fill_probability!(p::Vector{Float64}, val::Float64, index::Int64)\n",
    "    for i = 1:length(p)\n",
    "        if i == index\n",
    "            p[i] = val\n",
    "        else\n",
    "            p[i] = 0.0\n",
    "        end\n",
    "    end\n",
    "end;\n"
   ]
  },
  {
   "cell_type": "code",
   "execution_count": 21,
   "metadata": {
    "collapsed": false
   },
   "outputs": [],
   "source": [
    "function POMDPs.transition(mdp::GridWorld, state::GridWorldState, action::Symbol)\n",
    "    a = action\n",
    "    x = state.x\n",
    "    y = state.y \n",
    "\n",
    "    neighbors = [\n",
    "        GridWorldState(x+1, y, false), # right\n",
    "        GridWorldState(x-1, y, false), # left\n",
    "        GridWorldState(x, y-1, false), # down\n",
    "        GridWorldState(x, y+1, false), # up\n",
    "        GridWorldState(x, y, false)    # stay\n",
    "       ]\n",
    "\n",
    "    d = GridWorldDistribution(neighbors, Array(Float64, 5)) \n",
    "    \n",
    "    probability = d.probs\n",
    "    fill!(probability, 0.0)\n",
    "\n",
    "    if state.done\n",
    "        fill_probability!(probability, 1.0, 5)\n",
    "        neighbors[5].done = true\n",
    "        return d\n",
    "    end\n",
    "\n",
    "    for i = 1:5 neighbors[i].done = false end \n",
    "    reward_states = mdp.reward_states\n",
    "    reward_values = mdp.reward_values\n",
    "    n = length(reward_states)\n",
    "    if state in mdp.reward_states\n",
    "        fill_probability!(probability, 1.0, 5)\n",
    "        neighbors[5].done = true\n",
    "        return d\n",
    "    end\n",
    "\n",
    "    # The following match the definition of neighbors\n",
    "    # given above\n",
    "    target_neighbor = 0\n",
    "    if a == :right\n",
    "        target_neighbor = 1\n",
    "    elseif a == :left\n",
    "        target_neighbor = 2\n",
    "    elseif a == :down\n",
    "        target_neighbor = 3\n",
    "    elseif a == :up\n",
    "        target_neighbor = 4\n",
    "    end\n",
    "    # @assert target_neighbor > 0\n",
    "\n",
    "    if !inbounds(mdp, neighbors[target_neighbor])\n",
    "        # If would transition out of bounds, stay in\n",
    "        # same cell with probability 1\n",
    "        fill_probability!(probability, 1.0, 5)\n",
    "    else\n",
    "        probability[target_neighbor] = mdp.tprob\n",
    "\n",
    "        oob_count = 0 # number of out of bounds neighbors\n",
    "        \n",
    "        for i = 1:length(neighbors)\n",
    "             if !inbounds(mdp, neighbors[i])\n",
    "                oob_count += 1\n",
    "                @assert probability[i] == 0.0\n",
    "             end\n",
    "        end\n",
    "\n",
    "        new_probability = (1.0 - mdp.tprob)/(3-oob_count)\n",
    "\n",
    "        for i = 1:4 # do not include neighbor 5\n",
    "            if inbounds(mdp, neighbors[i]) && i != target_neighbor\n",
    "                probability[i] = new_probability\n",
    "            end\n",
    "        end\n",
    "    end\n",
    "\n",
    "    return d\n",
    "end;"
   ]
  },
  {
   "cell_type": "markdown",
   "metadata": {},
   "source": [
    "## Reward Model\n",
    "The reward model $R(s,a,s')$ is a function that returns the reward of being in state $s$, taking an action $a$ from that state, and ending up in state $s'$. In our problem, we are rewarded for reaching a terimanl reward state (this could be positive or negative), and we are penalized for bumping into a wall."
   ]
  },
  {
   "cell_type": "code",
   "execution_count": 22,
   "metadata": {
    "collapsed": false
   },
   "outputs": [],
   "source": [
    "function POMDPs.reward(mdp::GridWorld, state::GridWorldState, action::Symbol, statep::GridWorldState) #deleted action\n",
    "    if state.done\n",
    "        return 0.0\n",
    "    end\n",
    "    r = 0.0\n",
    "    reward_states = mdp.reward_states\n",
    "    reward_values = mdp.reward_values\n",
    "    n = length(reward_states)\n",
    "    for i = 1:n\n",
    "        if posequal(state, reward_states[i])\n",
    "            r += reward_values[i]\n",
    "        end\n",
    "    end\n",
    "    if state.bumped\n",
    "        r += mdp.bounds_penalty\n",
    "    end\n",
    "    return r\n",
    "end;\n"
   ]
  },
  {
   "cell_type": "markdown",
   "metadata": {},
   "source": [
    "## Miscallenous Functions\n",
    "We are almost done! Just a few simple functions left. First let's implement two functions that return the sizes of our state and action spaces."
   ]
  },
  {
   "cell_type": "code",
   "execution_count": 23,
   "metadata": {
    "collapsed": false
   },
   "outputs": [],
   "source": [
    "POMDPs.n_states(mdp::GridWorld) = 4*mdp.size_x*mdp.size_y\n",
    "POMDPs.n_actions(mdp::GridWorld) = 4;"
   ]
  },
  {
   "cell_type": "markdown",
   "metadata": {},
   "source": [
    "Now, we implement the discount function."
   ]
  },
  {
   "cell_type": "code",
   "execution_count": 24,
   "metadata": {
    "collapsed": false
   },
   "outputs": [],
   "source": [
    "POMDPs.discount(mdp::GridWorld) = mdp.discount_factor;"
   ]
  },
  {
   "cell_type": "markdown",
   "metadata": {},
   "source": [
    "The last thing we need is indexing functions. This allows us to index between the discrete utility array and the states and actions in our problem. We will use the ```sub2ind()``` function from Julia base to help us here."
   ]
  },
  {
   "cell_type": "code",
   "execution_count": 25,
   "metadata": {
    "collapsed": false
   },
   "outputs": [],
   "source": [
    "function POMDPs.state_index(mdp::GridWorld, state::GridWorldState)\n",
    "    sb = Int(state.bumped + 1)\n",
    "    sd = Int(state.done + 1)\n",
    "    return sub2ind((mdp.size_x, mdp.size_y, 2, 2), state.x, state.y, sb, sd)\n",
    "end\n",
    "function POMDPs.action_index(mdp::GridWorld, act::Symbol)\n",
    "    if act==:up\n",
    "        return 1\n",
    "    elseif act==:down\n",
    "        return 2\n",
    "    elseif act==:left\n",
    "        return 3\n",
    "    elseif act==:right\n",
    "        return 4\n",
    "    end\n",
    "    error(\"Invalid GridWorld action: $act\")\n",
    "end;"
   ]
  },
  {
   "cell_type": "markdown",
   "metadata": {},
   "source": [
    "Finally let's define a function that checks if a state is terminal."
   ]
  },
  {
   "cell_type": "code",
   "execution_count": 26,
   "metadata": {
    "collapsed": false
   },
   "outputs": [],
   "source": [
    "POMDPs.isterminal(mdp::GridWorld, s::GridWorldState) = s.done"
   ]
  },
  {
   "cell_type": "markdown",
   "metadata": {},
   "source": [
    "# Simulations\n",
    "\n",
    "Now that we have defined the problem, we should simulate it to see it working. The funcion `sim(::MDP)` from `POMDPToolbox` provides a convenient `do` block syntax for exploring the behavior of the mdp. The `do` block receives the state as the argument and should return an action. In this way it acts as a \"hook\" into the simulation and allows quick ad-hoc policies to be defined."
   ]
  },
  {
   "cell_type": "code",
   "execution_count": 27,
   "metadata": {
    "collapsed": false
   },
   "outputs": [
    {
     "name": "stdout",
     "output_type": "stream",
     "text": [
      "state is: GridWorldState(4,1,false,false)\n",
      "moving right\n",
      "state is: GridWorldState(5,1,false,false)\n",
      "moving right\n",
      "state is: GridWorldState(6,1,false,false)\n",
      "moving right\n",
      "state is: GridWorldState(7,1,false,false)\n",
      "moving right\n",
      "state is: GridWorldState(8,1,false,false)\n",
      "moving right\n",
      "state is: GridWorldState(9,1,false,false)\n",
      "moving right\n",
      "state is: GridWorldState(10,1,false,false)\n",
      "moving right\n",
      "state is: GridWorldState(10,1,false,false)\n",
      "moving right\n",
      "state is: GridWorldState(10,1,false,false)\n",
      "moving right\n",
      "state is: GridWorldState(10,1,false,false)\n",
      "moving right\n"
     ]
    }
   ],
   "source": [
    "mdp = GridWorld()\n",
    "mdp.tprob=1.0\n",
    "sim(mdp, GridWorldState(4,1), max_steps=10) do s\n",
    "    println(\"state is: $s\")\n",
    "    a = :right\n",
    "    println(\"moving $a\")\n",
    "    return a\n",
    "end;"
   ]
  },
  {
   "cell_type": "markdown",
   "metadata": {},
   "source": [
    "## Value Iteration Solver"
   ]
  },
  {
   "cell_type": "markdown",
   "metadata": {},
   "source": [
    "Value iteration is a dynamic porgramming apporach for solving MDPs. See the [wikipedia](https://en.wikipedia.org/wiki/Markov_decision_process#Value_iteration) article for a brief explanation. The solver can be found [here](https://github.com/JuliaPOMDP/DiscreteValueIteration.jl). If you haven't isntalled the solver yet, you can run the following from the Julia REPL\n",
    "```julia\n",
    "using POMDPs\n",
    "POMDPs.add(\"DiscreteValueIteration\")\n",
    "```\n",
    "to download the module."
   ]
  },
  {
   "cell_type": "markdown",
   "metadata": {},
   "source": [
    "Each POMDPs.jl solver provides two data types for you to interface with. The first is the Solver type which contains solver parameters. The second is the Policy type. Let's see hwo we can use them to get an optimal action at a given state."
   ]
  },
  {
   "cell_type": "code",
   "execution_count": 28,
   "metadata": {
    "collapsed": false,
    "scrolled": false
   },
   "outputs": [
    {
     "name": "stdout",
     "output_type": "stream",
     "text": [
      "Iteration : 1, residual: 13.5359385595155, iteration run-time: 0.068839337, total run-time: 0.068839337\n",
      "Iteration : 2, residual: 6.2999734279499995, iteration run-time: 0.06464727, total run-time: 0.133486607\n",
      "Iteration : 3, residual: 4.535916776339399, iteration run-time: 0.064842247, total run-time: 0.198328854\n",
      "Iteration : 4, residual: 3.3932543047909687, iteration run-time: 0.065329747, total run-time: 0.263658601\n",
      "Iteration : 5, residual: 2.571299327001349, iteration run-time: 0.078932557, total run-time: 0.342591158\n",
      "Iteration : 6, residual: 1.9200652060312606, iteration run-time: 0.065602144, total run-time: 0.40819330200000004\n",
      "Iteration : 7, residual: 1.3944077772964636, iteration run-time: 0.072909027, total run-time: 0.48110232900000005\n",
      "Iteration : 8, residual: 1.0733013837754315, iteration run-time: 0.072141148, total run-time: 0.5532434770000001\n",
      "Iteration : 9, residual: 0.8612394855324683, iteration run-time: 0.07183643, total run-time: 0.6250799070000002\n",
      "Iteration : 10, residual: 0.6617298799960059, iteration run-time: 0.06501717, total run-time: 0.6900970770000001\n",
      "Iteration : 11, residual: 0.4890198391566638, iteration run-time: 0.071625396, total run-time: 0.7617224730000001\n",
      "Iteration : 12, residual: 0.40524432611098704, iteration run-time: 0.069108493, total run-time: 0.8308309660000001\n",
      "Iteration : 13, residual: 0.3407925086598921, iteration run-time: 0.071954861, total run-time: 0.9027858270000001\n",
      "Iteration : 14, residual: 0.24439341221410416, iteration run-time: 0.067886658, total run-time: 0.9706724850000001\n",
      "Iteration : 15, residual: 0.16597725930419127, iteration run-time: 0.076314954, total run-time: 1.0469874390000002\n",
      "Iteration : 16, residual: 0.10594068263682299, iteration run-time: 0.066390445, total run-time: 1.1133778840000002\n",
      "Iteration : 17, residual: 0.06381799508797092, iteration run-time: 0.069514989, total run-time: 1.1828928730000001\n",
      "Iteration : 18, residual: 0.03694120249471089, iteration run-time: 0.067998157, total run-time: 1.25089103\n",
      "Iteration : 19, residual: 0.020784548267542835, iteration run-time: 0.068923668, total run-time: 1.319814698\n",
      "Iteration : 20, residual: 0.011453236948841594, iteration run-time: 0.065371024, total run-time: 1.3851857220000001\n",
      "Iteration : 21, residual: 0.006213722610454386, iteration run-time: 0.07037953, total run-time: 1.4555652520000002\n",
      "Iteration : 22, residual: 0.0033314062328759775, iteration run-time: 0.064843806, total run-time: 1.5204090580000003\n",
      "Iteration : 23, residual: 0.0017698244797910156, iteration run-time: 0.069627455, total run-time: 1.5900365130000003\n",
      "Iteration : 24, residual: 0.0009335331707231997, iteration run-time: 0.066500927, total run-time: 1.6565374400000004\n"
     ]
    }
   ],
   "source": [
    "# first let's load the value iteration module\n",
    "using DiscreteValueIteration\n",
    "\n",
    "# initialize the problem\n",
    "mdp = GridWorld()\n",
    "\n",
    "# initialize the solver\n",
    "# max_iterations: maximum number of iterations value iteration runs for (default is 100)\n",
    "# belres: the value of Bellman residual used in the solver (defualt is 1e-3)\n",
    "solver = ValueIterationSolver(max_iterations=100, belres=1e-3)\n",
    "\n",
    "# initialize the policy by passing in your problem\n",
    "policy = ValueIterationPolicy(mdp) \n",
    "\n",
    "# solve for an optimal policy\n",
    "# if verbose=false, the text output will be supressed (false by default)\n",
    "solve(solver, mdp, policy, verbose=true);"
   ]
  },
  {
   "cell_type": "markdown",
   "metadata": {},
   "source": [
    "Now, we can use the policy along with the ```action(...)``` function to get the optimal action in a given state."
   ]
  },
  {
   "cell_type": "code",
   "execution_count": 29,
   "metadata": {
    "collapsed": false
   },
   "outputs": [
    {
     "data": {
      "text/plain": [
       ":up"
      ]
     },
     "execution_count": 29,
     "metadata": {},
     "output_type": "execute_result"
    }
   ],
   "source": [
    "# say we are in state (9,2)\n",
    "s = GridWorldState(9,2)\n",
    "a = action(policy, s)"
   ]
  },
  {
   "cell_type": "markdown",
   "metadata": {},
   "source": [
    "Remeber that the state (9,3) has an immediate reward of +10.0, so the policy we found is moving up as expected!"
   ]
  },
  {
   "cell_type": "code",
   "execution_count": 30,
   "metadata": {
    "collapsed": false
   },
   "outputs": [
    {
     "data": {
      "text/plain": [
       ":right"
      ]
     },
     "execution_count": 30,
     "metadata": {},
     "output_type": "execute_result"
    }
   ],
   "source": [
    "s = GridWorldState(8,3)\n",
    "a = action(policy, s)"
   ]
  },
  {
   "cell_type": "markdown",
   "metadata": {},
   "source": [
    "![description](files/gw.jpg)"
   ]
  },
  {
   "cell_type": "markdown",
   "metadata": {},
   "source": [
    "## Monte-Carlo Tree Search Solver\n",
    "Monte-Carlo Tree Search (MCTS) is another MDP solver. It is an online method that looks for the best action from only the current state by building a search tree. A nice overview of MCTS can be found [here](http://pubs.doc.ic.ac.uk/survey-mcts-methods/survey-mcts-methods.pdf). Run the following command to donwload the module:\n",
    "```julia\n",
    "using POMDPs\n",
    "POMDPs.add(\"MCTS\")\n",
    "```\n",
    "Let's quickly run through an example of using the solver:"
   ]
  },
  {
   "cell_type": "code",
   "execution_count": 41,
   "metadata": {
    "collapsed": false,
    "scrolled": true
   },
   "outputs": [
    {
     "data": {
      "text/plain": [
       ":up"
      ]
     },
     "execution_count": 41,
     "metadata": {},
     "output_type": "execute_result"
    }
   ],
   "source": [
    "using MCTS\n",
    "\n",
    "# initialize the problem\n",
    "mdp = GridWorld()\n",
    "\n",
    "# initialize the solver\n",
    "# the hyper parameters in MCTS can be tricky to set properly\n",
    "# n_iterations: the number of iterations that each search runs for\n",
    "# depth: the depth of the tree (how far away from the current state the algorithm explores)\n",
    "# exploration constant: this is how much weight to put into exploratory actions. \n",
    "# A good rule of thumb is to set the exploration constant to what you expect the upper bound on your average expected reward to be.\n",
    "solver = MCTSSolver(n_iterations=100,\n",
    "                    depth=20,\n",
    "                    exploration_constant=10.0,\n",
    "                    enable_tree_vis=true)\n",
    "\n",
    "# initialize the policy by passing in your problem and the solver\n",
    "policy = MCTSPolicy(solver, mdp)\n",
    "\n",
    "# we don't need to call solver for MCTS\n",
    "\n",
    "# to get the action:\n",
    "s = GridWorldState(9,2)\n",
    "a = action(policy, s)"
   ]
  },
  {
   "cell_type": "markdown",
   "metadata": {
    "collapsed": true
   },
   "source": [
    "Let's simulate the policy."
   ]
  },
  {
   "cell_type": "code",
   "execution_count": 42,
   "metadata": {
    "collapsed": false
   },
   "outputs": [
    {
     "name": "stdout",
     "output_type": "stream",
     "text": [
      "Total discounted reward: 2.8242953648100015\n"
     ]
    }
   ],
   "source": [
    "# we'll use POMDPToolbox for simulation\n",
    "using POMDPToolbox # if you don't have this module install it by running POMDPs.add(\"POMDPToolbox\")\n",
    "\n",
    "s = GridWorldState(4,1) # this is our starting state\n",
    "hist = HistoryRecorder(max_steps=1000)\n",
    "\n",
    "hist = simulate(hist, mdp, policy, s)\n",
    "\n",
    "println(\"Total discounted reward: $(discounted_reward(hist))\")"
   ]
  },
  {
   "cell_type": "code",
   "execution_count": 43,
   "metadata": {
    "collapsed": false
   },
   "outputs": [
    {
     "data": {
      "text/plain": [
       "14-element Array{GridWorldState,1}:\n",
       " GridWorldState(4,1,false,false)\n",
       " GridWorldState(4,1,false,false)\n",
       " GridWorldState(5,1,false,false)\n",
       " GridWorldState(6,1,false,false)\n",
       " GridWorldState(7,1,false,false)\n",
       " GridWorldState(7,2,false,false)\n",
       " GridWorldState(8,2,false,false)\n",
       " GridWorldState(9,2,false,false)\n",
       " GridWorldState(8,2,false,false)\n",
       " GridWorldState(7,2,false,false)\n",
       " GridWorldState(8,2,false,false)\n",
       " GridWorldState(9,2,false,false)\n",
       " GridWorldState(9,3,false,false)\n",
       " GridWorldState(9,3,false,true) "
      ]
     },
     "execution_count": 43,
     "metadata": {},
     "output_type": "execute_result"
    }
   ],
   "source": [
    "hist.state_hist # look at the state history"
   ]
  },
  {
   "cell_type": "code",
   "execution_count": 39,
   "metadata": {
    "collapsed": false
   },
   "outputs": [
    {
     "data": {
      "text/plain": [
       ":right"
      ]
     },
     "execution_count": 39,
     "metadata": {},
     "output_type": "execute_result"
    }
   ],
   "source": [
    "action(policy, hist.state_hist[1])"
   ]
  },
  {
   "cell_type": "code",
   "execution_count": 40,
   "metadata": {
    "collapsed": false
   },
   "outputs": [
    {
     "data": {
      "text/html": [
       "    <html>\n",
       "    <head>\n",
       "    </head>\n",
       "    <body>\n",
       "    <div id=\"treevis9UFxhzy4\">\n",
       "    <style>\n",
       "        \n",
       ".node {\n",
       "    cursor: pointer;\n",
       "}\n",
       "\n",
       ".node circle {\n",
       "\t  fill: #fff;\n",
       "\t  stroke: steelblue;\n",
       "\t  stroke-width: 3px;\n",
       "}\n",
       "\n",
       ".node path {\n",
       "    fill: #ffffff;\n",
       "    /* stroke: steelblue; */\n",
       "    stroke-width: 2px;\n",
       "}\n",
       ".node text {\n",
       "    font-family: Arial, Helvetica, sans-serif;\n",
       "    font-style: normal;\n",
       "    font-size: 12px;\n",
       "}\n",
       ".link /* path */ {\n",
       "    fill: none;\n",
       "    stroke: #cccccc;\n",
       "    stroke-width: 2px;\n",
       "}\n",
       ".link text {\n",
       "    font-family: Arial, Helvetica, sans-serif;\n",
       "    font-style: normal;\n",
       "    font-size: 12px;\n",
       "}\n",
       ".hover text{\n",
       "    font-family: Arial, Helvetica, sans-serif;\n",
       "    font-style: normal;\n",
       "    font-size: 12px;\n",
       "}\n",
       "\n",
       "/*\n",
       ".svg-container {\n",
       "    display: inline-block;\n",
       "    position: relative;\n",
       "    width: 100%;\n",
       "    padding-bottom: 100%;\n",
       "    vertical-align: top;\n",
       "    overflow: hidden;\n",
       "}\n",
       ".svg-content-responsive {\n",
       "    display: inline-block;\n",
       "    position: absolute;\n",
       "    top: 10px;\n",
       "    left: 0;\n",
       "}\n",
       "*/\n",
       "\n",
       "    </style>\n",
       "    <script>\n",
       "       (function(){\n",
       "        var treeData = {\"288\":{\"Q\":10.0,\"tag\":\"down\",\"children_ids\":[357],\"N\":258,\"id\":288,\"tt_tag\":\"down\",\"type\":\"action\"},\"306\":{\"tag\":\"GridWorldState(2,3,false,false)\",\"children_ids\":[307,308,309,310],\"N\":37,\"id\":306,\"tt_tag\":\"GridWorldState(2,3,false,false)\",\"type\":\"state\"},\"11\":{\"tag\":\"GridWorldState(3,2,false,false)\",\"children_ids\":[12,13,14,15],\"N\":116,\"id\":11,\"tt_tag\":\"GridWorldState(3,2,false,false)\",\"type\":\"state\"},\"134\":{\"Q\":0.0,\"tag\":\"left\",\"children_ids\":[],\"N\":0,\"id\":134,\"tt_tag\":\"left\",\"type\":\"action\"},\"158\":{\"Q\":0.0,\"tag\":\"down\",\"children_ids\":[156],\"N\":16,\"id\":158,\"tt_tag\":\"down\",\"type\":\"action\"},\"160\":{\"Q\":4.816109455672988,\"tag\":\"right\",\"children_ids\":[276,36,291],\"N\":188,\"id\":160,\"tt_tag\":\"right\",\"type\":\"action\"},\"215\":{\"Q\":3.139948454849259,\"tag\":\"right\",\"children_ids\":[266,276,56],\"N\":474,\"id\":215,\"tt_tag\":\"right\",\"type\":\"action\"},\"29\":{\"Q\":-1.41183,\"tag\":\"left\",\"children_ids\":[341,161,96],\"N\":6,\"id\":29,\"tt_tag\":\"left\",\"type\":\"action\"},\"131\":{\"tag\":\"GridWorldState(5,7,false,false)\",\"children_ids\":[132,133,134,135],\"N\":1,\"id\":131,\"tt_tag\":\"GridWorldState(5,7,false,false)\",\"type\":\"state\"},\"249\":{\"Q\":0.0,\"tag\":\"left\",\"children_ids\":[],\"N\":0,\"id\":249,\"tt_tag\":\"left\",\"type\":\"action\"},\"207\":{\"Q\":1.869782264189298,\"tag\":\"up\",\"children_ids\":[311,316],\"N\":5,\"id\":207,\"tt_tag\":\"up\",\"type\":\"action\"},\"300\":{\"Q\":0.0,\"tag\":\"right\",\"children_ids\":[296],\"N\":16,\"id\":300,\"tt_tag\":\"right\",\"type\":\"action\"},\"173\":{\"Q\":0.0,\"tag\":\"down\",\"children_ids\":[],\"N\":0,\"id\":173,\"tt_tag\":\"down\",\"type\":\"action\"},\"289\":{\"Q\":10.0,\"tag\":\"left\",\"children_ids\":[358],\"N\":258,\"id\":289,\"tt_tag\":\"left\",\"type\":\"action\"},\"74\":{\"Q\":0.0,\"tag\":\"left\",\"children_ids\":[126,86,321],\"N\":6,\"id\":74,\"tt_tag\":\"left\",\"type\":\"action\"},\"201\":{\"tag\":\"GridWorldState(3,6,false,false)\",\"children_ids\":[202,203,204,205],\"N\":0,\"id\":201,\"tt_tag\":\"GridWorldState(3,6,false,false)\",\"type\":\"state\"},\"176\":{\"tag\":\"GridWorldState(4,4,false,false)\",\"children_ids\":[177,178,179,180],\"N\":15,\"id\":176,\"tt_tag\":\"GridWorldState(4,4,false,false)\",\"type\":\"state\"},\"57\":{\"Q\":0.5717334120884366,\"tag\":\"up\",\"children_ids\":[111,31,211],\"N\":91,\"id\":57,\"tt_tag\":\"up\",\"type\":\"action\"},\"31\":{\"tag\":\"GridWorldState(4,1,false,false)\",\"children_ids\":[32,33,34,35],\"N\":699,\"id\":31,\"tt_tag\":\"GridWorldState(4,1,false,false)\",\"type\":\"state\"},\"285\":{\"Q\":-0.3495173651220554,\"tag\":\"right\",\"children_ids\":[111,146,31,11],\"N\":77,\"id\":285,\"tt_tag\":\"right\",\"type\":\"action\"},\"70\":{\"Q\":0.0,\"tag\":\"right\",\"children_ids\":[],\"N\":0,\"id\":70,\"tt_tag\":\"right\",\"type\":\"action\"},\"318\":{\"Q\":0.0,\"tag\":\"down\",\"children_ids\":[76,86,206],\"N\":4,\"id\":318,\"tt_tag\":\"down\",\"type\":\"action\"},\"33\":{\"Q\":0.0,\"tag\":\"down\",\"children_ids\":[31],\"N\":148,\"id\":33,\"tt_tag\":\"down\",\"type\":\"action\"},\"335\":{\"Q\":2.8120092480450003,\"tag\":\"right\",\"children_ids\":[81,36,286,291],\"N\":20,\"id\":335,\"tt_tag\":\"right\",\"type\":\"action\"},\"252\":{\"Q\":0.0,\"tag\":\"up\",\"children_ids\":[271,306,41],\"N\":6,\"id\":252,\"tt_tag\":\"up\",\"type\":\"action\"},\"114\":{\"Q\":-0.772883177676776,\"tag\":\"left\",\"children_ids\":[266,346,56,281],\"N\":38,\"id\":114,\"tt_tag\":\"left\",\"type\":\"action\"},\"165\":{\"Q\":1.3981621221872214,\"tag\":\"right\",\"children_ids\":[46,6,26,141],\"N\":23,\"id\":165,\"tt_tag\":\"right\",\"type\":\"action\"},\"96\":{\"tag\":\"GridWorldState(5,5,false,false)\",\"children_ids\":[97,98,99,100],\"N\":18,\"id\":96,\"tt_tag\":\"GridWorldState(5,5,false,false)\",\"type\":\"state\"},\"133\":{\"Q\":0.0,\"tag\":\"down\",\"children_ids\":[],\"N\":0,\"id\":133,\"tt_tag\":\"down\",\"type\":\"action\"},\"354\":{\"tag\":\"GridWorldState(4,3,false,true)\",\"children_ids\":[],\"N\":0,\"id\":354,\"tt_tag\":\"GridWorldState(4,3,false,true)\",\"type\":\"state\"},\"328\":{\"Q\":0.0,\"tag\":\"down\",\"children_ids\":[326],\"N\":32,\"id\":328,\"tt_tag\":\"down\",\"type\":\"action\"},\"49\":{\"Q\":-0.010352091547928599,\"tag\":\"left\",\"children_ids\":[196,336,221,161],\"N\":14,\"id\":49,\"tt_tag\":\"left\",\"type\":\"action\"},\"84\":{\"Q\":4.1929305674651145,\"tag\":\"left\",\"children_ids\":[106,331,296],\"N\":43,\"id\":84,\"tt_tag\":\"left\",\"type\":\"action\"},\"327\":{\"Q\":-0.6348797393968254,\"tag\":\"up\",\"children_ids\":[186,91,101],\"N\":21,\"id\":327,\"tt_tag\":\"up\",\"type\":\"action\"},\"230\":{\"Q\":0.0,\"tag\":\"right\",\"children_ids\":[],\"N\":0,\"id\":230,\"tt_tag\":\"right\",\"type\":\"action\"},\"117\":{\"Q\":0.0,\"tag\":\"up\",\"children_ids\":[306,166],\"N\":3,\"id\":117,\"tt_tag\":\"up\",\"type\":\"action\"},\"93\":{\"Q\":0.0,\"tag\":\"down\",\"children_ids\":[11,306,326,41],\"N\":21,\"id\":93,\"tt_tag\":\"down\",\"type\":\"action\"},\"284\":{\"Q\":-1.4811965805984708,\"tag\":\"left\",\"children_ids\":[146,111,31,11],\"N\":35,\"id\":284,\"tt_tag\":\"left\",\"type\":\"action\"},\"50\":{\"Q\":2.4813486945,\"tag\":\"right\",\"children_ids\":[196,336,221],\"N\":20,\"id\":50,\"tt_tag\":\"right\",\"type\":\"action\"},\"77\":{\"Q\":0.0,\"tag\":\"up\",\"children_ids\":[66],\"N\":1,\"id\":77,\"tt_tag\":\"up\",\"type\":\"action\"},\"80\":{\"Q\":0.0,\"tag\":\"right\",\"children_ids\":[],\"N\":0,\"id\":80,\"tt_tag\":\"right\",\"type\":\"action\"},\"311\":{\"tag\":\"GridWorldState(10,4,false,false)\",\"children_ids\":[312,313,314,315],\"N\":47,\"id\":311,\"tt_tag\":\"GridWorldState(10,4,false,false)\",\"type\":\"state\"},\"248\":{\"Q\":0.0,\"tag\":\"down\",\"children_ids\":[],\"N\":0,\"id\":248,\"tt_tag\":\"down\",\"type\":\"action\"},\"326\":{\"tag\":\"GridWorldState(2,1,false,false)\",\"children_ids\":[327,328,329,330],\"N\":110,\"id\":326,\"tt_tag\":\"GridWorldState(2,1,false,false)\",\"type\":\"state\"},\"227\":{\"Q\":0.0,\"tag\":\"up\",\"children_ids\":[231],\"N\":1,\"id\":227,\"tt_tag\":\"up\",\"type\":\"action\"},\"188\":{\"Q\":0.0,\"tag\":\"down\",\"children_ids\":[186],\"N\":79,\"id\":188,\"tt_tag\":\"down\",\"type\":\"action\"},\"132\":{\"Q\":0.0,\"tag\":\"up\",\"children_ids\":[226],\"N\":1,\"id\":132,\"tt_tag\":\"up\",\"type\":\"action\"},\"195\":{\"Q\":-9.0,\"tag\":\"right\",\"children_ids\":[146],\"N\":2,\"id\":195,\"tt_tag\":\"right\",\"type\":\"action\"},\"157\":{\"Q\":4.857140961934574,\"tag\":\"up\",\"children_ids\":[36,276,291],\"N\":159,\"id\":157,\"tt_tag\":\"up\",\"type\":\"action\"},\"264\":{\"Q\":0.0,\"tag\":\"left\",\"children_ids\":[],\"N\":0,\"id\":264,\"tt_tag\":\"left\",\"type\":\"action\"},\"231\":{\"tag\":\"GridWorldState(6,8,false,false)\",\"children_ids\":[232,233,234,235],\"N\":0,\"id\":231,\"tt_tag\":\"GridWorldState(6,8,false,false)\",\"type\":\"state\"},\"353\":{\"tag\":\"GridWorldState(4,3,false,true)\",\"children_ids\":[],\"N\":0,\"id\":353,\"tt_tag\":\"GridWorldState(4,3,false,true)\",\"type\":\"state\"},\"221\":{\"tag\":\"GridWorldState(7,5,false,false)\",\"children_ids\":[222,223,224,225],\"N\":44,\"id\":221,\"tt_tag\":\"GridWorldState(7,5,false,false)\",\"type\":\"state\"},\"153\":{\"Q\":0.0,\"tag\":\"down\",\"children_ids\":[256,166],\"N\":2,\"id\":153,\"tt_tag\":\"down\",\"type\":\"action\"},\"217\":{\"Q\":0.0,\"tag\":\"up\",\"children_ids\":[171],\"N\":1,\"id\":217,\"tt_tag\":\"up\",\"type\":\"action\"},\"79\":{\"Q\":0.0,\"tag\":\"left\",\"children_ids\":[],\"N\":0,\"id\":79,\"tt_tag\":\"left\",\"type\":\"action\"},\"302\":{\"Q\":4.5211994885864515,\"tag\":\"up\",\"children_ids\":[196,336,36,286],\"N\":39,\"id\":302,\"tt_tag\":\"up\",\"type\":\"action\"},\"71\":{\"tag\":\"GridWorldState(8,6,false,false)\",\"children_ids\":[72,73,74,75],\"N\":17,\"id\":71,\"tt_tag\":\"GridWorldState(8,6,false,false)\",\"type\":\"state\"},\"120\":{\"Q\":0.0,\"tag\":\"right\",\"children_ids\":[271,166],\"N\":2,\"id\":120,\"tt_tag\":\"right\",\"type\":\"action\"},\"154\":{\"Q\":0.0,\"tag\":\"left\",\"children_ids\":[],\"N\":0,\"id\":154,\"tt_tag\":\"left\",\"type\":\"action\"},\"225\":{\"Q\":0.0,\"tag\":\"right\",\"children_ids\":[236,126],\"N\":9,\"id\":225,\"tt_tag\":\"right\",\"type\":\"action\"},\"76\":{\"tag\":\"GridWorldState(10,7,false,false)\",\"children_ids\":[77,78,79,80],\"N\":1,\"id\":76,\"tt_tag\":\"GridWorldState(10,7,false,false)\",\"type\":\"state\"},\"184\":{\"Q\":0.0,\"tag\":\"left\",\"children_ids\":[],\"N\":0,\"id\":184,\"tt_tag\":\"left\",\"type\":\"action\"},\"224\":{\"Q\":0.0,\"tag\":\"left\",\"children_ids\":[46,26],\"N\":8,\"id\":224,\"tt_tag\":\"left\",\"type\":\"action\"},\"167\":{\"Q\":-3.645,\"tag\":\"up\",\"children_ids\":[151],\"N\":1,\"id\":167,\"tt_tag\":\"up\",\"type\":\"action\"},\"213\":{\"Q\":0.0,\"tag\":\"down\",\"children_ids\":[211],\"N\":47,\"id\":213,\"tt_tag\":\"down\",\"type\":\"action\"},\"204\":{\"Q\":0.0,\"tag\":\"left\",\"children_ids\":[],\"N\":0,\"id\":204,\"tt_tag\":\"left\",\"type\":\"action\"},\"122\":{\"Q\":3.22801798509,\"tag\":\"up\",\"children_ids\":[241,86,206],\"N\":9,\"id\":122,\"tt_tag\":\"up\",\"type\":\"action\"},\"143\":{\"Q\":-1.3850328752999999,\"tag\":\"down\",\"children_ids\":[346,161,96],\"N\":10,\"id\":143,\"tt_tag\":\"down\",\"type\":\"action\"},\"62\":{\"Q\":0.0,\"tag\":\"up\",\"children_ids\":[],\"N\":0,\"id\":62,\"tt_tag\":\"up\",\"type\":\"action\"},\"107\":{\"Q\":1.51703442,\"tag\":\"up\",\"children_ids\":[311,81],\"N\":9,\"id\":107,\"tt_tag\":\"up\",\"type\":\"action\"},\"169\":{\"Q\":0.0,\"tag\":\"left\",\"children_ids\":[21],\"N\":1,\"id\":169,\"tt_tag\":\"left\",\"type\":\"action\"},\"287\":{\"Q\":10.0,\"tag\":\"up\",\"children_ids\":[356],\"N\":259,\"id\":287,\"tt_tag\":\"up\",\"type\":\"action\"},\"21\":{\"tag\":\"GridWorldState(1,5,false,false)\",\"children_ids\":[22,23,24,25],\"N\":9,\"id\":21,\"tt_tag\":\"GridWorldState(1,5,false,false)\",\"type\":\"state\"},\"10\":{\"Q\":2.791818706826813,\"tag\":\"right\",\"children_ids\":[266,336,346,161],\"N\":96,\"id\":10,\"tt_tag\":\"right\",\"type\":\"action\"},\"102\":{\"Q\":0.0,\"tag\":\"up\",\"children_ids\":[326,41],\"N\":18,\"id\":102,\"tt_tag\":\"up\",\"type\":\"action\"},\"180\":{\"Q\":0.0,\"tag\":\"right\",\"children_ids\":[141,256],\"N\":7,\"id\":180,\"tt_tag\":\"right\",\"type\":\"action\"},\"294\":{\"Q\":0.8145000000000002,\"tag\":\"left\",\"children_ids\":[331,156,296],\"N\":18,\"id\":294,\"tt_tag\":\"left\",\"type\":\"action\"},\"162\":{\"Q\":-0.8746570038461539,\"tag\":\"up\",\"children_ids\":[26,141],\"N\":13,\"id\":162,\"tt_tag\":\"up\",\"type\":\"action\"},\"129\":{\"Q\":0.0,\"tag\":\"left\",\"children_ids\":[71,341],\"N\":2,\"id\":129,\"tt_tag\":\"left\",\"type\":\"action\"},\"280\":{\"Q\":4.0744367289891,\"tag\":\"right\",\"children_ids\":[1,156,211],\"N\":271,\"id\":280,\"tt_tag\":\"right\",\"type\":\"action\"},\"88\":{\"Q\":2.891720811318429,\"tag\":\"down\",\"children_ids\":[121],\"N\":7,\"id\":88,\"tt_tag\":\"down\",\"type\":\"action\"},\"240\":{\"Q\":0.9841500000000001,\"tag\":\"right\",\"children_ids\":[71,121],\"N\":6,\"id\":240,\"tt_tag\":\"right\",\"type\":\"action\"},\"260\":{\"Q\":0.0,\"tag\":\"right\",\"children_ids\":[176],\"N\":3,\"id\":260,\"tt_tag\":\"right\",\"type\":\"action\"},\"251\":{\"tag\":\"GridWorldState(1,3,false,false)\",\"children_ids\":[252,253,254,255],\"N\":36,\"id\":251,\"tt_tag\":\"GridWorldState(1,3,false,false)\",\"type\":\"state\"},\"261\":{\"tag\":\"GridWorldState(2,6,false,false)\",\"children_ids\":[262,263,264,265],\"N\":0,\"id\":261,\"tt_tag\":\"GridWorldState(2,6,false,false)\",\"type\":\"state\"},\"149\":{\"Q\":-10.0,\"tag\":\"left\",\"children_ids\":[353],\"N\":9,\"id\":149,\"tt_tag\":\"left\",\"type\":\"action\"},\"5\":{\"Q\":4.9108851428829805,\"tag\":\"right\",\"children_ids\":[266,336,276,36],\"N\":423,\"id\":5,\"tt_tag\":\"right\",\"type\":\"action\"},\"63\":{\"Q\":0.0,\"tag\":\"down\",\"children_ids\":[],\"N\":0,\"id\":63,\"tt_tag\":\"down\",\"type\":\"action\"},\"331\":{\"tag\":\"GridWorldState(9,2,false,false)\",\"children_ids\":[332,333,334,335],\"N\":717,\"id\":331,\"tt_tag\":\"GridWorldState(9,2,false,false)\",\"type\":\"state\"},\"41\":{\"tag\":\"GridWorldState(1,2,false,false)\",\"children_ids\":[42,43,44,45],\"N\":47,\"id\":41,\"tt_tag\":\"GridWorldState(1,2,false,false)\",\"type\":\"state\"},\"15\":{\"Q\":-0.42569132072864235,\"tag\":\"right\",\"children_ids\":[186,191,91,281],\"N\":26,\"id\":15,\"tt_tag\":\"right\",\"type\":\"action\"},\"245\":{\"Q\":3.6540818181818193,\"tag\":\"right\",\"children_ids\":[121,311,286],\"N\":11,\"id\":245,\"tt_tag\":\"right\",\"type\":\"action\"},\"148\":{\"Q\":-10.0,\"tag\":\"down\",\"children_ids\":[352],\"N\":10,\"id\":148,\"tt_tag\":\"down\",\"type\":\"action\"},\"210\":{\"Q\":0.0,\"tag\":\"right\",\"children_ids\":[206],\"N\":10,\"id\":210,\"tt_tag\":\"right\",\"type\":\"action\"},\"55\":{\"Q\":0.0,\"tag\":\"right\",\"children_ids\":[],\"N\":0,\"id\":55,\"tt_tag\":\"right\",\"type\":\"action\"},\"66\":{\"tag\":\"GridWorldState(10,8,false,false)\",\"children_ids\":[67,68,69,70],\"N\":0,\"id\":66,\"tt_tag\":\"GridWorldState(10,8,false,false)\",\"type\":\"state\"},\"239\":{\"Q\":2.046697389,\"tag\":\"left\",\"children_ids\":[121,196,221],\"N\":10,\"id\":239,\"tt_tag\":\"left\",\"type\":\"action\"},\"155\":{\"Q\":0.0,\"tag\":\"right\",\"children_ids\":[],\"N\":0,\"id\":155,\"tt_tag\":\"right\",\"type\":\"action\"},\"150\":{\"Q\":-10.0,\"tag\":\"right\",\"children_ids\":[354],\"N\":9,\"id\":150,\"tt_tag\":\"right\",\"type\":\"action\"},\"209\":{\"Q\":0.0,\"tag\":\"left\",\"children_ids\":[121,311,316],\"N\":6,\"id\":209,\"tt_tag\":\"left\",\"type\":\"action\"},\"296\":{\"tag\":\"GridWorldState(10,1,false,false)\",\"children_ids\":[297,298,299,300],\"N\":138,\"id\":296,\"tt_tag\":\"GridWorldState(10,1,false,false)\",\"type\":\"state\"},\"344\":{\"Q\":0.0,\"tag\":\"left\",\"children_ids\":[16],\"N\":2,\"id\":344,\"tt_tag\":\"left\",\"type\":\"action\"},\"95\":{\"Q\":0.114383962274805,\"tag\":\"right\",\"children_ids\":[306,326,11],\"N\":20,\"id\":95,\"tt_tag\":\"right\",\"type\":\"action\"},\"139\":{\"Q\":0.0,\"tag\":\"left\",\"children_ids\":[],\"N\":0,\"id\":139,\"tt_tag\":\"left\",\"type\":\"action\"},\"236\":{\"tag\":\"GridWorldState(8,5,false,false)\",\"children_ids\":[237,238,239,240],\"N\":26,\"id\":236,\"tt_tag\":\"GridWorldState(8,5,false,false)\",\"type\":\"state\"},\"90\":{\"Q\":0.0,\"tag\":\"right\",\"children_ids\":[316],\"N\":2,\"id\":90,\"tt_tag\":\"right\",\"type\":\"action\"},\"111\":{\"tag\":\"GridWorldState(5,2,false,false)\",\"children_ids\":[112,113,114,115],\"N\":277,\"id\":111,\"tt_tag\":\"GridWorldState(5,2,false,false)\",\"type\":\"state\"},\"14\":{\"Q\":-0.23823529411764696,\"tag\":\"left\",\"children_ids\":[191,91,281],\"N\":34,\"id\":14,\"tt_tag\":\"left\",\"type\":\"action\"},\"175\":{\"Q\":0.0,\"tag\":\"right\",\"children_ids\":[],\"N\":0,\"id\":175,\"tt_tag\":\"right\",\"type\":\"action\"},\"205\":{\"Q\":0.0,\"tag\":\"right\",\"children_ids\":[],\"N\":0,\"id\":205,\"tt_tag\":\"right\",\"type\":\"action\"},\"253\":{\"Q\":-1.19067613454961,\"tag\":\"down\",\"children_ids\":[271,41],\"N\":5,\"id\":253,\"tt_tag\":\"down\",\"type\":\"action\"},\"256\":{\"tag\":\"GridWorldState(3,4,false,false)\",\"children_ids\":[257,258,259,260],\"N\":15,\"id\":256,\"tt_tag\":\"GridWorldState(3,4,false,false)\",\"type\":\"state\"},\"258\":{\"Q\":0.0,\"tag\":\"down\",\"children_ids\":[116,191],\"N\":4,\"id\":258,\"tt_tag\":\"down\",\"type\":\"action\"},\"212\":{\"Q\":1.1641975584357038,\"tag\":\"up\",\"children_ids\":[266,276,56],\"N\":68,\"id\":212,\"tt_tag\":\"up\",\"type\":\"action\"},\"200\":{\"Q\":5.032861670494499,\"tag\":\"right\",\"children_ids\":[46,301,236,241],\"N\":40,\"id\":200,\"tt_tag\":\"right\",\"type\":\"action\"},\"308\":{\"Q\":0.0,\"tag\":\"down\",\"children_ids\":[191,91,251],\"N\":10,\"id\":308,\"tt_tag\":\"down\",\"type\":\"action\"},\"310\":{\"Q\":-1.5628551278020713,\"tag\":\"right\",\"children_ids\":[191,91],\"N\":7,\"id\":310,\"tt_tag\":\"right\",\"type\":\"action\"},\"265\":{\"Q\":0.0,\"tag\":\"right\",\"children_ids\":[],\"N\":0,\"id\":265,\"tt_tag\":\"right\",\"type\":\"action\"},\"269\":{\"Q\":0.5641932008321053,\"tag\":\"left\",\"children_ids\":[111,1,6,211],\"N\":38,\"id\":269,\"tt_tag\":\"left\",\"type\":\"action\"},\"282\":{\"Q\":-6.464883797547556,\"tag\":\"up\",\"children_ids\":[146,111],\"N\":7,\"id\":282,\"tt_tag\":\"up\",\"type\":\"action\"},\"135\":{\"Q\":0.0,\"tag\":\"right\",\"children_ids\":[],\"N\":0,\"id\":135,\"tt_tag\":\"right\",\"type\":\"action\"},\"125\":{\"Q\":0.0,\"tag\":\"right\",\"children_ids\":[241,206],\"N\":7,\"id\":125,\"tt_tag\":\"right\",\"type\":\"action\"},\"172\":{\"Q\":0.0,\"tag\":\"up\",\"children_ids\":[],\"N\":0,\"id\":172,\"tt_tag\":\"up\",\"type\":\"action\"},\"146\":{\"tag\":\"GridWorldState(4,3,false,false)\",\"children_ids\":[147,148,149,150],\"N\":38,\"id\":146,\"tt_tag\":\"GridWorldState(4,3,false,false)\",\"type\":\"state\"},\"130\":{\"Q\":0.27337500000000003,\"tag\":\"right\",\"children_ids\":[71,221],\"N\":8,\"id\":130,\"tt_tag\":\"right\",\"type\":\"action\"},\"314\":{\"Q\":1.7241520090909088,\"tag\":\"left\",\"children_ids\":[106,241,206],\"N\":11,\"id\":314,\"tt_tag\":\"left\",\"type\":\"action\"},\"17\":{\"Q\":0.0,\"tag\":\"up\",\"children_ids\":[131],\"N\":2,\"id\":17,\"tt_tag\":\"up\",\"type\":\"action\"},\"65\":{\"Q\":0.0,\"tag\":\"right\",\"children_ids\":[],\"N\":0,\"id\":65,\"tt_tag\":\"right\",\"type\":\"action\"},\"202\":{\"Q\":0.0,\"tag\":\"up\",\"children_ids\":[],\"N\":0,\"id\":202,\"tt_tag\":\"up\",\"type\":\"action\"},\"44\":{\"Q\":0.0,\"tag\":\"left\",\"children_ids\":[41],\"N\":18,\"id\":44,\"tt_tag\":\"left\",\"type\":\"action\"},\"250\":{\"Q\":0.0,\"tag\":\"right\",\"children_ids\":[],\"N\":0,\"id\":250,\"tt_tag\":\"right\",\"type\":\"action\"},\"324\":{\"Q\":0.0,\"tag\":\"left\",\"children_ids\":[136],\"N\":1,\"id\":324,\"tt_tag\":\"left\",\"type\":\"action\"},\"37\":{\"Q\":3.752164859962905,\"tag\":\"up\",\"children_ids\":[301,1,331,156],\"N\":50,\"id\":37,\"tt_tag\":\"up\",\"type\":\"action\"},\"192\":{\"Q\":-0.38765906717292703,\"tag\":\"up\",\"children_ids\":[306,256,11],\"N\":13,\"id\":192,\"tt_tag\":\"up\",\"type\":\"action\"},\"110\":{\"Q\":0.0,\"tag\":\"right\",\"children_ids\":[106],\"N\":18,\"id\":110,\"tt_tag\":\"right\",\"type\":\"action\"},\"127\":{\"Q\":0.19371024450000007,\"tag\":\"up\",\"children_ids\":[136,341,221],\"N\":6,\"id\":127,\"tt_tag\":\"up\",\"type\":\"action\"},\"13\":{\"Q\":-0.5393360700000001,\"tag\":\"down\",\"children_ids\":[186,191,91,281],\"N\":30,\"id\":13,\"tt_tag\":\"down\",\"type\":\"action\"},\"309\":{\"Q\":0.0,\"tag\":\"left\",\"children_ids\":[116,191,251],\"N\":11,\"id\":309,\"tt_tag\":\"left\",\"type\":\"action\"},\"270\":{\"Q\":3.2420354314320043,\"tag\":\"right\",\"children_ids\":[111,1,6,211],\"N\":266,\"id\":270,\"tt_tag\":\"right\",\"type\":\"action\"},\"99\":{\"Q\":0.0,\"tag\":\"left\",\"children_ids\":[16,51,26,141],\"N\":6,\"id\":99,\"tt_tag\":\"left\",\"type\":\"action\"},\"137\":{\"Q\":0.0,\"tag\":\"up\",\"children_ids\":[126],\"N\":1,\"id\":137,\"tt_tag\":\"up\",\"type\":\"action\"},\"141\":{\"tag\":\"GridWorldState(5,4,false,false)\",\"children_ids\":[142,143,144,145],\"N\":38,\"id\":141,\"tt_tag\":\"GridWorldState(5,4,false,false)\",\"type\":\"state\"},\"105\":{\"Q\":-0.0882592301503125,\"tag\":\"right\",\"children_ids\":[326,41],\"N\":16,\"id\":105,\"tt_tag\":\"right\",\"type\":\"action\"},\"30\":{\"Q\":0.0,\"tag\":\"right\",\"children_ids\":[221],\"N\":7,\"id\":30,\"tt_tag\":\"right\",\"type\":\"action\"},\"1\":{\"tag\":\"GridWorldState(7,2,false,false)\",\"children_ids\":[2,3,4,5],\"N\":708,\"id\":1,\"tt_tag\":\"GridWorldState(7,2,false,false)\",\"type\":\"state\"},\"47\":{\"Q\":0.27052131023357145,\"tag\":\"up\",\"children_ids\":[336,221,161],\"N\":14,\"id\":47,\"tt_tag\":\"up\",\"type\":\"action\"},\"216\":{\"tag\":\"GridWorldState(9,7,false,false)\",\"children_ids\":[217,218,219,220],\"N\":1,\"id\":216,\"tt_tag\":\"GridWorldState(9,7,false,false)\",\"type\":\"state\"},\"339\":{\"Q\":-0.39366000000000007,\"tag\":\"left\",\"children_ids\":[46,1,301,6],\"N\":15,\"id\":339,\"tt_tag\":\"left\",\"type\":\"action\"},\"226\":{\"tag\":\"GridWorldState(6,7,false,false)\",\"children_ids\":[227,228,229,230],\"N\":1,\"id\":226,\"tt_tag\":\"GridWorldState(6,7,false,false)\",\"type\":\"state\"},\"214\":{\"Q\":0.9635714259903576,\"tag\":\"left\",\"children_ids\":[266,276,56],\"N\":63,\"id\":214,\"tt_tag\":\"left\",\"type\":\"action\"},\"307\":{\"Q\":-0.38742048900000015,\"tag\":\"up\",\"children_ids\":[116,191,251],\"N\":9,\"id\":307,\"tt_tag\":\"up\",\"type\":\"action\"},\"91\":{\"tag\":\"GridWorldState(2,2,false,false)\",\"children_ids\":[92,93,94,95],\"N\":73,\"id\":91,\"tt_tag\":\"GridWorldState(2,2,false,false)\",\"type\":\"state\"},\"43\":{\"Q\":0.0,\"tag\":\"down\",\"children_ids\":[91,251,101],\"N\":12,\"id\":43,\"tt_tag\":\"down\",\"type\":\"action\"},\"9\":{\"Q\":-2.6673995925,\"tag\":\"left\",\"children_ids\":[336,346,161],\"N\":12,\"id\":9,\"tt_tag\":\"left\",\"type\":\"action\"},\"128\":{\"Q\":0.0,\"tag\":\"down\",\"children_ids\":[341,221],\"N\":3,\"id\":128,\"tt_tag\":\"down\",\"type\":\"action\"},\"203\":{\"Q\":0.0,\"tag\":\"down\",\"children_ids\":[],\"N\":0,\"id\":203,\"tt_tag\":\"down\",\"type\":\"action\"},\"147\":{\"Q\":-10.0,\"tag\":\"up\",\"children_ids\":[351],\"N\":10,\"id\":147,\"tt_tag\":\"up\",\"type\":\"action\"},\"104\":{\"Q\":0.0,\"tag\":\"left\",\"children_ids\":[101],\"N\":17,\"id\":104,\"tt_tag\":\"left\",\"type\":\"action\"},\"352\":{\"tag\":\"GridWorldState(4,3,false,true)\",\"children_ids\":[],\"N\":0,\"id\":352,\"tt_tag\":\"GridWorldState(4,3,false,true)\",\"type\":\"state\"},\"244\":{\"Q\":3.887601487575,\"tag\":\"left\",\"children_ids\":[121,196,286],\"N\":12,\"id\":244,\"tt_tag\":\"left\",\"type\":\"action\"},\"348\":{\"Q\":0.18046217603742637,\"tag\":\"down\",\"children_ids\":[111,146,6,141],\"N\":38,\"id\":348,\"tt_tag\":\"down\",\"type\":\"action\"},\"273\":{\"Q\":0.0,\"tag\":\"down\",\"children_ids\":[251],\"N\":2,\"id\":273,\"tt_tag\":\"down\",\"type\":\"action\"},\"183\":{\"Q\":0.0,\"tag\":\"down\",\"children_ids\":[],\"N\":0,\"id\":183,\"tt_tag\":\"down\",\"type\":\"action\"},\"103\":{\"Q\":0.0,\"tag\":\"down\",\"children_ids\":[101],\"N\":17,\"id\":103,\"tt_tag\":\"down\",\"type\":\"action\"},\"320\":{\"Q\":0.0,\"tag\":\"right\",\"children_ids\":[316],\"N\":3,\"id\":320,\"tt_tag\":\"right\",\"type\":\"action\"},\"345\":{\"Q\":0.0,\"tag\":\"right\",\"children_ids\":[126],\"N\":2,\"id\":345,\"tt_tag\":\"right\",\"type\":\"action\"},\"152\":{\"Q\":-4.05,\"tag\":\"up\",\"children_ids\":[201],\"N\":1,\"id\":152,\"tt_tag\":\"up\",\"type\":\"action\"},\"38\":{\"Q\":2.8196330635414393,\"tag\":\"down\",\"children_ids\":[301,1,331,156],\"N\":39,\"id\":38,\"tt_tag\":\"down\",\"type\":\"action\"},\"118\":{\"Q\":0.0,\"tag\":\"down\",\"children_ids\":[306],\"N\":4,\"id\":118,\"tt_tag\":\"down\",\"type\":\"action\"},\"48\":{\"Q\":3.863597206471087,\"tag\":\"down\",\"children_ids\":[196,336,221,161],\"N\":80,\"id\":48,\"tt_tag\":\"down\",\"type\":\"action\"},\"100\":{\"Q\":0.0,\"tag\":\"right\",\"children_ids\":[51,26,141],\"N\":5,\"id\":100,\"tt_tag\":\"right\",\"type\":\"action\"},\"81\":{\"tag\":\"GridWorldState(10,2,false,false)\",\"children_ids\":[82,83,84,85],\"N\":181,\"id\":81,\"tt_tag\":\"GridWorldState(10,2,false,false)\",\"type\":\"state\"},\"140\":{\"Q\":0.0,\"tag\":\"right\",\"children_ids\":[],\"N\":0,\"id\":140,\"tt_tag\":\"right\",\"type\":\"action\"},\"291\":{\"tag\":\"GridWorldState(9,1,false,false)\",\"children_ids\":[292,293,294,295],\"N\":321,\"id\":291,\"tt_tag\":\"GridWorldState(9,1,false,false)\",\"type\":\"state\"},\"196\":{\"tag\":\"GridWorldState(8,4,false,false)\",\"children_ids\":[197,198,199,200],\"N\":137,\"id\":196,\"tt_tag\":\"GridWorldState(8,4,false,false)\",\"type\":\"state\"},\"19\":{\"Q\":-4.5,\"tag\":\"left\",\"children_ids\":[181],\"N\":1,\"id\":19,\"tt_tag\":\"left\",\"type\":\"action\"},\"268\":{\"Q\":0.7449424586485719,\"tag\":\"down\",\"children_ids\":[111,1,6,211],\"N\":42,\"id\":268,\"tt_tag\":\"down\",\"type\":\"action\"},\"281\":{\"tag\":\"GridWorldState(4,2,false,false)\",\"children_ids\":[282,283,284,285],\"N\":171,\"id\":281,\"tt_tag\":\"GridWorldState(4,2,false,false)\",\"type\":\"state\"},\"51\":{\"tag\":\"GridWorldState(4,5,false,false)\",\"children_ids\":[52,53,54,55],\"N\":3,\"id\":51,\"tt_tag\":\"GridWorldState(4,5,false,false)\",\"type\":\"state\"},\"243\":{\"Q\":6.617131829654023,\"tag\":\"down\",\"children_ids\":[121,311,196,286],\"N\":29,\"id\":243,\"tt_tag\":\"down\",\"type\":\"action\"},\"191\":{\"tag\":\"GridWorldState(3,3,false,false)\",\"children_ids\":[192,193,194,195],\"N\":41,\"id\":191,\"tt_tag\":\"GridWorldState(3,3,false,false)\",\"type\":\"state\"},\"177\":{\"Q\":-8.145,\"tag\":\"up\",\"children_ids\":[146,141],\"N\":2,\"id\":177,\"tt_tag\":\"up\",\"type\":\"action\"},\"277\":{\"Q\":3.8390794025060826,\"tag\":\"up\",\"children_ids\":[1,156,211],\"N\":299,\"id\":277,\"tt_tag\":\"up\",\"type\":\"action\"},\"123\":{\"Q\":0.0,\"tag\":\"down\",\"children_ids\":[241,86,206],\"N\":5,\"id\":123,\"tt_tag\":\"down\",\"type\":\"action\"},\"255\":{\"Q\":0.0,\"tag\":\"right\",\"children_ids\":[306,271,41],\"N\":7,\"id\":255,\"tt_tag\":\"right\",\"type\":\"action\"},\"312\":{\"Q\":0.8999999999999999,\"tag\":\"up\",\"children_ids\":[106,206],\"N\":9,\"id\":312,\"tt_tag\":\"up\",\"type\":\"action\"},\"317\":{\"Q\":1.14383962274805,\"tag\":\"up\",\"children_ids\":[76,86],\"N\":2,\"id\":317,\"tt_tag\":\"up\",\"type\":\"action\"},\"358\":{\"tag\":\"GridWorldState(9,3,false,true)\",\"children_ids\":[],\"N\":0,\"id\":358,\"tt_tag\":\"GridWorldState(9,3,false,true)\",\"type\":\"state\"},\"163\":{\"Q\":1.0824175346724,\"tag\":\"down\",\"children_ids\":[6,26,141],\"N\":25,\"id\":163,\"tt_tag\":\"down\",\"type\":\"action\"},\"276\":{\"tag\":\"GridWorldState(7,1,false,false)\",\"children_ids\":[277,278,279,280],\"N\":656,\"id\":276,\"tt_tag\":\"GridWorldState(7,1,false,false)\",\"type\":\"state\"},\"301\":{\"tag\":\"GridWorldState(8,3,false,false)\",\"children_ids\":[302,303,304,305],\"N\":719,\"id\":301,\"tt_tag\":\"GridWorldState(8,3,false,false)\",\"type\":\"state\"},\"108\":{\"Q\":1.2149999999999999,\"tag\":\"down\",\"children_ids\":[311,81,286],\"N\":6,\"id\":108,\"tt_tag\":\"down\",\"type\":\"action\"},\"164\":{\"Q\":0.22015800000000002,\"tag\":\"left\",\"children_ids\":[46,26,141],\"N\":16,\"id\":164,\"tt_tag\":\"left\",\"type\":\"action\"},\"329\":{\"Q\":0.0,\"tag\":\"left\",\"children_ids\":[186,91,101],\"N\":28,\"id\":329,\"tt_tag\":\"left\",\"type\":\"action\"},\"2\":{\"Q\":4.421206980612285,\"tag\":\"up\",\"children_ids\":[266,336,36,276],\"N\":212,\"id\":2,\"tt_tag\":\"up\",\"type\":\"action\"},\"89\":{\"Q\":0.0,\"tag\":\"left\",\"children_ids\":[71,121],\"N\":2,\"id\":89,\"tt_tag\":\"left\",\"type\":\"action\"},\"241\":{\"tag\":\"GridWorldState(9,4,false,false)\",\"children_ids\":[242,243,244,245],\"N\":57,\"id\":241,\"tt_tag\":\"GridWorldState(9,4,false,false)\",\"type\":\"state\"},\"197\":{\"Q\":2.7843969297268423,\"tag\":\"up\",\"children_ids\":[46,301,236,241],\"N\":19,\"id\":197,\"tt_tag\":\"up\",\"type\":\"action\"},\"136\":{\"tag\":\"GridWorldState(7,7,false,false)\",\"children_ids\":[137,138,139,140],\"N\":4,\"id\":136,\"tt_tag\":\"GridWorldState(7,7,false,false)\",\"type\":\"state\"},\"151\":{\"tag\":\"GridWorldState(3,5,false,false)\",\"children_ids\":[152,153,154,155],\"N\":3,\"id\":151,\"tt_tag\":\"GridWorldState(3,5,false,false)\",\"type\":\"state\"},\"144\":{\"Q\":-2.4435000000000002,\"tag\":\"left\",\"children_ids\":[176],\"N\":6,\"id\":144,\"tt_tag\":\"left\",\"type\":\"action\"},\"142\":{\"Q\":-0.26840454545454545,\"tag\":\"up\",\"children_ids\":[176,96],\"N\":11,\"id\":142,\"tt_tag\":\"up\",\"type\":\"action\"},\"342\":{\"Q\":0.0,\"tag\":\"up\",\"children_ids\":[16,126,226],\"N\":3,\"id\":342,\"tt_tag\":\"up\",\"type\":\"action\"},\"283\":{\"Q\":-0.9501065866130017,\"tag\":\"down\",\"children_ids\":[146,111,31,11],\"N\":52,\"id\":283,\"tt_tag\":\"down\",\"type\":\"action\"},\"78\":{\"Q\":0.0,\"tag\":\"down\",\"children_ids\":[],\"N\":0,\"id\":78,\"tt_tag\":\"down\",\"type\":\"action\"},\"159\":{\"Q\":3.589804390552354,\"tag\":\"left\",\"children_ids\":[36,276,291],\"N\":65,\"id\":159,\"tt_tag\":\"left\",\"type\":\"action\"},\"112\":{\"Q\":-3.903333870059307,\"tag\":\"up\",\"children_ids\":[266,346,56,281],\"N\":13,\"id\":112,\"tt_tag\":\"up\",\"type\":\"action\"},\"106\":{\"tag\":\"GridWorldState(10,3,false,false)\",\"children_ids\":[107,108,109,110],\"N\":107,\"id\":106,\"tt_tag\":\"GridWorldState(10,3,false,false)\",\"type\":\"state\"},\"121\":{\"tag\":\"GridWorldState(9,5,false,false)\",\"children_ids\":[122,123,124,125],\"N\":24,\"id\":121,\"tt_tag\":\"GridWorldState(9,5,false,false)\",\"type\":\"state\"},\"109\":{\"Q\":7.792090540540539,\"tag\":\"left\",\"children_ids\":[311,81,286],\"N\":74,\"id\":109,\"tt_tag\":\"left\",\"type\":\"action\"},\"182\":{\"Q\":-5.0,\"tag\":\"up\",\"children_ids\":[355],\"N\":1,\"id\":182,\"tt_tag\":\"up\",\"type\":\"action\"},\"26\":{\"tag\":\"GridWorldState(6,5,false,false)\",\"children_ids\":[27,28,29,30],\"N\":31,\"id\":26,\"tt_tag\":\"GridWorldState(6,5,false,false)\",\"type\":\"state\"},\"279\":{\"Q\":1.5747816305658118,\"tag\":\"left\",\"children_ids\":[1,156,211],\"N\":52,\"id\":279,\"tt_tag\":\"left\",\"type\":\"action\"},\"298\":{\"Q\":0.0,\"tag\":\"down\",\"children_ids\":[296],\"N\":18,\"id\":298,\"tt_tag\":\"down\",\"type\":\"action\"},\"138\":{\"Q\":0.0,\"tag\":\"down\",\"children_ids\":[126],\"N\":3,\"id\":138,\"tt_tag\":\"down\",\"type\":\"action\"},\"350\":{\"Q\":-2.5735028625,\"tag\":\"right\",\"children_ids\":[146,111,6],\"N\":16,\"id\":350,\"tt_tag\":\"right\",\"type\":\"action\"},\"4\":{\"Q\":1.8659364661154902,\"tag\":\"left\",\"children_ids\":[266,336,36,276],\"N\":37,\"id\":4,\"tt_tag\":\"left\",\"type\":\"action\"},\"292\":{\"Q\":5.766650937077563,\"tag\":\"up\",\"children_ids\":[331,156,296],\"N\":244,\"id\":292,\"tt_tag\":\"up\",\"type\":\"action\"},\"235\":{\"Q\":0.0,\"tag\":\"right\",\"children_ids\":[],\"N\":0,\"id\":235,\"tt_tag\":\"right\",\"type\":\"action\"},\"168\":{\"Q\":0.0,\"tag\":\"down\",\"children_ids\":[116],\"N\":1,\"id\":168,\"tt_tag\":\"down\",\"type\":\"action\"},\"94\":{\"Q\":-0.8492815911553948,\"tag\":\"left\",\"children_ids\":[306,326,41],\"N\":15,\"id\":94,\"tt_tag\":\"left\",\"type\":\"action\"},\"290\":{\"Q\":10.0,\"tag\":\"right\",\"children_ids\":[359],\"N\":258,\"id\":290,\"tt_tag\":\"right\",\"type\":\"action\"},\"115\":{\"Q\":1.5769151817077438,\"tag\":\"right\",\"children_ids\":[266,346,56,281],\"N\":152,\"id\":115,\"tt_tag\":\"right\",\"type\":\"action\"},\"54\":{\"Q\":0.0,\"tag\":\"left\",\"children_ids\":[],\"N\":0,\"id\":54,\"tt_tag\":\"left\",\"type\":\"action\"},\"40\":{\"Q\":6.425139048416979,\"tag\":\"right\",\"children_ids\":[301,1,331,156],\"N\":578,\"id\":40,\"tt_tag\":\"right\",\"type\":\"action\"},\"101\":{\"tag\":\"GridWorldState(1,1,false,false)\",\"children_ids\":[102,103,104,105],\"N\":68,\"id\":101,\"tt_tag\":\"GridWorldState(1,1,false,false)\",\"type\":\"state\"},\"211\":{\"tag\":\"GridWorldState(6,1,false,false)\",\"children_ids\":[212,213,214,215],\"N\":652,\"id\":211,\"tt_tag\":\"GridWorldState(6,1,false,false)\",\"type\":\"state\"},\"171\":{\"tag\":\"GridWorldState(9,8,false,false)\",\"children_ids\":[172,173,174,175],\"N\":0,\"id\":171,\"tt_tag\":\"GridWorldState(9,8,false,false)\",\"type\":\"state\"},\"359\":{\"tag\":\"GridWorldState(9,3,false,true)\",\"children_ids\":[],\"N\":0,\"id\":359,\"tt_tag\":\"GridWorldState(9,3,false,true)\",\"type\":\"state\"},\"337\":{\"Q\":0.3623651886824415,\"tag\":\"up\",\"children_ids\":[46,301,1,6],\"N\":20,\"id\":337,\"tt_tag\":\"up\",\"type\":\"action\"},\"60\":{\"Q\":2.032687589511388,\"tag\":\"right\",\"children_ids\":[111,31,211],\"N\":397,\"id\":60,\"tt_tag\":\"right\",\"type\":\"action\"},\"34\":{\"Q\":-0.469221080059657,\"tag\":\"left\",\"children_ids\":[186,56,281],\"N\":99,\"id\":34,\"tt_tag\":\"left\",\"type\":\"action\"},\"332\":{\"Q\":7.773052770430293,\"tag\":\"up\",\"children_ids\":[81,36,286,291],\"N\":667,\"id\":332,\"tt_tag\":\"up\",\"type\":\"action\"},\"334\":{\"Q\":-0.0857879717061038,\"tag\":\"left\",\"children_ids\":[81,36,291],\"N\":12,\"id\":334,\"tt_tag\":\"left\",\"type\":\"action\"},\"299\":{\"Q\":2.9891788027584547,\"tag\":\"left\",\"children_ids\":[81,291],\"N\":33,\"id\":299,\"tt_tag\":\"left\",\"type\":\"action\"},\"178\":{\"Q\":-9.0,\"tag\":\"down\",\"children_ids\":[146],\"N\":1,\"id\":178,\"tt_tag\":\"down\",\"type\":\"action\"},\"198\":{\"Q\":5.421173424837767,\"tag\":\"down\",\"children_ids\":[301,46,236,241],\"N\":69,\"id\":198,\"tt_tag\":\"down\",\"type\":\"action\"},\"238\":{\"Q\":0.0,\"tag\":\"down\",\"children_ids\":[71,121,196,221],\"N\":5,\"id\":238,\"tt_tag\":\"down\",\"type\":\"action\"},\"313\":{\"Q\":4.238334679256789,\"tag\":\"down\",\"children_ids\":[106,241,206],\"N\":15,\"id\":313,\"tt_tag\":\"down\",\"type\":\"action\"},\"272\":{\"Q\":0.0,\"tag\":\"up\",\"children_ids\":[21],\"N\":3,\"id\":272,\"tt_tag\":\"up\",\"type\":\"action\"},\"113\":{\"Q\":0.8130457010708468,\"tag\":\"down\",\"children_ids\":[266,346,56,281],\"N\":74,\"id\":113,\"tt_tag\":\"down\",\"type\":\"action\"},\"293\":{\"Q\":0.0,\"tag\":\"down\",\"children_ids\":[291],\"N\":19,\"id\":293,\"tt_tag\":\"down\",\"type\":\"action\"},\"295\":{\"Q\":2.7958005110481525,\"tag\":\"right\",\"children_ids\":[331,156,296],\"N\":40,\"id\":295,\"tt_tag\":\"right\",\"type\":\"action\"},\"12\":{\"Q\":-1.8114804540684366,\"tag\":\"up\",\"children_ids\":[186,191,91,281],\"N\":26,\"id\":12,\"tt_tag\":\"up\",\"type\":\"action\"},\"242\":{\"Q\":0.0,\"tag\":\"up\",\"children_ids\":[121],\"N\":5,\"id\":242,\"tt_tag\":\"up\",\"type\":\"action\"},\"343\":{\"Q\":0.0,\"tag\":\"down\",\"children_ids\":[16,26],\"N\":2,\"id\":343,\"tt_tag\":\"down\",\"type\":\"action\"},\"189\":{\"Q\":-0.5078886078417271,\"tag\":\"left\",\"children_ids\":[326,31,11],\"N\":55,\"id\":189,\"tt_tag\":\"left\",\"type\":\"action\"},\"246\":{\"tag\":\"GridWorldState(8,8,false,false)\",\"children_ids\":[247,248,249,250],\"N\":0,\"id\":246,\"tt_tag\":\"GridWorldState(8,8,false,false)\",\"type\":\"state\"},\"16\":{\"tag\":\"GridWorldState(5,6,false,false)\",\"children_ids\":[17,18,19,20],\"N\":7,\"id\":16,\"tt_tag\":\"GridWorldState(5,6,false,false)\",\"type\":\"state\"},\"297\":{\"Q\":4.86764072874507,\"tag\":\"up\",\"children_ids\":[81,291],\"N\":71,\"id\":297,\"tt_tag\":\"up\",\"type\":\"action\"},\"208\":{\"Q\":0.0,\"tag\":\"down\",\"children_ids\":[311,316],\"N\":6,\"id\":208,\"tt_tag\":\"down\",\"type\":\"action\"},\"274\":{\"Q\":0.0,\"tag\":\"left\",\"children_ids\":[271],\"N\":2,\"id\":274,\"tt_tag\":\"left\",\"type\":\"action\"},\"262\":{\"Q\":0.0,\"tag\":\"up\",\"children_ids\":[],\"N\":0,\"id\":262,\"tt_tag\":\"up\",\"type\":\"action\"},\"92\":{\"Q\":-0.6339284941764705,\"tag\":\"up\",\"children_ids\":[306,326,11],\"N\":17,\"id\":92,\"tt_tag\":\"up\",\"type\":\"action\"},\"72\":{\"Q\":0.0,\"tag\":\"up\",\"children_ids\":[126,321],\"N\":4,\"id\":72,\"tt_tag\":\"up\",\"type\":\"action\"},\"28\":{\"Q\":0.6561,\"tag\":\"down\",\"children_ids\":[221,161],\"N\":9,\"id\":28,\"tt_tag\":\"down\",\"type\":\"action\"},\"338\":{\"Q\":3.7017081844389215,\"tag\":\"down\",\"children_ids\":[301,1,46,6],\"N\":62,\"id\":338,\"tt_tag\":\"down\",\"type\":\"action\"},\"97\":{\"Q\":-2.6999999999999997,\"tag\":\"up\",\"children_ids\":[16,51],\"N\":3,\"id\":97,\"tt_tag\":\"up\",\"type\":\"action\"},\"68\":{\"Q\":0.0,\"tag\":\"down\",\"children_ids\":[],\"N\":0,\"id\":68,\"tt_tag\":\"down\",\"type\":\"action\"},\"124\":{\"Q\":0.0,\"tag\":\"left\",\"children_ids\":[236,86],\"N\":3,\"id\":124,\"tt_tag\":\"left\",\"type\":\"action\"},\"267\":{\"Q\":0.12254431117729354,\"tag\":\"up\",\"children_ids\":[111,1,6,211],\"N\":31,\"id\":267,\"tt_tag\":\"up\",\"type\":\"action\"},\"275\":{\"Q\":-1.4762250000000001,\"tag\":\"right\",\"children_ids\":[116],\"N\":2,\"id\":275,\"tt_tag\":\"right\",\"type\":\"action\"},\"39\":{\"Q\":2.097575605436399,\"tag\":\"left\",\"children_ids\":[301,1,331,156],\"N\":29,\"id\":39,\"tt_tag\":\"left\",\"type\":\"action\"},\"46\":{\"tag\":\"GridWorldState(7,4,false,false)\",\"children_ids\":[47,48,49,50],\"N\":128,\"id\":46,\"tt_tag\":\"GridWorldState(7,4,false,false)\",\"type\":\"state\"},\"85\":{\"Q\":0.0,\"tag\":\"right\",\"children_ids\":[81],\"N\":19,\"id\":85,\"tt_tag\":\"right\",\"type\":\"action\"},\"170\":{\"Q\":0.0,\"tag\":\"right\",\"children_ids\":[261],\"N\":1,\"id\":170,\"tt_tag\":\"right\",\"type\":\"action\"},\"25\":{\"Q\":0.0,\"tag\":\"right\",\"children_ids\":[],\"N\":0,\"id\":25,\"tt_tag\":\"right\",\"type\":\"action\"},\"42\":{\"Q\":-1.7061979313768212,\"tag\":\"up\",\"children_ids\":[251,101],\"N\":7,\"id\":42,\"tt_tag\":\"up\",\"type\":\"action\"},\"181\":{\"tag\":\"GridWorldState(4,6,false,false)\",\"children_ids\":[182,183,184,185],\"N\":1,\"id\":181,\"tt_tag\":\"GridWorldState(4,6,false,false)\",\"type\":\"state\"},\"58\":{\"Q\":0.0,\"tag\":\"down\",\"children_ids\":[56],\"N\":73,\"id\":58,\"tt_tag\":\"down\",\"type\":\"action\"},\"193\":{\"Q\":-3.2310957375750005,\"tag\":\"down\",\"children_ids\":[146,306,256,11],\"N\":12,\"id\":193,\"tt_tag\":\"down\",\"type\":\"action\"},\"59\":{\"Q\":0.8441356577445087,\"tag\":\"left\",\"children_ids\":[111,31,211],\"N\":118,\"id\":59,\"tt_tag\":\"left\",\"type\":\"action\"},\"8\":{\"Q\":0.6452371467,\"tag\":\"down\",\"children_ids\":[266,336,346,161],\"N\":27,\"id\":8,\"tt_tag\":\"down\",\"type\":\"action\"},\"333\":{\"Q\":1.3859541050000004,\"tag\":\"down\",\"children_ids\":[81,36,286,291],\"N\":18,\"id\":333,\"tt_tag\":\"down\",\"type\":\"action\"},\"356\":{\"tag\":\"GridWorldState(9,3,false,true)\",\"children_ids\":[],\"N\":0,\"id\":356,\"tt_tag\":\"GridWorldState(9,3,false,true)\",\"type\":\"state\"},\"199\":{\"Q\":0.0,\"tag\":\"left\",\"children_ids\":[46,301],\"N\":9,\"id\":199,\"tt_tag\":\"left\",\"type\":\"action\"},\"323\":{\"Q\":0.0,\"tag\":\"down\",\"children_ids\":[71],\"N\":2,\"id\":323,\"tt_tag\":\"down\",\"type\":\"action\"},\"254\":{\"Q\":0.0,\"tag\":\"left\",\"children_ids\":[251],\"N\":18,\"id\":254,\"tt_tag\":\"left\",\"type\":\"action\"},\"247\":{\"Q\":0.0,\"tag\":\"up\",\"children_ids\":[],\"N\":0,\"id\":247,\"tt_tag\":\"up\",\"type\":\"action\"},\"185\":{\"Q\":0.0,\"tag\":\"right\",\"children_ids\":[],\"N\":0,\"id\":185,\"tt_tag\":\"right\",\"type\":\"action\"},\"20\":{\"Q\":0.0,\"tag\":\"right\",\"children_ids\":[341],\"N\":2,\"id\":20,\"tt_tag\":\"right\",\"type\":\"action\"},\"194\":{\"Q\":0.0,\"tag\":\"left\",\"children_ids\":[306,256,11],\"N\":14,\"id\":194,\"tt_tag\":\"left\",\"type\":\"action\"},\"52\":{\"Q\":-4.5,\"tag\":\"up\",\"children_ids\":[181],\"N\":1,\"id\":52,\"tt_tag\":\"up\",\"type\":\"action\"},\"18\":{\"Q\":0.0,\"tag\":\"down\",\"children_ids\":[96],\"N\":2,\"id\":18,\"tt_tag\":\"down\",\"type\":\"action\"},\"233\":{\"Q\":0.0,\"tag\":\"down\",\"children_ids\":[],\"N\":0,\"id\":233,\"tt_tag\":\"down\",\"type\":\"action\"},\"266\":{\"tag\":\"GridWorldState(6,2,false,false)\",\"children_ids\":[267,268,269,270],\"N\":377,\"id\":266,\"tt_tag\":\"GridWorldState(6,2,false,false)\",\"type\":\"state\"},\"234\":{\"Q\":0.0,\"tag\":\"left\",\"children_ids\":[],\"N\":0,\"id\":234,\"tt_tag\":\"left\",\"type\":\"action\"},\"69\":{\"Q\":0.0,\"tag\":\"left\",\"children_ids\":[],\"N\":0,\"id\":69,\"tt_tag\":\"left\",\"type\":\"action\"},\"232\":{\"Q\":0.0,\"tag\":\"up\",\"children_ids\":[],\"N\":0,\"id\":232,\"tt_tag\":\"up\",\"type\":\"action\"},\"355\":{\"tag\":\"GridWorldState(4,6,false,true)\",\"children_ids\":[],\"N\":0,\"id\":355,\"tt_tag\":\"GridWorldState(4,6,false,true)\",\"type\":\"state\"},\"219\":{\"Q\":0.0,\"tag\":\"left\",\"children_ids\":[],\"N\":0,\"id\":219,\"tt_tag\":\"left\",\"type\":\"action\"},\"223\":{\"Q\":2.2909553999999996,\"tag\":\"down\",\"children_ids\":[46,26,126],\"N\":18,\"id\":223,\"tt_tag\":\"down\",\"type\":\"action\"},\"166\":{\"tag\":\"GridWorldState(2,5,false,false)\",\"children_ids\":[167,168,169,170],\"N\":4,\"id\":166,\"tt_tag\":\"GridWorldState(2,5,false,false)\",\"type\":\"state\"},\"278\":{\"Q\":0.0,\"tag\":\"down\",\"children_ids\":[276],\"N\":34,\"id\":278,\"tt_tag\":\"down\",\"type\":\"action\"},\"187\":{\"Q\":-0.7570224854930845,\"tag\":\"up\",\"children_ids\":[326,31,11],\"N\":48,\"id\":187,\"tt_tag\":\"up\",\"type\":\"action\"},\"35\":{\"Q\":1.1330194320298352,\"tag\":\"right\",\"children_ids\":[186,56,281],\"N\":411,\"id\":35,\"tt_tag\":\"right\",\"type\":\"action\"},\"83\":{\"Q\":1.921636653923077,\"tag\":\"down\",\"children_ids\":[106,296],\"N\":13,\"id\":83,\"tt_tag\":\"down\",\"type\":\"action\"},\"336\":{\"tag\":\"GridWorldState(7,3,false,false)\",\"children_ids\":[337,338,339,340],\"N\":604,\"id\":336,\"tt_tag\":\"GridWorldState(7,3,false,false)\",\"type\":\"state\"},\"351\":{\"tag\":\"GridWorldState(4,3,false,true)\",\"children_ids\":[],\"N\":0,\"id\":351,\"tt_tag\":\"GridWorldState(4,3,false,true)\",\"type\":\"state\"},\"64\":{\"Q\":0.0,\"tag\":\"left\",\"children_ids\":[],\"N\":0,\"id\":64,\"tt_tag\":\"left\",\"type\":\"action\"},\"286\":{\"tag\":\"GridWorldState(9,3,false,false)\",\"children_ids\":[287,288,289,290],\"N\":1033,\"id\":286,\"tt_tag\":\"GridWorldState(9,3,false,false)\",\"type\":\"state\"},\"257\":{\"Q\":-0.5978711250000002,\"tag\":\"up\",\"children_ids\":[151,116],\"N\":4,\"id\":257,\"tt_tag\":\"up\",\"type\":\"action\"},\"220\":{\"Q\":0.0,\"tag\":\"right\",\"children_ids\":[],\"N\":0,\"id\":220,\"tt_tag\":\"right\",\"type\":\"action\"},\"145\":{\"Q\":-0.4169622272727273,\"tag\":\"right\",\"children_ids\":[176,161,96],\"N\":11,\"id\":145,\"tt_tag\":\"right\",\"type\":\"action\"},\"259\":{\"Q\":0.0,\"tag\":\"left\",\"children_ids\":[116,191],\"N\":4,\"id\":259,\"tt_tag\":\"left\",\"type\":\"action\"},\"263\":{\"Q\":0.0,\"tag\":\"down\",\"children_ids\":[],\"N\":0,\"id\":263,\"tt_tag\":\"down\",\"type\":\"action\"},\"45\":{\"Q\":0.0,\"tag\":\"right\",\"children_ids\":[91,251,101],\"N\":10,\"id\":45,\"tt_tag\":\"right\",\"type\":\"action\"},\"357\":{\"tag\":\"GridWorldState(9,3,false,true)\",\"children_ids\":[],\"N\":0,\"id\":357,\"tt_tag\":\"GridWorldState(9,3,false,true)\",\"type\":\"state\"},\"346\":{\"tag\":\"GridWorldState(5,3,false,false)\",\"children_ids\":[347,348,349,350],\"N\":70,\"id\":346,\"tt_tag\":\"GridWorldState(5,3,false,false)\",\"type\":\"state\"},\"86\":{\"tag\":\"GridWorldState(9,6,false,false)\",\"children_ids\":[87,88,89,90],\"N\":14,\"id\":86,\"tt_tag\":\"GridWorldState(9,6,false,false)\",\"type\":\"state\"},\"67\":{\"Q\":0.0,\"tag\":\"up\",\"children_ids\":[],\"N\":0,\"id\":67,\"tt_tag\":\"up\",\"type\":\"action\"},\"126\":{\"tag\":\"GridWorldState(7,6,false,false)\",\"children_ids\":[127,128,129,130],\"N\":19,\"id\":126,\"tt_tag\":\"GridWorldState(7,6,false,false)\",\"type\":\"state\"},\"206\":{\"tag\":\"GridWorldState(10,5,false,false)\",\"children_ids\":[207,208,209,210],\"N\":27,\"id\":206,\"tt_tag\":\"GridWorldState(10,5,false,false)\",\"type\":\"state\"},\"32\":{\"Q\":-1.9248085356922076,\"tag\":\"up\",\"children_ids\":[186,56,281],\"N\":41,\"id\":32,\"tt_tag\":\"up\",\"type\":\"action\"},\"229\":{\"Q\":0.0,\"tag\":\"left\",\"children_ids\":[],\"N\":0,\"id\":229,\"tt_tag\":\"left\",\"type\":\"action\"},\"316\":{\"tag\":\"GridWorldState(10,6,false,false)\",\"children_ids\":[317,318,319,320],\"N\":10,\"id\":316,\"tt_tag\":\"GridWorldState(10,6,false,false)\",\"type\":\"state\"},\"190\":{\"Q\":0.17079353717915177,\"tag\":\"right\",\"children_ids\":[326,31,11],\"N\":72,\"id\":190,\"tt_tag\":\"right\",\"type\":\"action\"},\"303\":{\"Q\":4.844355632829901,\"tag\":\"down\",\"children_ids\":[196,336,36,286],\"N\":46,\"id\":303,\"tt_tag\":\"down\",\"type\":\"action\"},\"82\":{\"Q\":6.197001833971699,\"tag\":\"up\",\"children_ids\":[106,331,296],\"N\":106,\"id\":82,\"tt_tag\":\"up\",\"type\":\"action\"},\"7\":{\"Q\":1.2265859789098998,\"tag\":\"up\",\"children_ids\":[266,336,346,161],\"N\":35,\"id\":7,\"tt_tag\":\"up\",\"type\":\"action\"},\"75\":{\"Q\":0.81,\"tag\":\"right\",\"children_ids\":[126,86,321],\"N\":3,\"id\":75,\"tt_tag\":\"right\",\"type\":\"action\"},\"228\":{\"Q\":0.0,\"tag\":\"down\",\"children_ids\":[],\"N\":0,\"id\":228,\"tt_tag\":\"down\",\"type\":\"action\"},\"87\":{\"Q\":0.0,\"tag\":\"up\",\"children_ids\":[216],\"N\":3,\"id\":87,\"tt_tag\":\"up\",\"type\":\"action\"},\"237\":{\"Q\":0.0,\"tag\":\"up\",\"children_ids\":[71],\"N\":5,\"id\":237,\"tt_tag\":\"up\",\"type\":\"action\"},\"179\":{\"Q\":0.0,\"tag\":\"left\",\"children_ids\":[141,256],\"N\":5,\"id\":179,\"tt_tag\":\"left\",\"type\":\"action\"},\"3\":{\"Q\":1.6530248241241985,\"tag\":\"down\",\"children_ids\":[266,336,276,36],\"N\":36,\"id\":3,\"tt_tag\":\"down\",\"type\":\"action\"},\"61\":{\"tag\":\"GridWorldState(1,6,false,false)\",\"children_ids\":[62,63,64,65],\"N\":0,\"id\":61,\"tt_tag\":\"GridWorldState(1,6,false,false)\",\"type\":\"state\"},\"325\":{\"Q\":0.0,\"tag\":\"right\",\"children_ids\":[216],\"N\":1,\"id\":325,\"tt_tag\":\"right\",\"type\":\"action\"},\"347\":{\"Q\":-2.998525988404013,\"tag\":\"up\",\"children_ids\":[111,146,6,141],\"N\":12,\"id\":347,\"tt_tag\":\"up\",\"type\":\"action\"},\"330\":{\"Q\":0.0,\"tag\":\"right\",\"children_ids\":[186,91,101],\"N\":29,\"id\":330,\"tt_tag\":\"right\",\"type\":\"action\"},\"36\":{\"tag\":\"GridWorldState(8,2,false,false)\",\"children_ids\":[37,38,39,40],\"N\":696,\"id\":36,\"tt_tag\":\"GridWorldState(8,2,false,false)\",\"type\":\"state\"},\"340\":{\"Q\":5.761684766427919,\"tag\":\"right\",\"children_ids\":[301,46,1,6],\"N\":507,\"id\":340,\"tt_tag\":\"right\",\"type\":\"action\"},\"98\":{\"Q\":-0.8201250000000001,\"tag\":\"down\",\"children_ids\":[16,51,26,141],\"N\":4,\"id\":98,\"tt_tag\":\"down\",\"type\":\"action\"},\"304\":{\"Q\":3.782027175262083,\"tag\":\"left\",\"children_ids\":[196,336,36,286],\"N\":30,\"id\":304,\"tt_tag\":\"left\",\"type\":\"action\"},\"174\":{\"Q\":0.0,\"tag\":\"left\",\"children_ids\":[],\"N\":0,\"id\":174,\"tt_tag\":\"left\",\"type\":\"action\"},\"319\":{\"Q\":0.0,\"tag\":\"left\",\"children_ids\":[86],\"N\":1,\"id\":319,\"tt_tag\":\"left\",\"type\":\"action\"},\"161\":{\"tag\":\"GridWorldState(6,4,false,false)\",\"children_ids\":[162,163,164,165],\"N\":77,\"id\":161,\"tt_tag\":\"GridWorldState(6,4,false,false)\",\"type\":\"state\"},\"341\":{\"tag\":\"GridWorldState(6,6,false,false)\",\"children_ids\":[342,343,344,345],\"N\":9,\"id\":341,\"tt_tag\":\"GridWorldState(6,6,false,false)\",\"type\":\"state\"},\"186\":{\"tag\":\"GridWorldState(3,1,false,false)\",\"children_ids\":[187,188,189,190],\"N\":254,\"id\":186,\"tt_tag\":\"GridWorldState(3,1,false,false)\",\"type\":\"state\"},\"321\":{\"tag\":\"GridWorldState(8,7,false,false)\",\"children_ids\":[322,323,324,325],\"N\":5,\"id\":321,\"tt_tag\":\"GridWorldState(8,7,false,false)\",\"type\":\"state\"},\"22\":{\"Q\":0.0,\"tag\":\"up\",\"children_ids\":[61],\"N\":1,\"id\":22,\"tt_tag\":\"up\",\"type\":\"action\"},\"6\":{\"tag\":\"GridWorldState(6,3,false,false)\",\"children_ids\":[7,8,9,10],\"N\":170,\"id\":6,\"tt_tag\":\"GridWorldState(6,3,false,false)\",\"type\":\"state\"},\"24\":{\"Q\":0.0,\"tag\":\"left\",\"children_ids\":[21],\"N\":7,\"id\":24,\"tt_tag\":\"left\",\"type\":\"action\"},\"73\":{\"Q\":0.0,\"tag\":\"down\",\"children_ids\":[236,126,321],\"N\":4,\"id\":73,\"tt_tag\":\"down\",\"type\":\"action\"},\"119\":{\"Q\":-1.64025,\"tag\":\"left\",\"children_ids\":[271,166],\"N\":2,\"id\":119,\"tt_tag\":\"left\",\"type\":\"action\"},\"156\":{\"tag\":\"GridWorldState(8,1,false,false)\",\"children_ids\":[157,158,159,160],\"N\":428,\"id\":156,\"tt_tag\":\"GridWorldState(8,1,false,false)\",\"type\":\"state\"},\"222\":{\"Q\":0.8452261467000001,\"tag\":\"up\",\"children_ids\":[46,236,126,26],\"N\":9,\"id\":222,\"tt_tag\":\"up\",\"type\":\"action\"},\"53\":{\"Q\":0.0,\"tag\":\"down\",\"children_ids\":[176],\"N\":2,\"id\":53,\"tt_tag\":\"down\",\"type\":\"action\"},\"116\":{\"tag\":\"GridWorldState(2,4,false,false)\",\"children_ids\":[117,118,119,120],\"N\":11,\"id\":116,\"tt_tag\":\"GridWorldState(2,4,false,false)\",\"type\":\"state\"},\"271\":{\"tag\":\"GridWorldState(1,4,false,false)\",\"children_ids\":[272,273,274,275],\"N\":9,\"id\":271,\"tt_tag\":\"GridWorldState(1,4,false,false)\",\"type\":\"state\"},\"23\":{\"Q\":0.0,\"tag\":\"down\",\"children_ids\":[271],\"N\":1,\"id\":23,\"tt_tag\":\"down\",\"type\":\"action\"},\"305\":{\"Q\":7.711318322900957,\"tag\":\"right\",\"children_ids\":[196,336,36,286],\"N\":604,\"id\":305,\"tt_tag\":\"right\",\"type\":\"action\"},\"315\":{\"Q\":0.0,\"tag\":\"right\",\"children_ids\":[311],\"N\":12,\"id\":315,\"tt_tag\":\"right\",\"type\":\"action\"},\"322\":{\"Q\":2.7,\"tag\":\"up\",\"children_ids\":[246],\"N\":1,\"id\":322,\"tt_tag\":\"up\",\"type\":\"action\"},\"349\":{\"Q\":-8.5725,\"tag\":\"left\",\"children_ids\":[111,146],\"N\":4,\"id\":349,\"tt_tag\":\"left\",\"type\":\"action\"},\"27\":{\"Q\":0.0,\"tag\":\"up\",\"children_ids\":[341,221,161,96],\"N\":9,\"id\":27,\"tt_tag\":\"up\",\"type\":\"action\"},\"218\":{\"Q\":0.0,\"tag\":\"down\",\"children_ids\":[],\"N\":0,\"id\":218,\"tt_tag\":\"down\",\"type\":\"action\"},\"56\":{\"tag\":\"GridWorldState(5,1,false,false)\",\"children_ids\":[57,58,59,60],\"N\":679,\"id\":56,\"tt_tag\":\"GridWorldState(5,1,false,false)\",\"type\":\"state\"}};\n",
       "        var rootID = 31;\n",
       "        var div = \"treevis9UFxhzy4\";\n",
       "        \n",
       "if (typeof $ === 'undefined') {\n",
       "    loadScript(\"https://code.jquery.com/jquery-3.1.1.min.js\", run)\n",
       "} else {\n",
       "    run()\n",
       "}\n",
       "\n",
       "function run() {\n",
       "    if (typeof d3 === 'undefined') {\n",
       "        loadScript(\"https://d3js.org/d3.v3.js\", showTree)\n",
       "    } else {\n",
       "        showTree()\n",
       "    }\n",
       "}\n",
       "\n",
       "function loadScript(url, callback)\n",
       "{\n",
       "    console.log(\"starting script load...\")\n",
       "    // Adding the script tag to the head as suggested before\n",
       "    var head = document.getElementsByTagName('head')[0];\n",
       "    var script = document.createElement('script');\n",
       "    script.type = 'text/javascript';\n",
       "    script.src = url;\n",
       "\n",
       "    // Then bind the event to the callback function.\n",
       "    // There are several events for cross browser compatibility.\n",
       "    script.onreadystatechange = callback;\n",
       "    script.onload = callback;\n",
       "\n",
       "    // Fire the loading\n",
       "    head.appendChild(script);\n",
       "}\n",
       "\n",
       "\n",
       "function showTree() {\n",
       "        \n",
       "    // var margin = {top: 20, right: 120, bottom: 20, left: 120},\n",
       "    var margin = {top: 20, right: 120, bottom: 80, left: 120},\n",
       "        width = $(\"#\"+div).width() - margin.right - margin.left,\n",
       "        height = 600 - margin.top - margin.bottom;\n",
       "        // height = 600 - margin.top - margin.bottom;\n",
       "        // TODO make height a parameter of TreeVisualizer\n",
       "\n",
       "    var i = 0,\n",
       "        duration = 750,\n",
       "        root;\n",
       "\n",
       "    var tree = d3.layout.tree()\n",
       "        .size([width, height]);\n",
       "\n",
       "    var diagonal = d3.svg.diagonal();\n",
       "        //.projection(function(d) { return [d.y, d.x]; });\n",
       "        // uncomment above to make the tree go horizontally\n",
       "\n",
       "    // see http://stackoverflow.com/questions/16265123/resize-svg-when-window-is-resized-in-d3-js\n",
       "    if (d3.select(\"#\"+div+\"_svg\").empty()) {\n",
       "        d3.select(\"#\"+div).append(\"svg\")\n",
       "            .attr(\"id\", div+\"_svg\")\n",
       "            .attr(\"width\", width + margin.right + margin.left)\n",
       "            .attr(\"height\", height + margin.top + margin.bottom);\n",
       "            /*\n",
       "            .append(\"div\")\n",
       "            .classed(\"svg-container\", true)\n",
       "            .append(\"svg\")\n",
       "                .attr(\"id\", div+\"_svg\")\n",
       "                .attr(\"preserveAspectRatio\", \"xMinYMin meet\")\n",
       "                .attr(\"viewBox\", \"0 0 \"+width+\" \"+height)\n",
       "                .classed(\"svg-content-responsive\", true);\n",
       "                */\n",
       "    }\n",
       "\n",
       "    d3.select(\"#\"+div+\"_svg\").selectAll(\"*\").remove();\n",
       "\n",
       "    var svg = d3.select(\"#\"+div+\"_svg\")\n",
       "        .append(\"g\")\n",
       "            .attr(\"transform\", \"translate(\" + margin.left + \",\" + margin.top + \")\");\n",
       "\n",
       "    // console.log(\"tree data:\");\n",
       "    // console.log(treeData[rootID]);\n",
       "    root = createDisplayNode(treeData[rootID]);\n",
       "    root.x0 = width / 2;\n",
       "    root.y0 = 0;\n",
       "\n",
       "    // find maxima and minima for \n",
       "    var maxQ = 0.0;\n",
       "    var minQ = 0.0;\n",
       "    var maxN = 0;\n",
       "    for (var id in treeData) {\n",
       "      data = treeData[id];\n",
       "      if (data.type==\"action\") {\n",
       "        if (data.Q > maxQ) {\n",
       "          maxQ = data.Q\n",
       "        } else if (data.Q < minQ) {\n",
       "          minQ = data.Q\n",
       "        }\n",
       "        if (data.N > maxN) {\n",
       "          maxN = data.N\n",
       "        }\n",
       "      }\n",
       "    }\n",
       "    // console.log(\"maxN: \" + maxN)\n",
       "\n",
       "    update(root);\n",
       "    console.log(\"tree should appear\");\n",
       "\n",
       "    function createDisplayNode(nd) {\n",
       "      var dnode = {\"dataID\":nd.id,\n",
       "                   \"children\":null,\n",
       "                   \"_children\":null};\n",
       "      if (nd.type==\"action\") {\n",
       "          dnode.Q = nd.Q;\n",
       "      }\n",
       "      return dnode;\n",
       "    }\n",
       "\n",
       "    function initializeChildren(d) {\n",
       "      // create children\n",
       "      var ndata = treeData[d.dataID];\n",
       "      d.children = [];\n",
       "      if (ndata.children_ids) {\n",
       "        for (var i = 0; i < ndata.children_ids.length; i++) {\n",
       "          var id = ndata.children_ids[i];\n",
       "          if (!treeData[id]) {\n",
       "            alert(\"bad node id:\"+id+\" (in node \"+d.dataID+\")\")\n",
       "          } else {\n",
       "              d.children.push(createDisplayNode(treeData[id]));\n",
       "          }\n",
       "        }\n",
       "      }\n",
       "    }\n",
       "\n",
       "    function tooltip(d) {\n",
       "        var data = treeData[d.dataID]\n",
       "        var tt = data.tt_tag + \"\\n\" +\n",
       "        \"id: \" + data.id + \"\\n\" +\n",
       "        \"N: \" + data.N;\n",
       "        if (data.type==\"action\") {\n",
       "            tt += \"\\nQ: \" + data.Q;\n",
       "        }\n",
       "        return tt;\n",
       "    }\n",
       "    /*\n",
       "    function collapse(d) {\n",
       "        if (\"children\" in d && d.children) {\n",
       "            d._children = d.children;\n",
       "            d._children.forEach(collapse);\n",
       "            d.children = null;\n",
       "        }\n",
       "    }\n",
       "    */\n",
       "\n",
       "    function update(source) {\n",
       "\n",
       "      width = $(\"#\"+div).width() - margin.right - margin.left,\n",
       "      height = $(\"#\"+div).height() - margin.top - margin.bottom;\n",
       "\n",
       "      tree.size([width,height]);\n",
       "      d3.select(\"#\"+div).attr(\"width\", width + margin.right + margin.left)\n",
       "            .attr(\"height\", height + margin.top + margin.bottom);\n",
       "      d3.select(\"#\"+div+\"_svg\").attr(\"width\", width + margin.right + margin.left)\n",
       "             .attr(\"height\", height + margin.top + margin.bottom);\n",
       "\n",
       "\n",
       "      // Compute the new tree layout.\n",
       "      var nodes = tree.nodes(root).reverse(),\n",
       "          links = tree.links(nodes);\n",
       "\n",
       "      // Normalize for fixed-depth.\n",
       "      // nodes.forEach(function(d) { d.y = d.depth * 180; });\n",
       "\n",
       "      /*\n",
       "      var newHeight = height;\n",
       "      nodes.forEach(function(d) { if (d.y > newHeight) {newHeight = d.y;} });\n",
       "      svg.attr(\"height\", height + margin.top + margin.bottom);\n",
       "      */\n",
       "\n",
       "      // Update the nodes…\n",
       "      var node = svg.selectAll(\"g.node\")\n",
       "          .data(nodes, function(d) { return d.id || (d.id = ++i); });\n",
       "\n",
       "      // Enter any new nodes at the parent's previous position.\n",
       "      var nodeEnter = node.enter().append(\"g\")\n",
       "          .attr(\"class\", \"node\")\n",
       "          .attr(\"transform\", function(d) { return \"translate(\" + source.x0 + \",\" + source.y0 + \")\"; })\n",
       "          .on(\"click\", click);\n",
       "\n",
       "      nodeEnter.append(\"circle\")\n",
       "          .attr(\"r\", 1e-6)\n",
       "          .style(\"fill\", function(d) { return d._children ? \"lightsteelblue\" : \"#fff\"; });\n",
       "\n",
       "      /*\n",
       "      nodeEnter.append(\"text\")\n",
       "          .attr(\"x\", function(d) { return d.children || d._children ? -13 : 13; })\n",
       "          .attr(\"dy\", \".35em\")\n",
       "          .attr(\"text-anchor\", function(d) { return d.children || d._children ? \"end\" : \"start\"; })\n",
       "          .text(function(d) { return d.tag; })\n",
       "          .style(\"fill-opacity\", 1e-6);\n",
       "          */\n",
       "\n",
       "      /*\n",
       "      nodeEnter.append(\"text\")\n",
       "          .attr(\"y\", 25)\n",
       "          .attr(\"text-anchor\", \"middle\")\n",
       "          .text(function(d) { return d.tag + \" N: \" + d.N + (d.type==\"action\"? \" Q: \" + d.Q.toPrecision(4):\"\"); })\n",
       "          .style(\"fill-opacity\", 1e-6);\n",
       "          */\n",
       "      var tbox = nodeEnter.append(\"text\")\n",
       "          .attr(\"y\", 25)\n",
       "          .attr(\"text-anchor\", \"middle\")\n",
       "          .style(\"fill-opacity\", 1e-6);\n",
       "\n",
       "      tbox.append(\"tspan\")\n",
       "          .text( function(d) { return treeData[d.dataID].tag; } );\n",
       "\n",
       "      tbox.append(\"tspan\")\n",
       "          .attr(\"dy\",\"1.2em\")\n",
       "          .attr(\"x\",0)\n",
       "          .text( function(d) {return \"N:\" + treeData[d.dataID].N;} );\n",
       "\n",
       "      tbox.append(\"tspan\")\n",
       "          .attr(\"dy\",\"1.2em\")\n",
       "          .attr(\"x\",0)\n",
       "          .text( function(d) { if (treeData[d.dataID].type==\"action\") {return \" Q:\" + treeData[d.dataID].Q.toPrecision(4);}});\n",
       "\n",
       "      // tooltip\n",
       "      nodeEnter.append(\"title\").text(tooltip)\n",
       "\n",
       "\n",
       "      // Transition nodes to their new position.\n",
       "      var nodeUpdate = node.transition()\n",
       "          .duration(duration)\n",
       "          .attr(\"transform\", function(d) { return \"translate(\" + d.x + \",\" + d.y + \")\"; });\n",
       "\n",
       "      nodeUpdate.select(\"circle\")\n",
       "          .attr(\"r\", 10)\n",
       "          .style(\"fill\", function(d) { return d._children ? \"lightsteelblue\" : \"#fff\"; });\n",
       "\n",
       "      nodeUpdate.select(\"text\")\n",
       "          .style(\"fill-opacity\", 1);\n",
       "\n",
       "      // Transition exiting nodes to the parent's new position.\n",
       "      var nodeExit = node.exit().transition()\n",
       "          .duration(duration)\n",
       "          .attr(\"transform\", function(d) { return \"translate(\" + source.x + \",\" + source.y + \")\"; })\n",
       "          .remove();\n",
       "\n",
       "      nodeExit.select(\"circle\")\n",
       "          .attr(\"r\", 1e-6);\n",
       "\n",
       "      nodeExit.select(\"text\")\n",
       "          .style(\"fill-opacity\", 1e-6);\n",
       "\n",
       "      // Update the links…\n",
       "      var link = svg.selectAll(\"path.link\")\n",
       "          .data(links, function(d) { return d.target.id; });\n",
       "\n",
       "      // Enter any new links at the parent's previous position.\n",
       "      // XXX link width should be based on transition data, not node data\n",
       "      link.enter().insert(\"path\", \"g\")\n",
       "          .attr(\"class\", \"link\")\n",
       "          .style(\"stroke-width\", function(d) {\n",
       "              return 10.0*Math.log(treeData[d.target.dataID].N+2)/Math.log(maxN) + \"px\";})\n",
       "          .attr(\"d\", function(d) {\n",
       "            var o = {x: source.x0, y: source.y0};\n",
       "            return diagonal({source: o, target: o});\n",
       "          });\n",
       "\n",
       "      // Transition links to their new position.\n",
       "      link.transition()\n",
       "          .duration(duration)\n",
       "          .attr(\"d\", diagonal);\n",
       "\n",
       "      // Transition exiting nodes to the parent's new position.\n",
       "      link.exit().transition()\n",
       "          .duration(duration)\n",
       "          .attr(\"d\", function(d) {\n",
       "            var o = {x: source.x, y: source.y};\n",
       "            return diagonal({source: o, target: o});\n",
       "          })\n",
       "          .remove();\n",
       "\n",
       "      // Stash the old positions for transition.\n",
       "      nodes.forEach(function(d) {\n",
       "        d.x0 = d.x;\n",
       "        d.y0 = d.y;\n",
       "      });\n",
       "    }\n",
       "\n",
       "    // Toggle children on click.\n",
       "    function click(d) {\n",
       "      // console.log(\"clicked\");\n",
       "      if (d.children) {\n",
       "        d._children = d.children;\n",
       "        d.children = null;\n",
       "      } else if (d._children) {\n",
       "        d.children = d._children;\n",
       "        d._children = null;\n",
       "      } else {\n",
       "        initializeChildren(d);\n",
       "      }\n",
       "      update(d);\n",
       "    }\n",
       "\n",
       "}\n",
       "\n",
       "        })();\n",
       "    </script>\n",
       "    </div>\n",
       "    </body>\n",
       "    </html>\n",
       "\n"
      ],
      "text/plain": [
       "MCTS.TreeVisualizer{MCTS.MCTSPolicy{GridWorldState,Symbol}}(MCTS.MCTSPolicy{GridWorldState,Symbol}(MCTS.MCTSSolver(100,20,10.0,MersenneTwister(UInt32[0x00000000],Base.dSFMT.DSFMT_state(Int32[1047998060,1072938600,1825482417,1073602635,269512111,1073306799,-1035132098,1073389638,-552979537,1072748844  …  -1773535202,1073328201,872748085,1073204937,-1668464572,-767511175,1702458000,244722981,382,0]),[1.23399,1.86726,1.58513,1.66413,1.05302,1.17846,1.07294,1.08979,1.26932,1.68679  …  1.4412,1.884,1.66964,1.11931,1.57142,1.87767,1.54759,1.14793,1.60554,1.48798],374),MCTS.RolloutEstimator(POMDPToolbox.RandomSolver(MersenneTwister(UInt32[0x00000000],Base.dSFMT.DSFMT_state(Int32[1047998060,1072938600,1825482417,1073602635,269512111,1073306799,-1035132098,1073389638,-552979537,1072748844  …  -1773535202,1073328201,872748085,1073204937,-1668464572,-767511175,1702458000,244722981,382,0]),[1.23399,1.86726,1.58513,1.66413,1.05302,1.17846,1.07294,1.08979,1.26932,1.68679  …  1.4412,1.884,1.66964,1.11931,1.57142,1.87767,1.54759,1.14793,1.60554,1.48798],374))),0.0,0,true),GridWorld(10,10,GridWorldState[GridWorldState(4,3,false,false),GridWorldState(4,6,false,false),GridWorldState(9,3,false,false),GridWorldState(8,8,false,false)],[-10.0,-5.0,10.0,3.0],-1.0,0.7,0.9),MCTS.SolvedRolloutEstimator(POMDPToolbox.RandomPolicy(MersenneTwister(UInt32[0x00000000],Base.dSFMT.DSFMT_state(Int32[1047998060,1072938600,1825482417,1073602635,269512111,1073306799,-1035132098,1073389638,-552979537,1072748844  …  -1773535202,1073328201,872748085,1073204937,-1668464572,-767511175,1702458000,244722981,382,0]),[1.23399,1.86726,1.58513,1.66413,1.05302,1.17846,1.07294,1.08979,1.26932,1.68679  …  1.4412,1.884,1.66964,1.11931,1.57142,1.87767,1.54759,1.14793,1.60554,1.48798],374),GridWorld(10,10,GridWorldState[GridWorldState(4,3,false,false),GridWorldState(4,6,false,false),GridWorldState(9,3,false,false),GridWorldState(8,8,false,false)],[-10.0,-5.0,10.0,3.0],-1.0,0.7,0.9),POMDPToolbox.VoidUpdater()),MersenneTwister(UInt32[0x00000000],Base.dSFMT.DSFMT_state(Int32[1047998060,1072938600,1825482417,1073602635,269512111,1073306799,-1035132098,1073389638,-552979537,1072748844  …  -1773535202,1073328201,872748085,1073204937,-1668464572,-767511175,1702458000,244722981,382,0]),[1.23399,1.86726,1.58513,1.66413,1.05302,1.17846,1.07294,1.08979,1.26932,1.68679  …  1.4412,1.884,1.66964,1.11931,1.57142,1.87767,1.54759,1.14793,1.60554,1.48798],374)),Dict(GridWorldState(7,2,false,false)=>MCTS.StateNode{Symbol}(708,MCTS.StateActionNode{Symbol}[MCTS.StateActionNode{Symbol}(:up,212,4.42121,Set(Any[GridWorldState(6,2,false,false),GridWorldState(7,3,false,false),GridWorldState(8,2,false,false),GridWorldState(7,1,false,false)])),MCTS.StateActionNode{Symbol}(:down,36,1.65302,Set(Any[GridWorldState(6,2,false,false),GridWorldState(7,3,false,false),GridWorldState(7,1,false,false),GridWorldState(8,2,false,false)])),MCTS.StateActionNode{Symbol}(:left,37,1.86594,Set(Any[GridWorldState(6,2,false,false),GridWorldState(7,3,false,false),GridWorldState(8,2,false,false),GridWorldState(7,1,false,false)])),MCTS.StateActionNode{Symbol}(:right,423,4.91089,Set(Any[GridWorldState(6,2,false,false),GridWorldState(7,3,false,false),GridWorldState(7,1,false,false),GridWorldState(8,2,false,false)]))]),GridWorldState(6,3,false,false)=>MCTS.StateNode{Symbol}(170,MCTS.StateActionNode{Symbol}[MCTS.StateActionNode{Symbol}(:up,35,1.22659,Set(Any[GridWorldState(6,2,false,false),GridWorldState(7,3,false,false),GridWorldState(5,3,false,false),GridWorldState(6,4,false,false)])),MCTS.StateActionNode{Symbol}(:down,27,0.645237,Set(Any[GridWorldState(6,2,false,false),GridWorldState(7,3,false,false),GridWorldState(5,3,false,false),GridWorldState(6,4,false,false)])),MCTS.StateActionNode{Symbol}(:left,12,-2.6674,Set(Any[GridWorldState(7,3,false,false),GridWorldState(5,3,false,false),GridWorldState(6,4,false,false)])),MCTS.StateActionNode{Symbol}(:right,96,2.79182,Set(Any[GridWorldState(6,2,false,false),GridWorldState(7,3,false,false),GridWorldState(5,3,false,false),GridWorldState(6,4,false,false)]))]),GridWorldState(3,2,false,false)=>MCTS.StateNode{Symbol}(116,MCTS.StateActionNode{Symbol}[MCTS.StateActionNode{Symbol}(:up,26,-1.81148,Set(Any[GridWorldState(3,1,false,false),GridWorldState(3,3,false,false),GridWorldState(2,2,false,false),GridWorldState(4,2,false,false)])),MCTS.StateActionNode{Symbol}(:down,30,-0.539336,Set(Any[GridWorldState(3,1,false,false),GridWorldState(3,3,false,false),GridWorldState(2,2,false,false),GridWorldState(4,2,false,false)])),MCTS.StateActionNode{Symbol}(:left,34,-0.238235,Set(Any[GridWorldState(3,3,false,false),GridWorldState(2,2,false,false),GridWorldState(4,2,false,false)])),MCTS.StateActionNode{Symbol}(:right,26,-0.425691,Set(Any[GridWorldState(3,1,false,false),GridWorldState(3,3,false,false),GridWorldState(2,2,false,false),GridWorldState(4,2,false,false)]))]),GridWorldState(5,6,false,false)=>MCTS.StateNode{Symbol}(7,MCTS.StateActionNode{Symbol}[MCTS.StateActionNode{Symbol}(:up,2,0.0,Set(Any[GridWorldState(5,7,false,false)])),MCTS.StateActionNode{Symbol}(:down,2,0.0,Set(Any[GridWorldState(5,5,false,false)])),MCTS.StateActionNode{Symbol}(:left,1,-4.5,Set(Any[GridWorldState(4,6,false,false)])),MCTS.StateActionNode{Symbol}(:right,2,0.0,Set(Any[GridWorldState(6,6,false,false)]))]),GridWorldState(1,5,false,false)=>MCTS.StateNode{Symbol}(9,MCTS.StateActionNode{Symbol}[MCTS.StateActionNode{Symbol}(:up,1,0.0,Set(Any[GridWorldState(1,6,false,false)])),MCTS.StateActionNode{Symbol}(:down,1,0.0,Set(Any[GridWorldState(1,4,false,false)])),MCTS.StateActionNode{Symbol}(:left,7,0.0,Set(Any[GridWorldState(1,5,false,false)])),MCTS.StateActionNode{Symbol}(:right,0,0.0,Set{Any}())]),GridWorldState(6,5,false,false)=>MCTS.StateNode{Symbol}(31,MCTS.StateActionNode{Symbol}[MCTS.StateActionNode{Symbol}(:up,9,0.0,Set(Any[GridWorldState(6,6,false,false),GridWorldState(7,5,false,false),GridWorldState(6,4,false,false),GridWorldState(5,5,false,false)])),MCTS.StateActionNode{Symbol}(:down,9,0.6561,Set(Any[GridWorldState(7,5,false,false),GridWorldState(6,4,false,false)])),MCTS.StateActionNode{Symbol}(:left,6,-1.41183,Set(Any[GridWorldState(6,6,false,false),GridWorldState(6,4,false,false),GridWorldState(5,5,false,false)])),MCTS.StateActionNode{Symbol}(:right,7,0.0,Set(Any[GridWorldState(7,5,false,false)]))]),GridWorldState(4,1,false,false)=>MCTS.StateNode{Symbol}(699,MCTS.StateActionNode{Symbol}[MCTS.StateActionNode{Symbol}(:up,41,-1.92481,Set(Any[GridWorldState(3,1,false,false),GridWorldState(5,1,false,false),GridWorldState(4,2,false,false)])),MCTS.StateActionNode{Symbol}(:down,148,0.0,Set(Any[GridWorldState(4,1,false,false)])),MCTS.StateActionNode{Symbol}(:left,99,-0.469221,Set(Any[GridWorldState(3,1,false,false),GridWorldState(5,1,false,false),GridWorldState(4,2,false,false)])),MCTS.StateActionNode{Symbol}(:right,411,1.13302,Set(Any[GridWorldState(3,1,false,false),GridWorldState(5,1,false,false),GridWorldState(4,2,false,false)]))]),GridWorldState(8,2,false,false)=>MCTS.StateNode{Symbol}(696,MCTS.StateActionNode{Symbol}[MCTS.StateActionNode{Symbol}(:up,50,3.75216,Set(Any[GridWorldState(8,3,false,false),GridWorldState(7,2,false,false),GridWorldState(9,2,false,false),GridWorldState(8,1,false,false)])),MCTS.StateActionNode{Symbol}(:down,39,2.81963,Set(Any[GridWorldState(8,3,false,false),GridWorldState(7,2,false,false),GridWorldState(9,2,false,false),GridWorldState(8,1,false,false)])),MCTS.StateActionNode{Symbol}(:left,29,2.09758,Set(Any[GridWorldState(8,3,false,false),GridWorldState(7,2,false,false),GridWorldState(9,2,false,false),GridWorldState(8,1,false,false)])),MCTS.StateActionNode{Symbol}(:right,578,6.42514,Set(Any[GridWorldState(8,3,false,false),GridWorldState(7,2,false,false),GridWorldState(9,2,false,false),GridWorldState(8,1,false,false)]))]),GridWorldState(1,2,false,false)=>MCTS.StateNode{Symbol}(47,MCTS.StateActionNode{Symbol}[MCTS.StateActionNode{Symbol}(:up,7,-1.7062,Set(Any[GridWorldState(1,3,false,false),GridWorldState(1,1,false,false)])),MCTS.StateActionNode{Symbol}(:down,12,0.0,Set(Any[GridWorldState(2,2,false,false),GridWorldState(1,3,false,false),GridWorldState(1,1,false,false)])),MCTS.StateActionNode{Symbol}(:left,18,0.0,Set(Any[GridWorldState(1,2,false,false)])),MCTS.StateActionNode{Symbol}(:right,10,0.0,Set(Any[GridWorldState(2,2,false,false),GridWorldState(1,3,false,false),GridWorldState(1,1,false,false)]))]),GridWorldState(7,4,false,false)=>MCTS.StateNode{Symbol}(128,MCTS.StateActionNode{Symbol}[MCTS.StateActionNode{Symbol}(:up,14,0.270521,Set(Any[GridWorldState(7,3,false,false),GridWorldState(7,5,false,false),GridWorldState(6,4,false,false)])),MCTS.StateActionNode{Symbol}(:down,80,3.8636,Set(Any[GridWorldState(8,4,false,false),GridWorldState(7,3,false,false),GridWorldState(7,5,false,false),GridWorldState(6,4,false,false)])),MCTS.StateActionNode{Symbol}(:left,14,-0.0103521,Set(Any[GridWorldState(8,4,false,false),GridWorldState(7,3,false,false),GridWorldState(7,5,false,false),GridWorldState(6,4,false,false)])),MCTS.StateActionNode{Symbol}(:right,20,2.48135,Set(Any[GridWorldState(8,4,false,false),GridWorldState(7,3,false,false),GridWorldState(7,5,false,false)]))])…)),GridWorldState(4,1,false,false))"
      ]
     },
     "execution_count": 40,
     "metadata": {},
     "output_type": "execute_result"
    }
   ],
   "source": [
    "TreeVisualizer(policy, hist.state_hist[1])"
   ]
  },
  {
   "cell_type": "code",
   "execution_count": null,
   "metadata": {
    "collapsed": true
   },
   "outputs": [],
   "source": []
  }
 ],
 "metadata": {
  "anaconda-cloud": {},
  "kernelspec": {
   "display_name": "Julia 0.5.0",
   "language": "julia",
   "name": "julia-0.5"
  },
  "language_info": {
   "file_extension": ".jl",
   "mimetype": "application/julia",
   "name": "julia",
   "version": "0.5.0"
  }
 },
 "nbformat": 4,
 "nbformat_minor": 0
}
