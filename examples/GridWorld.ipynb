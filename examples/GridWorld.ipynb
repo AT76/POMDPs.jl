{
 "cells": [
  {
   "cell_type": "markdown",
   "metadata": {
    "slideshow": {
     "slide_type": "slide"
    }
   },
   "source": [
    "# Grid World Tutorial: POMDPs.jl for Complete Beginners"
   ]
  },
  {
   "cell_type": "markdown",
   "metadata": {
    "slideshow": {
     "slide_type": "slide"
    }
   },
   "source": [
    "In this tutorial, we try to provide a simple example of how to define a Markov decision process (MDP) problem using the [POMDPs.jl](https://github.com/sisl/POMDPs.jl) interface. After defining the problem in this way, you will be able to use the solvers that the interface supports. In this tutorial, we will show you how to use the value iteration and the Monte Carlo Tree Search solvers that the POMDPs.jl interface supports. We assume that you have some knowledge of basic programming, but are not necessarily familiar with all the features that exist in Julia. We try to cover the many language specific features used in POMDPs.jl in this tutorial. We do assume that you know the grid world problem, and are familiar with the formal defintion of the MDP.  Let's get started!"
   ]
  },
  {
   "cell_type": "markdown",
   "metadata": {},
   "source": [
    "## Dependencies\n",
    "You need to install a few modules in order to use this notebook. If you have all the modules below installed, great! If not run the following commands:\n"
   ]
  },
  {
   "cell_type": "markdown",
   "metadata": {
    "collapsed": false
   },
   "source": [
    "```julia\n",
    "# install the POMDPs.jl interface\n",
    "Pkg.add(\"POMDPs\")\n",
    "Pkg.add(\"POMDPToolbox\")\n",
    "```"
   ]
  },
  {
   "cell_type": "markdown",
   "metadata": {},
   "source": [
    "If you already have all of the modules above, make sure you have the most recent versions. Many of these are still under heavy development, so update before starting by running\n",
    "\n",
    "```julia\n",
    "Pkg.update()\n",
    "```"
   ]
  },
  {
   "cell_type": "code",
   "execution_count": 1,
   "metadata": {
    "collapsed": false,
    "slideshow": {
     "slide_type": "slide"
    }
   },
   "outputs": [],
   "source": [
    "# first import the POMDPs.jl interface\n",
    "using POMDPs\n",
    "\n",
    "# POMDPToolbox has some glue code to help us use Distributions.jl\n",
    "using POMDPToolbox"
   ]
  },
  {
   "cell_type": "markdown",
   "metadata": {},
   "source": [
    "## Problem Overview\n",
    "In Grid World, we are trying to control an agent who has trouble moving in the desired direction. In our problem, we have a four reward states on a $10\\times 10$ grid. Each position on the grid represents a state, and the positive reward states are terminal (the agent stops recieveing reward after reaching them). The agent has four actions to choose from: up, down, left, right. The agent moves in the desired direction with a probability of 0.7, and with a probability of 0.1 in each of the remaining three directions. The problem has the following form:\n",
    "![example](http://artint.info/figures/ch09/gridworldc.gif)"
   ]
  },
  {
   "cell_type": "markdown",
   "metadata": {},
   "source": [
    "## MDP Type\n",
    "\n",
    "In POMDPs.jl, an MDP is defined by creating a subtype of the `MDP` abstract type. The types of the states and actions for the MDP are declared as [parameters](https://docs.julialang.org/en/stable/manual/types/#Parametric-Types-1) of the `MDP` type.  For example, if our states and actions are both represented by integers we can define our MDP type in the following way:\n",
    "```julia\n",
    "type MyMDP <: MDP{Int64, Int64} # MDP{StateType, ActionType}\n",
    "\n",
    "end\n",
    "```\n",
    "`MyMDP` is a subtype from an abstract MDP type defined in POMDPs.jl. Let's first define types to represent grid worls states and actions, and then we'll go through defining our Grid World MDP type. "
   ]
  },
  {
   "cell_type": "markdown",
   "metadata": {
    "slideshow": {
     "slide_type": "slide"
    }
   },
   "source": [
    "## States\n",
    "The data container below represents the state of the agent in the grid world."
   ]
  },
  {
   "cell_type": "code",
   "execution_count": 2,
   "metadata": {
    "collapsed": true
   },
   "outputs": [],
   "source": [
    "struct GridWorldState \n",
    "    x::Int64 # x position\n",
    "    y::Int64 # y position\n",
    "    done::Bool # are we in a terminal state?\n",
    "end"
   ]
  },
  {
   "cell_type": "markdown",
   "metadata": {},
   "source": [
    "Below are some convenience functions for working with the GridWorldState. "
   ]
  },
  {
   "cell_type": "code",
   "execution_count": 3,
   "metadata": {
    "collapsed": false
   },
   "outputs": [
    {
     "data": {
      "text/plain": [
       "posequal (generic function with 1 method)"
      ]
     },
     "execution_count": 3,
     "metadata": {},
     "output_type": "execute_result"
    }
   ],
   "source": [
    "# initial state constructor\n",
    "GridWorldState(x::Int64, y::Int64) = GridWorldState(x,y,false)\n",
    "# checks if the position of two states are the same\n",
    "posequal(s1::GridWorldState, s2::GridWorldState) = s1.x == s2.x && s1.y == s2.y"
   ]
  },
  {
   "cell_type": "markdown",
   "metadata": {},
   "source": [
    "## Actions\n",
    "Since our action is simply the direction the agent chooses to go (i.e. up, down, left, right), we can use a Symbol to represent it. Symbols are essentially the same as strings, but they typically consist of only one word and literals begin with \"`:`\". See [this page](https://stackoverflow.com/questions/23480722/what-is-a-symbol-in-julia) for a techincal discussion of what they are. Note that in this case, we will not define a custom type for our action, instead we represent it directly with a symbol. So that our action looks like:\n",
    "```julia\n",
    "action = :up # can also be :down, :left, :right\n",
    "```"
   ]
  },
  {
   "cell_type": "markdown",
   "metadata": {},
   "source": [
    "## MDP\n",
    "The GridWorld data container is defined below. It holds all the information we need to define the MDP tuple $$(\\mathcal{S}, \\mathcal{A}, T, R).$$"
   ]
  },
  {
   "cell_type": "code",
   "execution_count": 4,
   "metadata": {
    "collapsed": true
   },
   "outputs": [],
   "source": [
    "# the grid world mdp type\n",
    "type GridWorld <: MDP{GridWorldState, Symbol} # Note that our MDP is parametarized by the state and the action\n",
    "    size_x::Int64 # x size of the grid\n",
    "    size_y::Int64 # y size of the grid\n",
    "    reward_states::Vector{GridWorldState} # the states in which agent recieves reward\n",
    "    reward_values::Vector{Float64} # reward values for those states\n",
    "    tprob::Float64 # probability of transitioning to the desired state\n",
    "    discount_factor::Float64 # disocunt factor\n",
    "end"
   ]
  },
  {
   "cell_type": "markdown",
   "metadata": {},
   "source": [
    "Before moving on, I want to create a constructor for GridWorld for convenience. Currently, if I want to create an instance of GridWorld, I have to pass in all of fields inside the GridWorld container (size_x, size_y, etc). The function below will return a GridWorld type with all the fields filled with some default values."
   ]
  },
  {
   "cell_type": "code",
   "execution_count": 5,
   "metadata": {
    "collapsed": false
   },
   "outputs": [
    {
     "data": {
      "text/plain": [
       "4-element Array{GridWorldState,1}:\n",
       " GridWorldState(4, 3, false)\n",
       " GridWorldState(4, 6, false)\n",
       " GridWorldState(9, 3, false)\n",
       " GridWorldState(8, 8, false)"
      ]
     },
     "execution_count": 5,
     "metadata": {},
     "output_type": "execute_result"
    }
   ],
   "source": [
    "# we use key worded arguments so we can change any of the values we pass in \n",
    "function GridWorld(;sx::Int64=10, # size_x\n",
    "                    sy::Int64=10, # size_y\n",
    "                    rs::Vector{GridWorldState}=[GridWorldState(4,3), GridWorldState(4,6), GridWorldState(9,3), GridWorldState(8,8)], # reward states\n",
    "                    rv::Vector{Float64}=rv = [-10.,-5,10,3], # reward values\n",
    "                    tp::Float64=0.7, # tprob\n",
    "                    discount_factor::Float64=0.9)\n",
    "    return GridWorld(sx, sy, rs, rv, tp, discount_factor)\n",
    "end\n",
    "\n",
    "# we can now create a GridWorld mdp instance like this:\n",
    "mdp = GridWorld()\n",
    "mdp.reward_states # mdp contains all the defualt values from the constructor"
   ]
  },
  {
   "cell_type": "markdown",
   "metadata": {},
   "source": [
    "## Spaces\n",
    "Let's look at how we can define the state and action spaces for our problem."
   ]
  },
  {
   "cell_type": "markdown",
   "metadata": {},
   "source": [
    "### State Space\n",
    "The state space in an MDP represents all the states in the problem. There are two primary functionalities that we want our spaces to support. We want to be able to iterate over the state space (for Value Iteration for example), and sometimes we want to be able to sample form the state space (used in some POMDP solvers). In this notebook, we will only look at iterable state spaces. "
   ]
  },
  {
   "cell_type": "markdown",
   "metadata": {},
   "source": [
    "Since we can iterate over elements of an array, and our problem is small, we can store all of our states in an array. If your problem is very large (tens of millions of states), it might be worthwhile to create a custom type to define the problem's state space. See [this](http://stackoverflow.com/questions/25028539/how-to-implement-an-iterator-in-julia) post on stackoverflow on making simple iterators. "
   ]
  },
  {
   "cell_type": "code",
   "execution_count": 6,
   "metadata": {
    "collapsed": true
   },
   "outputs": [],
   "source": [
    "function POMDPs.states(mdp::GridWorld)\n",
    "    s = GridWorldState[] # initialize an array of GridWorldStates\n",
    "    # loop over all our states, remeber there are two binary variables:\n",
    "    # done (d)\n",
    "    for d = 0:1, y = 1:mdp.size_y, x = 1:mdp.size_x\n",
    "        push!(s, GridWorldState(x,y,d))\n",
    "    end\n",
    "    return s\n",
    "end;"
   ]
  },
  {
   "cell_type": "markdown",
   "metadata": {},
   "source": [
    "Here, the code: ```function POMDPs.states(mdp::GridWorld)``` means that we want to take the function called ```states(...)``` from the POMDPs.jl module and add another method to it. The ```states(...)``` function in POMDPs.jl doesn't know about our GridWorld type. However, now when ```states(...)``` is called with GridWorld it will dispatch the function we defined above! This is the awesome thing about multiple-dispatch, and one of the features that should make working with MDP/POMDPs easier in Julia. \n",
    "\n",
    "The solvers that support the POMDPs.jl interface know that a function called ```states(...)``` exists in the interface. However, they do not know the behavior of that function for GridWorld. That means in order for the solvers to use this behavior all we have to do is pass an instance of our GridWorld type into the solver. When ```states(...)``` is called in the solver with the GridWorld type, the function above will be called.   "
   ]
  },
  {
   "cell_type": "code",
   "execution_count": 7,
   "metadata": {
    "collapsed": false
   },
   "outputs": [
    {
     "data": {
      "text/plain": [
       "GridWorldState(1, 1, false)"
      ]
     },
     "execution_count": 7,
     "metadata": {},
     "output_type": "execute_result"
    }
   ],
   "source": [
    "mdp = GridWorld()\n",
    "state_space = states(mdp);\n",
    "state_space[1]"
   ]
  },
  {
   "cell_type": "markdown",
   "metadata": {},
   "source": [
    "### Action Space"
   ]
  },
  {
   "cell_type": "markdown",
   "metadata": {},
   "source": [
    "The action space is the set of all actions availiable to the agent. In the grid world problem the action space consists of up, down, left, and right. We can define the action space by implementing a new method of the `actions` function."
   ]
  },
  {
   "cell_type": "code",
   "execution_count": 8,
   "metadata": {
    "collapsed": true
   },
   "outputs": [],
   "source": [
    "POMDPs.actions(mdp::GridWorld) = [:up, :down, :left, :right];"
   ]
  },
  {
   "cell_type": "markdown",
   "metadata": {},
   "source": [
    "Now that we've defined our state and action spaces, we are half-way thorugh our MDP tuple:\n",
    "$$\n",
    "(\\mathcal{S}, \\mathcal{A}, T, R)\n",
    "$$"
   ]
  },
  {
   "cell_type": "markdown",
   "metadata": {},
   "source": [
    "## Distributions"
   ]
  },
  {
   "cell_type": "markdown",
   "metadata": {},
   "source": [
    "Since MDPs are probabilistic models, we have to deal with probability distributions. In this section, we outline how to define probability distriubtions, and what tools are availiable to help you with the task."
   ]
  },
  {
   "cell_type": "markdown",
   "metadata": {},
   "source": [
    "### Transition Distribution "
   ]
  },
  {
   "cell_type": "markdown",
   "metadata": {},
   "source": [
    "If you are familiar with MDPs, you know that the transition function $T(s' \\mid s, a)$ captures the dynamics of the system. Specifically, $T(s' \\mid s, a)$ is a real value that defines the probabiltiy of transitioning to state $s'$ given that you took action $a$ in state $s$. The transition distirubtion $T(\\cdot \\mid s, a)$ is a slightly different construct. This is the actual distribution over the states that our agent can reach given that its in state $s$ and took action $a$. In other words this is the distribution over $s'$. \n",
    "\n",
    "For this grid world example there are only a few states that the agent can transition to, so there are only a few states that have nonzero probability in $T(\\cdot \\mid s, a)$. Thus, we will use the sparse [categorical distribution](https://en.wikipedia.org/wiki/Categorical_distribution) (`SparseCat`) from POMDPToolbox. [Distributions.jl](https://github.com/JuliaStats/Distributions.jl) also contains some distributions, but in many cases, a custom distribution type will need to be defined - see [the source code for `SparseCat`](https://github.com/JuliaPOMDP/POMDPToolbox.jl/blob/master/src/distributions/sparse_cat.jl) for an example.\n",
    "\n",
    "A `SparseCat` object contains a vector of states and an associated vector of their probabilities. The probabilities of all other states are implied to be zero."
   ]
  },
  {
   "cell_type": "markdown",
   "metadata": {},
   "source": [
    "## Transition Model"
   ]
  },
  {
   "cell_type": "markdown",
   "metadata": {},
   "source": [
    "In this section we will define the system dynamics of the gird world MDP. In POMDPs.jl, we work with transition distirbution functions $T(s' \\mid s, a)$, so we want to write a function that can generate the transition distributions over $s'$ for us given an $(s, a)$ pair. "
   ]
  },
  {
   "cell_type": "markdown",
   "metadata": {},
   "source": [
    "In grid world, the dynamics of the system are fairly simple. We move in the specified direction with some pre-defined probability. This is the `tprob` parameter in our GridWorld MDP (it is set to 0.7 in the DMU book example). If we get to state with a positive reward, we've reached a terminal state and can no longer accumulate reward."
   ]
  },
  {
   "cell_type": "markdown",
   "metadata": {},
   "source": [
    "In the transition function we want to fill the neighbors in our distribution d with the reachable states from the state, action pair. We want to fill the probs in our distirbution d with the probabilities of reaching that neighbor. "
   ]
  },
  {
   "cell_type": "code",
   "execution_count": 9,
   "metadata": {
    "collapsed": true
   },
   "outputs": [],
   "source": [
    "# transition helpers\n",
    "function inbounds(mdp::GridWorld,x::Int64,y::Int64)\n",
    "    if 1 <= x <= mdp.size_x && 1 <= y <= mdp.size_y\n",
    "        return true\n",
    "    else\n",
    "        return false\n",
    "    end\n",
    "end\n",
    "\n",
    "inbounds(mdp::GridWorld, state::GridWorldState) = inbounds(mdp, state.x, state.y);"
   ]
  },
  {
   "cell_type": "code",
   "execution_count": 10,
   "metadata": {
    "collapsed": true
   },
   "outputs": [],
   "source": [
    "function POMDPs.transition(mdp::GridWorld, state::GridWorldState, action::Symbol)\n",
    "    a = action\n",
    "    x = state.x\n",
    "    y = state.y\n",
    "    \n",
    "    if state.done\n",
    "        return SparseCat([GridWorldState(x, y, true)], [1.0])\n",
    "    elseif state in mdp.reward_states\n",
    "        return SparseCat([GridWorldState(x, y, true)], [1.0])\n",
    "    end\n",
    "\n",
    "    neighbors = [\n",
    "        GridWorldState(x+1, y, false), # right\n",
    "        GridWorldState(x-1, y, false), # left\n",
    "        GridWorldState(x, y-1, false), # down\n",
    "        GridWorldState(x, y+1, false), # up\n",
    "        ] # See Performance Note below\n",
    "    \n",
    "    targets = Dict(:right=>1, :left=>2, :down=>3, :up=>4) # See Performance Note below\n",
    "    target = targets[a]\n",
    "    \n",
    "    probability = fill(0.0, 4)\n",
    "\n",
    "    if !inbounds(mdp, neighbors[target])\n",
    "        # If would transition out of bounds, stay in\n",
    "        # same cell with probability 1\n",
    "        return SparseCat([GridWorldState(x, y)], [1.0])\n",
    "    else\n",
    "        probability[target] = mdp.tprob\n",
    "\n",
    "        oob_count = sum(!inbounds(mdp, n) for n in neighbors) # number of out of bounds neighbors\n",
    "\n",
    "        new_probability = (1.0 - mdp.tprob)/(3-oob_count)\n",
    "\n",
    "        for i = 1:4 # do not include neighbor 5\n",
    "            if inbounds(mdp, neighbors[i]) && i != target\n",
    "                probability[i] = new_probability\n",
    "            end\n",
    "        end\n",
    "    end\n",
    "\n",
    "    return SparseCat(neighbors, probability)\n",
    "end;"
   ]
  },
  {
   "cell_type": "markdown",
   "metadata": {},
   "source": [
    "> Performance Note: It is inefficient to create mutable objects like dictionaries and vectors in low-level code like the `transition` function because it requires dynamic memory allocation. This code is written for clarity rather than speed. Better speed could be realized by putting the Dict in the mdp object or using if statements instead, and replacing the vector with a [`StaticArrays.Svector`](https://github.com/JuliaArrays/StaticArrays.jl). However, a much more important consideration for performance is [type stability](https://en.wikibooks.org/wiki/Introducing_Julia/Types#Type_stability), which this function maintains because it always returns a `SparseCat{Vector{GridWorldState},Vector{Float64}}` object."
   ]
  },
  {
   "cell_type": "markdown",
   "metadata": {},
   "source": [
    "## Reward Model\n",
    "The reward model $R(s,a,s')$ is a function that returns the reward of being in state $s$, taking an action $a$ from that state, and ending up in state $s'$. In our problem, we are rewarded for reaching a terimanl reward state (this could be positive or negative)."
   ]
  },
  {
   "cell_type": "code",
   "execution_count": 11,
   "metadata": {
    "collapsed": true
   },
   "outputs": [],
   "source": [
    "function POMDPs.reward(mdp::GridWorld, state::GridWorldState, action::Symbol, statep::GridWorldState) #deleted action\n",
    "    if state.done\n",
    "        return 0.0\n",
    "    end\n",
    "    r = 0.0\n",
    "    n = length(mdp.reward_states)\n",
    "    for i = 1:n\n",
    "        if posequal(state, mdp.reward_states[i])\n",
    "            r += mdp.reward_values[i]\n",
    "        end\n",
    "    end\n",
    "    return r\n",
    "end;\n"
   ]
  },
  {
   "cell_type": "markdown",
   "metadata": {},
   "source": [
    "## Miscallenous Functions\n",
    "We are almost done! Just a few simple functions left. First let's implement two functions that return the sizes of our state and action spaces."
   ]
  },
  {
   "cell_type": "code",
   "execution_count": 12,
   "metadata": {
    "collapsed": true
   },
   "outputs": [],
   "source": [
    "POMDPs.n_states(mdp::GridWorld) = 2*mdp.size_x*mdp.size_y\n",
    "POMDPs.n_actions(mdp::GridWorld) = 4"
   ]
  },
  {
   "cell_type": "markdown",
   "metadata": {},
   "source": [
    "Now, we implement the discount function."
   ]
  },
  {
   "cell_type": "code",
   "execution_count": 13,
   "metadata": {
    "collapsed": true
   },
   "outputs": [],
   "source": [
    "POMDPs.discount(mdp::GridWorld) = mdp.discount_factor;"
   ]
  },
  {
   "cell_type": "markdown",
   "metadata": {},
   "source": [
    "The last thing we need is indexing functions. This allows us to index between the discrete utility array and the states and actions in our problem. We will use the ```sub2ind()``` function from Julia base to help us here."
   ]
  },
  {
   "cell_type": "code",
   "execution_count": 14,
   "metadata": {
    "collapsed": true
   },
   "outputs": [],
   "source": [
    "function POMDPs.state_index(mdp::GridWorld, state::GridWorldState)\n",
    "    sd = Int(state.done + 1)\n",
    "    return sub2ind((mdp.size_x, mdp.size_y, 2), state.x, state.y, sd)\n",
    "end\n",
    "function POMDPs.action_index(mdp::GridWorld, act::Symbol)\n",
    "    if act==:up\n",
    "        return 1\n",
    "    elseif act==:down\n",
    "        return 2\n",
    "    elseif act==:left\n",
    "        return 3\n",
    "    elseif act==:right\n",
    "        return 4\n",
    "    end\n",
    "    error(\"Invalid GridWorld action: $act\")\n",
    "end;"
   ]
  },
  {
   "cell_type": "markdown",
   "metadata": {},
   "source": [
    "Finally let's define a function that checks if a state is terminal."
   ]
  },
  {
   "cell_type": "code",
   "execution_count": 15,
   "metadata": {
    "collapsed": true
   },
   "outputs": [],
   "source": [
    "POMDPs.isterminal(mdp::GridWorld, s::GridWorldState) = s.done"
   ]
  },
  {
   "cell_type": "markdown",
   "metadata": {},
   "source": [
    "# Simulations\n",
    "\n",
    "Now that we have defined the problem, we should simulate it to see it working. The funcion `sim(::MDP)` from `POMDPToolbox` provides a convenient `do` block syntax for exploring the behavior of the mdp. The `do` block receives the state as the argument and should return an action. In this way it acts as a \"hook\" into the simulation and allows quick ad-hoc policies to be defined."
   ]
  },
  {
   "cell_type": "code",
   "execution_count": 16,
   "metadata": {
    "collapsed": false
   },
   "outputs": [
    {
     "name": "stdout",
     "output_type": "stream",
     "text": [
      "state is: GridWorldState(4, 1, false)\n",
      "moving right\n",
      "state is: GridWorldState(5, 1, false)\n",
      "moving right\n",
      "state is: GridWorldState(6, 1, false)\n",
      "moving right\n",
      "state is: GridWorldState(7, 1, false)\n",
      "moving right\n",
      "state is: GridWorldState(8, 1, false)\n",
      "moving right\n",
      "state is: GridWorldState(9, 1, false)\n",
      "moving right\n",
      "state is: GridWorldState(10, 1, false)\n",
      "moving right\n",
      "state is: GridWorldState(10, 1, false)\n",
      "moving right\n",
      "state is: GridWorldState(10, 1, false)\n",
      "moving right\n",
      "state is: GridWorldState(10, 1, false)\n",
      "moving right\n"
     ]
    }
   ],
   "source": [
    "mdp = GridWorld()\n",
    "mdp.tprob=1.0\n",
    "sim(mdp, GridWorldState(4,1), max_steps=10) do s\n",
    "    println(\"state is: $s\")\n",
    "    a = :right\n",
    "    println(\"moving $a\")\n",
    "    return a\n",
    "end;"
   ]
  },
  {
   "cell_type": "markdown",
   "metadata": {},
   "source": [
    "## Value Iteration Solver"
   ]
  },
  {
   "cell_type": "markdown",
   "metadata": {},
   "source": [
    "Value iteration is a dynamic porgramming apporach for solving MDPs. See the [wikipedia](https://en.wikipedia.org/wiki/Markov_decision_process#Value_iteration) article for a brief explanation. The solver can be found [here](https://github.com/JuliaPOMDP/DiscreteValueIteration.jl). If you haven't isntalled the solver yet, you can run the following from the Julia REPL to download the module."
   ]
  },
  {
   "cell_type": "code",
   "execution_count": 17,
   "metadata": {
    "collapsed": false
   },
   "outputs": [
    {
     "name": "stdout",
     "output_type": "stream",
     "text": [
      "Package already installed\n"
     ]
    },
    {
     "name": "stderr",
     "output_type": "stream",
     "text": [
      "\u001b[1m\u001b[36mINFO: \u001b[39m\u001b[22m\u001b[36mCloning DiscreteValueIteration from https://github.com/JuliaPOMDP/DiscreteValueIteration.jl\n",
      "\u001b[39m"
     ]
    }
   ],
   "source": [
    "using POMDPs\n",
    "POMDPs.add(\"DiscreteValueIteration\")"
   ]
  },
  {
   "cell_type": "markdown",
   "metadata": {},
   "source": [
    "Each POMDPs.jl solver provides two data types for you to interface with. The first is the Solver type which contains solver parameters. The second is the Policy type. Let's see hwo we can use them to get an optimal action at a given state."
   ]
  },
  {
   "cell_type": "code",
   "execution_count": 19,
   "metadata": {
    "collapsed": false,
    "scrolled": false
   },
   "outputs": [
    {
     "name": "stdout",
     "output_type": "stream",
     "text": [
      "[Iteration 1   ] residual:         10 | iteration runtime:      0.411 ms, (  0.000411 s total)\n",
      "[Iteration 2   ] residual:        6.3 | iteration runtime:      0.382 ms, (  0.000793 s total)\n",
      "[Iteration 3   ] residual:       4.54 | iteration runtime:      0.363 ms, (   0.00116 s total)\n",
      "[Iteration 4   ] residual:       3.39 | iteration runtime:      0.368 ms, (   0.00152 s total)\n",
      "[Iteration 5   ] residual:       2.57 | iteration runtime:      0.367 ms, (   0.00189 s total)\n",
      "[Iteration 6   ] residual:       1.92 | iteration runtime:      0.378 ms, (   0.00227 s total)\n",
      "[Iteration 7   ] residual:       1.39 | iteration runtime:      0.374 ms, (   0.00264 s total)\n",
      "[Iteration 8   ] residual:       1.07 | iteration runtime:      0.370 ms, (   0.00301 s total)\n",
      "[Iteration 9   ] residual:      0.861 | iteration runtime:      0.370 ms, (   0.00338 s total)\n",
      "[Iteration 10  ] residual:      0.662 | iteration runtime:      0.380 ms, (   0.00376 s total)\n",
      "[Iteration 11  ] residual:      0.489 | iteration runtime:      0.378 ms, (   0.00414 s total)\n",
      "[Iteration 12  ] residual:      0.405 | iteration runtime:      0.374 ms, (   0.00451 s total)\n",
      "[Iteration 13  ] residual:      0.341 | iteration runtime:      0.401 ms, (   0.00492 s total)\n",
      "[Iteration 14  ] residual:      0.244 | iteration runtime:      0.395 ms, (   0.00531 s total)\n",
      "[Iteration 15  ] residual:      0.166 | iteration runtime:      0.374 ms, (   0.00568 s total)\n",
      "[Iteration 16  ] residual:      0.106 | iteration runtime:      0.371 ms, (   0.00605 s total)\n",
      "[Iteration 17  ] residual:     0.0638 | iteration runtime:      0.368 ms, (   0.00642 s total)\n",
      "[Iteration 18  ] residual:     0.0369 | iteration runtime:      0.372 ms, (   0.00679 s total)\n",
      "[Iteration 19  ] residual:     0.0208 | iteration runtime:      0.373 ms, (   0.00717 s total)\n",
      "[Iteration 20  ] residual:     0.0115 | iteration runtime:      0.405 ms, (   0.00757 s total)\n",
      "[Iteration 21  ] residual:    0.00621 | iteration runtime:      0.380 ms, (   0.00795 s total)\n",
      "[Iteration 22  ] residual:    0.00333 | iteration runtime:      0.376 ms, (   0.00833 s total)\n",
      "[Iteration 23  ] residual:    0.00177 | iteration runtime:      0.379 ms, (   0.00871 s total)\n",
      "[Iteration 24  ] residual:   0.000934 | iteration runtime:      0.364 ms, (   0.00907 s total)\n"
     ]
    }
   ],
   "source": [
    "# first let's load the value iteration module\n",
    "using DiscreteValueIteration\n",
    "\n",
    "# initialize the problem\n",
    "mdp = GridWorld()\n",
    "\n",
    "# initialize the solver\n",
    "# max_iterations: maximum number of iterations value iteration runs for (default is 100)\n",
    "# belres: the value of Bellman residual used in the solver (defualt is 1e-3)\n",
    "solver = ValueIterationSolver(max_iterations=100, belres=1e-3)\n",
    "\n",
    "# initialize the policy by passing in your problem\n",
    "policy = ValueIterationPolicy(mdp) \n",
    "\n",
    "# solve for an optimal policy\n",
    "# if verbose=false, the text output will be supressed (false by default)\n",
    "solve(solver, mdp, policy, verbose=true);"
   ]
  },
  {
   "cell_type": "markdown",
   "metadata": {},
   "source": [
    "Now, we can use the policy along with the ```action(...)``` function to get the optimal action in a given state."
   ]
  },
  {
   "cell_type": "code",
   "execution_count": 20,
   "metadata": {
    "collapsed": false
   },
   "outputs": [
    {
     "data": {
      "text/plain": [
       ":up"
      ]
     },
     "execution_count": 20,
     "metadata": {},
     "output_type": "execute_result"
    }
   ],
   "source": [
    "# say we are in state (9,2)\n",
    "s = GridWorldState(9,2)\n",
    "a = action(policy, s)"
   ]
  },
  {
   "cell_type": "markdown",
   "metadata": {},
   "source": [
    "Remeber that the state (9,3) has an immediate reward of +10.0, so the policy we found is moving up as expected!"
   ]
  },
  {
   "cell_type": "code",
   "execution_count": 21,
   "metadata": {
    "collapsed": false
   },
   "outputs": [
    {
     "data": {
      "text/plain": [
       ":right"
      ]
     },
     "execution_count": 21,
     "metadata": {},
     "output_type": "execute_result"
    }
   ],
   "source": [
    "s = GridWorldState(8,3)\n",
    "a = action(policy, s)"
   ]
  },
  {
   "cell_type": "markdown",
   "metadata": {},
   "source": [
    "![description](files/gw.jpg)"
   ]
  },
  {
   "cell_type": "markdown",
   "metadata": {},
   "source": [
    "## Monte-Carlo Tree Search Solver\n",
    "Monte-Carlo Tree Search (MCTS) is another MDP solver. It is an online method that looks for the best action from only the current state by building a search tree. A nice overview of MCTS can be found [here](http://pubs.doc.ic.ac.uk/survey-mcts-methods/survey-mcts-methods.pdf). Run the following command to donwload the module\n",
    "\n"
   ]
  },
  {
   "cell_type": "code",
   "execution_count": 22,
   "metadata": {
    "collapsed": false
   },
   "outputs": [
    {
     "name": "stdout",
     "output_type": "stream",
     "text": [
      "Package already installed\n"
     ]
    },
    {
     "name": "stderr",
     "output_type": "stream",
     "text": [
      "\u001b[1m\u001b[36mINFO: \u001b[39m\u001b[22m\u001b[36mCloning MCTS from https://github.com/JuliaPOMDP/MCTS.jl\n",
      "\u001b[39m"
     ]
    }
   ],
   "source": [
    "using POMDPs\n",
    "POMDPs.add(\"MCTS\")"
   ]
  },
  {
   "cell_type": "markdown",
   "metadata": {},
   "source": [
    "Let's quickly run through an example of using the solver:"
   ]
  },
  {
   "cell_type": "code",
   "execution_count": 23,
   "metadata": {
    "collapsed": false,
    "scrolled": true
   },
   "outputs": [
    {
     "name": "stderr",
     "output_type": "stream",
     "text": [
      "\u001b[1m\u001b[36mINFO: \u001b[39m\u001b[22m\u001b[36mLoading HttpServer methods...\n",
      "\u001b[39m"
     ]
    },
    {
     "data": {
      "text/plain": [
       ":up"
      ]
     },
     "execution_count": 23,
     "metadata": {},
     "output_type": "execute_result"
    }
   ],
   "source": [
    "using MCTS\n",
    "\n",
    "# initialize the problem\n",
    "mdp = GridWorld()\n",
    "\n",
    "# initialize the solver with hyper parameters\n",
    "# n_iterations: the number of iterations that each search runs for\n",
    "# depth: the depth of the tree (how far away from the current state the algorithm explores)\n",
    "# exploration constant: this is how much weight to put into exploratory actions. \n",
    "# A good rule of thumb is to set the exploration constant to what you expect the upper bound on your average expected reward to be.\n",
    "solver = MCTSSolver(n_iterations=1000,\n",
    "                    depth=20,\n",
    "                    exploration_constant=10.0,\n",
    "                    enable_tree_vis=true)\n",
    "\n",
    "# initialize the planner by calling the `solve` function. For online solvers, the \n",
    "planner = solve(solver, mdp)\n",
    "\n",
    "# to get the action:\n",
    "s = GridWorldState(9,2)\n",
    "a = action(planner, s)"
   ]
  },
  {
   "cell_type": "markdown",
   "metadata": {
    "collapsed": true
   },
   "source": [
    "Let's simulate using the planner to determine a good action at each timestep."
   ]
  },
  {
   "cell_type": "code",
   "execution_count": 24,
   "metadata": {
    "collapsed": false
   },
   "outputs": [
    {
     "name": "stdout",
     "output_type": "stream",
     "text": [
      "Total discounted reward: 3.1381059609000017\n"
     ]
    }
   ],
   "source": [
    "# we'll use POMDPToolbox for simulation\n",
    "using POMDPToolbox # if you don't have this module install it by running POMDPs.add(\"POMDPToolbox\")\n",
    "\n",
    "s = GridWorldState(4,1) # this is our starting state\n",
    "hist = HistoryRecorder(max_steps=1000)\n",
    "\n",
    "hist = simulate(hist, mdp, policy, s)\n",
    "\n",
    "println(\"Total discounted reward: $(discounted_reward(hist))\")"
   ]
  },
  {
   "cell_type": "markdown",
   "metadata": {},
   "source": [
    "Now we can view the state-action history using the `eachstep` funciton."
   ]
  },
  {
   "cell_type": "code",
   "execution_count": 25,
   "metadata": {
    "collapsed": false
   },
   "outputs": [
    {
     "name": "stdout",
     "output_type": "stream",
     "text": [
      "s: GridWorldState(4, 1, false)  a: right   s': GridWorldState(5, 1, false)\n",
      "s: GridWorldState(5, 1, false)  a: right   s': GridWorldState(6, 1, false)\n",
      "s: GridWorldState(6, 1, false)  a: right   s': GridWorldState(5, 1, false)\n",
      "s: GridWorldState(5, 1, false)  a: right   s': GridWorldState(5, 2, false)\n",
      "s: GridWorldState(5, 2, false)  a: right   s': GridWorldState(6, 2, false)\n",
      "s: GridWorldState(6, 2, false)  a: right   s': GridWorldState(7, 2, false)\n",
      "s: GridWorldState(7, 2, false)  a: right   s': GridWorldState(7, 1, false)\n",
      "s: GridWorldState(7, 1, false)  a: right   s': GridWorldState(8, 1, false)\n",
      "s: GridWorldState(8, 1, false)  a: up      s': GridWorldState(8, 2, false)\n",
      "s: GridWorldState(8, 2, false)  a: right   s': GridWorldState(9, 2, false)\n",
      "s: GridWorldState(9, 2, false)  a: up      s': GridWorldState(9, 3, false)\n",
      "s: GridWorldState(9, 3, false)  a: up      s': GridWorldState(9, 3, true)\n"
     ]
    }
   ],
   "source": [
    "for (s, a, sp) in eachstep(hist, \"s,a,sp\")\n",
    "    @printf(\"s: %-26s  a: %-6s  s': %-26s\\n\", s, a, sp)\n",
    "end"
   ]
  },
  {
   "cell_type": "markdown",
   "metadata": {},
   "source": [
    "To see what the planner is doing, we can look at the tree created when it plans at a particular state, for example, the first state in the history."
   ]
  },
  {
   "cell_type": "code",
   "execution_count": 26,
   "metadata": {
    "collapsed": false
   },
   "outputs": [
    {
     "data": {
      "text/html": [
       "    <!DOCTYPE html>\n",
       "    <html>\n",
       "    <head>\n",
       "        <meta charset=\"UTF-8\">\n",
       "        <title>MCTS tree</title>\n",
       "    </head>\n",
       "    <body>\n",
       "    <div id=\"treevisfwlNOtN9\">\n",
       "    <style>\n",
       "        \n",
       ".node {\n",
       "    cursor: pointer;\n",
       "}\n",
       "\n",
       ".node circle {\n",
       "\t  fill: #fff;\n",
       "\t  stroke: steelblue;\n",
       "\t  stroke-width: 3px;\n",
       "      r: 10;\n",
       "}\n",
       "\n",
       ".node rect {\n",
       "\t  fill: #fff;\n",
       "\t  stroke: steelblue;\n",
       "\t  stroke-width: 3px;\n",
       "      x: -10;\n",
       "      y: -10;\n",
       "      width: 20;\n",
       "      height: 20;\n",
       "}\n",
       "\n",
       ".node path {\n",
       "    fill: #ffffff;\n",
       "    /* stroke: steelblue; */\n",
       "    stroke-width: 2px;\n",
       "}\n",
       ".node text {\n",
       "    font-family: Arial, Helvetica, sans-serif;\n",
       "    font-style: normal;\n",
       "    font-size: 12px;\n",
       "}\n",
       ".link /* path */ {\n",
       "    fill: none;\n",
       "    stroke: #cccccc;\n",
       "    stroke-width: 2px;\n",
       "}\n",
       ".link text {\n",
       "    font-family: Arial, Helvetica, sans-serif;\n",
       "    font-style: normal;\n",
       "    font-size: 12px;\n",
       "}\n",
       ".hover text{\n",
       "    font-family: Arial, Helvetica, sans-serif;\n",
       "    font-style: normal;\n",
       "    font-size: 12px;\n",
       "}\n",
       "\n",
       "/*\n",
       ".svg-container {\n",
       "    display: inline-block;\n",
       "    position: relative;\n",
       "    width: 100%;\n",
       "    padding-bottom: 100%;\n",
       "    vertical-align: top;\n",
       "    overflow: hidden;\n",
       "}\n",
       ".svg-content-responsive {\n",
       "    display: inline-block;\n",
       "    position: absolute;\n",
       "    top: 10px;\n",
       "    left: 0;\n",
       "}\n",
       "*/\n",
       "\n",
       "    </style>\n",
       "    <script>\n",
       "       (function(){\n",
       "        var treeData = {\"children\":[[257,258,259,260],[3,4,5,6],[27,137,117,356],[137,356,27],[137,356,27],[27,137,356,117],[8,9,10,11],[142],[142,57],[7],[346],[13,14,15,16],[271,247],[271,207,162,247],[207,162],[271,207,162,247],[18,19,20,21],[311],[346],[142],[],[23,24,25,26],[296,152,147,72],[147,296,152,72],[152,147,296,72],[147,152,296,72],[28,29,30,31],[281,2,227,132],[281,227],[281,2,227,132],[281,2,227,132],[33,34,35,36],[351],[192,351],[107],[192,291],[38,39,40,41],[266],[237],[],[],[43,44,45,46],[326,62,122],[42],[326,62,122],[326,62,122],[48,49,50,51],[281,1,122],[47],[281,1,122],[281,1,122],[53,54,55,56],[336,62,242],[52],[336,62,242],[336,62,242],[58,59,60,61],[341,7],[341,7,212],[57],[7,212],[63,64,65,66],[42,112,52],[62],[42,112,52],[42,112,52],[68,69,70,71],[182,157,187,212],[157,187,212],[182,157,212],[157,187],[73,74,75,76],[222,22,187,167],[222,22,187,167],[222,22,187,167],[222,22,187,167],[78,79,80,81],[266],[252],[331],[],[83,84,85,86],[217],[],[],[],[88,89,90,91],[],[],[],[],[93,94,95,96],[286],[197],[286,252],[92],[98,99,100,101],[207,247,177],[207,247,177],[276,247,177],[247,177],[103,104,105,106],[],[],[],[],[108,109,110,111],[361],[362],[],[],[113,114,115,116],[326,162,62,242],[62,242,162],[326,162,242],[326,62,242,162],[118,119,120,121],[132,207,276],[2,132,207,276],[132,207,276],[2,132,207,276],[123,124,125,126],[47,42,356],[122],[47,42,356],[42,47,356],[128,129,130,131],[197,306,172],[197,306,172],[197,306,172],[127],[133,134,135,136],[192,157,117],[192,157,117,27],[157,117,27],[192,157,117,27],[138,139,140,141],[326,207,162],[2,326,207,162],[2,326,207,162],[2,326,207,162],[143,144,145,146],[301],[17,7],[142],[],[148,149,150,151],[222,22,202],[147],[222,22,202],[222,22,202],[153,154,155,156],[341,22,202],[341,22,202],[152],[341,22,202],[158,159,160,161],[232],[227],[227,132,67],[227,132,67],[163,164,165,166],[137,112,12,172],[112,172,12],[137,112,12,172],[137,112,172,12],[168,169,170,171],[281,1,227,72],[281,1,227,72],[281,1,227,72],[281,1,227,72],[173,174,175,176],[363],[364],[365],[366],[178,179,180,181],[321,331,97],[291,331,97],[291,331],[331],[183,184,185,186],[232,316],[67],[346],[232],[188,189,190,191],[296,227,67],[296,227,67,72],[296,227,67,72],[296,227,72],[193,194,195,196],[32,232,276],[32,132,276],[232,132],[32,232,276],[198,199,200,201],[127,271,92],[127,271,92],[127,271,92],[197],[203,204,205,206],[152,147],[202],[202],[147,152],[208,209,210,211],[137,12,117,97],[137,12,117,97],[12,117],[137,12,117,97],[213,214,215,216],[296,346],[296,67,57],[296,346,67,57],[296,346,67],[218,219,220,221],[],[],[],[],[223,224,225,226],[147,1,72],[222],[147,1,72],[147,1,72],[228,229,230,231],[367],[368],[369],[370],[233,234,235,236],[107,157],[107,157],[182,157],[192],[238,239,240,241],[],[],[],[],[243,244,245,246],[306,52,172,112],[112,52,172],[112,52,306],[306,112,172,52],[248,249,250,251],[331,12],[12],[12,97],[252],[253,254,255,256],[247,77,92],[271,247],[271,247,92],[77,92],[222,47,167],[1],[222,47,167],[222,47,167],[262,263,264,265],[],[],[],[],[267,268,269,270],[102],[],[],[],[272,273,274,275],[197,252],[197,252,172,12],[197,252,12],[197,172],[277,278,279,280],[192,291,117,97],[291,117,97],[192,117],[192,97],[282,283,284,285],[47,167,356,27],[47,167,356,27],[47,167,356,27],[47,167,356,27],[287,288,289,290],[261],[261],[77],[],[292,293,294,295],[82,177],[276,177],[32],[276,177],[297,298,299,300],[341,22,212],[22,187,212],[341,22,187,212],[341,22,187,212],[302,303,304,305],[],[],[],[],[307,308,309,310],[127,336,242],[127,336,242],[127,336,242],[306],[312,313,314,315],[],[],[],[],[317,318,319,320],[87],[],[],[],[322,323,324,325],[],[],[],[],[327,328,329,330],[42,137,112,356],[42,137,112,356],[42,137,112,356],[42,137,112,356],[332,333,334,335],[37],[37,247],[177],[77],[337,338,339,340],[306,52],[336],[306,52],[336],[342,343,344,345],[296,152,57],[152,57],[341],[296,152,57],[347,348,349,350],[17],[182,212],[7,212],[17,7],[352,353,354,355],[371],[32],[],[],[357,358,359,360],[281,2,326,122],[281,2,326,122],[281,2,326,122],[281,2,326,122],[],[],[],[],[],[],[],[],[],[],[]],\"text\":[\"GridWorldState(4, 1, false)\\nN:   1599\\n\",\"GridWorldState(6, 3, false)\\nN:    390\\n\",\"                       up\\nQ:   0.10\\nN:     21\\n\",\"                     down\\nQ:   0.80\\nN:     25\\n\",\"                     left\\nQ:  -1.87\\nN:     17\\n\",\"                    right\\nQ:   4.41\\nN:    327\\n\",\"GridWorldState(1, 5, false)\\nN:     17\\n\",\"                       up\\nQ:   0.00\\nN:      3\\n\",\"                     down\\nQ:   0.00\\nN:      4\\n\",\"                     left\\nQ:   0.00\\nN:      5\\n\",\"                    right\\nQ:   0.00\\nN:      5\\n\",\"GridWorldState(8, 4, false)\\nN:    126\\n\",\"                       up\\nQ:   0.00\\nN:      9\\n\",\"                     down\\nQ:   5.16\\nN:     78\\n\",\"                     left\\nQ:   0.00\\nN:      9\\n\",\"                    right\\nQ:   3.18\\nN:     30\\n\",\"GridWorldState(2, 6, false)\\nN:      4\\n\",\"                       up\\nQ:   0.00\\nN:      1\\n\",\"                     down\\nQ:   0.00\\nN:      2\\n\",\"                     left\\nQ:   0.00\\nN:      1\\n\",\"                    right\\nQ:   0.00\\nN:      0\\n\",\"GridWorldState(2, 2, false)\\nN:    163\\n\",\"                       up\\nQ:  -1.69\\nN:     23\\n\",\"                     down\\nQ:   0.22\\nN:     54\\n\",\"                     left\\nQ:  -0.26\\nN:     40\\n\",\"                    right\\nQ:  -0.06\\nN:     46\\n\",\"GridWorldState(5, 3, false)\\nN:    189\\n\",\"                       up\\nQ:  -0.82\\nN:     26\\n\",\"                     down\\nQ:  -7.20\\nN:      5\\n\",\"                     left\\nQ:  -4.22\\nN:      9\\n\",\"                    right\\nQ:   1.62\\nN:    149\\n\",\"GridWorldState(5, 6, false)\\nN:     11\\n\",\"                       up\\nQ:   0.00\\nN:      2\\n\",\"                     down\\nQ:   0.00\\nN:      4\\n\",\"                     left\\nQ:  -4.50\\nN:      1\\n\",\"                    right\\nQ:   1.20\\nN:      4\\n\",\"GridWorldState(8, 7, false)\\nN:      2\\n\",\"                       up\\nQ:   0.00\\nN:      1\\n\",\"                     down\\nQ:   2.70\\nN:      1\\n\",\"                     left\\nQ:   0.00\\nN:      0\\n\",\"                    right\\nQ:   0.00\\nN:      0\\n\",\"GridWorldState(7, 1, false)\\nN:    603\\n\",\"                       up\\nQ:   3.89\\nN:    202\\n\",\"                     down\\nQ:   0.00\\nN:     34\\n\",\"                     left\\nQ:   0.99\\nN:     32\\n\",\"                    right\\nQ:   4.05\\nN:    335\\n\",\"GridWorldState(5, 1, false)\\nN:   1287\\n\",\"                       up\\nQ:   2.44\\nN:    533\\n\",\"                     down\\nQ:   0.00\\nN:     56\\n\",\"                     left\\nQ:   0.33\\nN:     68\\n\",\"                    right\\nQ:   2.48\\nN:    630\\n\",\"GridWorldState(9, 1, false)\\nN:    551\\n\",\"                       up\\nQ:   6.23\\nN:    446\\n\",\"                     down\\nQ:   0.00\\nN:     19\\n\",\"                     left\\nQ:   3.44\\nN:     42\\n\",\"                    right\\nQ:   3.67\\nN:     44\\n\",\"GridWorldState(1, 4, false)\\nN:     33\\n\",\"                       up\\nQ:  -0.72\\nN:      6\\n\",\"                     down\\nQ:   0.00\\nN:     10\\n\",\"                     left\\nQ:   0.00\\nN:      8\\n\",\"                    right\\nQ:   0.00\\nN:      9\\n\",\"GridWorldState(8, 1, false)\\nN:    462\\n\",\"                       up\\nQ:   2.57\\nN:     40\\n\",\"                     down\\nQ:   0.00\\nN:     20\\n\",\"                     left\\nQ:   3.44\\nN:     63\\n\",\"                    right\\nQ:   5.13\\nN:    339\\n\",\"GridWorldState(3, 4, false)\\nN:     41\\n\",\"                       up\\nQ:  -0.61\\nN:     12\\n\",\"                     down\\nQ:  -1.11\\nN:     10\\n\",\"                     left\\nQ:  -0.33\\nN:     11\\n\",\"                    right\\nQ:  -1.55\\nN:      8\\n\",\"GridWorldState(3, 2, false)\\nN:    266\\n\",\"                       up\\nQ:  -1.22\\nN:     35\\n\",\"                     down\\nQ:   0.04\\nN:     91\\n\",\"                     left\\nQ:  -0.63\\nN:     53\\n\",\"                    right\\nQ:   0.10\\nN:     87\\n\",\"GridWorldState(9, 6, false)\\nN:      3\\n\",\"                       up\\nQ:   2.19\\nN:      1\\n\",\"                     down\\nQ:   7.29\\nN:      1\\n\",\"                     left\\nQ:   0.00\\nN:      1\\n\",\"                    right\\nQ:   0.00\\nN:      0\\n\",\"GridWorldState(6, 7, false)\\nN:      1\\n\",\"                       up\\nQ:   0.00\\nN:      1\\n\",\"                     down\\nQ:   0.00\\nN:      0\\n\",\"                     left\\nQ:   0.00\\nN:      0\\n\",\"                    right\\nQ:   0.00\\nN:      0\\n\",\"GridWorldState(3, 7, false)\\nN:      0\\n\",\"                       up\\nQ:   0.00\\nN:      0\\n\",\"                     down\\nQ:   0.00\\nN:      0\\n\",\"                     left\\nQ:   0.00\\nN:      0\\n\",\"                    right\\nQ:   0.00\\nN:      0\\n\",\"GridWorldState(10, 5, false)\\nN:     12\\n\",\"                       up\\nQ:   0.00\\nN:      3\\n\",\"                     down\\nQ:   3.60\\nN:      5\\n\",\"                     left\\nQ:   0.00\\nN:      2\\n\",\"                    right\\nQ:   0.00\\nN:      2\\n\",\"GridWorldState(7, 5, false)\\nN:     34\\n\",\"                       up\\nQ:   0.00\\nN:      7\\n\",\"                     down\\nQ:   2.33\\nN:     13\\n\",\"                     left\\nQ:   0.00\\nN:      6\\n\",\"                    right\\nQ:   0.91\\nN:      8\\n\",\"GridWorldState(9, 8, false)\\nN:      0\\n\",\"                       up\\nQ:   0.00\\nN:      0\\n\",\"                     down\\nQ:   0.00\\nN:      0\\n\",\"                     left\\nQ:   0.00\\nN:      0\\n\",\"                    right\\nQ:   0.00\\nN:      0\\n\",\"GridWorldState(4, 6, false)\\nN:      2\\n\",\"                       up\\nQ:  -5.00\\nN:      1\\n\",\"                     down\\nQ:  -5.00\\nN:      1\\n\",\"                     left\\nQ:   0.00\\nN:      0\\n\",\"                    right\\nQ:   0.00\\nN:      0\\n\",\"GridWorldState(8, 2, false)\\nN:    593\\n\",\"                       up\\nQ:   5.55\\nN:    204\\n\",\"                     down\\nQ:   0.42\\nN:     15\\n\",\"                     left\\nQ:   0.29\\nN:     14\\n\",\"                    right\\nQ:   6.00\\nN:    360\\n\",\"GridWorldState(6, 4, false)\\nN:    103\\n\",\"                       up\\nQ:   0.00\\nN:     16\\n\",\"                     down\\nQ:   2.50\\nN:     47\\n\",\"                     left\\nQ:  -0.97\\nN:     11\\n\",\"                    right\\nQ:   1.52\\nN:     29\\n\",\"GridWorldState(6, 1, false)\\nN:    797\\n\",\"                       up\\nQ:   2.48\\nN:    161\\n\",\"                     down\\nQ:   0.00\\nN:     46\\n\",\"                     left\\nQ:   1.61\\nN:     82\\n\",\"                    right\\nQ:   3.38\\nN:    508\\n\",\"GridWorldState(10, 3, false)\\nN:    101\\n\",\"                       up\\nQ:   4.47\\nN:     20\\n\",\"                     down\\nQ:   4.83\\nN:     16\\n\",\"                     left\\nQ:   7.03\\nN:     51\\n\",\"                    right\\nQ:   0.00\\nN:     14\\n\",\"GridWorldState(5, 4, false)\\nN:     67\\n\",\"                       up\\nQ:  -0.97\\nN:     11\\n\",\"                     down\\nQ:  -0.51\\nN:     16\\n\",\"                     left\\nQ:  -1.80\\nN:      9\\n\",\"                    right\\nQ:   1.69\\nN:     31\\n\",\"GridWorldState(7, 3, false)\\nN:    648\\n\",\"                       up\\nQ:   0.00\\nN:     16\\n\",\"                     down\\nQ:   3.03\\nN:     46\\n\",\"                     left\\nQ:   0.72\\nN:     19\\n\",\"                    right\\nQ:   6.01\\nN:    567\\n\",\"GridWorldState(1, 6, false)\\nN:     13\\n\",\"                       up\\nQ:   0.00\\nN:      1\\n\",\"                     down\\nQ:   0.00\\nN:      2\\n\",\"                     left\\nQ:   0.00\\nN:     10\\n\",\"                    right\\nQ:   0.00\\nN:      0\\n\",\"GridWorldState(2, 1, false)\\nN:    257\\n\",\"                       up\\nQ:   0.14\\nN:     68\\n\",\"                     down\\nQ:   0.00\\nN:     64\\n\",\"                     left\\nQ:   0.05\\nN:     62\\n\",\"                    right\\nQ:   0.07\\nN:     63\\n\",\"GridWorldState(1, 2, false)\\nN:    137\\n\",\"                       up\\nQ:   0.00\\nN:     36\\n\",\"                     down\\nQ:  -0.37\\nN:     32\\n\",\"                     left\\nQ:   0.00\\nN:     42\\n\",\"                    right\\nQ:  -0.53\\nN:     27\\n\",\"GridWorldState(4, 4, false)\\nN:     23\\n\",\"                       up\\nQ:  -3.69\\nN:      4\\n\",\"                     down\\nQ:  -9.00\\nN:      2\\n\",\"                     left\\nQ:  -1.00\\nN:      9\\n\",\"                    right\\nQ:  -1.13\\nN:      8\\n\",\"GridWorldState(8, 3, false)\\nN:    624\\n\",\"                       up\\nQ:   2.21\\nN:     16\\n\",\"                     down\\nQ:   3.09\\nN:     23\\n\",\"                     left\\nQ:   3.38\\nN:     21\\n\",\"                    right\\nQ:   7.89\\nN:    564\\n\",\"GridWorldState(4, 2, false)\\nN:    466\\n\",\"                       up\\nQ:  -5.13\\nN:     12\\n\",\"                     down\\nQ:  -0.91\\nN:     67\\n\",\"                     left\\nQ:  -0.29\\nN:     98\\n\",\"                    right\\nQ:   1.05\\nN:    289\\n\",\"GridWorldState(9, 3, false)\\nN:   1615\\n\",\"                       up\\nQ:  10.00\\nN:    404\\n\",\"                     down\\nQ:  10.00\\nN:    404\\n\",\"                     left\\nQ:  10.00\\nN:    404\\n\",\"                    right\\nQ:  10.00\\nN:    403\\n\",\"GridWorldState(7, 6, false)\\nN:     12\\n\",\"                       up\\nQ:   0.73\\nN:      3\\n\",\"                     down\\nQ:   2.16\\nN:      4\\n\",\"                     left\\nQ:   1.97\\nN:      3\\n\",\"                    right\\nQ:   0.00\\nN:      2\\n\",\"GridWorldState(3, 5, false)\\nN:     12\\n\",\"                       up\\nQ:  -2.70\\nN:      3\\n\",\"                     down\\nQ:   0.00\\nN:      5\\n\",\"                     left\\nQ:   0.00\\nN:      3\\n\",\"                    right\\nQ:  -7.29\\nN:      1\\n\",\"GridWorldState(3, 3, false)\\nN:     67\\n\",\"                       up\\nQ:  -1.26\\nN:     19\\n\",\"                     down\\nQ:  -0.77\\nN:     22\\n\",\"                     left\\nQ:  -0.93\\nN:     20\\n\",\"                    right\\nQ:  -5.02\\nN:      6\\n\",\"GridWorldState(5, 5, false)\\nN:     28\\n\",\"                       up\\nQ:   0.43\\nN:     10\\n\",\"                     down\\nQ:  -0.28\\nN:      6\\n\",\"                     left\\nQ:  -6.32\\nN:      4\\n\",\"                    right\\nQ:   0.00\\nN:      8\\n\",\"GridWorldState(10, 4, false)\\nN:     57\\n\",\"                       up\\nQ:   4.57\\nN:     15\\n\",\"                     down\\nQ:   4.30\\nN:     15\\n\",\"                     left\\nQ:   3.56\\nN:     12\\n\",\"                    right\\nQ:   0.00\\nN:     15\\n\",\"GridWorldState(1, 1, false)\\nN:    184\\n\",\"                       up\\nQ:  -0.06\\nN:     47\\n\",\"                     down\\nQ:   0.00\\nN:     47\\n\",\"                     left\\nQ:   0.00\\nN:     47\\n\",\"                    right\\nQ:  -0.15\\nN:     43\\n\",\"GridWorldState(7, 4, false)\\nN:    128\\n\",\"                       up\\nQ:   1.32\\nN:     22\\n\",\"                     down\\nQ:   1.99\\nN:     29\\n\",\"                     left\\nQ:  -0.96\\nN:     10\\n\",\"                    right\\nQ:   3.54\\nN:     67\\n\",\"GridWorldState(2, 4, false)\\nN:     37\\n\",\"                       up\\nQ:  -1.78\\nN:      6\\n\",\"                     down\\nQ:   0.00\\nN:     11\\n\",\"                     left\\nQ:   0.00\\nN:     12\\n\",\"                    right\\nQ:  -0.74\\nN:      8\\n\",\"GridWorldState(6, 8, false)\\nN:      0\\n\",\"                       up\\nQ:   0.00\\nN:      0\\n\",\"                     down\\nQ:   0.00\\nN:      0\\n\",\"                     left\\nQ:   0.00\\nN:      0\\n\",\"                    right\\nQ:   0.00\\nN:      0\\n\",\"GridWorldState(3, 1, false)\\nN:    517\\n\",\"                       up\\nQ:  -0.38\\nN:     78\\n\",\"                     down\\nQ:   0.00\\nN:    104\\n\",\"                     left\\nQ:   0.09\\nN:    104\\n\",\"                    right\\nQ:   0.91\\nN:    231\\n\",\"GridWorldState(4, 3, false)\\nN:     77\\n\",\"                       up\\nQ: -10.00\\nN:     20\\n\",\"                     down\\nQ: -10.00\\nN:     19\\n\",\"                     left\\nQ: -10.00\\nN:     19\\n\",\"                    right\\nQ: -10.00\\nN:     19\\n\",\"GridWorldState(4, 5, false)\\nN:     10\\n\",\"                       up\\nQ:  -6.30\\nN:      2\\n\",\"                     down\\nQ:  -2.71\\nN:      3\\n\",\"                     left\\nQ:  -4.05\\nN:      2\\n\",\"                    right\\nQ:  -4.94\\nN:      3\\n\",\"GridWorldState(8, 8, false)\\nN:      0\\n\",\"                       up\\nQ:   0.00\\nN:      0\\n\",\"                     down\\nQ:   0.00\\nN:      0\\n\",\"                     left\\nQ:   0.00\\nN:      0\\n\",\"                    right\\nQ:   0.00\\nN:      0\\n\",\"GridWorldState(9, 2, false)\\nN:   1741\\n\",\"                       up\\nQ:   7.88\\nN:   1685\\n\",\"                     down\\nQ:   1.34\\nN:     15\\n\",\"                     left\\nQ:   0.55\\nN:     12\\n\",\"                    right\\nQ:   2.89\\nN:     29\\n\",\"GridWorldState(8, 5, false)\\nN:     27\\n\",\"                       up\\nQ:   0.00\\nN:      6\\n\",\"                     down\\nQ:   1.22\\nN:      6\\n\",\"                     left\\nQ:   1.24\\nN:      7\\n\",\"                    right\\nQ:   1.34\\nN:      8\\n\",\"GridWorldState(9, 5, false)\\nN:     16\\n\",\"                       up\\nQ:   0.66\\nN:      3\\n\",\"                     down\\nQ:   4.95\\nN:      7\\n\",\"                     left\\nQ:   0.00\\nN:      4\\n\",\"                    right\\nQ:   0.00\\nN:      2\\n\",\"                       up\\nQ:  -0.10\\nN:    109\\n\",\"                     down\\nQ:   0.00\\nN:    120\\n\",\"                     left\\nQ:   0.20\\nN:    127\\n\",\"                    right\\nQ:   1.87\\nN:   1243\\n\",\"GridWorldState(10, 7, false)\\nN:      0\\n\",\"                       up\\nQ:   0.00\\nN:      0\\n\",\"                     down\\nQ:   0.00\\nN:      0\\n\",\"                     left\\nQ:   0.00\\nN:      0\\n\",\"                    right\\nQ:   0.00\\nN:      0\\n\",\"GridWorldState(9, 7, false)\\nN:      1\\n\",\"                       up\\nQ:   2.43\\nN:      1\\n\",\"                     down\\nQ:   0.00\\nN:      0\\n\",\"                     left\\nQ:   0.00\\nN:      0\\n\",\"                    right\\nQ:   0.00\\nN:      0\\n\",\"GridWorldState(9, 4, false)\\nN:     38\\n\",\"                       up\\nQ:   2.27\\nN:      4\\n\",\"                     down\\nQ:   7.36\\nN:     16\\n\",\"                     left\\nQ:   0.00\\nN:      6\\n\",\"                    right\\nQ:   6.10\\nN:     12\\n\",\"GridWorldState(6, 5, false)\\nN:     28\\n\",\"                       up\\nQ:   0.68\\nN:      7\\n\",\"                     down\\nQ:   0.88\\nN:      8\\n\",\"                     left\\nQ:   0.00\\nN:      8\\n\",\"                    right\\nQ:  -0.86\\nN:      5\\n\",\"GridWorldState(5, 2, false)\\nN:    835\\n\",\"                       up\\nQ:   1.36\\nN:    107\\n\",\"                     down\\nQ:   1.56\\nN:    124\\n\",\"                     left\\nQ:  -0.54\\nN:     34\\n\",\"                    right\\nQ:   2.91\\nN:    570\\n\",\"GridWorldState(10, 6, false)\\nN:      3\\n\",\"                       up\\nQ:   0.00\\nN:      1\\n\",\"                     down\\nQ:   0.00\\nN:      1\\n\",\"                     left\\nQ:   0.00\\nN:      1\\n\",\"                    right\\nQ:   0.00\\nN:      0\\n\",\"GridWorldState(6, 6, false)\\nN:     10\\n\",\"                       up\\nQ:   0.00\\nN:      3\\n\",\"                     down\\nQ:   0.00\\nN:      2\\n\",\"                     left\\nQ:   0.00\\nN:      2\\n\",\"                    right\\nQ:   1.77\\nN:      3\\n\",\"GridWorldState(2, 3, false)\\nN:     63\\n\",\"                       up\\nQ:  -0.88\\nN:     15\\n\",\"                     down\\nQ:  -1.79\\nN:     11\\n\",\"                     left\\nQ:  -0.89\\nN:     19\\n\",\"                    right\\nQ:  -0.46\\nN:     18\\n\",\"GridWorldState(1, 7, false)\\nN:      0\\n\",\"                       up\\nQ:   0.00\\nN:      0\\n\",\"                     down\\nQ:   0.00\\nN:      0\\n\",\"                     left\\nQ:   0.00\\nN:      0\\n\",\"                    right\\nQ:   0.00\\nN:      0\\n\",\"GridWorldState(10, 2, false)\\nN:    319\\n\",\"                       up\\nQ:   4.81\\nN:     60\\n\",\"                     down\\nQ:   4.41\\nN:     47\\n\",\"                     left\\nQ:   6.20\\nN:    193\\n\",\"                    right\\nQ:   0.00\\nN:     19\\n\",\"GridWorldState(2, 7, false)\\nN:      0\\n\",\"                       up\\nQ:   0.00\\nN:      0\\n\",\"                     down\\nQ:   0.00\\nN:      0\\n\",\"                     left\\nQ:   0.00\\nN:      0\\n\",\"                    right\\nQ:   0.00\\nN:      0\\n\",\"GridWorldState(3, 6, false)\\nN:      1\\n\",\"                       up\\nQ:   0.00\\nN:      1\\n\",\"                     down\\nQ:   0.00\\nN:      0\\n\",\"                     left\\nQ:   0.00\\nN:      0\\n\",\"                    right\\nQ:   0.00\\nN:      0\\n\",\"GridWorldState(7, 7, false)\\nN:      0\\n\",\"                       up\\nQ:   0.00\\nN:      0\\n\",\"                     down\\nQ:   0.00\\nN:      0\\n\",\"                     left\\nQ:   0.00\\nN:      0\\n\",\"                    right\\nQ:   0.00\\nN:      0\\n\",\"GridWorldState(7, 2, false)\\nN:    699\\n\",\"                       up\\nQ:   5.02\\nN:    351\\n\",\"                     down\\nQ:   0.49\\nN:     22\\n\",\"                     left\\nQ:  -1.05\\nN:     13\\n\",\"                    right\\nQ:   4.81\\nN:    313\\n\",\"GridWorldState(8, 6, false)\\nN:     10\\n\",\"                       up\\nQ:   0.00\\nN:      2\\n\",\"                     down\\nQ:   1.22\\nN:      2\\n\",\"                     left\\nQ:   2.15\\nN:      2\\n\",\"                    right\\nQ:   1.64\\nN:      4\\n\",\"GridWorldState(10, 1, false)\\nN:    198\\n\",\"                       up\\nQ:   4.02\\nN:     54\\n\",\"                     down\\nQ:   0.00\\nN:     18\\n\",\"                     left\\nQ:   4.86\\nN:    108\\n\",\"                    right\\nQ:   0.00\\nN:     18\\n\",\"GridWorldState(1, 3, false)\\nN:     74\\n\",\"                       up\\nQ:   0.00\\nN:     22\\n\",\"                     down\\nQ:  -1.21\\nN:     12\\n\",\"                     left\\nQ:   0.00\\nN:     21\\n\",\"                    right\\nQ:   0.00\\nN:     19\\n\",\"GridWorldState(2, 5, false)\\nN:     14\\n\",\"                       up\\nQ:   0.00\\nN:      3\\n\",\"                     down\\nQ:  -5.94\\nN:      2\\n\",\"                     left\\nQ:   0.00\\nN:      7\\n\",\"                    right\\nQ:   0.00\\nN:      2\\n\",\"GridWorldState(5, 7, false)\\nN:      3\\n\",\"                       up\\nQ:   0.00\\nN:      1\\n\",\"                     down\\nQ:   0.00\\nN:      2\\n\",\"                     left\\nQ:   0.00\\nN:      0\\n\",\"                    right\\nQ:   0.00\\nN:      0\\n\",\"GridWorldState(6, 2, false)\\nN:    791\\n\",\"                       up\\nQ:   3.28\\nN:    211\\n\",\"                     down\\nQ:   2.45\\nN:    100\\n\",\"                     left\\nQ:   1.28\\nN:     48\\n\",\"                    right\\nQ:   3.89\\nN:    432\\n\",\"GridWorldState(4, 6, true)\\nN:      0\\n\",\"GridWorldState(4, 6, true)\\nN:      0\\n\",\"GridWorldState(9, 3, true)\\nN:      0\\n\",\"GridWorldState(9, 3, true)\\nN:      0\\n\",\"GridWorldState(9, 3, true)\\nN:      0\\n\",\"GridWorldState(9, 3, true)\\nN:      0\\n\",\"GridWorldState(4, 3, true)\\nN:      0\\n\",\"GridWorldState(4, 3, true)\\nN:      0\\n\",\"GridWorldState(4, 3, true)\\nN:      0\\n\",\"GridWorldState(4, 3, true)\\nN:      0\\n\",\"GridWorldState(5, 8, false)\\nN:      0\\n\"],\"tooltip\":[\"GridWorldState(4, 1, false)\\nN: 1599\\n\",\"GridWorldState(6, 3, false)\\nN: 390\\n\",\"up\\nQ: 0.10092682777757156\\nN: 21\\n\",\"down\\nQ: 0.8040345408359999\\nN: 25\\n\",\"left\\nQ: -1.8714577888688824\\nN: 17\\n\",\"right\\nQ: 4.40713033495092\\nN: 327\\n\",\"GridWorldState(1, 5, false)\\nN: 17\\n\",\"up\\nQ: 0.0\\nN: 3\\n\",\"down\\nQ: 0.0\\nN: 4\\n\",\"left\\nQ: 0.0\\nN: 5\\n\",\"right\\nQ: 0.0\\nN: 5\\n\",\"GridWorldState(8, 4, false)\\nN: 126\\n\",\"up\\nQ: 0.0\\nN: 9\\n\",\"down\\nQ: 5.162768571807693\\nN: 78\\n\",\"left\\nQ: 0.0\\nN: 9\\n\",\"right\\nQ: 3.175579463399999\\nN: 30\\n\",\"GridWorldState(2, 6, false)\\nN: 4\\n\",\"up\\nQ: 0.0\\nN: 1\\n\",\"down\\nQ: 0.0\\nN: 2\\n\",\"left\\nQ: 0.0\\nN: 1\\n\",\"right\\nQ: 0.0\\nN: 0\\n\",\"GridWorldState(2, 2, false)\\nN: 163\\n\",\"up\\nQ: -1.692947641382609\\nN: 23\\n\",\"down\\nQ: 0.2242686244743\\nN: 54\\n\",\"left\\nQ: -0.2624773812975\\nN: 40\\n\",\"right\\nQ: -0.0623007467029195\\nN: 46\\n\",\"GridWorldState(5, 3, false)\\nN: 189\\n\",\"up\\nQ: -0.8233900128726924\\nN: 26\\n\",\"down\\nQ: -7.1955738\\nN: 5\\n\",\"left\\nQ: -4.21951\\nN: 9\\n\",\"right\\nQ: 1.6199784775876258\\nN: 149\\n\",\"GridWorldState(5, 6, false)\\nN: 11\\n\",\"up\\nQ: 0.0\\nN: 2\\n\",\"down\\nQ: 0.0\\nN: 4\\n\",\"left\\nQ: -4.5\\nN: 1\\n\",\"right\\nQ: 1.1957422500000001\\nN: 4\\n\",\"GridWorldState(8, 7, false)\\nN: 2\\n\",\"up\\nQ: 0.0\\nN: 1\\n\",\"down\\nQ: 2.7\\nN: 1\\n\",\"left\\nQ: 0.0\\nN: 0\\n\",\"right\\nQ: 0.0\\nN: 0\\n\",\"GridWorldState(7, 1, false)\\nN: 603\\n\",\"up\\nQ: 3.89287482894314\\nN: 202\\n\",\"down\\nQ: 0.0\\nN: 34\\n\",\"left\\nQ: 0.9856961406562502\\nN: 32\\n\",\"right\\nQ: 4.050129318555431\\nN: 335\\n\",\"GridWorldState(5, 1, false)\\nN: 1287\\n\",\"up\\nQ: 2.44472500347881\\nN: 533\\n\",\"down\\nQ: 0.0\\nN: 56\\n\",\"left\\nQ: 0.3335696848448407\\nN: 68\\n\",\"right\\nQ: 2.4764129597952285\\nN: 630\\n\",\"GridWorldState(9, 1, false)\\nN: 551\\n\",\"up\\nQ: 6.234975321516642\\nN: 446\\n\",\"down\\nQ: 0.0\\nN: 19\\n\",\"left\\nQ: 3.444959278271957\\nN: 42\\n\",\"right\\nQ: 3.665154640909091\\nN: 44\\n\",\"GridWorldState(1, 4, false)\\nN: 33\\n\",\"up\\nQ: -0.7174453499999999\\nN: 6\\n\",\"down\\nQ: 0.0\\nN: 10\\n\",\"left\\nQ: 0.0\\nN: 8\\n\",\"right\\nQ: 0.0\\nN: 9\\n\",\"GridWorldState(8, 1, false)\\nN: 462\\n\",\"up\\nQ: 2.56674357225\\nN: 40\\n\",\"down\\nQ: 0.0\\nN: 20\\n\",\"left\\nQ: 3.437590633983\\nN: 63\\n\",\"right\\nQ: 5.125338523610547\\nN: 339\\n\",\"GridWorldState(3, 4, false)\\nN: 41\\n\",\"up\\nQ: -0.6075\\nN: 12\\n\",\"down\\nQ: -1.1052450000000003\\nN: 10\\n\",\"left\\nQ: -0.33136363636363636\\nN: 11\\n\",\"right\\nQ: -1.5505840124999999\\nN: 8\\n\",\"GridWorldState(3, 2, false)\\nN: 266\\n\",\"up\\nQ: -1.2233568921204603\\nN: 35\\n\",\"down\\nQ: 0.041172671097120625\\nN: 91\\n\",\"left\\nQ: -0.6281206684063112\\nN: 53\\n\",\"right\\nQ: 0.09528884710842635\\nN: 87\\n\",\"GridWorldState(9, 6, false)\\nN: 3\\n\",\"up\\nQ: 2.1870000000000003\\nN: 1\\n\",\"down\\nQ: 7.29\\nN: 1\\n\",\"left\\nQ: 0.0\\nN: 1\\n\",\"right\\nQ: 0.0\\nN: 0\\n\",\"GridWorldState(6, 7, false)\\nN: 1\\n\",\"up\\nQ: 0.0\\nN: 1\\n\",\"down\\nQ: 0.0\\nN: 0\\n\",\"left\\nQ: 0.0\\nN: 0\\n\",\"right\\nQ: 0.0\\nN: 0\\n\",\"GridWorldState(3, 7, false)\\nN: 0\\n\",\"up\\nQ: 0.0\\nN: 0\\n\",\"down\\nQ: 0.0\\nN: 0\\n\",\"left\\nQ: 0.0\\nN: 0\\n\",\"right\\nQ: 0.0\\nN: 0\\n\",\"GridWorldState(10, 5, false)\\nN: 12\\n\",\"up\\nQ: 0.0\\nN: 3\\n\",\"down\\nQ: 3.5955738000000004\\nN: 5\\n\",\"left\\nQ: 0.0\\nN: 2\\n\",\"right\\nQ: 0.0\\nN: 2\\n\",\"GridWorldState(7, 5, false)\\nN: 34\\n\",\"up\\nQ: 0.0\\nN: 7\\n\",\"down\\nQ: 2.3304374231538465\\nN: 13\\n\",\"left\\nQ: 0.0\\nN: 6\\n\",\"right\\nQ: 0.9103387500000001\\nN: 8\\n\",\"GridWorldState(9, 8, false)\\nN: 0\\n\",\"up\\nQ: 0.0\\nN: 0\\n\",\"down\\nQ: 0.0\\nN: 0\\n\",\"left\\nQ: 0.0\\nN: 0\\n\",\"right\\nQ: 0.0\\nN: 0\\n\",\"GridWorldState(4, 6, false)\\nN: 2\\n\",\"up\\nQ: -5.0\\nN: 1\\n\",\"down\\nQ: -5.0\\nN: 1\\n\",\"left\\nQ: 0.0\\nN: 0\\n\",\"right\\nQ: 0.0\\nN: 0\\n\",\"GridWorldState(8, 2, false)\\nN: 593\\n\",\"up\\nQ: 5.5522824819744105\\nN: 204\\n\",\"down\\nQ: 0.420738651054\\nN: 15\\n\",\"left\\nQ: 0.2941648360537185\\nN: 14\\n\",\"right\\nQ: 5.997646604703373\\nN: 360\\n\",\"GridWorldState(6, 4, false)\\nN: 103\\n\",\"up\\nQ: 0.0\\nN: 16\\n\",\"down\\nQ: 2.5005062638723405\\nN: 47\\n\",\"left\\nQ: -0.9716244545454547\\nN: 11\\n\",\"right\\nQ: 1.5235287738144825\\nN: 29\\n\",\"GridWorldState(6, 1, false)\\nN: 797\\n\",\"up\\nQ: 2.481718791761666\\nN: 161\\n\",\"down\\nQ: 0.0\\nN: 46\\n\",\"left\\nQ: 1.6061286510227504\\nN: 82\\n\",\"right\\nQ: 3.3837721843151107\\nN: 508\\n\",\"GridWorldState(10, 3, false)\\nN: 101\\n\",\"up\\nQ: 4.470879403775648\\nN: 20\\n\",\"down\\nQ: 4.834904698133885\\nN: 16\\n\",\"left\\nQ: 7.032815823529411\\nN: 51\\n\",\"right\\nQ: 0.0\\nN: 14\\n\",\"GridWorldState(5, 4, false)\\nN: 67\\n\",\"up\\nQ: -0.9691256413636363\\nN: 11\\n\",\"down\\nQ: -0.5062500000000001\\nN: 16\\n\",\"left\\nQ: -1.7999999999999998\\nN: 9\\n\",\"right\\nQ: 1.693687078068678\\nN: 31\\n\",\"GridWorldState(7, 3, false)\\nN: 648\\n\",\"up\\nQ: 0.0\\nN: 16\\n\",\"down\\nQ: 3.0265176449523916\\nN: 46\\n\",\"left\\nQ: 0.7167790631842106\\nN: 19\\n\",\"right\\nQ: 6.010793896814012\\nN: 567\\n\",\"GridWorldState(1, 6, false)\\nN: 13\\n\",\"up\\nQ: 0.0\\nN: 1\\n\",\"down\\nQ: 0.0\\nN: 2\\n\",\"left\\nQ: 0.0\\nN: 10\\n\",\"right\\nQ: 0.0\\nN: 0\\n\",\"GridWorldState(2, 1, false)\\nN: 257\\n\",\"up\\nQ: 0.13787427148917197\\nN: 68\\n\",\"down\\nQ: 0.0\\nN: 64\\n\",\"left\\nQ: 0.049398961607562956\\nN: 62\\n\",\"right\\nQ: 0.06510663412645486\\nN: 63\\n\",\"GridWorldState(1, 2, false)\\nN: 137\\n\",\"up\\nQ: 0.0\\nN: 36\\n\",\"down\\nQ: -0.3711065625\\nN: 32\\n\",\"left\\nQ: 0.0\\nN: 42\\n\",\"right\\nQ: -0.5315724629999999\\nN: 27\\n\",\"GridWorldState(4, 4, false)\\nN: 23\\n\",\"up\\nQ: -3.6926685000000004\\nN: 4\\n\",\"down\\nQ: -9.0\\nN: 2\\n\",\"left\\nQ: -1.0\\nN: 9\\n\",\"right\\nQ: -1.125\\nN: 8\\n\",\"GridWorldState(8, 3, false)\\nN: 624\\n\",\"up\\nQ: 2.2118625\\nN: 16\\n\",\"down\\nQ: 3.0889988647826083\\nN: 23\\n\",\"left\\nQ: 3.3750863314714286\\nN: 21\\n\",\"right\\nQ: 7.885142510588301\\nN: 564\\n\",\"GridWorldState(4, 2, false)\\nN: 466\\n\",\"up\\nQ: -5.1336508830075\\nN: 12\\n\",\"down\\nQ: -0.912133575622968\\nN: 67\\n\",\"left\\nQ: -0.2931398565930263\\nN: 98\\n\",\"right\\nQ: 1.0461499010896496\\nN: 289\\n\",\"GridWorldState(9, 3, false)\\nN: 1615\\n\",\"up\\nQ: 10.0\\nN: 404\\n\",\"down\\nQ: 10.0\\nN: 404\\n\",\"left\\nQ: 10.0\\nN: 404\\n\",\"right\\nQ: 10.0\\nN: 403\\n\",\"GridWorldState(7, 6, false)\\nN: 12\\n\",\"up\\nQ: 0.7290000000000001\\nN: 3\\n\",\"down\\nQ: 2.1642934725000003\\nN: 4\\n\",\"left\\nQ: 1.9683000000000002\\nN: 3\\n\",\"right\\nQ: 0.0\\nN: 2\\n\",\"GridWorldState(3, 5, false)\\nN: 12\\n\",\"up\\nQ: -2.6999999999999997\\nN: 3\\n\",\"down\\nQ: 0.0\\nN: 5\\n\",\"left\\nQ: 0.0\\nN: 3\\n\",\"right\\nQ: -7.29\\nN: 1\\n\",\"GridWorldState(3, 3, false)\\nN: 67\\n\",\"up\\nQ: -1.2616366947631579\\nN: 19\\n\",\"down\\nQ: -0.7724944668354548\\nN: 22\\n\",\"left\\nQ: -0.9277088339614502\\nN: 20\\n\",\"right\\nQ: -5.023017660150001\\nN: 6\\n\",\"GridWorldState(5, 5, false)\\nN: 28\\n\",\"up\\nQ: 0.43046721000000004\\nN: 10\\n\",\"down\\nQ: -0.2818965914999997\\nN: 6\\n\",\"left\\nQ: -6.31696725\\nN: 4\\n\",\"right\\nQ: 0.0\\nN: 8\\n\",\"GridWorldState(10, 4, false)\\nN: 57\\n\",\"up\\nQ: 4.57036614\\nN: 15\\n\",\"down\\nQ: 4.303086357654\\nN: 15\\n\",\"left\\nQ: 3.5613674999999994\\nN: 12\\n\",\"right\\nQ: 0.0\\nN: 15\\n\",\"GridWorldState(1, 1, false)\\nN: 184\\n\",\"up\\nQ: -0.06233933640740762\\nN: 47\\n\",\"down\\nQ: 0.0\\nN: 47\\n\",\"left\\nQ: 0.0\\nN: 47\\n\",\"right\\nQ: -0.15334292184830606\\nN: 43\\n\",\"GridWorldState(7, 4, false)\\nN: 128\\n\",\"up\\nQ: 1.3246397222727275\\nN: 22\\n\",\"down\\nQ: 1.9933728237931037\\nN: 29\\n\",\"left\\nQ: -0.96190821\\nN: 10\\n\",\"right\\nQ: 3.544574769443284\\nN: 67\\n\",\"GridWorldState(2, 4, false)\\nN: 37\\n\",\"up\\nQ: -1.7813115000000002\\nN: 6\\n\",\"down\\nQ: 0.0\\nN: 11\\n\",\"left\\nQ: 0.0\\nN: 12\\n\",\"right\\nQ: -0.742213125\\nN: 8\\n\",\"GridWorldState(6, 8, false)\\nN: 0\\n\",\"up\\nQ: 0.0\\nN: 0\\n\",\"down\\nQ: 0.0\\nN: 0\\n\",\"left\\nQ: 0.0\\nN: 0\\n\",\"right\\nQ: 0.0\\nN: 0\\n\",\"GridWorldState(3, 1, false)\\nN: 517\\n\",\"up\\nQ: -0.3791223121310331\\nN: 78\\n\",\"down\\nQ: 0.0\\nN: 104\\n\",\"left\\nQ: 0.08703157700961202\\nN: 104\\n\",\"right\\nQ: 0.9148690693592205\\nN: 231\\n\",\"GridWorldState(4, 3, false)\\nN: 77\\n\",\"up\\nQ: -10.0\\nN: 20\\n\",\"down\\nQ: -10.0\\nN: 19\\n\",\"left\\nQ: -10.0\\nN: 19\\n\",\"right\\nQ: -10.0\\nN: 19\\n\",\"GridWorldState(4, 5, false)\\nN: 10\\n\",\"up\\nQ: -6.3\\nN: 2\\n\",\"down\\nQ: -2.715\\nN: 3\\n\",\"left\\nQ: -4.05\\nN: 2\\n\",\"right\\nQ: -4.942620000000001\\nN: 3\\n\",\"GridWorldState(8, 8, false)\\nN: 0\\n\",\"up\\nQ: 0.0\\nN: 0\\n\",\"down\\nQ: 0.0\\nN: 0\\n\",\"left\\nQ: 0.0\\nN: 0\\n\",\"right\\nQ: 0.0\\nN: 0\\n\",\"GridWorldState(9, 2, false)\\nN: 1741\\n\",\"up\\nQ: 7.883942793753976\\nN: 1685\\n\",\"down\\nQ: 1.3436269719486\\nN: 15\\n\",\"left\\nQ: 0.5467500000000001\\nN: 12\\n\",\"right\\nQ: 2.894014941444483\\nN: 29\\n\",\"GridWorldState(8, 5, false)\\nN: 27\\n\",\"up\\nQ: 0.0\\nN: 6\\n\",\"down\\nQ: 1.215\\nN: 6\\n\",\"left\\nQ: 1.2367391271428574\\nN: 7\\n\",\"right\\nQ: 1.3359836250000001\\nN: 8\\n\",\"GridWorldState(9, 5, false)\\nN: 16\\n\",\"up\\nQ: 0.6561000000000001\\nN: 3\\n\",\"down\\nQ: 4.948058571428572\\nN: 7\\n\",\"left\\nQ: 0.0\\nN: 4\\n\",\"right\\nQ: 0.0\\nN: 2\\n\",\"up\\nQ: -0.0966970289992535\\nN: 109\\n\",\"down\\nQ: 0.0\\nN: 120\\n\",\"left\\nQ: 0.19634409536101388\\nN: 127\\n\",\"right\\nQ: 1.8663466038614491\\nN: 1243\\n\",\"GridWorldState(10, 7, false)\\nN: 0\\n\",\"up\\nQ: 0.0\\nN: 0\\n\",\"down\\nQ: 0.0\\nN: 0\\n\",\"left\\nQ: 0.0\\nN: 0\\n\",\"right\\nQ: 0.0\\nN: 0\\n\",\"GridWorldState(9, 7, false)\\nN: 1\\n\",\"up\\nQ: 2.43\\nN: 1\\n\",\"down\\nQ: 0.0\\nN: 0\\n\",\"left\\nQ: 0.0\\nN: 0\\n\",\"right\\nQ: 0.0\\nN: 0\\n\",\"GridWorldState(9, 4, false)\\nN: 38\\n\",\"up\\nQ: 2.2653675\\nN: 4\\n\",\"down\\nQ: 7.36093125\\nN: 16\\n\",\"left\\nQ: 0.0\\nN: 6\\n\",\"right\\nQ: 6.102425407499999\\nN: 12\\n\",\"GridWorldState(6, 5, false)\\nN: 28\\n\",\"up\\nQ: 0.6832812857142858\\nN: 7\\n\",\"down\\nQ: 0.8765388563625002\\nN: 8\\n\",\"left\\nQ: 0.0\\nN: 8\\n\",\"right\\nQ: -0.8609344200000001\\nN: 5\\n\",\"GridWorldState(5, 2, false)\\nN: 835\\n\",\"up\\nQ: 1.3558174986896085\\nN: 107\\n\",\"down\\nQ: 1.5609787955876253\\nN: 124\\n\",\"left\\nQ: -0.5440454209999076\\nN: 34\\n\",\"right\\nQ: 2.9107224015195574\\nN: 570\\n\",\"GridWorldState(10, 6, false)\\nN: 3\\n\",\"up\\nQ: 0.0\\nN: 1\\n\",\"down\\nQ: 0.0\\nN: 1\\n\",\"left\\nQ: 0.0\\nN: 1\\n\",\"right\\nQ: 0.0\\nN: 0\\n\",\"GridWorldState(6, 6, false)\\nN: 10\\n\",\"up\\nQ: 0.0\\nN: 3\\n\",\"down\\nQ: 0.0\\nN: 2\\n\",\"left\\nQ: 0.0\\nN: 2\\n\",\"right\\nQ: 1.7714700000000003\\nN: 3\\n\",\"GridWorldState(2, 3, false)\\nN: 63\\n\",\"up\\nQ: -0.8756927334000002\\nN: 15\\n\",\"down\\nQ: -1.7878969546363639\\nN: 11\\n\",\"left\\nQ: -0.8895365474210527\\nN: 19\\n\",\"right\\nQ: -0.45823234504500004\\nN: 18\\n\",\"GridWorldState(1, 7, false)\\nN: 0\\n\",\"up\\nQ: 0.0\\nN: 0\\n\",\"down\\nQ: 0.0\\nN: 0\\n\",\"left\\nQ: 0.0\\nN: 0\\n\",\"right\\nQ: 0.0\\nN: 0\\n\",\"GridWorldState(10, 2, false)\\nN: 319\\n\",\"up\\nQ: 4.808355726849022\\nN: 60\\n\",\"down\\nQ: 4.414140029123617\\nN: 47\\n\",\"left\\nQ: 6.195615981705185\\nN: 193\\n\",\"right\\nQ: 0.0\\nN: 19\\n\",\"GridWorldState(2, 7, false)\\nN: 0\\n\",\"up\\nQ: 0.0\\nN: 0\\n\",\"down\\nQ: 0.0\\nN: 0\\n\",\"left\\nQ: 0.0\\nN: 0\\n\",\"right\\nQ: 0.0\\nN: 0\\n\",\"GridWorldState(3, 6, false)\\nN: 1\\n\",\"up\\nQ: 0.0\\nN: 1\\n\",\"down\\nQ: 0.0\\nN: 0\\n\",\"left\\nQ: 0.0\\nN: 0\\n\",\"right\\nQ: 0.0\\nN: 0\\n\",\"GridWorldState(7, 7, false)\\nN: 0\\n\",\"up\\nQ: 0.0\\nN: 0\\n\",\"down\\nQ: 0.0\\nN: 0\\n\",\"left\\nQ: 0.0\\nN: 0\\n\",\"right\\nQ: 0.0\\nN: 0\\n\",\"GridWorldState(7, 2, false)\\nN: 699\\n\",\"up\\nQ: 5.021292965162144\\nN: 351\\n\",\"down\\nQ: 0.49385824669677264\\nN: 22\\n\",\"left\\nQ: -1.0510995038538462\\nN: 13\\n\",\"right\\nQ: 4.809757926333131\\nN: 313\\n\",\"GridWorldState(8, 6, false)\\nN: 10\\n\",\"up\\nQ: 0.0\\nN: 2\\n\",\"down\\nQ: 1.215\\nN: 2\\n\",\"left\\nQ: 2.15233605\\nN: 2\\n\",\"right\\nQ: 1.6402500000000002\\nN: 4\\n\",\"GridWorldState(10, 1, false)\\nN: 198\\n\",\"up\\nQ: 4.01614067835\\nN: 54\\n\",\"down\\nQ: 0.0\\nN: 18\\n\",\"left\\nQ: 4.857828724562468\\nN: 108\\n\",\"right\\nQ: 0.0\\nN: 18\\n\",\"GridWorldState(1, 3, false)\\nN: 74\\n\",\"up\\nQ: 0.0\\nN: 22\\n\",\"down\\nQ: -1.2135061575000001\\nN: 12\\n\",\"left\\nQ: 0.0\\nN: 21\\n\",\"right\\nQ: 0.0\\nN: 19\\n\",\"GridWorldState(2, 5, false)\\nN: 14\\n\",\"up\\nQ: 0.0\\nN: 3\\n\",\"down\\nQ: -5.937705\\nN: 2\\n\",\"left\\nQ: 0.0\\nN: 7\\n\",\"right\\nQ: 0.0\\nN: 2\\n\",\"GridWorldState(5, 7, false)\\nN: 3\\n\",\"up\\nQ: 0.0\\nN: 1\\n\",\"down\\nQ: 0.0\\nN: 2\\n\",\"left\\nQ: 0.0\\nN: 0\\n\",\"right\\nQ: 0.0\\nN: 0\\n\",\"GridWorldState(6, 2, false)\\nN: 791\\n\",\"up\\nQ: 3.2847083732739777\\nN: 211\\n\",\"down\\nQ: 2.454940406277783\\nN: 100\\n\",\"left\\nQ: 1.2823710969375004\\nN: 48\\n\",\"right\\nQ: 3.8932476932596356\\nN: 432\\n\",\"GridWorldState(4, 6, true)\\nN: 0\\n\",\"GridWorldState(4, 6, true)\\nN: 0\\n\",\"GridWorldState(9, 3, true)\\nN: 0\\n\",\"GridWorldState(9, 3, true)\\nN: 0\\n\",\"GridWorldState(9, 3, true)\\nN: 0\\n\",\"GridWorldState(9, 3, true)\\nN: 0\\n\",\"GridWorldState(4, 3, true)\\nN: 0\\n\",\"GridWorldState(4, 3, true)\\nN: 0\\n\",\"GridWorldState(4, 3, true)\\nN: 0\\n\",\"GridWorldState(4, 3, true)\\nN: 0\\n\",\"GridWorldState(5, 8, false)\\nN: 0\\n\"],\"style\":[\"\",\"\",\"stroke:#7E4100\",\"stroke:#754500\",\"stroke:#973400\",\"stroke:#475C00\",\"\",\"stroke:#7F4000\",\"stroke:#7F4000\",\"stroke:#7F4000\",\"stroke:#7F4000\",\"\",\"stroke:#7F4000\",\"stroke:#3E6100\",\"stroke:#7F4000\",\"stroke:#575400\",\"\",\"stroke:#7F4000\",\"stroke:#7F4000\",\"stroke:#7F4000\",\"stroke:#7F4000\",\"\",\"stroke:#953500\",\"stroke:#7D4100\",\"stroke:#833E00\",\"stroke:#804000\",\"\",\"stroke:#8A3B00\",\"stroke:#DB1200\",\"stroke:#B52500\",\"stroke:#6B4A00\",\"\",\"stroke:#7F4000\",\"stroke:#7F4000\",\"stroke:#B92300\",\"stroke:#704800\",\"\",\"stroke:#7F4000\",\"stroke:#5D5100\",\"stroke:#7F4000\",\"stroke:#7F4000\",\"\",\"stroke:#4E5900\",\"stroke:#7F4000\",\"stroke:#734600\",\"stroke:#4C5A00\",\"\",\"stroke:#605000\",\"stroke:#7F4000\",\"stroke:#7B4200\",\"stroke:#605000\",\"\",\"stroke:#306800\",\"stroke:#7F4000\",\"stroke:#545600\",\"stroke:#515700\",\"\",\"stroke:#893B00\",\"stroke:#7F4000\",\"stroke:#7F4000\",\"stroke:#7F4000\",\"\",\"stroke:#5F5000\",\"stroke:#7F4000\",\"stroke:#545600\",\"stroke:#3E6100\",\"\",\"stroke:#873C00\",\"stroke:#8E3900\",\"stroke:#843E00\",\"stroke:#933600\",\"\",\"stroke:#8F3800\",\"stroke:#7F4000\",\"stroke:#883C00\",\"stroke:#7E4100\",\"\",\"stroke:#644E00\",\"stroke:#236E00\",\"stroke:#7F4000\",\"stroke:#7F4000\",\"\",\"stroke:#7F4000\",\"stroke:#7F4000\",\"stroke:#7F4000\",\"stroke:#7F4000\",\"\",\"stroke:#7F4000\",\"stroke:#7F4000\",\"stroke:#7F4000\",\"stroke:#7F4000\",\"\",\"stroke:#7F4000\",\"stroke:#525700\",\"stroke:#7F4000\",\"stroke:#7F4000\",\"\",\"stroke:#7F4000\",\"stroke:#624F00\",\"stroke:#7F4000\",\"stroke:#744600\",\"\",\"stroke:#7F4000\",\"stroke:#7F4000\",\"stroke:#7F4000\",\"stroke:#7F4000\",\"\",\"stroke:#BF2000\",\"stroke:#BF2000\",\"stroke:#7F4000\",\"stroke:#7F4000\",\"\",\"stroke:#396300\",\"stroke:#7A4300\",\"stroke:#7C4200\",\"stroke:#336600\",\"\",\"stroke:#7F4000\",\"stroke:#605000\",\"stroke:#8C3A00\",\"stroke:#6C4A00\",\"\",\"stroke:#605000\",\"stroke:#7F4000\",\"stroke:#6B4A00\",\"stroke:#545600\",\"\",\"stroke:#465D00\",\"stroke:#425F00\",\"stroke:#266D00\",\"stroke:#7F4000\",\"\",\"stroke:#8C3A00\",\"stroke:#863D00\",\"stroke:#963500\",\"stroke:#6A4B00\",\"\",\"stroke:#7F4000\",\"stroke:#595300\",\"stroke:#764500\",\"stroke:#336600\",\"\",\"stroke:#7F4000\",\"stroke:#7F4000\",\"stroke:#7F4000\",\"stroke:#7F4000\",\"\",\"stroke:#7E4100\",\"stroke:#7F4000\",\"stroke:#7F4000\",\"stroke:#7F4000\",\"\",\"stroke:#7F4000\",\"stroke:#843E00\",\"stroke:#7F4000\",\"stroke:#863D00\",\"\",\"stroke:#AF2800\",\"stroke:#F20700\",\"stroke:#8C3A00\",\"stroke:#8E3900\",\"\",\"stroke:#634E00\",\"stroke:#585400\",\"stroke:#545600\",\"stroke:#1B7200\",\"\",\"stroke:#C11F00\",\"stroke:#8B3A00\",\"stroke:#833E00\",\"stroke:#724700\",\"\",\"stroke:#008000\",\"stroke:#008000\",\"stroke:#008000\",\"stroke:#008000\",\"\",\"stroke:#764500\",\"stroke:#644E00\",\"stroke:#664D00\",\"stroke:#7F4000\",\"\",\"stroke:#A22F00\",\"stroke:#7F4000\",\"stroke:#7F4000\",\"stroke:#DC1200\",\"\",\"stroke:#903800\",\"stroke:#893B00\",\"stroke:#8B3A00\",\"stroke:#C02000\",\"\",\"stroke:#7A4300\",\"stroke:#833E00\",\"stroke:#D01800\",\"stroke:#7F4000\",\"\",\"stroke:#455D00\",\"stroke:#495B00\",\"stroke:#525700\",\"stroke:#7F4000\",\"\",\"stroke:#804000\",\"stroke:#7F4000\",\"stroke:#7F4000\",\"stroke:#813F00\",\"\",\"stroke:#6F4800\",\"stroke:#664D00\",\"stroke:#8C3A00\",\"stroke:#525700\",\"\",\"stroke:#963500\",\"stroke:#7F4000\",\"stroke:#7F4000\",\"stroke:#893B00\",\"\",\"stroke:#7F4000\",\"stroke:#7F4000\",\"stroke:#7F4000\",\"stroke:#7F4000\",\"\",\"stroke:#843E00\",\"stroke:#7F4000\",\"stroke:#7E4100\",\"stroke:#744600\",\"\",\"stroke:#FF0000\",\"stroke:#FF0000\",\"stroke:#FF0000\",\"stroke:#FF0000\",\"\",\"stroke:#D01800\",\"stroke:#A22F00\",\"stroke:#B32600\",\"stroke:#BF2000\",\"\",\"stroke:#7F4000\",\"stroke:#7F4000\",\"stroke:#7F4000\",\"stroke:#7F4000\",\"\",\"stroke:#1B7200\",\"stroke:#6E4900\",\"stroke:#794300\",\"stroke:#5B5200\",\"\",\"stroke:#7F4000\",\"stroke:#704800\",\"stroke:#704800\",\"stroke:#6E4900\",\"\",\"stroke:#774400\",\"stroke:#406000\",\"stroke:#7F4000\",\"stroke:#7F4000\",\"stroke:#813F00\",\"stroke:#7F4000\",\"stroke:#7D4100\",\"stroke:#684C00\",\"\",\"stroke:#7F4000\",\"stroke:#7F4000\",\"stroke:#7F4000\",\"stroke:#7F4000\",\"\",\"stroke:#614F00\",\"stroke:#7F4000\",\"stroke:#7F4000\",\"stroke:#7F4000\",\"\",\"stroke:#634E00\",\"stroke:#226F00\",\"stroke:#7F4000\",\"stroke:#326700\",\"\",\"stroke:#774400\",\"stroke:#744600\",\"stroke:#7F4000\",\"stroke:#8A3B00\",\"\",\"stroke:#6E4900\",\"stroke:#6C4A00\",\"stroke:#863D00\",\"stroke:#5A5300\",\"\",\"stroke:#7F4000\",\"stroke:#7F4000\",\"stroke:#7F4000\",\"stroke:#7F4000\",\"\",\"stroke:#7F4000\",\"stroke:#7F4000\",\"stroke:#7F4000\",\"stroke:#694B00\",\"\",\"stroke:#8B3A00\",\"stroke:#963500\",\"stroke:#8B3A00\",\"stroke:#853D00\",\"\",\"stroke:#7F4000\",\"stroke:#7F4000\",\"stroke:#7F4000\",\"stroke:#7F4000\",\"\",\"stroke:#425F00\",\"stroke:#475C00\",\"stroke:#316700\",\"stroke:#7F4000\",\"\",\"stroke:#7F4000\",\"stroke:#7F4000\",\"stroke:#7F4000\",\"stroke:#7F4000\",\"\",\"stroke:#7F4000\",\"stroke:#7F4000\",\"stroke:#7F4000\",\"stroke:#7F4000\",\"\",\"stroke:#7F4000\",\"stroke:#7F4000\",\"stroke:#7F4000\",\"stroke:#7F4000\",\"\",\"stroke:#3F6000\",\"stroke:#794300\",\"stroke:#8D3900\",\"stroke:#425F00\",\"\",\"stroke:#7F4000\",\"stroke:#704800\",\"stroke:#644E00\",\"stroke:#6B4A00\",\"\",\"stroke:#4C5A00\",\"stroke:#7F4000\",\"stroke:#425F00\",\"stroke:#7F4000\",\"\",\"stroke:#7F4000\",\"stroke:#8F3800\",\"stroke:#7F4000\",\"stroke:#7F4000\",\"\",\"stroke:#7F4000\",\"stroke:#CB1A00\",\"stroke:#7F4000\",\"stroke:#7F4000\",\"\",\"stroke:#7F4000\",\"stroke:#7F4000\",\"stroke:#7F4000\",\"stroke:#7F4000\",\"\",\"stroke:#565500\",\"stroke:#605000\",\"stroke:#6F4800\",\"stroke:#4E5900\",\"\",\"\",\"\",\"\",\"\",\"\",\"\",\"\",\"\",\"\",\"\"],\"link_style\":[\"\",\"\",\"stroke-width:5.068340299791975px\",\"stroke-width:5.53001263609331px\",\"stroke-width:4.560165241922615px\",\"stroke-width:20.0px\",\"\",\"stroke-width:15.491933384829668px\",\"stroke-width:17.88854381999832px\",\"stroke-width:20.0px\",\"stroke-width:20.0px\",\"\",\"stroke-width:6.793662204867575px\",\"stroke-width:20.0px\",\"stroke-width:6.793662204867575px\",\"stroke-width:12.403473458920846px\",\"\",\"stroke-width:14.142135623730951px\",\"stroke-width:20.0px\",\"stroke-width:14.142135623730951px\",\"stroke-width:0.0px\",\"\",\"stroke-width:13.05260013830081px\",\"stroke-width:20.0px\",\"stroke-width:17.21325931647741px\",\"stroke-width:18.459164139817943px\",\"\",\"stroke-width:8.354559097769362px\",\"stroke-width:3.6637165272365584px\",\"stroke-width:4.915391523114243px\",\"stroke-width:20.0px\",\"\",\"stroke-width:14.142135623730951px\",\"stroke-width:20.0px\",\"stroke-width:10.0px\",\"stroke-width:20.0px\",\"\",\"stroke-width:20.0px\",\"stroke-width:20.0px\",\"stroke-width:0.0px\",\"stroke-width:0.0px\",\"\",\"stroke-width:15.530422719641159px\",\"stroke-width:6.371578683919169px\",\"stroke-width:6.181339274290046px\",\"stroke-width:20.0px\",\"\",\"stroke-width:18.395996803997832px\",\"stroke-width:5.962847939999439px\",\"stroke-width:6.570738404061082px\",\"stroke-width:20.0px\",\"\",\"stroke-width:20.0px\",\"stroke-width:4.127996940938138px\",\"stroke-width:6.1374393223051555px\",\"stroke-width:6.281869419852003px\",\"\",\"stroke-width:15.491933384829668px\",\"stroke-width:20.0px\",\"stroke-width:17.88854381999832px\",\"stroke-width:18.973665961010276px\",\"\",\"stroke-width:6.870053865727263px\",\"stroke-width:4.857861675572602px\",\"stroke-width:8.621849174384849px\",\"stroke-width:20.0px\",\"\",\"stroke-width:20.0px\",\"stroke-width:18.257418583505537px\",\"stroke-width:19.148542155126762px\",\"stroke-width:16.32993161855452px\",\"\",\"stroke-width:12.403473458920846px\",\"stroke-width:20.0px\",\"stroke-width:15.263257613204102px\",\"stroke-width:19.555500055421298px\",\"\",\"stroke-width:20.0px\",\"stroke-width:20.0px\",\"stroke-width:20.0px\",\"stroke-width:0.0px\",\"\",\"stroke-width:20.0px\",\"stroke-width:0.0px\",\"stroke-width:0.0px\",\"stroke-width:0.0px\",\"\",\"stroke-width:NaNpx\",\"stroke-width:NaNpx\",\"stroke-width:NaNpx\",\"stroke-width:NaNpx\",\"\",\"stroke-width:15.491933384829668px\",\"stroke-width:20.0px\",\"stroke-width:12.649110640673518px\",\"stroke-width:12.649110640673518px\",\"\",\"stroke-width:14.675987714106855px\",\"stroke-width:20.0px\",\"stroke-width:13.58732440973515px\",\"stroke-width:15.689290811054724px\",\"\",\"stroke-width:NaNpx\",\"stroke-width:NaNpx\",\"stroke-width:NaNpx\",\"stroke-width:NaNpx\",\"\",\"stroke-width:20.0px\",\"stroke-width:20.0px\",\"stroke-width:0.0px\",\"stroke-width:0.0px\",\"\",\"stroke-width:15.05545305418162px\",\"stroke-width:4.08248290463863px\",\"stroke-width:3.9440531887330774px\",\"stroke-width:20.0px\",\"\",\"stroke-width:11.669199319831565px\",\"stroke-width:20.0px\",\"stroke-width:9.675588936937935px\",\"stroke-width:15.71014037614871px\",\"\",\"stroke-width:11.259291875748985px\",\"stroke-width:6.018344659534288px\",\"stroke-width:8.03535494759617px\",\"stroke-width:20.0px\",\"\",\"stroke-width:12.524485821702989px\",\"stroke-width:11.202240672224077px\",\"stroke-width:20.0px\",\"stroke-width:10.478736639911677px\",\"\",\"stroke-width:11.913667943625413px\",\"stroke-width:14.368424162141993px\",\"stroke-width:10.776318121606494px\",\"stroke-width:20.0px\",\"\",\"stroke-width:3.359684204526464px\",\"stroke-width:5.696621728548052px\",\"stroke-width:3.661130982435173px\",\"stroke-width:20.0px\",\"\",\"stroke-width:6.324555320336759px\",\"stroke-width:8.94427190999916px\",\"stroke-width:20.0px\",\"stroke-width:0.0px\",\"\",\"stroke-width:20.0px\",\"stroke-width:19.40285000290664px\",\"stroke-width:19.09727421264462px\",\"stroke-width:19.250668437592438px\",\"\",\"stroke-width:18.516401995451027px\",\"stroke-width:17.45743121887939px\",\"stroke-width:20.0px\",\"stroke-width:16.035674514745462px\",\"\",\"stroke-width:13.333333333333332px\",\"stroke-width:9.428090415820634px\",\"stroke-width:20.0px\",\"stroke-width:18.856180831641268px\",\"\",\"stroke-width:3.3686076842660757px\",\"stroke-width:4.038818730469177px\",\"stroke-width:3.8592249249397987px\",\"stroke-width:20.0px\",\"\",\"stroke-width:4.075413664867947px\",\"stroke-width:9.629826790438177px\",\"stroke-width:11.64646463130784px\",\"stroke-width:20.0px\",\"\",\"stroke-width:20.0px\",\"stroke-width:20.0px\",\"stroke-width:20.0px\",\"stroke-width:19.975232188640486px\",\"\",\"stroke-width:17.32050807568877px\",\"stroke-width:20.0px\",\"stroke-width:17.32050807568877px\",\"stroke-width:14.142135623730951px\",\"\",\"stroke-width:15.491933384829668px\",\"stroke-width:20.0px\",\"stroke-width:15.491933384829668px\",\"stroke-width:8.94427190999916px\",\"\",\"stroke-width:18.586407545691703px\",\"stroke-width:20.0px\",\"stroke-width:19.06925178491185px\",\"stroke-width:10.44465935734187px\",\"\",\"stroke-width:20.0px\",\"stroke-width:15.491933384829668px\",\"stroke-width:12.649110640673518px\",\"stroke-width:17.88854381999832px\",\"\",\"stroke-width:20.0px\",\"stroke-width:20.0px\",\"stroke-width:17.88854381999832px\",\"stroke-width:20.0px\",\"\",\"stroke-width:20.0px\",\"stroke-width:20.0px\",\"stroke-width:20.0px\",\"stroke-width:19.13001429190555px\",\"\",\"stroke-width:11.460509743553711px\",\"stroke-width:13.158051845095038px\",\"stroke-width:7.726674092862558px\",\"stroke-width:20.0px\",\"\",\"stroke-width:14.142135623730951px\",\"stroke-width:19.148542155126762px\",\"stroke-width:20.0px\",\"stroke-width:16.32993161855452px\",\"\",\"stroke-width:NaNpx\",\"stroke-width:NaNpx\",\"stroke-width:NaNpx\",\"stroke-width:NaNpx\",\"\",\"stroke-width:11.621744062959529px\",\"stroke-width:13.419634126405239px\",\"stroke-width:13.419634126405239px\",\"stroke-width:20.0px\",\"\",\"stroke-width:20.0px\",\"stroke-width:19.493588689617926px\",\"stroke-width:19.493588689617926px\",\"stroke-width:19.493588689617926px\",\"\",\"stroke-width:16.32993161855452px\",\"stroke-width:20.0px\",\"stroke-width:16.32993161855452px\",\"stroke-width:20.0px\",\"\",\"stroke-width:NaNpx\",\"stroke-width:NaNpx\",\"stroke-width:NaNpx\",\"stroke-width:NaNpx\",\"\",\"stroke-width:20.0px\",\"stroke-width:1.8870163911673172px\",\"stroke-width:1.6877987701225818px\",\"stroke-width:2.623789815711739px\",\"\",\"stroke-width:17.32050807568877px\",\"stroke-width:17.32050807568877px\",\"stroke-width:18.708286933869708px\",\"stroke-width:20.0px\",\"\",\"stroke-width:13.09307341415954px\",\"stroke-width:20.0px\",\"stroke-width:15.118578920369089px\",\"stroke-width:10.690449676496975px\",\"stroke-width:5.922535605362114px\",\"stroke-width:6.214197535131269px\",\"stroke-width:6.392876163952083px\",\"stroke-width:20.0px\",\"\",\"stroke-width:NaNpx\",\"stroke-width:NaNpx\",\"stroke-width:NaNpx\",\"stroke-width:NaNpx\",\"\",\"stroke-width:20.0px\",\"stroke-width:0.0px\",\"stroke-width:0.0px\",\"stroke-width:0.0px\",\"\",\"stroke-width:10.0px\",\"stroke-width:20.0px\",\"stroke-width:12.24744871391589px\",\"stroke-width:17.32050807568877px\",\"\",\"stroke-width:18.708286933869708px\",\"stroke-width:20.0px\",\"stroke-width:20.0px\",\"stroke-width:15.811388300841898px\",\"\",\"stroke-width:8.665317033914317px\",\"stroke-width:9.328319455274306px\",\"stroke-width:4.884633980433643px\",\"stroke-width:20.0px\",\"\",\"stroke-width:20.0px\",\"stroke-width:20.0px\",\"stroke-width:20.0px\",\"stroke-width:0.0px\",\"\",\"stroke-width:20.0px\",\"stroke-width:16.32993161855452px\",\"stroke-width:16.32993161855452px\",\"stroke-width:20.0px\",\"\",\"stroke-width:17.77046633277277px\",\"stroke-width:15.217718205053643px\",\"stroke-width:20.0px\",\"stroke-width:19.466570535691503px\",\"\",\"stroke-width:NaNpx\",\"stroke-width:NaNpx\",\"stroke-width:NaNpx\",\"stroke-width:NaNpx\",\"\",\"stroke-width:11.151337659949931px\",\"stroke-width:9.869616326122838px\",\"stroke-width:20.0px\",\"stroke-width:6.275208230964843px\",\"\",\"stroke-width:NaNpx\",\"stroke-width:NaNpx\",\"stroke-width:NaNpx\",\"stroke-width:NaNpx\",\"\",\"stroke-width:20.0px\",\"stroke-width:0.0px\",\"stroke-width:0.0px\",\"stroke-width:0.0px\",\"\",\"stroke-width:NaNpx\",\"stroke-width:NaNpx\",\"stroke-width:NaNpx\",\"stroke-width:NaNpx\",\"\",\"stroke-width:20.0px\",\"stroke-width:5.007117441325405px\",\"stroke-width:3.8490017945975055px\",\"stroke-width:18.88637489554723px\",\"\",\"stroke-width:14.142135623730951px\",\"stroke-width:14.142135623730951px\",\"stroke-width:14.142135623730951px\",\"stroke-width:20.0px\",\"\",\"stroke-width:14.142135623730951px\",\"stroke-width:8.16496580927726px\",\"stroke-width:20.0px\",\"stroke-width:8.16496580927726px\",\"\",\"stroke-width:20.0px\",\"stroke-width:14.770978917519928px\",\"stroke-width:19.54016841836789px\",\"stroke-width:18.586407545691703px\",\"\",\"stroke-width:13.09307341415954px\",\"stroke-width:10.690449676496975px\",\"stroke-width:20.0px\",\"stroke-width:10.690449676496975px\",\"\",\"stroke-width:14.142135623730951px\",\"stroke-width:20.0px\",\"stroke-width:0.0px\",\"stroke-width:0.0px\",\"\",\"stroke-width:13.977495139343471px\",\"stroke-width:9.622504486493762px\",\"stroke-width:6.666666666666666px\",\"stroke-width:20.0px\",\"\",\"\",\"\",\"\",\"\",\"\",\"\",\"\",\"\",\"\",\"\"],\"title\":\"MCTS tree\",\"options\":{\"tooltip\":[\"GridWorldState(4, 1, false)\\nN: 1599\\n\",\"GridWorldState(6, 3, false)\\nN: 390\\n\",\"up\\nQ: 0.10092682777757156\\nN: 21\\n\",\"down\\nQ: 0.8040345408359999\\nN: 25\\n\",\"left\\nQ: -1.8714577888688824\\nN: 17\\n\",\"right\\nQ: 4.40713033495092\\nN: 327\\n\",\"GridWorldState(1, 5, false)\\nN: 17\\n\",\"up\\nQ: 0.0\\nN: 3\\n\",\"down\\nQ: 0.0\\nN: 4\\n\",\"left\\nQ: 0.0\\nN: 5\\n\",\"right\\nQ: 0.0\\nN: 5\\n\",\"GridWorldState(8, 4, false)\\nN: 126\\n\",\"up\\nQ: 0.0\\nN: 9\\n\",\"down\\nQ: 5.162768571807693\\nN: 78\\n\",\"left\\nQ: 0.0\\nN: 9\\n\",\"right\\nQ: 3.175579463399999\\nN: 30\\n\",\"GridWorldState(2, 6, false)\\nN: 4\\n\",\"up\\nQ: 0.0\\nN: 1\\n\",\"down\\nQ: 0.0\\nN: 2\\n\",\"left\\nQ: 0.0\\nN: 1\\n\",\"right\\nQ: 0.0\\nN: 0\\n\",\"GridWorldState(2, 2, false)\\nN: 163\\n\",\"up\\nQ: -1.692947641382609\\nN: 23\\n\",\"down\\nQ: 0.2242686244743\\nN: 54\\n\",\"left\\nQ: -0.2624773812975\\nN: 40\\n\",\"right\\nQ: -0.0623007467029195\\nN: 46\\n\",\"GridWorldState(5, 3, false)\\nN: 189\\n\",\"up\\nQ: -0.8233900128726924\\nN: 26\\n\",\"down\\nQ: -7.1955738\\nN: 5\\n\",\"left\\nQ: -4.21951\\nN: 9\\n\",\"right\\nQ: 1.6199784775876258\\nN: 149\\n\",\"GridWorldState(5, 6, false)\\nN: 11\\n\",\"up\\nQ: 0.0\\nN: 2\\n\",\"down\\nQ: 0.0\\nN: 4\\n\",\"left\\nQ: -4.5\\nN: 1\\n\",\"right\\nQ: 1.1957422500000001\\nN: 4\\n\",\"GridWorldState(8, 7, false)\\nN: 2\\n\",\"up\\nQ: 0.0\\nN: 1\\n\",\"down\\nQ: 2.7\\nN: 1\\n\",\"left\\nQ: 0.0\\nN: 0\\n\",\"right\\nQ: 0.0\\nN: 0\\n\",\"GridWorldState(7, 1, false)\\nN: 603\\n\",\"up\\nQ: 3.89287482894314\\nN: 202\\n\",\"down\\nQ: 0.0\\nN: 34\\n\",\"left\\nQ: 0.9856961406562502\\nN: 32\\n\",\"right\\nQ: 4.050129318555431\\nN: 335\\n\",\"GridWorldState(5, 1, false)\\nN: 1287\\n\",\"up\\nQ: 2.44472500347881\\nN: 533\\n\",\"down\\nQ: 0.0\\nN: 56\\n\",\"left\\nQ: 0.3335696848448407\\nN: 68\\n\",\"right\\nQ: 2.4764129597952285\\nN: 630\\n\",\"GridWorldState(9, 1, false)\\nN: 551\\n\",\"up\\nQ: 6.234975321516642\\nN: 446\\n\",\"down\\nQ: 0.0\\nN: 19\\n\",\"left\\nQ: 3.444959278271957\\nN: 42\\n\",\"right\\nQ: 3.665154640909091\\nN: 44\\n\",\"GridWorldState(1, 4, false)\\nN: 33\\n\",\"up\\nQ: -0.7174453499999999\\nN: 6\\n\",\"down\\nQ: 0.0\\nN: 10\\n\",\"left\\nQ: 0.0\\nN: 8\\n\",\"right\\nQ: 0.0\\nN: 9\\n\",\"GridWorldState(8, 1, false)\\nN: 462\\n\",\"up\\nQ: 2.56674357225\\nN: 40\\n\",\"down\\nQ: 0.0\\nN: 20\\n\",\"left\\nQ: 3.437590633983\\nN: 63\\n\",\"right\\nQ: 5.125338523610547\\nN: 339\\n\",\"GridWorldState(3, 4, false)\\nN: 41\\n\",\"up\\nQ: -0.6075\\nN: 12\\n\",\"down\\nQ: -1.1052450000000003\\nN: 10\\n\",\"left\\nQ: -0.33136363636363636\\nN: 11\\n\",\"right\\nQ: -1.5505840124999999\\nN: 8\\n\",\"GridWorldState(3, 2, false)\\nN: 266\\n\",\"up\\nQ: -1.2233568921204603\\nN: 35\\n\",\"down\\nQ: 0.041172671097120625\\nN: 91\\n\",\"left\\nQ: -0.6281206684063112\\nN: 53\\n\",\"right\\nQ: 0.09528884710842635\\nN: 87\\n\",\"GridWorldState(9, 6, false)\\nN: 3\\n\",\"up\\nQ: 2.1870000000000003\\nN: 1\\n\",\"down\\nQ: 7.29\\nN: 1\\n\",\"left\\nQ: 0.0\\nN: 1\\n\",\"right\\nQ: 0.0\\nN: 0\\n\",\"GridWorldState(6, 7, false)\\nN: 1\\n\",\"up\\nQ: 0.0\\nN: 1\\n\",\"down\\nQ: 0.0\\nN: 0\\n\",\"left\\nQ: 0.0\\nN: 0\\n\",\"right\\nQ: 0.0\\nN: 0\\n\",\"GridWorldState(3, 7, false)\\nN: 0\\n\",\"up\\nQ: 0.0\\nN: 0\\n\",\"down\\nQ: 0.0\\nN: 0\\n\",\"left\\nQ: 0.0\\nN: 0\\n\",\"right\\nQ: 0.0\\nN: 0\\n\",\"GridWorldState(10, 5, false)\\nN: 12\\n\",\"up\\nQ: 0.0\\nN: 3\\n\",\"down\\nQ: 3.5955738000000004\\nN: 5\\n\",\"left\\nQ: 0.0\\nN: 2\\n\",\"right\\nQ: 0.0\\nN: 2\\n\",\"GridWorldState(7, 5, false)\\nN: 34\\n\",\"up\\nQ: 0.0\\nN: 7\\n\",\"down\\nQ: 2.3304374231538465\\nN: 13\\n\",\"left\\nQ: 0.0\\nN: 6\\n\",\"right\\nQ: 0.9103387500000001\\nN: 8\\n\",\"GridWorldState(9, 8, false)\\nN: 0\\n\",\"up\\nQ: 0.0\\nN: 0\\n\",\"down\\nQ: 0.0\\nN: 0\\n\",\"left\\nQ: 0.0\\nN: 0\\n\",\"right\\nQ: 0.0\\nN: 0\\n\",\"GridWorldState(4, 6, false)\\nN: 2\\n\",\"up\\nQ: -5.0\\nN: 1\\n\",\"down\\nQ: -5.0\\nN: 1\\n\",\"left\\nQ: 0.0\\nN: 0\\n\",\"right\\nQ: 0.0\\nN: 0\\n\",\"GridWorldState(8, 2, false)\\nN: 593\\n\",\"up\\nQ: 5.5522824819744105\\nN: 204\\n\",\"down\\nQ: 0.420738651054\\nN: 15\\n\",\"left\\nQ: 0.2941648360537185\\nN: 14\\n\",\"right\\nQ: 5.997646604703373\\nN: 360\\n\",\"GridWorldState(6, 4, false)\\nN: 103\\n\",\"up\\nQ: 0.0\\nN: 16\\n\",\"down\\nQ: 2.5005062638723405\\nN: 47\\n\",\"left\\nQ: -0.9716244545454547\\nN: 11\\n\",\"right\\nQ: 1.5235287738144825\\nN: 29\\n\",\"GridWorldState(6, 1, false)\\nN: 797\\n\",\"up\\nQ: 2.481718791761666\\nN: 161\\n\",\"down\\nQ: 0.0\\nN: 46\\n\",\"left\\nQ: 1.6061286510227504\\nN: 82\\n\",\"right\\nQ: 3.3837721843151107\\nN: 508\\n\",\"GridWorldState(10, 3, false)\\nN: 101\\n\",\"up\\nQ: 4.470879403775648\\nN: 20\\n\",\"down\\nQ: 4.834904698133885\\nN: 16\\n\",\"left\\nQ: 7.032815823529411\\nN: 51\\n\",\"right\\nQ: 0.0\\nN: 14\\n\",\"GridWorldState(5, 4, false)\\nN: 67\\n\",\"up\\nQ: -0.9691256413636363\\nN: 11\\n\",\"down\\nQ: -0.5062500000000001\\nN: 16\\n\",\"left\\nQ: -1.7999999999999998\\nN: 9\\n\",\"right\\nQ: 1.693687078068678\\nN: 31\\n\",\"GridWorldState(7, 3, false)\\nN: 648\\n\",\"up\\nQ: 0.0\\nN: 16\\n\",\"down\\nQ: 3.0265176449523916\\nN: 46\\n\",\"left\\nQ: 0.7167790631842106\\nN: 19\\n\",\"right\\nQ: 6.010793896814012\\nN: 567\\n\",\"GridWorldState(1, 6, false)\\nN: 13\\n\",\"up\\nQ: 0.0\\nN: 1\\n\",\"down\\nQ: 0.0\\nN: 2\\n\",\"left\\nQ: 0.0\\nN: 10\\n\",\"right\\nQ: 0.0\\nN: 0\\n\",\"GridWorldState(2, 1, false)\\nN: 257\\n\",\"up\\nQ: 0.13787427148917197\\nN: 68\\n\",\"down\\nQ: 0.0\\nN: 64\\n\",\"left\\nQ: 0.049398961607562956\\nN: 62\\n\",\"right\\nQ: 0.06510663412645486\\nN: 63\\n\",\"GridWorldState(1, 2, false)\\nN: 137\\n\",\"up\\nQ: 0.0\\nN: 36\\n\",\"down\\nQ: -0.3711065625\\nN: 32\\n\",\"left\\nQ: 0.0\\nN: 42\\n\",\"right\\nQ: -0.5315724629999999\\nN: 27\\n\",\"GridWorldState(4, 4, false)\\nN: 23\\n\",\"up\\nQ: -3.6926685000000004\\nN: 4\\n\",\"down\\nQ: -9.0\\nN: 2\\n\",\"left\\nQ: -1.0\\nN: 9\\n\",\"right\\nQ: -1.125\\nN: 8\\n\",\"GridWorldState(8, 3, false)\\nN: 624\\n\",\"up\\nQ: 2.2118625\\nN: 16\\n\",\"down\\nQ: 3.0889988647826083\\nN: 23\\n\",\"left\\nQ: 3.3750863314714286\\nN: 21\\n\",\"right\\nQ: 7.885142510588301\\nN: 564\\n\",\"GridWorldState(4, 2, false)\\nN: 466\\n\",\"up\\nQ: -5.1336508830075\\nN: 12\\n\",\"down\\nQ: -0.912133575622968\\nN: 67\\n\",\"left\\nQ: -0.2931398565930263\\nN: 98\\n\",\"right\\nQ: 1.0461499010896496\\nN: 289\\n\",\"GridWorldState(9, 3, false)\\nN: 1615\\n\",\"up\\nQ: 10.0\\nN: 404\\n\",\"down\\nQ: 10.0\\nN: 404\\n\",\"left\\nQ: 10.0\\nN: 404\\n\",\"right\\nQ: 10.0\\nN: 403\\n\",\"GridWorldState(7, 6, false)\\nN: 12\\n\",\"up\\nQ: 0.7290000000000001\\nN: 3\\n\",\"down\\nQ: 2.1642934725000003\\nN: 4\\n\",\"left\\nQ: 1.9683000000000002\\nN: 3\\n\",\"right\\nQ: 0.0\\nN: 2\\n\",\"GridWorldState(3, 5, false)\\nN: 12\\n\",\"up\\nQ: -2.6999999999999997\\nN: 3\\n\",\"down\\nQ: 0.0\\nN: 5\\n\",\"left\\nQ: 0.0\\nN: 3\\n\",\"right\\nQ: -7.29\\nN: 1\\n\",\"GridWorldState(3, 3, false)\\nN: 67\\n\",\"up\\nQ: -1.2616366947631579\\nN: 19\\n\",\"down\\nQ: -0.7724944668354548\\nN: 22\\n\",\"left\\nQ: -0.9277088339614502\\nN: 20\\n\",\"right\\nQ: -5.023017660150001\\nN: 6\\n\",\"GridWorldState(5, 5, false)\\nN: 28\\n\",\"up\\nQ: 0.43046721000000004\\nN: 10\\n\",\"down\\nQ: -0.2818965914999997\\nN: 6\\n\",\"left\\nQ: -6.31696725\\nN: 4\\n\",\"right\\nQ: 0.0\\nN: 8\\n\",\"GridWorldState(10, 4, false)\\nN: 57\\n\",\"up\\nQ: 4.57036614\\nN: 15\\n\",\"down\\nQ: 4.303086357654\\nN: 15\\n\",\"left\\nQ: 3.5613674999999994\\nN: 12\\n\",\"right\\nQ: 0.0\\nN: 15\\n\",\"GridWorldState(1, 1, false)\\nN: 184\\n\",\"up\\nQ: -0.06233933640740762\\nN: 47\\n\",\"down\\nQ: 0.0\\nN: 47\\n\",\"left\\nQ: 0.0\\nN: 47\\n\",\"right\\nQ: -0.15334292184830606\\nN: 43\\n\",\"GridWorldState(7, 4, false)\\nN: 128\\n\",\"up\\nQ: 1.3246397222727275\\nN: 22\\n\",\"down\\nQ: 1.9933728237931037\\nN: 29\\n\",\"left\\nQ: -0.96190821\\nN: 10\\n\",\"right\\nQ: 3.544574769443284\\nN: 67\\n\",\"GridWorldState(2, 4, false)\\nN: 37\\n\",\"up\\nQ: -1.7813115000000002\\nN: 6\\n\",\"down\\nQ: 0.0\\nN: 11\\n\",\"left\\nQ: 0.0\\nN: 12\\n\",\"right\\nQ: -0.742213125\\nN: 8\\n\",\"GridWorldState(6, 8, false)\\nN: 0\\n\",\"up\\nQ: 0.0\\nN: 0\\n\",\"down\\nQ: 0.0\\nN: 0\\n\",\"left\\nQ: 0.0\\nN: 0\\n\",\"right\\nQ: 0.0\\nN: 0\\n\",\"GridWorldState(3, 1, false)\\nN: 517\\n\",\"up\\nQ: -0.3791223121310331\\nN: 78\\n\",\"down\\nQ: 0.0\\nN: 104\\n\",\"left\\nQ: 0.08703157700961202\\nN: 104\\n\",\"right\\nQ: 0.9148690693592205\\nN: 231\\n\",\"GridWorldState(4, 3, false)\\nN: 77\\n\",\"up\\nQ: -10.0\\nN: 20\\n\",\"down\\nQ: -10.0\\nN: 19\\n\",\"left\\nQ: -10.0\\nN: 19\\n\",\"right\\nQ: -10.0\\nN: 19\\n\",\"GridWorldState(4, 5, false)\\nN: 10\\n\",\"up\\nQ: -6.3\\nN: 2\\n\",\"down\\nQ: -2.715\\nN: 3\\n\",\"left\\nQ: -4.05\\nN: 2\\n\",\"right\\nQ: -4.942620000000001\\nN: 3\\n\",\"GridWorldState(8, 8, false)\\nN: 0\\n\",\"up\\nQ: 0.0\\nN: 0\\n\",\"down\\nQ: 0.0\\nN: 0\\n\",\"left\\nQ: 0.0\\nN: 0\\n\",\"right\\nQ: 0.0\\nN: 0\\n\",\"GridWorldState(9, 2, false)\\nN: 1741\\n\",\"up\\nQ: 7.883942793753976\\nN: 1685\\n\",\"down\\nQ: 1.3436269719486\\nN: 15\\n\",\"left\\nQ: 0.5467500000000001\\nN: 12\\n\",\"right\\nQ: 2.894014941444483\\nN: 29\\n\",\"GridWorldState(8, 5, false)\\nN: 27\\n\",\"up\\nQ: 0.0\\nN: 6\\n\",\"down\\nQ: 1.215\\nN: 6\\n\",\"left\\nQ: 1.2367391271428574\\nN: 7\\n\",\"right\\nQ: 1.3359836250000001\\nN: 8\\n\",\"GridWorldState(9, 5, false)\\nN: 16\\n\",\"up\\nQ: 0.6561000000000001\\nN: 3\\n\",\"down\\nQ: 4.948058571428572\\nN: 7\\n\",\"left\\nQ: 0.0\\nN: 4\\n\",\"right\\nQ: 0.0\\nN: 2\\n\",\"up\\nQ: -0.0966970289992535\\nN: 109\\n\",\"down\\nQ: 0.0\\nN: 120\\n\",\"left\\nQ: 0.19634409536101388\\nN: 127\\n\",\"right\\nQ: 1.8663466038614491\\nN: 1243\\n\",\"GridWorldState(10, 7, false)\\nN: 0\\n\",\"up\\nQ: 0.0\\nN: 0\\n\",\"down\\nQ: 0.0\\nN: 0\\n\",\"left\\nQ: 0.0\\nN: 0\\n\",\"right\\nQ: 0.0\\nN: 0\\n\",\"GridWorldState(9, 7, false)\\nN: 1\\n\",\"up\\nQ: 2.43\\nN: 1\\n\",\"down\\nQ: 0.0\\nN: 0\\n\",\"left\\nQ: 0.0\\nN: 0\\n\",\"right\\nQ: 0.0\\nN: 0\\n\",\"GridWorldState(9, 4, false)\\nN: 38\\n\",\"up\\nQ: 2.2653675\\nN: 4\\n\",\"down\\nQ: 7.36093125\\nN: 16\\n\",\"left\\nQ: 0.0\\nN: 6\\n\",\"right\\nQ: 6.102425407499999\\nN: 12\\n\",\"GridWorldState(6, 5, false)\\nN: 28\\n\",\"up\\nQ: 0.6832812857142858\\nN: 7\\n\",\"down\\nQ: 0.8765388563625002\\nN: 8\\n\",\"left\\nQ: 0.0\\nN: 8\\n\",\"right\\nQ: -0.8609344200000001\\nN: 5\\n\",\"GridWorldState(5, 2, false)\\nN: 835\\n\",\"up\\nQ: 1.3558174986896085\\nN: 107\\n\",\"down\\nQ: 1.5609787955876253\\nN: 124\\n\",\"left\\nQ: -0.5440454209999076\\nN: 34\\n\",\"right\\nQ: 2.9107224015195574\\nN: 570\\n\",\"GridWorldState(10, 6, false)\\nN: 3\\n\",\"up\\nQ: 0.0\\nN: 1\\n\",\"down\\nQ: 0.0\\nN: 1\\n\",\"left\\nQ: 0.0\\nN: 1\\n\",\"right\\nQ: 0.0\\nN: 0\\n\",\"GridWorldState(6, 6, false)\\nN: 10\\n\",\"up\\nQ: 0.0\\nN: 3\\n\",\"down\\nQ: 0.0\\nN: 2\\n\",\"left\\nQ: 0.0\\nN: 2\\n\",\"right\\nQ: 1.7714700000000003\\nN: 3\\n\",\"GridWorldState(2, 3, false)\\nN: 63\\n\",\"up\\nQ: -0.8756927334000002\\nN: 15\\n\",\"down\\nQ: -1.7878969546363639\\nN: 11\\n\",\"left\\nQ: -0.8895365474210527\\nN: 19\\n\",\"right\\nQ: -0.45823234504500004\\nN: 18\\n\",\"GridWorldState(1, 7, false)\\nN: 0\\n\",\"up\\nQ: 0.0\\nN: 0\\n\",\"down\\nQ: 0.0\\nN: 0\\n\",\"left\\nQ: 0.0\\nN: 0\\n\",\"right\\nQ: 0.0\\nN: 0\\n\",\"GridWorldState(10, 2, false)\\nN: 319\\n\",\"up\\nQ: 4.808355726849022\\nN: 60\\n\",\"down\\nQ: 4.414140029123617\\nN: 47\\n\",\"left\\nQ: 6.195615981705185\\nN: 193\\n\",\"right\\nQ: 0.0\\nN: 19\\n\",\"GridWorldState(2, 7, false)\\nN: 0\\n\",\"up\\nQ: 0.0\\nN: 0\\n\",\"down\\nQ: 0.0\\nN: 0\\n\",\"left\\nQ: 0.0\\nN: 0\\n\",\"right\\nQ: 0.0\\nN: 0\\n\",\"GridWorldState(3, 6, false)\\nN: 1\\n\",\"up\\nQ: 0.0\\nN: 1\\n\",\"down\\nQ: 0.0\\nN: 0\\n\",\"left\\nQ: 0.0\\nN: 0\\n\",\"right\\nQ: 0.0\\nN: 0\\n\",\"GridWorldState(7, 7, false)\\nN: 0\\n\",\"up\\nQ: 0.0\\nN: 0\\n\",\"down\\nQ: 0.0\\nN: 0\\n\",\"left\\nQ: 0.0\\nN: 0\\n\",\"right\\nQ: 0.0\\nN: 0\\n\",\"GridWorldState(7, 2, false)\\nN: 699\\n\",\"up\\nQ: 5.021292965162144\\nN: 351\\n\",\"down\\nQ: 0.49385824669677264\\nN: 22\\n\",\"left\\nQ: -1.0510995038538462\\nN: 13\\n\",\"right\\nQ: 4.809757926333131\\nN: 313\\n\",\"GridWorldState(8, 6, false)\\nN: 10\\n\",\"up\\nQ: 0.0\\nN: 2\\n\",\"down\\nQ: 1.215\\nN: 2\\n\",\"left\\nQ: 2.15233605\\nN: 2\\n\",\"right\\nQ: 1.6402500000000002\\nN: 4\\n\",\"GridWorldState(10, 1, false)\\nN: 198\\n\",\"up\\nQ: 4.01614067835\\nN: 54\\n\",\"down\\nQ: 0.0\\nN: 18\\n\",\"left\\nQ: 4.857828724562468\\nN: 108\\n\",\"right\\nQ: 0.0\\nN: 18\\n\",\"GridWorldState(1, 3, false)\\nN: 74\\n\",\"up\\nQ: 0.0\\nN: 22\\n\",\"down\\nQ: -1.2135061575000001\\nN: 12\\n\",\"left\\nQ: 0.0\\nN: 21\\n\",\"right\\nQ: 0.0\\nN: 19\\n\",\"GridWorldState(2, 5, false)\\nN: 14\\n\",\"up\\nQ: 0.0\\nN: 3\\n\",\"down\\nQ: -5.937705\\nN: 2\\n\",\"left\\nQ: 0.0\\nN: 7\\n\",\"right\\nQ: 0.0\\nN: 2\\n\",\"GridWorldState(5, 7, false)\\nN: 3\\n\",\"up\\nQ: 0.0\\nN: 1\\n\",\"down\\nQ: 0.0\\nN: 2\\n\",\"left\\nQ: 0.0\\nN: 0\\n\",\"right\\nQ: 0.0\\nN: 0\\n\",\"GridWorldState(6, 2, false)\\nN: 791\\n\",\"up\\nQ: 3.2847083732739777\\nN: 211\\n\",\"down\\nQ: 2.454940406277783\\nN: 100\\n\",\"left\\nQ: 1.2823710969375004\\nN: 48\\n\",\"right\\nQ: 3.8932476932596356\\nN: 432\\n\",\"GridWorldState(4, 6, true)\\nN: 0\\n\",\"GridWorldState(4, 6, true)\\nN: 0\\n\",\"GridWorldState(9, 3, true)\\nN: 0\\n\",\"GridWorldState(9, 3, true)\\nN: 0\\n\",\"GridWorldState(9, 3, true)\\nN: 0\\n\",\"GridWorldState(9, 3, true)\\nN: 0\\n\",\"GridWorldState(4, 3, true)\\nN: 0\\n\",\"GridWorldState(4, 3, true)\\nN: 0\\n\",\"GridWorldState(4, 3, true)\\nN: 0\\n\",\"GridWorldState(4, 3, true)\\nN: 0\\n\",\"GridWorldState(5, 8, false)\\nN: 0\\n\"],\"link_style\":[\"\",\"\",\"stroke-width:5.068340299791975px\",\"stroke-width:5.53001263609331px\",\"stroke-width:4.560165241922615px\",\"stroke-width:20.0px\",\"\",\"stroke-width:15.491933384829668px\",\"stroke-width:17.88854381999832px\",\"stroke-width:20.0px\",\"stroke-width:20.0px\",\"\",\"stroke-width:6.793662204867575px\",\"stroke-width:20.0px\",\"stroke-width:6.793662204867575px\",\"stroke-width:12.403473458920846px\",\"\",\"stroke-width:14.142135623730951px\",\"stroke-width:20.0px\",\"stroke-width:14.142135623730951px\",\"stroke-width:0.0px\",\"\",\"stroke-width:13.05260013830081px\",\"stroke-width:20.0px\",\"stroke-width:17.21325931647741px\",\"stroke-width:18.459164139817943px\",\"\",\"stroke-width:8.354559097769362px\",\"stroke-width:3.6637165272365584px\",\"stroke-width:4.915391523114243px\",\"stroke-width:20.0px\",\"\",\"stroke-width:14.142135623730951px\",\"stroke-width:20.0px\",\"stroke-width:10.0px\",\"stroke-width:20.0px\",\"\",\"stroke-width:20.0px\",\"stroke-width:20.0px\",\"stroke-width:0.0px\",\"stroke-width:0.0px\",\"\",\"stroke-width:15.530422719641159px\",\"stroke-width:6.371578683919169px\",\"stroke-width:6.181339274290046px\",\"stroke-width:20.0px\",\"\",\"stroke-width:18.395996803997832px\",\"stroke-width:5.962847939999439px\",\"stroke-width:6.570738404061082px\",\"stroke-width:20.0px\",\"\",\"stroke-width:20.0px\",\"stroke-width:4.127996940938138px\",\"stroke-width:6.1374393223051555px\",\"stroke-width:6.281869419852003px\",\"\",\"stroke-width:15.491933384829668px\",\"stroke-width:20.0px\",\"stroke-width:17.88854381999832px\",\"stroke-width:18.973665961010276px\",\"\",\"stroke-width:6.870053865727263px\",\"stroke-width:4.857861675572602px\",\"stroke-width:8.621849174384849px\",\"stroke-width:20.0px\",\"\",\"stroke-width:20.0px\",\"stroke-width:18.257418583505537px\",\"stroke-width:19.148542155126762px\",\"stroke-width:16.32993161855452px\",\"\",\"stroke-width:12.403473458920846px\",\"stroke-width:20.0px\",\"stroke-width:15.263257613204102px\",\"stroke-width:19.555500055421298px\",\"\",\"stroke-width:20.0px\",\"stroke-width:20.0px\",\"stroke-width:20.0px\",\"stroke-width:0.0px\",\"\",\"stroke-width:20.0px\",\"stroke-width:0.0px\",\"stroke-width:0.0px\",\"stroke-width:0.0px\",\"\",\"stroke-width:NaNpx\",\"stroke-width:NaNpx\",\"stroke-width:NaNpx\",\"stroke-width:NaNpx\",\"\",\"stroke-width:15.491933384829668px\",\"stroke-width:20.0px\",\"stroke-width:12.649110640673518px\",\"stroke-width:12.649110640673518px\",\"\",\"stroke-width:14.675987714106855px\",\"stroke-width:20.0px\",\"stroke-width:13.58732440973515px\",\"stroke-width:15.689290811054724px\",\"\",\"stroke-width:NaNpx\",\"stroke-width:NaNpx\",\"stroke-width:NaNpx\",\"stroke-width:NaNpx\",\"\",\"stroke-width:20.0px\",\"stroke-width:20.0px\",\"stroke-width:0.0px\",\"stroke-width:0.0px\",\"\",\"stroke-width:15.05545305418162px\",\"stroke-width:4.08248290463863px\",\"stroke-width:3.9440531887330774px\",\"stroke-width:20.0px\",\"\",\"stroke-width:11.669199319831565px\",\"stroke-width:20.0px\",\"stroke-width:9.675588936937935px\",\"stroke-width:15.71014037614871px\",\"\",\"stroke-width:11.259291875748985px\",\"stroke-width:6.018344659534288px\",\"stroke-width:8.03535494759617px\",\"stroke-width:20.0px\",\"\",\"stroke-width:12.524485821702989px\",\"stroke-width:11.202240672224077px\",\"stroke-width:20.0px\",\"stroke-width:10.478736639911677px\",\"\",\"stroke-width:11.913667943625413px\",\"stroke-width:14.368424162141993px\",\"stroke-width:10.776318121606494px\",\"stroke-width:20.0px\",\"\",\"stroke-width:3.359684204526464px\",\"stroke-width:5.696621728548052px\",\"stroke-width:3.661130982435173px\",\"stroke-width:20.0px\",\"\",\"stroke-width:6.324555320336759px\",\"stroke-width:8.94427190999916px\",\"stroke-width:20.0px\",\"stroke-width:0.0px\",\"\",\"stroke-width:20.0px\",\"stroke-width:19.40285000290664px\",\"stroke-width:19.09727421264462px\",\"stroke-width:19.250668437592438px\",\"\",\"stroke-width:18.516401995451027px\",\"stroke-width:17.45743121887939px\",\"stroke-width:20.0px\",\"stroke-width:16.035674514745462px\",\"\",\"stroke-width:13.333333333333332px\",\"stroke-width:9.428090415820634px\",\"stroke-width:20.0px\",\"stroke-width:18.856180831641268px\",\"\",\"stroke-width:3.3686076842660757px\",\"stroke-width:4.038818730469177px\",\"stroke-width:3.8592249249397987px\",\"stroke-width:20.0px\",\"\",\"stroke-width:4.075413664867947px\",\"stroke-width:9.629826790438177px\",\"stroke-width:11.64646463130784px\",\"stroke-width:20.0px\",\"\",\"stroke-width:20.0px\",\"stroke-width:20.0px\",\"stroke-width:20.0px\",\"stroke-width:19.975232188640486px\",\"\",\"stroke-width:17.32050807568877px\",\"stroke-width:20.0px\",\"stroke-width:17.32050807568877px\",\"stroke-width:14.142135623730951px\",\"\",\"stroke-width:15.491933384829668px\",\"stroke-width:20.0px\",\"stroke-width:15.491933384829668px\",\"stroke-width:8.94427190999916px\",\"\",\"stroke-width:18.586407545691703px\",\"stroke-width:20.0px\",\"stroke-width:19.06925178491185px\",\"stroke-width:10.44465935734187px\",\"\",\"stroke-width:20.0px\",\"stroke-width:15.491933384829668px\",\"stroke-width:12.649110640673518px\",\"stroke-width:17.88854381999832px\",\"\",\"stroke-width:20.0px\",\"stroke-width:20.0px\",\"stroke-width:17.88854381999832px\",\"stroke-width:20.0px\",\"\",\"stroke-width:20.0px\",\"stroke-width:20.0px\",\"stroke-width:20.0px\",\"stroke-width:19.13001429190555px\",\"\",\"stroke-width:11.460509743553711px\",\"stroke-width:13.158051845095038px\",\"stroke-width:7.726674092862558px\",\"stroke-width:20.0px\",\"\",\"stroke-width:14.142135623730951px\",\"stroke-width:19.148542155126762px\",\"stroke-width:20.0px\",\"stroke-width:16.32993161855452px\",\"\",\"stroke-width:NaNpx\",\"stroke-width:NaNpx\",\"stroke-width:NaNpx\",\"stroke-width:NaNpx\",\"\",\"stroke-width:11.621744062959529px\",\"stroke-width:13.419634126405239px\",\"stroke-width:13.419634126405239px\",\"stroke-width:20.0px\",\"\",\"stroke-width:20.0px\",\"stroke-width:19.493588689617926px\",\"stroke-width:19.493588689617926px\",\"stroke-width:19.493588689617926px\",\"\",\"stroke-width:16.32993161855452px\",\"stroke-width:20.0px\",\"stroke-width:16.32993161855452px\",\"stroke-width:20.0px\",\"\",\"stroke-width:NaNpx\",\"stroke-width:NaNpx\",\"stroke-width:NaNpx\",\"stroke-width:NaNpx\",\"\",\"stroke-width:20.0px\",\"stroke-width:1.8870163911673172px\",\"stroke-width:1.6877987701225818px\",\"stroke-width:2.623789815711739px\",\"\",\"stroke-width:17.32050807568877px\",\"stroke-width:17.32050807568877px\",\"stroke-width:18.708286933869708px\",\"stroke-width:20.0px\",\"\",\"stroke-width:13.09307341415954px\",\"stroke-width:20.0px\",\"stroke-width:15.118578920369089px\",\"stroke-width:10.690449676496975px\",\"stroke-width:5.922535605362114px\",\"stroke-width:6.214197535131269px\",\"stroke-width:6.392876163952083px\",\"stroke-width:20.0px\",\"\",\"stroke-width:NaNpx\",\"stroke-width:NaNpx\",\"stroke-width:NaNpx\",\"stroke-width:NaNpx\",\"\",\"stroke-width:20.0px\",\"stroke-width:0.0px\",\"stroke-width:0.0px\",\"stroke-width:0.0px\",\"\",\"stroke-width:10.0px\",\"stroke-width:20.0px\",\"stroke-width:12.24744871391589px\",\"stroke-width:17.32050807568877px\",\"\",\"stroke-width:18.708286933869708px\",\"stroke-width:20.0px\",\"stroke-width:20.0px\",\"stroke-width:15.811388300841898px\",\"\",\"stroke-width:8.665317033914317px\",\"stroke-width:9.328319455274306px\",\"stroke-width:4.884633980433643px\",\"stroke-width:20.0px\",\"\",\"stroke-width:20.0px\",\"stroke-width:20.0px\",\"stroke-width:20.0px\",\"stroke-width:0.0px\",\"\",\"stroke-width:20.0px\",\"stroke-width:16.32993161855452px\",\"stroke-width:16.32993161855452px\",\"stroke-width:20.0px\",\"\",\"stroke-width:17.77046633277277px\",\"stroke-width:15.217718205053643px\",\"stroke-width:20.0px\",\"stroke-width:19.466570535691503px\",\"\",\"stroke-width:NaNpx\",\"stroke-width:NaNpx\",\"stroke-width:NaNpx\",\"stroke-width:NaNpx\",\"\",\"stroke-width:11.151337659949931px\",\"stroke-width:9.869616326122838px\",\"stroke-width:20.0px\",\"stroke-width:6.275208230964843px\",\"\",\"stroke-width:NaNpx\",\"stroke-width:NaNpx\",\"stroke-width:NaNpx\",\"stroke-width:NaNpx\",\"\",\"stroke-width:20.0px\",\"stroke-width:0.0px\",\"stroke-width:0.0px\",\"stroke-width:0.0px\",\"\",\"stroke-width:NaNpx\",\"stroke-width:NaNpx\",\"stroke-width:NaNpx\",\"stroke-width:NaNpx\",\"\",\"stroke-width:20.0px\",\"stroke-width:5.007117441325405px\",\"stroke-width:3.8490017945975055px\",\"stroke-width:18.88637489554723px\",\"\",\"stroke-width:14.142135623730951px\",\"stroke-width:14.142135623730951px\",\"stroke-width:14.142135623730951px\",\"stroke-width:20.0px\",\"\",\"stroke-width:14.142135623730951px\",\"stroke-width:8.16496580927726px\",\"stroke-width:20.0px\",\"stroke-width:8.16496580927726px\",\"\",\"stroke-width:20.0px\",\"stroke-width:14.770978917519928px\",\"stroke-width:19.54016841836789px\",\"stroke-width:18.586407545691703px\",\"\",\"stroke-width:13.09307341415954px\",\"stroke-width:10.690449676496975px\",\"stroke-width:20.0px\",\"stroke-width:10.690449676496975px\",\"\",\"stroke-width:14.142135623730951px\",\"stroke-width:20.0px\",\"stroke-width:0.0px\",\"stroke-width:0.0px\",\"\",\"stroke-width:13.977495139343471px\",\"stroke-width:9.622504486493762px\",\"stroke-width:6.666666666666666px\",\"stroke-width:20.0px\",\"\",\"\",\"\",\"\",\"\",\"\",\"\",\"\",\"\",\"\",\"\"],\"title\":\"MCTS tree\",\"text\":[\"GridWorldState(4, 1, false)\\nN:   1599\\n\",\"GridWorldState(6, 3, false)\\nN:    390\\n\",\"                       up\\nQ:   0.10\\nN:     21\\n\",\"                     down\\nQ:   0.80\\nN:     25\\n\",\"                     left\\nQ:  -1.87\\nN:     17\\n\",\"                    right\\nQ:   4.41\\nN:    327\\n\",\"GridWorldState(1, 5, false)\\nN:     17\\n\",\"                       up\\nQ:   0.00\\nN:      3\\n\",\"                     down\\nQ:   0.00\\nN:      4\\n\",\"                     left\\nQ:   0.00\\nN:      5\\n\",\"                    right\\nQ:   0.00\\nN:      5\\n\",\"GridWorldState(8, 4, false)\\nN:    126\\n\",\"                       up\\nQ:   0.00\\nN:      9\\n\",\"                     down\\nQ:   5.16\\nN:     78\\n\",\"                     left\\nQ:   0.00\\nN:      9\\n\",\"                    right\\nQ:   3.18\\nN:     30\\n\",\"GridWorldState(2, 6, false)\\nN:      4\\n\",\"                       up\\nQ:   0.00\\nN:      1\\n\",\"                     down\\nQ:   0.00\\nN:      2\\n\",\"                     left\\nQ:   0.00\\nN:      1\\n\",\"                    right\\nQ:   0.00\\nN:      0\\n\",\"GridWorldState(2, 2, false)\\nN:    163\\n\",\"                       up\\nQ:  -1.69\\nN:     23\\n\",\"                     down\\nQ:   0.22\\nN:     54\\n\",\"                     left\\nQ:  -0.26\\nN:     40\\n\",\"                    right\\nQ:  -0.06\\nN:     46\\n\",\"GridWorldState(5, 3, false)\\nN:    189\\n\",\"                       up\\nQ:  -0.82\\nN:     26\\n\",\"                     down\\nQ:  -7.20\\nN:      5\\n\",\"                     left\\nQ:  -4.22\\nN:      9\\n\",\"                    right\\nQ:   1.62\\nN:    149\\n\",\"GridWorldState(5, 6, false)\\nN:     11\\n\",\"                       up\\nQ:   0.00\\nN:      2\\n\",\"                     down\\nQ:   0.00\\nN:      4\\n\",\"                     left\\nQ:  -4.50\\nN:      1\\n\",\"                    right\\nQ:   1.20\\nN:      4\\n\",\"GridWorldState(8, 7, false)\\nN:      2\\n\",\"                       up\\nQ:   0.00\\nN:      1\\n\",\"                     down\\nQ:   2.70\\nN:      1\\n\",\"                     left\\nQ:   0.00\\nN:      0\\n\",\"                    right\\nQ:   0.00\\nN:      0\\n\",\"GridWorldState(7, 1, false)\\nN:    603\\n\",\"                       up\\nQ:   3.89\\nN:    202\\n\",\"                     down\\nQ:   0.00\\nN:     34\\n\",\"                     left\\nQ:   0.99\\nN:     32\\n\",\"                    right\\nQ:   4.05\\nN:    335\\n\",\"GridWorldState(5, 1, false)\\nN:   1287\\n\",\"                       up\\nQ:   2.44\\nN:    533\\n\",\"                     down\\nQ:   0.00\\nN:     56\\n\",\"                     left\\nQ:   0.33\\nN:     68\\n\",\"                    right\\nQ:   2.48\\nN:    630\\n\",\"GridWorldState(9, 1, false)\\nN:    551\\n\",\"                       up\\nQ:   6.23\\nN:    446\\n\",\"                     down\\nQ:   0.00\\nN:     19\\n\",\"                     left\\nQ:   3.44\\nN:     42\\n\",\"                    right\\nQ:   3.67\\nN:     44\\n\",\"GridWorldState(1, 4, false)\\nN:     33\\n\",\"                       up\\nQ:  -0.72\\nN:      6\\n\",\"                     down\\nQ:   0.00\\nN:     10\\n\",\"                     left\\nQ:   0.00\\nN:      8\\n\",\"                    right\\nQ:   0.00\\nN:      9\\n\",\"GridWorldState(8, 1, false)\\nN:    462\\n\",\"                       up\\nQ:   2.57\\nN:     40\\n\",\"                     down\\nQ:   0.00\\nN:     20\\n\",\"                     left\\nQ:   3.44\\nN:     63\\n\",\"                    right\\nQ:   5.13\\nN:    339\\n\",\"GridWorldState(3, 4, false)\\nN:     41\\n\",\"                       up\\nQ:  -0.61\\nN:     12\\n\",\"                     down\\nQ:  -1.11\\nN:     10\\n\",\"                     left\\nQ:  -0.33\\nN:     11\\n\",\"                    right\\nQ:  -1.55\\nN:      8\\n\",\"GridWorldState(3, 2, false)\\nN:    266\\n\",\"                       up\\nQ:  -1.22\\nN:     35\\n\",\"                     down\\nQ:   0.04\\nN:     91\\n\",\"                     left\\nQ:  -0.63\\nN:     53\\n\",\"                    right\\nQ:   0.10\\nN:     87\\n\",\"GridWorldState(9, 6, false)\\nN:      3\\n\",\"                       up\\nQ:   2.19\\nN:      1\\n\",\"                     down\\nQ:   7.29\\nN:      1\\n\",\"                     left\\nQ:   0.00\\nN:      1\\n\",\"                    right\\nQ:   0.00\\nN:      0\\n\",\"GridWorldState(6, 7, false)\\nN:      1\\n\",\"                       up\\nQ:   0.00\\nN:      1\\n\",\"                     down\\nQ:   0.00\\nN:      0\\n\",\"                     left\\nQ:   0.00\\nN:      0\\n\",\"                    right\\nQ:   0.00\\nN:      0\\n\",\"GridWorldState(3, 7, false)\\nN:      0\\n\",\"                       up\\nQ:   0.00\\nN:      0\\n\",\"                     down\\nQ:   0.00\\nN:      0\\n\",\"                     left\\nQ:   0.00\\nN:      0\\n\",\"                    right\\nQ:   0.00\\nN:      0\\n\",\"GridWorldState(10, 5, false)\\nN:     12\\n\",\"                       up\\nQ:   0.00\\nN:      3\\n\",\"                     down\\nQ:   3.60\\nN:      5\\n\",\"                     left\\nQ:   0.00\\nN:      2\\n\",\"                    right\\nQ:   0.00\\nN:      2\\n\",\"GridWorldState(7, 5, false)\\nN:     34\\n\",\"                       up\\nQ:   0.00\\nN:      7\\n\",\"                     down\\nQ:   2.33\\nN:     13\\n\",\"                     left\\nQ:   0.00\\nN:      6\\n\",\"                    right\\nQ:   0.91\\nN:      8\\n\",\"GridWorldState(9, 8, false)\\nN:      0\\n\",\"                       up\\nQ:   0.00\\nN:      0\\n\",\"                     down\\nQ:   0.00\\nN:      0\\n\",\"                     left\\nQ:   0.00\\nN:      0\\n\",\"                    right\\nQ:   0.00\\nN:      0\\n\",\"GridWorldState(4, 6, false)\\nN:      2\\n\",\"                       up\\nQ:  -5.00\\nN:      1\\n\",\"                     down\\nQ:  -5.00\\nN:      1\\n\",\"                     left\\nQ:   0.00\\nN:      0\\n\",\"                    right\\nQ:   0.00\\nN:      0\\n\",\"GridWorldState(8, 2, false)\\nN:    593\\n\",\"                       up\\nQ:   5.55\\nN:    204\\n\",\"                     down\\nQ:   0.42\\nN:     15\\n\",\"                     left\\nQ:   0.29\\nN:     14\\n\",\"                    right\\nQ:   6.00\\nN:    360\\n\",\"GridWorldState(6, 4, false)\\nN:    103\\n\",\"                       up\\nQ:   0.00\\nN:     16\\n\",\"                     down\\nQ:   2.50\\nN:     47\\n\",\"                     left\\nQ:  -0.97\\nN:     11\\n\",\"                    right\\nQ:   1.52\\nN:     29\\n\",\"GridWorldState(6, 1, false)\\nN:    797\\n\",\"                       up\\nQ:   2.48\\nN:    161\\n\",\"                     down\\nQ:   0.00\\nN:     46\\n\",\"                     left\\nQ:   1.61\\nN:     82\\n\",\"                    right\\nQ:   3.38\\nN:    508\\n\",\"GridWorldState(10, 3, false)\\nN:    101\\n\",\"                       up\\nQ:   4.47\\nN:     20\\n\",\"                     down\\nQ:   4.83\\nN:     16\\n\",\"                     left\\nQ:   7.03\\nN:     51\\n\",\"                    right\\nQ:   0.00\\nN:     14\\n\",\"GridWorldState(5, 4, false)\\nN:     67\\n\",\"                       up\\nQ:  -0.97\\nN:     11\\n\",\"                     down\\nQ:  -0.51\\nN:     16\\n\",\"                     left\\nQ:  -1.80\\nN:      9\\n\",\"                    right\\nQ:   1.69\\nN:     31\\n\",\"GridWorldState(7, 3, false)\\nN:    648\\n\",\"                       up\\nQ:   0.00\\nN:     16\\n\",\"                     down\\nQ:   3.03\\nN:     46\\n\",\"                     left\\nQ:   0.72\\nN:     19\\n\",\"                    right\\nQ:   6.01\\nN:    567\\n\",\"GridWorldState(1, 6, false)\\nN:     13\\n\",\"                       up\\nQ:   0.00\\nN:      1\\n\",\"                     down\\nQ:   0.00\\nN:      2\\n\",\"                     left\\nQ:   0.00\\nN:     10\\n\",\"                    right\\nQ:   0.00\\nN:      0\\n\",\"GridWorldState(2, 1, false)\\nN:    257\\n\",\"                       up\\nQ:   0.14\\nN:     68\\n\",\"                     down\\nQ:   0.00\\nN:     64\\n\",\"                     left\\nQ:   0.05\\nN:     62\\n\",\"                    right\\nQ:   0.07\\nN:     63\\n\",\"GridWorldState(1, 2, false)\\nN:    137\\n\",\"                       up\\nQ:   0.00\\nN:     36\\n\",\"                     down\\nQ:  -0.37\\nN:     32\\n\",\"                     left\\nQ:   0.00\\nN:     42\\n\",\"                    right\\nQ:  -0.53\\nN:     27\\n\",\"GridWorldState(4, 4, false)\\nN:     23\\n\",\"                       up\\nQ:  -3.69\\nN:      4\\n\",\"                     down\\nQ:  -9.00\\nN:      2\\n\",\"                     left\\nQ:  -1.00\\nN:      9\\n\",\"                    right\\nQ:  -1.13\\nN:      8\\n\",\"GridWorldState(8, 3, false)\\nN:    624\\n\",\"                       up\\nQ:   2.21\\nN:     16\\n\",\"                     down\\nQ:   3.09\\nN:     23\\n\",\"                     left\\nQ:   3.38\\nN:     21\\n\",\"                    right\\nQ:   7.89\\nN:    564\\n\",\"GridWorldState(4, 2, false)\\nN:    466\\n\",\"                       up\\nQ:  -5.13\\nN:     12\\n\",\"                     down\\nQ:  -0.91\\nN:     67\\n\",\"                     left\\nQ:  -0.29\\nN:     98\\n\",\"                    right\\nQ:   1.05\\nN:    289\\n\",\"GridWorldState(9, 3, false)\\nN:   1615\\n\",\"                       up\\nQ:  10.00\\nN:    404\\n\",\"                     down\\nQ:  10.00\\nN:    404\\n\",\"                     left\\nQ:  10.00\\nN:    404\\n\",\"                    right\\nQ:  10.00\\nN:    403\\n\",\"GridWorldState(7, 6, false)\\nN:     12\\n\",\"                       up\\nQ:   0.73\\nN:      3\\n\",\"                     down\\nQ:   2.16\\nN:      4\\n\",\"                     left\\nQ:   1.97\\nN:      3\\n\",\"                    right\\nQ:   0.00\\nN:      2\\n\",\"GridWorldState(3, 5, false)\\nN:     12\\n\",\"                       up\\nQ:  -2.70\\nN:      3\\n\",\"                     down\\nQ:   0.00\\nN:      5\\n\",\"                     left\\nQ:   0.00\\nN:      3\\n\",\"                    right\\nQ:  -7.29\\nN:      1\\n\",\"GridWorldState(3, 3, false)\\nN:     67\\n\",\"                       up\\nQ:  -1.26\\nN:     19\\n\",\"                     down\\nQ:  -0.77\\nN:     22\\n\",\"                     left\\nQ:  -0.93\\nN:     20\\n\",\"                    right\\nQ:  -5.02\\nN:      6\\n\",\"GridWorldState(5, 5, false)\\nN:     28\\n\",\"                       up\\nQ:   0.43\\nN:     10\\n\",\"                     down\\nQ:  -0.28\\nN:      6\\n\",\"                     left\\nQ:  -6.32\\nN:      4\\n\",\"                    right\\nQ:   0.00\\nN:      8\\n\",\"GridWorldState(10, 4, false)\\nN:     57\\n\",\"                       up\\nQ:   4.57\\nN:     15\\n\",\"                     down\\nQ:   4.30\\nN:     15\\n\",\"                     left\\nQ:   3.56\\nN:     12\\n\",\"                    right\\nQ:   0.00\\nN:     15\\n\",\"GridWorldState(1, 1, false)\\nN:    184\\n\",\"                       up\\nQ:  -0.06\\nN:     47\\n\",\"                     down\\nQ:   0.00\\nN:     47\\n\",\"                     left\\nQ:   0.00\\nN:     47\\n\",\"                    right\\nQ:  -0.15\\nN:     43\\n\",\"GridWorldState(7, 4, false)\\nN:    128\\n\",\"                       up\\nQ:   1.32\\nN:     22\\n\",\"                     down\\nQ:   1.99\\nN:     29\\n\",\"                     left\\nQ:  -0.96\\nN:     10\\n\",\"                    right\\nQ:   3.54\\nN:     67\\n\",\"GridWorldState(2, 4, false)\\nN:     37\\n\",\"                       up\\nQ:  -1.78\\nN:      6\\n\",\"                     down\\nQ:   0.00\\nN:     11\\n\",\"                     left\\nQ:   0.00\\nN:     12\\n\",\"                    right\\nQ:  -0.74\\nN:      8\\n\",\"GridWorldState(6, 8, false)\\nN:      0\\n\",\"                       up\\nQ:   0.00\\nN:      0\\n\",\"                     down\\nQ:   0.00\\nN:      0\\n\",\"                     left\\nQ:   0.00\\nN:      0\\n\",\"                    right\\nQ:   0.00\\nN:      0\\n\",\"GridWorldState(3, 1, false)\\nN:    517\\n\",\"                       up\\nQ:  -0.38\\nN:     78\\n\",\"                     down\\nQ:   0.00\\nN:    104\\n\",\"                     left\\nQ:   0.09\\nN:    104\\n\",\"                    right\\nQ:   0.91\\nN:    231\\n\",\"GridWorldState(4, 3, false)\\nN:     77\\n\",\"                       up\\nQ: -10.00\\nN:     20\\n\",\"                     down\\nQ: -10.00\\nN:     19\\n\",\"                     left\\nQ: -10.00\\nN:     19\\n\",\"                    right\\nQ: -10.00\\nN:     19\\n\",\"GridWorldState(4, 5, false)\\nN:     10\\n\",\"                       up\\nQ:  -6.30\\nN:      2\\n\",\"                     down\\nQ:  -2.71\\nN:      3\\n\",\"                     left\\nQ:  -4.05\\nN:      2\\n\",\"                    right\\nQ:  -4.94\\nN:      3\\n\",\"GridWorldState(8, 8, false)\\nN:      0\\n\",\"                       up\\nQ:   0.00\\nN:      0\\n\",\"                     down\\nQ:   0.00\\nN:      0\\n\",\"                     left\\nQ:   0.00\\nN:      0\\n\",\"                    right\\nQ:   0.00\\nN:      0\\n\",\"GridWorldState(9, 2, false)\\nN:   1741\\n\",\"                       up\\nQ:   7.88\\nN:   1685\\n\",\"                     down\\nQ:   1.34\\nN:     15\\n\",\"                     left\\nQ:   0.55\\nN:     12\\n\",\"                    right\\nQ:   2.89\\nN:     29\\n\",\"GridWorldState(8, 5, false)\\nN:     27\\n\",\"                       up\\nQ:   0.00\\nN:      6\\n\",\"                     down\\nQ:   1.22\\nN:      6\\n\",\"                     left\\nQ:   1.24\\nN:      7\\n\",\"                    right\\nQ:   1.34\\nN:      8\\n\",\"GridWorldState(9, 5, false)\\nN:     16\\n\",\"                       up\\nQ:   0.66\\nN:      3\\n\",\"                     down\\nQ:   4.95\\nN:      7\\n\",\"                     left\\nQ:   0.00\\nN:      4\\n\",\"                    right\\nQ:   0.00\\nN:      2\\n\",\"                       up\\nQ:  -0.10\\nN:    109\\n\",\"                     down\\nQ:   0.00\\nN:    120\\n\",\"                     left\\nQ:   0.20\\nN:    127\\n\",\"                    right\\nQ:   1.87\\nN:   1243\\n\",\"GridWorldState(10, 7, false)\\nN:      0\\n\",\"                       up\\nQ:   0.00\\nN:      0\\n\",\"                     down\\nQ:   0.00\\nN:      0\\n\",\"                     left\\nQ:   0.00\\nN:      0\\n\",\"                    right\\nQ:   0.00\\nN:      0\\n\",\"GridWorldState(9, 7, false)\\nN:      1\\n\",\"                       up\\nQ:   2.43\\nN:      1\\n\",\"                     down\\nQ:   0.00\\nN:      0\\n\",\"                     left\\nQ:   0.00\\nN:      0\\n\",\"                    right\\nQ:   0.00\\nN:      0\\n\",\"GridWorldState(9, 4, false)\\nN:     38\\n\",\"                       up\\nQ:   2.27\\nN:      4\\n\",\"                     down\\nQ:   7.36\\nN:     16\\n\",\"                     left\\nQ:   0.00\\nN:      6\\n\",\"                    right\\nQ:   6.10\\nN:     12\\n\",\"GridWorldState(6, 5, false)\\nN:     28\\n\",\"                       up\\nQ:   0.68\\nN:      7\\n\",\"                     down\\nQ:   0.88\\nN:      8\\n\",\"                     left\\nQ:   0.00\\nN:      8\\n\",\"                    right\\nQ:  -0.86\\nN:      5\\n\",\"GridWorldState(5, 2, false)\\nN:    835\\n\",\"                       up\\nQ:   1.36\\nN:    107\\n\",\"                     down\\nQ:   1.56\\nN:    124\\n\",\"                     left\\nQ:  -0.54\\nN:     34\\n\",\"                    right\\nQ:   2.91\\nN:    570\\n\",\"GridWorldState(10, 6, false)\\nN:      3\\n\",\"                       up\\nQ:   0.00\\nN:      1\\n\",\"                     down\\nQ:   0.00\\nN:      1\\n\",\"                     left\\nQ:   0.00\\nN:      1\\n\",\"                    right\\nQ:   0.00\\nN:      0\\n\",\"GridWorldState(6, 6, false)\\nN:     10\\n\",\"                       up\\nQ:   0.00\\nN:      3\\n\",\"                     down\\nQ:   0.00\\nN:      2\\n\",\"                     left\\nQ:   0.00\\nN:      2\\n\",\"                    right\\nQ:   1.77\\nN:      3\\n\",\"GridWorldState(2, 3, false)\\nN:     63\\n\",\"                       up\\nQ:  -0.88\\nN:     15\\n\",\"                     down\\nQ:  -1.79\\nN:     11\\n\",\"                     left\\nQ:  -0.89\\nN:     19\\n\",\"                    right\\nQ:  -0.46\\nN:     18\\n\",\"GridWorldState(1, 7, false)\\nN:      0\\n\",\"                       up\\nQ:   0.00\\nN:      0\\n\",\"                     down\\nQ:   0.00\\nN:      0\\n\",\"                     left\\nQ:   0.00\\nN:      0\\n\",\"                    right\\nQ:   0.00\\nN:      0\\n\",\"GridWorldState(10, 2, false)\\nN:    319\\n\",\"                       up\\nQ:   4.81\\nN:     60\\n\",\"                     down\\nQ:   4.41\\nN:     47\\n\",\"                     left\\nQ:   6.20\\nN:    193\\n\",\"                    right\\nQ:   0.00\\nN:     19\\n\",\"GridWorldState(2, 7, false)\\nN:      0\\n\",\"                       up\\nQ:   0.00\\nN:      0\\n\",\"                     down\\nQ:   0.00\\nN:      0\\n\",\"                     left\\nQ:   0.00\\nN:      0\\n\",\"                    right\\nQ:   0.00\\nN:      0\\n\",\"GridWorldState(3, 6, false)\\nN:      1\\n\",\"                       up\\nQ:   0.00\\nN:      1\\n\",\"                     down\\nQ:   0.00\\nN:      0\\n\",\"                     left\\nQ:   0.00\\nN:      0\\n\",\"                    right\\nQ:   0.00\\nN:      0\\n\",\"GridWorldState(7, 7, false)\\nN:      0\\n\",\"                       up\\nQ:   0.00\\nN:      0\\n\",\"                     down\\nQ:   0.00\\nN:      0\\n\",\"                     left\\nQ:   0.00\\nN:      0\\n\",\"                    right\\nQ:   0.00\\nN:      0\\n\",\"GridWorldState(7, 2, false)\\nN:    699\\n\",\"                       up\\nQ:   5.02\\nN:    351\\n\",\"                     down\\nQ:   0.49\\nN:     22\\n\",\"                     left\\nQ:  -1.05\\nN:     13\\n\",\"                    right\\nQ:   4.81\\nN:    313\\n\",\"GridWorldState(8, 6, false)\\nN:     10\\n\",\"                       up\\nQ:   0.00\\nN:      2\\n\",\"                     down\\nQ:   1.22\\nN:      2\\n\",\"                     left\\nQ:   2.15\\nN:      2\\n\",\"                    right\\nQ:   1.64\\nN:      4\\n\",\"GridWorldState(10, 1, false)\\nN:    198\\n\",\"                       up\\nQ:   4.02\\nN:     54\\n\",\"                     down\\nQ:   0.00\\nN:     18\\n\",\"                     left\\nQ:   4.86\\nN:    108\\n\",\"                    right\\nQ:   0.00\\nN:     18\\n\",\"GridWorldState(1, 3, false)\\nN:     74\\n\",\"                       up\\nQ:   0.00\\nN:     22\\n\",\"                     down\\nQ:  -1.21\\nN:     12\\n\",\"                     left\\nQ:   0.00\\nN:     21\\n\",\"                    right\\nQ:   0.00\\nN:     19\\n\",\"GridWorldState(2, 5, false)\\nN:     14\\n\",\"                       up\\nQ:   0.00\\nN:      3\\n\",\"                     down\\nQ:  -5.94\\nN:      2\\n\",\"                     left\\nQ:   0.00\\nN:      7\\n\",\"                    right\\nQ:   0.00\\nN:      2\\n\",\"GridWorldState(5, 7, false)\\nN:      3\\n\",\"                       up\\nQ:   0.00\\nN:      1\\n\",\"                     down\\nQ:   0.00\\nN:      2\\n\",\"                     left\\nQ:   0.00\\nN:      0\\n\",\"                    right\\nQ:   0.00\\nN:      0\\n\",\"GridWorldState(6, 2, false)\\nN:    791\\n\",\"                       up\\nQ:   3.28\\nN:    211\\n\",\"                     down\\nQ:   2.45\\nN:    100\\n\",\"                     left\\nQ:   1.28\\nN:     48\\n\",\"                    right\\nQ:   3.89\\nN:    432\\n\",\"GridWorldState(4, 6, true)\\nN:      0\\n\",\"GridWorldState(4, 6, true)\\nN:      0\\n\",\"GridWorldState(9, 3, true)\\nN:      0\\n\",\"GridWorldState(9, 3, true)\\nN:      0\\n\",\"GridWorldState(9, 3, true)\\nN:      0\\n\",\"GridWorldState(9, 3, true)\\nN:      0\\n\",\"GridWorldState(4, 3, true)\\nN:      0\\n\",\"GridWorldState(4, 3, true)\\nN:      0\\n\",\"GridWorldState(4, 3, true)\\nN:      0\\n\",\"GridWorldState(4, 3, true)\\nN:      0\\n\",\"GridWorldState(5, 8, false)\\nN:      0\\n\"],\"style\":[\"\",\"\",\"stroke:#7E4100\",\"stroke:#754500\",\"stroke:#973400\",\"stroke:#475C00\",\"\",\"stroke:#7F4000\",\"stroke:#7F4000\",\"stroke:#7F4000\",\"stroke:#7F4000\",\"\",\"stroke:#7F4000\",\"stroke:#3E6100\",\"stroke:#7F4000\",\"stroke:#575400\",\"\",\"stroke:#7F4000\",\"stroke:#7F4000\",\"stroke:#7F4000\",\"stroke:#7F4000\",\"\",\"stroke:#953500\",\"stroke:#7D4100\",\"stroke:#833E00\",\"stroke:#804000\",\"\",\"stroke:#8A3B00\",\"stroke:#DB1200\",\"stroke:#B52500\",\"stroke:#6B4A00\",\"\",\"stroke:#7F4000\",\"stroke:#7F4000\",\"stroke:#B92300\",\"stroke:#704800\",\"\",\"stroke:#7F4000\",\"stroke:#5D5100\",\"stroke:#7F4000\",\"stroke:#7F4000\",\"\",\"stroke:#4E5900\",\"stroke:#7F4000\",\"stroke:#734600\",\"stroke:#4C5A00\",\"\",\"stroke:#605000\",\"stroke:#7F4000\",\"stroke:#7B4200\",\"stroke:#605000\",\"\",\"stroke:#306800\",\"stroke:#7F4000\",\"stroke:#545600\",\"stroke:#515700\",\"\",\"stroke:#893B00\",\"stroke:#7F4000\",\"stroke:#7F4000\",\"stroke:#7F4000\",\"\",\"stroke:#5F5000\",\"stroke:#7F4000\",\"stroke:#545600\",\"stroke:#3E6100\",\"\",\"stroke:#873C00\",\"stroke:#8E3900\",\"stroke:#843E00\",\"stroke:#933600\",\"\",\"stroke:#8F3800\",\"stroke:#7F4000\",\"stroke:#883C00\",\"stroke:#7E4100\",\"\",\"stroke:#644E00\",\"stroke:#236E00\",\"stroke:#7F4000\",\"stroke:#7F4000\",\"\",\"stroke:#7F4000\",\"stroke:#7F4000\",\"stroke:#7F4000\",\"stroke:#7F4000\",\"\",\"stroke:#7F4000\",\"stroke:#7F4000\",\"stroke:#7F4000\",\"stroke:#7F4000\",\"\",\"stroke:#7F4000\",\"stroke:#525700\",\"stroke:#7F4000\",\"stroke:#7F4000\",\"\",\"stroke:#7F4000\",\"stroke:#624F00\",\"stroke:#7F4000\",\"stroke:#744600\",\"\",\"stroke:#7F4000\",\"stroke:#7F4000\",\"stroke:#7F4000\",\"stroke:#7F4000\",\"\",\"stroke:#BF2000\",\"stroke:#BF2000\",\"stroke:#7F4000\",\"stroke:#7F4000\",\"\",\"stroke:#396300\",\"stroke:#7A4300\",\"stroke:#7C4200\",\"stroke:#336600\",\"\",\"stroke:#7F4000\",\"stroke:#605000\",\"stroke:#8C3A00\",\"stroke:#6C4A00\",\"\",\"stroke:#605000\",\"stroke:#7F4000\",\"stroke:#6B4A00\",\"stroke:#545600\",\"\",\"stroke:#465D00\",\"stroke:#425F00\",\"stroke:#266D00\",\"stroke:#7F4000\",\"\",\"stroke:#8C3A00\",\"stroke:#863D00\",\"stroke:#963500\",\"stroke:#6A4B00\",\"\",\"stroke:#7F4000\",\"stroke:#595300\",\"stroke:#764500\",\"stroke:#336600\",\"\",\"stroke:#7F4000\",\"stroke:#7F4000\",\"stroke:#7F4000\",\"stroke:#7F4000\",\"\",\"stroke:#7E4100\",\"stroke:#7F4000\",\"stroke:#7F4000\",\"stroke:#7F4000\",\"\",\"stroke:#7F4000\",\"stroke:#843E00\",\"stroke:#7F4000\",\"stroke:#863D00\",\"\",\"stroke:#AF2800\",\"stroke:#F20700\",\"stroke:#8C3A00\",\"stroke:#8E3900\",\"\",\"stroke:#634E00\",\"stroke:#585400\",\"stroke:#545600\",\"stroke:#1B7200\",\"\",\"stroke:#C11F00\",\"stroke:#8B3A00\",\"stroke:#833E00\",\"stroke:#724700\",\"\",\"stroke:#008000\",\"stroke:#008000\",\"stroke:#008000\",\"stroke:#008000\",\"\",\"stroke:#764500\",\"stroke:#644E00\",\"stroke:#664D00\",\"stroke:#7F4000\",\"\",\"stroke:#A22F00\",\"stroke:#7F4000\",\"stroke:#7F4000\",\"stroke:#DC1200\",\"\",\"stroke:#903800\",\"stroke:#893B00\",\"stroke:#8B3A00\",\"stroke:#C02000\",\"\",\"stroke:#7A4300\",\"stroke:#833E00\",\"stroke:#D01800\",\"stroke:#7F4000\",\"\",\"stroke:#455D00\",\"stroke:#495B00\",\"stroke:#525700\",\"stroke:#7F4000\",\"\",\"stroke:#804000\",\"stroke:#7F4000\",\"stroke:#7F4000\",\"stroke:#813F00\",\"\",\"stroke:#6F4800\",\"stroke:#664D00\",\"stroke:#8C3A00\",\"stroke:#525700\",\"\",\"stroke:#963500\",\"stroke:#7F4000\",\"stroke:#7F4000\",\"stroke:#893B00\",\"\",\"stroke:#7F4000\",\"stroke:#7F4000\",\"stroke:#7F4000\",\"stroke:#7F4000\",\"\",\"stroke:#843E00\",\"stroke:#7F4000\",\"stroke:#7E4100\",\"stroke:#744600\",\"\",\"stroke:#FF0000\",\"stroke:#FF0000\",\"stroke:#FF0000\",\"stroke:#FF0000\",\"\",\"stroke:#D01800\",\"stroke:#A22F00\",\"stroke:#B32600\",\"stroke:#BF2000\",\"\",\"stroke:#7F4000\",\"stroke:#7F4000\",\"stroke:#7F4000\",\"stroke:#7F4000\",\"\",\"stroke:#1B7200\",\"stroke:#6E4900\",\"stroke:#794300\",\"stroke:#5B5200\",\"\",\"stroke:#7F4000\",\"stroke:#704800\",\"stroke:#704800\",\"stroke:#6E4900\",\"\",\"stroke:#774400\",\"stroke:#406000\",\"stroke:#7F4000\",\"stroke:#7F4000\",\"stroke:#813F00\",\"stroke:#7F4000\",\"stroke:#7D4100\",\"stroke:#684C00\",\"\",\"stroke:#7F4000\",\"stroke:#7F4000\",\"stroke:#7F4000\",\"stroke:#7F4000\",\"\",\"stroke:#614F00\",\"stroke:#7F4000\",\"stroke:#7F4000\",\"stroke:#7F4000\",\"\",\"stroke:#634E00\",\"stroke:#226F00\",\"stroke:#7F4000\",\"stroke:#326700\",\"\",\"stroke:#774400\",\"stroke:#744600\",\"stroke:#7F4000\",\"stroke:#8A3B00\",\"\",\"stroke:#6E4900\",\"stroke:#6C4A00\",\"stroke:#863D00\",\"stroke:#5A5300\",\"\",\"stroke:#7F4000\",\"stroke:#7F4000\",\"stroke:#7F4000\",\"stroke:#7F4000\",\"\",\"stroke:#7F4000\",\"stroke:#7F4000\",\"stroke:#7F4000\",\"stroke:#694B00\",\"\",\"stroke:#8B3A00\",\"stroke:#963500\",\"stroke:#8B3A00\",\"stroke:#853D00\",\"\",\"stroke:#7F4000\",\"stroke:#7F4000\",\"stroke:#7F4000\",\"stroke:#7F4000\",\"\",\"stroke:#425F00\",\"stroke:#475C00\",\"stroke:#316700\",\"stroke:#7F4000\",\"\",\"stroke:#7F4000\",\"stroke:#7F4000\",\"stroke:#7F4000\",\"stroke:#7F4000\",\"\",\"stroke:#7F4000\",\"stroke:#7F4000\",\"stroke:#7F4000\",\"stroke:#7F4000\",\"\",\"stroke:#7F4000\",\"stroke:#7F4000\",\"stroke:#7F4000\",\"stroke:#7F4000\",\"\",\"stroke:#3F6000\",\"stroke:#794300\",\"stroke:#8D3900\",\"stroke:#425F00\",\"\",\"stroke:#7F4000\",\"stroke:#704800\",\"stroke:#644E00\",\"stroke:#6B4A00\",\"\",\"stroke:#4C5A00\",\"stroke:#7F4000\",\"stroke:#425F00\",\"stroke:#7F4000\",\"\",\"stroke:#7F4000\",\"stroke:#8F3800\",\"stroke:#7F4000\",\"stroke:#7F4000\",\"\",\"stroke:#7F4000\",\"stroke:#CB1A00\",\"stroke:#7F4000\",\"stroke:#7F4000\",\"\",\"stroke:#7F4000\",\"stroke:#7F4000\",\"stroke:#7F4000\",\"stroke:#7F4000\",\"\",\"stroke:#565500\",\"stroke:#605000\",\"stroke:#6F4800\",\"stroke:#4E5900\",\"\",\"\",\"\",\"\",\"\",\"\",\"\",\"\",\"\",\"\",\"\"]}};\n",
       "        var rootID = 1-1;\n",
       "        var div = \"treevisfwlNOtN9\";\n",
       "        var initExpand = 0\n",
       "        var initDuration = 750\n",
       "        var svgHeight = 600\n",
       "        if (typeof $ === 'undefined') {\n",
       "    loadScript(\"https://code.jquery.com/jquery-3.1.1.min.js\", run);\n",
       "} else {\n",
       "    run();\n",
       "}\n",
       "\n",
       "function run() {\n",
       "    if (typeof d3 === 'undefined') {\n",
       "        loadScript(\"https://d3js.org/d3.v3.js\", showTree);\n",
       "    } else {\n",
       "        showTree();\n",
       "    }\n",
       "}\n",
       "\n",
       "function loadScript(url, callback)\n",
       "{\n",
       "    console.log(\"starting script load...\")\n",
       "    // Adding the script tag to the head as suggested before\n",
       "    var head = document.getElementsByTagName('head')[0];\n",
       "    var script = document.createElement('script');\n",
       "    script.type = 'text/javascript';\n",
       "    script.src = url;\n",
       "\n",
       "    // Then bind the event to the callback function.\n",
       "    // There are several events for cross browser compatibility.\n",
       "    script.onreadystatechange = callback;\n",
       "    script.onload = callback;\n",
       "\n",
       "    // Fire the loading\n",
       "    head.appendChild(script);\n",
       "}\n",
       "\n",
       "function showTree() {\n",
       "        \n",
       "    // var margin = {top: 20, right: 120, bottom: 20, left: 120},\n",
       "    var margin = {top: 20, right: 120, bottom: 80, left: 120},\n",
       "        width = $(\"#\"+div).width() - margin.right - margin.left,\n",
       "        height = svgHeight - margin.top - margin.bottom;\n",
       "        // TODO make height a parameter of TreeVisualizer\n",
       "\n",
       "    var i = 0,\n",
       "        root;\n",
       "\n",
       "    var tree = d3.layout.tree()\n",
       "        .size([width, height]);\n",
       "\n",
       "    var diagonal = d3.svg.diagonal();\n",
       "        //.projection(function(d) { return [d.y, d.x]; });\n",
       "        // uncomment above to make the tree go horizontally\n",
       "\n",
       "    // see http://stackoverflow.com/questions/16265123/resize-svg-when-window-is-resized-in-d3-js\n",
       "    if (d3.select(\"#\"+div+\"_svg\").empty()) {\n",
       "        $(\".d3twarn\").remove();\n",
       "        d3.select(\"#\"+div).append(\"svg\")\n",
       "            .attr(\"id\", div+\"_svg\")\n",
       "            .attr(\"width\", width + margin.right + margin.left)\n",
       "            .attr(\"height\", height + margin.top + margin.bottom);\n",
       "    }\n",
       "\n",
       "    d3.select(\"#\"+div+\"_svg\").selectAll(\"*\").remove();\n",
       "\n",
       "    var svg = d3.select(\"#\"+div+\"_svg\")\n",
       "        .append(\"g\")\n",
       "            .attr(\"transform\", \"translate(\" + margin.left + \",\" + margin.top + \")\");\n",
       "\n",
       "    // console.log(\"tree data:\");\n",
       "    // console.log(treeData[rootID]);\n",
       "    root = createDisplayNode(rootID, initExpand);\n",
       "    root.x0 = width / 2;\n",
       "    root.y0 = 0;\n",
       "\n",
       "    update(root, initDuration);\n",
       "    console.log(\"tree should appear\");\n",
       "\n",
       "    function createDisplayNode(id, expandLevel) {\n",
       "      var dnode = {\"dataID\":id,\n",
       "                   \"children\": null,\n",
       "                   \"_children\":null};\n",
       "      if (expandLevel > 0) {\n",
       "        initializeChildren(dnode, expandLevel);\n",
       "      }\n",
       "      return dnode;\n",
       "    }\n",
       "\n",
       "    function initializeChildren(d, expandLevel) {\n",
       "      // create children\n",
       "      var children = treeData.children[d.dataID];\n",
       "      d.children = [];\n",
       "      if (children) {\n",
       "        for (var i = 0; i < children.length; i++) {\n",
       "          var cid = children[i]-1;\n",
       "          d.children.push(createDisplayNode(cid, expandLevel-1));\n",
       "        }\n",
       "      }\n",
       "    }\n",
       "\n",
       "    /**\n",
       "     * Recursively called to update each node in the tree.\n",
       "     * \n",
       "     * source is a d3 node that has position, etc.\n",
       "    */\n",
       "    function update(source, duration) {\n",
       "\n",
       "      width = $(\"#\"+div).width() - margin.right - margin.left,\n",
       "      height = $(\"#\"+div).height() - margin.top - margin.bottom;\n",
       "\n",
       "      tree.size([width,height]);\n",
       "      d3.select(\"#\"+div).attr(\"width\", width + margin.right + margin.left)\n",
       "            .attr(\"height\", height + margin.top + margin.bottom);\n",
       "      d3.select(\"#\"+div+\"_svg\").attr(\"width\", width + margin.right + margin.left)\n",
       "             .attr(\"height\", height + margin.top + margin.bottom);\n",
       "\n",
       "\n",
       "      // Compute the new tree layout.\n",
       "      var nodes = tree.nodes(root).reverse(),\n",
       "          links = tree.links(nodes);\n",
       "\n",
       "\n",
       "      // Update the nodes…\n",
       "      var node = svg.selectAll(\"g.node\")\n",
       "          .data(nodes, function(d) { return d.id || (d.id = ++i); });\n",
       "\n",
       "      // Enter any new nodes at the parent's previous position.\n",
       "      var nodeEnter = node.enter().append(\"g\")\n",
       "          .attr(\"class\", \"node\")\n",
       "          .attr(\"transform\", function(d) { return \"translate(\" + source.x0 + \",\" + source.y0 + \")\"; })\n",
       "          .on(\"click\", click)\n",
       "\n",
       "      nodeEnter.append(\"circle\")\n",
       "          .attr(\"r\", \"10px\")\n",
       "          .attr(\"style\", function(d) { return treeData.style[d.dataID]; } )\n",
       "\n",
       "      var tbox = nodeEnter.append(\"text\")\n",
       "          .attr(\"y\", 25)\n",
       "          .attr(\"text-anchor\", \"middle\")\n",
       "          //.text( function(d) { return treeData.text[d.dataID]; } )\n",
       "          .style(\"fill-opacity\", 1e-6);\n",
       "\n",
       "      tbox.each( function(d) {\n",
       "          var el = d3.select(this)\n",
       "          var text = treeData.text[d.dataID];\n",
       "          var lines = text.split('\\n');\n",
       "          for (var i = 0; i < lines.length; i++) {\n",
       "              var tspan = el.append(\"tspan\").text(lines[i]);\n",
       "              if (i > 0) {\n",
       "                  tspan.attr(\"x\", 0).attr(\"dy\", \"1.2em\");\n",
       "              }\n",
       "          }\n",
       "      });\n",
       "\n",
       "      //tooltip\n",
       "      nodeEnter.append(\"title\").text( function(d) { return treeData.tooltip[d.dataID];} );\n",
       "\n",
       "      // Transition nodes to their new position.\n",
       "      var nodeUpdate = node.transition()\n",
       "          .duration(duration)\n",
       "          .attr(\"transform\", function(d) { return \"translate(\" + d.x + \",\" + d.y + \")\"; });\n",
       "\n",
       "      nodeUpdate.select(\"text\")\n",
       "          .style(\"fill-opacity\", 1);\n",
       "\n",
       "      // Transition exiting nodes to the parent's new position.\n",
       "      var nodeExit = node.exit().transition()\n",
       "          .duration(duration)\n",
       "          .attr(\"transform\", function(d) { return \"translate(\" + source.x + \",\" + source.y + \")\"; })\n",
       "          .remove();\n",
       "\n",
       "      nodeExit.select(\"text\")\n",
       "          .style(\"fill-opacity\", 1e-6);\n",
       "\n",
       "      // Update the links…\n",
       "      var link = svg.selectAll(\"path.link\")\n",
       "          .data(links, function(d) { return d.target.id; });\n",
       "\n",
       "      // Enter any new links at the parent's previous position.\n",
       "      // XXX link width should be based on transition data, not node data\n",
       "      link.enter().insert(\"path\", \"g\")\n",
       "          .attr(\"class\", \"link\")\n",
       "          .attr(\"style\", function(d) {\n",
       "              var ls = treeData.link_style[d.target.dataID];\n",
       "              return ls;\n",
       "          } )\n",
       "          .attr(\"d\", function(d) {\n",
       "            var o = {x: source.x0, y: source.y0};\n",
       "            return diagonal({source: o, target: o});\n",
       "          });\n",
       "\n",
       "      // Transition links to their new position.\n",
       "      link.transition()\n",
       "          .duration(duration)\n",
       "          .attr(\"d\", diagonal);\n",
       "\n",
       "      // Transition exiting nodes to the parent's new position.\n",
       "      link.exit().transition()\n",
       "          .duration(duration)\n",
       "          .attr(\"d\", function(d) {\n",
       "            var o = {x: source.x, y: source.y};\n",
       "            return diagonal({source: o, target: o});\n",
       "          })\n",
       "          .remove();\n",
       "\n",
       "      // Stash the old positions for transition.\n",
       "      nodes.forEach(function(d) {\n",
       "        d.x0 = d.x;\n",
       "        d.y0 = d.y;\n",
       "      });\n",
       "    }\n",
       "\n",
       "    // Toggle children on click.\n",
       "    function click(d) {\n",
       "      if (d.children) {\n",
       "        d._children = d.children;\n",
       "        d.children = null;\n",
       "      } else if (d._children) {\n",
       "        d.children = d._children;\n",
       "        d._children = null;\n",
       "      } else {\n",
       "        initializeChildren(d, 1);\n",
       "      }\n",
       "      update(d, 750);\n",
       "    }\n",
       "\n",
       "}\n",
       "\n",
       "        })();\n",
       "    </script>\n",
       "    <p class=\"d3twarn\">\n",
       "    Attempting to display the tree. If the tree is large, this may take some time.\n",
       "    </p>\n",
       "    <p class=\"d3twarn\">\n",
       "    Note: D3Trees.jl requires an internet connection. If no tree appears, please check your connection. To help fix this, please see <a href=\"https://github.com/sisl/D3Trees.jl/issues/10\">this issue</a>. You may also diagnose errors with the javascript console (Ctrl-Shift-J in chrome).\n",
       "    </p>\n",
       "    </div>\n",
       "    </body>\n",
       "    </html>\n",
       "\n"
      ],
      "text/plain": [
       "GridWorldState(4, 1, false)\n",
       "N:   1599\n",
       "\n",
       "├──                       up\n",
       "│  Q:  -0.10\n",
       "│  N:    109\n",
       "\n",
       "│  ├──GridWorldState(3, 1, false)\n",
       "│  │  N:    517\n",
       "\n",
       "│  │  ├──                       up\n",
       "│  │  │  Q:  -0.38\n",
       "│  │  │  N:     78\n",
       " (3 children)\n",
       "│  │  ├──                     down\n",
       "│  │  │  Q:   0.00\n",
       "│  │  │  N:    104\n",
       " (1 children)\n",
       "│  │  ├──                     left\n",
       "│  │  │  Q:   0.09\n",
       "│  │  │  N:    104\n",
       " (3 children)\n",
       "│  │  └──                    right\n",
       "│  │     Q:   0.91\n",
       "│  │     N:    231\n",
       " (3 children)\n",
       "│  ├──GridWorldState(5, 1, false)\n",
       "│  │  N:   1287\n",
       "\n",
       "│  │  ├──                       up\n",
       "│  │  │  Q:   2.44\n",
       "│  │  │  N:    533\n",
       " (3 children)\n",
       "│  │  ├──                     down\n",
       "│  │  │  Q:   0.00\n",
       "│  │  │  N:     56\n",
       " (1 children)\n",
       "│  │  ├──                     left\n",
       "│  │  │  Q:   0.33\n",
       "│  │  │  N:     68\n",
       " (3 children)\n",
       "│  │  └──                    right\n",
       "│  │     Q:   2.48\n",
       "│  │     N:    630\n",
       " (3 children)\n",
       "│  └──GridWorldState(4, 2, false)\n",
       "│     N:    466\n",
       "\n",
       "│     ├──                       up\n",
       "│     │  Q:  -5.13\n",
       "│     │  N:     12\n",
       " (4 children)\n",
       "│     ├──                     down\n",
       "│     │  Q:  -0.91\n",
       "│     │  N:     67\n",
       " (4 children)\n",
       "│     ├──                     left\n",
       "│     │  Q:  -0.29\n",
       "│     │  N:     98\n",
       " (4 children)\n",
       "│     └──                    right\n",
       "│        Q:   1.05\n",
       "│        N:    289\n",
       " (4 children)\n",
       "├──                     down\n",
       "│  Q:   0.00\n",
       "│  N:    120\n",
       "\n",
       "│  └──GridWorldState(4, 1, false)\n",
       "│     N:   1599\n",
       "\n",
       "│     ├──                       up\n",
       "│     │  Q:  -0.10\n",
       "│     │  N:    109\n",
       " (3 children)\n",
       "│     ├──                     down\n",
       "│     │  Q:   0.00\n",
       "│     │  N:    120\n",
       " (1 children)\n",
       "│     ├──                     left\n",
       "│     │  Q:   0.20\n",
       "│     │  N:    127\n",
       " (3 children)\n",
       "│     └──                    right\n",
       "│        Q:   1.87\n",
       "│        N:   1243\n",
       " (3 children)\n",
       "├──                     left\n",
       "│  Q:   0.20\n",
       "│  N:    127\n",
       "\n",
       "│  ├──GridWorldState(3, 1, false)\n",
       "│  │  N:    517\n",
       "\n",
       "│  │  ├──                       up\n",
       "│  │  │  Q:  -0.38\n",
       "│  │  │  N:     78\n",
       " (3 children)\n",
       "│  │  ├──                     down\n",
       "│  │  │  Q:   0.00\n",
       "│  │  │  N:    104\n",
       " (1 children)\n",
       "│  │  ├──                     left\n",
       "│  │  │  Q:   0.09\n",
       "│  │  │  N:    104\n",
       " (3 children)\n",
       "│  │  └──                    right\n",
       "│  │     Q:   0.91\n",
       "│  │     N:    231\n",
       " (3 children)\n",
       "│  ├──GridWorldState(5, 1, false)\n",
       "│  │  N:   1287\n",
       "\n",
       "│  │  ├──                       up\n",
       "│  │  │  Q:   2.44\n",
       "│  │  │  N:    533\n",
       " (3 children)\n",
       "│  │  ├──                     down\n",
       "│  │  │  Q:   0.00\n",
       "│  │  │  N:     56\n",
       " (1 children)\n",
       "│  │  ├──                     left\n",
       "│  │  │  Q:   0.33\n",
       "│  │  │  N:     68\n",
       " (3 children)\n",
       "│  │  └──                    right\n",
       "│  │     Q:   2.48\n",
       "│  │     N:    630\n",
       " (3 children)\n",
       "│  └──GridWorldState(4, 2, false)\n",
       "│     N:    466\n",
       "\n",
       "│     ├──                       up\n",
       "│     │  Q:  -5.13\n",
       "│     │  N:     12\n",
       " (4 children)\n",
       "│     ├──                     down\n",
       "│     │  Q:  -0.91\n",
       "│     │  N:     67\n",
       " (4 children)\n",
       "│     ├──                     left\n",
       "│     │  Q:  -0.29\n",
       "│     │  N:     98\n",
       " (4 children)\n",
       "│     └──                    right\n",
       "│        Q:   1.05\n",
       "│        N:    289\n",
       " (4 children)\n",
       "└──                    right\n",
       "   Q:   1.87\n",
       "   N:   1243\n",
       "\n",
       "   ├──GridWorldState(3, 1, false)\n",
       "   │  N:    517\n",
       "\n",
       "   │  ├──                       up\n",
       "   │  │  Q:  -0.38\n",
       "   │  │  N:     78\n",
       " (3 children)\n",
       "   │  ├──                     down\n",
       "   │  │  Q:   0.00\n",
       "   │  │  N:    104\n",
       " (1 children)\n",
       "   │  ├──                     left\n",
       "   │  │  Q:   0.09\n",
       "   │  │  N:    104\n",
       " (3 children)\n",
       "   │  └──                    right\n",
       "   │     Q:   0.91\n",
       "   │     N:    231\n",
       " (3 children)\n",
       "   ├──GridWorldState(5, 1, false)\n",
       "   │  N:   1287\n",
       "\n",
       "   │  ├──                       up\n",
       "   │  │  Q:   2.44\n",
       "   │  │  N:    533\n",
       " (3 children)\n",
       "   │  ├──                     down\n",
       "   │  │  Q:   0.00\n",
       "   │  │  N:     56\n",
       " (1 children)\n",
       "   │  ├──                     left\n",
       "   │  │  Q:   0.33\n",
       "   │  │  N:     68\n",
       " (3 children)\n",
       "   │  └──                    right\n",
       "   │     Q:   2.48\n",
       "   │     N:    630\n",
       " (3 children)\n",
       "   └──GridWorldState(4, 2, false)\n",
       "      N:    466\n",
       "\n",
       "      ├──                       up\n",
       "      │  Q:  -5.13\n",
       "      │  N:     12\n",
       " (4 children)\n",
       "      ├──                     down\n",
       "      │  Q:  -0.91\n",
       "      │  N:     67\n",
       " (4 children)\n",
       "      ├──                     left\n",
       "      │  Q:  -0.29\n",
       "      │  N:     98\n",
       " (4 children)\n",
       "      └──                    right\n",
       "         Q:   1.05\n",
       "         N:    289\n",
       " (4 children)\n"
      ]
     },
     "execution_count": 26,
     "metadata": {},
     "output_type": "execute_result"
    }
   ],
   "source": [
    "using D3Trees\n",
    "\n",
    "# first, run the planner on the state\n",
    "s = state_hist(hist)[1]\n",
    "a = action(planner, s)\n",
    "\n",
    "# show the tree (click the node to expand)\n",
    "D3Tree(planner, s)"
   ]
  },
  {
   "cell_type": "code",
   "execution_count": null,
   "metadata": {
    "collapsed": true
   },
   "outputs": [],
   "source": []
  }
 ],
 "metadata": {
  "anaconda-cloud": {},
  "kernelspec": {
   "display_name": "Julia 0.6.2",
   "language": "julia",
   "name": "julia-0.6"
  },
  "language_info": {
   "file_extension": ".jl",
   "mimetype": "application/julia",
   "name": "julia",
   "version": "0.6.2"
  }
 },
 "nbformat": 4,
 "nbformat_minor": 1
}
