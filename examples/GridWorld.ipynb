{
 "cells": [
  {
   "cell_type": "markdown",
   "metadata": {
    "slideshow": {
     "slide_type": "slide"
    }
   },
   "source": [
    "# Grid World Tutorial: POMDPs.jl for Complete Beginners"
   ]
  },
  {
   "cell_type": "markdown",
   "metadata": {
    "slideshow": {
     "slide_type": "slide"
    }
   },
   "source": [
    "In this tutorial, we try to provide a simple example of how to define a Markov decision process (MDP) problem using the [POMDPs.jl](https://github.com/sisl/POMDPs.jl) interface. After defining the problem in this way, you will be able to use the solvers that the interface supports. In this tutorial, we will show you how to use the value iteration and the Monte Carlo Tree Search solvers that the POMDPs.jl interface supports. We assume that you have some knowledge of basic programming, but are not necessarily familiar with all the features that exist in Julia. We try to cover the many language specific features used in POMDPs.jl in this tutorial. We do assume that you know the grid world problem, and are familiar with the formal defintion of the MDP.  Let's get started!"
   ]
  },
  {
   "cell_type": "markdown",
   "metadata": {},
   "source": [
    "## Dependencies\n",
    "You need to install a few modules in order to use this notebook. If you have all the modules below installed, great! If not run the following commands:\n",
    "```julia\n",
    "# install the POMDPs.jl interface\n",
    "Pkg.clone(\"https://github.com/JuliaPOMDP/POMDPs.jl.git\")\n",
    "\n",
    "using POMDPs # we'll use the POMDPs.add function to install packages that are part of JuliaPOMDP\n",
    "\n",
    "# install the Value Iteration solver\n",
    "POMDPs.add(\"DiscreteValueIteration\")\n",
    "\n",
    "# install the MCTS solver\n",
    "POMDPs.add(\"MCTS\")\n",
    "\n",
    "# install support tools we'll use for simulation\n",
    "POMDPs.add(\"POMDPToolbox\")\n",
    "```"
   ]
  },
  {
   "cell_type": "code",
   "execution_count": 1,
   "metadata": {
    "collapsed": false,
    "slideshow": {
     "slide_type": "slide"
    }
   },
   "outputs": [],
   "source": [
    "# first import the POMDPs.jl interface\n",
    "using POMDPs\n",
    "\n",
    "# import our helper Distributions.jl module\n",
    "using Distributions\n",
    "\n",
    "# POMDPToolbox has some glue code to help us use Distributions.jl\n",
    "using POMDPToolbox"
   ]
  },
  {
   "cell_type": "markdown",
   "metadata": {},
   "source": [
    "## Problem Overview\n",
    "In Grid World, we are trying to control an agent who has trouble moving in the desired direction. In our problem, we have a four reward states on a $10\\times 10$ grid. Each position on the grid represents a state, and the positive reward states are terminal (the agent stops recieveing reward after reaching them). The agent has four actions to choose from: up, down, left, right. The agent moves in the desired direction with a probability of 0.7, and with a probability of 0.1 in each of the remaining three directions. The problem has the following form:\n",
    "![example](http://artint.info/figures/ch09/gridworldc.gif)"
   ]
  },
  {
   "cell_type": "markdown",
   "metadata": {},
   "source": [
    "## MDP Type\n",
    "\n",
    "In POMDPs.jl, an MDP is defined by creating a subtype of the `MDP` abstract type. The types of the states and actions for the MDP are declared as [parameters](https://docs.julialang.org/en/stable/manual/types/#Parametric-Types-1) of the `MDP` type.  For example, if our states and actions are both represented by integers we can define our MDP type in the following way:\n",
    "```julia\n",
    "type MyMDP <: MDP{Int64, Int64} # MDP{StateType, ActionType}\n",
    "\n",
    "end\n",
    "```\n",
    "`MyMDP` is a subtype from an abstract MDP type defined in POMDPs.jl. Let's first define types to represent grid worls states and actions, and then we'll go through defining our Grid World MDP type. "
   ]
  },
  {
   "cell_type": "markdown",
   "metadata": {
    "slideshow": {
     "slide_type": "slide"
    }
   },
   "source": [
    "## States\n",
    "The data container below represents the state of the agent in the grid world."
   ]
  },
  {
   "cell_type": "code",
   "execution_count": 2,
   "metadata": {
    "collapsed": false
   },
   "outputs": [],
   "source": [
    "struct GridWorldState \n",
    "    x::Int64 # x position\n",
    "    y::Int64 # y position\n",
    "    done::Bool # are we in a terminal state?\n",
    "end"
   ]
  },
  {
   "cell_type": "markdown",
   "metadata": {},
   "source": [
    "Below are some convenience functions for working with the GridWorldState. "
   ]
  },
  {
   "cell_type": "code",
   "execution_count": 3,
   "metadata": {
    "collapsed": false
   },
   "outputs": [
    {
     "data": {
      "text/plain": [
       "posequal (generic function with 1 method)"
      ]
     },
     "execution_count": 3,
     "metadata": {},
     "output_type": "execute_result"
    }
   ],
   "source": [
    "# initial state constructor\n",
    "GridWorldState(x::Int64, y::Int64) = GridWorldState(x,y,false)\n",
    "# checks if the position of two states are the same\n",
    "posequal(s1::GridWorldState, s2::GridWorldState) = s1.x == s2.x && s1.y == s2.y"
   ]
  },
  {
   "cell_type": "markdown",
   "metadata": {},
   "source": [
    "## Actions\n",
    "Since our action is simply the direction the agent chooses to go (i.e. up, down, left, right), we can use a Symbol to represent it. Symbols are essentially the same as strings, but they typically consist of only one word and literals begin with \"`:`\". See [this page](https://stackoverflow.com/questions/23480722/what-is-a-symbol-in-julia) for a techincal discussion of what they are. Note that in this case, we will not define a custom type for our action, instead we represent it directly with a symbol. So that our action looks like:\n",
    "```julia\n",
    "action = :up # can also be :down, :left, :right\n",
    "```"
   ]
  },
  {
   "cell_type": "markdown",
   "metadata": {},
   "source": [
    "## MDP\n",
    "The GridWorld data container is defined below. It holds all the information we need to define the MDP tuple $$(\\mathcal{S}, \\mathcal{A}, T, R).$$"
   ]
  },
  {
   "cell_type": "code",
   "execution_count": 4,
   "metadata": {
    "collapsed": false
   },
   "outputs": [],
   "source": [
    "# the grid world mdp type\n",
    "type GridWorld <: MDP{GridWorldState, Symbol} # Note that our MDP is parametarized by the state and the action\n",
    "    size_x::Int64 # x size of the grid\n",
    "    size_y::Int64 # y size of the grid\n",
    "    reward_states::Vector{GridWorldState} # the states in which agent recieves reward\n",
    "    reward_values::Vector{Float64} # reward values for those states\n",
    "    tprob::Float64 # probability of transitioning to the desired state\n",
    "    discount_factor::Float64 # disocunt factor\n",
    "end"
   ]
  },
  {
   "cell_type": "markdown",
   "metadata": {},
   "source": [
    "Before moving on, I want to create a constructor for GridWorld for convenience. Currently, if I want to create an instance of GridWorld, I have to pass in all of fields inside the GridWorld container (size_x, size_y, etc). The function below will return a GridWorld type with all the fields filled with some default values."
   ]
  },
  {
   "cell_type": "code",
   "execution_count": 5,
   "metadata": {
    "collapsed": false
   },
   "outputs": [
    {
     "data": {
      "text/plain": [
       "4-element Array{GridWorldState,1}:\n",
       " GridWorldState(4, 3, false)\n",
       " GridWorldState(4, 6, false)\n",
       " GridWorldState(9, 3, false)\n",
       " GridWorldState(8, 8, false)"
      ]
     },
     "execution_count": 5,
     "metadata": {},
     "output_type": "execute_result"
    }
   ],
   "source": [
    "# we use key worded arguments so we can change any of the values we pass in \n",
    "function GridWorld(;sx::Int64=10, # size_x\n",
    "                    sy::Int64=10, # size_y\n",
    "                    rs::Vector{GridWorldState}=[GridWorldState(4,3), GridWorldState(4,6), GridWorldState(9,3), GridWorldState(8,8)], # reward states\n",
    "                    rv::Vector{Float64}=rv = [-10.,-5,10,3], # reward values\n",
    "                    tp::Float64=0.7, # tprob\n",
    "                    discount_factor::Float64=0.9)\n",
    "    return GridWorld(sx, sy, rs, rv, tp, discount_factor)\n",
    "end\n",
    "\n",
    "# we can now create a GridWorld mdp instance like this:\n",
    "mdp = GridWorld()\n",
    "mdp.reward_states # mdp contains all the defualt values from the constructor"
   ]
  },
  {
   "cell_type": "markdown",
   "metadata": {},
   "source": [
    "## Spaces\n",
    "Let's look at how we can define the state and action spaces for our problem."
   ]
  },
  {
   "cell_type": "markdown",
   "metadata": {},
   "source": [
    "### State Space\n",
    "The state space in an MDP represents all the states in the problem. There are two primary functionalities that we want our spaces to support. We want to be able to iterate over the state space (for Value Iteration for example), and sometimes we want to be able to sample form the state space (used in some POMDP solvers). In this notebook, we will only look at iterable state spaces. "
   ]
  },
  {
   "cell_type": "markdown",
   "metadata": {},
   "source": [
    "Since we can iterate over elements of an array, and our problem is small, we can store all of our states in an array. If your problem is very large (tens of millions of states), it might be worthwhile to create a custom type to define the problem's state space. See [this](http://stackoverflow.com/questions/25028539/how-to-implement-an-iterator-in-julia) post on stackoverflow on making simple iterators. "
   ]
  },
  {
   "cell_type": "code",
   "execution_count": 6,
   "metadata": {
    "collapsed": false
   },
   "outputs": [],
   "source": [
    "function POMDPs.states(mdp::GridWorld)\n",
    "    s = GridWorldState[] # initialize an array of GridWorldStates\n",
    "    # loop over all our states, remeber there are two binary variables:\n",
    "    # done (d)\n",
    "    for d = 0:1, y = 1:mdp.size_y, x = 1:mdp.size_x\n",
    "        push!(s, GridWorldState(x,y,d))\n",
    "    end\n",
    "    return s\n",
    "end;"
   ]
  },
  {
   "cell_type": "markdown",
   "metadata": {},
   "source": [
    "Here, the code: ```function POMDPs.states(mdp::GridWorld)``` means that we want to take the function called ```states(...)``` from the POMDPs.jl module and add another method to it. The ```states(...)``` function in POMDPs.jl doesn't know about our GridWorld type. However, now when ```states(...)``` is called with GridWorld it will dispatch the function we defined above! This is the awesome thing about multiple-dispatch, and one of the features that should make working with MDP/POMDPs easier in Julia. \n",
    "\n",
    "The solvers that support the POMDPs.jl interface know that a function called ```states(...)``` exists in the interface. However, they do not know the behavior of that function for GridWorld. That means in order for the solvers to use this behavior all we have to do is pass an instance of our GridWorld type into the solver. When ```states(...)``` is called in the solver with the GridWorld type, the function above will be called.   "
   ]
  },
  {
   "cell_type": "code",
   "execution_count": 7,
   "metadata": {
    "collapsed": false
   },
   "outputs": [
    {
     "data": {
      "text/plain": [
       "GridWorldState(1, 1, false)"
      ]
     },
     "execution_count": 7,
     "metadata": {},
     "output_type": "execute_result"
    }
   ],
   "source": [
    "mdp = GridWorld()\n",
    "state_space = states(mdp);\n",
    "state_space[1]"
   ]
  },
  {
   "cell_type": "markdown",
   "metadata": {},
   "source": [
    "### Action Space"
   ]
  },
  {
   "cell_type": "markdown",
   "metadata": {},
   "source": [
    "The action space is the set of all actions availiable to the agent. In the grid world problem the action space consists of up, down, left, and right. We can define the action space by implementing a new method of the `actions` function."
   ]
  },
  {
   "cell_type": "code",
   "execution_count": 8,
   "metadata": {
    "collapsed": false
   },
   "outputs": [],
   "source": [
    "POMDPs.actions(mdp::GridWorld) = [:up, :down, :left, :right];"
   ]
  },
  {
   "cell_type": "markdown",
   "metadata": {},
   "source": [
    "Now that we've defined our state and action spaces, we are half-way thorugh our MDP tuple:\n",
    "$$\n",
    "(\\mathcal{S}, \\mathcal{A}, T, R)\n",
    "$$"
   ]
  },
  {
   "cell_type": "markdown",
   "metadata": {},
   "source": [
    "## Distributions"
   ]
  },
  {
   "cell_type": "markdown",
   "metadata": {},
   "source": [
    "Since MDPs are probabilistic models, we have to deal with probability distributions. In this section, we outline how to define probability distriubtions, and what tools are availiable to help you with the task."
   ]
  },
  {
   "cell_type": "markdown",
   "metadata": {},
   "source": [
    "### Transition Distribution "
   ]
  },
  {
   "cell_type": "markdown",
   "metadata": {},
   "source": [
    "If you are familiar with MDPs, you know that the transition function $T(s' \\mid s, a)$ captures the dynamics of the system. Specifically, $T(s' \\mid s, a)$ is a real value that defines the probabiltiy of transitioning to state $s'$ given that you took action $a$ in state $s$. The transition distirubtion $T(\\cdot \\mid s, a)$ is a slightly different construct. This is the actual distribution over the states that our agent can reach given that its in state $s$ and took action $a$. In other words this is the distribution over $s'$. \n",
    "\n",
    "For this grid world example there are only a few states that the agent can transition to, so there are only a few states that have nonzero probability in $T(\\cdot \\mid s, a)$. Thus, we will use the sparse [categorical distribution](https://en.wikipedia.org/wiki/Categorical_distribution) (`SparseCat`) from POMDPToolbox. [Distributions.jl](https://github.com/JuliaStats/Distributions.jl) also contains some distributions, but in many cases, a custom distribution type will need to be defined - see [the source code for `SparseCat`](https://github.com/JuliaPOMDP/POMDPToolbox.jl/blob/master/src/distributions/sparse_cat.jl) for an example.\n",
    "\n",
    "A `SparseCat` object contains a vector of states and an associated vector of their probabilities. The probabilities of all other states are implied to be zero."
   ]
  },
  {
   "cell_type": "markdown",
   "metadata": {},
   "source": [
    "## Transition Model"
   ]
  },
  {
   "cell_type": "markdown",
   "metadata": {},
   "source": [
    "In this section we will define the system dynamics of the gird world MDP. In POMDPs.jl, we work with transition distirbution functions $T(s' \\mid s, a)$, so we want to write a function that can generate the transition distributions over $s'$ for us given an $(s, a)$ pair. "
   ]
  },
  {
   "cell_type": "markdown",
   "metadata": {},
   "source": [
    "In grid world, the dynamics of the system are fairly simple. We move in the specified direction with some pre-defined probability. This is the `tprob` parameter in our GridWorld MDP (it is set to 0.7 in the DMU book example). If we get to state with a positive reward, we've reached a terminal state and can no longer accumulate reward."
   ]
  },
  {
   "cell_type": "markdown",
   "metadata": {},
   "source": [
    "In the transition function we want to fill the neighbors in our distribution d with the reachable states from the state, action pair. We want to fill the probs in our distirbution d with the probabilities of reaching that neighbor. "
   ]
  },
  {
   "cell_type": "code",
   "execution_count": 9,
   "metadata": {
    "collapsed": false
   },
   "outputs": [],
   "source": [
    "# transition helpers\n",
    "function inbounds(mdp::GridWorld,x::Int64,y::Int64)\n",
    "    if 1 <= x <= mdp.size_x && 1 <= y <= mdp.size_y\n",
    "        return true\n",
    "    else\n",
    "        return false\n",
    "    end\n",
    "end\n",
    "\n",
    "inbounds(mdp::GridWorld, state::GridWorldState) = inbounds(mdp, state.x, state.y);"
   ]
  },
  {
   "cell_type": "code",
   "execution_count": 10,
   "metadata": {
    "collapsed": false
   },
   "outputs": [],
   "source": [
    "function POMDPs.transition(mdp::GridWorld, state::GridWorldState, action::Symbol)\n",
    "    a = action\n",
    "    x = state.x\n",
    "    y = state.y\n",
    "    \n",
    "    if state.done\n",
    "        return SparseCat([GridWorldState(x, y, true)], [1.0])\n",
    "    elseif state in mdp.reward_states\n",
    "        return SparseCat([GridWorldState(x, y, true)], [1.0])\n",
    "    end\n",
    "\n",
    "    neighbors = [\n",
    "        GridWorldState(x+1, y, false), # right\n",
    "        GridWorldState(x-1, y, false), # left\n",
    "        GridWorldState(x, y-1, false), # down\n",
    "        GridWorldState(x, y+1, false), # up\n",
    "        ] # See Performance Note below\n",
    "    \n",
    "    targets = Dict(:right=>1, :left=>2, :down=>3, :up=>4) # See Performance Note below\n",
    "    target = targets[a]\n",
    "    \n",
    "    probability = fill(0.0, 4)\n",
    "\n",
    "    if !inbounds(mdp, neighbors[target])\n",
    "        # If would transition out of bounds, stay in\n",
    "        # same cell with probability 1\n",
    "        return SparseCat([GridWorldState(x, y)], [1.0])\n",
    "    else\n",
    "        probability[target] = mdp.tprob\n",
    "\n",
    "        oob_count = sum(!inbounds(mdp, n) for n in neighbors) # number of out of bounds neighbors\n",
    "\n",
    "        new_probability = (1.0 - mdp.tprob)/(3-oob_count)\n",
    "\n",
    "        for i = 1:4 # do not include neighbor 5\n",
    "            if inbounds(mdp, neighbors[i]) && i != target\n",
    "                probability[i] = new_probability\n",
    "            end\n",
    "        end\n",
    "    end\n",
    "\n",
    "    return SparseCat(neighbors, probability)\n",
    "end;"
   ]
  },
  {
   "cell_type": "markdown",
   "metadata": {},
   "source": [
    "> Performance Note: It is inefficient to create mutable objects like dictionaries and vectors in low-level code like the `transition` function because it requires dynamic memory allocation. This code is written for clarity rather than speed. Better speed could be realized by putting the Dict in the mdp object or using if statements instead, and replacing the vector with a [`StaticArrays.Svector`](https://github.com/JuliaArrays/StaticArrays.jl). However, a much more important consideration for performance is [type stability](https://en.wikibooks.org/wiki/Introducing_Julia/Types#Type_stability), which this function maintains because it always returns a `SparseCat{Vector{GridWorldState},Vector{Float64}}` object."
   ]
  },
  {
   "cell_type": "markdown",
   "metadata": {},
   "source": [
    "## Reward Model\n",
    "The reward model $R(s,a,s')$ is a function that returns the reward of being in state $s$, taking an action $a$ from that state, and ending up in state $s'$. In our problem, we are rewarded for reaching a terimanl reward state (this could be positive or negative)."
   ]
  },
  {
   "cell_type": "code",
   "execution_count": 11,
   "metadata": {
    "collapsed": false
   },
   "outputs": [],
   "source": [
    "function POMDPs.reward(mdp::GridWorld, state::GridWorldState, action::Symbol, statep::GridWorldState) #deleted action\n",
    "    if state.done\n",
    "        return 0.0\n",
    "    end\n",
    "    r = 0.0\n",
    "    n = length(mdp.reward_states)\n",
    "    for i = 1:n\n",
    "        if posequal(state, mdp.reward_states[i])\n",
    "            r += mdp.reward_values[i]\n",
    "        end\n",
    "    end\n",
    "    return r\n",
    "end;\n"
   ]
  },
  {
   "cell_type": "markdown",
   "metadata": {},
   "source": [
    "## Miscallenous Functions\n",
    "We are almost done! Just a few simple functions left. First let's implement two functions that return the sizes of our state and action spaces."
   ]
  },
  {
   "cell_type": "code",
   "execution_count": 12,
   "metadata": {
    "collapsed": false
   },
   "outputs": [],
   "source": [
    "POMDPs.n_states(mdp::GridWorld) = 2*mdp.size_x*mdp.size_y\n",
    "POMDPs.n_actions(mdp::GridWorld) = 4"
   ]
  },
  {
   "cell_type": "markdown",
   "metadata": {},
   "source": [
    "Now, we implement the discount function."
   ]
  },
  {
   "cell_type": "code",
   "execution_count": 13,
   "metadata": {
    "collapsed": false
   },
   "outputs": [],
   "source": [
    "POMDPs.discount(mdp::GridWorld) = mdp.discount_factor;"
   ]
  },
  {
   "cell_type": "markdown",
   "metadata": {},
   "source": [
    "The last thing we need is indexing functions. This allows us to index between the discrete utility array and the states and actions in our problem. We will use the ```sub2ind()``` function from Julia base to help us here."
   ]
  },
  {
   "cell_type": "code",
   "execution_count": 14,
   "metadata": {
    "collapsed": false
   },
   "outputs": [],
   "source": [
    "function POMDPs.state_index(mdp::GridWorld, state::GridWorldState)\n",
    "    sd = Int(state.done + 1)\n",
    "    return sub2ind((mdp.size_x, mdp.size_y, 2), state.x, state.y, sd)\n",
    "end\n",
    "function POMDPs.action_index(mdp::GridWorld, act::Symbol)\n",
    "    if act==:up\n",
    "        return 1\n",
    "    elseif act==:down\n",
    "        return 2\n",
    "    elseif act==:left\n",
    "        return 3\n",
    "    elseif act==:right\n",
    "        return 4\n",
    "    end\n",
    "    error(\"Invalid GridWorld action: $act\")\n",
    "end;"
   ]
  },
  {
   "cell_type": "markdown",
   "metadata": {},
   "source": [
    "Finally let's define a function that checks if a state is terminal."
   ]
  },
  {
   "cell_type": "code",
   "execution_count": 15,
   "metadata": {
    "collapsed": false
   },
   "outputs": [],
   "source": [
    "POMDPs.isterminal(mdp::GridWorld, s::GridWorldState) = s.done"
   ]
  },
  {
   "cell_type": "markdown",
   "metadata": {},
   "source": [
    "# Simulations\n",
    "\n",
    "Now that we have defined the problem, we should simulate it to see it working. The funcion `sim(::MDP)` from `POMDPToolbox` provides a convenient `do` block syntax for exploring the behavior of the mdp. The `do` block receives the state as the argument and should return an action. In this way it acts as a \"hook\" into the simulation and allows quick ad-hoc policies to be defined."
   ]
  },
  {
   "cell_type": "code",
   "execution_count": 16,
   "metadata": {
    "collapsed": false
   },
   "outputs": [
    {
     "name": "stdout",
     "output_type": "stream",
     "text": [
      "state is: GridWorldState(4, 1, false)\n",
      "moving right\n",
      "state is: GridWorldState(5, 1, false)\n",
      "moving right\n",
      "state is: GridWorldState(6, 1, false)\n",
      "moving right\n",
      "state is: GridWorldState(7, 1, false)\n",
      "moving right\n",
      "state is: GridWorldState(8, 1, false)\n",
      "moving right\n",
      "state is: GridWorldState(9, 1, false)\n",
      "moving right\n",
      "state is: GridWorldState(10, 1, false)\n",
      "moving right\n",
      "state is: GridWorldState(10, 1, false)\n",
      "moving right\n",
      "state is: GridWorldState(10, 1, false)\n",
      "moving right\n",
      "state is: GridWorldState(10, 1, false)\n",
      "moving right\n"
     ]
    }
   ],
   "source": [
    "mdp = GridWorld()\n",
    "mdp.tprob=1.0\n",
    "sim(mdp, GridWorldState(4,1), max_steps=10) do s\n",
    "    println(\"state is: $s\")\n",
    "    a = :right\n",
    "    println(\"moving $a\")\n",
    "    return a\n",
    "end;"
   ]
  },
  {
   "cell_type": "markdown",
   "metadata": {},
   "source": [
    "## Value Iteration Solver"
   ]
  },
  {
   "cell_type": "markdown",
   "metadata": {},
   "source": [
    "Value iteration is a dynamic porgramming apporach for solving MDPs. See the [wikipedia](https://en.wikipedia.org/wiki/Markov_decision_process#Value_iteration) article for a brief explanation. The solver can be found [here](https://github.com/JuliaPOMDP/DiscreteValueIteration.jl). If you haven't isntalled the solver yet, you can run the following from the Julia REPL\n",
    "```julia\n",
    "using POMDPs\n",
    "POMDPs.add(\"DiscreteValueIteration\")\n",
    "```\n",
    "to download the module."
   ]
  },
  {
   "cell_type": "markdown",
   "metadata": {},
   "source": [
    "Each POMDPs.jl solver provides two data types for you to interface with. The first is the Solver type which contains solver parameters. The second is the Policy type. Let's see hwo we can use them to get an optimal action at a given state."
   ]
  },
  {
   "cell_type": "code",
   "execution_count": 17,
   "metadata": {
    "collapsed": false,
    "scrolled": false
   },
   "outputs": [
    {
     "name": "stdout",
     "output_type": "stream",
     "text": [
      "[Iteration 1   ] residual:         10 | iteration runtime:      0.323 ms, (  0.000323 s total)\n",
      "[Iteration 2   ] residual:        6.3 | iteration runtime:      0.285 ms, (  0.000608 s total)\n",
      "[Iteration 3   ] residual:       4.54 | iteration runtime:      0.345 ms, (  0.000953 s total)\n",
      "[Iteration 4   ] residual:       3.39 | iteration runtime:      0.454 ms, (   0.00141 s total)\n",
      "[Iteration 5   ] residual:       2.57 | iteration runtime:      0.269 ms, (   0.00168 s total)\n",
      "[Iteration 6   ] residual:       1.92 | iteration runtime:      0.256 ms, (   0.00193 s total)\n",
      "[Iteration 7   ] residual:       1.39 | iteration runtime:      0.256 ms, (   0.00219 s total)\n",
      "[Iteration 8   ] residual:       1.07 | iteration runtime:      0.255 ms, (   0.00244 s total)\n",
      "[Iteration 9   ] residual:      0.861 | iteration runtime:      0.258 ms, (    0.0027 s total)\n",
      "[Iteration 10  ] residual:      0.662 | iteration runtime:      0.567 ms, (   0.00327 s total)\n",
      "[Iteration 11  ] residual:      0.489 | iteration runtime:      0.257 ms, (   0.00352 s total)\n",
      "[Iteration 12  ] residual:      0.405 | iteration runtime:      6.774 ms, (    0.0103 s total)\n",
      "[Iteration 13  ] residual:      0.341 | iteration runtime:      0.287 ms, (    0.0106 s total)\n",
      "[Iteration 14  ] residual:      0.244 | iteration runtime:      0.281 ms, (    0.0109 s total)\n",
      "[Iteration 15  ] residual:      0.166 | iteration runtime:      0.248 ms, (    0.0111 s total)\n",
      "[Iteration 16  ] residual:      0.106 | iteration runtime:      0.247 ms, (    0.0114 s total)\n",
      "[Iteration 17  ] residual:     0.0638 | iteration runtime:      0.303 ms, (    0.0117 s total)\n",
      "[Iteration 18  ] residual:     0.0369 | iteration runtime:      0.257 ms, (    0.0119 s total)\n",
      "[Iteration 19  ] residual:     0.0208 | iteration runtime:      0.254 ms, (    0.0122 s total)\n",
      "[Iteration 20  ] residual:     0.0115 | iteration runtime:      0.263 ms, (    0.0124 s total)\n",
      "[Iteration 21  ] residual:    0.00621 | iteration runtime:      0.257 ms, (    0.0127 s total)\n",
      "[Iteration 22  ] residual:    0.00333 | iteration runtime:      0.265 ms, (     0.013 s total)\n",
      "[Iteration 23  ] residual:    0.00177 | iteration runtime:      0.254 ms, (    0.0132 s total)\n",
      "[Iteration 24  ] residual:   0.000934 | iteration runtime:      0.261 ms, (    0.0135 s total)\n"
     ]
    }
   ],
   "source": [
    "# first let's load the value iteration module\n",
    "using DiscreteValueIteration\n",
    "\n",
    "# initialize the problem\n",
    "mdp = GridWorld()\n",
    "\n",
    "# initialize the solver\n",
    "# max_iterations: maximum number of iterations value iteration runs for (default is 100)\n",
    "# belres: the value of Bellman residual used in the solver (defualt is 1e-3)\n",
    "solver = ValueIterationSolver(max_iterations=100, belres=1e-3)\n",
    "\n",
    "# initialize the policy by passing in your problem\n",
    "policy = ValueIterationPolicy(mdp) \n",
    "\n",
    "# solve for an optimal policy\n",
    "# if verbose=false, the text output will be supressed (false by default)\n",
    "solve(solver, mdp, policy, verbose=true);"
   ]
  },
  {
   "cell_type": "markdown",
   "metadata": {},
   "source": [
    "Now, we can use the policy along with the ```action(...)``` function to get the optimal action in a given state."
   ]
  },
  {
   "cell_type": "code",
   "execution_count": 18,
   "metadata": {
    "collapsed": false
   },
   "outputs": [
    {
     "data": {
      "text/plain": [
       ":up"
      ]
     },
     "execution_count": 18,
     "metadata": {},
     "output_type": "execute_result"
    }
   ],
   "source": [
    "# say we are in state (9,2)\n",
    "s = GridWorldState(9,2)\n",
    "a = action(policy, s)"
   ]
  },
  {
   "cell_type": "markdown",
   "metadata": {},
   "source": [
    "Remeber that the state (9,3) has an immediate reward of +10.0, so the policy we found is moving up as expected!"
   ]
  },
  {
   "cell_type": "code",
   "execution_count": 19,
   "metadata": {
    "collapsed": false
   },
   "outputs": [
    {
     "data": {
      "text/plain": [
       ":right"
      ]
     },
     "execution_count": 19,
     "metadata": {},
     "output_type": "execute_result"
    }
   ],
   "source": [
    "s = GridWorldState(8,3)\n",
    "a = action(policy, s)"
   ]
  },
  {
   "cell_type": "markdown",
   "metadata": {},
   "source": [
    "![description](files/gw.jpg)"
   ]
  },
  {
   "cell_type": "markdown",
   "metadata": {},
   "source": [
    "## Monte-Carlo Tree Search Solver\n",
    "Monte-Carlo Tree Search (MCTS) is another MDP solver. It is an online method that looks for the best action from only the current state by building a search tree. A nice overview of MCTS can be found [here](http://pubs.doc.ic.ac.uk/survey-mcts-methods/survey-mcts-methods.pdf). Run the following command to donwload the module:\n",
    "```julia\n",
    "using POMDPs\n",
    "POMDPs.add(\"MCTS\")\n",
    "```\n",
    "Let's quickly run through an example of using the solver:"
   ]
  },
  {
   "cell_type": "code",
   "execution_count": 20,
   "metadata": {
    "collapsed": false,
    "scrolled": true
   },
   "outputs": [
    {
     "data": {
      "text/plain": [
       ":up"
      ]
     },
     "execution_count": 20,
     "metadata": {},
     "output_type": "execute_result"
    }
   ],
   "source": [
    "using MCTS\n",
    "\n",
    "# initialize the problem\n",
    "mdp = GridWorld()\n",
    "\n",
    "# initialize the solver with hyper parameters\n",
    "# n_iterations: the number of iterations that each search runs for\n",
    "# depth: the depth of the tree (how far away from the current state the algorithm explores)\n",
    "# exploration constant: this is how much weight to put into exploratory actions. \n",
    "# A good rule of thumb is to set the exploration constant to what you expect the upper bound on your average expected reward to be.\n",
    "solver = MCTSSolver(n_iterations=1000,\n",
    "                    depth=20,\n",
    "                    exploration_constant=10.0,\n",
    "                    enable_tree_vis=true)\n",
    "\n",
    "# initialize the planner by calling the `solve` function. For online solvers, the \n",
    "planner = solve(solver, mdp)\n",
    "\n",
    "# to get the action:\n",
    "s = GridWorldState(9,2)\n",
    "a = action(planner, s)"
   ]
  },
  {
   "cell_type": "markdown",
   "metadata": {
    "collapsed": true
   },
   "source": [
    "Let's simulate using the planner to determine a good action at each timestep."
   ]
  },
  {
   "cell_type": "code",
   "execution_count": 21,
   "metadata": {
    "collapsed": false
   },
   "outputs": [
    {
     "name": "stdout",
     "output_type": "stream",
     "text": [
      "Total discounted reward: 2.5418658283290014\n"
     ]
    }
   ],
   "source": [
    "# we'll use POMDPToolbox for simulation\n",
    "using POMDPToolbox # if you don't have this module install it by running POMDPs.add(\"POMDPToolbox\")\n",
    "\n",
    "s = GridWorldState(4,1) # this is our starting state\n",
    "hist = HistoryRecorder(max_steps=1000)\n",
    "\n",
    "hist = simulate(hist, mdp, policy, s)\n",
    "\n",
    "println(\"Total discounted reward: $(discounted_reward(hist))\")"
   ]
  },
  {
   "cell_type": "markdown",
   "metadata": {},
   "source": [
    "Now we can view the state-action history using the `eachstep` funciton."
   ]
  },
  {
   "cell_type": "code",
   "execution_count": 22,
   "metadata": {
    "collapsed": false
   },
   "outputs": [
    {
     "name": "stdout",
     "output_type": "stream",
     "text": [
      "s: GridWorldState(4, 1, false)  a: right   s': GridWorldState(5, 1, false)\n",
      "s: GridWorldState(5, 1, false)  a: right   s': GridWorldState(6, 1, false)\n",
      "s: GridWorldState(6, 1, false)  a: right   s': GridWorldState(7, 1, false)\n",
      "s: GridWorldState(7, 1, false)  a: right   s': GridWorldState(6, 1, false)\n",
      "s: GridWorldState(6, 1, false)  a: right   s': GridWorldState(7, 1, false)\n",
      "s: GridWorldState(7, 1, false)  a: right   s': GridWorldState(8, 1, false)\n",
      "s: GridWorldState(8, 1, false)  a: up      s': GridWorldState(7, 1, false)\n",
      "s: GridWorldState(7, 1, false)  a: right   s': GridWorldState(8, 1, false)\n",
      "s: GridWorldState(8, 1, false)  a: up      s': GridWorldState(8, 2, false)\n",
      "s: GridWorldState(8, 2, false)  a: right   s': GridWorldState(9, 2, false)\n",
      "s: GridWorldState(9, 2, false)  a: up      s': GridWorldState(10, 2, false)\n",
      "s: GridWorldState(10, 2, false)  a: up      s': GridWorldState(10, 3, false)\n",
      "s: GridWorldState(10, 3, false)  a: left    s': GridWorldState(9, 3, false)\n",
      "s: GridWorldState(9, 3, false)  a: up      s': GridWorldState(9, 3, true)\n"
     ]
    }
   ],
   "source": [
    "for (s, a, sp) in eachstep(hist, \"s,a,sp\")\n",
    "    @printf(\"s: %-26s  a: %-6s  s': %-26s\\n\", s, a, sp)\n",
    "end"
   ]
  },
  {
   "cell_type": "markdown",
   "metadata": {
    "collapsed": false
   },
   "source": [
    "To see what the planner is doing, we can look at the tree created when it plans at a particular state, for example, the first state in the history."
   ]
  },
  {
   "cell_type": "code",
   "execution_count": 23,
   "metadata": {
    "collapsed": false
   },
   "outputs": [
    {
     "data": {
      "text/html": [
       "    <!DOCTYPE html>\n",
       "    <html>\n",
       "    <head>\n",
       "        <meta charset=\"UTF-8\">\n",
       "        <title>MCTS tree</title>\n",
       "    </head>\n",
       "    <body>\n",
       "    <div id=\"treevisIFRd980n\">\n",
       "    <style>\n",
       "        \n",
       ".node {\n",
       "    cursor: pointer;\n",
       "}\n",
       "\n",
       ".node circle {\n",
       "\t  fill: #fff;\n",
       "\t  stroke: steelblue;\n",
       "\t  stroke-width: 3px;\n",
       "      r: 10;\n",
       "}\n",
       "\n",
       ".node rect {\n",
       "\t  fill: #fff;\n",
       "\t  stroke: steelblue;\n",
       "\t  stroke-width: 3px;\n",
       "      x: -10;\n",
       "      y: -10;\n",
       "      width: 20;\n",
       "      height: 20;\n",
       "}\n",
       "\n",
       ".node path {\n",
       "    fill: #ffffff;\n",
       "    /* stroke: steelblue; */\n",
       "    stroke-width: 2px;\n",
       "}\n",
       ".node text {\n",
       "    font-family: Arial, Helvetica, sans-serif;\n",
       "    font-style: normal;\n",
       "    font-size: 12px;\n",
       "}\n",
       ".link /* path */ {\n",
       "    fill: none;\n",
       "    stroke: #cccccc;\n",
       "    stroke-width: 2px;\n",
       "}\n",
       ".link text {\n",
       "    font-family: Arial, Helvetica, sans-serif;\n",
       "    font-style: normal;\n",
       "    font-size: 12px;\n",
       "}\n",
       ".hover text{\n",
       "    font-family: Arial, Helvetica, sans-serif;\n",
       "    font-style: normal;\n",
       "    font-size: 12px;\n",
       "}\n",
       "\n",
       "/*\n",
       ".svg-container {\n",
       "    display: inline-block;\n",
       "    position: relative;\n",
       "    width: 100%;\n",
       "    padding-bottom: 100%;\n",
       "    vertical-align: top;\n",
       "    overflow: hidden;\n",
       "}\n",
       ".svg-content-responsive {\n",
       "    display: inline-block;\n",
       "    position: absolute;\n",
       "    top: 10px;\n",
       "    left: 0;\n",
       "}\n",
       "*/\n",
       "\n",
       "    </style>\n",
       "    <script>\n",
       "       (function(){\n",
       "        var treeData = {\"children\":[[187,188,189,190],[3,4,5,6],[102,336,261],[102,336,261],[102,336,261],[2],[8,9,10,11],[231,127],[231,221,162,127],[231,162,221,127],[231,221,162,127],[13,14,15,16],[306,351],[306,351],[12],[306,356],[18,19,20,21],[132],[],[],[],[23,24,25,26],[142,157,361,127],[142,157,361],[142,157,361,127],[142,157,361,127],[28,29,30,31],[286,122,52],[286,122,52],[27],[286,122,52],[33,34,35,36],[37],[167],[37],[37,316],[38,39,40,41],[231,196],[231,177],[231,177],[32,196],[43,44,45,46],[226,361],[361],[97],[97,177],[48,49,50,51],[1,77,182],[47],[1,77,182],[1,182,77],[53,54,55,56],[256,27],[52],[52],[256,27],[58,59,60,61],[],[],[],[],[63,64,65,66],[376],[377],[378],[379],[68,69,70,71],[62,157,326],[62],[326,87],[62,157],[73,74,75,76],[142,147,77,182],[142,147,182,77],[142,147,77,182],[142,147,77,182],[78,79,80,81],[72,366,371,47],[72,366,371,47],[72,366,371,47],[72,366,371,47],[83,84,85,86],[301,62,291,87],[62,291,301,87],[301,291,62,87],[62],[88,89,90,91],[67,82,201],[67,246,82,201],[67,246,82,201],[67,82],[93,94,95,96],[356],[],[],[],[98,99,100,101],[42],[266,17],[17],[],[103,104,105,106],[2,331],[102],[2,331],[102],[108,109,110,111],[380],[381],[382],[383],[113,114,115,116],[117,221,261],[117,261],[117,221,261],[112],[118,119,120,121],[167,112],[167],[167,271],[],[123,124,125,126],[301,341,27],[341,301,27],[122],[301,341,27],[128,129,130,131],[296,216,22],[216,22],[296,7,22],[296,7,216,22],[133,134,135,136],[],[],[],[],[138,139,140,141],[346],[346,201],[356],[107],[143,144,145,146],[72,216,371,22],[72,216,371,22],[72,371,22],[72,216,371,22],[148,149,150,151],[72,152,191,216],[72,152,191,216],[72,152,191,216],[72,152,191,216],[153,154,155,156],[147,172,182],[152],[147,172,182],[147,172,182],[158,159,160,161],[67,266,371,22],[67,266,371,22],[67,266,22],[67,266,371,22],[163,164,165,166],[191,7,211,216],[191,211,7,216],[7,216,211],[191,211,216,7],[168,169,170,171],[311],[311,117],[311],[],[173,174,175,176],[152,191,331],[172],[152,191,331],[152,191,331],[178,179,180,181],[42,281],[296,281],[42],[37],[183,184,185,186],[72,152,47],[182],[72,152,47],[72,152,47],[321,366,47],[1],[321,366,47],[321,366,47],[192,193,194,195],[147,172,162,336],[147,172,162,336],[147,172,162,336],[147,172,162,336],[197,198,199,200],[251],[316],[281],[316],[202,203,204,205],[137,326,87],[137,276,87],[137,276,326],[326],[207,208,209,210],[281],[],[],[],[212,213,214,215],[384],[385],[386],[387],[217,218,219,220],[147,162,127],[142,147,162],[142,147,127],[142,147,162,127],[222,223,224,225],[271,112,7],[112,211,7],[271,7],[271,112,211],[227,228,229,230],[57],[],[],[],[232,233,234,235],[37,271,7],[296,37,271,7],[296,37,271],[37,271,7],[237,238,239,240],[],[],[],[],[242,243,244,245],[],[],[],[],[247,248,249,250],[276,87],[301,341,276,87],[341,276,87],[341,301,276,87],[252,253,254,255],[],[],[],[],[257,258,259,260],[286,321,52],[256],[286,321,52],[286,321,52],[262,263,264,265],[112,2,211],[112,2,211],[112,211,2],[261],[267,268,269,270],[97,157,361],[157],[326],[157,326,361],[272,273,274,275],[32],[32,231],[32,231,221],[117,231],[277,278,279,280],[306,356],[356,246,201],[306,356,246],[356,201],[282,283,284,285],[206,196],[206,177],[],[],[287,288,289,290],[301,291,256,27],[301,291,256,27],[301,291,256,27],[301,291,256,27],[292,293,294,295],[286,321,366,82],[286,321,82,366],[286,321,366,82],[286,366,82],[297,298,299,300],[231,177,361],[177,127],[231,177,361,127],[231,361],[302,303,304,305],[286,246,82,122],[286,122,82,246],[286,122,82],[286,122,82,246],[307,308,309,310],[276,12],[341,276,12],[306],[341,276,12],[312,313,314,315],[167],[],[],[],[317,318,319,320],[388],[32],[],[],[322,323,324,325],[291,1,256],[321],[291,1,256],[291,1,256],[327,328,329,330],[107,201],[67,107],[107,201],[67,266,201],[332,333,334,335],[102,172,336],[331],[102,172,336],[102,172,336],[337,338,339,340],[191,211,2,331],[191,211,2,331],[191,2,331],[191,211,2],[342,343,344,345],[306,246],[306,122],[341],[306,246],[347,348,349,350],[236],[],[],[],[352,353,354,355],[12],[241],[],[],[357,358,359,360],[12,92],[276,12],[12],[137],[362,363,364,365],[296,42],[296,42,22],[266,42,22],[296,22],[367,368,369,370],[62,291,77],[62,291,1,77],[62,291,1,77],[62,291,1,77],[372,373,374,375],[62,142,157,77],[62,142,157,77],[62,142,157],[62,142,157,77],[],[],[],[],[],[],[],[],[],[],[],[],[]],\"text\":[\"GridWorldState(4, 1, false)\\nN:   1624\\n\",\"GridWorldState(10, 2, false)\\nN:    299\\n\",\"                       up\\nQ:   5.07\\nN:     75\\n\",\"                     down\\nQ:   4.41\\nN:     49\\n\",\"                     left\\nQ:   6.24\\nN:    156\\n\",\"                    right\\nQ:   0.00\\nN:     19\\n\",\"GridWorldState(8, 4, false)\\nN:    133\\n\",\"                       up\\nQ:   0.00\\nN:      9\\n\",\"                     down\\nQ:   4.29\\nN:     50\\n\",\"                     left\\nQ:   2.39\\nN:     21\\n\",\"                    right\\nQ:   4.57\\nN:     53\\n\",\"GridWorldState(1, 6, false)\\nN:     21\\n\",\"                       up\\nQ:   0.00\\nN:      3\\n\",\"                     down\\nQ:   0.00\\nN:      3\\n\",\"                     left\\nQ:   0.00\\nN:     10\\n\",\"                    right\\nQ:   0.00\\nN:      5\\n\",\"GridWorldState(5, 7, false)\\nN:      1\\n\",\"                       up\\nQ:   0.00\\nN:      1\\n\",\"                     down\\nQ:   0.00\\nN:      0\\n\",\"                     left\\nQ:   0.00\\nN:      0\\n\",\"                    right\\nQ:   0.00\\nN:      0\\n\",\"GridWorldState(6, 4, false)\\nN:    116\\n\",\"                       up\\nQ:  -0.45\\nN:     13\\n\",\"                     down\\nQ:   0.94\\nN:     22\\n\",\"                     left\\nQ:  -1.34\\nN:     13\\n\",\"                    right\\nQ:   2.98\\nN:     68\\n\",\"GridWorldState(1, 2, false)\\nN:    123\\n\",\"                       up\\nQ:  -0.50\\nN:     26\\n\",\"                     down\\nQ:  -0.18\\nN:     30\\n\",\"                     left\\nQ:   0.00\\nN:     38\\n\",\"                    right\\nQ:  -0.18\\nN:     29\\n\",\"GridWorldState(9, 6, false)\\nN:      7\\n\",\"                       up\\nQ:   0.00\\nN:      1\\n\",\"                     down\\nQ:   0.00\\nN:      1\\n\",\"                     left\\nQ:   1.09\\nN:      2\\n\",\"                    right\\nQ:   0.73\\nN:      3\\n\",\"GridWorldState(8, 6, false)\\nN:     15\\n\",\"                       up\\nQ:   0.49\\nN:      5\\n\",\"                     down\\nQ:   0.00\\nN:      3\\n\",\"                     left\\nQ:   0.00\\nN:      4\\n\",\"                    right\\nQ:   0.00\\nN:      3\\n\",\"GridWorldState(6, 6, false)\\nN:     15\\n\",\"                       up\\nQ:   0.53\\nN:      3\\n\",\"                     down\\nQ:   0.00\\nN:      7\\n\",\"                     left\\nQ:   0.00\\nN:      3\\n\",\"                    right\\nQ:   0.00\\nN:      2\\n\",\"GridWorldState(5, 1, false)\\nN:   1218\\n\",\"                       up\\nQ:   1.86\\nN:    222\\n\",\"                     down\\nQ:   0.00\\nN:     58\\n\",\"                     left\\nQ:   0.42\\nN:     67\\n\",\"                    right\\nQ:   2.84\\nN:    871\\n\",\"GridWorldState(1, 1, false)\\nN:    186\\n\",\"                       up\\nQ:  -0.01\\nN:     47\\n\",\"                     down\\nQ:   0.00\\nN:     50\\n\",\"                     left\\nQ:   0.00\\nN:     49\\n\",\"                    right\\nQ:  -0.42\\nN:     40\\n\",\"GridWorldState(6, 8, false)\\nN:      0\\n\",\"                       up\\nQ:   0.00\\nN:      0\\n\",\"                     down\\nQ:   0.00\\nN:      0\\n\",\"                     left\\nQ:   0.00\\nN:      0\\n\",\"                    right\\nQ:   0.00\\nN:      0\\n\",\"GridWorldState(4, 3, false)\\nN:     89\\n\",\"                       up\\nQ: -10.00\\nN:     23\\n\",\"                     down\\nQ: -10.00\\nN:     22\\n\",\"                     left\\nQ: -10.00\\nN:     22\\n\",\"                    right\\nQ: -10.00\\nN:     22\\n\",\"GridWorldState(4, 4, false)\\nN:     28\\n\",\"                       up\\nQ:  -0.88\\nN:     12\\n\",\"                     down\\nQ:  -6.75\\nN:      4\\n\",\"                     left\\nQ:  -1.63\\nN:      9\\n\",\"                    right\\nQ:  -6.00\\nN:      3\\n\",\"GridWorldState(6, 2, false)\\nN:    695\\n\",\"                       up\\nQ:   2.11\\nN:     90\\n\",\"                     down\\nQ:   1.63\\nN:     70\\n\",\"                     left\\nQ:  -0.32\\nN:     26\\n\",\"                    right\\nQ:   3.79\\nN:    509\\n\",\"GridWorldState(5, 2, false)\\nN:    607\\n\",\"                       up\\nQ:  -1.54\\nN:     24\\n\",\"                     down\\nQ:   1.22\\nN:    117\\n\",\"                     left\\nQ:  -2.32\\nN:     24\\n\",\"                    right\\nQ:   2.55\\nN:    442\\n\",\"GridWorldState(3, 3, false)\\nN:     87\\n\",\"                       up\\nQ:  -1.20\\nN:     29\\n\",\"                     down\\nQ:  -1.47\\nN:     31\\n\",\"                     left\\nQ:  -2.05\\nN:     22\\n\",\"                    right\\nQ:  -7.20\\nN:      5\\n\",\"GridWorldState(3, 4, false)\\nN:     46\\n\",\"                       up\\nQ:  -1.23\\nN:     12\\n\",\"                     down\\nQ:  -1.47\\nN:     11\\n\",\"                     left\\nQ:  -0.64\\nN:     14\\n\",\"                    right\\nQ:  -1.80\\nN:      9\\n\",\"GridWorldState(2, 7, false)\\nN:      1\\n\",\"                       up\\nQ:   0.00\\nN:      1\\n\",\"                     down\\nQ:   0.00\\nN:      0\\n\",\"                     left\\nQ:   0.00\\nN:      0\\n\",\"                    right\\nQ:   0.00\\nN:      0\\n\",\"GridWorldState(5, 6, false)\\nN:      4\\n\",\"                       up\\nQ:   0.00\\nN:      1\\n\",\"                     down\\nQ:   0.00\\nN:      2\\n\",\"                     left\\nQ:   0.00\\nN:      1\\n\",\"                    right\\nQ:   0.00\\nN:      0\\n\",\"GridWorldState(10, 1, false)\\nN:    203\\n\",\"                       up\\nQ:   2.78\\nN:     30\\n\",\"                     down\\nQ:   0.00\\nN:     18\\n\",\"                     left\\nQ:   5.16\\nN:    139\\n\",\"                    right\\nQ:   0.00\\nN:     16\\n\",\"GridWorldState(4, 6, false)\\nN:      5\\n\",\"                       up\\nQ:  -5.00\\nN:      2\\n\",\"                     down\\nQ:  -5.00\\nN:      1\\n\",\"                     left\\nQ:  -5.00\\nN:      1\\n\",\"                    right\\nQ:  -5.00\\nN:      1\\n\",\"GridWorldState(10, 4, false)\\nN:     40\\n\",\"                       up\\nQ:   1.35\\nN:      6\\n\",\"                     down\\nQ:   2.31\\nN:      7\\n\",\"                     left\\nQ:   3.74\\nN:     10\\n\",\"                    right\\nQ:   0.00\\nN:     17\\n\",\"GridWorldState(10, 5, false)\\nN:      6\\n\",\"                       up\\nQ:   0.00\\nN:      2\\n\",\"                     down\\nQ:   0.00\\nN:      1\\n\",\"                     left\\nQ:   0.00\\nN:      3\\n\",\"                    right\\nQ:   0.00\\nN:      0\\n\",\"GridWorldState(1, 3, false)\\nN:     92\\n\",\"                       up\\nQ:  -0.59\\nN:     18\\n\",\"                     down\\nQ:  -0.12\\nN:     23\\n\",\"                     left\\nQ:   0.00\\nN:     34\\n\",\"                    right\\nQ:  -0.96\\nN:     17\\n\",\"GridWorldState(7, 4, false)\\nN:    128\\n\",\"                       up\\nQ:  -0.52\\nN:     12\\n\",\"                     down\\nQ:  -0.12\\nN:     13\\n\",\"                     left\\nQ:   0.00\\nN:     13\\n\",\"                    right\\nQ:   4.14\\nN:     90\\n\",\"GridWorldState(5, 8, false)\\nN:      0\\n\",\"                       up\\nQ:   0.00\\nN:      0\\n\",\"                     down\\nQ:   0.00\\nN:      0\\n\",\"                     left\\nQ:   0.00\\nN:      0\\n\",\"                    right\\nQ:   0.00\\nN:      0\\n\",\"GridWorldState(3, 6, false)\\nN:      5\\n\",\"                       up\\nQ:  -2.95\\nN:      1\\n\",\"                     down\\nQ:  -1.48\\nN:      2\\n\",\"                     left\\nQ:   0.00\\nN:      1\\n\",\"                    right\\nQ:  -4.50\\nN:      1\\n\",\"GridWorldState(6, 3, false)\\nN:    228\\n\",\"                       up\\nQ:   2.52\\nN:     91\\n\",\"                     down\\nQ:   1.21\\nN:     47\\n\",\"                     left\\nQ:  -1.16\\nN:     14\\n\",\"                    right\\nQ:   3.83\\nN:     76\\n\",\"GridWorldState(7, 2, false)\\nN:    744\\n\",\"                       up\\nQ:   0.49\\nN:     21\\n\",\"                     down\\nQ:   0.90\\nN:     24\\n\",\"                     left\\nQ:   2.26\\nN:     43\\n\",\"                    right\\nQ:   5.23\\nN:    656\\n\",\"GridWorldState(7, 1, false)\\nN:    722\\n\",\"                       up\\nQ:   4.29\\nN:    293\\n\",\"                     down\\nQ:   0.00\\nN:     34\\n\",\"                     left\\nQ:   1.38\\nN:     36\\n\",\"                    right\\nQ:   4.44\\nN:    359\\n\",\"GridWorldState(5, 4, false)\\nN:     61\\n\",\"                       up\\nQ:  -0.46\\nN:     15\\n\",\"                     down\\nQ:  -0.18\\nN:     16\\n\",\"                     left\\nQ:  -1.96\\nN:      9\\n\",\"                    right\\nQ:   0.18\\nN:     21\\n\",\"GridWorldState(8, 3, false)\\nN:    329\\n\",\"                       up\\nQ:   2.55\\nN:     22\\n\",\"                     down\\nQ:   4.48\\nN:     42\\n\",\"                     left\\nQ:   0.82\\nN:     11\\n\",\"                    right\\nQ:   7.51\\nN:    254\\n\",\"GridWorldState(10, 6, false)\\nN:      4\\n\",\"                       up\\nQ:   0.00\\nN:      1\\n\",\"                     down\\nQ:   0.00\\nN:      2\\n\",\"                     left\\nQ:   0.00\\nN:      1\\n\",\"                    right\\nQ:   0.00\\nN:      0\\n\",\"GridWorldState(8, 1, false)\\nN:    524\\n\",\"                       up\\nQ:   5.05\\nN:    186\\n\",\"                     down\\nQ:   0.00\\nN:     18\\n\",\"                     left\\nQ:   0.41\\nN:     15\\n\",\"                    right\\nQ:   5.44\\nN:    305\\n\",\"GridWorldState(7, 6, false)\\nN:     11\\n\",\"                       up\\nQ:   0.00\\nN:      3\\n\",\"                     down\\nQ:   1.07\\nN:      3\\n\",\"                     left\\nQ:   0.48\\nN:      3\\n\",\"                    right\\nQ:   0.00\\nN:      2\\n\",\"GridWorldState(6, 1, false)\\nN:    931\\n\",\"                       up\\nQ:   2.73\\nN:    176\\n\",\"                     down\\nQ:   0.00\\nN:     48\\n\",\"                     left\\nQ:  -0.33\\nN:     27\\n\",\"                    right\\nQ:   3.73\\nN:    680\\n\",\"                       up\\nQ:  -1.03\\nN:     63\\n\",\"                     down\\nQ:   0.00\\nN:    140\\n\",\"                     left\\nQ:  -0.17\\nN:    112\\n\",\"                    right\\nQ:   1.76\\nN:   1309\\n\",\"GridWorldState(8, 2, false)\\nN:    888\\n\",\"                       up\\nQ:   5.43\\nN:    163\\n\",\"                     down\\nQ:   1.55\\nN:     23\\n\",\"                     left\\nQ:   1.89\\nN:     23\\n\",\"                    right\\nQ:   6.45\\nN:    679\\n\",\"GridWorldState(8, 7, false)\\nN:      4\\n\",\"                       up\\nQ:   2.70\\nN:      1\\n\",\"                     down\\nQ:   0.00\\nN:      1\\n\",\"                     left\\nQ:   2.19\\nN:      1\\n\",\"                    right\\nQ:   0.00\\nN:      1\\n\",\"GridWorldState(3, 5, false)\\nN:     24\\n\",\"                       up\\nQ:  -2.69\\nN:      4\\n\",\"                     down\\nQ:  -0.33\\nN:      8\\n\",\"                     left\\nQ:  -0.20\\nN:      8\\n\",\"                    right\\nQ:  -3.04\\nN:      4\\n\",\"GridWorldState(7, 8, false)\\nN:      1\\n\",\"                       up\\nQ:   0.00\\nN:      1\\n\",\"                     down\\nQ:   0.00\\nN:      0\\n\",\"                     left\\nQ:   0.00\\nN:      0\\n\",\"                    right\\nQ:   0.00\\nN:      0\\n\",\"GridWorldState(9, 3, false)\\nN:   1604\\n\",\"                       up\\nQ:  10.00\\nN:    401\\n\",\"                     down\\nQ:  10.00\\nN:    401\\n\",\"                     left\\nQ:  10.00\\nN:    401\\n\",\"                    right\\nQ:  10.00\\nN:    401\\n\",\"GridWorldState(7, 3, false)\\nN:    227\\n\",\"                       up\\nQ:   1.12\\nN:     22\\n\",\"                     down\\nQ:   1.71\\nN:     22\\n\",\"                     left\\nQ:  -1.47\\nN:      9\\n\",\"                    right\\nQ:   5.07\\nN:    174\\n\",\"GridWorldState(9, 4, false)\\nN:     40\\n\",\"                       up\\nQ:   1.46\\nN:      5\\n\",\"                     down\\nQ:   8.18\\nN:     23\\n\",\"                     left\\nQ:   2.57\\nN:      7\\n\",\"                    right\\nQ:   3.26\\nN:      5\\n\",\"GridWorldState(6, 7, false)\\nN:      1\\n\",\"                       up\\nQ:   1.77\\nN:      1\\n\",\"                     down\\nQ:   0.00\\nN:      0\\n\",\"                     left\\nQ:   0.00\\nN:      0\\n\",\"                    right\\nQ:   0.00\\nN:      0\\n\",\"GridWorldState(8, 5, false)\\nN:     38\\n\",\"                       up\\nQ:   0.66\\nN:      8\\n\",\"                     down\\nQ:   2.57\\nN:     15\\n\",\"                     left\\nQ:   0.00\\nN:      7\\n\",\"                    right\\nQ:   0.00\\nN:      8\\n\",\"GridWorldState(3, 8, false)\\nN:      0\\n\",\"                       up\\nQ:   0.00\\nN:      0\\n\",\"                     down\\nQ:   0.00\\nN:      0\\n\",\"                     left\\nQ:   0.00\\nN:      0\\n\",\"                    right\\nQ:   0.00\\nN:      0\\n\",\"GridWorldState(1, 8, false)\\nN:      0\\n\",\"                       up\\nQ:   0.00\\nN:      0\\n\",\"                     down\\nQ:   0.00\\nN:      0\\n\",\"                     left\\nQ:   0.00\\nN:      0\\n\",\"                    right\\nQ:   0.00\\nN:      0\\n\",\"GridWorldState(2, 4, false)\\nN:     47\\n\",\"                       up\\nQ:   0.00\\nN:     12\\n\",\"                     down\\nQ:   0.00\\nN:     13\\n\",\"                     left\\nQ:   0.00\\nN:     12\\n\",\"                    right\\nQ:  -0.54\\nN:     10\\n\",\"GridWorldState(8, 8, false)\\nN:      0\\n\",\"                       up\\nQ:   0.00\\nN:      0\\n\",\"                     down\\nQ:   0.00\\nN:      0\\n\",\"                     left\\nQ:   0.00\\nN:      0\\n\",\"                    right\\nQ:   0.00\\nN:      0\\n\",\"GridWorldState(2, 1, false)\\nN:    243\\n\",\"                       up\\nQ:  -0.35\\nN:     51\\n\",\"                     down\\nQ:   0.00\\nN:     62\\n\",\"                     left\\nQ:  -0.13\\nN:     58\\n\",\"                    right\\nQ:   0.29\\nN:     72\\n\",\"GridWorldState(10, 3, false)\\nN:    107\\n\",\"                       up\\nQ:   1.38\\nN:     10\\n\",\"                     down\\nQ:   2.08\\nN:     11\\n\",\"                     left\\nQ:   7.69\\nN:     68\\n\",\"                    right\\nQ:   0.00\\nN:     18\\n\",\"GridWorldState(5, 5, false)\\nN:     25\\n\",\"                       up\\nQ:  -0.53\\nN:      5\\n\",\"                     down\\nQ:   0.00\\nN:      6\\n\",\"                     left\\nQ:   0.00\\nN:      6\\n\",\"                    right\\nQ:   0.36\\nN:      8\\n\",\"GridWorldState(9, 5, false)\\nN:     16\\n\",\"                       up\\nQ:   0.39\\nN:      5\\n\",\"                     down\\nQ:   0.00\\nN:      3\\n\",\"                     left\\nQ:   1.46\\nN:      5\\n\",\"                    right\\nQ:   0.00\\nN:      3\\n\",\"GridWorldState(2, 5, false)\\nN:     24\\n\",\"                       up\\nQ:   0.00\\nN:      6\\n\",\"                     down\\nQ:  -0.37\\nN:      8\\n\",\"                     left\\nQ:   0.00\\nN:      5\\n\",\"                    right\\nQ:   0.00\\nN:      5\\n\",\"GridWorldState(7, 7, false)\\nN:      4\\n\",\"                       up\\nQ:   2.20\\nN:      2\\n\",\"                     down\\nQ:   0.00\\nN:      2\\n\",\"                     left\\nQ:   0.00\\nN:      0\\n\",\"                    right\\nQ:   0.00\\nN:      0\\n\",\"GridWorldState(2, 2, false)\\nN:    165\\n\",\"                       up\\nQ:  -0.09\\nN:     53\\n\",\"                     down\\nQ:  -0.31\\nN:     43\\n\",\"                     left\\nQ:  -0.43\\nN:     42\\n\",\"                    right\\nQ:  -1.62\\nN:     27\\n\",\"GridWorldState(3, 2, false)\\nN:    243\\n\",\"                       up\\nQ:  -1.80\\nN:     43\\n\",\"                     down\\nQ:   0.21\\nN:    123\\n\",\"                     left\\nQ:  -0.62\\nN:     67\\n\",\"                    right\\nQ:  -6.24\\nN:     10\\n\",\"GridWorldState(7, 5, false)\\nN:     39\\n\",\"                       up\\nQ:   0.40\\nN:      9\\n\",\"                     down\\nQ:   1.54\\nN:     12\\n\",\"                     left\\nQ:   0.66\\nN:     10\\n\",\"                    right\\nQ:   0.00\\nN:      8\\n\",\"GridWorldState(2, 3, false)\\nN:     96\\n\",\"                       up\\nQ:  -0.06\\nN:     31\\n\",\"                     down\\nQ:  -1.43\\nN:     18\\n\",\"                     left\\nQ:  -0.72\\nN:     24\\n\",\"                    right\\nQ:  -0.58\\nN:     23\\n\",\"GridWorldState(1, 5, false)\\nN:     25\\n\",\"                       up\\nQ:   0.00\\nN:      7\\n\",\"                     down\\nQ:   0.00\\nN:      6\\n\",\"                     left\\nQ:   0.00\\nN:      6\\n\",\"                    right\\nQ:   0.00\\nN:      6\\n\",\"GridWorldState(10, 7, false)\\nN:      1\\n\",\"                       up\\nQ:   0.00\\nN:      1\\n\",\"                     down\\nQ:   0.00\\nN:      0\\n\",\"                     left\\nQ:   0.00\\nN:      0\\n\",\"                    right\\nQ:   0.00\\nN:      0\\n\",\"GridWorldState(9, 7, false)\\nN:      2\\n\",\"                       up\\nQ:   0.00\\nN:      1\\n\",\"                     down\\nQ:   0.00\\nN:      1\\n\",\"                     left\\nQ:   0.00\\nN:      0\\n\",\"                    right\\nQ:   0.00\\nN:      0\\n\",\"GridWorldState(3, 1, false)\\nN:    550\\n\",\"                       up\\nQ:  -0.04\\nN:    101\\n\",\"                     down\\nQ:   0.00\\nN:    112\\n\",\"                     left\\nQ:  -0.11\\nN:     97\\n\",\"                    right\\nQ:   0.93\\nN:    240\\n\",\"GridWorldState(4, 5, false)\\nN:     20\\n\",\"                       up\\nQ:  -4.29\\nN:      4\\n\",\"                     down\\nQ:  -0.75\\nN:      6\\n\",\"                     left\\nQ:  -2.04\\nN:      4\\n\",\"                    right\\nQ:  -0.20\\nN:      6\\n\",\"GridWorldState(9, 1, false)\\nN:    536\\n\",\"                       up\\nQ:   6.26\\nN:    453\\n\",\"                     down\\nQ:   0.00\\nN:     19\\n\",\"                     left\\nQ:   0.98\\nN:     15\\n\",\"                    right\\nQ:   3.69\\nN:     49\\n\",\"GridWorldState(9, 2, false)\\nN:   1905\\n\",\"                       up\\nQ:   8.00\\nN:   1858\\n\",\"                     down\\nQ:   1.71\\nN:     18\\n\",\"                     left\\nQ:   0.72\\nN:     13\\n\",\"                    right\\nQ:   1.32\\nN:     16\\n\",\"GridWorldState(1, 4, false)\\nN:     41\\n\",\"                       up\\nQ:   0.00\\nN:     10\\n\",\"                     down\\nQ:   0.00\\nN:     10\\n\",\"                     left\\nQ:   0.00\\nN:     12\\n\",\"                    right\\nQ:   0.00\\nN:      9\\n\",\"GridWorldState(3, 7, false)\\nN:      1\\n\",\"                       up\\nQ:  -3.28\\nN:      1\\n\",\"                     down\\nQ:   0.00\\nN:      0\\n\",\"                     left\\nQ:   0.00\\nN:      0\\n\",\"                    right\\nQ:   0.00\\nN:      0\\n\",\"GridWorldState(1, 7, false)\\nN:      2\\n\",\"                       up\\nQ:   0.00\\nN:      1\\n\",\"                     down\\nQ:   0.00\\nN:      1\\n\",\"                     left\\nQ:   0.00\\nN:      0\\n\",\"                    right\\nQ:   0.00\\nN:      0\\n\",\"GridWorldState(2, 6, false)\\nN:     12\\n\",\"                       up\\nQ:   0.00\\nN:      6\\n\",\"                     down\\nQ:   0.00\\nN:      2\\n\",\"                     left\\nQ:   0.00\\nN:      2\\n\",\"                    right\\nQ:   0.00\\nN:      2\\n\",\"GridWorldState(6, 5, false)\\nN:     32\\n\",\"                       up\\nQ:   0.00\\nN:     10\\n\",\"                     down\\nQ:   0.89\\nN:      7\\n\",\"                     left\\nQ:  -0.62\\nN:      9\\n\",\"                    right\\nQ:   0.19\\nN:      6\\n\",\"GridWorldState(4, 2, false)\\nN:    398\\n\",\"                       up\\nQ:  -7.23\\nN:      8\\n\",\"                     down\\nQ:  -0.63\\nN:    121\\n\",\"                     left\\nQ:  -2.62\\nN:     36\\n\",\"                    right\\nQ:   0.24\\nN:    233\\n\",\"GridWorldState(5, 3, false)\\nN:    131\\n\",\"                       up\\nQ:  -0.27\\nN:     32\\n\",\"                     down\\nQ:  -1.03\\nN:     24\\n\",\"                     left\\nQ:  -6.22\\nN:      6\\n\",\"                    right\\nQ:   1.45\\nN:     69\\n\",\"GridWorldState(4, 3, true)\\nN:      0\\n\",\"GridWorldState(4, 3, true)\\nN:      0\\n\",\"GridWorldState(4, 3, true)\\nN:      0\\n\",\"GridWorldState(4, 3, true)\\nN:      0\\n\",\"GridWorldState(4, 6, true)\\nN:      0\\n\",\"GridWorldState(4, 6, true)\\nN:      0\\n\",\"GridWorldState(4, 6, true)\\nN:      0\\n\",\"GridWorldState(4, 6, true)\\nN:      0\\n\",\"GridWorldState(9, 3, true)\\nN:      0\\n\",\"GridWorldState(9, 3, true)\\nN:      0\\n\",\"GridWorldState(9, 3, true)\\nN:      0\\n\",\"GridWorldState(9, 3, true)\\nN:      0\\n\",\"GridWorldState(9, 8, false)\\nN:      0\\n\"],\"tooltip\":[\"GridWorldState(4, 1, false)\\nN: 1624\\n\",\"GridWorldState(10, 2, false)\\nN: 299\\n\",\"up\\nQ: 5.06870980415075\\nN: 75\\n\",\"down\\nQ: 4.414479106394004\\nN: 49\\n\",\"left\\nQ: 6.239897822108098\\nN: 156\\n\",\"right\\nQ: 0.0\\nN: 19\\n\",\"GridWorldState(8, 4, false)\\nN: 133\\n\",\"up\\nQ: 0.0\\nN: 9\\n\",\"down\\nQ: 4.286246781006\\nN: 50\\n\",\"left\\nQ: 2.3866918148571425\\nN: 21\\n\",\"right\\nQ: 4.566896456603774\\nN: 53\\n\",\"GridWorldState(1, 6, false)\\nN: 21\\n\",\"up\\nQ: 0.0\\nN: 3\\n\",\"down\\nQ: 0.0\\nN: 3\\n\",\"left\\nQ: 0.0\\nN: 10\\n\",\"right\\nQ: 0.0\\nN: 5\\n\",\"GridWorldState(5, 7, false)\\nN: 1\\n\",\"up\\nQ: 0.0\\nN: 1\\n\",\"down\\nQ: 0.0\\nN: 0\\n\",\"left\\nQ: 0.0\\nN: 0\\n\",\"right\\nQ: 0.0\\nN: 0\\n\",\"GridWorldState(6, 4, false)\\nN: 116\\n\",\"up\\nQ: -0.4542230769230769\\nN: 13\\n\",\"down\\nQ: 0.9405017545909088\\nN: 22\\n\",\"left\\nQ: -1.336367552569616\\nN: 13\\n\",\"right\\nQ: 2.975193958809044\\nN: 68\\n\",\"GridWorldState(1, 2, false)\\nN: 123\\n\",\"up\\nQ: -0.5007809423076923\\nN: 26\\n\",\"down\\nQ: -0.177147\\nN: 30\\n\",\"left\\nQ: 0.0\\nN: 38\\n\",\"right\\nQ: -0.18325551724137928\\nN: 29\\n\",\"GridWorldState(9, 6, false)\\nN: 7\\n\",\"up\\nQ: 0.0\\nN: 1\\n\",\"down\\nQ: 0.0\\nN: 1\\n\",\"left\\nQ: 1.0935000000000001\\nN: 2\\n\",\"right\\nQ: 0.7290000000000001\\nN: 3\\n\",\"GridWorldState(8, 6, false)\\nN: 15\\n\",\"up\\nQ: 0.48600000000000004\\nN: 5\\n\",\"down\\nQ: 0.0\\nN: 3\\n\",\"left\\nQ: 0.0\\nN: 4\\n\",\"right\\nQ: 0.0\\nN: 3\\n\",\"GridWorldState(6, 6, false)\\nN: 15\\n\",\"up\\nQ: 0.5314410000000002\\nN: 3\\n\",\"down\\nQ: 0.0\\nN: 7\\n\",\"left\\nQ: 0.0\\nN: 3\\n\",\"right\\nQ: 0.0\\nN: 2\\n\",\"GridWorldState(5, 1, false)\\nN: 1218\\n\",\"up\\nQ: 1.8577935127239305\\nN: 222\\n\",\"down\\nQ: 0.0\\nN: 58\\n\",\"left\\nQ: 0.4164126485268916\\nN: 67\\n\",\"right\\nQ: 2.842761775005068\\nN: 871\\n\",\"GridWorldState(1, 1, false)\\nN: 186\\n\",\"up\\nQ: -0.013913085815913686\\nN: 47\\n\",\"down\\nQ: 0.0\\nN: 50\\n\",\"left\\nQ: 0.0\\nN: 49\\n\",\"right\\nQ: -0.4178602484999999\\nN: 40\\n\",\"GridWorldState(6, 8, false)\\nN: 0\\n\",\"up\\nQ: 0.0\\nN: 0\\n\",\"down\\nQ: 0.0\\nN: 0\\n\",\"left\\nQ: 0.0\\nN: 0\\n\",\"right\\nQ: 0.0\\nN: 0\\n\",\"GridWorldState(4, 3, false)\\nN: 89\\n\",\"up\\nQ: -10.0\\nN: 23\\n\",\"down\\nQ: -10.0\\nN: 22\\n\",\"left\\nQ: -10.0\\nN: 22\\n\",\"right\\nQ: -10.0\\nN: 22\\n\",\"GridWorldState(4, 4, false)\\nN: 28\\n\",\"up\\nQ: -0.8842500000000001\\nN: 12\\n\",\"down\\nQ: -6.75\\nN: 4\\n\",\"left\\nQ: -1.62789345\\nN: 9\\n\",\"right\\nQ: -6.0\\nN: 3\\n\",\"GridWorldState(6, 2, false)\\nN: 695\\n\",\"up\\nQ: 2.1116402683866458\\nN: 90\\n\",\"down\\nQ: 1.634290769374997\\nN: 70\\n\",\"left\\nQ: -0.3243891593655344\\nN: 26\\n\",\"right\\nQ: 3.791521920311555\\nN: 509\\n\",\"GridWorldState(5, 2, false)\\nN: 607\\n\",\"up\\nQ: -1.5426802343401873\\nN: 24\\n\",\"down\\nQ: 1.224536806804079\\nN: 117\\n\",\"left\\nQ: -2.3187677625\\nN: 24\\n\",\"right\\nQ: 2.550628415837495\\nN: 442\\n\",\"GridWorldState(3, 3, false)\\nN: 87\\n\",\"up\\nQ: -1.2046536884740344\\nN: 29\\n\",\"down\\nQ: -1.4674701600290325\\nN: 31\\n\",\"left\\nQ: -2.0459664182045456\\nN: 22\\n\",\"right\\nQ: -7.2\\nN: 5\\n\",\"GridWorldState(3, 4, false)\\nN: 46\\n\",\"up\\nQ: -1.2313781009775002\\nN: 12\\n\",\"down\\nQ: -1.4727272727272727\\nN: 11\\n\",\"left\\nQ: -0.6420667500000001\\nN: 14\\n\",\"right\\nQ: -1.7999999999999998\\nN: 9\\n\",\"GridWorldState(2, 7, false)\\nN: 1\\n\",\"up\\nQ: 0.0\\nN: 1\\n\",\"down\\nQ: 0.0\\nN: 0\\n\",\"left\\nQ: 0.0\\nN: 0\\n\",\"right\\nQ: 0.0\\nN: 0\\n\",\"GridWorldState(5, 6, false)\\nN: 4\\n\",\"up\\nQ: 0.0\\nN: 1\\n\",\"down\\nQ: 0.0\\nN: 2\\n\",\"left\\nQ: 0.0\\nN: 1\\n\",\"right\\nQ: 0.0\\nN: 0\\n\",\"GridWorldState(10, 1, false)\\nN: 203\\n\",\"up\\nQ: 2.7768924630000003\\nN: 30\\n\",\"down\\nQ: 0.0\\nN: 18\\n\",\"left\\nQ: 5.159545603479325\\nN: 139\\n\",\"right\\nQ: 0.0\\nN: 16\\n\",\"GridWorldState(4, 6, false)\\nN: 5\\n\",\"up\\nQ: -5.0\\nN: 2\\n\",\"down\\nQ: -5.0\\nN: 1\\n\",\"left\\nQ: -5.0\\nN: 1\\n\",\"right\\nQ: -5.0\\nN: 1\\n\",\"GridWorldState(10, 4, false)\\nN: 40\\n\",\"up\\nQ: 1.3499999999999999\\nN: 6\\n\",\"down\\nQ: 2.314285714285715\\nN: 7\\n\",\"left\\nQ: 3.7422000000000004\\nN: 10\\n\",\"right\\nQ: 0.0\\nN: 17\\n\",\"GridWorldState(10, 5, false)\\nN: 6\\n\",\"up\\nQ: 0.0\\nN: 2\\n\",\"down\\nQ: 0.0\\nN: 1\\n\",\"left\\nQ: 0.0\\nN: 3\\n\",\"right\\nQ: 0.0\\nN: 0\\n\",\"GridWorldState(1, 3, false)\\nN: 92\\n\",\"up\\nQ: -0.5937705000000001\\nN: 18\\n\",\"down\\nQ: -0.11553065217391302\\nN: 23\\n\",\"left\\nQ: 0.0\\nN: 34\\n\",\"right\\nQ: -0.9607650565235294\\nN: 17\\n\",\"GridWorldState(7, 4, false)\\nN: 128\\n\",\"up\\nQ: -0.52014787875\\nN: 12\\n\",\"down\\nQ: -0.12069638311153848\\nN: 13\\n\",\"left\\nQ: 0.0\\nN: 13\\n\",\"right\\nQ: 4.1439722893200015\\nN: 90\\n\",\"GridWorldState(5, 8, false)\\nN: 0\\n\",\"up\\nQ: 0.0\\nN: 0\\n\",\"down\\nQ: 0.0\\nN: 0\\n\",\"left\\nQ: 0.0\\nN: 0\\n\",\"right\\nQ: 0.0\\nN: 0\\n\",\"GridWorldState(3, 6, false)\\nN: 5\\n\",\"up\\nQ: -2.9524500000000007\\nN: 1\\n\",\"down\\nQ: -1.4762250000000001\\nN: 2\\n\",\"left\\nQ: 0.0\\nN: 1\\n\",\"right\\nQ: -4.5\\nN: 1\\n\",\"GridWorldState(6, 3, false)\\nN: 228\\n\",\"up\\nQ: 2.5229582982159235\\nN: 91\\n\",\"down\\nQ: 1.212546714238915\\nN: 47\\n\",\"left\\nQ: -1.157142857142857\\nN: 14\\n\",\"right\\nQ: 3.8340303786865193\\nN: 76\\n\",\"GridWorldState(7, 2, false)\\nN: 744\\n\",\"up\\nQ: 0.4902351428571431\\nN: 21\\n\",\"down\\nQ: 0.9011310699678752\\nN: 24\\n\",\"left\\nQ: 2.261507529767442\\nN: 43\\n\",\"right\\nQ: 5.2261722499525325\\nN: 656\\n\",\"GridWorldState(7, 1, false)\\nN: 722\\n\",\"up\\nQ: 4.2906100184443225\\nN: 293\\n\",\"down\\nQ: 0.0\\nN: 34\\n\",\"left\\nQ: 1.3756820152837503\\nN: 36\\n\",\"right\\nQ: 4.436861654672844\\nN: 359\\n\",\"GridWorldState(5, 4, false)\\nN: 61\\n\",\"up\\nQ: -0.4608658320300001\\nN: 15\\n\",\"down\\nQ: -0.1813370026325625\\nN: 16\\n\",\"left\\nQ: -1.9611\\nN: 9\\n\",\"right\\nQ: 0.17806307142857153\\nN: 21\\n\",\"GridWorldState(8, 3, false)\\nN: 329\\n\",\"up\\nQ: 2.5535661348383187\\nN: 22\\n\",\"down\\nQ: 4.4798307557357155\\nN: 42\\n\",\"left\\nQ: 0.8181818181818182\\nN: 11\\n\",\"right\\nQ: 7.5109628786112985\\nN: 254\\n\",\"GridWorldState(10, 6, false)\\nN: 4\\n\",\"up\\nQ: 0.0\\nN: 1\\n\",\"down\\nQ: 0.0\\nN: 2\\n\",\"left\\nQ: 0.0\\nN: 1\\n\",\"right\\nQ: 0.0\\nN: 0\\n\",\"GridWorldState(8, 1, false)\\nN: 524\\n\",\"up\\nQ: 5.048033326729345\\nN: 186\\n\",\"down\\nQ: 0.0\\nN: 18\\n\",\"left\\nQ: 0.41166185138976613\\nN: 15\\n\",\"right\\nQ: 5.438039061229445\\nN: 305\\n\",\"GridWorldState(7, 6, false)\\nN: 11\\n\",\"up\\nQ: 0.0\\nN: 3\\n\",\"down\\nQ: 1.0687869000000003\\nN: 3\\n\",\"left\\nQ: 0.47829690000000014\\nN: 3\\n\",\"right\\nQ: 0.0\\nN: 2\\n\",\"GridWorldState(6, 1, false)\\nN: 931\\n\",\"up\\nQ: 2.7315999206504045\\nN: 176\\n\",\"down\\nQ: 0.0\\nN: 48\\n\",\"left\\nQ: -0.32557701329999983\\nN: 27\\n\",\"right\\nQ: 3.7285718854246217\\nN: 680\\n\",\"up\\nQ: -1.0301794906715858\\nN: 63\\n\",\"down\\nQ: 0.0\\nN: 140\\n\",\"left\\nQ: -0.16906501723438355\\nN: 112\\n\",\"right\\nQ: 1.7642405350524692\\nN: 1309\\n\",\"GridWorldState(8, 2, false)\\nN: 888\\n\",\"up\\nQ: 5.430300316747826\\nN: 163\\n\",\"down\\nQ: 1.5451396630043481\\nN: 23\\n\",\"left\\nQ: 1.8907809260938233\\nN: 23\\n\",\"right\\nQ: 6.445820492124546\\nN: 679\\n\",\"GridWorldState(8, 7, false)\\nN: 4\\n\",\"up\\nQ: 2.7\\nN: 1\\n\",\"down\\nQ: 0.0\\nN: 1\\n\",\"left\\nQ: 2.1870000000000003\\nN: 1\\n\",\"right\\nQ: 0.0\\nN: 1\\n\",\"GridWorldState(3, 5, false)\\nN: 24\\n\",\"up\\nQ: -2.6893012499999998\\nN: 4\\n\",\"down\\nQ: -0.33215062500000003\\nN: 8\\n\",\"left\\nQ: -0.20139620996249996\\nN: 8\\n\",\"right\\nQ: -3.0375\\nN: 4\\n\",\"GridWorldState(7, 8, false)\\nN: 1\\n\",\"up\\nQ: 0.0\\nN: 1\\n\",\"down\\nQ: 0.0\\nN: 0\\n\",\"left\\nQ: 0.0\\nN: 0\\n\",\"right\\nQ: 0.0\\nN: 0\\n\",\"GridWorldState(9, 3, false)\\nN: 1604\\n\",\"up\\nQ: 10.0\\nN: 401\\n\",\"down\\nQ: 10.0\\nN: 401\\n\",\"left\\nQ: 10.0\\nN: 401\\n\",\"right\\nQ: 10.0\\nN: 401\\n\",\"GridWorldState(7, 3, false)\\nN: 227\\n\",\"up\\nQ: 1.1223932228181817\\nN: 22\\n\",\"down\\nQ: 1.7124806454545456\\nN: 22\\n\",\"left\\nQ: -1.4661\\nN: 9\\n\",\"right\\nQ: 5.065309973210321\\nN: 174\\n\",\"GridWorldState(9, 4, false)\\nN: 40\\n\",\"up\\nQ: 1.4580000000000004\\nN: 5\\n\",\"down\\nQ: 8.176734782608694\\nN: 23\\n\",\"left\\nQ: 2.5682669999999996\\nN: 7\\n\",\"right\\nQ: 3.258\\nN: 5\\n\",\"GridWorldState(6, 7, false)\\nN: 1\\n\",\"up\\nQ: 1.7714700000000003\\nN: 1\\n\",\"down\\nQ: 0.0\\nN: 0\\n\",\"left\\nQ: 0.0\\nN: 0\\n\",\"right\\nQ: 0.0\\nN: 0\\n\",\"GridWorldState(8, 5, false)\\nN: 38\\n\",\"up\\nQ: 0.6636369487500001\\nN: 8\\n\",\"down\\nQ: 2.5738559999999997\\nN: 15\\n\",\"left\\nQ: 0.0\\nN: 7\\n\",\"right\\nQ: 0.0\\nN: 8\\n\",\"GridWorldState(3, 8, false)\\nN: 0\\n\",\"up\\nQ: 0.0\\nN: 0\\n\",\"down\\nQ: 0.0\\nN: 0\\n\",\"left\\nQ: 0.0\\nN: 0\\n\",\"right\\nQ: 0.0\\nN: 0\\n\",\"GridWorldState(1, 8, false)\\nN: 0\\n\",\"up\\nQ: 0.0\\nN: 0\\n\",\"down\\nQ: 0.0\\nN: 0\\n\",\"left\\nQ: 0.0\\nN: 0\\n\",\"right\\nQ: 0.0\\nN: 0\\n\",\"GridWorldState(2, 4, false)\\nN: 47\\n\",\"up\\nQ: 0.0\\nN: 12\\n\",\"down\\nQ: 0.0\\nN: 13\\n\",\"left\\nQ: 0.0\\nN: 12\\n\",\"right\\nQ: -0.5432836050000001\\nN: 10\\n\",\"GridWorldState(8, 8, false)\\nN: 0\\n\",\"up\\nQ: 0.0\\nN: 0\\n\",\"down\\nQ: 0.0\\nN: 0\\n\",\"left\\nQ: 0.0\\nN: 0\\n\",\"right\\nQ: 0.0\\nN: 0\\n\",\"GridWorldState(2, 1, false)\\nN: 243\\n\",\"up\\nQ: -0.3485362851\\nN: 51\\n\",\"down\\nQ: 0.0\\nN: 62\\n\",\"left\\nQ: -0.13308694635072413\\nN: 58\\n\",\"right\\nQ: 0.294386457261977\\nN: 72\\n\",\"GridWorldState(10, 3, false)\\nN: 107\\n\",\"up\\nQ: 1.3782969\\nN: 10\\n\",\"down\\nQ: 2.077363636363636\\nN: 11\\n\",\"left\\nQ: 7.689962779411762\\nN: 68\\n\",\"right\\nQ: 0.0\\nN: 18\\n\",\"GridWorldState(5, 5, false)\\nN: 25\\n\",\"up\\nQ: -0.531441\\nN: 5\\n\",\"down\\nQ: 0.0\\nN: 6\\n\",\"left\\nQ: 0.0\\nN: 6\\n\",\"right\\nQ: 0.3566559600000001\\nN: 8\\n\",\"GridWorldState(9, 5, false)\\nN: 16\\n\",\"up\\nQ: 0.39366000000000007\\nN: 5\\n\",\"down\\nQ: 0.0\\nN: 3\\n\",\"left\\nQ: 1.4565420000000002\\nN: 5\\n\",\"right\\nQ: 0.0\\nN: 3\\n\",\"GridWorldState(2, 5, false)\\nN: 24\\n\",\"up\\nQ: 0.0\\nN: 6\\n\",\"down\\nQ: -0.36905625000000003\\nN: 8\\n\",\"left\\nQ: 0.0\\nN: 5\\n\",\"right\\nQ: 0.0\\nN: 5\\n\",\"GridWorldState(7, 7, false)\\nN: 4\\n\",\"up\\nQ: 2.1991500000000004\\nN: 2\\n\",\"down\\nQ: 0.0\\nN: 2\\n\",\"left\\nQ: 0.0\\nN: 0\\n\",\"right\\nQ: 0.0\\nN: 0\\n\",\"GridWorldState(2, 2, false)\\nN: 165\\n\",\"up\\nQ: -0.08819451285575604\\nN: 53\\n\",\"down\\nQ: -0.3068581395348837\\nN: 43\\n\",\"left\\nQ: -0.42804450000000005\\nN: 42\\n\",\"right\\nQ: -1.619962318827\\nN: 27\\n\",\"GridWorldState(3, 2, false)\\nN: 243\\n\",\"up\\nQ: -1.7963912436467442\\nN: 43\\n\",\"down\\nQ: 0.2107766508825501\\nN: 123\\n\",\"left\\nQ: -0.6226076357727189\\nN: 67\\n\",\"right\\nQ: -6.23593040391\\nN: 10\\n\",\"GridWorldState(7, 5, false)\\nN: 39\\n\",\"up\\nQ: 0.40212369000000014\\nN: 9\\n\",\"down\\nQ: 1.5363675\\nN: 12\\n\",\"left\\nQ: 0.6561\\nN: 10\\n\",\"right\\nQ: 0.0\\nN: 8\\n\",\"GridWorldState(2, 3, false)\\nN: 96\\n\",\"up\\nQ: -0.062487175645161305\\nN: 31\\n\",\"down\\nQ: -1.4285249999999998\\nN: 18\\n\",\"left\\nQ: -0.7156979944087501\\nN: 24\\n\",\"right\\nQ: -0.5779859507901\\nN: 23\\n\",\"GridWorldState(1, 5, false)\\nN: 25\\n\",\"up\\nQ: 0.0\\nN: 7\\n\",\"down\\nQ: 0.0\\nN: 6\\n\",\"left\\nQ: 0.0\\nN: 6\\n\",\"right\\nQ: 0.0\\nN: 6\\n\",\"GridWorldState(10, 7, false)\\nN: 1\\n\",\"up\\nQ: 0.0\\nN: 1\\n\",\"down\\nQ: 0.0\\nN: 0\\n\",\"left\\nQ: 0.0\\nN: 0\\n\",\"right\\nQ: 0.0\\nN: 0\\n\",\"GridWorldState(9, 7, false)\\nN: 2\\n\",\"up\\nQ: 0.0\\nN: 1\\n\",\"down\\nQ: 0.0\\nN: 1\\n\",\"left\\nQ: 0.0\\nN: 0\\n\",\"right\\nQ: 0.0\\nN: 0\\n\",\"GridWorldState(3, 1, false)\\nN: 550\\n\",\"up\\nQ: -0.038543894628202464\\nN: 101\\n\",\"down\\nQ: 0.0\\nN: 112\\n\",\"left\\nQ: -0.11214502810495078\\nN: 97\\n\",\"right\\nQ: 0.9279923476951187\\nN: 240\\n\",\"GridWorldState(4, 5, false)\\nN: 20\\n\",\"up\\nQ: -4.28625\\nN: 4\\n\",\"down\\nQ: -0.75\\nN: 6\\n\",\"left\\nQ: -2.03625\\nN: 4\\n\",\"right\\nQ: -0.20487050550000002\\nN: 6\\n\",\"GridWorldState(9, 1, false)\\nN: 536\\n\",\"up\\nQ: 6.262861530823602\\nN: 453\\n\",\"down\\nQ: 0.0\\nN: 19\\n\",\"left\\nQ: 0.9837634200105295\\nN: 15\\n\",\"right\\nQ: 3.6911327535337772\\nN: 49\\n\",\"GridWorldState(9, 2, false)\\nN: 1905\\n\",\"up\\nQ: 8.0028134932734\\nN: 1858\\n\",\"down\\nQ: 1.7070349717173967\\nN: 18\\n\",\"left\\nQ: 0.7218266268673456\\nN: 13\\n\",\"right\\nQ: 1.3211316225562504\\nN: 16\\n\",\"GridWorldState(1, 4, false)\\nN: 41\\n\",\"up\\nQ: 0.0\\nN: 10\\n\",\"down\\nQ: 0.0\\nN: 10\\n\",\"left\\nQ: 0.0\\nN: 12\\n\",\"right\\nQ: 0.0\\nN: 9\\n\",\"GridWorldState(3, 7, false)\\nN: 1\\n\",\"up\\nQ: -3.2805000000000004\\nN: 1\\n\",\"down\\nQ: 0.0\\nN: 0\\n\",\"left\\nQ: 0.0\\nN: 0\\n\",\"right\\nQ: 0.0\\nN: 0\\n\",\"GridWorldState(1, 7, false)\\nN: 2\\n\",\"up\\nQ: 0.0\\nN: 1\\n\",\"down\\nQ: 0.0\\nN: 1\\n\",\"left\\nQ: 0.0\\nN: 0\\n\",\"right\\nQ: 0.0\\nN: 0\\n\",\"GridWorldState(2, 6, false)\\nN: 12\\n\",\"up\\nQ: 0.0\\nN: 6\\n\",\"down\\nQ: 0.0\\nN: 2\\n\",\"left\\nQ: 0.0\\nN: 2\\n\",\"right\\nQ: 0.0\\nN: 2\\n\",\"GridWorldState(6, 5, false)\\nN: 32\\n\",\"up\\nQ: 0.0\\nN: 10\\n\",\"down\\nQ: 0.8882656714285716\\nN: 7\\n\",\"left\\nQ: -0.6233022900000003\\nN: 9\\n\",\"right\\nQ: 0.19371024450000007\\nN: 6\\n\",\"GridWorldState(4, 2, false)\\nN: 398\\n\",\"up\\nQ: -7.225401949875\\nN: 8\\n\",\"down\\nQ: -0.6290341782582826\\nN: 121\\n\",\"left\\nQ: -2.62108443662025\\nN: 36\\n\",\"right\\nQ: 0.23938348054214587\\nN: 233\\n\",\"GridWorldState(5, 3, false)\\nN: 131\\n\",\"up\\nQ: -0.27105230708133743\\nN: 32\\n\",\"down\\nQ: -1.0293577482739125\\nN: 24\\n\",\"left\\nQ: -6.216030766499999\\nN: 6\\n\",\"right\\nQ: 1.4502531336463047\\nN: 69\\n\",\"GridWorldState(4, 3, true)\\nN: 0\\n\",\"GridWorldState(4, 3, true)\\nN: 0\\n\",\"GridWorldState(4, 3, true)\\nN: 0\\n\",\"GridWorldState(4, 3, true)\\nN: 0\\n\",\"GridWorldState(4, 6, true)\\nN: 0\\n\",\"GridWorldState(4, 6, true)\\nN: 0\\n\",\"GridWorldState(4, 6, true)\\nN: 0\\n\",\"GridWorldState(4, 6, true)\\nN: 0\\n\",\"GridWorldState(9, 3, true)\\nN: 0\\n\",\"GridWorldState(9, 3, true)\\nN: 0\\n\",\"GridWorldState(9, 3, true)\\nN: 0\\n\",\"GridWorldState(9, 3, true)\\nN: 0\\n\",\"GridWorldState(9, 8, false)\\nN: 0\\n\"],\"style\":[\"\",\"\",\"stroke:#3F6000\",\"stroke:#475C00\",\"stroke:#306800\",\"stroke:#7F4000\",\"\",\"stroke:#7F4000\",\"stroke:#495B00\",\"stroke:#614F00\",\"stroke:#455D00\",\"\",\"stroke:#7F4000\",\"stroke:#7F4000\",\"stroke:#7F4000\",\"stroke:#7F4000\",\"\",\"stroke:#7F4000\",\"stroke:#7F4000\",\"stroke:#7F4000\",\"stroke:#7F4000\",\"\",\"stroke:#853D00\",\"stroke:#744600\",\"stroke:#913700\",\"stroke:#5A5300\",\"\",\"stroke:#863D00\",\"stroke:#823F00\",\"stroke:#7F4000\",\"stroke:#823F00\",\"\",\"stroke:#7F4000\",\"stroke:#7F4000\",\"stroke:#724700\",\"stroke:#764500\",\"\",\"stroke:#794300\",\"stroke:#7F4000\",\"stroke:#7F4000\",\"stroke:#7F4000\",\"\",\"stroke:#794300\",\"stroke:#7F4000\",\"stroke:#7F4000\",\"stroke:#7F4000\",\"\",\"stroke:#684C00\",\"stroke:#7F4000\",\"stroke:#7A4300\",\"stroke:#5B5200\",\"\",\"stroke:#804000\",\"stroke:#7F4000\",\"stroke:#7F4000\",\"stroke:#853D00\",\"\",\"stroke:#7F4000\",\"stroke:#7F4000\",\"stroke:#7F4000\",\"stroke:#7F4000\",\"\",\"stroke:#FF0000\",\"stroke:#FF0000\",\"stroke:#FF0000\",\"stroke:#FF0000\",\"\",\"stroke:#8B3A00\",\"stroke:#D61500\",\"stroke:#943600\",\"stroke:#CC1A00\",\"\",\"stroke:#654D00\",\"stroke:#6B4A00\",\"stroke:#843E00\",\"stroke:#4F5800\",\"\",\"stroke:#933600\",\"stroke:#704800\",\"stroke:#9D3100\",\"stroke:#5F5000\",\"\",\"stroke:#8F3800\",\"stroke:#923700\",\"stroke:#9A3300\",\"stroke:#DB1200\",\"\",\"stroke:#8F3800\",\"stroke:#923700\",\"stroke:#883C00\",\"stroke:#963500\",\"\",\"stroke:#7F4000\",\"stroke:#7F4000\",\"stroke:#7F4000\",\"stroke:#7F4000\",\"\",\"stroke:#7F4000\",\"stroke:#7F4000\",\"stroke:#7F4000\",\"stroke:#7F4000\",\"\",\"stroke:#5C5200\",\"stroke:#7F4000\",\"stroke:#3E6100\",\"stroke:#7F4000\",\"\",\"stroke:#BF2000\",\"stroke:#BF2000\",\"stroke:#BF2000\",\"stroke:#BF2000\",\"\",\"stroke:#6E4900\",\"stroke:#624F00\",\"stroke:#505800\",\"stroke:#7F4000\",\"\",\"stroke:#7F4000\",\"stroke:#7F4000\",\"stroke:#7F4000\",\"stroke:#7F4000\",\"\",\"stroke:#873C00\",\"stroke:#813F00\",\"stroke:#7F4000\",\"stroke:#8C3A00\",\"\",\"stroke:#863D00\",\"stroke:#813F00\",\"stroke:#7F4000\",\"stroke:#4B5A00\",\"\",\"stroke:#7F4000\",\"stroke:#7F4000\",\"stroke:#7F4000\",\"stroke:#7F4000\",\"\",\"stroke:#A52D00\",\"stroke:#923700\",\"stroke:#7F4000\",\"stroke:#B92300\",\"\",\"stroke:#5F5000\",\"stroke:#704800\",\"stroke:#8E3900\",\"stroke:#4F5800\",\"\",\"stroke:#794300\",\"stroke:#744600\",\"stroke:#634E00\",\"stroke:#3D6100\",\"\",\"stroke:#495B00\",\"stroke:#7F4000\",\"stroke:#6E4900\",\"stroke:#475C00\",\"\",\"stroke:#853D00\",\"stroke:#823F00\",\"stroke:#993300\",\"stroke:#7D4100\",\"\",\"stroke:#5F5000\",\"stroke:#465D00\",\"stroke:#754500\",\"stroke:#207000\",\"\",\"stroke:#7F4000\",\"stroke:#7F4000\",\"stroke:#7F4000\",\"stroke:#7F4000\",\"\",\"stroke:#3F6000\",\"stroke:#7F4000\",\"stroke:#7A4300\",\"stroke:#3A6300\",\"\",\"stroke:#7F4000\",\"stroke:#724700\",\"stroke:#794300\",\"stroke:#7F4000\",\"\",\"stroke:#5D5100\",\"stroke:#7F4000\",\"stroke:#843E00\",\"stroke:#505800\",\"stroke:#8D3900\",\"stroke:#7F4000\",\"stroke:#823F00\",\"stroke:#694B00\",\"\",\"stroke:#3A6300\",\"stroke:#6C4A00\",\"stroke:#674C00\",\"stroke:#2D6900\",\"\",\"stroke:#5D5100\",\"stroke:#7F4000\",\"stroke:#644E00\",\"stroke:#7F4000\",\"\",\"stroke:#A22F00\",\"stroke:#843E00\",\"stroke:#823F00\",\"stroke:#A62D00\",\"\",\"stroke:#7F4000\",\"stroke:#7F4000\",\"stroke:#7F4000\",\"stroke:#7F4000\",\"\",\"stroke:#008000\",\"stroke:#008000\",\"stroke:#008000\",\"stroke:#008000\",\"\",\"stroke:#714700\",\"stroke:#6A4B00\",\"stroke:#923700\",\"stroke:#3F6000\",\"\",\"stroke:#6D4900\",\"stroke:#177400\",\"stroke:#5F5000\",\"stroke:#565500\",\"\",\"stroke:#694B00\",\"stroke:#7F4000\",\"stroke:#7F4000\",\"stroke:#7F4000\",\"\",\"stroke:#774400\",\"stroke:#5F5000\",\"stroke:#7F4000\",\"stroke:#7F4000\",\"\",\"stroke:#7F4000\",\"stroke:#7F4000\",\"stroke:#7F4000\",\"stroke:#7F4000\",\"\",\"stroke:#7F4000\",\"stroke:#7F4000\",\"stroke:#7F4000\",\"stroke:#7F4000\",\"\",\"stroke:#7F4000\",\"stroke:#7F4000\",\"stroke:#7F4000\",\"stroke:#863D00\",\"\",\"stroke:#7F4000\",\"stroke:#7F4000\",\"stroke:#7F4000\",\"stroke:#7F4000\",\"\",\"stroke:#843E00\",\"stroke:#7F4000\",\"stroke:#813F00\",\"stroke:#7C4200\",\"\",\"stroke:#6E4900\",\"stroke:#654D00\",\"stroke:#1D7100\",\"stroke:#7F4000\",\"\",\"stroke:#863D00\",\"stroke:#7F4000\",\"stroke:#7F4000\",\"stroke:#7B4200\",\"\",\"stroke:#7A4300\",\"stroke:#7F4000\",\"stroke:#6D4900\",\"stroke:#7F4000\",\"\",\"stroke:#7F4000\",\"stroke:#843E00\",\"stroke:#7F4000\",\"stroke:#7F4000\",\"\",\"stroke:#634E00\",\"stroke:#7F4000\",\"stroke:#7F4000\",\"stroke:#7F4000\",\"\",\"stroke:#813F00\",\"stroke:#833E00\",\"stroke:#853D00\",\"stroke:#943600\",\"\",\"stroke:#963500\",\"stroke:#7D4100\",\"stroke:#873C00\",\"stroke:#CF1800\",\"\",\"stroke:#7A4300\",\"stroke:#6C4A00\",\"stroke:#774400\",\"stroke:#7F4000\",\"\",\"stroke:#804000\",\"stroke:#923700\",\"stroke:#893B00\",\"stroke:#873C00\",\"\",\"stroke:#7F4000\",\"stroke:#7F4000\",\"stroke:#7F4000\",\"stroke:#7F4000\",\"\",\"stroke:#7F4000\",\"stroke:#7F4000\",\"stroke:#7F4000\",\"stroke:#7F4000\",\"\",\"stroke:#7F4000\",\"stroke:#7F4000\",\"stroke:#7F4000\",\"stroke:#7F4000\",\"\",\"stroke:#804000\",\"stroke:#7F4000\",\"stroke:#813F00\",\"stroke:#744600\",\"\",\"stroke:#B62500\",\"stroke:#893B00\",\"stroke:#993300\",\"stroke:#823F00\",\"\",\"stroke:#306800\",\"stroke:#7F4000\",\"stroke:#734600\",\"stroke:#505800\",\"\",\"stroke:#197300\",\"stroke:#6A4B00\",\"stroke:#764500\",\"stroke:#6F4800\",\"\",\"stroke:#7F4000\",\"stroke:#7F4000\",\"stroke:#7F4000\",\"stroke:#7F4000\",\"\",\"stroke:#A92B00\",\"stroke:#7F4000\",\"stroke:#7F4000\",\"stroke:#7F4000\",\"\",\"stroke:#7F4000\",\"stroke:#7F4000\",\"stroke:#7F4000\",\"stroke:#7F4000\",\"\",\"stroke:#7F4000\",\"stroke:#7F4000\",\"stroke:#7F4000\",\"stroke:#7F4000\",\"\",\"stroke:#7F4000\",\"stroke:#744600\",\"stroke:#873C00\",\"stroke:#7D4100\",\"\",\"stroke:#DC1200\",\"stroke:#883C00\",\"stroke:#A12F00\",\"stroke:#7C4200\",\"\",\"stroke:#833E00\",\"stroke:#8D3900\",\"stroke:#CF1800\",\"stroke:#6D4900\",\"\",\"\",\"\",\"\",\"\",\"\",\"\",\"\",\"\",\"\",\"\",\"\",\"\"],\"link_style\":[\"\",\"\",\"stroke-width:13.867504905630728px\",\"stroke-width:11.2089707663561px\",\"stroke-width:20.0px\",\"stroke-width:6.9798244045211275px\",\"\",\"stroke-width:8.241633836921341px\",\"stroke-width:19.425717247145286px\",\"stroke-width:12.589303635933796px\",\"stroke-width:20.0px\",\"\",\"stroke-width:10.95445115010332px\",\"stroke-width:10.95445115010332px\",\"stroke-width:20.0px\",\"stroke-width:14.142135623730951px\",\"\",\"stroke-width:20.0px\",\"stroke-width:0.0px\",\"stroke-width:0.0px\",\"stroke-width:0.0px\",\"\",\"stroke-width:8.74474632195206px\",\"stroke-width:11.37592917989042px\",\"stroke-width:8.74474632195206px\",\"stroke-width:20.0px\",\"\",\"stroke-width:16.543403837370224px\",\"stroke-width:17.77046633277277px\",\"stroke-width:20.0px\",\"stroke-width:17.47178176073456px\",\"\",\"stroke-width:11.547005383792515px\",\"stroke-width:11.547005383792515px\",\"stroke-width:16.32993161855452px\",\"stroke-width:20.0px\",\"\",\"stroke-width:20.0px\",\"stroke-width:15.491933384829668px\",\"stroke-width:17.88854381999832px\",\"stroke-width:15.491933384829668px\",\"\",\"stroke-width:13.09307341415954px\",\"stroke-width:20.0px\",\"stroke-width:13.09307341415954px\",\"stroke-width:10.690449676496975px\",\"\",\"stroke-width:10.097117388825382px\",\"stroke-width:5.161012547615781px\",\"stroke-width:5.547001962252292px\",\"stroke-width:20.0px\",\"\",\"stroke-width:19.390719429665314px\",\"stroke-width:20.0px\",\"stroke-width:19.79898987322333px\",\"stroke-width:17.88854381999832px\",\"\",\"stroke-width:NaNpx\",\"stroke-width:NaNpx\",\"stroke-width:NaNpx\",\"stroke-width:NaNpx\",\"\",\"stroke-width:20.0px\",\"stroke-width:19.56038587687303px\",\"stroke-width:19.56038587687303px\",\"stroke-width:19.56038587687303px\",\"\",\"stroke-width:20.0px\",\"stroke-width:11.547005383792515px\",\"stroke-width:17.32050807568877px\",\"stroke-width:10.0px\",\"\",\"stroke-width:8.409929578815074px\",\"stroke-width:7.416860736370287px\",\"stroke-width:4.520201327296466px\",\"stroke-width:20.0px\",\"\",\"stroke-width:4.660413824283704px\",\"stroke-width:10.289915108550531px\",\"stroke-width:4.660413824283704px\",\"stroke-width:20.0px\",\"\",\"stroke-width:19.344083032987033px\",\"stroke-width:20.0px\",\"stroke-width:16.84847078348464px\",\"stroke-width:8.032193289024988px\",\"\",\"stroke-width:18.516401995451027px\",\"stroke-width:17.728105208558368px\",\"stroke-width:20.0px\",\"stroke-width:16.035674514745462px\",\"\",\"stroke-width:20.0px\",\"stroke-width:0.0px\",\"stroke-width:0.0px\",\"stroke-width:0.0px\",\"\",\"stroke-width:14.142135623730951px\",\"stroke-width:20.0px\",\"stroke-width:14.142135623730951px\",\"stroke-width:0.0px\",\"\",\"stroke-width:9.291444196237663px\",\"stroke-width:7.197121726848806px\",\"stroke-width:20.0px\",\"stroke-width:6.785511437439768px\",\"\",\"stroke-width:20.0px\",\"stroke-width:14.142135623730951px\",\"stroke-width:14.142135623730951px\",\"stroke-width:14.142135623730951px\",\"\",\"stroke-width:11.881770515720092px\",\"stroke-width:12.833778958394957px\",\"stroke-width:15.339299776947408px\",\"stroke-width:20.0px\",\"\",\"stroke-width:16.32993161855452px\",\"stroke-width:11.547005383792515px\",\"stroke-width:20.0px\",\"stroke-width:0.0px\",\"\",\"stroke-width:14.552137502179978px\",\"stroke-width:16.449566416599485px\",\"stroke-width:20.0px\",\"stroke-width:14.142135623730951px\",\"\",\"stroke-width:7.302967433402214px\",\"stroke-width:7.6011695006609195px\",\"stroke-width:7.6011695006609195px\",\"stroke-width:20.0px\",\"\",\"stroke-width:NaNpx\",\"stroke-width:NaNpx\",\"stroke-width:NaNpx\",\"stroke-width:NaNpx\",\"\",\"stroke-width:14.142135623730951px\",\"stroke-width:20.0px\",\"stroke-width:14.142135623730951px\",\"stroke-width:14.142135623730951px\",\"\",\"stroke-width:20.0px\",\"stroke-width:14.373357526806554px\",\"stroke-width:7.844645405527362px\",\"stroke-width:18.277470669267508px\",\"\",\"stroke-width:3.578390427102734px\",\"stroke-width:3.8254602783800298px\",\"stroke-width:5.120499213467565px\",\"stroke-width:20.0px\",\"\",\"stroke-width:18.06827040818173px\",\"stroke-width:6.154917412650308px\",\"stroke-width:6.333357767631114px\",\"stroke-width:20.0px\",\"\",\"stroke-width:16.903085094570333px\",\"stroke-width:17.45743121887939px\",\"stroke-width:13.09307341415954px\",\"stroke-width:20.0px\",\"\",\"stroke-width:5.886057194025436px\",\"stroke-width:8.132756745622272px\",\"stroke-width:4.1620709563472476px\",\"stroke-width:20.0px\",\"\",\"stroke-width:14.142135623730951px\",\"stroke-width:20.0px\",\"stroke-width:14.142135623730951px\",\"stroke-width:0.0px\",\"\",\"stroke-width:15.61840024552797px\",\"stroke-width:4.858657981073496px\",\"stroke-width:4.435327625727437px\",\"stroke-width:20.0px\",\"\",\"stroke-width:20.0px\",\"stroke-width:20.0px\",\"stroke-width:20.0px\",\"stroke-width:16.32993161855452px\",\"\",\"stroke-width:10.174940381383365px\",\"stroke-width:5.313689313240571px\",\"stroke-width:3.9852669849304285px\",\"stroke-width:20.0px\",\"stroke-width:4.3876345447627845px\",\"stroke-width:6.540699401677285px\",\"stroke-width:5.850179393017045px\",\"stroke-width:20.0px\",\"\",\"stroke-width:9.799161395997169px\",\"stroke-width:3.6809424419131394px\",\"stroke-width:3.6809424419131394px\",\"stroke-width:20.0px\",\"\",\"stroke-width:20.0px\",\"stroke-width:20.0px\",\"stroke-width:20.0px\",\"stroke-width:20.0px\",\"\",\"stroke-width:14.142135623730951px\",\"stroke-width:20.0px\",\"stroke-width:20.0px\",\"stroke-width:14.142135623730951px\",\"\",\"stroke-width:20.0px\",\"stroke-width:0.0px\",\"stroke-width:0.0px\",\"stroke-width:0.0px\",\"\",\"stroke-width:20.0px\",\"stroke-width:20.0px\",\"stroke-width:20.0px\",\"stroke-width:20.0px\",\"\",\"stroke-width:7.111590022187596px\",\"stroke-width:7.111590022187596px\",\"stroke-width:4.54858826147342px\",\"stroke-width:20.0px\",\"\",\"stroke-width:9.325048082403137px\",\"stroke-width:20.0px\",\"stroke-width:11.03354568734741px\",\"stroke-width:9.325048082403137px\",\"\",\"stroke-width:20.0px\",\"stroke-width:0.0px\",\"stroke-width:0.0px\",\"stroke-width:0.0px\",\"\",\"stroke-width:14.605934866804429px\",\"stroke-width:20.0px\",\"stroke-width:13.662601021279464px\",\"stroke-width:14.605934866804429px\",\"\",\"stroke-width:NaNpx\",\"stroke-width:NaNpx\",\"stroke-width:NaNpx\",\"stroke-width:NaNpx\",\"\",\"stroke-width:NaNpx\",\"stroke-width:NaNpx\",\"stroke-width:NaNpx\",\"stroke-width:NaNpx\",\"\",\"stroke-width:19.215378456610456px\",\"stroke-width:20.0px\",\"stroke-width:19.215378456610456px\",\"stroke-width:17.541160386140582px\",\"\",\"stroke-width:NaNpx\",\"stroke-width:NaNpx\",\"stroke-width:NaNpx\",\"stroke-width:NaNpx\",\"\",\"stroke-width:16.832508230603466px\",\"stroke-width:18.55921454276674px\",\"stroke-width:17.950549357115012px\",\"stroke-width:20.0px\",\"\",\"stroke-width:7.669649888473704px\",\"stroke-width:8.043996665398437px\",\"stroke-width:20.0px\",\"stroke-width:10.289915108550531px\",\"\",\"stroke-width:15.811388300841898px\",\"stroke-width:17.32050807568877px\",\"stroke-width:17.32050807568877px\",\"stroke-width:20.0px\",\"\",\"stroke-width:20.0px\",\"stroke-width:15.491933384829668px\",\"stroke-width:20.0px\",\"stroke-width:15.491933384829668px\",\"\",\"stroke-width:17.32050807568877px\",\"stroke-width:20.0px\",\"stroke-width:15.811388300841898px\",\"stroke-width:15.811388300841898px\",\"\",\"stroke-width:20.0px\",\"stroke-width:20.0px\",\"stroke-width:0.0px\",\"stroke-width:0.0px\",\"\",\"stroke-width:20.0px\",\"stroke-width:18.01466907513964px\",\"stroke-width:17.803963942770487px\",\"stroke-width:14.274928542926595px\",\"\",\"stroke-width:11.825286397123062px\",\"stroke-width:20.0px\",\"stroke-width:14.760968086876572px\",\"stroke-width:5.702659485122011px\",\"\",\"stroke-width:17.32050807568877px\",\"stroke-width:20.0px\",\"stroke-width:18.257418583505537px\",\"stroke-width:16.32993161855452px\",\"\",\"stroke-width:20.0px\",\"stroke-width:15.24001524002286px\",\"stroke-width:17.597653802562395px\",\"stroke-width:17.227135384282178px\",\"\",\"stroke-width:20.0px\",\"stroke-width:18.516401995451027px\",\"stroke-width:18.516401995451027px\",\"stroke-width:18.516401995451027px\",\"\",\"stroke-width:20.0px\",\"stroke-width:0.0px\",\"stroke-width:0.0px\",\"stroke-width:0.0px\",\"\",\"stroke-width:20.0px\",\"stroke-width:20.0px\",\"stroke-width:0.0px\",\"stroke-width:0.0px\",\"\",\"stroke-width:12.974333637352375px\",\"stroke-width:13.662601021279464px\",\"stroke-width:12.714820748507101px\",\"stroke-width:20.0px\",\"\",\"stroke-width:16.32993161855452px\",\"stroke-width:20.0px\",\"stroke-width:16.32993161855452px\",\"stroke-width:20.0px\",\"\",\"stroke-width:20.0px\",\"stroke-width:4.095978752704274px\",\"stroke-width:3.639372626234195px\",\"stroke-width:6.577773800289154px\",\"\",\"stroke-width:20.0px\",\"stroke-width:1.96853614477436px\",\"stroke-width:1.6729340359028622px\",\"stroke-width:1.8559536759743642px\",\"\",\"stroke-width:18.257418583505537px\",\"stroke-width:18.257418583505537px\",\"stroke-width:20.0px\",\"stroke-width:17.32050807568877px\",\"\",\"stroke-width:20.0px\",\"stroke-width:0.0px\",\"stroke-width:0.0px\",\"stroke-width:0.0px\",\"\",\"stroke-width:20.0px\",\"stroke-width:20.0px\",\"stroke-width:0.0px\",\"stroke-width:0.0px\",\"\",\"stroke-width:20.0px\",\"stroke-width:11.547005383792515px\",\"stroke-width:11.547005383792515px\",\"stroke-width:11.547005383792515px\",\"\",\"stroke-width:20.0px\",\"stroke-width:16.73320053068151px\",\"stroke-width:18.973665961010276px\",\"stroke-width:15.491933384829668px\",\"\",\"stroke-width:3.7059284368966354px\",\"stroke-width:14.412679205769203px\",\"stroke-width:7.86146138496502px\",\"stroke-width:20.0px\",\"\",\"stroke-width:13.620104492139976px\",\"stroke-width:11.795356492391772px\",\"stroke-width:5.897678246195886px\",\"stroke-width:20.0px\",\"\",\"\",\"\",\"\",\"\",\"\",\"\",\"\",\"\",\"\",\"\",\"\",\"\"],\"title\":\"MCTS tree\"};\n",
       "        var rootID = 1-1;\n",
       "        var div = \"treevisIFRd980n\";\n",
       "        if (typeof $ === 'undefined') {\n",
       "    loadScript(\"https://code.jquery.com/jquery-3.1.1.min.js\", run)\n",
       "} else {\n",
       "    run()\n",
       "}\n",
       "\n",
       "function run() {\n",
       "    if (typeof d3 === 'undefined') {\n",
       "        loadScript(\"https://d3js.org/d3.v3.js\", showTree)\n",
       "    } else {\n",
       "        showTree()\n",
       "    }\n",
       "}\n",
       "\n",
       "function loadScript(url, callback)\n",
       "{\n",
       "    console.log(\"starting script load...\")\n",
       "    // Adding the script tag to the head as suggested before\n",
       "    var head = document.getElementsByTagName('head')[0];\n",
       "    var script = document.createElement('script');\n",
       "    script.type = 'text/javascript';\n",
       "    script.src = url;\n",
       "\n",
       "    // Then bind the event to the callback function.\n",
       "    // There are several events for cross browser compatibility.\n",
       "    script.onreadystatechange = callback;\n",
       "    script.onload = callback;\n",
       "\n",
       "    // Fire the loading\n",
       "    head.appendChild(script);\n",
       "}\n",
       "\n",
       "function showTree() {\n",
       "        \n",
       "    // var margin = {top: 20, right: 120, bottom: 20, left: 120},\n",
       "    var margin = {top: 20, right: 120, bottom: 80, left: 120},\n",
       "        width = $(\"#\"+div).width() - margin.right - margin.left,\n",
       "        height = 600 - margin.top - margin.bottom;\n",
       "        // TODO make height a parameter of TreeVisualizer\n",
       "\n",
       "    var i = 0,\n",
       "        duration = 750,\n",
       "        root;\n",
       "\n",
       "    var tree = d3.layout.tree()\n",
       "        .size([width, height]);\n",
       "\n",
       "    var diagonal = d3.svg.diagonal();\n",
       "        //.projection(function(d) { return [d.y, d.x]; });\n",
       "        // uncomment above to make the tree go horizontally\n",
       "\n",
       "    // see http://stackoverflow.com/questions/16265123/resize-svg-when-window-is-resized-in-d3-js\n",
       "    if (d3.select(\"#\"+div+\"_svg\").empty()) {\n",
       "        d3.select(\"#\"+div).append(\"svg\")\n",
       "            .attr(\"id\", div+\"_svg\")\n",
       "            .attr(\"width\", width + margin.right + margin.left)\n",
       "            .attr(\"height\", height + margin.top + margin.bottom);\n",
       "    }\n",
       "\n",
       "    d3.select(\"#\"+div+\"_svg\").selectAll(\"*\").remove();\n",
       "\n",
       "    var svg = d3.select(\"#\"+div+\"_svg\")\n",
       "        .append(\"g\")\n",
       "            .attr(\"transform\", \"translate(\" + margin.left + \",\" + margin.top + \")\");\n",
       "\n",
       "    // console.log(\"tree data:\");\n",
       "    // console.log(treeData[rootID]);\n",
       "    root = createDisplayNode(rootID);\n",
       "    root.x0 = width / 2;\n",
       "    root.y0 = 0;\n",
       "\n",
       "    update(root);\n",
       "    console.log(\"tree should appear\");\n",
       "\n",
       "    function createDisplayNode(id) {\n",
       "      var dnode = {\"dataID\":id,\n",
       "                   \"children\":null,\n",
       "                   \"_children\":null};\n",
       "      return dnode;\n",
       "    }\n",
       "\n",
       "    function initializeChildren(d) {\n",
       "      // create children\n",
       "      var children = treeData.children[d.dataID];\n",
       "      d.children = [];\n",
       "      if (children) {\n",
       "        for (var i = 0; i < children.length; i++) {\n",
       "          var cid = children[i]-1;\n",
       "          d.children.push(createDisplayNode(cid));\n",
       "        }\n",
       "      }\n",
       "    }\n",
       "\n",
       "    /**\n",
       "     * Recursively called to update each node in the tree.\n",
       "     * \n",
       "     * source is a d3 node that has position, etc.\n",
       "    */\n",
       "    function update(source) {\n",
       "\n",
       "      width = $(\"#\"+div).width() - margin.right - margin.left,\n",
       "      height = $(\"#\"+div).height() - margin.top - margin.bottom;\n",
       "\n",
       "      tree.size([width,height]);\n",
       "      d3.select(\"#\"+div).attr(\"width\", width + margin.right + margin.left)\n",
       "            .attr(\"height\", height + margin.top + margin.bottom);\n",
       "      d3.select(\"#\"+div+\"_svg\").attr(\"width\", width + margin.right + margin.left)\n",
       "             .attr(\"height\", height + margin.top + margin.bottom);\n",
       "\n",
       "\n",
       "      // Compute the new tree layout.\n",
       "      var nodes = tree.nodes(root).reverse(),\n",
       "          links = tree.links(nodes);\n",
       "\n",
       "\n",
       "      // Update the nodes…\n",
       "      var node = svg.selectAll(\"g.node\")\n",
       "          .data(nodes, function(d) { return d.id || (d.id = ++i); });\n",
       "\n",
       "      // Enter any new nodes at the parent's previous position.\n",
       "      var nodeEnter = node.enter().append(\"g\")\n",
       "          .attr(\"class\", \"node\")\n",
       "          .attr(\"transform\", function(d) { return \"translate(\" + source.x0 + \",\" + source.y0 + \")\"; })\n",
       "          .on(\"click\", click)\n",
       "\n",
       "      nodeEnter.append(\"circle\")\n",
       "          .attr(\"r\", \"10px\")\n",
       "          .attr(\"style\", function(d) { return treeData.style[d.dataID]; } )\n",
       "\n",
       "      var tbox = nodeEnter.append(\"text\")\n",
       "          .attr(\"y\", 25)\n",
       "          .attr(\"text-anchor\", \"middle\")\n",
       "          //.text( function(d) { return treeData.text[d.dataID]; } )\n",
       "          .style(\"fill-opacity\", 1e-6);\n",
       "\n",
       "      tbox.each( function(d) {\n",
       "          var el = d3.select(this)\n",
       "          var text = treeData.text[d.dataID];\n",
       "          var lines = text.split('\\n');\n",
       "          for (var i = 0; i < lines.length; i++) {\n",
       "              var tspan = el.append(\"tspan\").text(lines[i]);\n",
       "              if (i > 0) {\n",
       "                  tspan.attr(\"x\", 0).attr(\"dy\", \"1.2em\");\n",
       "              }\n",
       "          }\n",
       "      });\n",
       "\n",
       "      //tooltip\n",
       "      nodeEnter.append(\"title\").text( function(d) { return treeData.tooltip[d.dataID];} );\n",
       "\n",
       "      // Transition nodes to their new position.\n",
       "      var nodeUpdate = node.transition()\n",
       "          .duration(duration)\n",
       "          .attr(\"transform\", function(d) { return \"translate(\" + d.x + \",\" + d.y + \")\"; });\n",
       "\n",
       "      nodeUpdate.select(\"text\")\n",
       "          .style(\"fill-opacity\", 1);\n",
       "\n",
       "      // Transition exiting nodes to the parent's new position.\n",
       "      var nodeExit = node.exit().transition()\n",
       "          .duration(duration)\n",
       "          .attr(\"transform\", function(d) { return \"translate(\" + source.x + \",\" + source.y + \")\"; })\n",
       "          .remove();\n",
       "\n",
       "      nodeExit.select(\"text\")\n",
       "          .style(\"fill-opacity\", 1e-6);\n",
       "\n",
       "      // Update the links…\n",
       "      var link = svg.selectAll(\"path.link\")\n",
       "          .data(links, function(d) { return d.target.id; });\n",
       "\n",
       "      // Enter any new links at the parent's previous position.\n",
       "      // XXX link width should be based on transition data, not node data\n",
       "      link.enter().insert(\"path\", \"g\")\n",
       "          .attr(\"class\", \"link\")\n",
       "          .attr(\"style\", function(d) {\n",
       "              var ls = treeData.link_style[d.target.dataID];\n",
       "              return ls;\n",
       "          } )\n",
       "          .attr(\"d\", function(d) {\n",
       "            var o = {x: source.x0, y: source.y0};\n",
       "            return diagonal({source: o, target: o});\n",
       "          });\n",
       "\n",
       "      // Transition links to their new position.\n",
       "      link.transition()\n",
       "          .duration(duration)\n",
       "          .attr(\"d\", diagonal);\n",
       "\n",
       "      // Transition exiting nodes to the parent's new position.\n",
       "      link.exit().transition()\n",
       "          .duration(duration)\n",
       "          .attr(\"d\", function(d) {\n",
       "            var o = {x: source.x, y: source.y};\n",
       "            return diagonal({source: o, target: o});\n",
       "          })\n",
       "          .remove();\n",
       "\n",
       "      // Stash the old positions for transition.\n",
       "      nodes.forEach(function(d) {\n",
       "        d.x0 = d.x;\n",
       "        d.y0 = d.y;\n",
       "      });\n",
       "    }\n",
       "\n",
       "    // Toggle children on click.\n",
       "    function click(d) {\n",
       "      if (d.children) {\n",
       "        d._children = d.children;\n",
       "        d.children = null;\n",
       "      } else if (d._children) {\n",
       "        d.children = d._children;\n",
       "        d._children = null;\n",
       "      } else {\n",
       "        initializeChildren(d);\n",
       "      }\n",
       "      update(d);\n",
       "    }\n",
       "\n",
       "}\n",
       "\n",
       "        })();\n",
       "    </script>\n",
       "    </div>\n",
       "    </body>\n",
       "    </html>\n",
       "\n"
      ],
      "text/plain": [
       "GridWorldState(4, 1, false)\n",
       "N:   1624\n",
       "\n",
       "├──                       up\n",
       "│  Q:  -1.03\n",
       "│  N:     63\n",
       "\n",
       "│  ├──GridWorldState(3, 1, false)\n",
       "│  │  N:    550\n",
       "\n",
       "│  │  ├──                       up\n",
       "│  │  │  Q:  -0.04\n",
       "│  │  │  N:    101\n",
       " (3 children)\n",
       "│  │  ├──                     down\n",
       "│  │  │  Q:   0.00\n",
       "│  │  │  N:    112\n",
       " (1 children)\n",
       "│  │  ├──                     left\n",
       "│  │  │  Q:  -0.11\n",
       "│  │  │  N:     97\n",
       " (3 children)\n",
       "│  │  └──                    right\n",
       "│  │     Q:   0.93\n",
       "│  │     N:    240\n",
       " (3 children)\n",
       "│  ├──GridWorldState(4, 2, false)\n",
       "│  │  N:    398\n",
       "\n",
       "│  │  ├──                       up\n",
       "│  │  │  Q:  -7.23\n",
       "│  │  │  N:      8\n",
       " (3 children)\n",
       "│  │  ├──                     down\n",
       "│  │  │  Q:  -0.63\n",
       "│  │  │  N:    121\n",
       " (4 children)\n",
       "│  │  ├──                     left\n",
       "│  │  │  Q:  -2.62\n",
       "│  │  │  N:     36\n",
       " (4 children)\n",
       "│  │  └──                    right\n",
       "│  │     Q:   0.24\n",
       "│  │     N:    233\n",
       " (4 children)\n",
       "│  └──GridWorldState(5, 1, false)\n",
       "│     N:   1218\n",
       "\n",
       "│     ├──                       up\n",
       "│     │  Q:   1.86\n",
       "│     │  N:    222\n",
       " (3 children)\n",
       "│     ├──                     down\n",
       "│     │  Q:   0.00\n",
       "│     │  N:     58\n",
       " (1 children)\n",
       "│     ├──                     left\n",
       "│     │  Q:   0.42\n",
       "│     │  N:     67\n",
       " (3 children)\n",
       "│     └──                    right\n",
       "│        Q:   2.84\n",
       "│        N:    871\n",
       " (3 children)\n",
       "├──                     down\n",
       "│  Q:   0.00\n",
       "│  N:    140\n",
       "\n",
       "│  └──GridWorldState(4, 1, false)\n",
       "│     N:   1624\n",
       "\n",
       "│     ├──                       up\n",
       "│     │  Q:  -1.03\n",
       "│     │  N:     63\n",
       " (3 children)\n",
       "│     ├──                     down\n",
       "│     │  Q:   0.00\n",
       "│     │  N:    140\n",
       " (1 children)\n",
       "│     ├──                     left\n",
       "│     │  Q:  -0.17\n",
       "│     │  N:    112\n",
       " (3 children)\n",
       "│     └──                    right\n",
       "│        Q:   1.76\n",
       "│        N:   1309\n",
       " (3 children)\n",
       "├──                     left\n",
       "│  Q:  -0.17\n",
       "│  N:    112\n",
       "\n",
       "│  ├──GridWorldState(3, 1, false)\n",
       "│  │  N:    550\n",
       "\n",
       "│  │  ├──                       up\n",
       "│  │  │  Q:  -0.04\n",
       "│  │  │  N:    101\n",
       " (3 children)\n",
       "│  │  ├──                     down\n",
       "│  │  │  Q:   0.00\n",
       "│  │  │  N:    112\n",
       " (1 children)\n",
       "│  │  ├──                     left\n",
       "│  │  │  Q:  -0.11\n",
       "│  │  │  N:     97\n",
       " (3 children)\n",
       "│  │  └──                    right\n",
       "│  │     Q:   0.93\n",
       "│  │     N:    240\n",
       " (3 children)\n",
       "│  ├──GridWorldState(4, 2, false)\n",
       "│  │  N:    398\n",
       "\n",
       "│  │  ├──                       up\n",
       "│  │  │  Q:  -7.23\n",
       "│  │  │  N:      8\n",
       " (3 children)\n",
       "│  │  ├──                     down\n",
       "│  │  │  Q:  -0.63\n",
       "│  │  │  N:    121\n",
       " (4 children)\n",
       "│  │  ├──                     left\n",
       "│  │  │  Q:  -2.62\n",
       "│  │  │  N:     36\n",
       " (4 children)\n",
       "│  │  └──                    right\n",
       "│  │     Q:   0.24\n",
       "│  │     N:    233\n",
       " (4 children)\n",
       "│  └──GridWorldState(5, 1, false)\n",
       "│     N:   1218\n",
       "\n",
       "│     ├──                       up\n",
       "│     │  Q:   1.86\n",
       "│     │  N:    222\n",
       " (3 children)\n",
       "│     ├──                     down\n",
       "│     │  Q:   0.00\n",
       "│     │  N:     58\n",
       " (1 children)\n",
       "│     ├──                     left\n",
       "│     │  Q:   0.42\n",
       "│     │  N:     67\n",
       " (3 children)\n",
       "│     └──                    right\n",
       "│        Q:   2.84\n",
       "│        N:    871\n",
       " (3 children)\n",
       "└──                    right\n",
       "   Q:   1.76\n",
       "   N:   1309\n",
       "\n",
       "   ├──GridWorldState(3, 1, false)\n",
       "   │  N:    550\n",
       "\n",
       "   │  ├──                       up\n",
       "   │  │  Q:  -0.04\n",
       "   │  │  N:    101\n",
       " (3 children)\n",
       "   │  ├──                     down\n",
       "   │  │  Q:   0.00\n",
       "   │  │  N:    112\n",
       " (1 children)\n",
       "   │  ├──                     left\n",
       "   │  │  Q:  -0.11\n",
       "   │  │  N:     97\n",
       " (3 children)\n",
       "   │  └──                    right\n",
       "   │     Q:   0.93\n",
       "   │     N:    240\n",
       " (3 children)\n",
       "   ├──GridWorldState(4, 2, false)\n",
       "   │  N:    398\n",
       "\n",
       "   │  ├──                       up\n",
       "   │  │  Q:  -7.23\n",
       "   │  │  N:      8\n",
       " (3 children)\n",
       "   │  ├──                     down\n",
       "   │  │  Q:  -0.63\n",
       "   │  │  N:    121\n",
       " (4 children)\n",
       "   │  ├──                     left\n",
       "   │  │  Q:  -2.62\n",
       "   │  │  N:     36\n",
       " (4 children)\n",
       "   │  └──                    right\n",
       "   │     Q:   0.24\n",
       "   │     N:    233\n",
       " (4 children)\n",
       "   └──GridWorldState(5, 1, false)\n",
       "      N:   1218\n",
       "\n",
       "      ├──                       up\n",
       "      │  Q:   1.86\n",
       "      │  N:    222\n",
       " (3 children)\n",
       "      ├──                     down\n",
       "      │  Q:   0.00\n",
       "      │  N:     58\n",
       " (1 children)\n",
       "      ├──                     left\n",
       "      │  Q:   0.42\n",
       "      │  N:     67\n",
       " (3 children)\n",
       "      └──                    right\n",
       "         Q:   2.84\n",
       "         N:    871\n",
       " (3 children)\n"
      ]
     },
     "execution_count": 23,
     "metadata": {},
     "output_type": "execute_result"
    }
   ],
   "source": [
    "using D3Trees\n",
    "\n",
    "# first, run the planner on the state\n",
    "s = state_hist(hist)[1]\n",
    "a = action(planner, s)\n",
    "\n",
    "# show the tree (click the node to expand)\n",
    "D3Tree(planner, s)"
   ]
  },
  {
   "cell_type": "code",
   "execution_count": null,
   "metadata": {
    "collapsed": true
   },
   "outputs": [],
   "source": []
  }
 ],
 "metadata": {
  "anaconda-cloud": {},
  "kernelspec": {
   "display_name": "Julia 0.6.0",
   "language": "julia",
   "name": "julia-0.6"
  },
  "language_info": {
   "file_extension": ".jl",
   "mimetype": "application/julia",
   "name": "julia",
   "version": "0.6.0"
  }
 },
 "nbformat": 4,
 "nbformat_minor": 0
}
