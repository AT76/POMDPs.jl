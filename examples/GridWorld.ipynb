{
 "cells": [
  {
   "cell_type": "markdown",
   "metadata": {
    "slideshow": {
     "slide_type": "slide"
    }
   },
   "source": [
    "# Grid World Tutorial: POMDPs.jl for Complete Beginners"
   ]
  },
  {
   "cell_type": "markdown",
   "metadata": {
    "slideshow": {
     "slide_type": "slide"
    }
   },
   "source": [
    "In this tutorial, we try to provide a simple example of how to define a Markov decision process (MDP) problem using the [POMDPs.jl](https://github.com/sisl/POMDPs.jl) interface. After defining the problem in this way, you will be able to use the solvers that the interface supports. In this tutorial, we will show you how to use the value iteration and the Monte Carlo Tree Search solvers that the POMDPs.jl interface supports. We assume that you have some knowledge of basic programming, but are not necessarily familiar with all the features that exist in Julia. We try to cover the many language specific features used in POMDPs.jl in this tutorial. We do assume that you know the grid world problem, and are familiar with the formal defintion of the MDP.  Let's get started!"
   ]
  },
  {
   "cell_type": "markdown",
   "metadata": {},
   "source": [
    "## Dependencies\n",
    "You need to install a few modules in order to use this notebook. If you have all the modules below installed, great! If not run the following commands:\n"
   ]
  },
  {
   "cell_type": "markdown",
   "metadata": {
    "collapsed": false
   },
   "source": [
    "```julia\n",
    "# install the POMDPs.jl interface\n",
    "Pkg.add(\"POMDPs\")\n",
    "Pkg.add(\"POMDPToolbox\")\n",
    "```"
   ]
  },
  {
   "cell_type": "markdown",
   "metadata": {},
   "source": [
    "If you already have all of the modules above, make sure you have the most recent versions. Many of these are still under heavy development, so update before starting by running\n",
    "\n",
    "```julia\n",
    "Pkg.update()\n",
    "```"
   ]
  },
  {
   "cell_type": "code",
   "execution_count": 1,
   "metadata": {
    "collapsed": false,
    "slideshow": {
     "slide_type": "slide"
    }
   },
   "outputs": [],
   "source": [
    "# first import the POMDPs.jl interface\n",
    "using POMDPs\n",
    "\n",
    "# POMDPToolbox has some glue code to help us use Distributions.jl\n",
    "using POMDPToolbox"
   ]
  },
  {
   "cell_type": "markdown",
   "metadata": {},
   "source": [
    "## Problem Overview\n",
    "In Grid World, we are trying to control an agent who has trouble moving in the desired direction. In our problem, we have a four reward states on a $10\\times 10$ grid. Each position on the grid represents a state, and the positive reward states are terminal (the agent stops recieveing reward after reaching them). The agent has four actions to choose from: up, down, left, right. The agent moves in the desired direction with a probability of 0.7, and with a probability of 0.1 in each of the remaining three directions. The problem has the following form:\n",
    "![example](http://artint.info/figures/ch09/gridworldc.gif)"
   ]
  },
  {
   "cell_type": "markdown",
   "metadata": {},
   "source": [
    "## MDP Type\n",
    "\n",
    "In POMDPs.jl, an MDP is defined by creating a subtype of the `MDP` abstract type. The types of the states and actions for the MDP are declared as [parameters](https://docs.julialang.org/en/stable/manual/types/#Parametric-Types-1) of the `MDP` type.  For example, if our states and actions are both represented by integers we can define our MDP type in the following way:\n",
    "```julia\n",
    "type MyMDP <: MDP{Int64, Int64} # MDP{StateType, ActionType}\n",
    "\n",
    "end\n",
    "```\n",
    "`MyMDP` is a subtype from an abstract MDP type defined in POMDPs.jl. Let's first define types to represent grid worls states and actions, and then we'll go through defining our Grid World MDP type. "
   ]
  },
  {
   "cell_type": "markdown",
   "metadata": {
    "slideshow": {
     "slide_type": "slide"
    }
   },
   "source": [
    "## States\n",
    "The data container below represents the state of the agent in the grid world."
   ]
  },
  {
   "cell_type": "code",
   "execution_count": 2,
   "metadata": {
    "collapsed": true
   },
   "outputs": [],
   "source": [
    "struct GridWorldState \n",
    "    x::Int64 # x position\n",
    "    y::Int64 # y position\n",
    "    done::Bool # are we in a terminal state?\n",
    "end"
   ]
  },
  {
   "cell_type": "markdown",
   "metadata": {},
   "source": [
    "Below are some convenience functions for working with the GridWorldState. "
   ]
  },
  {
   "cell_type": "code",
   "execution_count": 3,
   "metadata": {
    "collapsed": false
   },
   "outputs": [
    {
     "data": {
      "text/plain": [
       "posequal (generic function with 1 method)"
      ]
     },
     "execution_count": 3,
     "metadata": {},
     "output_type": "execute_result"
    }
   ],
   "source": [
    "# initial state constructor\n",
    "GridWorldState(x::Int64, y::Int64) = GridWorldState(x,y,false)\n",
    "# checks if the position of two states are the same\n",
    "posequal(s1::GridWorldState, s2::GridWorldState) = s1.x == s2.x && s1.y == s2.y"
   ]
  },
  {
   "cell_type": "markdown",
   "metadata": {},
   "source": [
    "## Actions\n",
    "Since our action is simply the direction the agent chooses to go (i.e. up, down, left, right), we can use a Symbol to represent it. Symbols are essentially the same as strings, but they typically consist of only one word and literals begin with \"`:`\". See [this page](https://stackoverflow.com/questions/23480722/what-is-a-symbol-in-julia) for a techincal discussion of what they are. Note that in this case, we will not define a custom type for our action, instead we represent it directly with a symbol. So that our action looks like:\n",
    "```julia\n",
    "action = :up # can also be :down, :left, :right\n",
    "```"
   ]
  },
  {
   "cell_type": "markdown",
   "metadata": {},
   "source": [
    "## MDP\n",
    "The GridWorld data container is defined below. It holds all the information we need to define the MDP tuple $$(\\mathcal{S}, \\mathcal{A}, T, R).$$"
   ]
  },
  {
   "cell_type": "code",
   "execution_count": 4,
   "metadata": {
    "collapsed": true
   },
   "outputs": [],
   "source": [
    "# the grid world mdp type\n",
    "type GridWorld <: MDP{GridWorldState, Symbol} # Note that our MDP is parametarized by the state and the action\n",
    "    size_x::Int64 # x size of the grid\n",
    "    size_y::Int64 # y size of the grid\n",
    "    reward_states::Vector{GridWorldState} # the states in which agent recieves reward\n",
    "    reward_values::Vector{Float64} # reward values for those states\n",
    "    tprob::Float64 # probability of transitioning to the desired state\n",
    "    discount_factor::Float64 # disocunt factor\n",
    "end"
   ]
  },
  {
   "cell_type": "markdown",
   "metadata": {},
   "source": [
    "Before moving on, I want to create a constructor for GridWorld for convenience. Currently, if I want to create an instance of GridWorld, I have to pass in all of fields inside the GridWorld container (size_x, size_y, etc). The function below will return a GridWorld type with all the fields filled with some default values."
   ]
  },
  {
   "cell_type": "code",
   "execution_count": 5,
   "metadata": {
    "collapsed": false
   },
   "outputs": [
    {
     "data": {
      "text/plain": [
       "4-element Array{GridWorldState,1}:\n",
       " GridWorldState(4, 3, false)\n",
       " GridWorldState(4, 6, false)\n",
       " GridWorldState(9, 3, false)\n",
       " GridWorldState(8, 8, false)"
      ]
     },
     "execution_count": 5,
     "metadata": {},
     "output_type": "execute_result"
    }
   ],
   "source": [
    "# we use key worded arguments so we can change any of the values we pass in \n",
    "function GridWorld(;sx::Int64=10, # size_x\n",
    "                    sy::Int64=10, # size_y\n",
    "                    rs::Vector{GridWorldState}=[GridWorldState(4,3), GridWorldState(4,6), GridWorldState(9,3), GridWorldState(8,8)], # reward states\n",
    "                    rv::Vector{Float64}=rv = [-10.,-5,10,3], # reward values\n",
    "                    tp::Float64=0.7, # tprob\n",
    "                    discount_factor::Float64=0.9)\n",
    "    return GridWorld(sx, sy, rs, rv, tp, discount_factor)\n",
    "end\n",
    "\n",
    "# we can now create a GridWorld mdp instance like this:\n",
    "mdp = GridWorld()\n",
    "mdp.reward_states # mdp contains all the defualt values from the constructor"
   ]
  },
  {
   "cell_type": "markdown",
   "metadata": {},
   "source": [
    "## Spaces\n",
    "Let's look at how we can define the state and action spaces for our problem."
   ]
  },
  {
   "cell_type": "markdown",
   "metadata": {},
   "source": [
    "### State Space\n",
    "The state space in an MDP represents all the states in the problem. There are two primary functionalities that we want our spaces to support. We want to be able to iterate over the state space (for Value Iteration for example), and sometimes we want to be able to sample form the state space (used in some POMDP solvers). In this notebook, we will only look at iterable state spaces. "
   ]
  },
  {
   "cell_type": "markdown",
   "metadata": {},
   "source": [
    "Since we can iterate over elements of an array, and our problem is small, we can store all of our states in an array. If your problem is very large (tens of millions of states), it might be worthwhile to create a custom type to define the problem's state space. See [this](http://stackoverflow.com/questions/25028539/how-to-implement-an-iterator-in-julia) post on stackoverflow on making simple iterators. "
   ]
  },
  {
   "cell_type": "code",
   "execution_count": 6,
   "metadata": {
    "collapsed": true
   },
   "outputs": [],
   "source": [
    "function POMDPs.states(mdp::GridWorld)\n",
    "    s = GridWorldState[] # initialize an array of GridWorldStates\n",
    "    # loop over all our states, remeber there are two binary variables:\n",
    "    # done (d)\n",
    "    for d = 0:1, y = 1:mdp.size_y, x = 1:mdp.size_x\n",
    "        push!(s, GridWorldState(x,y,d))\n",
    "    end\n",
    "    return s\n",
    "end;"
   ]
  },
  {
   "cell_type": "markdown",
   "metadata": {},
   "source": [
    "Here, the code: ```function POMDPs.states(mdp::GridWorld)``` means that we want to take the function called ```states(...)``` from the POMDPs.jl module and add another method to it. The ```states(...)``` function in POMDPs.jl doesn't know about our GridWorld type. However, now when ```states(...)``` is called with GridWorld it will dispatch the function we defined above! This is the awesome thing about multiple-dispatch, and one of the features that should make working with MDP/POMDPs easier in Julia. \n",
    "\n",
    "The solvers that support the POMDPs.jl interface know that a function called ```states(...)``` exists in the interface. However, they do not know the behavior of that function for GridWorld. That means in order for the solvers to use this behavior all we have to do is pass an instance of our GridWorld type into the solver. When ```states(...)``` is called in the solver with the GridWorld type, the function above will be called.   "
   ]
  },
  {
   "cell_type": "code",
   "execution_count": 7,
   "metadata": {
    "collapsed": false
   },
   "outputs": [
    {
     "data": {
      "text/plain": [
       "GridWorldState(1, 1, false)"
      ]
     },
     "execution_count": 7,
     "metadata": {},
     "output_type": "execute_result"
    }
   ],
   "source": [
    "mdp = GridWorld()\n",
    "state_space = states(mdp);\n",
    "state_space[1]"
   ]
  },
  {
   "cell_type": "markdown",
   "metadata": {},
   "source": [
    "### Action Space"
   ]
  },
  {
   "cell_type": "markdown",
   "metadata": {},
   "source": [
    "The action space is the set of all actions availiable to the agent. In the grid world problem the action space consists of up, down, left, and right. We can define the action space by implementing a new method of the `actions` function."
   ]
  },
  {
   "cell_type": "code",
   "execution_count": 8,
   "metadata": {
    "collapsed": true
   },
   "outputs": [],
   "source": [
    "POMDPs.actions(mdp::GridWorld) = [:up, :down, :left, :right];"
   ]
  },
  {
   "cell_type": "markdown",
   "metadata": {},
   "source": [
    "Now that we've defined our state and action spaces, we are half-way thorugh our MDP tuple:\n",
    "$$\n",
    "(\\mathcal{S}, \\mathcal{A}, T, R)\n",
    "$$"
   ]
  },
  {
   "cell_type": "markdown",
   "metadata": {},
   "source": [
    "## Distributions"
   ]
  },
  {
   "cell_type": "markdown",
   "metadata": {},
   "source": [
    "Since MDPs are probabilistic models, we have to deal with probability distributions. In this section, we outline how to define probability distriubtions, and what tools are availiable to help you with the task."
   ]
  },
  {
   "cell_type": "markdown",
   "metadata": {},
   "source": [
    "### Transition Distribution "
   ]
  },
  {
   "cell_type": "markdown",
   "metadata": {},
   "source": [
    "If you are familiar with MDPs, you know that the transition function $T(s' \\mid s, a)$ captures the dynamics of the system. Specifically, $T(s' \\mid s, a)$ is a real value that defines the probabiltiy of transitioning to state $s'$ given that you took action $a$ in state $s$. The transition distirubtion $T(\\cdot \\mid s, a)$ is a slightly different construct. This is the actual distribution over the states that our agent can reach given that its in state $s$ and took action $a$. In other words this is the distribution over $s'$. \n",
    "\n",
    "For this grid world example there are only a few states that the agent can transition to, so there are only a few states that have nonzero probability in $T(\\cdot \\mid s, a)$. Thus, we will use the sparse [categorical distribution](https://en.wikipedia.org/wiki/Categorical_distribution) (`SparseCat`) from POMDPToolbox. [Distributions.jl](https://github.com/JuliaStats/Distributions.jl) also contains some distributions, but in many cases, a custom distribution type will need to be defined - see [the source code for `SparseCat`](https://github.com/JuliaPOMDP/POMDPToolbox.jl/blob/master/src/distributions/sparse_cat.jl) for an example.\n",
    "\n",
    "A `SparseCat` object contains a vector of states and an associated vector of their probabilities. The probabilities of all other states are implied to be zero."
   ]
  },
  {
   "cell_type": "markdown",
   "metadata": {},
   "source": [
    "## Transition Model"
   ]
  },
  {
   "cell_type": "markdown",
   "metadata": {},
   "source": [
    "In this section we will define the system dynamics of the gird world MDP. In POMDPs.jl, we work with transition distirbution functions $T(s' \\mid s, a)$, so we want to write a function that can generate the transition distributions over $s'$ for us given an $(s, a)$ pair. "
   ]
  },
  {
   "cell_type": "markdown",
   "metadata": {},
   "source": [
    "In grid world, the dynamics of the system are fairly simple. We move in the specified direction with some pre-defined probability. This is the `tprob` parameter in our GridWorld MDP (it is set to 0.7 in the DMU book example). If we get to state with a positive reward, we've reached a terminal state and can no longer accumulate reward."
   ]
  },
  {
   "cell_type": "markdown",
   "metadata": {},
   "source": [
    "In the transition function we want to fill the neighbors in our distribution d with the reachable states from the state, action pair. We want to fill the probs in our distirbution d with the probabilities of reaching that neighbor. "
   ]
  },
  {
   "cell_type": "code",
   "execution_count": 9,
   "metadata": {
    "collapsed": true
   },
   "outputs": [],
   "source": [
    "# transition helpers\n",
    "function inbounds(mdp::GridWorld,x::Int64,y::Int64)\n",
    "    if 1 <= x <= mdp.size_x && 1 <= y <= mdp.size_y\n",
    "        return true\n",
    "    else\n",
    "        return false\n",
    "    end\n",
    "end\n",
    "\n",
    "inbounds(mdp::GridWorld, state::GridWorldState) = inbounds(mdp, state.x, state.y);"
   ]
  },
  {
   "cell_type": "code",
   "execution_count": 10,
   "metadata": {
    "collapsed": true
   },
   "outputs": [],
   "source": [
    "function POMDPs.transition(mdp::GridWorld, state::GridWorldState, action::Symbol)\n",
    "    a = action\n",
    "    x = state.x\n",
    "    y = state.y\n",
    "    \n",
    "    if state.done\n",
    "        return SparseCat([GridWorldState(x, y, true)], [1.0])\n",
    "    elseif state in mdp.reward_states\n",
    "        return SparseCat([GridWorldState(x, y, true)], [1.0])\n",
    "    end\n",
    "\n",
    "    neighbors = [\n",
    "        GridWorldState(x+1, y, false), # right\n",
    "        GridWorldState(x-1, y, false), # left\n",
    "        GridWorldState(x, y-1, false), # down\n",
    "        GridWorldState(x, y+1, false), # up\n",
    "        ] # See Performance Note below\n",
    "    \n",
    "    targets = Dict(:right=>1, :left=>2, :down=>3, :up=>4) # See Performance Note below\n",
    "    target = targets[a]\n",
    "    \n",
    "    probability = fill(0.0, 4)\n",
    "\n",
    "    if !inbounds(mdp, neighbors[target])\n",
    "        # If would transition out of bounds, stay in\n",
    "        # same cell with probability 1\n",
    "        return SparseCat([GridWorldState(x, y)], [1.0])\n",
    "    else\n",
    "        probability[target] = mdp.tprob\n",
    "\n",
    "        oob_count = sum(!inbounds(mdp, n) for n in neighbors) # number of out of bounds neighbors\n",
    "\n",
    "        new_probability = (1.0 - mdp.tprob)/(3-oob_count)\n",
    "\n",
    "        for i = 1:4 # do not include neighbor 5\n",
    "            if inbounds(mdp, neighbors[i]) && i != target\n",
    "                probability[i] = new_probability\n",
    "            end\n",
    "        end\n",
    "    end\n",
    "\n",
    "    return SparseCat(neighbors, probability)\n",
    "end;"
   ]
  },
  {
   "cell_type": "markdown",
   "metadata": {},
   "source": [
    "> Performance Note: It is inefficient to create mutable objects like dictionaries and vectors in low-level code like the `transition` function because it requires dynamic memory allocation. This code is written for clarity rather than speed. Better speed could be realized by putting the Dict in the mdp object or using if statements instead, and replacing the vector with a [`StaticArrays.Svector`](https://github.com/JuliaArrays/StaticArrays.jl). However, a much more important consideration for performance is [type stability](https://en.wikibooks.org/wiki/Introducing_Julia/Types#Type_stability), which this function maintains because it always returns a `SparseCat{Vector{GridWorldState},Vector{Float64}}` object."
   ]
  },
  {
   "cell_type": "markdown",
   "metadata": {},
   "source": [
    "## Reward Model\n",
    "The reward model $R(s,a,s')$ is a function that returns the reward of being in state $s$, taking an action $a$ from that state, and ending up in state $s'$. In our problem, we are rewarded for reaching a terimanl reward state (this could be positive or negative)."
   ]
  },
  {
   "cell_type": "code",
   "execution_count": 11,
   "metadata": {
    "collapsed": true
   },
   "outputs": [],
   "source": [
    "function POMDPs.reward(mdp::GridWorld, state::GridWorldState, action::Symbol, statep::GridWorldState) #deleted action\n",
    "    if state.done\n",
    "        return 0.0\n",
    "    end\n",
    "    r = 0.0\n",
    "    n = length(mdp.reward_states)\n",
    "    for i = 1:n\n",
    "        if posequal(state, mdp.reward_states[i])\n",
    "            r += mdp.reward_values[i]\n",
    "        end\n",
    "    end\n",
    "    return r\n",
    "end;\n"
   ]
  },
  {
   "cell_type": "markdown",
   "metadata": {},
   "source": [
    "## Miscallenous Functions\n",
    "We are almost done! Just a few simple functions left. First let's implement two functions that return the sizes of our state and action spaces."
   ]
  },
  {
   "cell_type": "code",
   "execution_count": 12,
   "metadata": {
    "collapsed": true
   },
   "outputs": [],
   "source": [
    "POMDPs.n_states(mdp::GridWorld) = 2*mdp.size_x*mdp.size_y\n",
    "POMDPs.n_actions(mdp::GridWorld) = 4"
   ]
  },
  {
   "cell_type": "markdown",
   "metadata": {},
   "source": [
    "Now, we implement the discount function."
   ]
  },
  {
   "cell_type": "code",
   "execution_count": 13,
   "metadata": {
    "collapsed": true
   },
   "outputs": [],
   "source": [
    "POMDPs.discount(mdp::GridWorld) = mdp.discount_factor;"
   ]
  },
  {
   "cell_type": "markdown",
   "metadata": {},
   "source": [
    "The last thing we need is indexing functions. This allows us to index between the discrete utility array and the states and actions in our problem. We will use the ```sub2ind()``` function from Julia base to help us here."
   ]
  },
  {
   "cell_type": "code",
   "execution_count": 14,
   "metadata": {
    "collapsed": true
   },
   "outputs": [],
   "source": [
    "function POMDPs.state_index(mdp::GridWorld, state::GridWorldState)\n",
    "    sd = Int(state.done + 1)\n",
    "    return sub2ind((mdp.size_x, mdp.size_y, 2), state.x, state.y, sd)\n",
    "end\n",
    "function POMDPs.action_index(mdp::GridWorld, act::Symbol)\n",
    "    if act==:up\n",
    "        return 1\n",
    "    elseif act==:down\n",
    "        return 2\n",
    "    elseif act==:left\n",
    "        return 3\n",
    "    elseif act==:right\n",
    "        return 4\n",
    "    end\n",
    "    error(\"Invalid GridWorld action: $act\")\n",
    "end;"
   ]
  },
  {
   "cell_type": "markdown",
   "metadata": {},
   "source": [
    "Finally let's define a function that checks if a state is terminal."
   ]
  },
  {
   "cell_type": "code",
   "execution_count": 15,
   "metadata": {
    "collapsed": true
   },
   "outputs": [],
   "source": [
    "POMDPs.isterminal(mdp::GridWorld, s::GridWorldState) = s.done"
   ]
  },
  {
   "cell_type": "markdown",
   "metadata": {},
   "source": [
    "# Simulations\n",
    "\n",
    "Now that we have defined the problem, we should simulate it to see it working. The funcion `sim(::MDP)` from `POMDPToolbox` provides a convenient `do` block syntax for exploring the behavior of the mdp. The `do` block receives the state as the argument and should return an action. In this way it acts as a \"hook\" into the simulation and allows quick ad-hoc policies to be defined."
   ]
  },
  {
   "cell_type": "code",
   "execution_count": 16,
   "metadata": {
    "collapsed": false
   },
   "outputs": [
    {
     "name": "stdout",
     "output_type": "stream",
     "text": [
      "state is: GridWorldState(4, 1, false)\n",
      "moving right\n",
      "state is: GridWorldState(5, 1, false)\n",
      "moving right\n",
      "state is: GridWorldState(6, 1, false)\n",
      "moving right\n",
      "state is: GridWorldState(7, 1, false)\n",
      "moving right\n",
      "state is: GridWorldState(8, 1, false)\n",
      "moving right\n",
      "state is: GridWorldState(9, 1, false)\n",
      "moving right\n",
      "state is: GridWorldState(10, 1, false)\n",
      "moving right\n",
      "state is: GridWorldState(10, 1, false)\n",
      "moving right\n",
      "state is: GridWorldState(10, 1, false)\n",
      "moving right\n",
      "state is: GridWorldState(10, 1, false)\n",
      "moving right\n"
     ]
    }
   ],
   "source": [
    "mdp = GridWorld()\n",
    "mdp.tprob=1.0\n",
    "sim(mdp, GridWorldState(4,1), max_steps=10) do s\n",
    "    println(\"state is: $s\")\n",
    "    a = :right\n",
    "    println(\"moving $a\")\n",
    "    return a\n",
    "end;"
   ]
  },
  {
   "cell_type": "markdown",
   "metadata": {},
   "source": [
    "## Value Iteration Solver"
   ]
  },
  {
   "cell_type": "markdown",
   "metadata": {},
   "source": [
    "Value iteration is a dynamic porgramming apporach for solving MDPs. See the [wikipedia](https://en.wikipedia.org/wiki/Markov_decision_process#Value_iteration) article for a brief explanation. The solver can be found [here](https://github.com/JuliaPOMDP/DiscreteValueIteration.jl). If you haven't isntalled the solver yet, you can run the following from the Julia REPL to download the module."
   ]
  },
  {
   "cell_type": "markdown",
   "metadata": {},
   "source": [
    "```julia\n",
    "POMDPs.add(\"DiscreteValueIteration\")\n",
    "```"
   ]
  },
  {
   "cell_type": "markdown",
   "metadata": {},
   "source": [
    "Each POMDPs.jl solver provides two data types for you to interface with. The first is the Solver type which contains solver parameters. The second is the Policy type. Let's see hwo we can use them to get an optimal action at a given state."
   ]
  },
  {
   "cell_type": "code",
   "execution_count": 17,
   "metadata": {
    "collapsed": false,
    "scrolled": false
   },
   "outputs": [
    {
     "name": "stdout",
     "output_type": "stream",
     "text": [
      "[Iteration 1   ] residual:         10 | iteration runtime:      0.391 ms, (  0.000391 s total)\n",
      "[Iteration 2   ] residual:        6.3 | iteration runtime:      0.386 ms, (  0.000776 s total)\n",
      "[Iteration 3   ] residual:       4.54 | iteration runtime:      0.352 ms, (   0.00113 s total)\n",
      "[Iteration 4   ] residual:       3.39 | iteration runtime:      0.346 ms, (   0.00147 s total)\n",
      "[Iteration 5   ] residual:       2.57 | iteration runtime:      0.359 ms, (   0.00183 s total)\n",
      "[Iteration 6   ] residual:       1.92 | iteration runtime:      0.372 ms, (   0.00221 s total)\n",
      "[Iteration 7   ] residual:       1.39 | iteration runtime:      0.383 ms, (   0.00259 s total)\n",
      "[Iteration 8   ] residual:       1.07 | iteration runtime:      0.371 ms, (   0.00296 s total)\n",
      "[Iteration 9   ] residual:      0.861 | iteration runtime:      0.416 ms, (   0.00338 s total)\n",
      "[Iteration 10  ] residual:      0.662 | iteration runtime:      0.371 ms, (   0.00375 s total)\n",
      "[Iteration 11  ] residual:      0.489 | iteration runtime:      0.379 ms, (   0.00413 s total)\n",
      "[Iteration 12  ] residual:      0.405 | iteration runtime:      0.370 ms, (   0.00449 s total)\n",
      "[Iteration 13  ] residual:      0.341 | iteration runtime:      0.370 ms, (   0.00486 s total)\n",
      "[Iteration 14  ] residual:      0.244 | iteration runtime:      0.384 ms, (   0.00525 s total)\n",
      "[Iteration 15  ] residual:      0.166 | iteration runtime:      0.388 ms, (   0.00564 s total)\n",
      "[Iteration 16  ] residual:      0.106 | iteration runtime:      0.405 ms, (   0.00604 s total)\n",
      "[Iteration 17  ] residual:     0.0638 | iteration runtime:      0.379 ms, (   0.00642 s total)\n",
      "[Iteration 18  ] residual:     0.0369 | iteration runtime:      0.384 ms, (    0.0068 s total)\n",
      "[Iteration 19  ] residual:     0.0208 | iteration runtime:      0.403 ms, (   0.00721 s total)\n",
      "[Iteration 20  ] residual:     0.0115 | iteration runtime:      0.390 ms, (    0.0076 s total)\n",
      "[Iteration 21  ] residual:    0.00621 | iteration runtime:      0.370 ms, (   0.00797 s total)\n",
      "[Iteration 22  ] residual:    0.00333 | iteration runtime:      0.383 ms, (   0.00835 s total)\n",
      "[Iteration 23  ] residual:    0.00177 | iteration runtime:      0.417 ms, (   0.00877 s total)\n",
      "[Iteration 24  ] residual:   0.000934 | iteration runtime:      0.410 ms, (   0.00918 s total)\n"
     ]
    }
   ],
   "source": [
    "# first let's load the value iteration module\n",
    "using DiscreteValueIteration\n",
    "\n",
    "# initialize the problem\n",
    "mdp = GridWorld()\n",
    "\n",
    "# initialize the solver\n",
    "# max_iterations: maximum number of iterations value iteration runs for (default is 100)\n",
    "# belres: the value of Bellman residual used in the solver (defualt is 1e-3)\n",
    "solver = ValueIterationSolver(max_iterations=100, belres=1e-3)\n",
    "\n",
    "# initialize the policy by passing in your problem\n",
    "policy = ValueIterationPolicy(mdp) \n",
    "\n",
    "# solve for an optimal policy\n",
    "# if verbose=false, the text output will be supressed (false by default)\n",
    "solve(solver, mdp, policy, verbose=true);"
   ]
  },
  {
   "cell_type": "markdown",
   "metadata": {},
   "source": [
    "Now, we can use the policy along with the ```action(...)``` function to get the optimal action in a given state."
   ]
  },
  {
   "cell_type": "code",
   "execution_count": 18,
   "metadata": {
    "collapsed": false
   },
   "outputs": [
    {
     "data": {
      "text/plain": [
       ":up"
      ]
     },
     "execution_count": 18,
     "metadata": {},
     "output_type": "execute_result"
    }
   ],
   "source": [
    "# say we are in state (9,2)\n",
    "s = GridWorldState(9,2)\n",
    "a = action(policy, s)"
   ]
  },
  {
   "cell_type": "markdown",
   "metadata": {},
   "source": [
    "Remeber that the state (9,3) has an immediate reward of +10.0, so the policy we found is moving up as expected!"
   ]
  },
  {
   "cell_type": "code",
   "execution_count": 19,
   "metadata": {
    "collapsed": false
   },
   "outputs": [
    {
     "data": {
      "text/plain": [
       ":right"
      ]
     },
     "execution_count": 19,
     "metadata": {},
     "output_type": "execute_result"
    }
   ],
   "source": [
    "s = GridWorldState(8,3)\n",
    "a = action(policy, s)"
   ]
  },
  {
   "cell_type": "markdown",
   "metadata": {},
   "source": [
    "![description](files/gw.jpg)"
   ]
  },
  {
   "cell_type": "markdown",
   "metadata": {},
   "source": [
    "## Monte-Carlo Tree Search Solver\n",
    "Monte-Carlo Tree Search (MCTS) is another MDP solver. It is an online method that looks for the best action from only the current state by building a search tree. A nice overview of MCTS can be found [here](http://pubs.doc.ic.ac.uk/survey-mcts-methods/survey-mcts-methods.pdf). Run the following command to donwload the module\n",
    "\n"
   ]
  },
  {
   "cell_type": "markdown",
   "metadata": {},
   "source": [
    "```julia\n",
    "POMDPs.add(\"MCTS\")\n",
    "```"
   ]
  },
  {
   "cell_type": "markdown",
   "metadata": {},
   "source": [
    "Let's quickly run through an example of using the solver:"
   ]
  },
  {
   "cell_type": "code",
   "execution_count": 20,
   "metadata": {
    "collapsed": false,
    "scrolled": true
   },
   "outputs": [
    {
     "name": "stderr",
     "output_type": "stream",
     "text": [
      "\u001b[1m\u001b[36mINFO: \u001b[39m\u001b[22m\u001b[36mLoading HttpServer methods...\n",
      "\u001b[39m"
     ]
    },
    {
     "data": {
      "text/plain": [
       ":up"
      ]
     },
     "execution_count": 20,
     "metadata": {},
     "output_type": "execute_result"
    }
   ],
   "source": [
    "using MCTS\n",
    "\n",
    "# initialize the problem\n",
    "mdp = GridWorld()\n",
    "\n",
    "# initialize the solver with hyper parameters\n",
    "# n_iterations: the number of iterations that each search runs for\n",
    "# depth: the depth of the tree (how far away from the current state the algorithm explores)\n",
    "# exploration constant: this is how much weight to put into exploratory actions. \n",
    "# A good rule of thumb is to set the exploration constant to what you expect the upper bound on your average expected reward to be.\n",
    "solver = MCTSSolver(n_iterations=1000,\n",
    "                    depth=20,\n",
    "                    exploration_constant=10.0,\n",
    "                    enable_tree_vis=true)\n",
    "\n",
    "# initialize the planner by calling the `solve` function. For online solvers, the \n",
    "planner = solve(solver, mdp)\n",
    "\n",
    "# to get the action:\n",
    "s = GridWorldState(9,2)\n",
    "a = action(planner, s)"
   ]
  },
  {
   "cell_type": "markdown",
   "metadata": {
    "collapsed": true
   },
   "source": [
    "Let's simulate using the planner to determine a good action at each timestep."
   ]
  },
  {
   "cell_type": "code",
   "execution_count": 21,
   "metadata": {
    "collapsed": false
   },
   "outputs": [
    {
     "name": "stdout",
     "output_type": "stream",
     "text": [
      "Total discounted reward: 2.5418658283290014\n"
     ]
    }
   ],
   "source": [
    "# we'll use POMDPToolbox for simulation\n",
    "using POMDPToolbox # if you don't have this module install it by running POMDPs.add(\"POMDPToolbox\")\n",
    "\n",
    "s = GridWorldState(4,1) # this is our starting state\n",
    "hist = HistoryRecorder(max_steps=1000)\n",
    "\n",
    "hist = simulate(hist, mdp, policy, s)\n",
    "\n",
    "println(\"Total discounted reward: $(discounted_reward(hist))\")"
   ]
  },
  {
   "cell_type": "markdown",
   "metadata": {},
   "source": [
    "Now we can view the state-action history using the `eachstep` funciton."
   ]
  },
  {
   "cell_type": "code",
   "execution_count": 22,
   "metadata": {
    "collapsed": false
   },
   "outputs": [
    {
     "name": "stdout",
     "output_type": "stream",
     "text": [
      "s: GridWorldState(4, 1, false)  a: right   s': GridWorldState(4, 2, false)\n",
      "s: GridWorldState(4, 2, false)  a: right   s': GridWorldState(4, 1, false)\n",
      "s: GridWorldState(4, 1, false)  a: right   s': GridWorldState(5, 1, false)\n",
      "s: GridWorldState(5, 1, false)  a: right   s': GridWorldState(6, 1, false)\n",
      "s: GridWorldState(6, 1, false)  a: right   s': GridWorldState(7, 1, false)\n",
      "s: GridWorldState(7, 1, false)  a: right   s': GridWorldState(8, 1, false)\n",
      "s: GridWorldState(8, 1, false)  a: up      s': GridWorldState(8, 2, false)\n",
      "s: GridWorldState(8, 2, false)  a: right   s': GridWorldState(8, 1, false)\n",
      "s: GridWorldState(8, 1, false)  a: up      s': GridWorldState(8, 2, false)\n",
      "s: GridWorldState(8, 2, false)  a: right   s': GridWorldState(9, 2, false)\n",
      "s: GridWorldState(9, 2, false)  a: up      s': GridWorldState(8, 2, false)\n",
      "s: GridWorldState(8, 2, false)  a: right   s': GridWorldState(9, 2, false)\n",
      "s: GridWorldState(9, 2, false)  a: up      s': GridWorldState(9, 3, false)\n",
      "s: GridWorldState(9, 3, false)  a: up      s': GridWorldState(9, 3, true)\n"
     ]
    }
   ],
   "source": [
    "for (s, a, sp) in eachstep(hist, \"s,a,sp\")\n",
    "    @printf(\"s: %-26s  a: %-6s  s': %-26s\\n\", s, a, sp)\n",
    "end"
   ]
  },
  {
   "cell_type": "markdown",
   "metadata": {},
   "source": [
    "To see what the planner is doing, we can look at the tree created when it plans at a particular state, for example, the first state in the history."
   ]
  },
  {
   "cell_type": "code",
   "execution_count": 23,
   "metadata": {
    "collapsed": false
   },
   "outputs": [
    {
     "data": {
      "text/html": [
       "    <!DOCTYPE html>\n",
       "    <html>\n",
       "    <head>\n",
       "        <meta charset=\"UTF-8\">\n",
       "        <title>MCTS tree</title>\n",
       "    </head>\n",
       "    <body>\n",
       "    <div id=\"treevis2P0c89lY\">\n",
       "    <style>\n",
       "        \n",
       ".node {\n",
       "    cursor: pointer;\n",
       "}\n",
       "\n",
       ".node circle {\n",
       "\t  fill: #fff;\n",
       "\t  stroke: steelblue;\n",
       "\t  stroke-width: 3px;\n",
       "      r: 10;\n",
       "}\n",
       "\n",
       ".node rect {\n",
       "\t  fill: #fff;\n",
       "\t  stroke: steelblue;\n",
       "\t  stroke-width: 3px;\n",
       "      x: -10;\n",
       "      y: -10;\n",
       "      width: 20;\n",
       "      height: 20;\n",
       "}\n",
       "\n",
       ".node path {\n",
       "    fill: #ffffff;\n",
       "    /* stroke: steelblue; */\n",
       "    stroke-width: 2px;\n",
       "}\n",
       ".node text {\n",
       "    font-family: Arial, Helvetica, sans-serif;\n",
       "    font-style: normal;\n",
       "    font-size: 12px;\n",
       "}\n",
       ".link /* path */ {\n",
       "    fill: none;\n",
       "    stroke: #cccccc;\n",
       "    stroke-width: 2px;\n",
       "}\n",
       ".link text {\n",
       "    font-family: Arial, Helvetica, sans-serif;\n",
       "    font-style: normal;\n",
       "    font-size: 12px;\n",
       "}\n",
       ".hover text{\n",
       "    font-family: Arial, Helvetica, sans-serif;\n",
       "    font-style: normal;\n",
       "    font-size: 12px;\n",
       "}\n",
       "\n",
       "/*\n",
       ".svg-container {\n",
       "    display: inline-block;\n",
       "    position: relative;\n",
       "    width: 100%;\n",
       "    padding-bottom: 100%;\n",
       "    vertical-align: top;\n",
       "    overflow: hidden;\n",
       "}\n",
       ".svg-content-responsive {\n",
       "    display: inline-block;\n",
       "    position: absolute;\n",
       "    top: 10px;\n",
       "    left: 0;\n",
       "}\n",
       "*/\n",
       "\n",
       "    </style>\n",
       "    <script>\n",
       "       (function(){\n",
       "        var treeData = {\"children\":[[257,258,259,260],[3,4,5,6],[27,142,117,356],[117,142,356,27],[142,117,27],[356,142,117,27],[8,9,10,11],[147],[147,57],[7],[346,147],[13,14,15,16],[271,217,172,247],[271,217,172,247],[271,217,172,247],[271,217,172,247],[18,19,20,21],[311],[346,147],[311],[],[23,24,25,26],[152,296,157,77],[152,157,296,77],[152,157,296,77],[152,296,157,77],[28,29,30,31],[2,232,137],[281,2,232],[232],[281,2,232,137],[33,34,35,36],[351],[202,291],[102],[291,351],[38,39,40,41],[],[],[],[],[43,44,45,46],[326,62,122],[42],[326,62,122],[326,62,122],[48,49,50,51],[281,1,122],[47],[281,1,122],[281,1,122],[53,54,55,56],[336,62,242],[52],[336,62,242],[336,62,242],[58,59,60,61],[341,7,222],[341,7,222],[57],[341,7,222],[63,64,65,66],[42,112,52],[62],[42,112,52],[42,112,52],[68,69,70,71],[192,162,197],[197,222],[192,222],[192,162,197,222],[73,74,75,76],[266],[252],[331],[266],[78,79,80,81],[227,22,197,177],[227,22,197,177],[227,22,197,177],[227,22,197,177],[83,84,85,86],[],[],[],[],[88,89,90,91],[],[],[],[],[93,94,95,96],[217,276,187],[217,276,247,187],[217,276,247,187],[247,276,187],[98,99,100,101],[207,286],[207,286,252],[207,286,252],[97],[103,104,105,106],[361],[],[],[],[108,109,110,111],[],[],[],[],[113,114,115,116],[326,172,62,242],[326,62,242,172],[326,62,242,172],[326,172,242,62],[118,119,120,121],[2,137,217,276],[2,137,217,276],[2,137,217,276],[2,137,217,276],[123,124,125,126],[47,42,356],[122],[47,42,356],[47,42,356],[128,129,130,131],[],[],[],[],[133,134,135,136],[207,182],[207,306],[207,306,182],[132],[138,139,140,141],[202,162,117],[202,162,117,27],[162],[202,162,117],[143,144,145,146],[2,326,217,172],[2,326,217,172],[2,326,217,172],[2,326,217,172],[148,149,150,151],[301],[17,7],[],[],[153,154,155,156],[227,22,212],[152],[227,22,212],[227,22,212],[158,159,160,161],[341,22,212],[341,22,212],[157],[341,22,212],[163,164,165,166],[237,232],[232,137],[137,67],[232,137],[168,169,170,171],[],[],[],[],[173,174,175,176],[142,112,12,182],[142,112,12],[142,112,12],[142,112,182,12],[178,179,180,181],[281,232,77],[281,1,232,77],[281,1,232,77],[281,1,232,77],[183,184,185,186],[362],[363],[364],[365],[188,189,190,191],[321],[331,92],[291,321],[291,331],[193,194,195,196],[237,67,316],[237,67],[237,346,67],[237,346,67,316],[198,199,200,201],[296,232,67,77],[232,77],[296,232,67,77],[296,232,67,77],[203,204,205,206],[32,137,276],[32,237,137,276],[237,137,276],[237,137,276],[208,209,210,211],[132,271,97],[132,271,97],[271,97],[207],[213,214,215,216],[157,152],[212],[212],[152,157],[218,219,220,221],[142,12,117,92],[142,12,117,92],[142,12,117,92],[142,12,117,92],[223,224,225,226],[296,346,57],[296,67],[296,57],[296,346,67],[228,229,230,231],[152,1,77],[227],[152,1,77],[152,1,77],[233,234,235,236],[366],[367],[368],[369],[238,239,240,241],[192,102],[162],[192,162],[202],[243,244,245,246],[306,52,182,112],[306,52,112],[112,52,306],[306,112,52],[248,249,250,251],[331,12],[331,12,92],[252,331,12,92],[252,331,92],[253,254,255,256],[72,97],[271,72,97],[271,247,72,97],[271,97],[227,47,177],[1],[227,47,177],[227,47,177],[262,263,264,265],[127],[286],[],[],[267,268,269,270],[261],[72],[],[],[272,273,274,275],[207,252,182],[207,252,182,12],[207,12,182],[207,12,182],[277,278,279,280],[202,291,117],[202,291,117,92],[202,291,117,92],[202,117,92],[282,283,284,285],[47,177,27],[47,177,356,27],[47,177,356,27],[47,177,356,27],[287,288,289,290],[261],[261,97],[72],[286],[292,293,294,295],[82,32,276],[276,187],[32,276],[82,276,187],[297,298,299,300],[341,22,197,222],[341,22,197],[341,22,197,222],[341,22,197,222],[302,303,304,305],[],[],[],[],[307,308,309,310],[132,336,242],[132,336,242],[132,336,242],[306],[312,313,314,315],[],[],[],[],[317,318,319,320],[87],[192],[],[],[322,323,324,325],[107],[187],[],[],[327,328,329,330],[42,142,112,356],[42,142,112,356],[42,142,112,356],[42,142,112,356],[332,333,334,335],[37,247,72],[37,247],[72,187],[187,72],[337,338,339,340],[306,52],[336],[306,52],[336],[342,343,344,345],[157,296,57],[157,296,57],[341],[296,157,57],[347,348,349,350],[17,7,222],[17,222],[192,7,222],[192,7],[352,353,354,355],[370],[32],[167],[],[357,358,359,360],[281,2,326,122],[281,2,326,122],[281,2,326,122],[281,2,326,122],[],[],[],[],[],[],[],[],[],[]],\"text\":[\"GridWorldState(4, 1, false)\\nN:   1658\\n\",\"GridWorldState(6, 3, false)\\nN:    336\\n\",\"                       up\\nQ:   1.91\\nN:     40\\n\",\"                     down\\nQ:   0.87\\nN:     26\\n\",\"                     left\\nQ:  -0.25\\nN:     17\\n\",\"                    right\\nQ:   4.21\\nN:    253\\n\",\"GridWorldState(1, 5, false)\\nN:     25\\n\",\"                       up\\nQ:   0.00\\nN:      5\\n\",\"                     down\\nQ:   0.00\\nN:      4\\n\",\"                     left\\nQ:   0.00\\nN:     12\\n\",\"                    right\\nQ:   0.00\\nN:      4\\n\",\"GridWorldState(8, 4, false)\\nN:    171\\n\",\"                       up\\nQ:   3.32\\nN:     21\\n\",\"                     down\\nQ:   5.70\\nN:     76\\n\",\"                     left\\nQ:   3.13\\nN:     20\\n\",\"                    right\\nQ:   5.20\\nN:     54\\n\",\"GridWorldState(2, 6, false)\\nN:      6\\n\",\"                       up\\nQ:   0.00\\nN:      1\\n\",\"                     down\\nQ:   0.00\\nN:      4\\n\",\"                     left\\nQ:   0.00\\nN:      1\\n\",\"                    right\\nQ:   0.00\\nN:      0\\n\",\"GridWorldState(2, 2, false)\\nN:    181\\n\",\"                       up\\nQ:  -0.47\\nN:     41\\n\",\"                     down\\nQ:  -0.23\\nN:     46\\n\",\"                     left\\nQ:  -0.14\\nN:     50\\n\",\"                    right\\nQ:  -0.45\\nN:     44\\n\",\"GridWorldState(5, 3, false)\\nN:    154\\n\",\"                       up\\nQ:  -1.79\\nN:     22\\n\",\"                     down\\nQ:  -0.21\\nN:     32\\n\",\"                     left\\nQ:  -9.00\\nN:      4\\n\",\"                    right\\nQ:   1.50\\nN:     96\\n\",\"GridWorldState(5, 6, false)\\nN:     10\\n\",\"                       up\\nQ:   0.00\\nN:      3\\n\",\"                     down\\nQ:   0.00\\nN:      4\\n\",\"                     left\\nQ:  -4.50\\nN:      1\\n\",\"                    right\\nQ:   0.00\\nN:      2\\n\",\"GridWorldState(8, 7, false)\\nN:      0\\n\",\"                       up\\nQ:   0.00\\nN:      0\\n\",\"                     down\\nQ:   0.00\\nN:      0\\n\",\"                     left\\nQ:   0.00\\nN:      0\\n\",\"                    right\\nQ:   0.00\\nN:      0\\n\",\"GridWorldState(7, 1, false)\\nN:    457\\n\",\"                       up\\nQ:   3.28\\nN:    171\\n\",\"                     down\\nQ:   0.00\\nN:     28\\n\",\"                     left\\nQ:   2.04\\nN:     66\\n\",\"                    right\\nQ:   3.63\\nN:    192\\n\",\"GridWorldState(5, 1, false)\\nN:   1375\\n\",\"                       up\\nQ:   2.01\\nN:    406\\n\",\"                     down\\nQ:   0.00\\nN:     73\\n\",\"                     left\\nQ:   0.62\\nN:     96\\n\",\"                    right\\nQ:   2.46\\nN:    800\\n\",\"GridWorldState(9, 1, false)\\nN:    364\\n\",\"                       up\\nQ:   5.75\\nN:    290\\n\",\"                     down\\nQ:   0.00\\nN:     19\\n\",\"                     left\\nQ:   1.51\\nN:     25\\n\",\"                    right\\nQ:   2.37\\nN:     30\\n\",\"GridWorldState(1, 4, false)\\nN:     56\\n\",\"                       up\\nQ:  -1.07\\nN:      9\\n\",\"                     down\\nQ:   0.00\\nN:     15\\n\",\"                     left\\nQ:   0.00\\nN:     20\\n\",\"                    right\\nQ:   0.00\\nN:     12\\n\",\"GridWorldState(8, 1, false)\\nN:    358\\n\",\"                       up\\nQ:   4.64\\nN:    158\\n\",\"                     down\\nQ:   0.00\\nN:     18\\n\",\"                     left\\nQ:   1.77\\nN:     31\\n\",\"                    right\\nQ:   4.12\\nN:    151\\n\",\"GridWorldState(3, 4, false)\\nN:     29\\n\",\"                       up\\nQ:  -0.81\\nN:     10\\n\",\"                     down\\nQ:  -7.33\\nN:      2\\n\",\"                     left\\nQ:   0.00\\nN:     10\\n\",\"                    right\\nQ:  -2.31\\nN:      7\\n\",\"GridWorldState(9, 6, false)\\nN:      7\\n\",\"                       up\\nQ:   0.00\\nN:      3\\n\",\"                     down\\nQ:   0.00\\nN:      2\\n\",\"                     left\\nQ:   0.00\\nN:      1\\n\",\"                    right\\nQ:   0.00\\nN:      1\\n\",\"GridWorldState(3, 2, false)\\nN:    230\\n\",\"                       up\\nQ:  -2.99\\nN:     21\\n\",\"                     down\\nQ:  -0.60\\nN:     68\\n\",\"                     left\\nQ:  -0.91\\nN:     55\\n\",\"                    right\\nQ:  -0.34\\nN:     86\\n\",\"GridWorldState(6, 7, false)\\nN:      0\\n\",\"                       up\\nQ:   0.00\\nN:      0\\n\",\"                     down\\nQ:   0.00\\nN:      0\\n\",\"                     left\\nQ:   0.00\\nN:      0\\n\",\"                    right\\nQ:   0.00\\nN:      0\\n\",\"GridWorldState(3, 7, false)\\nN:      0\\n\",\"                       up\\nQ:   0.00\\nN:      0\\n\",\"                     down\\nQ:   0.00\\nN:      0\\n\",\"                     left\\nQ:   0.00\\nN:      0\\n\",\"                    right\\nQ:   0.00\\nN:      0\\n\",\"GridWorldState(7, 5, false)\\nN:     52\\n\",\"                       up\\nQ:   0.00\\nN:      9\\n\",\"                     down\\nQ:   2.34\\nN:     19\\n\",\"                     left\\nQ:   0.00\\nN:     10\\n\",\"                    right\\nQ:   1.79\\nN:     14\\n\",\"GridWorldState(10, 5, false)\\nN:     45\\n\",\"                       up\\nQ:   0.00\\nN:      8\\n\",\"                     down\\nQ:   2.82\\nN:     15\\n\",\"                     left\\nQ:   0.00\\nN:      6\\n\",\"                    right\\nQ:   0.00\\nN:     16\\n\",\"GridWorldState(4, 6, false)\\nN:      1\\n\",\"                       up\\nQ:  -5.00\\nN:      1\\n\",\"                     down\\nQ:   0.00\\nN:      0\\n\",\"                     left\\nQ:   0.00\\nN:      0\\n\",\"                    right\\nQ:   0.00\\nN:      0\\n\",\"GridWorldState(7, 8, false)\\nN:      0\\n\",\"                       up\\nQ:   0.00\\nN:      0\\n\",\"                     down\\nQ:   0.00\\nN:      0\\n\",\"                     left\\nQ:   0.00\\nN:      0\\n\",\"                    right\\nQ:   0.00\\nN:      0\\n\",\"GridWorldState(8, 2, false)\\nN:    787\\n\",\"                       up\\nQ:   6.03\\nN:    472\\n\",\"                     down\\nQ:   2.05\\nN:     26\\n\",\"                     left\\nQ:   1.95\\nN:     32\\n\",\"                    right\\nQ:   5.81\\nN:    257\\n\",\"GridWorldState(6, 4, false)\\nN:    122\\n\",\"                       up\\nQ:   0.33\\nN:     20\\n\",\"                     down\\nQ:   1.06\\nN:     26\\n\",\"                     left\\nQ:   0.25\\nN:     19\\n\",\"                    right\\nQ:   2.76\\nN:     57\\n\",\"GridWorldState(6, 1, false)\\nN:    926\\n\",\"                       up\\nQ:   3.14\\nN:    585\\n\",\"                     down\\nQ:   0.00\\nN:     52\\n\",\"                     left\\nQ:   1.06\\nN:     68\\n\",\"                    right\\nQ:   2.59\\nN:    221\\n\",\"GridWorldState(10, 8, false)\\nN:      0\\n\",\"                       up\\nQ:   0.00\\nN:      0\\n\",\"                     down\\nQ:   0.00\\nN:      0\\n\",\"                     left\\nQ:   0.00\\nN:      0\\n\",\"                    right\\nQ:   0.00\\nN:      0\\n\",\"GridWorldState(10, 3, false)\\nN:    109\\n\",\"                       up\\nQ:   4.58\\nN:     18\\n\",\"                     down\\nQ:   2.05\\nN:     10\\n\",\"                     left\\nQ:   7.55\\nN:     63\\n\",\"                    right\\nQ:   0.00\\nN:     18\\n\",\"GridWorldState(5, 4, false)\\nN:     69\\n\",\"                       up\\nQ:  -0.44\\nN:     21\\n\",\"                     down\\nQ:  -0.45\\nN:     21\\n\",\"                     left\\nQ:  -5.62\\nN:      5\\n\",\"                    right\\nQ:  -0.63\\nN:     22\\n\",\"GridWorldState(7, 3, false)\\nN:    488\\n\",\"                       up\\nQ:   2.47\\nN:     42\\n\",\"                     down\\nQ:   0.65\\nN:     20\\n\",\"                     left\\nQ:   0.48\\nN:     17\\n\",\"                    right\\nQ:   5.68\\nN:    409\\n\",\"GridWorldState(1, 6, false)\\nN:      4\\n\",\"                       up\\nQ:   0.00\\nN:      1\\n\",\"                     down\\nQ:   0.00\\nN:      3\\n\",\"                     left\\nQ:   0.00\\nN:      0\\n\",\"                    right\\nQ:   0.00\\nN:      0\\n\",\"GridWorldState(2, 1, false)\\nN:    299\\n\",\"                       up\\nQ:  -0.47\\nN:     60\\n\",\"                     down\\nQ:   0.00\\nN:     84\\n\",\"                     left\\nQ:  -0.03\\nN:     83\\n\",\"                    right\\nQ:  -0.20\\nN:     72\\n\",\"GridWorldState(1, 2, false)\\nN:    148\\n\",\"                       up\\nQ:  -0.10\\nN:     34\\n\",\"                     down\\nQ:   0.00\\nN:     36\\n\",\"                     left\\nQ:   0.00\\nN:     44\\n\",\"                    right\\nQ:  -0.16\\nN:     34\\n\",\"GridWorldState(4, 4, false)\\nN:     18\\n\",\"                       up\\nQ:  -7.09\\nN:      3\\n\",\"                     down\\nQ:  -6.00\\nN:      3\\n\",\"                     left\\nQ:   0.00\\nN:      9\\n\",\"                    right\\nQ:  -7.40\\nN:      3\\n\",\"GridWorldState(4, 7, false)\\nN:      0\\n\",\"                       up\\nQ:   0.00\\nN:      0\\n\",\"                     down\\nQ:   0.00\\nN:      0\\n\",\"                     left\\nQ:   0.00\\nN:      0\\n\",\"                    right\\nQ:   0.00\\nN:      0\\n\",\"GridWorldState(8, 3, false)\\nN:    707\\n\",\"                       up\\nQ:   1.96\\nN:     20\\n\",\"                     down\\nQ:   0.95\\nN:     19\\n\",\"                     left\\nQ:   0.00\\nN:     13\\n\",\"                    right\\nQ:   7.81\\nN:    655\\n\",\"GridWorldState(4, 2, false)\\nN:    430\\n\",\"                       up\\nQ:  -6.23\\nN:      9\\n\",\"                     down\\nQ:   0.22\\nN:    154\\n\",\"                     left\\nQ:  -1.54\\nN:     54\\n\",\"                    right\\nQ:   0.60\\nN:    213\\n\",\"GridWorldState(9, 3, false)\\nN:   1572\\n\",\"                       up\\nQ:  10.00\\nN:    393\\n\",\"                     down\\nQ:  10.00\\nN:    393\\n\",\"                     left\\nQ:  10.00\\nN:    393\\n\",\"                    right\\nQ:  10.00\\nN:    393\\n\",\"GridWorldState(7, 6, false)\\nN:     13\\n\",\"                       up\\nQ:   0.00\\nN:      3\\n\",\"                     down\\nQ:   0.00\\nN:      4\\n\",\"                     left\\nQ:   0.59\\nN:      3\\n\",\"                    right\\nQ:   0.00\\nN:      3\\n\",\"GridWorldState(3, 5, false)\\nN:     22\\n\",\"                       up\\nQ:   0.00\\nN:      5\\n\",\"                     down\\nQ:  -0.81\\nN:      5\\n\",\"                     left\\nQ:   0.00\\nN:      7\\n\",\"                    right\\nQ:   0.00\\nN:      5\\n\",\"GridWorldState(3, 3, false)\\nN:     62\\n\",\"                       up\\nQ:  -3.37\\nN:     15\\n\",\"                     down\\nQ:  -5.29\\nN:      9\\n\",\"                     left\\nQ:  -1.36\\nN:     30\\n\",\"                    right\\nQ:  -5.41\\nN:      8\\n\",\"GridWorldState(5, 5, false)\\nN:     41\\n\",\"                       up\\nQ:   0.00\\nN:     12\\n\",\"                     down\\nQ:   0.22\\nN:     13\\n\",\"                     left\\nQ:  -0.41\\nN:     10\\n\",\"                    right\\nQ:  -2.20\\nN:      6\\n\",\"GridWorldState(10, 4, false)\\nN:     65\\n\",\"                       up\\nQ:   3.00\\nN:     18\\n\",\"                     down\\nQ:   3.17\\nN:     22\\n\",\"                     left\\nQ:   0.00\\nN:      8\\n\",\"                    right\\nQ:   0.00\\nN:     17\\n\",\"GridWorldState(1, 1, false)\\nN:    230\\n\",\"                       up\\nQ:   0.00\\nN:     52\\n\",\"                     down\\nQ:   0.00\\nN:     60\\n\",\"                     left\\nQ:   0.00\\nN:     67\\n\",\"                    right\\nQ:  -0.05\\nN:     51\\n\",\"GridWorldState(7, 4, false)\\nN:    142\\n\",\"                       up\\nQ:   1.93\\nN:     20\\n\",\"                     down\\nQ:   3.43\\nN:     42\\n\",\"                     left\\nQ:   1.34\\nN:     17\\n\",\"                    right\\nQ:   4.13\\nN:     63\\n\",\"GridWorldState(2, 4, false)\\nN:     48\\n\",\"                       up\\nQ:   0.00\\nN:     16\\n\",\"                     down\\nQ:   0.00\\nN:     15\\n\",\"                     left\\nQ:  -1.34\\nN:      9\\n\",\"                    right\\nQ:  -2.56\\nN:      8\\n\",\"GridWorldState(3, 1, false)\\nN:    541\\n\",\"                       up\\nQ:  -0.66\\nN:     84\\n\",\"                     down\\nQ:   0.00\\nN:    150\\n\",\"                     left\\nQ:  -0.01\\nN:    144\\n\",\"                    right\\nQ:   0.17\\nN:    163\\n\",\"GridWorldState(4, 3, false)\\nN:     77\\n\",\"                       up\\nQ: -10.00\\nN:     20\\n\",\"                     down\\nQ: -10.00\\nN:     19\\n\",\"                     left\\nQ: -10.00\\nN:     19\\n\",\"                    right\\nQ: -10.00\\nN:     19\\n\",\"GridWorldState(4, 5, false)\\nN:     14\\n\",\"                       up\\nQ:  -4.07\\nN:      2\\n\",\"                     down\\nQ:  -4.05\\nN:      2\\n\",\"                     left\\nQ:   0.00\\nN:      5\\n\",\"                    right\\nQ:   0.00\\nN:      5\\n\",\"GridWorldState(9, 2, false)\\nN:   1475\\n\",\"                       up\\nQ:   7.90\\nN:   1435\\n\",\"                     down\\nQ:  -0.28\\nN:     10\\n\",\"                     left\\nQ:   0.22\\nN:     18\\n\",\"                    right\\nQ:   0.61\\nN:     12\\n\",\"GridWorldState(8, 5, false)\\nN:     35\\n\",\"                       up\\nQ:   1.68\\nN:      8\\n\",\"                     down\\nQ:   3.52\\nN:     15\\n\",\"                     left\\nQ:   0.68\\nN:      7\\n\",\"                    right\\nQ:   0.00\\nN:      5\\n\",\"GridWorldState(9, 5, false)\\nN:     23\\n\",\"                       up\\nQ:   0.00\\nN:      4\\n\",\"                     down\\nQ:   2.22\\nN:      9\\n\",\"                     left\\nQ:   1.31\\nN:      5\\n\",\"                    right\\nQ:   0.00\\nN:      5\\n\",\"                       up\\nQ:  -0.41\\nN:     98\\n\",\"                     down\\nQ:   0.00\\nN:    147\\n\",\"                     left\\nQ:  -0.60\\nN:     86\\n\",\"                    right\\nQ:   1.64\\nN:   1327\\n\",\"GridWorldState(10, 7, false)\\nN:      2\\n\",\"                       up\\nQ:   0.00\\nN:      1\\n\",\"                     down\\nQ:   0.00\\nN:      1\\n\",\"                     left\\nQ:   0.00\\nN:      0\\n\",\"                    right\\nQ:   0.00\\nN:      0\\n\",\"GridWorldState(9, 7, false)\\nN:      3\\n\",\"                       up\\nQ:   0.00\\nN:      1\\n\",\"                     down\\nQ:   0.00\\nN:      2\\n\",\"                     left\\nQ:   0.00\\nN:      0\\n\",\"                    right\\nQ:   0.00\\nN:      0\\n\",\"GridWorldState(9, 4, false)\\nN:     75\\n\",\"                       up\\nQ:   1.72\\nN:      8\\n\",\"                     down\\nQ:   7.38\\nN:     50\\n\",\"                     left\\nQ:   3.43\\nN:      9\\n\",\"                    right\\nQ:   2.77\\nN:      8\\n\",\"GridWorldState(6, 5, false)\\nN:     54\\n\",\"                       up\\nQ:  -0.20\\nN:     11\\n\",\"                     down\\nQ:   0.69\\nN:     17\\n\",\"                     left\\nQ:   0.00\\nN:     11\\n\",\"                    right\\nQ:   0.86\\nN:     15\\n\",\"GridWorldState(5, 2, false)\\nN:    743\\n\",\"                       up\\nQ:  -3.26\\nN:     15\\n\",\"                     down\\nQ:   1.31\\nN:    119\\n\",\"                     left\\nQ:  -0.87\\nN:     32\\n\",\"                    right\\nQ:   2.68\\nN:    577\\n\",\"GridWorldState(10, 6, false)\\nN:     11\\n\",\"                       up\\nQ:   0.00\\nN:      3\\n\",\"                     down\\nQ:   0.00\\nN:      4\\n\",\"                     left\\nQ:   0.00\\nN:      3\\n\",\"                    right\\nQ:   0.00\\nN:      1\\n\",\"GridWorldState(6, 6, false)\\nN:     18\\n\",\"                       up\\nQ:  -1.35\\nN:      3\\n\",\"                     down\\nQ:   0.00\\nN:      5\\n\",\"                     left\\nQ:   0.00\\nN:      5\\n\",\"                    right\\nQ:   0.32\\nN:      5\\n\",\"GridWorldState(2, 3, false)\\nN:     90\\n\",\"                       up\\nQ:  -0.25\\nN:     26\\n\",\"                     down\\nQ:  -0.44\\nN:     27\\n\",\"                     left\\nQ:  -1.25\\nN:     16\\n\",\"                    right\\nQ:  -0.77\\nN:     21\\n\",\"GridWorldState(1, 7, false)\\nN:      0\\n\",\"                       up\\nQ:   0.00\\nN:      0\\n\",\"                     down\\nQ:   0.00\\nN:      0\\n\",\"                     left\\nQ:   0.00\\nN:      0\\n\",\"                    right\\nQ:   0.00\\nN:      0\\n\",\"GridWorldState(10, 2, false)\\nN:    237\\n\",\"                       up\\nQ:   5.49\\nN:     98\\n\",\"                     down\\nQ:   4.47\\nN:     52\\n\",\"                     left\\nQ:   5.25\\nN:     72\\n\",\"                    right\\nQ:   0.00\\nN:     15\\n\",\"GridWorldState(2, 7, false)\\nN:      0\\n\",\"                       up\\nQ:   0.00\\nN:      0\\n\",\"                     down\\nQ:   0.00\\nN:      0\\n\",\"                     left\\nQ:   0.00\\nN:      0\\n\",\"                    right\\nQ:   0.00\\nN:      0\\n\",\"GridWorldState(3, 6, false)\\nN:      2\\n\",\"                       up\\nQ:   0.00\\nN:      1\\n\",\"                     down\\nQ:   0.00\\nN:      1\\n\",\"                     left\\nQ:   0.00\\nN:      0\\n\",\"                    right\\nQ:   0.00\\nN:      0\\n\",\"GridWorldState(7, 7, false)\\nN:      3\\n\",\"                       up\\nQ:   1.97\\nN:      1\\n\",\"                     down\\nQ:   0.00\\nN:      2\\n\",\"                     left\\nQ:   0.00\\nN:      0\\n\",\"                    right\\nQ:   0.00\\nN:      0\\n\",\"GridWorldState(7, 2, false)\\nN:    828\\n\",\"                       up\\nQ:   3.94\\nN:    156\\n\",\"                     down\\nQ:   3.39\\nN:     84\\n\",\"                     left\\nQ:   0.41\\nN:     21\\n\",\"                    right\\nQ:   5.01\\nN:    567\\n\",\"GridWorldState(8, 6, false)\\nN:     13\\n\",\"                       up\\nQ:   1.43\\nN:      3\\n\",\"                     down\\nQ:   0.00\\nN:      5\\n\",\"                     left\\nQ:   0.00\\nN:      2\\n\",\"                    right\\nQ:   0.00\\nN:      3\\n\",\"GridWorldState(10, 1, false)\\nN:    167\\n\",\"                       up\\nQ:   4.44\\nN:     70\\n\",\"                     down\\nQ:   0.00\\nN:     18\\n\",\"                     left\\nQ:   4.37\\nN:     61\\n\",\"                    right\\nQ:   0.00\\nN:     18\\n\",\"GridWorldState(1, 3, false)\\nN:     79\\n\",\"                       up\\nQ:   0.00\\nN:     21\\n\",\"                     down\\nQ:  -0.58\\nN:     17\\n\",\"                     left\\nQ:   0.00\\nN:     20\\n\",\"                    right\\nQ:   0.00\\nN:     21\\n\",\"GridWorldState(2, 5, false)\\nN:     21\\n\",\"                       up\\nQ:   0.00\\nN:      7\\n\",\"                     down\\nQ:   0.00\\nN:      4\\n\",\"                     left\\nQ:   0.00\\nN:      4\\n\",\"                    right\\nQ:   0.00\\nN:      6\\n\",\"GridWorldState(5, 7, false)\\nN:      3\\n\",\"                       up\\nQ:   0.00\\nN:      1\\n\",\"                     down\\nQ:   0.00\\nN:      1\\n\",\"                     left\\nQ:   0.00\\nN:      1\\n\",\"                    right\\nQ:   0.00\\nN:      0\\n\",\"GridWorldState(6, 2, false)\\nN:   1006\\n\",\"                       up\\nQ:   2.85\\nN:    170\\n\",\"                     down\\nQ:   0.93\\nN:     45\\n\",\"                     left\\nQ:   1.28\\nN:     53\\n\",\"                    right\\nQ:   3.94\\nN:    738\\n\",\"GridWorldState(4, 6, true)\\nN:      0\\n\",\"GridWorldState(9, 3, true)\\nN:      0\\n\",\"GridWorldState(9, 3, true)\\nN:      0\\n\",\"GridWorldState(9, 3, true)\\nN:      0\\n\",\"GridWorldState(9, 3, true)\\nN:      0\\n\",\"GridWorldState(4, 3, true)\\nN:      0\\n\",\"GridWorldState(4, 3, true)\\nN:      0\\n\",\"GridWorldState(4, 3, true)\\nN:      0\\n\",\"GridWorldState(4, 3, true)\\nN:      0\\n\",\"GridWorldState(5, 8, false)\\nN:      0\\n\"],\"tooltip\":[\"GridWorldState(4, 1, false)\\nN: 1658\\n\",\"GridWorldState(6, 3, false)\\nN: 336\\n\",\"up\\nQ: 1.9149349868983376\\nN: 40\\n\",\"down\\nQ: 0.8749644876626539\\nN: 26\\n\",\"left\\nQ: -0.25321600588235293\\nN: 17\\n\",\"right\\nQ: 4.205856724431793\\nN: 253\\n\",\"GridWorldState(1, 5, false)\\nN: 25\\n\",\"up\\nQ: 0.0\\nN: 5\\n\",\"down\\nQ: 0.0\\nN: 4\\n\",\"left\\nQ: 0.0\\nN: 12\\n\",\"right\\nQ: 0.0\\nN: 4\\n\",\"GridWorldState(8, 4, false)\\nN: 171\\n\",\"up\\nQ: 3.3239086714285713\\nN: 21\\n\",\"down\\nQ: 5.695989192118421\\nN: 76\\n\",\"left\\nQ: 3.1345951050000003\\nN: 20\\n\",\"right\\nQ: 5.1950773815\\nN: 54\\n\",\"GridWorldState(2, 6, false)\\nN: 6\\n\",\"up\\nQ: 0.0\\nN: 1\\n\",\"down\\nQ: 0.0\\nN: 4\\n\",\"left\\nQ: 0.0\\nN: 1\\n\",\"right\\nQ: 0.0\\nN: 0\\n\",\"GridWorldState(2, 2, false)\\nN: 181\\n\",\"up\\nQ: -0.47226753658536585\\nN: 41\\n\",\"down\\nQ: -0.2337660617770976\\nN: 46\\n\",\"left\\nQ: -0.14402169197999998\\nN: 50\\n\",\"right\\nQ: -0.4529105547760946\\nN: 44\\n\",\"GridWorldState(5, 3, false)\\nN: 154\\n\",\"up\\nQ: -1.7949359938131817\\nN: 22\\n\",\"down\\nQ: -0.2083366276875001\\nN: 32\\n\",\"left\\nQ: -9.0\\nN: 4\\n\",\"right\\nQ: 1.5018157768272373\\nN: 96\\n\",\"GridWorldState(5, 6, false)\\nN: 10\\n\",\"up\\nQ: 0.0\\nN: 3\\n\",\"down\\nQ: 0.0\\nN: 4\\n\",\"left\\nQ: -4.5\\nN: 1\\n\",\"right\\nQ: 0.0\\nN: 2\\n\",\"GridWorldState(8, 7, false)\\nN: 0\\n\",\"up\\nQ: 0.0\\nN: 0\\n\",\"down\\nQ: 0.0\\nN: 0\\n\",\"left\\nQ: 0.0\\nN: 0\\n\",\"right\\nQ: 0.0\\nN: 0\\n\",\"GridWorldState(7, 1, false)\\nN: 457\\n\",\"up\\nQ: 3.2776465181452856\\nN: 171\\n\",\"down\\nQ: 0.0\\nN: 28\\n\",\"left\\nQ: 2.038177419547214\\nN: 66\\n\",\"right\\nQ: 3.6272059842246125\\nN: 192\\n\",\"GridWorldState(5, 1, false)\\nN: 1375\\n\",\"up\\nQ: 2.007241475203954\\nN: 406\\n\",\"down\\nQ: 0.0\\nN: 73\\n\",\"left\\nQ: 0.619407638636687\\nN: 96\\n\",\"right\\nQ: 2.4559405703520194\\nN: 800\\n\",\"GridWorldState(9, 1, false)\\nN: 364\\n\",\"up\\nQ: 5.749345299258708\\nN: 290\\n\",\"down\\nQ: 0.0\\nN: 19\\n\",\"left\\nQ: 1.5125860360800008\\nN: 25\\n\",\"right\\nQ: 2.3675890914308706\\nN: 30\\n\",\"GridWorldState(1, 4, false)\\nN: 56\\n\",\"up\\nQ: -1.0687869\\nN: 9\\n\",\"down\\nQ: 0.0\\nN: 15\\n\",\"left\\nQ: 0.0\\nN: 20\\n\",\"right\\nQ: 0.0\\nN: 12\\n\",\"GridWorldState(8, 1, false)\\nN: 358\\n\",\"up\\nQ: 4.639429509037974\\nN: 158\\n\",\"down\\nQ: 0.0\\nN: 18\\n\",\"left\\nQ: 1.766746682840436\\nN: 31\\n\",\"right\\nQ: 4.119141400133307\\nN: 151\\n\",\"GridWorldState(3, 4, false)\\nN: 29\\n\",\"up\\nQ: -0.8099999999999999\\nN: 10\\n\",\"down\\nQ: -7.3305\\nN: 2\\n\",\"left\\nQ: 0.0\\nN: 10\\n\",\"right\\nQ: -2.3142857142857145\\nN: 7\\n\",\"GridWorldState(9, 6, false)\\nN: 7\\n\",\"up\\nQ: 0.0\\nN: 3\\n\",\"down\\nQ: 0.0\\nN: 2\\n\",\"left\\nQ: 0.0\\nN: 1\\n\",\"right\\nQ: 0.0\\nN: 1\\n\",\"GridWorldState(3, 2, false)\\nN: 230\\n\",\"up\\nQ: -2.9908224428646637\\nN: 21\\n\",\"down\\nQ: -0.6045763246556028\\nN: 68\\n\",\"left\\nQ: -0.9123526846120336\\nN: 55\\n\",\"right\\nQ: -0.344339503135752\\nN: 86\\n\",\"GridWorldState(6, 7, false)\\nN: 0\\n\",\"up\\nQ: 0.0\\nN: 0\\n\",\"down\\nQ: 0.0\\nN: 0\\n\",\"left\\nQ: 0.0\\nN: 0\\n\",\"right\\nQ: 0.0\\nN: 0\\n\",\"GridWorldState(3, 7, false)\\nN: 0\\n\",\"up\\nQ: 0.0\\nN: 0\\n\",\"down\\nQ: 0.0\\nN: 0\\n\",\"left\\nQ: 0.0\\nN: 0\\n\",\"right\\nQ: 0.0\\nN: 0\\n\",\"GridWorldState(7, 5, false)\\nN: 52\\n\",\"up\\nQ: 0.0\\nN: 9\\n\",\"down\\nQ: 2.336748566726843\\nN: 19\\n\",\"left\\nQ: 0.0\\nN: 10\\n\",\"right\\nQ: 1.785529285714286\\nN: 14\\n\",\"GridWorldState(10, 5, false)\\nN: 45\\n\",\"up\\nQ: 0.0\\nN: 8\\n\",\"down\\nQ: 2.8213307910540006\\nN: 15\\n\",\"left\\nQ: 0.0\\nN: 6\\n\",\"right\\nQ: 0.0\\nN: 16\\n\",\"GridWorldState(4, 6, false)\\nN: 1\\n\",\"up\\nQ: -5.0\\nN: 1\\n\",\"down\\nQ: 0.0\\nN: 0\\n\",\"left\\nQ: 0.0\\nN: 0\\n\",\"right\\nQ: 0.0\\nN: 0\\n\",\"GridWorldState(7, 8, false)\\nN: 0\\n\",\"up\\nQ: 0.0\\nN: 0\\n\",\"down\\nQ: 0.0\\nN: 0\\n\",\"left\\nQ: 0.0\\nN: 0\\n\",\"right\\nQ: 0.0\\nN: 0\\n\",\"GridWorldState(8, 2, false)\\nN: 787\\n\",\"up\\nQ: 6.03203803840531\\nN: 472\\n\",\"down\\nQ: 2.048162311727308\\nN: 26\\n\",\"left\\nQ: 1.950085047551696\\nN: 32\\n\",\"right\\nQ: 5.807805357992222\\nN: 257\\n\",\"GridWorldState(6, 4, false)\\nN: 122\\n\",\"up\\nQ: 0.3302905815\\nN: 20\\n\",\"down\\nQ: 1.0616900678965382\\nN: 26\\n\",\"left\\nQ: 0.24690078947368432\\nN: 19\\n\",\"right\\nQ: 2.7625057200162484\\nN: 57\\n\",\"GridWorldState(6, 1, false)\\nN: 926\\n\",\"up\\nQ: 3.1367483923140194\\nN: 585\\n\",\"down\\nQ: 0.0\\nN: 52\\n\",\"left\\nQ: 1.0552965559253231\\nN: 68\\n\",\"right\\nQ: 2.5873487461198676\\nN: 221\\n\",\"GridWorldState(10, 8, false)\\nN: 0\\n\",\"up\\nQ: 0.0\\nN: 0\\n\",\"down\\nQ: 0.0\\nN: 0\\n\",\"left\\nQ: 0.0\\nN: 0\\n\",\"right\\nQ: 0.0\\nN: 0\\n\",\"GridWorldState(10, 3, false)\\nN: 109\\n\",\"up\\nQ: 4.57514329141645\\nN: 18\\n\",\"down\\nQ: 2.0484899999999997\\nN: 10\\n\",\"left\\nQ: 7.54666952144286\\nN: 63\\n\",\"right\\nQ: 0.0\\nN: 18\\n\",\"GridWorldState(5, 4, false)\\nN: 69\\n\",\"up\\nQ: -0.4418218015714285\\nN: 21\\n\",\"down\\nQ: -0.4501654885285713\\nN: 21\\n\",\"left\\nQ: -5.615082\\nN: 5\\n\",\"right\\nQ: -0.6306826582022727\\nN: 22\\n\",\"GridWorldState(7, 3, false)\\nN: 488\\n\",\"up\\nQ: 2.4667462015907136\\nN: 42\\n\",\"down\\nQ: 0.6468056550000001\\nN: 20\\n\",\"left\\nQ: 0.4764705882352941\\nN: 17\\n\",\"right\\nQ: 5.679085157250705\\nN: 409\\n\",\"GridWorldState(1, 6, false)\\nN: 4\\n\",\"up\\nQ: 0.0\\nN: 1\\n\",\"down\\nQ: 0.0\\nN: 3\\n\",\"left\\nQ: 0.0\\nN: 0\\n\",\"right\\nQ: 0.0\\nN: 0\\n\",\"GridWorldState(2, 1, false)\\nN: 299\\n\",\"up\\nQ: -0.46759153499999995\\nN: 60\\n\",\"down\\nQ: 0.0\\nN: 84\\n\",\"left\\nQ: -0.03096516604791687\\nN: 83\\n\",\"right\\nQ: -0.19559909889283494\\nN: 72\\n\",\"GridWorldState(1, 2, false)\\nN: 148\\n\",\"up\\nQ: -0.10255248238235297\\nN: 34\\n\",\"down\\nQ: 0.0\\nN: 36\\n\",\"left\\nQ: 0.0\\nN: 44\\n\",\"right\\nQ: -0.15630617647058825\\nN: 34\\n\",\"GridWorldState(4, 4, false)\\nN: 18\\n\",\"up\\nQ: -7.0935\\nN: 3\\n\",\"down\\nQ: -6.0\\nN: 3\\n\",\"left\\nQ: 0.0\\nN: 9\\n\",\"right\\nQ: -7.3983\\nN: 3\\n\",\"GridWorldState(4, 7, false)\\nN: 0\\n\",\"up\\nQ: 0.0\\nN: 0\\n\",\"down\\nQ: 0.0\\nN: 0\\n\",\"left\\nQ: 0.0\\nN: 0\\n\",\"right\\nQ: 0.0\\nN: 0\\n\",\"GridWorldState(8, 3, false)\\nN: 707\\n\",\"up\\nQ: 1.9632002444999994\\nN: 20\\n\",\"down\\nQ: 0.9462036315789476\\nN: 19\\n\",\"left\\nQ: 0.0\\nN: 13\\n\",\"right\\nQ: 7.806894747251918\\nN: 655\\n\",\"GridWorldState(4, 2, false)\\nN: 430\\n\",\"up\\nQ: -6.232579511\\nN: 9\\n\",\"down\\nQ: 0.21824019309938653\\nN: 154\\n\",\"left\\nQ: -1.536951836846183\\nN: 54\\n\",\"right\\nQ: 0.6048474588151715\\nN: 213\\n\",\"GridWorldState(9, 3, false)\\nN: 1572\\n\",\"up\\nQ: 10.0\\nN: 393\\n\",\"down\\nQ: 10.0\\nN: 393\\n\",\"left\\nQ: 10.0\\nN: 393\\n\",\"right\\nQ: 10.0\\nN: 393\\n\",\"GridWorldState(7, 6, false)\\nN: 13\\n\",\"up\\nQ: 0.0\\nN: 3\\n\",\"down\\nQ: 0.0\\nN: 4\\n\",\"left\\nQ: 0.5904900000000002\\nN: 3\\n\",\"right\\nQ: 0.0\\nN: 3\\n\",\"GridWorldState(3, 5, false)\\nN: 22\\n\",\"up\\nQ: 0.0\\nN: 5\\n\",\"down\\nQ: -0.8100000000000002\\nN: 5\\n\",\"left\\nQ: 0.0\\nN: 7\\n\",\"right\\nQ: 0.0\\nN: 5\\n\",\"GridWorldState(3, 3, false)\\nN: 62\\n\",\"up\\nQ: -3.3720000000000003\\nN: 15\\n\",\"down\\nQ: -5.2878841111306105\\nN: 9\\n\",\"left\\nQ: -1.3594323\\nN: 30\\n\",\"right\\nQ: -5.41125\\nN: 8\\n\",\"GridWorldState(5, 5, false)\\nN: 41\\n\",\"up\\nQ: 0.0\\nN: 12\\n\",\"down\\nQ: 0.22197881769230782\\nN: 13\\n\",\"left\\nQ: -0.4050000000000001\\nN: 10\\n\",\"right\\nQ: -2.1991500000000004\\nN: 6\\n\",\"GridWorldState(10, 4, false)\\nN: 65\\n\",\"up\\nQ: 2.9999633377904997\\nN: 18\\n\",\"down\\nQ: 3.1737272727272723\\nN: 22\\n\",\"left\\nQ: 0.0\\nN: 8\\n\",\"right\\nQ: 0.0\\nN: 17\\n\",\"GridWorldState(1, 1, false)\\nN: 230\\n\",\"up\\nQ: 0.0\\nN: 52\\n\",\"down\\nQ: 0.0\\nN: 60\\n\",\"left\\nQ: 0.0\\nN: 67\\n\",\"right\\nQ: -0.049840506437823506\\nN: 51\\n\",\"GridWorldState(7, 4, false)\\nN: 142\\n\",\"up\\nQ: 1.9275320820064499\\nN: 20\\n\",\"down\\nQ: 3.425394587207143\\nN: 42\\n\",\"left\\nQ: 1.3381809811311178\\nN: 17\\n\",\"right\\nQ: 4.125801584314284\\nN: 63\\n\",\"GridWorldState(2, 4, false)\\nN: 48\\n\",\"up\\nQ: 0.0\\nN: 16\\n\",\"down\\nQ: 0.0\\nN: 15\\n\",\"left\\nQ: -1.341441\\nN: 9\\n\",\"right\\nQ: -2.5606125000000004\\nN: 8\\n\",\"GridWorldState(3, 1, false)\\nN: 541\\n\",\"up\\nQ: -0.6580978085152696\\nN: 84\\n\",\"down\\nQ: 0.0\\nN: 150\\n\",\"left\\nQ: -0.005942516358077939\\nN: 144\\n\",\"right\\nQ: 0.17147083016461578\\nN: 163\\n\",\"GridWorldState(4, 3, false)\\nN: 77\\n\",\"up\\nQ: -10.0\\nN: 20\\n\",\"down\\nQ: -10.0\\nN: 19\\n\",\"left\\nQ: -10.0\\nN: 19\\n\",\"right\\nQ: -10.0\\nN: 19\\n\",\"GridWorldState(4, 5, false)\\nN: 14\\n\",\"up\\nQ: -4.0725\\nN: 2\\n\",\"down\\nQ: -4.05\\nN: 2\\n\",\"left\\nQ: 0.0\\nN: 5\\n\",\"right\\nQ: 0.0\\nN: 5\\n\",\"GridWorldState(9, 2, false)\\nN: 1475\\n\",\"up\\nQ: 7.904546979041548\\nN: 1435\\n\",\"down\\nQ: -0.28242953648100005\\nN: 10\\n\",\"left\\nQ: 0.215233605\\nN: 18\\n\",\"right\\nQ: 0.6075000000000002\\nN: 12\\n\",\"GridWorldState(8, 5, false)\\nN: 35\\n\",\"up\\nQ: 1.6800178612500003\\nN: 8\\n\",\"down\\nQ: 3.51864\\nN: 15\\n\",\"left\\nQ: 0.6832812857142858\\nN: 7\\n\",\"right\\nQ: 0.0\\nN: 5\\n\",\"GridWorldState(9, 5, false)\\nN: 23\\n\",\"up\\nQ: 0.0\\nN: 4\\n\",\"down\\nQ: 2.2194900000000004\\nN: 9\\n\",\"left\\nQ: 1.3122\\nN: 5\\n\",\"right\\nQ: 0.0\\nN: 5\\n\",\"up\\nQ: -0.4124128791720142\\nN: 98\\n\",\"down\\nQ: 0.0\\nN: 147\\n\",\"left\\nQ: -0.5989104819370306\\nN: 86\\n\",\"right\\nQ: 1.640145509770472\\nN: 1327\\n\",\"GridWorldState(10, 7, false)\\nN: 2\\n\",\"up\\nQ: 0.0\\nN: 1\\n\",\"down\\nQ: 0.0\\nN: 1\\n\",\"left\\nQ: 0.0\\nN: 0\\n\",\"right\\nQ: 0.0\\nN: 0\\n\",\"GridWorldState(9, 7, false)\\nN: 3\\n\",\"up\\nQ: 0.0\\nN: 1\\n\",\"down\\nQ: 0.0\\nN: 2\\n\",\"left\\nQ: 0.0\\nN: 0\\n\",\"right\\nQ: 0.0\\nN: 0\\n\",\"GridWorldState(9, 4, false)\\nN: 75\\n\",\"up\\nQ: 1.7228711250000002\\nN: 8\\n\",\"down\\nQ: 7.376437477800002\\nN: 50\\n\",\"left\\nQ: 3.42800821\\nN: 9\\n\",\"right\\nQ: 2.7743625\\nN: 8\\n\",\"GridWorldState(6, 5, false)\\nN: 54\\n\",\"up\\nQ: -0.2009190272727272\\nN: 11\\n\",\"down\\nQ: 0.6946941176470589\\nN: 17\\n\",\"left\\nQ: 0.0\\nN: 11\\n\",\"right\\nQ: 0.8611473900600001\\nN: 15\\n\",\"GridWorldState(5, 2, false)\\nN: 743\\n\",\"up\\nQ: -3.2645840877630694\\nN: 15\\n\",\"down\\nQ: 1.3112095295767998\\nN: 119\\n\",\"left\\nQ: -0.8722843407729535\\nN: 32\\n\",\"right\\nQ: 2.681677022635885\\nN: 577\\n\",\"GridWorldState(10, 6, false)\\nN: 11\\n\",\"up\\nQ: 0.0\\nN: 3\\n\",\"down\\nQ: 0.0\\nN: 4\\n\",\"left\\nQ: 0.0\\nN: 3\\n\",\"right\\nQ: 0.0\\nN: 1\\n\",\"GridWorldState(6, 6, false)\\nN: 18\\n\",\"up\\nQ: -1.3499999999999999\\nN: 3\\n\",\"down\\nQ: 0.0\\nN: 5\\n\",\"left\\nQ: 0.0\\nN: 5\\n\",\"right\\nQ: 0.31886460000000005\\nN: 5\\n\",\"GridWorldState(2, 3, false)\\nN: 90\\n\",\"up\\nQ: -0.25234615384615383\\nN: 26\\n\",\"down\\nQ: -0.43983\\nN: 27\\n\",\"left\\nQ: -1.248463125\\nN: 16\\n\",\"right\\nQ: -0.7714285714285715\\nN: 21\\n\",\"GridWorldState(1, 7, false)\\nN: 0\\n\",\"up\\nQ: 0.0\\nN: 0\\n\",\"down\\nQ: 0.0\\nN: 0\\n\",\"left\\nQ: 0.0\\nN: 0\\n\",\"right\\nQ: 0.0\\nN: 0\\n\",\"GridWorldState(10, 2, false)\\nN: 237\\n\",\"up\\nQ: 5.4932359508852695\\nN: 98\\n\",\"down\\nQ: 4.46985142027473\\nN: 52\\n\",\"left\\nQ: 5.248996126261834\\nN: 72\\n\",\"right\\nQ: 0.0\\nN: 15\\n\",\"GridWorldState(2, 7, false)\\nN: 0\\n\",\"up\\nQ: 0.0\\nN: 0\\n\",\"down\\nQ: 0.0\\nN: 0\\n\",\"left\\nQ: 0.0\\nN: 0\\n\",\"right\\nQ: 0.0\\nN: 0\\n\",\"GridWorldState(3, 6, false)\\nN: 2\\n\",\"up\\nQ: 0.0\\nN: 1\\n\",\"down\\nQ: 0.0\\nN: 1\\n\",\"left\\nQ: 0.0\\nN: 0\\n\",\"right\\nQ: 0.0\\nN: 0\\n\",\"GridWorldState(7, 7, false)\\nN: 3\\n\",\"up\\nQ: 1.9683000000000004\\nN: 1\\n\",\"down\\nQ: 0.0\\nN: 2\\n\",\"left\\nQ: 0.0\\nN: 0\\n\",\"right\\nQ: 0.0\\nN: 0\\n\",\"GridWorldState(7, 2, false)\\nN: 828\\n\",\"up\\nQ: 3.938485058633206\\nN: 156\\n\",\"down\\nQ: 3.389617967673172\\nN: 84\\n\",\"left\\nQ: 0.41263331853471424\\nN: 21\\n\",\"right\\nQ: 5.008228547307496\\nN: 567\\n\",\"GridWorldState(8, 6, false)\\nN: 13\\n\",\"up\\nQ: 1.4348907000000002\\nN: 3\\n\",\"down\\nQ: 0.0\\nN: 5\\n\",\"left\\nQ: 0.0\\nN: 2\\n\",\"right\\nQ: 0.0\\nN: 3\\n\",\"GridWorldState(10, 1, false)\\nN: 167\\n\",\"up\\nQ: 4.441076256196982\\nN: 70\\n\",\"down\\nQ: 0.0\\nN: 18\\n\",\"left\\nQ: 4.373815395712428\\nN: 61\\n\",\"right\\nQ: 0.0\\nN: 18\\n\",\"GridWorldState(1, 3, false)\\nN: 79\\n\",\"up\\nQ: 0.0\\nN: 21\\n\",\"down\\nQ: -0.5752414641176471\\nN: 17\\n\",\"left\\nQ: 0.0\\nN: 20\\n\",\"right\\nQ: 0.0\\nN: 21\\n\",\"GridWorldState(2, 5, false)\\nN: 21\\n\",\"up\\nQ: 0.0\\nN: 7\\n\",\"down\\nQ: 0.0\\nN: 4\\n\",\"left\\nQ: 0.0\\nN: 4\\n\",\"right\\nQ: 0.0\\nN: 6\\n\",\"GridWorldState(5, 7, false)\\nN: 3\\n\",\"up\\nQ: 0.0\\nN: 1\\n\",\"down\\nQ: 0.0\\nN: 1\\n\",\"left\\nQ: 0.0\\nN: 1\\n\",\"right\\nQ: 0.0\\nN: 0\\n\",\"GridWorldState(6, 2, false)\\nN: 1006\\n\",\"up\\nQ: 2.8525066439832476\\nN: 170\\n\",\"down\\nQ: 0.9273183570180001\\nN: 45\\n\",\"left\\nQ: 1.2782746065022645\\nN: 53\\n\",\"right\\nQ: 3.9428220352203738\\nN: 738\\n\",\"GridWorldState(4, 6, true)\\nN: 0\\n\",\"GridWorldState(9, 3, true)\\nN: 0\\n\",\"GridWorldState(9, 3, true)\\nN: 0\\n\",\"GridWorldState(9, 3, true)\\nN: 0\\n\",\"GridWorldState(9, 3, true)\\nN: 0\\n\",\"GridWorldState(4, 3, true)\\nN: 0\\n\",\"GridWorldState(4, 3, true)\\nN: 0\\n\",\"GridWorldState(4, 3, true)\\nN: 0\\n\",\"GridWorldState(4, 3, true)\\nN: 0\\n\",\"GridWorldState(5, 8, false)\\nN: 0\\n\"],\"style\":[\"\",\"\",\"stroke:#674C00\",\"stroke:#744600\",\"stroke:#833E00\",\"stroke:#4A5B00\",\"\",\"stroke:#7F4000\",\"stroke:#7F4000\",\"stroke:#7F4000\",\"stroke:#7F4000\",\"\",\"stroke:#555500\",\"stroke:#376400\",\"stroke:#585400\",\"stroke:#3D6100\",\"\",\"stroke:#7F4000\",\"stroke:#7F4000\",\"stroke:#7F4000\",\"stroke:#7F4000\",\"\",\"stroke:#863D00\",\"stroke:#823F00\",\"stroke:#813F00\",\"stroke:#853D00\",\"\",\"stroke:#963500\",\"stroke:#823F00\",\"stroke:#F20700\",\"stroke:#6C4A00\",\"\",\"stroke:#7F4000\",\"stroke:#7F4000\",\"stroke:#B92300\",\"stroke:#7F4000\",\"\",\"stroke:#7F4000\",\"stroke:#7F4000\",\"stroke:#7F4000\",\"stroke:#7F4000\",\"\",\"stroke:#565500\",\"stroke:#7F4000\",\"stroke:#664D00\",\"stroke:#515700\",\"\",\"stroke:#664D00\",\"stroke:#7F4000\",\"stroke:#784400\",\"stroke:#605000\",\"\",\"stroke:#366500\",\"stroke:#7F4000\",\"stroke:#6C4A00\",\"stroke:#614F00\",\"\",\"stroke:#8D3900\",\"stroke:#7F4000\",\"stroke:#7F4000\",\"stroke:#7F4000\",\"\",\"stroke:#445E00\",\"stroke:#7F4000\",\"stroke:#694B00\",\"stroke:#4B5A00\",\"\",\"stroke:#8A3B00\",\"stroke:#DD1100\",\"stroke:#7F4000\",\"stroke:#9D3100\",\"\",\"stroke:#7F4000\",\"stroke:#7F4000\",\"stroke:#7F4000\",\"stroke:#7F4000\",\"\",\"stroke:#A62D00\",\"stroke:#873C00\",\"stroke:#8B3A00\",\"stroke:#843E00\",\"\",\"stroke:#7F4000\",\"stroke:#7F4000\",\"stroke:#7F4000\",\"stroke:#7F4000\",\"\",\"stroke:#7F4000\",\"stroke:#7F4000\",\"stroke:#7F4000\",\"stroke:#7F4000\",\"\",\"stroke:#7F4000\",\"stroke:#624F00\",\"stroke:#7F4000\",\"stroke:#694B00\",\"\",\"stroke:#7F4000\",\"stroke:#5C5200\",\"stroke:#7F4000\",\"stroke:#7F4000\",\"\",\"stroke:#BF2000\",\"stroke:#7F4000\",\"stroke:#7F4000\",\"stroke:#7F4000\",\"\",\"stroke:#7F4000\",\"stroke:#7F4000\",\"stroke:#7F4000\",\"stroke:#7F4000\",\"\",\"stroke:#336600\",\"stroke:#654D00\",\"stroke:#674C00\",\"stroke:#356500\",\"\",\"stroke:#7B4200\",\"stroke:#724700\",\"stroke:#7C4200\",\"stroke:#5C5200\",\"\",\"stroke:#585400\",\"stroke:#7F4000\",\"stroke:#724700\",\"stroke:#5F5000\",\"\",\"stroke:#7F4000\",\"stroke:#7F4000\",\"stroke:#7F4000\",\"stroke:#7F4000\",\"\",\"stroke:#455D00\",\"stroke:#654D00\",\"stroke:#1F7000\",\"stroke:#7F4000\",\"\",\"stroke:#853D00\",\"stroke:#853D00\",\"stroke:#C71C00\",\"stroke:#883C00\",\"\",\"stroke:#605000\",\"stroke:#774400\",\"stroke:#794300\",\"stroke:#376400\",\"\",\"stroke:#7F4000\",\"stroke:#7F4000\",\"stroke:#7F4000\",\"stroke:#7F4000\",\"\",\"stroke:#853D00\",\"stroke:#7F4000\",\"stroke:#804000\",\"stroke:#823F00\",\"\",\"stroke:#813F00\",\"stroke:#7F4000\",\"stroke:#7F4000\",\"stroke:#813F00\",\"\",\"stroke:#DA1300\",\"stroke:#CC1A00\",\"stroke:#7F4000\",\"stroke:#DE1100\",\"\",\"stroke:#7F4000\",\"stroke:#7F4000\",\"stroke:#7F4000\",\"stroke:#7F4000\",\"\",\"stroke:#664D00\",\"stroke:#734600\",\"stroke:#7F4000\",\"stroke:#1C7200\",\"\",\"stroke:#CF1800\",\"stroke:#7D4100\",\"stroke:#933600\",\"stroke:#784400\",\"\",\"stroke:#008000\",\"stroke:#008000\",\"stroke:#008000\",\"stroke:#008000\",\"\",\"stroke:#7F4000\",\"stroke:#7F4000\",\"stroke:#784400\",\"stroke:#7F4000\",\"\",\"stroke:#7F4000\",\"stroke:#8A3B00\",\"stroke:#7F4000\",\"stroke:#7F4000\",\"\",\"stroke:#AA2B00\",\"stroke:#C31E00\",\"stroke:#913700\",\"stroke:#C41E00\",\"\",\"stroke:#7F4000\",\"stroke:#7D4100\",\"stroke:#853D00\",\"stroke:#9C3200\",\"\",\"stroke:#595300\",\"stroke:#575400\",\"stroke:#7F4000\",\"stroke:#7F4000\",\"\",\"stroke:#7F4000\",\"stroke:#7F4000\",\"stroke:#7F4000\",\"stroke:#804000\",\"\",\"stroke:#674C00\",\"stroke:#545600\",\"stroke:#6E4900\",\"stroke:#4B5A00\",\"\",\"stroke:#7F4000\",\"stroke:#7F4000\",\"stroke:#913700\",\"stroke:#A03000\",\"\",\"stroke:#883C00\",\"stroke:#7F4000\",\"stroke:#804000\",\"stroke:#7D4100\",\"\",\"stroke:#FF0000\",\"stroke:#FF0000\",\"stroke:#FF0000\",\"stroke:#FF0000\",\"\",\"stroke:#B32600\",\"stroke:#B32600\",\"stroke:#7F4000\",\"stroke:#7F4000\",\"\",\"stroke:#1B7200\",\"stroke:#833E00\",\"stroke:#7D4100\",\"stroke:#784400\",\"\",\"stroke:#6A4B00\",\"stroke:#535600\",\"stroke:#774400\",\"stroke:#7F4000\",\"\",\"stroke:#7F4000\",\"stroke:#634E00\",\"stroke:#6F4800\",\"stroke:#7F4000\",\"stroke:#853D00\",\"stroke:#7F4000\",\"stroke:#873C00\",\"stroke:#6B4A00\",\"\",\"stroke:#7F4000\",\"stroke:#7F4000\",\"stroke:#7F4000\",\"stroke:#7F4000\",\"\",\"stroke:#7F4000\",\"stroke:#7F4000\",\"stroke:#7F4000\",\"stroke:#7F4000\",\"\",\"stroke:#6A4B00\",\"stroke:#216F00\",\"stroke:#545600\",\"stroke:#5C5200\",\"\",\"stroke:#823F00\",\"stroke:#774400\",\"stroke:#7F4000\",\"stroke:#754500\",\"\",\"stroke:#A92B00\",\"stroke:#6F4800\",\"stroke:#8B3A00\",\"stroke:#5D5100\",\"\",\"stroke:#7F4000\",\"stroke:#7F4000\",\"stroke:#7F4000\",\"stroke:#7F4000\",\"\",\"stroke:#913700\",\"stroke:#7F4000\",\"stroke:#7F4000\",\"stroke:#7B4200\",\"\",\"stroke:#833E00\",\"stroke:#853D00\",\"stroke:#8F3800\",\"stroke:#893B00\",\"\",\"stroke:#7F4000\",\"stroke:#7F4000\",\"stroke:#7F4000\",\"stroke:#7F4000\",\"\",\"stroke:#396300\",\"stroke:#475C00\",\"stroke:#3D6100\",\"stroke:#7F4000\",\"\",\"stroke:#7F4000\",\"stroke:#7F4000\",\"stroke:#7F4000\",\"stroke:#7F4000\",\"\",\"stroke:#7F4000\",\"stroke:#7F4000\",\"stroke:#7F4000\",\"stroke:#7F4000\",\"\",\"stroke:#664D00\",\"stroke:#7F4000\",\"stroke:#7F4000\",\"stroke:#7F4000\",\"\",\"stroke:#4D5900\",\"stroke:#545600\",\"stroke:#7A4300\",\"stroke:#406000\",\"\",\"stroke:#6D4900\",\"stroke:#7F4000\",\"stroke:#7F4000\",\"stroke:#7F4000\",\"\",\"stroke:#475C00\",\"stroke:#7F4000\",\"stroke:#485C00\",\"stroke:#7F4000\",\"\",\"stroke:#7F4000\",\"stroke:#873C00\",\"stroke:#7F4000\",\"stroke:#7F4000\",\"\",\"stroke:#7F4000\",\"stroke:#7F4000\",\"stroke:#7F4000\",\"stroke:#7F4000\",\"\",\"stroke:#7F4000\",\"stroke:#7F4000\",\"stroke:#7F4000\",\"stroke:#7F4000\",\"\",\"stroke:#5B5200\",\"stroke:#744600\",\"stroke:#6F4800\",\"stroke:#4D5900\",\"\",\"\",\"\",\"\",\"\",\"\",\"\",\"\",\"\",\"\"],\"link_style\":[\"\",\"\",\"stroke-width:7.952427724875442px\",\"stroke-width:6.411452204266124px\",\"stroke-width:5.18434859512082px\",\"stroke-width:20.0px\",\"\",\"stroke-width:12.909944487358056px\",\"stroke-width:11.547005383792515px\",\"stroke-width:20.0px\",\"stroke-width:11.547005383792515px\",\"\",\"stroke-width:10.513149660756937px\",\"stroke-width:20.0px\",\"stroke-width:10.25978352085154px\",\"stroke-width:16.858544608470492px\",\"\",\"stroke-width:10.0px\",\"stroke-width:20.0px\",\"stroke-width:10.0px\",\"stroke-width:0.0px\",\"\",\"stroke-width:18.11077027627483px\",\"stroke-width:19.18332609325088px\",\"stroke-width:20.0px\",\"stroke-width:18.76166303929372px\",\"\",\"stroke-width:9.574271077563381px\",\"stroke-width:11.547005383792515px\",\"stroke-width:4.08248290463863px\",\"stroke-width:20.0px\",\"\",\"stroke-width:17.32050807568877px\",\"stroke-width:20.0px\",\"stroke-width:10.0px\",\"stroke-width:14.142135623730951px\",\"\",\"stroke-width:NaNpx\",\"stroke-width:NaNpx\",\"stroke-width:NaNpx\",\"stroke-width:NaNpx\",\"\",\"stroke-width:18.874586088176876px\",\"stroke-width:7.637626158259733px\",\"stroke-width:11.726039399558575px\",\"stroke-width:20.0px\",\"\",\"stroke-width:14.247806848775006px\",\"stroke-width:6.041522986797286px\",\"stroke-width:6.928203230275509px\",\"stroke-width:20.0px\",\"\",\"stroke-width:20.0px\",\"stroke-width:5.1192671889367265px\",\"stroke-width:5.872202195147035px\",\"stroke-width:6.432675209026769px\",\"\",\"stroke-width:13.416407864998739px\",\"stroke-width:17.32050807568877px\",\"stroke-width:20.0px\",\"stroke-width:15.491933384829668px\",\"\",\"stroke-width:20.0px\",\"stroke-width:6.750527405556143px\",\"stroke-width:8.858950990846932px\",\"stroke-width:19.55194315183681px\",\"\",\"stroke-width:20.0px\",\"stroke-width:8.94427190999916px\",\"stroke-width:20.0px\",\"stroke-width:16.73320053068151px\",\"\",\"stroke-width:20.0px\",\"stroke-width:16.32993161855452px\",\"stroke-width:11.547005383792515px\",\"stroke-width:11.547005383792515px\",\"\",\"stroke-width:9.883036912035246px\",\"stroke-width:17.78423655284201px\",\"stroke-width:15.994184989813396px\",\"stroke-width:20.0px\",\"\",\"stroke-width:NaNpx\",\"stroke-width:NaNpx\",\"stroke-width:NaNpx\",\"stroke-width:NaNpx\",\"\",\"stroke-width:NaNpx\",\"stroke-width:NaNpx\",\"stroke-width:NaNpx\",\"stroke-width:NaNpx\",\"\",\"stroke-width:13.764944032233705px\",\"stroke-width:20.0px\",\"stroke-width:14.509525002200231px\",\"stroke-width:17.167901505579042px\",\"\",\"stroke-width:14.142135623730951px\",\"stroke-width:19.364916731037084px\",\"stroke-width:12.24744871391589px\",\"stroke-width:20.0px\",\"\",\"stroke-width:20.0px\",\"stroke-width:0.0px\",\"stroke-width:0.0px\",\"stroke-width:0.0px\",\"\",\"stroke-width:NaNpx\",\"stroke-width:NaNpx\",\"stroke-width:NaNpx\",\"stroke-width:NaNpx\",\"\",\"stroke-width:20.0px\",\"stroke-width:4.694027940381773px\",\"stroke-width:5.207556439232954px\",\"stroke-width:14.757933804211604px\",\"\",\"stroke-width:11.846977555181848px\",\"stroke-width:13.50763267011941px\",\"stroke-width:11.547005383792515px\",\"stroke-width:20.0px\",\"\",\"stroke-width:20.0px\",\"stroke-width:5.962847939999439px\",\"stroke-width:6.818777492756785px\",\"stroke-width:12.292725943057183px\",\"\",\"stroke-width:NaNpx\",\"stroke-width:NaNpx\",\"stroke-width:NaNpx\",\"stroke-width:NaNpx\",\"\",\"stroke-width:10.690449676496975px\",\"stroke-width:7.968190728895958px\",\"stroke-width:20.0px\",\"stroke-width:10.690449676496975px\",\"\",\"stroke-width:19.54016841836789px\",\"stroke-width:19.54016841836789px\",\"stroke-width:9.534625892455924px\",\"stroke-width:20.0px\",\"\",\"stroke-width:6.409040070168612px\",\"stroke-width:4.422657820868465px\",\"stroke-width:4.077489039889089px\",\"stroke-width:20.0px\",\"\",\"stroke-width:11.547005383792515px\",\"stroke-width:20.0px\",\"stroke-width:0.0px\",\"stroke-width:0.0px\",\"\",\"stroke-width:16.903085094570333px\",\"stroke-width:20.0px\",\"stroke-width:19.8805959477601px\",\"stroke-width:18.516401995451027px\",\"\",\"stroke-width:17.580981459830653px\",\"stroke-width:18.09068067466582px\",\"stroke-width:20.0px\",\"stroke-width:17.580981459830653px\",\"\",\"stroke-width:11.547005383792515px\",\"stroke-width:11.547005383792515px\",\"stroke-width:20.0px\",\"stroke-width:11.547005383792515px\",\"\",\"stroke-width:NaNpx\",\"stroke-width:NaNpx\",\"stroke-width:NaNpx\",\"stroke-width:NaNpx\",\"\",\"stroke-width:3.4948162266441516px\",\"stroke-width:3.4063255034001823px\",\"stroke-width:2.8176109202141313px\",\"stroke-width:20.0px\",\"\",\"stroke-width:4.11113225896519px\",\"stroke-width:17.00593654975439px\",\"stroke-width:10.07017629956027px\",\"stroke-width:20.0px\",\"\",\"stroke-width:20.0px\",\"stroke-width:20.0px\",\"stroke-width:20.0px\",\"stroke-width:20.0px\",\"\",\"stroke-width:17.32050807568877px\",\"stroke-width:20.0px\",\"stroke-width:17.32050807568877px\",\"stroke-width:17.32050807568877px\",\"\",\"stroke-width:16.903085094570333px\",\"stroke-width:16.903085094570333px\",\"stroke-width:20.0px\",\"stroke-width:16.903085094570333px\",\"\",\"stroke-width:14.142135623730951px\",\"stroke-width:10.95445115010332px\",\"stroke-width:20.0px\",\"stroke-width:10.327955589886443px\",\"\",\"stroke-width:19.215378456610456px\",\"stroke-width:20.0px\",\"stroke-width:17.541160386140582px\",\"stroke-width:13.58732440973515px\",\"\",\"stroke-width:18.09068067466582px\",\"stroke-width:20.0px\",\"stroke-width:12.060453783110546px\",\"stroke-width:17.580981459830653px\",\"\",\"stroke-width:17.619527836864126px\",\"stroke-width:18.926408936295353px\",\"stroke-width:20.0px\",\"stroke-width:17.44928686050804px\",\"\",\"stroke-width:11.26872339638022px\",\"stroke-width:16.32993161855452px\",\"stroke-width:10.389249632986395px\",\"stroke-width:20.0px\",\"\",\"stroke-width:20.0px\",\"stroke-width:19.364916731037084px\",\"stroke-width:15.0px\",\"stroke-width:14.142135623730951px\",\"\",\"stroke-width:14.35740120373995px\",\"stroke-width:19.18588438173238px\",\"stroke-width:18.798250799710978px\",\"stroke-width:20.0px\",\"\",\"stroke-width:20.0px\",\"stroke-width:19.493588689617926px\",\"stroke-width:19.493588689617926px\",\"stroke-width:19.493588689617926px\",\"\",\"stroke-width:12.649110640673518px\",\"stroke-width:12.649110640673518px\",\"stroke-width:20.0px\",\"stroke-width:20.0px\",\"\",\"stroke-width:20.0px\",\"stroke-width:1.6695677422593644px\",\"stroke-width:2.2399601788396724px\",\"stroke-width:1.82891982743685px\",\"\",\"stroke-width:14.605934866804429px\",\"stroke-width:20.0px\",\"stroke-width:13.662601021279464px\",\"stroke-width:11.547005383792515px\",\"\",\"stroke-width:13.333333333333332px\",\"stroke-width:20.0px\",\"stroke-width:14.907119849998598px\",\"stroke-width:14.907119849998598px\",\"stroke-width:5.435100413367825px\",\"stroke-width:6.65661135677055px\",\"stroke-width:5.091476690581129px\",\"stroke-width:20.0px\",\"\",\"stroke-width:20.0px\",\"stroke-width:20.0px\",\"stroke-width:0.0px\",\"stroke-width:0.0px\",\"\",\"stroke-width:14.142135623730951px\",\"stroke-width:20.0px\",\"stroke-width:0.0px\",\"stroke-width:0.0px\",\"\",\"stroke-width:8.0px\",\"stroke-width:20.0px\",\"stroke-width:8.48528137423857px\",\"stroke-width:8.0px\",\"\",\"stroke-width:16.087993330796873px\",\"stroke-width:20.0px\",\"stroke-width:16.087993330796873px\",\"stroke-width:18.786728732554486px\",\"\",\"stroke-width:3.2246881272764307px\",\"stroke-width:9.082712548813126px\",\"stroke-width:4.70995847527571px\",\"stroke-width:20.0px\",\"\",\"stroke-width:17.32050807568877px\",\"stroke-width:20.0px\",\"stroke-width:17.32050807568877px\",\"stroke-width:10.0px\",\"\",\"stroke-width:15.491933384829668px\",\"stroke-width:20.0px\",\"stroke-width:20.0px\",\"stroke-width:20.0px\",\"\",\"stroke-width:19.626135258506324px\",\"stroke-width:20.0px\",\"stroke-width:15.396007178390022px\",\"stroke-width:17.638342073763937px\",\"\",\"stroke-width:NaNpx\",\"stroke-width:NaNpx\",\"stroke-width:NaNpx\",\"stroke-width:NaNpx\",\"\",\"stroke-width:20.0px\",\"stroke-width:14.568627181693671px\",\"stroke-width:17.142857142857146px\",\"stroke-width:7.824607964359515px\",\"\",\"stroke-width:NaNpx\",\"stroke-width:NaNpx\",\"stroke-width:NaNpx\",\"stroke-width:NaNpx\",\"\",\"stroke-width:20.0px\",\"stroke-width:20.0px\",\"stroke-width:0.0px\",\"stroke-width:0.0px\",\"\",\"stroke-width:14.142135623730951px\",\"stroke-width:20.0px\",\"stroke-width:0.0px\",\"stroke-width:0.0px\",\"\",\"stroke-width:10.490610566259242px\",\"stroke-width:7.698003589195011px\",\"stroke-width:3.8490017945975055px\",\"stroke-width:20.0px\",\"\",\"stroke-width:15.491933384829668px\",\"stroke-width:20.0px\",\"stroke-width:12.649110640673518px\",\"stroke-width:15.491933384829668px\",\"\",\"stroke-width:20.0px\",\"stroke-width:10.1418510567422px\",\"stroke-width:18.670067717376618px\",\"stroke-width:10.1418510567422px\",\"\",\"stroke-width:20.0px\",\"stroke-width:17.994708216848746px\",\"stroke-width:19.518001458970666px\",\"stroke-width:20.0px\",\"\",\"stroke-width:20.0px\",\"stroke-width:15.118578920369089px\",\"stroke-width:15.118578920369089px\",\"stroke-width:18.516401995451027px\",\"\",\"stroke-width:20.0px\",\"stroke-width:20.0px\",\"stroke-width:20.0px\",\"stroke-width:0.0px\",\"\",\"stroke-width:9.599006271964516px\",\"stroke-width:4.938647983247948px\",\"stroke-width:5.359690967105531px\",\"stroke-width:20.0px\",\"\",\"\",\"\",\"\",\"\",\"\",\"\",\"\",\"\",\"\"],\"title\":\"MCTS tree\",\"options\":{\"tooltip\":[\"GridWorldState(4, 1, false)\\nN: 1658\\n\",\"GridWorldState(6, 3, false)\\nN: 336\\n\",\"up\\nQ: 1.9149349868983376\\nN: 40\\n\",\"down\\nQ: 0.8749644876626539\\nN: 26\\n\",\"left\\nQ: -0.25321600588235293\\nN: 17\\n\",\"right\\nQ: 4.205856724431793\\nN: 253\\n\",\"GridWorldState(1, 5, false)\\nN: 25\\n\",\"up\\nQ: 0.0\\nN: 5\\n\",\"down\\nQ: 0.0\\nN: 4\\n\",\"left\\nQ: 0.0\\nN: 12\\n\",\"right\\nQ: 0.0\\nN: 4\\n\",\"GridWorldState(8, 4, false)\\nN: 171\\n\",\"up\\nQ: 3.3239086714285713\\nN: 21\\n\",\"down\\nQ: 5.695989192118421\\nN: 76\\n\",\"left\\nQ: 3.1345951050000003\\nN: 20\\n\",\"right\\nQ: 5.1950773815\\nN: 54\\n\",\"GridWorldState(2, 6, false)\\nN: 6\\n\",\"up\\nQ: 0.0\\nN: 1\\n\",\"down\\nQ: 0.0\\nN: 4\\n\",\"left\\nQ: 0.0\\nN: 1\\n\",\"right\\nQ: 0.0\\nN: 0\\n\",\"GridWorldState(2, 2, false)\\nN: 181\\n\",\"up\\nQ: -0.47226753658536585\\nN: 41\\n\",\"down\\nQ: -0.2337660617770976\\nN: 46\\n\",\"left\\nQ: -0.14402169197999998\\nN: 50\\n\",\"right\\nQ: -0.4529105547760946\\nN: 44\\n\",\"GridWorldState(5, 3, false)\\nN: 154\\n\",\"up\\nQ: -1.7949359938131817\\nN: 22\\n\",\"down\\nQ: -0.2083366276875001\\nN: 32\\n\",\"left\\nQ: -9.0\\nN: 4\\n\",\"right\\nQ: 1.5018157768272373\\nN: 96\\n\",\"GridWorldState(5, 6, false)\\nN: 10\\n\",\"up\\nQ: 0.0\\nN: 3\\n\",\"down\\nQ: 0.0\\nN: 4\\n\",\"left\\nQ: -4.5\\nN: 1\\n\",\"right\\nQ: 0.0\\nN: 2\\n\",\"GridWorldState(8, 7, false)\\nN: 0\\n\",\"up\\nQ: 0.0\\nN: 0\\n\",\"down\\nQ: 0.0\\nN: 0\\n\",\"left\\nQ: 0.0\\nN: 0\\n\",\"right\\nQ: 0.0\\nN: 0\\n\",\"GridWorldState(7, 1, false)\\nN: 457\\n\",\"up\\nQ: 3.2776465181452856\\nN: 171\\n\",\"down\\nQ: 0.0\\nN: 28\\n\",\"left\\nQ: 2.038177419547214\\nN: 66\\n\",\"right\\nQ: 3.6272059842246125\\nN: 192\\n\",\"GridWorldState(5, 1, false)\\nN: 1375\\n\",\"up\\nQ: 2.007241475203954\\nN: 406\\n\",\"down\\nQ: 0.0\\nN: 73\\n\",\"left\\nQ: 0.619407638636687\\nN: 96\\n\",\"right\\nQ: 2.4559405703520194\\nN: 800\\n\",\"GridWorldState(9, 1, false)\\nN: 364\\n\",\"up\\nQ: 5.749345299258708\\nN: 290\\n\",\"down\\nQ: 0.0\\nN: 19\\n\",\"left\\nQ: 1.5125860360800008\\nN: 25\\n\",\"right\\nQ: 2.3675890914308706\\nN: 30\\n\",\"GridWorldState(1, 4, false)\\nN: 56\\n\",\"up\\nQ: -1.0687869\\nN: 9\\n\",\"down\\nQ: 0.0\\nN: 15\\n\",\"left\\nQ: 0.0\\nN: 20\\n\",\"right\\nQ: 0.0\\nN: 12\\n\",\"GridWorldState(8, 1, false)\\nN: 358\\n\",\"up\\nQ: 4.639429509037974\\nN: 158\\n\",\"down\\nQ: 0.0\\nN: 18\\n\",\"left\\nQ: 1.766746682840436\\nN: 31\\n\",\"right\\nQ: 4.119141400133307\\nN: 151\\n\",\"GridWorldState(3, 4, false)\\nN: 29\\n\",\"up\\nQ: -0.8099999999999999\\nN: 10\\n\",\"down\\nQ: -7.3305\\nN: 2\\n\",\"left\\nQ: 0.0\\nN: 10\\n\",\"right\\nQ: -2.3142857142857145\\nN: 7\\n\",\"GridWorldState(9, 6, false)\\nN: 7\\n\",\"up\\nQ: 0.0\\nN: 3\\n\",\"down\\nQ: 0.0\\nN: 2\\n\",\"left\\nQ: 0.0\\nN: 1\\n\",\"right\\nQ: 0.0\\nN: 1\\n\",\"GridWorldState(3, 2, false)\\nN: 230\\n\",\"up\\nQ: -2.9908224428646637\\nN: 21\\n\",\"down\\nQ: -0.6045763246556028\\nN: 68\\n\",\"left\\nQ: -0.9123526846120336\\nN: 55\\n\",\"right\\nQ: -0.344339503135752\\nN: 86\\n\",\"GridWorldState(6, 7, false)\\nN: 0\\n\",\"up\\nQ: 0.0\\nN: 0\\n\",\"down\\nQ: 0.0\\nN: 0\\n\",\"left\\nQ: 0.0\\nN: 0\\n\",\"right\\nQ: 0.0\\nN: 0\\n\",\"GridWorldState(3, 7, false)\\nN: 0\\n\",\"up\\nQ: 0.0\\nN: 0\\n\",\"down\\nQ: 0.0\\nN: 0\\n\",\"left\\nQ: 0.0\\nN: 0\\n\",\"right\\nQ: 0.0\\nN: 0\\n\",\"GridWorldState(7, 5, false)\\nN: 52\\n\",\"up\\nQ: 0.0\\nN: 9\\n\",\"down\\nQ: 2.336748566726843\\nN: 19\\n\",\"left\\nQ: 0.0\\nN: 10\\n\",\"right\\nQ: 1.785529285714286\\nN: 14\\n\",\"GridWorldState(10, 5, false)\\nN: 45\\n\",\"up\\nQ: 0.0\\nN: 8\\n\",\"down\\nQ: 2.8213307910540006\\nN: 15\\n\",\"left\\nQ: 0.0\\nN: 6\\n\",\"right\\nQ: 0.0\\nN: 16\\n\",\"GridWorldState(4, 6, false)\\nN: 1\\n\",\"up\\nQ: -5.0\\nN: 1\\n\",\"down\\nQ: 0.0\\nN: 0\\n\",\"left\\nQ: 0.0\\nN: 0\\n\",\"right\\nQ: 0.0\\nN: 0\\n\",\"GridWorldState(7, 8, false)\\nN: 0\\n\",\"up\\nQ: 0.0\\nN: 0\\n\",\"down\\nQ: 0.0\\nN: 0\\n\",\"left\\nQ: 0.0\\nN: 0\\n\",\"right\\nQ: 0.0\\nN: 0\\n\",\"GridWorldState(8, 2, false)\\nN: 787\\n\",\"up\\nQ: 6.03203803840531\\nN: 472\\n\",\"down\\nQ: 2.048162311727308\\nN: 26\\n\",\"left\\nQ: 1.950085047551696\\nN: 32\\n\",\"right\\nQ: 5.807805357992222\\nN: 257\\n\",\"GridWorldState(6, 4, false)\\nN: 122\\n\",\"up\\nQ: 0.3302905815\\nN: 20\\n\",\"down\\nQ: 1.0616900678965382\\nN: 26\\n\",\"left\\nQ: 0.24690078947368432\\nN: 19\\n\",\"right\\nQ: 2.7625057200162484\\nN: 57\\n\",\"GridWorldState(6, 1, false)\\nN: 926\\n\",\"up\\nQ: 3.1367483923140194\\nN: 585\\n\",\"down\\nQ: 0.0\\nN: 52\\n\",\"left\\nQ: 1.0552965559253231\\nN: 68\\n\",\"right\\nQ: 2.5873487461198676\\nN: 221\\n\",\"GridWorldState(10, 8, false)\\nN: 0\\n\",\"up\\nQ: 0.0\\nN: 0\\n\",\"down\\nQ: 0.0\\nN: 0\\n\",\"left\\nQ: 0.0\\nN: 0\\n\",\"right\\nQ: 0.0\\nN: 0\\n\",\"GridWorldState(10, 3, false)\\nN: 109\\n\",\"up\\nQ: 4.57514329141645\\nN: 18\\n\",\"down\\nQ: 2.0484899999999997\\nN: 10\\n\",\"left\\nQ: 7.54666952144286\\nN: 63\\n\",\"right\\nQ: 0.0\\nN: 18\\n\",\"GridWorldState(5, 4, false)\\nN: 69\\n\",\"up\\nQ: -0.4418218015714285\\nN: 21\\n\",\"down\\nQ: -0.4501654885285713\\nN: 21\\n\",\"left\\nQ: -5.615082\\nN: 5\\n\",\"right\\nQ: -0.6306826582022727\\nN: 22\\n\",\"GridWorldState(7, 3, false)\\nN: 488\\n\",\"up\\nQ: 2.4667462015907136\\nN: 42\\n\",\"down\\nQ: 0.6468056550000001\\nN: 20\\n\",\"left\\nQ: 0.4764705882352941\\nN: 17\\n\",\"right\\nQ: 5.679085157250705\\nN: 409\\n\",\"GridWorldState(1, 6, false)\\nN: 4\\n\",\"up\\nQ: 0.0\\nN: 1\\n\",\"down\\nQ: 0.0\\nN: 3\\n\",\"left\\nQ: 0.0\\nN: 0\\n\",\"right\\nQ: 0.0\\nN: 0\\n\",\"GridWorldState(2, 1, false)\\nN: 299\\n\",\"up\\nQ: -0.46759153499999995\\nN: 60\\n\",\"down\\nQ: 0.0\\nN: 84\\n\",\"left\\nQ: -0.03096516604791687\\nN: 83\\n\",\"right\\nQ: -0.19559909889283494\\nN: 72\\n\",\"GridWorldState(1, 2, false)\\nN: 148\\n\",\"up\\nQ: -0.10255248238235297\\nN: 34\\n\",\"down\\nQ: 0.0\\nN: 36\\n\",\"left\\nQ: 0.0\\nN: 44\\n\",\"right\\nQ: -0.15630617647058825\\nN: 34\\n\",\"GridWorldState(4, 4, false)\\nN: 18\\n\",\"up\\nQ: -7.0935\\nN: 3\\n\",\"down\\nQ: -6.0\\nN: 3\\n\",\"left\\nQ: 0.0\\nN: 9\\n\",\"right\\nQ: -7.3983\\nN: 3\\n\",\"GridWorldState(4, 7, false)\\nN: 0\\n\",\"up\\nQ: 0.0\\nN: 0\\n\",\"down\\nQ: 0.0\\nN: 0\\n\",\"left\\nQ: 0.0\\nN: 0\\n\",\"right\\nQ: 0.0\\nN: 0\\n\",\"GridWorldState(8, 3, false)\\nN: 707\\n\",\"up\\nQ: 1.9632002444999994\\nN: 20\\n\",\"down\\nQ: 0.9462036315789476\\nN: 19\\n\",\"left\\nQ: 0.0\\nN: 13\\n\",\"right\\nQ: 7.806894747251918\\nN: 655\\n\",\"GridWorldState(4, 2, false)\\nN: 430\\n\",\"up\\nQ: -6.232579511\\nN: 9\\n\",\"down\\nQ: 0.21824019309938653\\nN: 154\\n\",\"left\\nQ: -1.536951836846183\\nN: 54\\n\",\"right\\nQ: 0.6048474588151715\\nN: 213\\n\",\"GridWorldState(9, 3, false)\\nN: 1572\\n\",\"up\\nQ: 10.0\\nN: 393\\n\",\"down\\nQ: 10.0\\nN: 393\\n\",\"left\\nQ: 10.0\\nN: 393\\n\",\"right\\nQ: 10.0\\nN: 393\\n\",\"GridWorldState(7, 6, false)\\nN: 13\\n\",\"up\\nQ: 0.0\\nN: 3\\n\",\"down\\nQ: 0.0\\nN: 4\\n\",\"left\\nQ: 0.5904900000000002\\nN: 3\\n\",\"right\\nQ: 0.0\\nN: 3\\n\",\"GridWorldState(3, 5, false)\\nN: 22\\n\",\"up\\nQ: 0.0\\nN: 5\\n\",\"down\\nQ: -0.8100000000000002\\nN: 5\\n\",\"left\\nQ: 0.0\\nN: 7\\n\",\"right\\nQ: 0.0\\nN: 5\\n\",\"GridWorldState(3, 3, false)\\nN: 62\\n\",\"up\\nQ: -3.3720000000000003\\nN: 15\\n\",\"down\\nQ: -5.2878841111306105\\nN: 9\\n\",\"left\\nQ: -1.3594323\\nN: 30\\n\",\"right\\nQ: -5.41125\\nN: 8\\n\",\"GridWorldState(5, 5, false)\\nN: 41\\n\",\"up\\nQ: 0.0\\nN: 12\\n\",\"down\\nQ: 0.22197881769230782\\nN: 13\\n\",\"left\\nQ: -0.4050000000000001\\nN: 10\\n\",\"right\\nQ: -2.1991500000000004\\nN: 6\\n\",\"GridWorldState(10, 4, false)\\nN: 65\\n\",\"up\\nQ: 2.9999633377904997\\nN: 18\\n\",\"down\\nQ: 3.1737272727272723\\nN: 22\\n\",\"left\\nQ: 0.0\\nN: 8\\n\",\"right\\nQ: 0.0\\nN: 17\\n\",\"GridWorldState(1, 1, false)\\nN: 230\\n\",\"up\\nQ: 0.0\\nN: 52\\n\",\"down\\nQ: 0.0\\nN: 60\\n\",\"left\\nQ: 0.0\\nN: 67\\n\",\"right\\nQ: -0.049840506437823506\\nN: 51\\n\",\"GridWorldState(7, 4, false)\\nN: 142\\n\",\"up\\nQ: 1.9275320820064499\\nN: 20\\n\",\"down\\nQ: 3.425394587207143\\nN: 42\\n\",\"left\\nQ: 1.3381809811311178\\nN: 17\\n\",\"right\\nQ: 4.125801584314284\\nN: 63\\n\",\"GridWorldState(2, 4, false)\\nN: 48\\n\",\"up\\nQ: 0.0\\nN: 16\\n\",\"down\\nQ: 0.0\\nN: 15\\n\",\"left\\nQ: -1.341441\\nN: 9\\n\",\"right\\nQ: -2.5606125000000004\\nN: 8\\n\",\"GridWorldState(3, 1, false)\\nN: 541\\n\",\"up\\nQ: -0.6580978085152696\\nN: 84\\n\",\"down\\nQ: 0.0\\nN: 150\\n\",\"left\\nQ: -0.005942516358077939\\nN: 144\\n\",\"right\\nQ: 0.17147083016461578\\nN: 163\\n\",\"GridWorldState(4, 3, false)\\nN: 77\\n\",\"up\\nQ: -10.0\\nN: 20\\n\",\"down\\nQ: -10.0\\nN: 19\\n\",\"left\\nQ: -10.0\\nN: 19\\n\",\"right\\nQ: -10.0\\nN: 19\\n\",\"GridWorldState(4, 5, false)\\nN: 14\\n\",\"up\\nQ: -4.0725\\nN: 2\\n\",\"down\\nQ: -4.05\\nN: 2\\n\",\"left\\nQ: 0.0\\nN: 5\\n\",\"right\\nQ: 0.0\\nN: 5\\n\",\"GridWorldState(9, 2, false)\\nN: 1475\\n\",\"up\\nQ: 7.904546979041548\\nN: 1435\\n\",\"down\\nQ: -0.28242953648100005\\nN: 10\\n\",\"left\\nQ: 0.215233605\\nN: 18\\n\",\"right\\nQ: 0.6075000000000002\\nN: 12\\n\",\"GridWorldState(8, 5, false)\\nN: 35\\n\",\"up\\nQ: 1.6800178612500003\\nN: 8\\n\",\"down\\nQ: 3.51864\\nN: 15\\n\",\"left\\nQ: 0.6832812857142858\\nN: 7\\n\",\"right\\nQ: 0.0\\nN: 5\\n\",\"GridWorldState(9, 5, false)\\nN: 23\\n\",\"up\\nQ: 0.0\\nN: 4\\n\",\"down\\nQ: 2.2194900000000004\\nN: 9\\n\",\"left\\nQ: 1.3122\\nN: 5\\n\",\"right\\nQ: 0.0\\nN: 5\\n\",\"up\\nQ: -0.4124128791720142\\nN: 98\\n\",\"down\\nQ: 0.0\\nN: 147\\n\",\"left\\nQ: -0.5989104819370306\\nN: 86\\n\",\"right\\nQ: 1.640145509770472\\nN: 1327\\n\",\"GridWorldState(10, 7, false)\\nN: 2\\n\",\"up\\nQ: 0.0\\nN: 1\\n\",\"down\\nQ: 0.0\\nN: 1\\n\",\"left\\nQ: 0.0\\nN: 0\\n\",\"right\\nQ: 0.0\\nN: 0\\n\",\"GridWorldState(9, 7, false)\\nN: 3\\n\",\"up\\nQ: 0.0\\nN: 1\\n\",\"down\\nQ: 0.0\\nN: 2\\n\",\"left\\nQ: 0.0\\nN: 0\\n\",\"right\\nQ: 0.0\\nN: 0\\n\",\"GridWorldState(9, 4, false)\\nN: 75\\n\",\"up\\nQ: 1.7228711250000002\\nN: 8\\n\",\"down\\nQ: 7.376437477800002\\nN: 50\\n\",\"left\\nQ: 3.42800821\\nN: 9\\n\",\"right\\nQ: 2.7743625\\nN: 8\\n\",\"GridWorldState(6, 5, false)\\nN: 54\\n\",\"up\\nQ: -0.2009190272727272\\nN: 11\\n\",\"down\\nQ: 0.6946941176470589\\nN: 17\\n\",\"left\\nQ: 0.0\\nN: 11\\n\",\"right\\nQ: 0.8611473900600001\\nN: 15\\n\",\"GridWorldState(5, 2, false)\\nN: 743\\n\",\"up\\nQ: -3.2645840877630694\\nN: 15\\n\",\"down\\nQ: 1.3112095295767998\\nN: 119\\n\",\"left\\nQ: -0.8722843407729535\\nN: 32\\n\",\"right\\nQ: 2.681677022635885\\nN: 577\\n\",\"GridWorldState(10, 6, false)\\nN: 11\\n\",\"up\\nQ: 0.0\\nN: 3\\n\",\"down\\nQ: 0.0\\nN: 4\\n\",\"left\\nQ: 0.0\\nN: 3\\n\",\"right\\nQ: 0.0\\nN: 1\\n\",\"GridWorldState(6, 6, false)\\nN: 18\\n\",\"up\\nQ: -1.3499999999999999\\nN: 3\\n\",\"down\\nQ: 0.0\\nN: 5\\n\",\"left\\nQ: 0.0\\nN: 5\\n\",\"right\\nQ: 0.31886460000000005\\nN: 5\\n\",\"GridWorldState(2, 3, false)\\nN: 90\\n\",\"up\\nQ: -0.25234615384615383\\nN: 26\\n\",\"down\\nQ: -0.43983\\nN: 27\\n\",\"left\\nQ: -1.248463125\\nN: 16\\n\",\"right\\nQ: -0.7714285714285715\\nN: 21\\n\",\"GridWorldState(1, 7, false)\\nN: 0\\n\",\"up\\nQ: 0.0\\nN: 0\\n\",\"down\\nQ: 0.0\\nN: 0\\n\",\"left\\nQ: 0.0\\nN: 0\\n\",\"right\\nQ: 0.0\\nN: 0\\n\",\"GridWorldState(10, 2, false)\\nN: 237\\n\",\"up\\nQ: 5.4932359508852695\\nN: 98\\n\",\"down\\nQ: 4.46985142027473\\nN: 52\\n\",\"left\\nQ: 5.248996126261834\\nN: 72\\n\",\"right\\nQ: 0.0\\nN: 15\\n\",\"GridWorldState(2, 7, false)\\nN: 0\\n\",\"up\\nQ: 0.0\\nN: 0\\n\",\"down\\nQ: 0.0\\nN: 0\\n\",\"left\\nQ: 0.0\\nN: 0\\n\",\"right\\nQ: 0.0\\nN: 0\\n\",\"GridWorldState(3, 6, false)\\nN: 2\\n\",\"up\\nQ: 0.0\\nN: 1\\n\",\"down\\nQ: 0.0\\nN: 1\\n\",\"left\\nQ: 0.0\\nN: 0\\n\",\"right\\nQ: 0.0\\nN: 0\\n\",\"GridWorldState(7, 7, false)\\nN: 3\\n\",\"up\\nQ: 1.9683000000000004\\nN: 1\\n\",\"down\\nQ: 0.0\\nN: 2\\n\",\"left\\nQ: 0.0\\nN: 0\\n\",\"right\\nQ: 0.0\\nN: 0\\n\",\"GridWorldState(7, 2, false)\\nN: 828\\n\",\"up\\nQ: 3.938485058633206\\nN: 156\\n\",\"down\\nQ: 3.389617967673172\\nN: 84\\n\",\"left\\nQ: 0.41263331853471424\\nN: 21\\n\",\"right\\nQ: 5.008228547307496\\nN: 567\\n\",\"GridWorldState(8, 6, false)\\nN: 13\\n\",\"up\\nQ: 1.4348907000000002\\nN: 3\\n\",\"down\\nQ: 0.0\\nN: 5\\n\",\"left\\nQ: 0.0\\nN: 2\\n\",\"right\\nQ: 0.0\\nN: 3\\n\",\"GridWorldState(10, 1, false)\\nN: 167\\n\",\"up\\nQ: 4.441076256196982\\nN: 70\\n\",\"down\\nQ: 0.0\\nN: 18\\n\",\"left\\nQ: 4.373815395712428\\nN: 61\\n\",\"right\\nQ: 0.0\\nN: 18\\n\",\"GridWorldState(1, 3, false)\\nN: 79\\n\",\"up\\nQ: 0.0\\nN: 21\\n\",\"down\\nQ: -0.5752414641176471\\nN: 17\\n\",\"left\\nQ: 0.0\\nN: 20\\n\",\"right\\nQ: 0.0\\nN: 21\\n\",\"GridWorldState(2, 5, false)\\nN: 21\\n\",\"up\\nQ: 0.0\\nN: 7\\n\",\"down\\nQ: 0.0\\nN: 4\\n\",\"left\\nQ: 0.0\\nN: 4\\n\",\"right\\nQ: 0.0\\nN: 6\\n\",\"GridWorldState(5, 7, false)\\nN: 3\\n\",\"up\\nQ: 0.0\\nN: 1\\n\",\"down\\nQ: 0.0\\nN: 1\\n\",\"left\\nQ: 0.0\\nN: 1\\n\",\"right\\nQ: 0.0\\nN: 0\\n\",\"GridWorldState(6, 2, false)\\nN: 1006\\n\",\"up\\nQ: 2.8525066439832476\\nN: 170\\n\",\"down\\nQ: 0.9273183570180001\\nN: 45\\n\",\"left\\nQ: 1.2782746065022645\\nN: 53\\n\",\"right\\nQ: 3.9428220352203738\\nN: 738\\n\",\"GridWorldState(4, 6, true)\\nN: 0\\n\",\"GridWorldState(9, 3, true)\\nN: 0\\n\",\"GridWorldState(9, 3, true)\\nN: 0\\n\",\"GridWorldState(9, 3, true)\\nN: 0\\n\",\"GridWorldState(9, 3, true)\\nN: 0\\n\",\"GridWorldState(4, 3, true)\\nN: 0\\n\",\"GridWorldState(4, 3, true)\\nN: 0\\n\",\"GridWorldState(4, 3, true)\\nN: 0\\n\",\"GridWorldState(4, 3, true)\\nN: 0\\n\",\"GridWorldState(5, 8, false)\\nN: 0\\n\"],\"link_style\":[\"\",\"\",\"stroke-width:7.952427724875442px\",\"stroke-width:6.411452204266124px\",\"stroke-width:5.18434859512082px\",\"stroke-width:20.0px\",\"\",\"stroke-width:12.909944487358056px\",\"stroke-width:11.547005383792515px\",\"stroke-width:20.0px\",\"stroke-width:11.547005383792515px\",\"\",\"stroke-width:10.513149660756937px\",\"stroke-width:20.0px\",\"stroke-width:10.25978352085154px\",\"stroke-width:16.858544608470492px\",\"\",\"stroke-width:10.0px\",\"stroke-width:20.0px\",\"stroke-width:10.0px\",\"stroke-width:0.0px\",\"\",\"stroke-width:18.11077027627483px\",\"stroke-width:19.18332609325088px\",\"stroke-width:20.0px\",\"stroke-width:18.76166303929372px\",\"\",\"stroke-width:9.574271077563381px\",\"stroke-width:11.547005383792515px\",\"stroke-width:4.08248290463863px\",\"stroke-width:20.0px\",\"\",\"stroke-width:17.32050807568877px\",\"stroke-width:20.0px\",\"stroke-width:10.0px\",\"stroke-width:14.142135623730951px\",\"\",\"stroke-width:NaNpx\",\"stroke-width:NaNpx\",\"stroke-width:NaNpx\",\"stroke-width:NaNpx\",\"\",\"stroke-width:18.874586088176876px\",\"stroke-width:7.637626158259733px\",\"stroke-width:11.726039399558575px\",\"stroke-width:20.0px\",\"\",\"stroke-width:14.247806848775006px\",\"stroke-width:6.041522986797286px\",\"stroke-width:6.928203230275509px\",\"stroke-width:20.0px\",\"\",\"stroke-width:20.0px\",\"stroke-width:5.1192671889367265px\",\"stroke-width:5.872202195147035px\",\"stroke-width:6.432675209026769px\",\"\",\"stroke-width:13.416407864998739px\",\"stroke-width:17.32050807568877px\",\"stroke-width:20.0px\",\"stroke-width:15.491933384829668px\",\"\",\"stroke-width:20.0px\",\"stroke-width:6.750527405556143px\",\"stroke-width:8.858950990846932px\",\"stroke-width:19.55194315183681px\",\"\",\"stroke-width:20.0px\",\"stroke-width:8.94427190999916px\",\"stroke-width:20.0px\",\"stroke-width:16.73320053068151px\",\"\",\"stroke-width:20.0px\",\"stroke-width:16.32993161855452px\",\"stroke-width:11.547005383792515px\",\"stroke-width:11.547005383792515px\",\"\",\"stroke-width:9.883036912035246px\",\"stroke-width:17.78423655284201px\",\"stroke-width:15.994184989813396px\",\"stroke-width:20.0px\",\"\",\"stroke-width:NaNpx\",\"stroke-width:NaNpx\",\"stroke-width:NaNpx\",\"stroke-width:NaNpx\",\"\",\"stroke-width:NaNpx\",\"stroke-width:NaNpx\",\"stroke-width:NaNpx\",\"stroke-width:NaNpx\",\"\",\"stroke-width:13.764944032233705px\",\"stroke-width:20.0px\",\"stroke-width:14.509525002200231px\",\"stroke-width:17.167901505579042px\",\"\",\"stroke-width:14.142135623730951px\",\"stroke-width:19.364916731037084px\",\"stroke-width:12.24744871391589px\",\"stroke-width:20.0px\",\"\",\"stroke-width:20.0px\",\"stroke-width:0.0px\",\"stroke-width:0.0px\",\"stroke-width:0.0px\",\"\",\"stroke-width:NaNpx\",\"stroke-width:NaNpx\",\"stroke-width:NaNpx\",\"stroke-width:NaNpx\",\"\",\"stroke-width:20.0px\",\"stroke-width:4.694027940381773px\",\"stroke-width:5.207556439232954px\",\"stroke-width:14.757933804211604px\",\"\",\"stroke-width:11.846977555181848px\",\"stroke-width:13.50763267011941px\",\"stroke-width:11.547005383792515px\",\"stroke-width:20.0px\",\"\",\"stroke-width:20.0px\",\"stroke-width:5.962847939999439px\",\"stroke-width:6.818777492756785px\",\"stroke-width:12.292725943057183px\",\"\",\"stroke-width:NaNpx\",\"stroke-width:NaNpx\",\"stroke-width:NaNpx\",\"stroke-width:NaNpx\",\"\",\"stroke-width:10.690449676496975px\",\"stroke-width:7.968190728895958px\",\"stroke-width:20.0px\",\"stroke-width:10.690449676496975px\",\"\",\"stroke-width:19.54016841836789px\",\"stroke-width:19.54016841836789px\",\"stroke-width:9.534625892455924px\",\"stroke-width:20.0px\",\"\",\"stroke-width:6.409040070168612px\",\"stroke-width:4.422657820868465px\",\"stroke-width:4.077489039889089px\",\"stroke-width:20.0px\",\"\",\"stroke-width:11.547005383792515px\",\"stroke-width:20.0px\",\"stroke-width:0.0px\",\"stroke-width:0.0px\",\"\",\"stroke-width:16.903085094570333px\",\"stroke-width:20.0px\",\"stroke-width:19.8805959477601px\",\"stroke-width:18.516401995451027px\",\"\",\"stroke-width:17.580981459830653px\",\"stroke-width:18.09068067466582px\",\"stroke-width:20.0px\",\"stroke-width:17.580981459830653px\",\"\",\"stroke-width:11.547005383792515px\",\"stroke-width:11.547005383792515px\",\"stroke-width:20.0px\",\"stroke-width:11.547005383792515px\",\"\",\"stroke-width:NaNpx\",\"stroke-width:NaNpx\",\"stroke-width:NaNpx\",\"stroke-width:NaNpx\",\"\",\"stroke-width:3.4948162266441516px\",\"stroke-width:3.4063255034001823px\",\"stroke-width:2.8176109202141313px\",\"stroke-width:20.0px\",\"\",\"stroke-width:4.11113225896519px\",\"stroke-width:17.00593654975439px\",\"stroke-width:10.07017629956027px\",\"stroke-width:20.0px\",\"\",\"stroke-width:20.0px\",\"stroke-width:20.0px\",\"stroke-width:20.0px\",\"stroke-width:20.0px\",\"\",\"stroke-width:17.32050807568877px\",\"stroke-width:20.0px\",\"stroke-width:17.32050807568877px\",\"stroke-width:17.32050807568877px\",\"\",\"stroke-width:16.903085094570333px\",\"stroke-width:16.903085094570333px\",\"stroke-width:20.0px\",\"stroke-width:16.903085094570333px\",\"\",\"stroke-width:14.142135623730951px\",\"stroke-width:10.95445115010332px\",\"stroke-width:20.0px\",\"stroke-width:10.327955589886443px\",\"\",\"stroke-width:19.215378456610456px\",\"stroke-width:20.0px\",\"stroke-width:17.541160386140582px\",\"stroke-width:13.58732440973515px\",\"\",\"stroke-width:18.09068067466582px\",\"stroke-width:20.0px\",\"stroke-width:12.060453783110546px\",\"stroke-width:17.580981459830653px\",\"\",\"stroke-width:17.619527836864126px\",\"stroke-width:18.926408936295353px\",\"stroke-width:20.0px\",\"stroke-width:17.44928686050804px\",\"\",\"stroke-width:11.26872339638022px\",\"stroke-width:16.32993161855452px\",\"stroke-width:10.389249632986395px\",\"stroke-width:20.0px\",\"\",\"stroke-width:20.0px\",\"stroke-width:19.364916731037084px\",\"stroke-width:15.0px\",\"stroke-width:14.142135623730951px\",\"\",\"stroke-width:14.35740120373995px\",\"stroke-width:19.18588438173238px\",\"stroke-width:18.798250799710978px\",\"stroke-width:20.0px\",\"\",\"stroke-width:20.0px\",\"stroke-width:19.493588689617926px\",\"stroke-width:19.493588689617926px\",\"stroke-width:19.493588689617926px\",\"\",\"stroke-width:12.649110640673518px\",\"stroke-width:12.649110640673518px\",\"stroke-width:20.0px\",\"stroke-width:20.0px\",\"\",\"stroke-width:20.0px\",\"stroke-width:1.6695677422593644px\",\"stroke-width:2.2399601788396724px\",\"stroke-width:1.82891982743685px\",\"\",\"stroke-width:14.605934866804429px\",\"stroke-width:20.0px\",\"stroke-width:13.662601021279464px\",\"stroke-width:11.547005383792515px\",\"\",\"stroke-width:13.333333333333332px\",\"stroke-width:20.0px\",\"stroke-width:14.907119849998598px\",\"stroke-width:14.907119849998598px\",\"stroke-width:5.435100413367825px\",\"stroke-width:6.65661135677055px\",\"stroke-width:5.091476690581129px\",\"stroke-width:20.0px\",\"\",\"stroke-width:20.0px\",\"stroke-width:20.0px\",\"stroke-width:0.0px\",\"stroke-width:0.0px\",\"\",\"stroke-width:14.142135623730951px\",\"stroke-width:20.0px\",\"stroke-width:0.0px\",\"stroke-width:0.0px\",\"\",\"stroke-width:8.0px\",\"stroke-width:20.0px\",\"stroke-width:8.48528137423857px\",\"stroke-width:8.0px\",\"\",\"stroke-width:16.087993330796873px\",\"stroke-width:20.0px\",\"stroke-width:16.087993330796873px\",\"stroke-width:18.786728732554486px\",\"\",\"stroke-width:3.2246881272764307px\",\"stroke-width:9.082712548813126px\",\"stroke-width:4.70995847527571px\",\"stroke-width:20.0px\",\"\",\"stroke-width:17.32050807568877px\",\"stroke-width:20.0px\",\"stroke-width:17.32050807568877px\",\"stroke-width:10.0px\",\"\",\"stroke-width:15.491933384829668px\",\"stroke-width:20.0px\",\"stroke-width:20.0px\",\"stroke-width:20.0px\",\"\",\"stroke-width:19.626135258506324px\",\"stroke-width:20.0px\",\"stroke-width:15.396007178390022px\",\"stroke-width:17.638342073763937px\",\"\",\"stroke-width:NaNpx\",\"stroke-width:NaNpx\",\"stroke-width:NaNpx\",\"stroke-width:NaNpx\",\"\",\"stroke-width:20.0px\",\"stroke-width:14.568627181693671px\",\"stroke-width:17.142857142857146px\",\"stroke-width:7.824607964359515px\",\"\",\"stroke-width:NaNpx\",\"stroke-width:NaNpx\",\"stroke-width:NaNpx\",\"stroke-width:NaNpx\",\"\",\"stroke-width:20.0px\",\"stroke-width:20.0px\",\"stroke-width:0.0px\",\"stroke-width:0.0px\",\"\",\"stroke-width:14.142135623730951px\",\"stroke-width:20.0px\",\"stroke-width:0.0px\",\"stroke-width:0.0px\",\"\",\"stroke-width:10.490610566259242px\",\"stroke-width:7.698003589195011px\",\"stroke-width:3.8490017945975055px\",\"stroke-width:20.0px\",\"\",\"stroke-width:15.491933384829668px\",\"stroke-width:20.0px\",\"stroke-width:12.649110640673518px\",\"stroke-width:15.491933384829668px\",\"\",\"stroke-width:20.0px\",\"stroke-width:10.1418510567422px\",\"stroke-width:18.670067717376618px\",\"stroke-width:10.1418510567422px\",\"\",\"stroke-width:20.0px\",\"stroke-width:17.994708216848746px\",\"stroke-width:19.518001458970666px\",\"stroke-width:20.0px\",\"\",\"stroke-width:20.0px\",\"stroke-width:15.118578920369089px\",\"stroke-width:15.118578920369089px\",\"stroke-width:18.516401995451027px\",\"\",\"stroke-width:20.0px\",\"stroke-width:20.0px\",\"stroke-width:20.0px\",\"stroke-width:0.0px\",\"\",\"stroke-width:9.599006271964516px\",\"stroke-width:4.938647983247948px\",\"stroke-width:5.359690967105531px\",\"stroke-width:20.0px\",\"\",\"\",\"\",\"\",\"\",\"\",\"\",\"\",\"\",\"\"],\"title\":\"MCTS tree\",\"text\":[\"GridWorldState(4, 1, false)\\nN:   1658\\n\",\"GridWorldState(6, 3, false)\\nN:    336\\n\",\"                       up\\nQ:   1.91\\nN:     40\\n\",\"                     down\\nQ:   0.87\\nN:     26\\n\",\"                     left\\nQ:  -0.25\\nN:     17\\n\",\"                    right\\nQ:   4.21\\nN:    253\\n\",\"GridWorldState(1, 5, false)\\nN:     25\\n\",\"                       up\\nQ:   0.00\\nN:      5\\n\",\"                     down\\nQ:   0.00\\nN:      4\\n\",\"                     left\\nQ:   0.00\\nN:     12\\n\",\"                    right\\nQ:   0.00\\nN:      4\\n\",\"GridWorldState(8, 4, false)\\nN:    171\\n\",\"                       up\\nQ:   3.32\\nN:     21\\n\",\"                     down\\nQ:   5.70\\nN:     76\\n\",\"                     left\\nQ:   3.13\\nN:     20\\n\",\"                    right\\nQ:   5.20\\nN:     54\\n\",\"GridWorldState(2, 6, false)\\nN:      6\\n\",\"                       up\\nQ:   0.00\\nN:      1\\n\",\"                     down\\nQ:   0.00\\nN:      4\\n\",\"                     left\\nQ:   0.00\\nN:      1\\n\",\"                    right\\nQ:   0.00\\nN:      0\\n\",\"GridWorldState(2, 2, false)\\nN:    181\\n\",\"                       up\\nQ:  -0.47\\nN:     41\\n\",\"                     down\\nQ:  -0.23\\nN:     46\\n\",\"                     left\\nQ:  -0.14\\nN:     50\\n\",\"                    right\\nQ:  -0.45\\nN:     44\\n\",\"GridWorldState(5, 3, false)\\nN:    154\\n\",\"                       up\\nQ:  -1.79\\nN:     22\\n\",\"                     down\\nQ:  -0.21\\nN:     32\\n\",\"                     left\\nQ:  -9.00\\nN:      4\\n\",\"                    right\\nQ:   1.50\\nN:     96\\n\",\"GridWorldState(5, 6, false)\\nN:     10\\n\",\"                       up\\nQ:   0.00\\nN:      3\\n\",\"                     down\\nQ:   0.00\\nN:      4\\n\",\"                     left\\nQ:  -4.50\\nN:      1\\n\",\"                    right\\nQ:   0.00\\nN:      2\\n\",\"GridWorldState(8, 7, false)\\nN:      0\\n\",\"                       up\\nQ:   0.00\\nN:      0\\n\",\"                     down\\nQ:   0.00\\nN:      0\\n\",\"                     left\\nQ:   0.00\\nN:      0\\n\",\"                    right\\nQ:   0.00\\nN:      0\\n\",\"GridWorldState(7, 1, false)\\nN:    457\\n\",\"                       up\\nQ:   3.28\\nN:    171\\n\",\"                     down\\nQ:   0.00\\nN:     28\\n\",\"                     left\\nQ:   2.04\\nN:     66\\n\",\"                    right\\nQ:   3.63\\nN:    192\\n\",\"GridWorldState(5, 1, false)\\nN:   1375\\n\",\"                       up\\nQ:   2.01\\nN:    406\\n\",\"                     down\\nQ:   0.00\\nN:     73\\n\",\"                     left\\nQ:   0.62\\nN:     96\\n\",\"                    right\\nQ:   2.46\\nN:    800\\n\",\"GridWorldState(9, 1, false)\\nN:    364\\n\",\"                       up\\nQ:   5.75\\nN:    290\\n\",\"                     down\\nQ:   0.00\\nN:     19\\n\",\"                     left\\nQ:   1.51\\nN:     25\\n\",\"                    right\\nQ:   2.37\\nN:     30\\n\",\"GridWorldState(1, 4, false)\\nN:     56\\n\",\"                       up\\nQ:  -1.07\\nN:      9\\n\",\"                     down\\nQ:   0.00\\nN:     15\\n\",\"                     left\\nQ:   0.00\\nN:     20\\n\",\"                    right\\nQ:   0.00\\nN:     12\\n\",\"GridWorldState(8, 1, false)\\nN:    358\\n\",\"                       up\\nQ:   4.64\\nN:    158\\n\",\"                     down\\nQ:   0.00\\nN:     18\\n\",\"                     left\\nQ:   1.77\\nN:     31\\n\",\"                    right\\nQ:   4.12\\nN:    151\\n\",\"GridWorldState(3, 4, false)\\nN:     29\\n\",\"                       up\\nQ:  -0.81\\nN:     10\\n\",\"                     down\\nQ:  -7.33\\nN:      2\\n\",\"                     left\\nQ:   0.00\\nN:     10\\n\",\"                    right\\nQ:  -2.31\\nN:      7\\n\",\"GridWorldState(9, 6, false)\\nN:      7\\n\",\"                       up\\nQ:   0.00\\nN:      3\\n\",\"                     down\\nQ:   0.00\\nN:      2\\n\",\"                     left\\nQ:   0.00\\nN:      1\\n\",\"                    right\\nQ:   0.00\\nN:      1\\n\",\"GridWorldState(3, 2, false)\\nN:    230\\n\",\"                       up\\nQ:  -2.99\\nN:     21\\n\",\"                     down\\nQ:  -0.60\\nN:     68\\n\",\"                     left\\nQ:  -0.91\\nN:     55\\n\",\"                    right\\nQ:  -0.34\\nN:     86\\n\",\"GridWorldState(6, 7, false)\\nN:      0\\n\",\"                       up\\nQ:   0.00\\nN:      0\\n\",\"                     down\\nQ:   0.00\\nN:      0\\n\",\"                     left\\nQ:   0.00\\nN:      0\\n\",\"                    right\\nQ:   0.00\\nN:      0\\n\",\"GridWorldState(3, 7, false)\\nN:      0\\n\",\"                       up\\nQ:   0.00\\nN:      0\\n\",\"                     down\\nQ:   0.00\\nN:      0\\n\",\"                     left\\nQ:   0.00\\nN:      0\\n\",\"                    right\\nQ:   0.00\\nN:      0\\n\",\"GridWorldState(7, 5, false)\\nN:     52\\n\",\"                       up\\nQ:   0.00\\nN:      9\\n\",\"                     down\\nQ:   2.34\\nN:     19\\n\",\"                     left\\nQ:   0.00\\nN:     10\\n\",\"                    right\\nQ:   1.79\\nN:     14\\n\",\"GridWorldState(10, 5, false)\\nN:     45\\n\",\"                       up\\nQ:   0.00\\nN:      8\\n\",\"                     down\\nQ:   2.82\\nN:     15\\n\",\"                     left\\nQ:   0.00\\nN:      6\\n\",\"                    right\\nQ:   0.00\\nN:     16\\n\",\"GridWorldState(4, 6, false)\\nN:      1\\n\",\"                       up\\nQ:  -5.00\\nN:      1\\n\",\"                     down\\nQ:   0.00\\nN:      0\\n\",\"                     left\\nQ:   0.00\\nN:      0\\n\",\"                    right\\nQ:   0.00\\nN:      0\\n\",\"GridWorldState(7, 8, false)\\nN:      0\\n\",\"                       up\\nQ:   0.00\\nN:      0\\n\",\"                     down\\nQ:   0.00\\nN:      0\\n\",\"                     left\\nQ:   0.00\\nN:      0\\n\",\"                    right\\nQ:   0.00\\nN:      0\\n\",\"GridWorldState(8, 2, false)\\nN:    787\\n\",\"                       up\\nQ:   6.03\\nN:    472\\n\",\"                     down\\nQ:   2.05\\nN:     26\\n\",\"                     left\\nQ:   1.95\\nN:     32\\n\",\"                    right\\nQ:   5.81\\nN:    257\\n\",\"GridWorldState(6, 4, false)\\nN:    122\\n\",\"                       up\\nQ:   0.33\\nN:     20\\n\",\"                     down\\nQ:   1.06\\nN:     26\\n\",\"                     left\\nQ:   0.25\\nN:     19\\n\",\"                    right\\nQ:   2.76\\nN:     57\\n\",\"GridWorldState(6, 1, false)\\nN:    926\\n\",\"                       up\\nQ:   3.14\\nN:    585\\n\",\"                     down\\nQ:   0.00\\nN:     52\\n\",\"                     left\\nQ:   1.06\\nN:     68\\n\",\"                    right\\nQ:   2.59\\nN:    221\\n\",\"GridWorldState(10, 8, false)\\nN:      0\\n\",\"                       up\\nQ:   0.00\\nN:      0\\n\",\"                     down\\nQ:   0.00\\nN:      0\\n\",\"                     left\\nQ:   0.00\\nN:      0\\n\",\"                    right\\nQ:   0.00\\nN:      0\\n\",\"GridWorldState(10, 3, false)\\nN:    109\\n\",\"                       up\\nQ:   4.58\\nN:     18\\n\",\"                     down\\nQ:   2.05\\nN:     10\\n\",\"                     left\\nQ:   7.55\\nN:     63\\n\",\"                    right\\nQ:   0.00\\nN:     18\\n\",\"GridWorldState(5, 4, false)\\nN:     69\\n\",\"                       up\\nQ:  -0.44\\nN:     21\\n\",\"                     down\\nQ:  -0.45\\nN:     21\\n\",\"                     left\\nQ:  -5.62\\nN:      5\\n\",\"                    right\\nQ:  -0.63\\nN:     22\\n\",\"GridWorldState(7, 3, false)\\nN:    488\\n\",\"                       up\\nQ:   2.47\\nN:     42\\n\",\"                     down\\nQ:   0.65\\nN:     20\\n\",\"                     left\\nQ:   0.48\\nN:     17\\n\",\"                    right\\nQ:   5.68\\nN:    409\\n\",\"GridWorldState(1, 6, false)\\nN:      4\\n\",\"                       up\\nQ:   0.00\\nN:      1\\n\",\"                     down\\nQ:   0.00\\nN:      3\\n\",\"                     left\\nQ:   0.00\\nN:      0\\n\",\"                    right\\nQ:   0.00\\nN:      0\\n\",\"GridWorldState(2, 1, false)\\nN:    299\\n\",\"                       up\\nQ:  -0.47\\nN:     60\\n\",\"                     down\\nQ:   0.00\\nN:     84\\n\",\"                     left\\nQ:  -0.03\\nN:     83\\n\",\"                    right\\nQ:  -0.20\\nN:     72\\n\",\"GridWorldState(1, 2, false)\\nN:    148\\n\",\"                       up\\nQ:  -0.10\\nN:     34\\n\",\"                     down\\nQ:   0.00\\nN:     36\\n\",\"                     left\\nQ:   0.00\\nN:     44\\n\",\"                    right\\nQ:  -0.16\\nN:     34\\n\",\"GridWorldState(4, 4, false)\\nN:     18\\n\",\"                       up\\nQ:  -7.09\\nN:      3\\n\",\"                     down\\nQ:  -6.00\\nN:      3\\n\",\"                     left\\nQ:   0.00\\nN:      9\\n\",\"                    right\\nQ:  -7.40\\nN:      3\\n\",\"GridWorldState(4, 7, false)\\nN:      0\\n\",\"                       up\\nQ:   0.00\\nN:      0\\n\",\"                     down\\nQ:   0.00\\nN:      0\\n\",\"                     left\\nQ:   0.00\\nN:      0\\n\",\"                    right\\nQ:   0.00\\nN:      0\\n\",\"GridWorldState(8, 3, false)\\nN:    707\\n\",\"                       up\\nQ:   1.96\\nN:     20\\n\",\"                     down\\nQ:   0.95\\nN:     19\\n\",\"                     left\\nQ:   0.00\\nN:     13\\n\",\"                    right\\nQ:   7.81\\nN:    655\\n\",\"GridWorldState(4, 2, false)\\nN:    430\\n\",\"                       up\\nQ:  -6.23\\nN:      9\\n\",\"                     down\\nQ:   0.22\\nN:    154\\n\",\"                     left\\nQ:  -1.54\\nN:     54\\n\",\"                    right\\nQ:   0.60\\nN:    213\\n\",\"GridWorldState(9, 3, false)\\nN:   1572\\n\",\"                       up\\nQ:  10.00\\nN:    393\\n\",\"                     down\\nQ:  10.00\\nN:    393\\n\",\"                     left\\nQ:  10.00\\nN:    393\\n\",\"                    right\\nQ:  10.00\\nN:    393\\n\",\"GridWorldState(7, 6, false)\\nN:     13\\n\",\"                       up\\nQ:   0.00\\nN:      3\\n\",\"                     down\\nQ:   0.00\\nN:      4\\n\",\"                     left\\nQ:   0.59\\nN:      3\\n\",\"                    right\\nQ:   0.00\\nN:      3\\n\",\"GridWorldState(3, 5, false)\\nN:     22\\n\",\"                       up\\nQ:   0.00\\nN:      5\\n\",\"                     down\\nQ:  -0.81\\nN:      5\\n\",\"                     left\\nQ:   0.00\\nN:      7\\n\",\"                    right\\nQ:   0.00\\nN:      5\\n\",\"GridWorldState(3, 3, false)\\nN:     62\\n\",\"                       up\\nQ:  -3.37\\nN:     15\\n\",\"                     down\\nQ:  -5.29\\nN:      9\\n\",\"                     left\\nQ:  -1.36\\nN:     30\\n\",\"                    right\\nQ:  -5.41\\nN:      8\\n\",\"GridWorldState(5, 5, false)\\nN:     41\\n\",\"                       up\\nQ:   0.00\\nN:     12\\n\",\"                     down\\nQ:   0.22\\nN:     13\\n\",\"                     left\\nQ:  -0.41\\nN:     10\\n\",\"                    right\\nQ:  -2.20\\nN:      6\\n\",\"GridWorldState(10, 4, false)\\nN:     65\\n\",\"                       up\\nQ:   3.00\\nN:     18\\n\",\"                     down\\nQ:   3.17\\nN:     22\\n\",\"                     left\\nQ:   0.00\\nN:      8\\n\",\"                    right\\nQ:   0.00\\nN:     17\\n\",\"GridWorldState(1, 1, false)\\nN:    230\\n\",\"                       up\\nQ:   0.00\\nN:     52\\n\",\"                     down\\nQ:   0.00\\nN:     60\\n\",\"                     left\\nQ:   0.00\\nN:     67\\n\",\"                    right\\nQ:  -0.05\\nN:     51\\n\",\"GridWorldState(7, 4, false)\\nN:    142\\n\",\"                       up\\nQ:   1.93\\nN:     20\\n\",\"                     down\\nQ:   3.43\\nN:     42\\n\",\"                     left\\nQ:   1.34\\nN:     17\\n\",\"                    right\\nQ:   4.13\\nN:     63\\n\",\"GridWorldState(2, 4, false)\\nN:     48\\n\",\"                       up\\nQ:   0.00\\nN:     16\\n\",\"                     down\\nQ:   0.00\\nN:     15\\n\",\"                     left\\nQ:  -1.34\\nN:      9\\n\",\"                    right\\nQ:  -2.56\\nN:      8\\n\",\"GridWorldState(3, 1, false)\\nN:    541\\n\",\"                       up\\nQ:  -0.66\\nN:     84\\n\",\"                     down\\nQ:   0.00\\nN:    150\\n\",\"                     left\\nQ:  -0.01\\nN:    144\\n\",\"                    right\\nQ:   0.17\\nN:    163\\n\",\"GridWorldState(4, 3, false)\\nN:     77\\n\",\"                       up\\nQ: -10.00\\nN:     20\\n\",\"                     down\\nQ: -10.00\\nN:     19\\n\",\"                     left\\nQ: -10.00\\nN:     19\\n\",\"                    right\\nQ: -10.00\\nN:     19\\n\",\"GridWorldState(4, 5, false)\\nN:     14\\n\",\"                       up\\nQ:  -4.07\\nN:      2\\n\",\"                     down\\nQ:  -4.05\\nN:      2\\n\",\"                     left\\nQ:   0.00\\nN:      5\\n\",\"                    right\\nQ:   0.00\\nN:      5\\n\",\"GridWorldState(9, 2, false)\\nN:   1475\\n\",\"                       up\\nQ:   7.90\\nN:   1435\\n\",\"                     down\\nQ:  -0.28\\nN:     10\\n\",\"                     left\\nQ:   0.22\\nN:     18\\n\",\"                    right\\nQ:   0.61\\nN:     12\\n\",\"GridWorldState(8, 5, false)\\nN:     35\\n\",\"                       up\\nQ:   1.68\\nN:      8\\n\",\"                     down\\nQ:   3.52\\nN:     15\\n\",\"                     left\\nQ:   0.68\\nN:      7\\n\",\"                    right\\nQ:   0.00\\nN:      5\\n\",\"GridWorldState(9, 5, false)\\nN:     23\\n\",\"                       up\\nQ:   0.00\\nN:      4\\n\",\"                     down\\nQ:   2.22\\nN:      9\\n\",\"                     left\\nQ:   1.31\\nN:      5\\n\",\"                    right\\nQ:   0.00\\nN:      5\\n\",\"                       up\\nQ:  -0.41\\nN:     98\\n\",\"                     down\\nQ:   0.00\\nN:    147\\n\",\"                     left\\nQ:  -0.60\\nN:     86\\n\",\"                    right\\nQ:   1.64\\nN:   1327\\n\",\"GridWorldState(10, 7, false)\\nN:      2\\n\",\"                       up\\nQ:   0.00\\nN:      1\\n\",\"                     down\\nQ:   0.00\\nN:      1\\n\",\"                     left\\nQ:   0.00\\nN:      0\\n\",\"                    right\\nQ:   0.00\\nN:      0\\n\",\"GridWorldState(9, 7, false)\\nN:      3\\n\",\"                       up\\nQ:   0.00\\nN:      1\\n\",\"                     down\\nQ:   0.00\\nN:      2\\n\",\"                     left\\nQ:   0.00\\nN:      0\\n\",\"                    right\\nQ:   0.00\\nN:      0\\n\",\"GridWorldState(9, 4, false)\\nN:     75\\n\",\"                       up\\nQ:   1.72\\nN:      8\\n\",\"                     down\\nQ:   7.38\\nN:     50\\n\",\"                     left\\nQ:   3.43\\nN:      9\\n\",\"                    right\\nQ:   2.77\\nN:      8\\n\",\"GridWorldState(6, 5, false)\\nN:     54\\n\",\"                       up\\nQ:  -0.20\\nN:     11\\n\",\"                     down\\nQ:   0.69\\nN:     17\\n\",\"                     left\\nQ:   0.00\\nN:     11\\n\",\"                    right\\nQ:   0.86\\nN:     15\\n\",\"GridWorldState(5, 2, false)\\nN:    743\\n\",\"                       up\\nQ:  -3.26\\nN:     15\\n\",\"                     down\\nQ:   1.31\\nN:    119\\n\",\"                     left\\nQ:  -0.87\\nN:     32\\n\",\"                    right\\nQ:   2.68\\nN:    577\\n\",\"GridWorldState(10, 6, false)\\nN:     11\\n\",\"                       up\\nQ:   0.00\\nN:      3\\n\",\"                     down\\nQ:   0.00\\nN:      4\\n\",\"                     left\\nQ:   0.00\\nN:      3\\n\",\"                    right\\nQ:   0.00\\nN:      1\\n\",\"GridWorldState(6, 6, false)\\nN:     18\\n\",\"                       up\\nQ:  -1.35\\nN:      3\\n\",\"                     down\\nQ:   0.00\\nN:      5\\n\",\"                     left\\nQ:   0.00\\nN:      5\\n\",\"                    right\\nQ:   0.32\\nN:      5\\n\",\"GridWorldState(2, 3, false)\\nN:     90\\n\",\"                       up\\nQ:  -0.25\\nN:     26\\n\",\"                     down\\nQ:  -0.44\\nN:     27\\n\",\"                     left\\nQ:  -1.25\\nN:     16\\n\",\"                    right\\nQ:  -0.77\\nN:     21\\n\",\"GridWorldState(1, 7, false)\\nN:      0\\n\",\"                       up\\nQ:   0.00\\nN:      0\\n\",\"                     down\\nQ:   0.00\\nN:      0\\n\",\"                     left\\nQ:   0.00\\nN:      0\\n\",\"                    right\\nQ:   0.00\\nN:      0\\n\",\"GridWorldState(10, 2, false)\\nN:    237\\n\",\"                       up\\nQ:   5.49\\nN:     98\\n\",\"                     down\\nQ:   4.47\\nN:     52\\n\",\"                     left\\nQ:   5.25\\nN:     72\\n\",\"                    right\\nQ:   0.00\\nN:     15\\n\",\"GridWorldState(2, 7, false)\\nN:      0\\n\",\"                       up\\nQ:   0.00\\nN:      0\\n\",\"                     down\\nQ:   0.00\\nN:      0\\n\",\"                     left\\nQ:   0.00\\nN:      0\\n\",\"                    right\\nQ:   0.00\\nN:      0\\n\",\"GridWorldState(3, 6, false)\\nN:      2\\n\",\"                       up\\nQ:   0.00\\nN:      1\\n\",\"                     down\\nQ:   0.00\\nN:      1\\n\",\"                     left\\nQ:   0.00\\nN:      0\\n\",\"                    right\\nQ:   0.00\\nN:      0\\n\",\"GridWorldState(7, 7, false)\\nN:      3\\n\",\"                       up\\nQ:   1.97\\nN:      1\\n\",\"                     down\\nQ:   0.00\\nN:      2\\n\",\"                     left\\nQ:   0.00\\nN:      0\\n\",\"                    right\\nQ:   0.00\\nN:      0\\n\",\"GridWorldState(7, 2, false)\\nN:    828\\n\",\"                       up\\nQ:   3.94\\nN:    156\\n\",\"                     down\\nQ:   3.39\\nN:     84\\n\",\"                     left\\nQ:   0.41\\nN:     21\\n\",\"                    right\\nQ:   5.01\\nN:    567\\n\",\"GridWorldState(8, 6, false)\\nN:     13\\n\",\"                       up\\nQ:   1.43\\nN:      3\\n\",\"                     down\\nQ:   0.00\\nN:      5\\n\",\"                     left\\nQ:   0.00\\nN:      2\\n\",\"                    right\\nQ:   0.00\\nN:      3\\n\",\"GridWorldState(10, 1, false)\\nN:    167\\n\",\"                       up\\nQ:   4.44\\nN:     70\\n\",\"                     down\\nQ:   0.00\\nN:     18\\n\",\"                     left\\nQ:   4.37\\nN:     61\\n\",\"                    right\\nQ:   0.00\\nN:     18\\n\",\"GridWorldState(1, 3, false)\\nN:     79\\n\",\"                       up\\nQ:   0.00\\nN:     21\\n\",\"                     down\\nQ:  -0.58\\nN:     17\\n\",\"                     left\\nQ:   0.00\\nN:     20\\n\",\"                    right\\nQ:   0.00\\nN:     21\\n\",\"GridWorldState(2, 5, false)\\nN:     21\\n\",\"                       up\\nQ:   0.00\\nN:      7\\n\",\"                     down\\nQ:   0.00\\nN:      4\\n\",\"                     left\\nQ:   0.00\\nN:      4\\n\",\"                    right\\nQ:   0.00\\nN:      6\\n\",\"GridWorldState(5, 7, false)\\nN:      3\\n\",\"                       up\\nQ:   0.00\\nN:      1\\n\",\"                     down\\nQ:   0.00\\nN:      1\\n\",\"                     left\\nQ:   0.00\\nN:      1\\n\",\"                    right\\nQ:   0.00\\nN:      0\\n\",\"GridWorldState(6, 2, false)\\nN:   1006\\n\",\"                       up\\nQ:   2.85\\nN:    170\\n\",\"                     down\\nQ:   0.93\\nN:     45\\n\",\"                     left\\nQ:   1.28\\nN:     53\\n\",\"                    right\\nQ:   3.94\\nN:    738\\n\",\"GridWorldState(4, 6, true)\\nN:      0\\n\",\"GridWorldState(9, 3, true)\\nN:      0\\n\",\"GridWorldState(9, 3, true)\\nN:      0\\n\",\"GridWorldState(9, 3, true)\\nN:      0\\n\",\"GridWorldState(9, 3, true)\\nN:      0\\n\",\"GridWorldState(4, 3, true)\\nN:      0\\n\",\"GridWorldState(4, 3, true)\\nN:      0\\n\",\"GridWorldState(4, 3, true)\\nN:      0\\n\",\"GridWorldState(4, 3, true)\\nN:      0\\n\",\"GridWorldState(5, 8, false)\\nN:      0\\n\"],\"style\":[\"\",\"\",\"stroke:#674C00\",\"stroke:#744600\",\"stroke:#833E00\",\"stroke:#4A5B00\",\"\",\"stroke:#7F4000\",\"stroke:#7F4000\",\"stroke:#7F4000\",\"stroke:#7F4000\",\"\",\"stroke:#555500\",\"stroke:#376400\",\"stroke:#585400\",\"stroke:#3D6100\",\"\",\"stroke:#7F4000\",\"stroke:#7F4000\",\"stroke:#7F4000\",\"stroke:#7F4000\",\"\",\"stroke:#863D00\",\"stroke:#823F00\",\"stroke:#813F00\",\"stroke:#853D00\",\"\",\"stroke:#963500\",\"stroke:#823F00\",\"stroke:#F20700\",\"stroke:#6C4A00\",\"\",\"stroke:#7F4000\",\"stroke:#7F4000\",\"stroke:#B92300\",\"stroke:#7F4000\",\"\",\"stroke:#7F4000\",\"stroke:#7F4000\",\"stroke:#7F4000\",\"stroke:#7F4000\",\"\",\"stroke:#565500\",\"stroke:#7F4000\",\"stroke:#664D00\",\"stroke:#515700\",\"\",\"stroke:#664D00\",\"stroke:#7F4000\",\"stroke:#784400\",\"stroke:#605000\",\"\",\"stroke:#366500\",\"stroke:#7F4000\",\"stroke:#6C4A00\",\"stroke:#614F00\",\"\",\"stroke:#8D3900\",\"stroke:#7F4000\",\"stroke:#7F4000\",\"stroke:#7F4000\",\"\",\"stroke:#445E00\",\"stroke:#7F4000\",\"stroke:#694B00\",\"stroke:#4B5A00\",\"\",\"stroke:#8A3B00\",\"stroke:#DD1100\",\"stroke:#7F4000\",\"stroke:#9D3100\",\"\",\"stroke:#7F4000\",\"stroke:#7F4000\",\"stroke:#7F4000\",\"stroke:#7F4000\",\"\",\"stroke:#A62D00\",\"stroke:#873C00\",\"stroke:#8B3A00\",\"stroke:#843E00\",\"\",\"stroke:#7F4000\",\"stroke:#7F4000\",\"stroke:#7F4000\",\"stroke:#7F4000\",\"\",\"stroke:#7F4000\",\"stroke:#7F4000\",\"stroke:#7F4000\",\"stroke:#7F4000\",\"\",\"stroke:#7F4000\",\"stroke:#624F00\",\"stroke:#7F4000\",\"stroke:#694B00\",\"\",\"stroke:#7F4000\",\"stroke:#5C5200\",\"stroke:#7F4000\",\"stroke:#7F4000\",\"\",\"stroke:#BF2000\",\"stroke:#7F4000\",\"stroke:#7F4000\",\"stroke:#7F4000\",\"\",\"stroke:#7F4000\",\"stroke:#7F4000\",\"stroke:#7F4000\",\"stroke:#7F4000\",\"\",\"stroke:#336600\",\"stroke:#654D00\",\"stroke:#674C00\",\"stroke:#356500\",\"\",\"stroke:#7B4200\",\"stroke:#724700\",\"stroke:#7C4200\",\"stroke:#5C5200\",\"\",\"stroke:#585400\",\"stroke:#7F4000\",\"stroke:#724700\",\"stroke:#5F5000\",\"\",\"stroke:#7F4000\",\"stroke:#7F4000\",\"stroke:#7F4000\",\"stroke:#7F4000\",\"\",\"stroke:#455D00\",\"stroke:#654D00\",\"stroke:#1F7000\",\"stroke:#7F4000\",\"\",\"stroke:#853D00\",\"stroke:#853D00\",\"stroke:#C71C00\",\"stroke:#883C00\",\"\",\"stroke:#605000\",\"stroke:#774400\",\"stroke:#794300\",\"stroke:#376400\",\"\",\"stroke:#7F4000\",\"stroke:#7F4000\",\"stroke:#7F4000\",\"stroke:#7F4000\",\"\",\"stroke:#853D00\",\"stroke:#7F4000\",\"stroke:#804000\",\"stroke:#823F00\",\"\",\"stroke:#813F00\",\"stroke:#7F4000\",\"stroke:#7F4000\",\"stroke:#813F00\",\"\",\"stroke:#DA1300\",\"stroke:#CC1A00\",\"stroke:#7F4000\",\"stroke:#DE1100\",\"\",\"stroke:#7F4000\",\"stroke:#7F4000\",\"stroke:#7F4000\",\"stroke:#7F4000\",\"\",\"stroke:#664D00\",\"stroke:#734600\",\"stroke:#7F4000\",\"stroke:#1C7200\",\"\",\"stroke:#CF1800\",\"stroke:#7D4100\",\"stroke:#933600\",\"stroke:#784400\",\"\",\"stroke:#008000\",\"stroke:#008000\",\"stroke:#008000\",\"stroke:#008000\",\"\",\"stroke:#7F4000\",\"stroke:#7F4000\",\"stroke:#784400\",\"stroke:#7F4000\",\"\",\"stroke:#7F4000\",\"stroke:#8A3B00\",\"stroke:#7F4000\",\"stroke:#7F4000\",\"\",\"stroke:#AA2B00\",\"stroke:#C31E00\",\"stroke:#913700\",\"stroke:#C41E00\",\"\",\"stroke:#7F4000\",\"stroke:#7D4100\",\"stroke:#853D00\",\"stroke:#9C3200\",\"\",\"stroke:#595300\",\"stroke:#575400\",\"stroke:#7F4000\",\"stroke:#7F4000\",\"\",\"stroke:#7F4000\",\"stroke:#7F4000\",\"stroke:#7F4000\",\"stroke:#804000\",\"\",\"stroke:#674C00\",\"stroke:#545600\",\"stroke:#6E4900\",\"stroke:#4B5A00\",\"\",\"stroke:#7F4000\",\"stroke:#7F4000\",\"stroke:#913700\",\"stroke:#A03000\",\"\",\"stroke:#883C00\",\"stroke:#7F4000\",\"stroke:#804000\",\"stroke:#7D4100\",\"\",\"stroke:#FF0000\",\"stroke:#FF0000\",\"stroke:#FF0000\",\"stroke:#FF0000\",\"\",\"stroke:#B32600\",\"stroke:#B32600\",\"stroke:#7F4000\",\"stroke:#7F4000\",\"\",\"stroke:#1B7200\",\"stroke:#833E00\",\"stroke:#7D4100\",\"stroke:#784400\",\"\",\"stroke:#6A4B00\",\"stroke:#535600\",\"stroke:#774400\",\"stroke:#7F4000\",\"\",\"stroke:#7F4000\",\"stroke:#634E00\",\"stroke:#6F4800\",\"stroke:#7F4000\",\"stroke:#853D00\",\"stroke:#7F4000\",\"stroke:#873C00\",\"stroke:#6B4A00\",\"\",\"stroke:#7F4000\",\"stroke:#7F4000\",\"stroke:#7F4000\",\"stroke:#7F4000\",\"\",\"stroke:#7F4000\",\"stroke:#7F4000\",\"stroke:#7F4000\",\"stroke:#7F4000\",\"\",\"stroke:#6A4B00\",\"stroke:#216F00\",\"stroke:#545600\",\"stroke:#5C5200\",\"\",\"stroke:#823F00\",\"stroke:#774400\",\"stroke:#7F4000\",\"stroke:#754500\",\"\",\"stroke:#A92B00\",\"stroke:#6F4800\",\"stroke:#8B3A00\",\"stroke:#5D5100\",\"\",\"stroke:#7F4000\",\"stroke:#7F4000\",\"stroke:#7F4000\",\"stroke:#7F4000\",\"\",\"stroke:#913700\",\"stroke:#7F4000\",\"stroke:#7F4000\",\"stroke:#7B4200\",\"\",\"stroke:#833E00\",\"stroke:#853D00\",\"stroke:#8F3800\",\"stroke:#893B00\",\"\",\"stroke:#7F4000\",\"stroke:#7F4000\",\"stroke:#7F4000\",\"stroke:#7F4000\",\"\",\"stroke:#396300\",\"stroke:#475C00\",\"stroke:#3D6100\",\"stroke:#7F4000\",\"\",\"stroke:#7F4000\",\"stroke:#7F4000\",\"stroke:#7F4000\",\"stroke:#7F4000\",\"\",\"stroke:#7F4000\",\"stroke:#7F4000\",\"stroke:#7F4000\",\"stroke:#7F4000\",\"\",\"stroke:#664D00\",\"stroke:#7F4000\",\"stroke:#7F4000\",\"stroke:#7F4000\",\"\",\"stroke:#4D5900\",\"stroke:#545600\",\"stroke:#7A4300\",\"stroke:#406000\",\"\",\"stroke:#6D4900\",\"stroke:#7F4000\",\"stroke:#7F4000\",\"stroke:#7F4000\",\"\",\"stroke:#475C00\",\"stroke:#7F4000\",\"stroke:#485C00\",\"stroke:#7F4000\",\"\",\"stroke:#7F4000\",\"stroke:#873C00\",\"stroke:#7F4000\",\"stroke:#7F4000\",\"\",\"stroke:#7F4000\",\"stroke:#7F4000\",\"stroke:#7F4000\",\"stroke:#7F4000\",\"\",\"stroke:#7F4000\",\"stroke:#7F4000\",\"stroke:#7F4000\",\"stroke:#7F4000\",\"\",\"stroke:#5B5200\",\"stroke:#744600\",\"stroke:#6F4800\",\"stroke:#4D5900\",\"\",\"\",\"\",\"\",\"\",\"\",\"\",\"\",\"\",\"\"]}};\n",
       "        var rootID = 1-1;\n",
       "        var div = \"treevis2P0c89lY\";\n",
       "        var initExpand = 0\n",
       "        var initDuration = 750\n",
       "        var svgHeight = 600\n",
       "        if (typeof $ === 'undefined') {\n",
       "    loadScript(\"https://code.jquery.com/jquery-3.1.1.min.js\", run);\n",
       "} else {\n",
       "    run();\n",
       "}\n",
       "\n",
       "function run() {\n",
       "    if (typeof d3 === 'undefined') {\n",
       "        loadScript(\"https://d3js.org/d3.v3.js\", showTree);\n",
       "    } else {\n",
       "        showTree();\n",
       "    }\n",
       "}\n",
       "\n",
       "function loadScript(url, callback)\n",
       "{\n",
       "    console.log(\"starting script load...\")\n",
       "    // Adding the script tag to the head as suggested before\n",
       "    var head = document.getElementsByTagName('head')[0];\n",
       "    var script = document.createElement('script');\n",
       "    script.type = 'text/javascript';\n",
       "    script.src = url;\n",
       "\n",
       "    // Then bind the event to the callback function.\n",
       "    // There are several events for cross browser compatibility.\n",
       "    script.onreadystatechange = callback;\n",
       "    script.onload = callback;\n",
       "\n",
       "    // Fire the loading\n",
       "    head.appendChild(script);\n",
       "}\n",
       "\n",
       "function showTree() {\n",
       "        \n",
       "    // var margin = {top: 20, right: 120, bottom: 20, left: 120},\n",
       "    var margin = {top: 20, right: 120, bottom: 80, left: 120},\n",
       "        width = $(\"#\"+div).width() - margin.right - margin.left,\n",
       "        height = svgHeight - margin.top - margin.bottom;\n",
       "        // TODO make height a parameter of TreeVisualizer\n",
       "\n",
       "    var i = 0,\n",
       "        root;\n",
       "\n",
       "    var tree = d3.layout.tree()\n",
       "        .size([width, height]);\n",
       "\n",
       "    var diagonal = d3.svg.diagonal();\n",
       "        //.projection(function(d) { return [d.y, d.x]; });\n",
       "        // uncomment above to make the tree go horizontally\n",
       "\n",
       "    // see http://stackoverflow.com/questions/16265123/resize-svg-when-window-is-resized-in-d3-js\n",
       "    if (d3.select(\"#\"+div+\"_svg\").empty()) {\n",
       "        $(\".d3twarn\").remove();\n",
       "        d3.select(\"#\"+div).append(\"svg\")\n",
       "            .attr(\"id\", div+\"_svg\")\n",
       "            .attr(\"width\", width + margin.right + margin.left)\n",
       "            .attr(\"height\", height + margin.top + margin.bottom);\n",
       "    }\n",
       "\n",
       "    d3.select(\"#\"+div+\"_svg\").selectAll(\"*\").remove();\n",
       "\n",
       "    var svg = d3.select(\"#\"+div+\"_svg\")\n",
       "        .append(\"g\")\n",
       "            .attr(\"transform\", \"translate(\" + margin.left + \",\" + margin.top + \")\");\n",
       "\n",
       "    // console.log(\"tree data:\");\n",
       "    // console.log(treeData[rootID]);\n",
       "    root = createDisplayNode(rootID, initExpand);\n",
       "    root.x0 = width / 2;\n",
       "    root.y0 = 0;\n",
       "\n",
       "    update(root, initDuration);\n",
       "    console.log(\"tree should appear\");\n",
       "\n",
       "    function createDisplayNode(id, expandLevel) {\n",
       "      var dnode = {\"dataID\":id,\n",
       "                   \"children\": null,\n",
       "                   \"_children\":null};\n",
       "      if (expandLevel > 0) {\n",
       "        initializeChildren(dnode, expandLevel);\n",
       "      }\n",
       "      return dnode;\n",
       "    }\n",
       "\n",
       "    function initializeChildren(d, expandLevel) {\n",
       "      // create children\n",
       "      var children = treeData.children[d.dataID];\n",
       "      d.children = [];\n",
       "      if (children) {\n",
       "        for (var i = 0; i < children.length; i++) {\n",
       "          var cid = children[i]-1;\n",
       "          d.children.push(createDisplayNode(cid, expandLevel-1));\n",
       "        }\n",
       "      }\n",
       "    }\n",
       "\n",
       "    /**\n",
       "     * Recursively called to update each node in the tree.\n",
       "     * \n",
       "     * source is a d3 node that has position, etc.\n",
       "    */\n",
       "    function update(source, duration) {\n",
       "\n",
       "      width = $(\"#\"+div).width() - margin.right - margin.left,\n",
       "      height = $(\"#\"+div).height() - margin.top - margin.bottom;\n",
       "\n",
       "      tree.size([width,height]);\n",
       "      d3.select(\"#\"+div).attr(\"width\", width + margin.right + margin.left)\n",
       "            .attr(\"height\", height + margin.top + margin.bottom);\n",
       "      d3.select(\"#\"+div+\"_svg\").attr(\"width\", width + margin.right + margin.left)\n",
       "             .attr(\"height\", height + margin.top + margin.bottom);\n",
       "\n",
       "\n",
       "      // Compute the new tree layout.\n",
       "      var nodes = tree.nodes(root).reverse(),\n",
       "          links = tree.links(nodes);\n",
       "\n",
       "\n",
       "      // Update the nodes…\n",
       "      var node = svg.selectAll(\"g.node\")\n",
       "          .data(nodes, function(d) { return d.id || (d.id = ++i); });\n",
       "\n",
       "      // Enter any new nodes at the parent's previous position.\n",
       "      var nodeEnter = node.enter().append(\"g\")\n",
       "          .attr(\"class\", \"node\")\n",
       "          .attr(\"transform\", function(d) { return \"translate(\" + source.x0 + \",\" + source.y0 + \")\"; })\n",
       "          .on(\"click\", click)\n",
       "\n",
       "      nodeEnter.append(\"circle\")\n",
       "          .attr(\"r\", \"10px\")\n",
       "          .attr(\"style\", function(d) { return treeData.style[d.dataID]; } )\n",
       "\n",
       "      var tbox = nodeEnter.append(\"text\")\n",
       "          .attr(\"y\", 25)\n",
       "          .attr(\"text-anchor\", \"middle\")\n",
       "          //.text( function(d) { return treeData.text[d.dataID]; } )\n",
       "          .style(\"fill-opacity\", 1e-6);\n",
       "\n",
       "      tbox.each( function(d) {\n",
       "          var el = d3.select(this)\n",
       "          var text = treeData.text[d.dataID];\n",
       "          var lines = text.split('\\n');\n",
       "          for (var i = 0; i < lines.length; i++) {\n",
       "              var tspan = el.append(\"tspan\").text(lines[i]);\n",
       "              if (i > 0) {\n",
       "                  tspan.attr(\"x\", 0).attr(\"dy\", \"1.2em\");\n",
       "              }\n",
       "          }\n",
       "      });\n",
       "\n",
       "      //tooltip\n",
       "      nodeEnter.append(\"title\").text( function(d) { return treeData.tooltip[d.dataID];} );\n",
       "\n",
       "      // Transition nodes to their new position.\n",
       "      var nodeUpdate = node.transition()\n",
       "          .duration(duration)\n",
       "          .attr(\"transform\", function(d) { return \"translate(\" + d.x + \",\" + d.y + \")\"; });\n",
       "\n",
       "      nodeUpdate.select(\"text\")\n",
       "          .style(\"fill-opacity\", 1);\n",
       "\n",
       "      // Transition exiting nodes to the parent's new position.\n",
       "      var nodeExit = node.exit().transition()\n",
       "          .duration(duration)\n",
       "          .attr(\"transform\", function(d) { return \"translate(\" + source.x + \",\" + source.y + \")\"; })\n",
       "          .remove();\n",
       "\n",
       "      nodeExit.select(\"text\")\n",
       "          .style(\"fill-opacity\", 1e-6);\n",
       "\n",
       "      // Update the links…\n",
       "      var link = svg.selectAll(\"path.link\")\n",
       "          .data(links, function(d) { return d.target.id; });\n",
       "\n",
       "      // Enter any new links at the parent's previous position.\n",
       "      // XXX link width should be based on transition data, not node data\n",
       "      link.enter().insert(\"path\", \"g\")\n",
       "          .attr(\"class\", \"link\")\n",
       "          .attr(\"style\", function(d) {\n",
       "              var ls = treeData.link_style[d.target.dataID];\n",
       "              return ls;\n",
       "          } )\n",
       "          .attr(\"d\", function(d) {\n",
       "            var o = {x: source.x0, y: source.y0};\n",
       "            return diagonal({source: o, target: o});\n",
       "          });\n",
       "\n",
       "      // Transition links to their new position.\n",
       "      link.transition()\n",
       "          .duration(duration)\n",
       "          .attr(\"d\", diagonal);\n",
       "\n",
       "      // Transition exiting nodes to the parent's new position.\n",
       "      link.exit().transition()\n",
       "          .duration(duration)\n",
       "          .attr(\"d\", function(d) {\n",
       "            var o = {x: source.x, y: source.y};\n",
       "            return diagonal({source: o, target: o});\n",
       "          })\n",
       "          .remove();\n",
       "\n",
       "      // Stash the old positions for transition.\n",
       "      nodes.forEach(function(d) {\n",
       "        d.x0 = d.x;\n",
       "        d.y0 = d.y;\n",
       "      });\n",
       "    }\n",
       "\n",
       "    // Toggle children on click.\n",
       "    function click(d) {\n",
       "      if (d.children) {\n",
       "        d._children = d.children;\n",
       "        d.children = null;\n",
       "      } else if (d._children) {\n",
       "        d.children = d._children;\n",
       "        d._children = null;\n",
       "      } else {\n",
       "        initializeChildren(d, 1);\n",
       "      }\n",
       "      update(d, 750);\n",
       "    }\n",
       "\n",
       "}\n",
       "\n",
       "        })();\n",
       "    </script>\n",
       "    <p class=\"d3twarn\">\n",
       "    Attempting to display the tree. If the tree is large, this may take some time.\n",
       "    </p>\n",
       "    <p class=\"d3twarn\">\n",
       "    Note: D3Trees.jl requires an internet connection. If no tree appears, please check your connection. To help fix this, please see <a href=\"https://github.com/sisl/D3Trees.jl/issues/10\">this issue</a>. You may also diagnose errors with the javascript console (Ctrl-Shift-J in chrome).\n",
       "    </p>\n",
       "    </div>\n",
       "    </body>\n",
       "    </html>\n",
       "\n"
      ],
      "text/plain": [
       "GridWorldState(4, 1, false)\n",
       "N:   1658\n",
       "\n",
       "├──                       up\n",
       "│  Q:  -0.41\n",
       "│  N:     98\n",
       "\n",
       "│  ├──GridWorldState(3, 1, false)\n",
       "│  │  N:    541\n",
       "\n",
       "│  │  ├──                       up\n",
       "│  │  │  Q:  -0.66\n",
       "│  │  │  N:     84\n",
       " (3 children)\n",
       "│  │  ├──                     down\n",
       "│  │  │  Q:   0.00\n",
       "│  │  │  N:    150\n",
       " (1 children)\n",
       "│  │  ├──                     left\n",
       "│  │  │  Q:  -0.01\n",
       "│  │  │  N:    144\n",
       " (3 children)\n",
       "│  │  └──                    right\n",
       "│  │     Q:   0.17\n",
       "│  │     N:    163\n",
       " (3 children)\n",
       "│  ├──GridWorldState(5, 1, false)\n",
       "│  │  N:   1375\n",
       "\n",
       "│  │  ├──                       up\n",
       "│  │  │  Q:   2.01\n",
       "│  │  │  N:    406\n",
       " (3 children)\n",
       "│  │  ├──                     down\n",
       "│  │  │  Q:   0.00\n",
       "│  │  │  N:     73\n",
       " (1 children)\n",
       "│  │  ├──                     left\n",
       "│  │  │  Q:   0.62\n",
       "│  │  │  N:     96\n",
       " (3 children)\n",
       "│  │  └──                    right\n",
       "│  │     Q:   2.46\n",
       "│  │     N:    800\n",
       " (3 children)\n",
       "│  └──GridWorldState(4, 2, false)\n",
       "│     N:    430\n",
       "\n",
       "│     ├──                       up\n",
       "│     │  Q:  -6.23\n",
       "│     │  N:      9\n",
       " (3 children)\n",
       "│     ├──                     down\n",
       "│     │  Q:   0.22\n",
       "│     │  N:    154\n",
       " (4 children)\n",
       "│     ├──                     left\n",
       "│     │  Q:  -1.54\n",
       "│     │  N:     54\n",
       " (4 children)\n",
       "│     └──                    right\n",
       "│        Q:   0.60\n",
       "│        N:    213\n",
       " (4 children)\n",
       "├──                     down\n",
       "│  Q:   0.00\n",
       "│  N:    147\n",
       "\n",
       "│  └──GridWorldState(4, 1, false)\n",
       "│     N:   1658\n",
       "\n",
       "│     ├──                       up\n",
       "│     │  Q:  -0.41\n",
       "│     │  N:     98\n",
       " (3 children)\n",
       "│     ├──                     down\n",
       "│     │  Q:   0.00\n",
       "│     │  N:    147\n",
       " (1 children)\n",
       "│     ├──                     left\n",
       "│     │  Q:  -0.60\n",
       "│     │  N:     86\n",
       " (3 children)\n",
       "│     └──                    right\n",
       "│        Q:   1.64\n",
       "│        N:   1327\n",
       " (3 children)\n",
       "├──                     left\n",
       "│  Q:  -0.60\n",
       "│  N:     86\n",
       "\n",
       "│  ├──GridWorldState(3, 1, false)\n",
       "│  │  N:    541\n",
       "\n",
       "│  │  ├──                       up\n",
       "│  │  │  Q:  -0.66\n",
       "│  │  │  N:     84\n",
       " (3 children)\n",
       "│  │  ├──                     down\n",
       "│  │  │  Q:   0.00\n",
       "│  │  │  N:    150\n",
       " (1 children)\n",
       "│  │  ├──                     left\n",
       "│  │  │  Q:  -0.01\n",
       "│  │  │  N:    144\n",
       " (3 children)\n",
       "│  │  └──                    right\n",
       "│  │     Q:   0.17\n",
       "│  │     N:    163\n",
       " (3 children)\n",
       "│  ├──GridWorldState(5, 1, false)\n",
       "│  │  N:   1375\n",
       "\n",
       "│  │  ├──                       up\n",
       "│  │  │  Q:   2.01\n",
       "│  │  │  N:    406\n",
       " (3 children)\n",
       "│  │  ├──                     down\n",
       "│  │  │  Q:   0.00\n",
       "│  │  │  N:     73\n",
       " (1 children)\n",
       "│  │  ├──                     left\n",
       "│  │  │  Q:   0.62\n",
       "│  │  │  N:     96\n",
       " (3 children)\n",
       "│  │  └──                    right\n",
       "│  │     Q:   2.46\n",
       "│  │     N:    800\n",
       " (3 children)\n",
       "│  └──GridWorldState(4, 2, false)\n",
       "│     N:    430\n",
       "\n",
       "│     ├──                       up\n",
       "│     │  Q:  -6.23\n",
       "│     │  N:      9\n",
       " (3 children)\n",
       "│     ├──                     down\n",
       "│     │  Q:   0.22\n",
       "│     │  N:    154\n",
       " (4 children)\n",
       "│     ├──                     left\n",
       "│     │  Q:  -1.54\n",
       "│     │  N:     54\n",
       " (4 children)\n",
       "│     └──                    right\n",
       "│        Q:   0.60\n",
       "│        N:    213\n",
       " (4 children)\n",
       "└──                    right\n",
       "   Q:   1.64\n",
       "   N:   1327\n",
       "\n",
       "   ├──GridWorldState(3, 1, false)\n",
       "   │  N:    541\n",
       "\n",
       "   │  ├──                       up\n",
       "   │  │  Q:  -0.66\n",
       "   │  │  N:     84\n",
       " (3 children)\n",
       "   │  ├──                     down\n",
       "   │  │  Q:   0.00\n",
       "   │  │  N:    150\n",
       " (1 children)\n",
       "   │  ├──                     left\n",
       "   │  │  Q:  -0.01\n",
       "   │  │  N:    144\n",
       " (3 children)\n",
       "   │  └──                    right\n",
       "   │     Q:   0.17\n",
       "   │     N:    163\n",
       " (3 children)\n",
       "   ├──GridWorldState(5, 1, false)\n",
       "   │  N:   1375\n",
       "\n",
       "   │  ├──                       up\n",
       "   │  │  Q:   2.01\n",
       "   │  │  N:    406\n",
       " (3 children)\n",
       "   │  ├──                     down\n",
       "   │  │  Q:   0.00\n",
       "   │  │  N:     73\n",
       " (1 children)\n",
       "   │  ├──                     left\n",
       "   │  │  Q:   0.62\n",
       "   │  │  N:     96\n",
       " (3 children)\n",
       "   │  └──                    right\n",
       "   │     Q:   2.46\n",
       "   │     N:    800\n",
       " (3 children)\n",
       "   └──GridWorldState(4, 2, false)\n",
       "      N:    430\n",
       "\n",
       "      ├──                       up\n",
       "      │  Q:  -6.23\n",
       "      │  N:      9\n",
       " (3 children)\n",
       "      ├──                     down\n",
       "      │  Q:   0.22\n",
       "      │  N:    154\n",
       " (4 children)\n",
       "      ├──                     left\n",
       "      │  Q:  -1.54\n",
       "      │  N:     54\n",
       " (4 children)\n",
       "      └──                    right\n",
       "         Q:   0.60\n",
       "         N:    213\n",
       " (4 children)\n"
      ]
     },
     "execution_count": 23,
     "metadata": {},
     "output_type": "execute_result"
    }
   ],
   "source": [
    "using D3Trees\n",
    "\n",
    "# first, run the planner on the state\n",
    "s = state_hist(hist)[1]\n",
    "a = action(planner, s)\n",
    "\n",
    "# show the tree (click the node to expand)\n",
    "D3Tree(planner, s)"
   ]
  },
  {
   "cell_type": "code",
   "execution_count": null,
   "metadata": {
    "collapsed": true
   },
   "outputs": [],
   "source": []
  }
 ],
 "metadata": {
  "anaconda-cloud": {},
  "kernelspec": {
   "display_name": "Julia 0.6.2",
   "language": "julia",
   "name": "julia-0.6"
  },
  "language_info": {
   "file_extension": ".jl",
   "mimetype": "application/julia",
   "name": "julia",
   "version": "0.6.2"
  }
 },
 "nbformat": 4,
 "nbformat_minor": 1
}
