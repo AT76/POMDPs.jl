{
 "cells": [
  {
   "cell_type": "markdown",
   "metadata": {},
   "source": [
    "# Tiger Tutorial: Solving POMDPs"
   ]
  },
  {
   "cell_type": "markdown",
   "metadata": {},
   "source": [
    "This tutorial outlines how to define a POMDP using the [POMDPs.jl](https://github.com/JuliaPOMDP/POMDPs.jl) interface. We will go through a simple problem simply known as the tiger problem (we will refer to it as the tiger POMDP). After defining the tiger POMDP, we will use QMDP and SARSOP to solve the POMDP. If you are new to working with this package, check out the [tutorial](http://nbviewer.ipython.org/github/JuliaPOMDP/POMDPs.jl/blob/master/examples/GridWorld.ipynb) on MDPs first."
   ]
  },
  {
   "cell_type": "markdown",
   "metadata": {},
   "source": [
    "## Dependencies\n",
    "You need to install a few modules in order to use this notebook. If you have all the modules below installed, great! If not run the following commands:\n",
    "\n",
    "```julia\n",
    "# install the POMDPs.jl interface\n",
    "Pkg.clone(\"https://github.com/sisl/POMDPs.jl.git\")\n",
    "\n",
    "using POMDPs\n",
    "\n",
    "# install the SARSOP wrapper\n",
    "POMDPs.add(\"SARSOP\") # note this downloads and builds the APPL toolit and may take a few minutes \n",
    "\n",
    "# install the QMDP solver\n",
    "POMDPs.add(\"QMDP\")\n",
    "\n",
    "# install a helper modules\n",
    "POMDPs.add(\"POMDPToolbox\") # this provides implementations of discrete belief updating\n",
    "\n",
    "# install a Julia packages for working with distributions\n",
    "Pkg.add(\"Distributions\")\n",
    "```\n",
    "\n",
    "If you already have all of the modules above, make sure you have the most recent versions. Many of these are still under heavy development, so update before starting by running\n",
    "\n",
    "```julia\n",
    "Pkg.update()\n",
    "```"
   ]
  },
  {
   "cell_type": "markdown",
   "metadata": {},
   "source": [
    "## Problem Overview\n",
    "In the tiger POMDP, the agent is tasked with escaping from a room. There are two doors leading out of the room. Behind one of the doors is a tiger, and behind the other is sweet, sweet freedom. If the agent opens the door and finds the tiger, it gets eaten (and receives a reward of -100). If the agent opens the other door, it escapes and receives a reward of 10. The agent can also listen. Listening gives a noisy measurement of which door the tiger is hiding behind. Listening gives the agent the correct location of the tiger 85% of the time. The agent receives a reward of -1 for listening. "
   ]
  },
  {
   "cell_type": "code",
   "execution_count": 1,
   "metadata": {
    "collapsed": true
   },
   "outputs": [],
   "source": [
    "# first import POMDPs.jl\n",
    "using POMDPs"
   ]
  },
  {
   "cell_type": "markdown",
   "metadata": {},
   "source": [
    "## POMDP \n",
    "A POMDP is defined by the tuple\n",
    "$$(\\mathcal{S}, \\mathcal{A}, \\mathcal{Z}, T, R, O).$$\n",
    "In addition to the familiar, state $\\mathcal{S}$ and action $\\mathcal{A}$ spaces, we must also define an observation space $\\mathcal{Z}$ and an observation function $O$. The POMDP problem definition may be similar to the one for MDP. For example, if you wanted to add state uncertainty to your problem, you can define the observation space, and observation function in addition to your previous MDP definition.\n",
    "\n",
    "Before defining the spaces for this problem, let's first define the concrete type for the tiger POMDP. "
   ]
  },
  {
   "cell_type": "code",
   "execution_count": 2,
   "metadata": {
    "collapsed": false
   },
   "outputs": [],
   "source": [
    "type TigerPOMDP <: POMDP{Bool, Symbol, Bool} # POMDP{State, Action, Observation} all parametarized by Int64s\n",
    "    r_listen::Float64 # reward for listening (default -1)\n",
    "    r_findtiger::Float64 # reward for finding the tiger (default -100)\n",
    "    r_escapetiger::Float64 # reward for escaping (default 10)\n",
    "    p_listen_correctly::Float64 # prob of correctly listening (default 0.85)\n",
    "    discount_factor::Float64 # discount\n",
    "end\n",
    "# default constructor\n",
    "function TigerPOMDP()\n",
    "    return TigerPOMDP(-1.0, -100.0, 10.0, 0.85, 0.95)\n",
    "end;"
   ]
  },
  {
   "cell_type": "markdown",
   "metadata": {},
   "source": [
    "There are a number of parameters in the problem definition, but we can treat them all as constants. You can read more about the Tiger problem and POMDPs [here](http://www.techfak.uni-bielefeld.de/~skopp/Lehre/STdKI_SS10/POMDP_tutorial.pdf#page=28). However, we created a default constructor that allows us to initialize the tiger POMDP by simply running:"
   ]
  },
  {
   "cell_type": "code",
   "execution_count": 3,
   "metadata": {
    "collapsed": false
   },
   "outputs": [
    {
     "data": {
      "text/plain": [
       "TigerPOMDP(-1.0,-100.0,10.0,0.85,0.95)"
      ]
     },
     "execution_count": 3,
     "metadata": {},
     "output_type": "execute_result"
    }
   ],
   "source": [
    "pomdp = TigerPOMDP()"
   ]
  },
  {
   "cell_type": "markdown",
   "metadata": {},
   "source": [
    "Note that the TigerPOMDP type inherits from a ```POMDP{Bool, Symbol, Bool}```. This means that in our problem we will use ```Bool``` to represent our states, ```Symbol``` to represent our actions and ```Bool``` to represent our observations. More details on states, actions and observations in this problem are below."
   ]
  },
  {
   "cell_type": "markdown",
   "metadata": {},
   "source": [
    "## States\n",
    "We define our state with a boolean that indicates weather or not the tiger is hiding behind the left door. If our state is ```true```, the tiger is behind the left door. If its ```false```, the tiger is behind the right door. "
   ]
  },
  {
   "cell_type": "code",
   "execution_count": 4,
   "metadata": {
    "collapsed": false
   },
   "outputs": [
    {
     "data": {
      "text/plain": [
       "false"
      ]
     },
     "execution_count": 4,
     "metadata": {},
     "output_type": "execute_result"
    }
   ],
   "source": [
    "example_state = false # tiger is hiding behind right door"
   ]
  },
  {
   "cell_type": "markdown",
   "metadata": {},
   "source": [
    "Since the state is a binary value, we represent it as a boolean, but we could have represented it as an integer or any other sensible type."
   ]
  },
  {
   "cell_type": "markdown",
   "metadata": {},
   "source": [
    "## Actions\n",
    "There are three possible actions our agent can take: open the left door, open the right door, and listen. For clarity, we will represent these with symbols."
   ]
  },
  {
   "cell_type": "code",
   "execution_count": 5,
   "metadata": {
    "collapsed": false
   },
   "outputs": [
    {
     "data": {
      "text/plain": [
       ":listen"
      ]
     },
     "execution_count": 5,
     "metadata": {},
     "output_type": "execute_result"
    }
   ],
   "source": [
    "example_action = :listen # agent listens, can be :openl or :openr"
   ]
  },
  {
   "cell_type": "markdown",
   "metadata": {},
   "source": [
    "We will represent our actions with the following symbols: open left (:openl), open right (:openr), and listen (:listen). For example, the action below represnts listening:"
   ]
  },
  {
   "cell_type": "code",
   "execution_count": 6,
   "metadata": {
    "collapsed": false
   },
   "outputs": [
    {
     "data": {
      "text/plain": [
       ":listen"
      ]
     },
     "execution_count": 6,
     "metadata": {},
     "output_type": "execute_result"
    }
   ],
   "source": [
    "a = :listen"
   ]
  },
  {
   "cell_type": "markdown",
   "metadata": {},
   "source": [
    "## Observations\n",
    "There are two possible observations: the agent either hears the tiger behind the left door or behind the right door. We use a boolean to represent the observations:"
   ]
  },
  {
   "cell_type": "code",
   "execution_count": 7,
   "metadata": {
    "collapsed": false
   },
   "outputs": [
    {
     "data": {
      "text/plain": [
       "true"
      ]
     },
     "execution_count": 7,
     "metadata": {},
     "output_type": "execute_result"
    }
   ],
   "source": [
    "example_observation = true # agent heard the tiger behind the left door"
   ]
  },
  {
   "cell_type": "markdown",
   "metadata": {},
   "source": [
    "## Spaces\n",
    "Let's define our state, action and observation spaces."
   ]
  },
  {
   "cell_type": "markdown",
   "metadata": {},
   "source": [
    "### State Space\n",
    "There are only two states in the tiger POMDP: the tiger is either behind the left door or behind the right door. Our state space is simply an array of the states in the problem.  Recall, that the ```states``` function returns the state space for a given POMDP type."
   ]
  },
  {
   "cell_type": "code",
   "execution_count": 8,
   "metadata": {
    "collapsed": true
   },
   "outputs": [],
   "source": [
    "POMDPs.states(::TigerPOMDP) = [true, false];"
   ]
  },
  {
   "cell_type": "markdown",
   "metadata": {},
   "source": [
    "Recall that in the [tutorial](http://nbviewer.ipython.org/github/sisl/POMDPs.jl/blob/master/examples/GridWorld.ipynb) on MDPs, we also defined a ```rand!``` function that sampled the space. We do not need this function when using QMDP or SARSOP. However, if you wanted to use Monte Carlo solvers solvers like POMCP or DESPOT you would need a function that can sample your spaces. It may be convenient to have these sampling functions if you plan to simulate your policy."
   ]
  },
  {
   "cell_type": "markdown",
   "metadata": {},
   "source": [
    "### Action Space\n",
    "There are three actions in our problem. Once again, we represent the action space as an array of the actions in our problem. The ```actions``` function serve a similar purpose to the ```states``` function above. Since the action space is discrete, we can define the ```action_index``` function that associates an integer index to each action."
   ]
  },
  {
   "cell_type": "code",
   "execution_count": 9,
   "metadata": {
    "collapsed": false
   },
   "outputs": [],
   "source": [
    "POMDPs.actions(::TigerPOMDP) = [:openl, :openr, :listen] # default\n",
    "POMDPs.actions(pomdp::TigerPOMDP, state::Bool) = POMDPs.actions(pomdp) # convenience (actions do not change in different states)\n",
    "function POMDPs.action_index(::TigerPOMDP, a::Symbol)\n",
    "    if a==:openl\n",
    "        return 1\n",
    "    elseif a==:openr\n",
    "        return 2\n",
    "    elseif a==:listen\n",
    "        return 3\n",
    "    end\n",
    "    error(\"invalid TigerPOMDP action: $a\")\n",
    "end;"
   ]
  },
  {
   "cell_type": "markdown",
   "metadata": {},
   "source": [
    "### Observation Space\n",
    "The observation space looks similar to the state space. Recall that the state represents the truth about our system, while the observation is potentially false information recieves about the state. In the tiger POMDP, our observation could give us a false representation of our state. "
   ]
  },
  {
   "cell_type": "code",
   "execution_count": 10,
   "metadata": {
    "collapsed": false
   },
   "outputs": [],
   "source": [
    "# function returning observation space\n",
    "POMDPs.observations(::TigerPOMDP) = [true, false];\n",
    "POMDPs.observations(pomdp::TigerPOMDP, s::Bool) = observations(pomdp);"
   ]
  },
  {
   "cell_type": "markdown",
   "metadata": {},
   "source": [
    "Now that we've defined the POMDP spaces, let's move on to defining the model functions."
   ]
  },
  {
   "cell_type": "markdown",
   "metadata": {},
   "source": [
    "## Transition and Observation Distributions\n",
    "Before defining the model functions, we first need to create a distributions data-type. In general, our distributions should support sampling and have a ```pdf``` method. If you only want to get a policy from the SARSOP and QMDP solvers, you do not need to worry about implementing a sampling function. However, if you want to simulate the policy, you should implement these functions.\n",
    "\n",
    "Since the transition and observation distributions have identical form, we could just use a single type to serve the needs of both. This will not be the case in general."
   ]
  },
  {
   "cell_type": "code",
   "execution_count": 11,
   "metadata": {
    "collapsed": false
   },
   "outputs": [],
   "source": [
    "# distribution type that will be used for both transitions and observations\n",
    "type TigerDistribution\n",
    "    p::Float64\n",
    "    it::Vector{Bool}\n",
    "end\n",
    "TigerDistribution() = TigerDistribution(0.5, [true, false])\n",
    "POMDPs.iterator(d::TigerDistribution) = d.it"
   ]
  },
  {
   "cell_type": "markdown",
   "metadata": {},
   "source": [
    "We now define the ```pdf``` function. For a discrete problem, this function returns the probability of a given element (state or observation in our case)."
   ]
  },
  {
   "cell_type": "code",
   "execution_count": 12,
   "metadata": {
    "collapsed": false
   },
   "outputs": [],
   "source": [
    "# transition and observation pdf\n",
    "function POMDPs.pdf(d::TigerDistribution, so::Bool)\n",
    "    so ? (return d.p) : (return 1.0-d.p)\n",
    "end;"
   ]
  },
  {
   "cell_type": "markdown",
   "metadata": {},
   "source": [
    "Finally, let's create the sampling functions. "
   ]
  },
  {
   "cell_type": "code",
   "execution_count": 13,
   "metadata": {
    "collapsed": false
   },
   "outputs": [],
   "source": [
    "# samples from transition or observation distribution\n",
    "POMDPs.rand(rng::AbstractRNG, d::TigerDistribution) = rand(rng) <= d.p;"
   ]
  },
  {
   "cell_type": "markdown",
   "metadata": {},
   "source": [
    "This is all we have to do for our distribution functions!"
   ]
  },
  {
   "cell_type": "markdown",
   "metadata": {},
   "source": [
    "## Transition Model\n",
    "Here we define the transition model for the tiger POMDP. The model itself is fairly simple. Our state is represented by the location of the tiger (left or right). The location of the tiger doesn't change when the agent listens. However, after the agent opens the door, it reaches a terminal state. That is the agent either escapes or gets eaten. To simplify our formulation, we simply reset the location of the tiger randomly. We could model this problem with a terminal state (i.e. one in which the agent no longer receives reward) as well. "
   ]
  },
  {
   "cell_type": "code",
   "execution_count": 14,
   "metadata": {
    "collapsed": false
   },
   "outputs": [],
   "source": [
    "# Resets the problem after opening door; does nothing after listening\n",
    "function POMDPs.transition(pomdp::TigerPOMDP, s::Bool, a::Symbol)\n",
    "    d = TigerDistribution()\n",
    "    if a == :openl || a == :openr\n",
    "        d.p = 0.5\n",
    "    elseif s\n",
    "        d.p = 1.0\n",
    "    else\n",
    "        d.p = 0.0\n",
    "    end\n",
    "    d\n",
    "end;"
   ]
  },
  {
   "cell_type": "markdown",
   "metadata": {},
   "source": [
    "## Reward Model\n",
    "The reward model caputres the immediate objectives of the agent. It recieves a large negative reward for opening the door with the tiger behind it (-100), gets a positive reward for opening the other door (+10), and a small penalty for listening (-1)."
   ]
  },
  {
   "cell_type": "code",
   "execution_count": 15,
   "metadata": {
    "collapsed": false
   },
   "outputs": [],
   "source": [
    "# reward model\n",
    "function POMDPs.reward(pomdp::TigerPOMDP, s::Bool, a::Symbol)\n",
    "    r = 0.0\n",
    "    a == :listen ? (r+=pomdp.r_listen) : (nothing)\n",
    "    if a == :openl\n",
    "        s ? (r += pomdp.r_findtiger) : (r += pomdp.r_escapetiger)\n",
    "    end\n",
    "    if a == :openr\n",
    "        s ? (r += pomdp.r_escapetiger) : (r += pomdp.r_findtiger)\n",
    "    end\n",
    "    return r\n",
    "end\n",
    "POMDPs.reward(pomdp::TigerPOMDP, s::Bool, a::Symbol, sp::Bool) = reward(pomdp, s, a);"
   ]
  },
  {
   "cell_type": "markdown",
   "metadata": {},
   "source": [
    "## Observation Model\n",
    "The observation model captures the uncertaintiy in the agent's lsitening ability. When we listen, we receive a noisy measurement of the tiger's location. "
   ]
  },
  {
   "cell_type": "code",
   "execution_count": 16,
   "metadata": {
    "collapsed": false
   },
   "outputs": [],
   "source": [
    "# observation model\n",
    "function POMDPs.observation(pomdp::TigerPOMDP, a::Symbol, s::Bool)\n",
    "    d = TigerDistribution()\n",
    "    pc = pomdp.p_listen_correctly\n",
    "    if a == :listen\n",
    "        s ? (d.p = pc) : (d.p = 1.0-pc)\n",
    "    else\n",
    "        d.p = 0.5\n",
    "    end\n",
    "    d\n",
    "end;"
   ]
  },
  {
   "cell_type": "markdown",
   "metadata": {},
   "source": [
    "## Miscallenous Functions"
   ]
  },
  {
   "cell_type": "markdown",
   "metadata": {},
   "source": [
    "Let's define the ```discount``` function and the functions that return the size of our spaces."
   ]
  },
  {
   "cell_type": "code",
   "execution_count": 17,
   "metadata": {
    "collapsed": false
   },
   "outputs": [],
   "source": [
    "POMDPs.discount(pomdp::TigerPOMDP) = pomdp.discount_factor\n",
    "POMDPs.n_states(::TigerPOMDP) = 2\n",
    "POMDPs.n_actions(::TigerPOMDP) = 3\n",
    "POMDPs.n_observations(::TigerPOMDP) = 2;"
   ]
  },
  {
   "cell_type": "markdown",
   "metadata": {},
   "source": [
    "## Beliefs\n",
    "If you are somewhat familiar with Julia defining all of the above may have been relaitvely simple. However, all POMDPs must be represented with a belief. Implementing beliefs and their updaters can be tricky. Luckily, our solvers abstract away the belief updating. All you need to do is define a function that returns an initial distriubtion over states. This distribution needs to support ```pdf``` and ```rand``` function. We already defined a dsitribution like that, so our job here is simple!"
   ]
  },
  {
   "cell_type": "code",
   "execution_count": 18,
   "metadata": {
    "collapsed": false
   },
   "outputs": [],
   "source": [
    "POMDPs.initial_state_distribution(pomdp::TigerPOMDP) = TigerDistribution(0.5, [true, false]);"
   ]
  },
  {
   "cell_type": "markdown",
   "metadata": {},
   "source": [
    "If you are interested in creating your own beliefs and update schemes check out the [POMDPToolbox](https://github.com/JuliaPOMDP/POMDPToolbox.jl) module which implements a number of beliefs and udpate schemes."
   ]
  },
  {
   "cell_type": "markdown",
   "metadata": {},
   "source": [
    "## SARSOP Solver\n",
    "Let's play around with the [SARSOP.jl](https://github.com/sisl/SARSOP.jl) solver. The module we provide is a wrapper for the SARSOP backend. You can find more information about it [here](http://bigbird.comp.nus.edu.sg/pmwiki/farm/appl/)."
   ]
  },
  {
   "cell_type": "code",
   "execution_count": 19,
   "metadata": {
    "collapsed": false
   },
   "outputs": [
    {
     "name": "stdout",
     "output_type": "stream",
     "text": [
      "Generating a pomdpx file: model.pomdpx\n"
     ]
    },
    {
     "ename": "LoadError",
     "evalue": "could not spawn `'C:\\Users\\Maxime\\.julia\\v0.5\\SARSOP\\deps\\appl-0.96\\src\\pomdpsol' model.pomdpx --output out.policy`: no such file or directory (ENOENT)",
     "output_type": "error",
     "traceback": [
      "could not spawn `'C:\\Users\\Maxime\\.julia\\v0.5\\SARSOP\\deps\\appl-0.96\\src\\pomdpsol' model.pomdpx --output out.policy`: no such file or directory (ENOENT)",
      "",
      " in _jl_spawn(::String, ::Array{String,1}, ::Ptr{Void}, ::Base.Process, ::RawFD, ::RawFD, ::RawFD) at .\\process.jl:321",
      " in #414 at .\\process.jl:478 [inlined]",
      " in setup_stdio(::Base.##414#415{Cmd,Ptr{Void},Base.Process}, ::Tuple{RawFD,RawFD,RawFD}) at .\\process.jl:466",
      " in #spawn#413(::Nullable{Base.ProcessChain}, ::Function, ::Cmd, ::Tuple{RawFD,RawFD,RawFD}, ::Bool, ::Bool) at .\\process.jl:477",
      " in run at .\\process.jl:591 [inlined]",
      " in solve(::SARSOP.SARSOPSolver, ::TigerPOMDP, ::SARSOP.POMDPPolicy) at C:\\Users\\Maxime\\.julia\\v0.5\\SARSOP\\src\\solver.jl:96",
      " in solve(::SARSOP.SARSOPSolver, ::TigerPOMDP) at C:\\Users\\Maxime\\.julia\\v0.5\\SARSOP\\src\\solver.jl:94"
     ]
    }
   ],
   "source": [
    "using SARSOP # load the module\n",
    "# initialize our tiger POMDP\n",
    "pomdp = TigerPOMDP()\n",
    "\n",
    "# initialize the solver\n",
    "solver = SARSOPSolver()\n",
    "# run the solve function\n",
    "policy = solve(solver, pomdp)"
   ]
  },
  {
   "cell_type": "code",
   "execution_count": 20,
   "metadata": {
    "collapsed": false
   },
   "outputs": [
    {
     "ename": "LoadError",
     "evalue": "UndefVarError: policy not defined",
     "output_type": "error",
     "traceback": [
      "UndefVarError: policy not defined",
      ""
     ]
    }
   ],
   "source": [
    "# we can retrieve the alpha vectors by calling\n",
    "alphas(policy)"
   ]
  },
  {
   "cell_type": "markdown",
   "metadata": {},
   "source": [
    "Let's now see how our policy changes with the belief."
   ]
  },
  {
   "cell_type": "code",
   "execution_count": 21,
   "metadata": {
    "collapsed": false
   },
   "outputs": [
    {
     "data": {
      "text/plain": [
       "POMDPToolbox.DiscreteBelief([0.5,0.5])"
      ]
     },
     "execution_count": 21,
     "metadata": {},
     "output_type": "execute_result"
    }
   ],
   "source": [
    "# use POMDPToolbox for beliefs\n",
    "using POMDPToolbox\n",
    "\n",
    "# let's initialize the beliefs\n",
    "b = DiscreteBelief(2); # the initial prior"
   ]
  },
  {
   "cell_type": "code",
   "execution_count": 22,
   "metadata": {
    "collapsed": false
   },
   "outputs": [
    {
     "ename": "LoadError",
     "evalue": "UndefVarError: policy not defined",
     "output_type": "error",
     "traceback": [
      "UndefVarError: policy not defined",
      ""
     ]
    }
   ],
   "source": [
    "a = action(policy, b) # index of action, you need to convert this to the true action, support for automatic conversion is coming soon"
   ]
  },
  {
   "cell_type": "markdown",
   "metadata": {},
   "source": [
    "Let's simulate our policy. We'll use POMDPToolbox to do the simulation. As mentioned earlier, in a POMDP, the decision is based on a belief. However, each policy (comes from the solver modules) implements its own belief udpating scheme, so you do not need to worry about deling with beliefs. The only thing you need is to define an ```initial_state_distribution```. "
   ]
  },
  {
   "cell_type": "code",
   "execution_count": 23,
   "metadata": {
    "collapsed": false
   },
   "outputs": [
    {
     "ename": "LoadError",
     "evalue": "UndefVarError: policy not defined",
     "output_type": "error",
     "traceback": [
      "UndefVarError: policy not defined",
      ""
     ]
    }
   ],
   "source": [
    "using POMDPToolbox # for simulation\n",
    "\n",
    "pomdp = TigerPOMDP() # initialize problem\n",
    "init_dist = initial_state_distribution(pomdp) # initialize distriubtion over state\n",
    "\n",
    "up = updater(policy) # belief updater for our policy, SARSOP uses a discrete Bayesian filter\n",
    "hist = HistoryRecorder(max_steps=100, rng=MersenneTwister(1)) # history recorder that keeps track of states, observations and beliefs\n",
    "\n",
    "r = simulate(hist, pomdp, policy, up, init_dist)\n",
    "\n",
    "println(\"Total reward: $r\")"
   ]
  },
  {
   "cell_type": "markdown",
   "metadata": {},
   "source": [
    "Notice that over the first six time steps, the policy is fairly simple. We listen twice, and then decide which door to open. However, in the following steps, we get a mix of observations, which makes the decision harder. Our agent does not open a door, because its belief is still uniform at the last time step! "
   ]
  },
  {
   "cell_type": "markdown",
   "metadata": {},
   "source": [
    "## QMDP Solver\n",
    "We will briefly go over the [QMDP.jl](https://github.com/sisl/QMDP.jl) solver. You should use QMDP with a word of caution. QMDP assumes that all state uncetainty dissapears in the next time step. This could lead to bad policies in problems with information gathering actions. For example, in the tiger POMDP listening is an information gathering action, and the resulting QMDP policy is quite poor. However, QMDP can work very well in problems where the state uncertainity is not impacted by the agent's action (for example systems with noisy sensor measurements)."
   ]
  },
  {
   "cell_type": "code",
   "execution_count": 24,
   "metadata": {
    "collapsed": false
   },
   "outputs": [
    {
     "name": "stdout",
     "output_type": "stream",
     "text": [
      "Iteration : 1, residual: 14.75, iteration run-time: 1.5802e-5, total run-time: 1.5802e-5\n",
      "Iteration : 2, residual: 12.59046875, iteration run-time: 7.901e-6, total run-time: 2.3703e-5\n",
      "Iteration : 3, residual: 11.564691406249999, iteration run-time: 3.556e-6, total run-time: 2.7259e-5\n",
      "Iteration : 4, residual: 10.943236428222654, iteration run-time: 2.765e-6, total run-time: 3.0024000000000003e-5\n",
      "Iteration : 5, residual: 10.2558588273941, iteration run-time: 2.371e-6, total run-time: 3.2395000000000004e-5\n",
      "Iteration : 6, residual: 9.587976314837448, iteration run-time: 1.976e-6, total run-time: 3.437100000000001e-5\n",
      "Iteration : 7, residual: 8.957886507199987, iteration run-time: 1.975e-6, total run-time: 3.634600000000001e-5\n",
      "Iteration : 8, residual: 8.367828168991792, iteration run-time: 2.371e-6, total run-time: 3.871700000000001e-5\n",
      "Iteration : 9, residual: 7.816304847983972, iteration run-time: 1.976e-6, total run-time: 4.069300000000001e-5\n",
      "Iteration : 10, residual: 7.301052156282381, iteration run-time: 2.371e-6, total run-time: 4.306400000000001e-5\n",
      "Iteration : 11, residual: 6.8197456599030915, iteration run-time: 1.975e-6, total run-time: 4.5039000000000014e-5\n",
      "Iteration : 12, residual: 6.370163598662359, iteration run-time: 2.371e-6, total run-time: 4.7410000000000015e-5\n",
      "Iteration : 13, residual: 5.9502184661618, iteration run-time: 2.371e-6, total run-time: 4.978100000000002e-5\n",
      "Iteration : 14, residual: 5.557957422333274, iteration run-time: 1.976e-6, total run-time: 5.175700000000002e-5\n",
      "Iteration : 15, residual: 5.191555653202798, iteration run-time: 2.37e-6, total run-time: 5.412700000000002e-5\n",
      "Iteration : 16, residual: 4.849308471382614, iteration run-time: 1.975e-6, total run-time: 5.610200000000002e-5\n",
      "Iteration : 17, residual: 4.529623527415282, iteration run-time: 1.975e-6, total run-time: 5.807700000000002e-5\n",
      "Iteration : 18, residual: 4.231013435561891, iteration run-time: 2.37e-6, total run-time: 6.044700000000002e-5\n",
      "Iteration : 19, residual: 3.9520888618093863, iteration run-time: 1.975e-6, total run-time: 6.242200000000002e-5\n",
      "Iteration : 20, residual: 3.6915520617660036, iteration run-time: 1.975e-6, total run-time: 6.439700000000001e-5\n",
      "Iteration : 21, residual: 3.448190843167879, iteration run-time: 1.975e-6, total run-time: 6.637200000000001e-5\n",
      "Iteration : 22, residual: 3.2208729260632936, iteration run-time: 1.975e-6, total run-time: 6.8347e-5\n",
      "Iteration : 23, residual: 3.00854067471343, iteration run-time: 1.975e-6, total run-time: 7.0322e-5\n",
      "Iteration : 24, residual: 2.8102061767669397, iteration run-time: 1.975e-6, total run-time: 7.229699999999999e-5\n",
      "Iteration : 25, residual: 2.624946646829443, iteration run-time: 1.975e-6, total run-time: 7.427199999999998e-5\n",
      "Iteration : 26, residual: 2.451900133045797, iteration run-time: 2.37e-6, total run-time: 7.664199999999999e-5\n",
      "Iteration : 27, residual: 2.290261506721066, iteration run-time: 1.975e-6, total run-time: 7.861699999999998e-5\n",
      "Iteration : 28, residual: 2.13927871632049, iteration run-time: 1.975e-6, total run-time: 8.059199999999998e-5\n",
      "Iteration : 29, residual: 1.9982492884203396, iteration run-time: 1.975e-6, total run-time: 8.256699999999997e-5\n",
      "Iteration : 30, residual: 1.866517059329368, iteration run-time: 2.765e-6, total run-time: 8.533199999999998e-5\n",
      "Iteration : 31, residual: 1.7434691221742469, iteration run-time: 1.975e-6, total run-time: 8.730699999999997e-5\n",
      "Iteration : 32, residual: 1.628532975244866, iteration run-time: 2.37e-6, total run-time: 8.967699999999998e-5\n",
      "Iteration : 33, residual: 1.5211738583317356, iteration run-time: 2.37e-6, total run-time: 9.204699999999998e-5\n",
      "Iteration : 34, residual: 1.4208922646616031, iteration run-time: 1.976e-6, total run-time: 9.402299999999998e-5\n",
      "Iteration : 35, residual: 1.32722161685669, iteration run-time: 1.975e-6, total run-time: 9.599799999999997e-5\n",
      "Iteration : 36, residual: 1.2397260961028849, iteration run-time: 1.975e-6, total run-time: 9.797299999999996e-5\n",
      "Iteration : 37, residual: 1.1579986144276404, iteration run-time: 1.976e-6, total run-time: 9.994899999999996e-5\n",
      "Iteration : 38, residual: 1.0816589206533251, iteration run-time: 2.765e-6, total run-time: 0.00010271399999999997\n",
      "Iteration : 39, residual: 1.0103518312128017, iteration run-time: 1.975e-6, total run-time: 0.00010468899999999996\n",
      "Iteration : 40, residual: 0.9437455775971557, iteration run-time: 2.37e-6, total run-time: 0.00010705899999999997\n",
      "Iteration : 41, residual: 0.8815302627452866, iteration run-time: 1.975e-6, total run-time: 0.00010903399999999996\n",
      "Iteration : 42, residual: 0.8234164191945297, iteration run-time: 2.37e-6, total run-time: 0.00011140399999999997\n",
      "Iteration : 43, residual: 0.7691336622836786, iteration run-time: 1.975e-6, total run-time: 0.00011337899999999996\n",
      "Iteration : 44, residual: 0.7184294321414484, iteration run-time: 1.975e-6, total run-time: 0.00011535399999999995\n",
      "Iteration : 45, residual: 0.6710678186085772, iteration run-time: 1.975e-6, total run-time: 0.00011732899999999995\n",
      "Iteration : 46, residual: 0.6268284636247756, iteration run-time: 1.976e-6, total run-time: 0.00011930499999999994\n",
      "Iteration : 47, residual: 0.5855055359753294, iteration run-time: 1.975e-6, total run-time: 0.00012127999999999994\n",
      "Iteration : 48, residual: 0.5469067736256363, iteration run-time: 1.976e-6, total run-time: 0.00012325599999999995\n",
      "Iteration : 49, residual: 0.5108525891891986, iteration run-time: 1.976e-6, total run-time: 0.00012523199999999994\n",
      "Iteration : 50, residual: 0.4771752343663138, iteration run-time: 1.975e-6, total run-time: 0.00012720699999999995\n"
     ]
    },
    {
     "data": {
      "text/plain": [
       "QMDP.QMDPPolicy([193.239 83.2389 182.124; 83.4656 193.466 182.354],Any[:openl,:openr,:listen],TigerPOMDP(-1.0,-100.0,10.0,0.85,0.95))"
      ]
     },
     "execution_count": 24,
     "metadata": {},
     "output_type": "execute_result"
    }
   ],
   "source": [
    "using QMDP\n",
    "\n",
    "# initialize the solver\n",
    "# key-word args are the maximum number of iterations the solver will run for, and the Bellman tolerance\n",
    "solver = QMDPSolver(max_iterations=50, tolerance=1e-3) \n",
    "\n",
    "# run the solver\n",
    "qmdp_policy = solve(solver, pomdp, verbose=true)"
   ]
  },
  {
   "cell_type": "code",
   "execution_count": 25,
   "metadata": {
    "collapsed": false
   },
   "outputs": [
    {
     "data": {
      "text/plain": [
       "2×3 Array{Float64,2}:\n",
       " 193.239    83.2389  182.124\n",
       "  83.4656  193.466   182.354"
      ]
     },
     "execution_count": 25,
     "metadata": {},
     "output_type": "execute_result"
    }
   ],
   "source": [
    "qmdp_policy.alphas"
   ]
  },
  {
   "cell_type": "markdown",
   "metadata": {},
   "source": [
    "Notice that these alpha-vectors differ from those compute by SARSOP. Let's see how the policy looks in simulation. We'll use the same procedure to simulate the QMDP policy. "
   ]
  },
  {
   "cell_type": "code",
   "execution_count": 26,
   "metadata": {
    "collapsed": false
   },
   "outputs": [
    {
     "name": "stdout",
     "output_type": "stream",
     "text": [
      "Total reward: POMDPToolbox.POMDPHistory{Bool,Symbol,Bool,POMDPToolbox.DiscreteBelief}(Bool[true,true,true,true,true,true,true,true,true,true,true,true,true,true,false,false,false,false,false,false,false,false,false,false,false,false,true,true,true,true,true,true,true,true,true,true,true,false,false,false,false,false,false,true,true,true,true,true,true,false,false,false,false,false,false,false,false,false,false,false,false,true,true,true,true,true,false,false,false,false,false,false,false,false,false,false,false,false,false,false,false,false,false,false,false,false,false,false,false,true,true,true,false,false,false,false,false,false,false,false,false],Symbol[:listen,:listen,:openr,:listen,:listen,:openr,:listen,:listen,:openr,:listen,:listen,:listen,:listen,:openr,:listen,:listen,:listen,:listen,:listen,:listen,:openl,:listen,:listen,:listen,:listen,:openl,:listen,:listen,:openr,:listen,:listen,:openr,:listen,:listen,:listen,:listen,:openr,:listen,:listen,:openl,:listen,:listen,:openl,:listen,:listen,:openr,:listen,:listen,:openr,:listen,:listen,:listen,:listen,:listen,:listen,:openl,:listen,:listen,:listen,:listen,:openl,:listen,:listen,:listen,:listen,:openl,:listen,:listen,:openl,:listen,:listen,:openl,:listen,:listen,:openl,:listen,:listen,:listen,:listen,:listen,:listen,:openl,:listen,:listen,:listen,:listen,:listen,:listen,:openl,:listen,:listen,:openr,:listen,:listen,:openl,:listen,:listen,:openl,:listen,:listen],Bool[true,true,false,true,true,true,true,true,true,true,false,true,true,true,false,true,true,false,false,false,false,true,false,false,false,false,true,true,false,true,true,false,true,false,true,true,false,false,false,false,false,false,true,true,true,true,true,true,false,true,false,true,false,false,false,true,false,true,false,false,false,true,false,false,false,true,false,false,false,false,false,true,false,false,false,true,false,true,false,false,false,true,true,false,false,true,false,false,true,true,true,false,false,false,false,false,false,true,false,false],POMDPToolbox.DiscreteBelief[POMDPToolbox.DiscreteBelief([0.5,0.5]),POMDPToolbox.DiscreteBelief([0.15,0.85]),POMDPToolbox.DiscreteBelief([0.0302013,0.969799]),POMDPToolbox.DiscreteBelief([0.5,0.5]),POMDPToolbox.DiscreteBelief([0.15,0.85]),POMDPToolbox.DiscreteBelief([0.0302013,0.969799]),POMDPToolbox.DiscreteBelief([0.5,0.5]),POMDPToolbox.DiscreteBelief([0.15,0.85]),POMDPToolbox.DiscreteBelief([0.0302013,0.969799]),POMDPToolbox.DiscreteBelief([0.5,0.5]),POMDPToolbox.DiscreteBelief([0.15,0.85]),POMDPToolbox.DiscreteBelief([0.5,0.5]),POMDPToolbox.DiscreteBelief([0.15,0.85]),POMDPToolbox.DiscreteBelief([0.0302013,0.969799]),POMDPToolbox.DiscreteBelief([0.5,0.5]),POMDPToolbox.DiscreteBelief([0.85,0.15]),POMDPToolbox.DiscreteBelief([0.5,0.5]),POMDPToolbox.DiscreteBelief([0.15,0.85]),POMDPToolbox.DiscreteBelief([0.5,0.5]),POMDPToolbox.DiscreteBelief([0.85,0.15]),POMDPToolbox.DiscreteBelief([0.969799,0.0302013]),POMDPToolbox.DiscreteBelief([0.5,0.5]),POMDPToolbox.DiscreteBelief([0.15,0.85]),POMDPToolbox.DiscreteBelief([0.5,0.5]),POMDPToolbox.DiscreteBelief([0.85,0.15]),POMDPToolbox.DiscreteBelief([0.969799,0.0302013]),POMDPToolbox.DiscreteBelief([0.5,0.5]),POMDPToolbox.DiscreteBelief([0.15,0.85]),POMDPToolbox.DiscreteBelief([0.0302013,0.969799]),POMDPToolbox.DiscreteBelief([0.5,0.5]),POMDPToolbox.DiscreteBelief([0.15,0.85]),POMDPToolbox.DiscreteBelief([0.0302013,0.969799]),POMDPToolbox.DiscreteBelief([0.5,0.5]),POMDPToolbox.DiscreteBelief([0.15,0.85]),POMDPToolbox.DiscreteBelief([0.5,0.5]),POMDPToolbox.DiscreteBelief([0.15,0.85]),POMDPToolbox.DiscreteBelief([0.0302013,0.969799]),POMDPToolbox.DiscreteBelief([0.5,0.5]),POMDPToolbox.DiscreteBelief([0.85,0.15]),POMDPToolbox.DiscreteBelief([0.969799,0.0302013]),POMDPToolbox.DiscreteBelief([0.5,0.5]),POMDPToolbox.DiscreteBelief([0.85,0.15]),POMDPToolbox.DiscreteBelief([0.969799,0.0302013]),POMDPToolbox.DiscreteBelief([0.5,0.5]),POMDPToolbox.DiscreteBelief([0.15,0.85]),POMDPToolbox.DiscreteBelief([0.0302013,0.969799]),POMDPToolbox.DiscreteBelief([0.5,0.5]),POMDPToolbox.DiscreteBelief([0.15,0.85]),POMDPToolbox.DiscreteBelief([0.0302013,0.969799]),POMDPToolbox.DiscreteBelief([0.5,0.5]),POMDPToolbox.DiscreteBelief([0.15,0.85]),POMDPToolbox.DiscreteBelief([0.5,0.5]),POMDPToolbox.DiscreteBelief([0.15,0.85]),POMDPToolbox.DiscreteBelief([0.5,0.5]),POMDPToolbox.DiscreteBelief([0.85,0.15]),POMDPToolbox.DiscreteBelief([0.969799,0.0302013]),POMDPToolbox.DiscreteBelief([0.5,0.5]),POMDPToolbox.DiscreteBelief([0.85,0.15]),POMDPToolbox.DiscreteBelief([0.5,0.5]),POMDPToolbox.DiscreteBelief([0.85,0.15]),POMDPToolbox.DiscreteBelief([0.969799,0.0302013]),POMDPToolbox.DiscreteBelief([0.5,0.5]),POMDPToolbox.DiscreteBelief([0.15,0.85]),POMDPToolbox.DiscreteBelief([0.5,0.5]),POMDPToolbox.DiscreteBelief([0.85,0.15]),POMDPToolbox.DiscreteBelief([0.969799,0.0302013]),POMDPToolbox.DiscreteBelief([0.5,0.5]),POMDPToolbox.DiscreteBelief([0.85,0.15]),POMDPToolbox.DiscreteBelief([0.969799,0.0302013]),POMDPToolbox.DiscreteBelief([0.5,0.5]),POMDPToolbox.DiscreteBelief([0.85,0.15]),POMDPToolbox.DiscreteBelief([0.969799,0.0302013]),POMDPToolbox.DiscreteBelief([0.5,0.5]),POMDPToolbox.DiscreteBelief([0.85,0.15]),POMDPToolbox.DiscreteBelief([0.969799,0.0302013]),POMDPToolbox.DiscreteBelief([0.5,0.5]),POMDPToolbox.DiscreteBelief([0.15,0.85]),POMDPToolbox.DiscreteBelief([0.5,0.5]),POMDPToolbox.DiscreteBelief([0.15,0.85]),POMDPToolbox.DiscreteBelief([0.5,0.5]),POMDPToolbox.DiscreteBelief([0.85,0.15]),POMDPToolbox.DiscreteBelief([0.969799,0.0302013]),POMDPToolbox.DiscreteBelief([0.5,0.5]),POMDPToolbox.DiscreteBelief([0.15,0.85]),POMDPToolbox.DiscreteBelief([0.5,0.5]),POMDPToolbox.DiscreteBelief([0.85,0.15]),POMDPToolbox.DiscreteBelief([0.5,0.5]),POMDPToolbox.DiscreteBelief([0.85,0.15]),POMDPToolbox.DiscreteBelief([0.969799,0.0302013]),POMDPToolbox.DiscreteBelief([0.5,0.5]),POMDPToolbox.DiscreteBelief([0.15,0.85]),POMDPToolbox.DiscreteBelief([0.0302013,0.969799]),POMDPToolbox.DiscreteBelief([0.5,0.5]),POMDPToolbox.DiscreteBelief([0.85,0.15]),POMDPToolbox.DiscreteBelief([0.969799,0.0302013]),POMDPToolbox.DiscreteBelief([0.5,0.5]),POMDPToolbox.DiscreteBelief([0.85,0.15]),POMDPToolbox.DiscreteBelief([0.969799,0.0302013]),POMDPToolbox.DiscreteBelief([0.5,0.5]),POMDPToolbox.DiscreteBelief([0.85,0.15]),POMDPToolbox.DiscreteBelief([0.969799,0.0302013])],[-1.0,-1.0,10.0,-1.0,-1.0,10.0,-1.0,-1.0,10.0,-1.0,-1.0,-1.0,-1.0,10.0,-1.0,-1.0,-1.0,-1.0,-1.0,-1.0,10.0,-1.0,-1.0,-1.0,-1.0,10.0,-1.0,-1.0,10.0,-1.0,-1.0,10.0,-1.0,-1.0,-1.0,-1.0,10.0,-1.0,-1.0,10.0,-1.0,-1.0,10.0,-1.0,-1.0,10.0,-1.0,-1.0,10.0,-1.0,-1.0,-1.0,-1.0,-1.0,-1.0,10.0,-1.0,-1.0,-1.0,-1.0,10.0,-1.0,-1.0,-1.0,-1.0,-100.0,-1.0,-1.0,10.0,-1.0,-1.0,10.0,-1.0,-1.0,10.0,-1.0,-1.0,-1.0,-1.0,-1.0,-1.0,10.0,-1.0,-1.0,-1.0,-1.0,-1.0,-1.0,10.0,-1.0,-1.0,10.0,-1.0,-1.0,10.0,-1.0,-1.0,10.0,-1.0,-1.0],0.95,Nullable{Exception}(),Nullable{Any}())\n"
     ]
    }
   ],
   "source": [
    "pomdp = TigerPOMDP() # initialize problem\n",
    "init_dist = initial_state_distribution(pomdp) # initialize distriubtion over state\n",
    "\n",
    "up = updater(qmdp_policy) # belief updater for our policy\n",
    "hist = HistoryRecorder(max_steps=100, rng=MersenneTwister(1)) # history recorder that keeps track of states, observations and beliefs\n",
    "\n",
    "r = simulate(hist, pomdp, qmdp_policy, up, init_dist)\n",
    "\n",
    "println(\"Total reward: $r\")"
   ]
  },
  {
   "cell_type": "markdown",
   "metadata": {},
   "source": [
    "The results are identical for this single simulation for this particular problem. In general, if you are dealing with a complex problem, it is good to compare the SARSOP and QMDP policies. This framework makes comparing the two policies very simple once you have defined the problem! "
   ]
  }
 ],
 "metadata": {
  "anaconda-cloud": {},
  "kernelspec": {
   "display_name": "Julia 0.5.0",
   "language": "julia",
   "name": "julia-0.5"
  },
  "language_info": {
   "file_extension": ".jl",
   "mimetype": "application/julia",
   "name": "julia",
   "version": "0.5.0"
  }
 },
 "nbformat": 4,
 "nbformat_minor": 0
}
